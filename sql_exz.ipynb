{
 "cells": [
  {
   "cell_type": "markdown",
   "id": "06c1a80b",
   "metadata": {},
   "source": [
    "# №1"
   ]
  },
  {
   "cell_type": "code",
   "execution_count": 17,
   "id": "c9ef07c0",
   "metadata": {},
   "outputs": [
    {
     "data": {
      "text/plain": [
       "<sqlite3.Cursor at 0x17efc3bd8c0>"
      ]
     },
     "execution_count": 17,
     "metadata": {},
     "output_type": "execute_result"
    }
   ],
   "source": [
    "import sqlite3\n",
    "\n",
    "db = sqlite3.connect('exzam.db')\n",
    "cur = db.cursor()\n",
    "cur.execute('PRAGMA foreign_keys = 1')"
   ]
  },
  {
   "cell_type": "code",
   "execution_count": 19,
   "id": "59cd0b52",
   "metadata": {},
   "outputs": [
    {
     "data": {
      "text/plain": [
       "<sqlite3.Cursor at 0x17efc3bd8c0>"
      ]
     },
     "execution_count": 19,
     "metadata": {},
     "output_type": "execute_result"
    }
   ],
   "source": [
    "cur.execute(''' CREATE TABLE stat (\n",
    "id INTEGER PRIMARY KEY,\n",
    "status TEXT NOT NULL      \n",
    ")\n",
    "''') #FOREIGN KEY (genre_id) REFERENCES genre (id) #balance"
   ]
  },
  {
   "cell_type": "code",
   "execution_count": 20,
   "id": "914d0ec6",
   "metadata": {},
   "outputs": [
    {
     "data": {
      "text/plain": [
       "<sqlite3.Cursor at 0x17efc3bd8c0>"
      ]
     },
     "execution_count": 20,
     "metadata": {},
     "output_type": "execute_result"
    }
   ],
   "source": [
    "cur.execute(\"INSERT INTO stat(status) VALUES('стандарт')\")\n",
    "cur.execute(\"INSERT INTO stat(status) VALUES('Вип')\")"
   ]
  },
  {
   "cell_type": "code",
   "execution_count": 24,
   "id": "7c4fbd34",
   "metadata": {
    "scrolled": true
   },
   "outputs": [
    {
     "data": {
      "text/plain": [
       "<sqlite3.Cursor at 0x17efc3bd8c0>"
      ]
     },
     "execution_count": 24,
     "metadata": {},
     "output_type": "execute_result"
    }
   ],
   "source": [
    "cur.execute(''' CREATE TABLE baza (\n",
    "id INTEGER PRIMARY KEY,\n",
    "fio TEXT NOT NULL,\n",
    "city_reg TEXT NOT NULL,\n",
    "status_id INTEGER NOT NULL,\n",
    "account_num INTEGER NOT NULL,\n",
    "money INTEGER NOT NULL,\n",
    "FOREIGN KEY (status_id) REFERENCES stat (id)\n",
    ")\n",
    "''')"
   ]
  },
  {
   "cell_type": "code",
   "execution_count": 27,
   "id": "60290a07",
   "metadata": {},
   "outputs": [],
   "source": [
    "data = [\n",
    "('Васичкин Иван Иванович', 'Москва', 1, 118834123, 20105),\n",
    "('Васильев Сергей Иванович', 'Татарстан', 2, 119835143, 1105),\n",
    "('Смирнов Вячеслав Сергеевич', 'Новосибирск', 1, 11556146, 7105)\n",
    "]"
   ]
  },
  {
   "cell_type": "code",
   "execution_count": 28,
   "id": "3371f810",
   "metadata": {},
   "outputs": [
    {
     "data": {
      "text/plain": [
       "<sqlite3.Cursor at 0x17efc3bd8c0>"
      ]
     },
     "execution_count": 28,
     "metadata": {},
     "output_type": "execute_result"
    }
   ],
   "source": [
    "cur.executemany(\"INSERT INTO baza(fio,city_reg,status_id,account_num,money) VALUES (?,?,?,?,?)\",data)"
   ]
  },
  {
   "cell_type": "code",
   "execution_count": 29,
   "id": "2b950ac7",
   "metadata": {},
   "outputs": [],
   "source": [
    "db.commit()\n",
    "cur.close()\n",
    "db.close()"
   ]
  },
  {
   "cell_type": "markdown",
   "id": "00cabf86",
   "metadata": {},
   "source": [
    "# №2"
   ]
  },
  {
   "cell_type": "markdown",
   "id": "e47cc6b8",
   "metadata": {},
   "source": [
    "Выведет id 1,5 но проверим"
   ]
  },
  {
   "cell_type": "code",
   "execution_count": 6,
   "id": "f32b36d6",
   "metadata": {},
   "outputs": [
    {
     "data": {
      "text/plain": [
       "<sqlite3.Cursor at 0x17efc3bdac0>"
      ]
     },
     "execution_count": 6,
     "metadata": {},
     "output_type": "execute_result"
    }
   ],
   "source": [
    "import sqlite3\n",
    "\n",
    "db = sqlite3.connect('exzam.db')\n",
    "cur = db.cursor()\n",
    "cur.execute('PRAGMA foreign_keys = 1')"
   ]
  },
  {
   "cell_type": "code",
   "execution_count": 7,
   "id": "6f9ae443",
   "metadata": {},
   "outputs": [
    {
     "data": {
      "text/plain": [
       "<sqlite3.Cursor at 0x17efc3bdac0>"
      ]
     },
     "execution_count": 7,
     "metadata": {},
     "output_type": "execute_result"
    }
   ],
   "source": [
    "# cur.execute(''' CREATE TABLE user (\n",
    "# id INTEGER PRIMARY KEY,\n",
    "# nick TEXT NOT NULL,\n",
    "# balance INTEGER NOT NULL,\n",
    "# email TEXT NOT NULL\n",
    "# )\n",
    "# ''')"
   ]
  },
  {
   "cell_type": "code",
   "execution_count": 8,
   "id": "47f2f056",
   "metadata": {},
   "outputs": [],
   "source": [
    "data = [\n",
    "('Vasy', 1006, 'vasvas@mail.ru'),\n",
    "('Nikitos', 1100, 'nika@mail.ru'),\n",
    "('Marishka', 1000, 'marisha@yandex.ru'),\n",
    "('Alexandr', 1014, 'alexAleks@mail.ru'),\n",
    "('Serg', 909, 'sergserg@yandex.ru'),\n",
    "('Julia', 710, 'juliaur@yandex.ru')\n",
    "]"
   ]
  },
  {
   "cell_type": "code",
   "execution_count": 9,
   "id": "f75ec749",
   "metadata": {},
   "outputs": [
    {
     "data": {
      "text/plain": [
       "<sqlite3.Cursor at 0x17efc3bdac0>"
      ]
     },
     "execution_count": 9,
     "metadata": {},
     "output_type": "execute_result"
    }
   ],
   "source": [
    "cur.executemany(\"INSERT INTO user(nick,balance,email) VALUES (?,?,?)\",data)"
   ]
  },
  {
   "cell_type": "code",
   "execution_count": 10,
   "id": "11517bcc",
   "metadata": {},
   "outputs": [
    {
     "data": {
      "text/plain": [
       "[('Vasy',), ('Alexandr',)]"
      ]
     },
     "execution_count": 10,
     "metadata": {},
     "output_type": "execute_result"
    }
   ],
   "source": [
    "cur.execute(\"SELECT nick FROM user WHERE nick LIKE '%a%' AND balance > 1000\")\n",
    "cur.fetchall()"
   ]
  },
  {
   "cell_type": "code",
   "execution_count": 11,
   "id": "7e1b5414",
   "metadata": {},
   "outputs": [],
   "source": [
    "db.commit()\n",
    "cur.close()\n",
    "db.close()"
   ]
  },
  {
   "cell_type": "markdown",
   "id": "f6329309",
   "metadata": {},
   "source": [
    "# №3"
   ]
  },
  {
   "cell_type": "code",
   "execution_count": 12,
   "id": "4fcf8f12",
   "metadata": {
    "scrolled": true
   },
   "outputs": [
    {
     "data": {
      "text/plain": [
       "<sqlite3.Cursor at 0x17efc3bdbc0>"
      ]
     },
     "execution_count": 12,
     "metadata": {},
     "output_type": "execute_result"
    }
   ],
   "source": [
    "import sqlite3\n",
    "\n",
    "db = sqlite3.connect('exam2023.db')\n",
    "cur = db.cursor()\n",
    "cur.execute('PRAGMA foreign_keys = 1')"
   ]
  },
  {
   "cell_type": "code",
   "execution_count": 13,
   "id": "23dedbe8",
   "metadata": {},
   "outputs": [
    {
     "data": {
      "text/plain": [
       "[(617515,)]"
      ]
     },
     "execution_count": 13,
     "metadata": {},
     "output_type": "execute_result"
    }
   ],
   "source": [
    "cur.execute(\"SELECT population FROM city WHERE name = 'Иркутск'\")\n",
    "cur.fetchall()"
   ]
  },
  {
   "cell_type": "code",
   "execution_count": 14,
   "id": "51f15e87",
   "metadata": {},
   "outputs": [],
   "source": [
    "cur.execute(\"SELECT name FROM city WHERE population < (SELECT population FROM city WHERE name = 'Иркутск')\")\n",
    "result = cur.fetchall()"
   ]
  },
  {
   "cell_type": "code",
   "execution_count": 15,
   "id": "408f81c3",
   "metadata": {},
   "outputs": [
    {
     "data": {
      "text/plain": [
       "[('Хабаровск',),\n",
       " ('Владивосток',),\n",
       " ('Оренбург',),\n",
       " ('Томск',),\n",
       " ('Кемерово',),\n",
       " ('Липецк',),\n",
       " ('Улан-хото',),\n",
       " ('Хотан',),\n",
       " ('Хуалянь',),\n",
       " ('Лион',),\n",
       " ('Тулуза',),\n",
       " ('Ницца',),\n",
       " ('Нант',),\n",
       " ('Страсбург',),\n",
       " ('Монпелье',),\n",
       " ('Бордо',),\n",
       " ('Лилль',),\n",
       " ('Ренн',),\n",
       " ('Реймс',),\n",
       " ('Гавр',),\n",
       " ('Тулон',),\n",
       " ('Лейпциг',),\n",
       " ('Дортмунд',),\n",
       " ('Эссен',),\n",
       " ('Бремен',),\n",
       " ('Дрезден',),\n",
       " ('Ганновер',),\n",
       " ('Нюрнберг',),\n",
       " ('Абу-Даби',),\n",
       " ('Шарджа',),\n",
       " ('Эль-Айн',),\n",
       " ('Аджман',),\n",
       " ('Рас-эль-Хайма',),\n",
       " ('Эль-Фуджайра',),\n",
       " ('Умм-эль-Кайвайн',),\n",
       " ('Хаур-Факкан',),\n",
       " ('Джабаль-Али',),\n",
       " ('Дибба Эль-Фуджайра',),\n",
       " ('Мадинат-Зайед',),\n",
       " ('Дибба Эль-Хисн',),\n",
       " ('Генуя',),\n",
       " ('Болонья',),\n",
       " ('Фроленция',),\n",
       " ('Бари',),\n",
       " ('Катания',),\n",
       " ('Венеция',),\n",
       " ('Верона',),\n",
       " ('Мессина',),\n",
       " ('Падуя',),\n",
       " ('Триест',),\n",
       " ('Таранто',),\n",
       " ('Парма',),\n",
       " ('Римини',)]"
      ]
     },
     "execution_count": 15,
     "metadata": {},
     "output_type": "execute_result"
    }
   ],
   "source": [
    "result"
   ]
  },
  {
   "cell_type": "code",
   "execution_count": 16,
   "id": "37decd22",
   "metadata": {},
   "outputs": [
    {
     "data": {
      "text/plain": [
       "53"
      ]
     },
     "execution_count": 16,
     "metadata": {},
     "output_type": "execute_result"
    }
   ],
   "source": [
    "len(result)"
   ]
  },
  {
   "cell_type": "code",
   "execution_count": null,
   "id": "96e10e19",
   "metadata": {},
   "outputs": [],
   "source": []
  },
  {
   "cell_type": "code",
   "execution_count": null,
   "id": "81fc4454",
   "metadata": {},
   "outputs": [],
   "source": []
  },
  {
   "cell_type": "code",
   "execution_count": 42,
   "id": "8f82135d",
   "metadata": {},
   "outputs": [
    {
     "data": {
      "text/plain": [
       "[('Хабаровск', 'Россия'),\n",
       " ('Владивосток', 'Россия'),\n",
       " ('Оренбург', 'Россия'),\n",
       " ('Томск', 'Россия'),\n",
       " ('Кемерово', 'Россия'),\n",
       " ('Липецк', 'Россия'),\n",
       " ('Улан-хото', 'Китай'),\n",
       " ('Хотан', 'Китай'),\n",
       " ('Хуалянь', 'Китай'),\n",
       " ('Лион', 'Франция'),\n",
       " ('Тулуза', 'Франция'),\n",
       " ('Ницца', 'Франция'),\n",
       " ('Нант', 'Франция'),\n",
       " ('Страсбург', 'Франция'),\n",
       " ('Монпелье', 'Франция'),\n",
       " ('Бордо', 'Франция'),\n",
       " ('Лилль', 'Франция'),\n",
       " ('Ренн', 'Франция'),\n",
       " ('Реймс', 'Франция'),\n",
       " ('Гавр', 'Франция'),\n",
       " ('Тулон', 'Франция'),\n",
       " ('Лейпциг', 'Германия'),\n",
       " ('Дортмунд', 'Германия'),\n",
       " ('Эссен', 'Германия'),\n",
       " ('Бремен', 'Германия'),\n",
       " ('Дрезден', 'Германия'),\n",
       " ('Ганновер', 'Германия'),\n",
       " ('Нюрнберг', 'Германия'),\n",
       " ('Абу-Даби', 'Объединенные Арабские Эмираты'),\n",
       " ('Шарджа', 'Объединенные Арабские Эмираты'),\n",
       " ('Эль-Айн', 'Объединенные Арабские Эмираты'),\n",
       " ('Аджман', 'Объединенные Арабские Эмираты'),\n",
       " ('Рас-эль-Хайма', 'Объединенные Арабские Эмираты'),\n",
       " ('Эль-Фуджайра', 'Объединенные Арабские Эмираты'),\n",
       " ('Умм-эль-Кайвайн', 'Объединенные Арабские Эмираты'),\n",
       " ('Хаур-Факкан', 'Объединенные Арабские Эмираты'),\n",
       " ('Джабаль-Али', 'Объединенные Арабские Эмираты'),\n",
       " ('Дибба Эль-Фуджайра', 'Объединенные Арабские Эмираты'),\n",
       " ('Мадинат-Зайед', 'Объединенные Арабские Эмираты'),\n",
       " ('Дибба Эль-Хисн', 'Объединенные Арабские Эмираты'),\n",
       " ('Генуя', 'Италия'),\n",
       " ('Болонья', 'Италия'),\n",
       " ('Фроленция', 'Италия'),\n",
       " ('Бари', 'Италия'),\n",
       " ('Катания', 'Италия'),\n",
       " ('Венеция', 'Италия'),\n",
       " ('Верона', 'Италия'),\n",
       " ('Мессина', 'Италия'),\n",
       " ('Падуя', 'Италия'),\n",
       " ('Триест', 'Италия'),\n",
       " ('Таранто', 'Италия'),\n",
       " ('Парма', 'Италия'),\n",
       " ('Римини', 'Италия')]"
      ]
     },
     "execution_count": 42,
     "metadata": {},
     "output_type": "execute_result"
    }
   ],
   "source": [
    "cur.execute(\"SELECT name,(SELECT name FROM country WHERE id = id_country) FROM city WHERE population < (SELECT population FROM city WHERE name = 'Иркутск')\")\n",
    "result = cur.fetchall()\n",
    "result"
   ]
  },
  {
   "cell_type": "code",
   "execution_count": null,
   "id": "67f27913",
   "metadata": {},
   "outputs": [],
   "source": []
  }
 ],
 "metadata": {
  "kernelspec": {
   "display_name": "Python 3 (ipykernel)",
   "language": "python",
   "name": "python3"
  },
  "language_info": {
   "codemirror_mode": {
    "name": "ipython",
    "version": 3
   },
   "file_extension": ".py",
   "mimetype": "text/x-python",
   "name": "python",
   "nbconvert_exporter": "python",
   "pygments_lexer": "ipython3",
   "version": "3.10.9"
  }
 },
 "nbformat": 4,
 "nbformat_minor": 5
}
