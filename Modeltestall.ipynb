{
 "cells": [
  {
   "cell_type": "code",
   "execution_count": 2,
   "id": "9b1f03cf",
   "metadata": {},
   "outputs": [],
   "source": [
    "import torch\n",
    "import os\n",
    "from torchvision import datasets, models, transforms\n",
    "from __future__ import print_function, division\n",
    "import torch\n",
    "import torch.nn as nn\n",
    "import torch.optim as optim\n",
    "from torch.optim import lr_scheduler\n",
    "import torch.backends.cudnn as cudnn\n",
    "import numpy as np\n",
    "import torchvision\n",
    "from torchvision import datasets, models, transforms\n",
    "import matplotlib.pyplot as plt\n",
    "import time\n",
    "import os\n",
    "import glob\n",
    "import copy\n",
    "import neptune\n",
    "import matplotlib.gridspec as gridspec\n",
    "cudnn.benchmark = True\n",
    "from sklearn.metrics import confusion_matrix\n",
    "from sklearn.metrics import classification_report"
   ]
  },
  {
   "cell_type": "markdown",
   "id": "80e81a2a",
   "metadata": {},
   "source": [
    "# Models with 10 classes"
   ]
  },
  {
   "cell_type": "markdown",
   "id": "a92ab16d",
   "metadata": {},
   "source": [
    "# ResNet18"
   ]
  },
  {
   "cell_type": "code",
   "execution_count": 38,
   "id": "a954e2ad",
   "metadata": {},
   "outputs": [],
   "source": [
    "data_transforms = {\n",
    "    'train': transforms.Compose([\n",
    "        transforms.ToTensor(),\n",
    "        transforms.Normalize([0.485, 0.456, 0.406], [0.229, 0.224, 0.225])\n",
    "    ]),\n",
    "    'val': transforms.Compose([\n",
    "        transforms.Resize((256,256)),\n",
    "        transforms.ToTensor(),\n",
    "        transforms.Normalize([0.485, 0.456, 0.406], [0.229, 0.224, 0.225])\n",
    "    ]),\n",
    "}\n",
    "\n",
    "data_dir = 'E:\\datasets\\dataset'\n",
    "\n",
    "image_datasets = {x: datasets.ImageFolder(os.path.join(data_dir, x),\n",
    "                                          data_transforms[x])\n",
    "                  for x in ['train', 'val']}\n",
    "dataloaders = {x: torch.utils.data.DataLoader(image_datasets[x], batch_size=32,\n",
    "                                             shuffle=True, num_workers=8)\n",
    "              for x in ['train', 'val']}\n",
    "dataset_sizes = {x: len(image_datasets[x]) for x in ['train', 'val']}\n",
    "class_names = image_datasets['train'].classes\n",
    "device = torch.device(\"cpu\")"
   ]
  },
  {
   "cell_type": "code",
   "execution_count": 39,
   "id": "340d5bc5",
   "metadata": {},
   "outputs": [
    {
     "data": {
      "text/plain": [
       "<All keys matched successfully>"
      ]
     },
     "execution_count": 39,
     "metadata": {},
     "output_type": "execute_result"
    }
   ],
   "source": [
    "model_ft = models.resnet18()\n",
    "\n",
    "num_ftrs = model_ft.fc.in_features\n",
    "\n",
    "model_ft.fc = nn.Linear(num_ftrs, 10)\n",
    "model_ft = model_ft.to(device)\n",
    "model_ft.load_state_dict(torch.load('weights-resnet18-bestloss.pth',map_location ='cpu'))"
   ]
  },
  {
   "cell_type": "code",
   "execution_count": 40,
   "id": "1f056565",
   "metadata": {},
   "outputs": [
    {
     "name": "stdout",
     "output_type": "stream",
     "text": [
      "              precision    recall  f1-score   support\n",
      "\n",
      "        ясно       0.83      0.82      0.82        99\n",
      "     облачно       0.83      0.83      0.83       129\n",
      "       туман       0.89      0.90      0.90       147\n",
      "       мороз       0.91      0.93      0.92       165\n",
      "        град       0.91      0.97      0.94        64\n",
      "      молния       1.00      0.98      0.99        43\n",
      "       дождь       0.89      0.88      0.88       177\n",
      "      радуга       1.00      1.00      1.00        28\n",
      "        снег       0.84      0.81      0.83       162\n",
      "      восход       0.99      0.99      0.99        69\n",
      "\n",
      "    accuracy                           0.89      1083\n",
      "   macro avg       0.91      0.91      0.91      1083\n",
      "weighted avg       0.89      0.89      0.89      1083\n",
      "\n"
     ]
    }
   ],
   "source": [
    "nb_classes = 10\n",
    "\n",
    "predlist=torch.zeros(0,dtype=torch.long, device=device)\n",
    "lbllist=torch.zeros(0,dtype=torch.long, device=device)\n",
    "\n",
    "with torch.no_grad():\n",
    "    for i, (inputs, classes) in enumerate(dataloaders['val']):\n",
    "        inputs = inputs.to(device)\n",
    "        classes = classes.to(device)\n",
    "        outputs = model_ft(inputs)\n",
    "        _, preds = torch.max(outputs, 1)\n",
    "        predlist=torch.cat([predlist,preds.view(-1).cpu()])\n",
    "        lbllist=torch.cat([lbllist,classes.view(-1).cpu()])\n",
    "\n",
    "target_names = ['ясно' ,'облачно' ,'туман' ,'мороз' ,'град' ,'молния' , 'дождь', 'радуга',\n",
    "           'снег', 'восход']\n",
    "print(classification_report(lbllist.numpy(), predlist.numpy(),target_names=target_names))"
   ]
  },
  {
   "cell_type": "markdown",
   "id": "8a209669",
   "metadata": {},
   "source": [
    "## ResNet34"
   ]
  },
  {
   "cell_type": "code",
   "execution_count": 41,
   "id": "9552ab52",
   "metadata": {},
   "outputs": [],
   "source": [
    "data_transforms = {\n",
    "    'train': transforms.Compose([\n",
    "        transforms.ToTensor(),\n",
    "        transforms.Normalize([0.485, 0.456, 0.406], [0.229, 0.224, 0.225])\n",
    "    ]),\n",
    "    'val': transforms.Compose([\n",
    "        transforms.Resize((256,256)),\n",
    "        transforms.ToTensor(),\n",
    "        transforms.Normalize([0.485, 0.456, 0.406], [0.229, 0.224, 0.225])\n",
    "    ]),\n",
    "}\n",
    "\n",
    "data_dir = 'E:\\datasets\\dataset'\n",
    "\n",
    "image_datasets = {x: datasets.ImageFolder(os.path.join(data_dir, x),\n",
    "                                          data_transforms[x])\n",
    "                  for x in ['train', 'val']}\n",
    "dataloaders = {x: torch.utils.data.DataLoader(image_datasets[x], batch_size=32,\n",
    "                                             shuffle=True, num_workers=8)\n",
    "              for x in ['train', 'val']}\n",
    "dataset_sizes = {x: len(image_datasets[x]) for x in ['train', 'val']}\n",
    "class_names = image_datasets['train'].classes\n",
    "device = torch.device(\"cpu\")"
   ]
  },
  {
   "cell_type": "code",
   "execution_count": 42,
   "id": "088a694a",
   "metadata": {},
   "outputs": [
    {
     "data": {
      "text/plain": [
       "<All keys matched successfully>"
      ]
     },
     "execution_count": 42,
     "metadata": {},
     "output_type": "execute_result"
    }
   ],
   "source": [
    "model_ft = models.resnet34()\n",
    "\n",
    "num_ftrs = model_ft.fc.in_features\n",
    "\n",
    "model_ft.fc = nn.Linear(num_ftrs, 10)\n",
    "model_ft = model_ft.to(device)\n",
    "model_ft.load_state_dict(torch.load('weights-resnet34-bestloss.pth',map_location ='cpu'))"
   ]
  },
  {
   "cell_type": "code",
   "execution_count": 43,
   "id": "af8ce03f",
   "metadata": {},
   "outputs": [
    {
     "name": "stdout",
     "output_type": "stream",
     "text": [
      "              precision    recall  f1-score   support\n",
      "\n",
      "        ясно       0.85      0.84      0.85       198\n",
      "     облачно       0.84      0.85      0.84       258\n",
      "       туман       0.90      0.93      0.92       294\n",
      "       мороз       0.90      0.93      0.92       330\n",
      "        град       0.95      0.97      0.96       128\n",
      "      молния       1.00      0.98      0.99        86\n",
      "       дождь       0.88      0.88      0.88       354\n",
      "      радуга       1.00      0.98      0.99        56\n",
      "        снег       0.86      0.81      0.84       324\n",
      "      восход       0.99      0.99      0.99       138\n",
      "\n",
      "    accuracy                           0.90      2166\n",
      "   macro avg       0.92      0.92      0.92      2166\n",
      "weighted avg       0.90      0.90      0.90      2166\n",
      "\n"
     ]
    }
   ],
   "source": [
    "with torch.no_grad():\n",
    "    for i, (inputs, classes) in enumerate(dataloaders['val']):\n",
    "        inputs = inputs.to(device)\n",
    "        classes = classes.to(device)\n",
    "        outputs = model_ft(inputs)\n",
    "        _, preds = torch.max(outputs, 1)\n",
    "        predlist=torch.cat([predlist,preds.view(-1).cpu()])\n",
    "        lbllist=torch.cat([lbllist,classes.view(-1).cpu()])\n",
    "\n",
    "target_names = ['ясно' ,'облачно' ,'туман' ,'мороз' ,'град' ,'молния' , 'дождь', 'радуга',\n",
    "           'снег', 'восход']\n",
    "print(classification_report(lbllist.numpy(), predlist.numpy(),target_names=target_names))"
   ]
  },
  {
   "cell_type": "markdown",
   "id": "ba4a74a7",
   "metadata": {},
   "source": [
    "## ResNet152"
   ]
  },
  {
   "cell_type": "code",
   "execution_count": 44,
   "id": "0a7dda5e",
   "metadata": {},
   "outputs": [],
   "source": [
    "data_transforms = {\n",
    "    'train': transforms.Compose([\n",
    "        transforms.ToTensor(),\n",
    "        transforms.Normalize([0.485, 0.456, 0.406], [0.229, 0.224, 0.225])\n",
    "    ]),\n",
    "    'val': transforms.Compose([\n",
    "        transforms.Resize((256,256)),\n",
    "        transforms.ToTensor(),\n",
    "        transforms.Normalize([0.485, 0.456, 0.406], [0.229, 0.224, 0.225])\n",
    "    ]),\n",
    "}\n",
    "\n",
    "data_dir = 'E:\\datasets\\dataset'\n",
    "\n",
    "image_datasets = {x: datasets.ImageFolder(os.path.join(data_dir, x),\n",
    "                                          data_transforms[x])\n",
    "                  for x in ['train', 'val']}\n",
    "dataloaders = {x: torch.utils.data.DataLoader(image_datasets[x], batch_size=10,\n",
    "                                             shuffle=True, num_workers=0)\n",
    "              for x in ['train', 'val']}\n",
    "dataset_sizes = {x: len(image_datasets[x]) for x in ['train', 'val']}\n",
    "class_names = image_datasets['train'].classes\n",
    "device = torch.device(\"cpu\")"
   ]
  },
  {
   "cell_type": "code",
   "execution_count": 45,
   "id": "0ad4213e",
   "metadata": {},
   "outputs": [
    {
     "data": {
      "text/plain": [
       "<All keys matched successfully>"
      ]
     },
     "execution_count": 45,
     "metadata": {},
     "output_type": "execute_result"
    }
   ],
   "source": [
    "model_ft = models.resnet152()\n",
    "\n",
    "num_ftrs = model_ft.fc.in_features\n",
    "\n",
    "model_ft.fc = nn.Linear(num_ftrs, 10)\n",
    "model_ft = model_ft.to(device)\n",
    "model_ft.load_state_dict(torch.load('weights-resnet152-bestloss.pth',map_location ='cpu'))"
   ]
  },
  {
   "cell_type": "code",
   "execution_count": 46,
   "id": "ca3f3ae5",
   "metadata": {},
   "outputs": [
    {
     "name": "stdout",
     "output_type": "stream",
     "text": [
      "              precision    recall  f1-score   support\n",
      "\n",
      "        ясно       0.84      0.84      0.84       297\n",
      "     облачно       0.81      0.85      0.83       387\n",
      "       туман       0.91      0.92      0.91       441\n",
      "       мороз       0.90      0.93      0.91       495\n",
      "        град       0.92      0.95      0.94       192\n",
      "      молния       1.00      0.98      0.99       129\n",
      "       дождь       0.87      0.88      0.87       531\n",
      "      радуга       1.00      0.96      0.98        84\n",
      "        снег       0.85      0.78      0.82       486\n",
      "      восход       0.98      0.98      0.98       207\n",
      "\n",
      "    accuracy                           0.89      3249\n",
      "   macro avg       0.91      0.91      0.91      3249\n",
      "weighted avg       0.89      0.89      0.89      3249\n",
      "\n"
     ]
    }
   ],
   "source": [
    "with torch.no_grad():\n",
    "    for i, (inputs, classes) in enumerate(dataloaders['val']):\n",
    "        inputs = inputs.to(device)\n",
    "        classes = classes.to(device)\n",
    "        outputs = model_ft(inputs)\n",
    "        _, preds = torch.max(outputs, 1)\n",
    "        predlist=torch.cat([predlist,preds.view(-1).cpu()])\n",
    "        lbllist=torch.cat([lbllist,classes.view(-1).cpu()])\n",
    "\n",
    "target_names = ['ясно' ,'облачно' ,'туман' ,'мороз' ,'град' ,'молния' , 'дождь', 'радуга',\n",
    "           'снег', 'восход']\n",
    "print(classification_report(lbllist.numpy(), predlist.numpy(),target_names=target_names))"
   ]
  },
  {
   "cell_type": "markdown",
   "id": "9dffa184",
   "metadata": {},
   "source": [
    "## Efinetb4"
   ]
  },
  {
   "cell_type": "code",
   "execution_count": 47,
   "id": "00d6f952",
   "metadata": {},
   "outputs": [],
   "source": [
    "data_transforms = {\n",
    "    'train': transforms.Compose([\n",
    "        transforms.Resize((128 , 128)),   \n",
    "        transforms.RandomRotation(10),\n",
    "        transforms.RandomHorizontalFlip(),\n",
    "        transforms.ToTensor(),\n",
    "        transforms.Normalize([0.485, 0.456, 0.406], [0.229, 0.224, 0.225])\n",
    "    ]),\n",
    "    'val': transforms.Compose([\n",
    "        transforms.Resize((128 , 128)),\n",
    "        transforms.ToTensor(),\n",
    "        transforms.Normalize([0.485, 0.456, 0.406], [0.229, 0.224, 0.225])\n",
    "    ]),\n",
    "}\n",
    "\n",
    "data_dir = 'E:\\datasets\\dataset'\n",
    "\n",
    "image_datasets = {x: datasets.ImageFolder(os.path.join(data_dir, x),\n",
    "                                          data_transforms[x])\n",
    "              for x in ['train', 'val']}\n",
    "dataloaders = {x: torch.utils.data.DataLoader(image_datasets[x], batch_size=16,\n",
    "                                             shuffle=True, num_workers=4)\n",
    "              for x in ['train', 'val']}\n",
    "\n",
    "dataset_sizes = {x: len(image_datasets[x]) \n",
    "              for x in ['train', 'val']}\n",
    "\n",
    "class_names = image_datasets['train'].classes\n",
    "\n",
    "device = torch.device(\"cuda:0\" if torch.cuda.is_available() else \"cpu\")"
   ]
  },
  {
   "cell_type": "code",
   "execution_count": 48,
   "id": "597f04e6",
   "metadata": {},
   "outputs": [
    {
     "data": {
      "text/plain": [
       "<All keys matched successfully>"
      ]
     },
     "execution_count": 48,
     "metadata": {},
     "output_type": "execute_result"
    }
   ],
   "source": [
    "model_ft = models.efficientnet_b4()\n",
    "num_ftrs = model_ft.classifier[1].in_features\n",
    "model_ft.fc = nn.Linear(num_ftrs, 10)\n",
    "model_ft = model_ft.to(device)\n",
    "model_ft.load_state_dict(torch.load('weights-efinetb4-bestloss.pth',map_location ='cpu'))"
   ]
  },
  {
   "cell_type": "code",
   "execution_count": 49,
   "id": "8d853cfb",
   "metadata": {},
   "outputs": [
    {
     "name": "stdout",
     "output_type": "stream",
     "text": [
      "              precision    recall  f1-score   support\n",
      "\n",
      "        ясно       0.84      0.84      0.84       396\n",
      "     облачно       0.80      0.84      0.82       516\n",
      "       туман       0.91      0.92      0.91       588\n",
      "       мороз       0.90      0.92      0.91       660\n",
      "        град       0.93      0.95      0.94       256\n",
      "      молния       0.99      0.98      0.99       172\n",
      "       дождь       0.87      0.87      0.87       708\n",
      "      радуга       1.00      0.96      0.98       112\n",
      "        снег       0.84      0.78      0.81       648\n",
      "      восход       0.98      0.98      0.98       276\n",
      "\n",
      "    accuracy                           0.88      4332\n",
      "   macro avg       0.91      0.90      0.90      4332\n",
      "weighted avg       0.88      0.88      0.88      4332\n",
      "\n"
     ]
    }
   ],
   "source": [
    "with torch.no_grad():\n",
    "    for i, (inputs, classes) in enumerate(dataloaders['val']):\n",
    "        inputs = inputs.to(device)\n",
    "        classes = classes.to(device)\n",
    "        outputs = model_ft(inputs)\n",
    "        _, preds = torch.max(outputs, 1)\n",
    "        predlist=torch.cat([predlist,preds.view(-1).cpu()])\n",
    "        lbllist=torch.cat([lbllist,classes.view(-1).cpu()])\n",
    "\n",
    "target_names = ['ясно' ,'облачно' ,'туман' ,'мороз' ,'град' ,'молния' , 'дождь', 'радуга',\n",
    "           'снег', 'восход']\n",
    "print(classification_report(lbllist.numpy(), predlist.numpy(),target_names=target_names))"
   ]
  },
  {
   "cell_type": "markdown",
   "id": "219ee421",
   "metadata": {},
   "source": [
    "# Models with 11 classes"
   ]
  },
  {
   "cell_type": "markdown",
   "id": "838134b5",
   "metadata": {},
   "source": [
    "## Efinetb4"
   ]
  },
  {
   "cell_type": "code",
   "execution_count": 11,
   "id": "0818f479",
   "metadata": {},
   "outputs": [],
   "source": [
    "data_transforms = {\n",
    "    'test': transforms.Compose([\n",
    "        transforms.Resize((128 , 128)),\n",
    "        transforms.ToTensor(),\n",
    "        transforms.Normalize([0.485, 0.456, 0.406], [0.229, 0.224, 0.225])\n",
    "    ]),\n",
    "}\n",
    "\n",
    "data_dir = 'E:\\datasets\\split'\n",
    "\n",
    "image_datasets = {x: datasets.ImageFolder(os.path.join(data_dir, x),\n",
    "                                          data_transforms[x])\n",
    "                  for x in [\"test\"]}\n",
    "dataloaders = {x: torch.utils.data.DataLoader(image_datasets[x], batch_size=16,\n",
    "                                             shuffle=True, num_workers=4)\n",
    "              for x in [\"test\"]}\n",
    "dataset_sizes = {x: len(image_datasets[x]) for x in [\"test\"]}\n",
    "class_names = image_datasets[\"test\"].classes\n",
    "device = torch.device(\"cpu\")"
   ]
  },
  {
   "cell_type": "code",
   "execution_count": 12,
   "id": "9105e13f",
   "metadata": {},
   "outputs": [
    {
     "data": {
      "text/plain": [
       "<All keys matched successfully>"
      ]
     },
     "execution_count": 12,
     "metadata": {},
     "output_type": "execute_result"
    }
   ],
   "source": [
    "model_ft = models.efficientnet_b4()\n",
    "num_ftrs = model_ft.classifier[1].in_features\n",
    "model_ft.fc = nn.Linear(num_ftrs, 11)\n",
    "model_ft = model_ft.to(device)\n",
    "model_ft.load_state_dict(torch.load('weights-efficientnet_b4-bestloss-no_weather_new.pth',map_location ='cpu'))"
   ]
  },
  {
   "cell_type": "code",
   "execution_count": 13,
   "id": "e54cca83",
   "metadata": {},
   "outputs": [
    {
     "name": "stdout",
     "output_type": "stream",
     "text": [
      "              precision    recall  f1-score   support\n",
      "\n",
      "        ясно       0.82      0.74      0.78       101\n",
      "     облачно       0.76      0.80      0.78       118\n",
      "       туман       0.90      0.93      0.91       148\n",
      "       мороз       0.93      0.90      0.91       165\n",
      "        град       0.91      0.94      0.92        65\n",
      "      молния       0.98      1.00      0.99        44\n",
      "  Нет погоды       0.95      0.93      0.94        82\n",
      "       дождь       0.87      0.82      0.85        84\n",
      "      радуга       0.97      1.00      0.98        30\n",
      "        снег       0.85      0.87      0.86       163\n",
      "      восход       0.95      0.99      0.97        71\n",
      "\n",
      "    accuracy                           0.88      1071\n",
      "   macro avg       0.90      0.90      0.90      1071\n",
      "weighted avg       0.88      0.88      0.88      1071\n",
      "\n"
     ]
    }
   ],
   "source": [
    "nb_classes = 11\n",
    "\n",
    "predlist=torch.zeros(0,dtype=torch.long, device=device)\n",
    "lbllist=torch.zeros(0,dtype=torch.long, device=device)\n",
    "\n",
    "with torch.no_grad():\n",
    "    for i, (inputs, classes) in enumerate(dataloaders['test']):\n",
    "        inputs = inputs.to(device)\n",
    "        classes = classes.to(device)\n",
    "        outputs = model_ft(inputs)\n",
    "        _, preds = torch.max(outputs, 1)\n",
    "        predlist=torch.cat([predlist,preds.view(-1).cpu()])\n",
    "        lbllist=torch.cat([lbllist,classes.view(-1).cpu()])\n",
    "        from sklearn.metrics import classification_report\n",
    "target_names = ['ясно' ,'облачно' ,'туман' ,'мороз' ,'град' ,'молния', 'Нет погоды' , 'дождь', 'радуга',\n",
    "           'снег', 'восход']\n",
    "print(classification_report(lbllist.numpy(), predlist.numpy(),target_names=target_names))"
   ]
  },
  {
   "cell_type": "markdown",
   "id": "9c305e15",
   "metadata": {},
   "source": [
    "# ResNet152"
   ]
  },
  {
   "cell_type": "code",
   "execution_count": 1,
   "id": "e2167418",
   "metadata": {},
   "outputs": [
    {
     "ename": "NameError",
     "evalue": "name 'transforms' is not defined",
     "output_type": "error",
     "traceback": [
      "\u001b[1;31m---------------------------------------------------------------------------\u001b[0m",
      "\u001b[1;31mNameError\u001b[0m                                 Traceback (most recent call last)",
      "Cell \u001b[1;32mIn[1], line 2\u001b[0m\n\u001b[0;32m      1\u001b[0m data_transforms \u001b[38;5;241m=\u001b[39m {\n\u001b[1;32m----> 2\u001b[0m     \u001b[38;5;124m'\u001b[39m\u001b[38;5;124mtest\u001b[39m\u001b[38;5;124m'\u001b[39m: \u001b[43mtransforms\u001b[49m\u001b[38;5;241m.\u001b[39mCompose([\n\u001b[0;32m      3\u001b[0m         transforms\u001b[38;5;241m.\u001b[39mResize((\u001b[38;5;241m256\u001b[39m , \u001b[38;5;241m256\u001b[39m)),\n\u001b[0;32m      4\u001b[0m         transforms\u001b[38;5;241m.\u001b[39mToTensor(),\n\u001b[0;32m      5\u001b[0m         transforms\u001b[38;5;241m.\u001b[39mNormalize([\u001b[38;5;241m0.485\u001b[39m, \u001b[38;5;241m0.456\u001b[39m, \u001b[38;5;241m0.406\u001b[39m], [\u001b[38;5;241m0.229\u001b[39m, \u001b[38;5;241m0.224\u001b[39m, \u001b[38;5;241m0.225\u001b[39m])\n\u001b[0;32m      6\u001b[0m     ]),\n\u001b[0;32m      7\u001b[0m }\n\u001b[0;32m      9\u001b[0m data_dir \u001b[38;5;241m=\u001b[39m \u001b[38;5;124m'\u001b[39m\u001b[38;5;124mE:\u001b[39m\u001b[38;5;124m\\\u001b[39m\u001b[38;5;124mdatasets\u001b[39m\u001b[38;5;124m\\\u001b[39m\u001b[38;5;124mdataset_noweather\u001b[39m\u001b[38;5;124m'\u001b[39m\n\u001b[0;32m     11\u001b[0m image_datasets \u001b[38;5;241m=\u001b[39m {x: datasets\u001b[38;5;241m.\u001b[39mImageFolder(os\u001b[38;5;241m.\u001b[39mpath\u001b[38;5;241m.\u001b[39mjoin(data_dir, x),\n\u001b[0;32m     12\u001b[0m                                           data_transforms[x])\n\u001b[0;32m     13\u001b[0m                   \u001b[38;5;28;01mfor\u001b[39;00m x \u001b[38;5;129;01min\u001b[39;00m [\u001b[38;5;124m\"\u001b[39m\u001b[38;5;124mtest\u001b[39m\u001b[38;5;124m\"\u001b[39m]}\n",
      "\u001b[1;31mNameError\u001b[0m: name 'transforms' is not defined"
     ]
    }
   ],
   "source": [
    "data_transforms = {\n",
    "    'test': transforms.Compose([\n",
    "        transforms.Resize((256 , 256)),\n",
    "        transforms.ToTensor(),\n",
    "        transforms.Normalize([0.485, 0.456, 0.406], [0.229, 0.224, 0.225])\n",
    "    ]),\n",
    "}\n",
    "\n",
    "data_dir = 'E:\\datasets\\dataset_noweather'\n",
    "\n",
    "image_datasets = {x: datasets.ImageFolder(os.path.join(data_dir, x),\n",
    "                                          data_transforms[x])\n",
    "                  for x in [\"test\"]}\n",
    "dataloaders = {x: torch.utils.data.DataLoader(image_datasets[x], batch_size=10,\n",
    "                                             shuffle=True, num_workers=2)\n",
    "              for x in [\"test\"]}\n",
    "dataset_sizes = {x: len(image_datasets[x]) for x in [\"test\"]}\n",
    "class_names = image_datasets[\"test\"].classes\n",
    "device = torch.device(\"cpu\")"
   ]
  },
  {
   "cell_type": "code",
   "execution_count": 58,
   "id": "64123812",
   "metadata": {},
   "outputs": [
    {
     "data": {
      "text/plain": [
       "<All keys matched successfully>"
      ]
     },
     "execution_count": 58,
     "metadata": {},
     "output_type": "execute_result"
    }
   ],
   "source": [
    "model_ft = models.resnet152(pretrained=True) \n",
    "num_ftrs = model_ft.fc.in_features\n",
    "model_ft.fc = nn.Linear(num_ftrs, len(class_names))\n",
    "model_ft = model_ft.to(device)\n",
    "model_ft.load_state_dict(torch.load('weights-resnet152-bestloss-no_weather.pth',map_location ='cpu'))"
   ]
  },
  {
   "cell_type": "code",
   "execution_count": 59,
   "id": "1a403b26",
   "metadata": {},
   "outputs": [
    {
     "name": "stdout",
     "output_type": "stream",
     "text": [
      "              precision    recall  f1-score   support\n",
      "\n",
      "        ясно       0.79      0.82      0.81       101\n",
      "     облачно       0.80      0.82      0.81       130\n",
      "       туман       0.94      0.91      0.92       148\n",
      "       мороз       0.88      0.88      0.88       165\n",
      "        град       0.89      0.83      0.86        65\n",
      "      молния       0.98      0.98      0.98        44\n",
      "  Нет погоды       0.87      0.93      0.90        82\n",
      "       дождь       0.83      0.83      0.83       177\n",
      "      радуга       0.97      0.97      0.97        30\n",
      "        снег       0.83      0.79      0.81       163\n",
      "      восход       0.95      0.99      0.97        71\n",
      "\n",
      "    accuracy                           0.87      1176\n",
      "   macro avg       0.88      0.89      0.88      1176\n",
      "weighted avg       0.87      0.87      0.87      1176\n",
      "\n"
     ]
    }
   ],
   "source": [
    "nb_classes = 11\n",
    "\n",
    "predlist=torch.zeros(0,dtype=torch.long, device=device)\n",
    "lbllist=torch.zeros(0,dtype=torch.long, device=device)\n",
    "\n",
    "with torch.no_grad():\n",
    "    for i, (inputs, classes) in enumerate(dataloaders['test']):\n",
    "        inputs = inputs.to(device)\n",
    "        classes = classes.to(device)\n",
    "        outputs = model_ft(inputs)\n",
    "        _, preds = torch.max(outputs, 1)\n",
    "        predlist=torch.cat([predlist,preds.view(-1).cpu()])\n",
    "        lbllist=torch.cat([lbllist,classes.view(-1).cpu()])\n",
    "        from sklearn.metrics import classification_report\n",
    "target_names = ['ясно' ,'облачно' ,'туман' ,'мороз' ,'град' ,'молния', 'Нет погоды' , 'дождь', 'радуга',\n",
    "           'снег', 'восход']\n",
    "print(classification_report(lbllist.numpy(), predlist.numpy(),target_names=target_names))"
   ]
  },
  {
   "cell_type": "code",
   "execution_count": null,
   "id": "09c5dcdd",
   "metadata": {},
   "outputs": [],
   "source": []
  }
 ],
 "metadata": {
  "kernelspec": {
   "display_name": "Python 3 (ipykernel)",
   "language": "python",
   "name": "python3"
  },
  "language_info": {
   "codemirror_mode": {
    "name": "ipython",
    "version": 3
   },
   "file_extension": ".py",
   "mimetype": "text/x-python",
   "name": "python",
   "nbconvert_exporter": "python",
   "pygments_lexer": "ipython3",
   "version": "3.9.16"
  }
 },
 "nbformat": 4,
 "nbformat_minor": 5
}
