{
 "cells": [
  {
   "cell_type": "code",
   "execution_count": 56,
   "id": "initial_id",
   "metadata": {
    "collapsed": true,
    "ExecuteTime": {
     "end_time": "2024-01-31T08:39:20.688280300Z",
     "start_time": "2024-01-31T08:39:20.683232300Z"
    }
   },
   "outputs": [
    {
     "name": "stdout",
     "output_type": "stream",
     "text": [
      "0 0 0 0 0 0 0 0 0 0 0 0 0 0 0 0 0 0 0 0\n",
      "0 0 0 0 0 0 0 0 0 0 0 0 0   0 0 0 0 0 0\n",
      "0 0 0 0 0 0 0 0 0 0 0 0 0 0 0 0 0   0 0\n",
      "0 0 0 0 0 0 0 0 0 0 0 0 0 0 0 0 0   0  \n",
      "0   0 0 0 0 0 0 0 0 0 0 0 0 0 0 0 0 0 0\n",
      "0 0 0 0 0 0 0 0 0 0 0 0 0 0 0 0 0 0 0 0\n",
      "0 0   0 0 0 0 0 0 0 0 0 0 0 0 0   0 0 0\n",
      "0 0 0 0 0 0 0 0 0 0 0 0 0 0 0 0 0 0 0 0\n",
      "0 0 0 0 0 0 0 0 0 0 0 0 0 0 0 0 0 0 0 0\n",
      "0 0 0 0 0 0 0 0 0 0 0 0 0 0 0 0 0 0 0 0\n",
      "0 0 0 0 0 0 0 0 0 0 0 0 0 0 0   0 0 0 0\n",
      "0 0 0 0 0 0 0 0 0 0 0 0 0 0 0 0 0 0 0 0\n",
      "0 0 0 0 0 0 0 0 0 0 0 0 0 0 0 0 0 0 0 0\n",
      "0 0 0 0 0   0 0 0 0 0 0 0 0 X 0 0 0 0 0\n",
      "0 0 0 0 0 0 0 0 0 0   0 0 0 0 0 0 0 0 0\n",
      "0 0 0 0   0 0 0 0 0 0 0 0 0 0 0 0 0 0 0\n",
      "0   0 0 0 0 0 0 0 0 0 0 0 0 0 0 0 0   0\n",
      "0 0 0 0 0 0 0 0   0 0   0 0 0 0     0 0\n",
      "0 0 0 0 0 0 0 0 0 0 0 0 0 0 0 0 0 0 0 0\n",
      "0   0 0 0 0 0 0 0 0 0 0 0 0 0 0 0 0 0 0\n"
     ]
    }
   ],
   "source": [
    "import random\n",
    "\n",
    "# Координаты персонажа\n",
    "user_coord = [random.randrange(0, 20) for _ in range(2)]\n",
    "# Координаты камней\n",
    "num_rocks = 20\n",
    "coords_rocks = list(\n",
    "    zip((random.randrange(0, 20) for _ in range(num_rocks)), (random.randrange(0, 20) for _ in range(num_rocks))))\n",
    "# Поле\n",
    "box = [[0] * 20 for i in range(20)]\n",
    "\n",
    "# Расстановка\n",
    "# Поле с камнями\n",
    "for coord in coords_rocks: \n",
    "    box[coord[0]][coord[1]] = ' '\n",
    "# Кораблик\n",
    "while True:\n",
    "    user_coord = [random.randrange(0, 20) for _ in range(2)]\n",
    "    if user_coord not in coords_rocks:\n",
    "        break\n",
    "    else:\n",
    "        continue\n",
    "box[user_coord[0]][user_coord[1]] = 'X'\n",
    "\n",
    "# Вывод матрицы\n",
    "for row in box: \n",
    "    print(' '.join(map(str, row)))"
   ]
  },
  {
   "cell_type": "code",
   "outputs": [
    {
     "name": "stdout",
     "output_type": "stream",
     "text": [
      "0 0 0 0 0 0 0 0 0 0 0 0 0 0 0 0 0 0 0 0\n",
      "0 0 0 0 0 0 0 0 0 0 0 0 0 0 0 0 0 0 0 0\n",
      "0 0 0 0 0 0 0 0 0 0 0 0 0 0 0 0 0 0 \u001B[31mX\u001B[0m 0\n",
      "0 0 0 0 0 0 0 0 0 0 0 0 0 0 0 0 0 0 0 0\n",
      "0   0 0 0 0 0 0 0 0 0 0 0 0 0 0 0   0 0\n",
      "0 0 0 0 0 0 0 0 0 0 0 0 0 0 0 0 0 0 0 0\n",
      "0 0 0 0 0 0 0     0 0 0 0 0 0 0 0 0   0\n",
      "0 0 0 0 0 0   0 0 0 0 0 0 0 0 0 0 0 0 0\n",
      "0 0 0 0 0 0 0 0 0 0 0 0 0 0 0   0 0 0 0\n",
      "0 0 0 0 0 0 0 0 0 0 0 0 0 0 0 0 0 0 0  \n",
      "0 0 0 0 0 0 0 0 0 0 0 0 0 0 0 0 0 0 0 0\n",
      "0 0 0 0 0   0   0 0 0 0 0 0 0 0 0 0   0\n",
      "0 0 0 0 0 0 0 0 0 0 0 0 0 0 0 0 0 0 0 0\n",
      "0 0 0 0 0 0 0 0 0 0   0 0 0 0 0 0 0 0 0\n",
      "  0 0 0 0 0 0 0 0   0 0 0 0 0 0 0 0 0 0\n",
      "0 0 0 0 0 0 0 0 0 0 0 0 0 0 0 0 0 0 0 0\n",
      "0 0 0 0 0 0 0 0 0 0 0 0 0 0 0 0 0 0 0 0\n",
      "0 0 0 0 0 0 0   0 0 0 0 0 0 0 0 0 0 0 0\n",
      "0 0   0 0 0 0 0 0 0 0   0 0 0 0 0 0 0 0\n",
      "0 0 0 0   0 0 0 0 0 0 0 0 0 0 0 0   0 0\n"
     ]
    }
   ],
   "source": [
    "def generation(box_scale, num_rocks):\n",
    "    box = [[0] * box_scale for i in range(box_scale)]\n",
    "    coords_rocks = list(\n",
    "        zip((random.randrange(0, 20) for _ in range(num_rocks)), (random.randrange(0, 20) for _ in range(num_rocks)))\n",
    "    )\n",
    "    # Расстановка\n",
    "    # Поле с камнями\n",
    "    for coord in coords_rocks:\n",
    "        box[coord[0]][coord[1]] = ' '\n",
    "    # Кораблик\n",
    "    while True:\n",
    "        user_coord = [random.randrange(0, 20) for _ in range(2)]\n",
    "        if user_coord not in coords_rocks:\n",
    "            break\n",
    "        else:\n",
    "            continue\n",
    "    box[user_coord[0]][user_coord[1]] = '\\033[31m' + \"X\" +'\\033[0m'\n",
    "    return box\n",
    "    \n",
    "    \n",
    "box = generation(box_scale = 20, num_rocks = 20)\n",
    "while True:\n",
    "    for row in box:\n",
    "        print(' '.join(map(str, row)))\n",
    "    "
   ],
   "metadata": {
    "collapsed": false,
    "ExecuteTime": {
     "end_time": "2024-01-31T08:55:00.845141300Z",
     "start_time": "2024-01-31T08:55:00.838253300Z"
    }
   },
   "id": "c0157c6a34b1e57a",
   "execution_count": 95
  },
  {
   "cell_type": "code",
   "outputs": [],
   "source": [
    "import msvcrt\n",
    "msvcrt.getche()"
   ],
   "metadata": {
    "collapsed": false,
    "ExecuteTime": {
     "start_time": "2024-01-31T08:57:52.299985600Z"
    }
   },
   "id": "1540b0dedaa2f6ab"
  },
  {
   "cell_type": "code",
   "outputs": [],
   "source": [],
   "metadata": {
    "collapsed": false
   },
   "id": "4d7bb5e1d0d7c656"
  }
 ],
 "metadata": {
  "kernelspec": {
   "display_name": "Python 3",
   "language": "python",
   "name": "python3"
  },
  "language_info": {
   "codemirror_mode": {
    "name": "ipython",
    "version": 2
   },
   "file_extension": ".py",
   "mimetype": "text/x-python",
   "name": "python",
   "nbconvert_exporter": "python",
   "pygments_lexer": "ipython2",
   "version": "2.7.6"
  }
 },
 "nbformat": 4,
 "nbformat_minor": 5
}
