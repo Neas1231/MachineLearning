{
 "cells": [
  {
   "cell_type": "markdown",
   "source": [
    "Итераторы генераторы"
   ],
   "metadata": {
    "collapsed": false
   },
   "id": "db564546d8e38d2d"
  },
  {
   "cell_type": "code",
   "execution_count": 3,
   "outputs": [
    {
     "name": "stdout",
     "output_type": "stream",
     "text": [
      "<generator object <genexpr> at 0x000001BE75F332A0>\n",
      "0\n"
     ]
    },
    {
     "data": {
      "text/plain": "1"
     },
     "execution_count": 3,
     "metadata": {},
     "output_type": "execute_result"
    }
   ],
   "source": [
    "test = (num for num in range(20))\n",
    "print(test)\n",
    "print(next(test))\n",
    "next(test)"
   ],
   "metadata": {
    "collapsed": false,
    "ExecuteTime": {
     "end_time": "2023-11-17T10:29:03.006764600Z",
     "start_time": "2023-11-17T10:29:02.999212100Z"
    }
   },
   "id": "730cead0371da926"
  },
  {
   "cell_type": "code",
   "execution_count": 4,
   "outputs": [
    {
     "name": "stdout",
     "output_type": "stream",
     "text": [
      "4\n"
     ]
    },
    {
     "data": {
      "text/plain": "'a'"
     },
     "execution_count": 4,
     "metadata": {},
     "output_type": "execute_result"
    }
   ],
   "source": [
    "test = [4,'a',1099,'sdad']\n",
    "test = iter(test) # Сделать итератор\n",
    "print(next(test))\n",
    "next(test)"
   ],
   "metadata": {
    "collapsed": false,
    "ExecuteTime": {
     "end_time": "2023-11-17T10:31:39.244308900Z",
     "start_time": "2023-11-17T10:31:39.230254500Z"
    }
   },
   "id": "3274cbfb29afeb86"
  },
  {
   "cell_type": "code",
   "execution_count": 5,
   "outputs": [],
   "source": [
    "def new():\n",
    "    for i in range(20):\n",
    "        yield i\n",
    "gen = new()"
   ],
   "metadata": {
    "collapsed": false,
    "ExecuteTime": {
     "end_time": "2023-11-17T11:24:38.918387400Z",
     "start_time": "2023-11-17T11:24:38.903389Z"
    }
   },
   "id": "6f5b4026449022b1"
  },
  {
   "cell_type": "code",
   "execution_count": 6,
   "outputs": [
    {
     "data": {
      "text/plain": "0"
     },
     "execution_count": 6,
     "metadata": {},
     "output_type": "execute_result"
    }
   ],
   "source": [
    "next(gen)"
   ],
   "metadata": {
    "collapsed": false,
    "ExecuteTime": {
     "end_time": "2023-11-17T11:24:45.859102700Z",
     "start_time": "2023-11-17T11:24:45.851999300Z"
    }
   },
   "id": "10e73ca73c3da23"
  },
  {
   "cell_type": "code",
   "execution_count": 7,
   "outputs": [
    {
     "data": {
      "text/plain": "1"
     },
     "execution_count": 7,
     "metadata": {},
     "output_type": "execute_result"
    }
   ],
   "source": [
    "next(gen)"
   ],
   "metadata": {
    "collapsed": false,
    "ExecuteTime": {
     "end_time": "2023-11-17T11:24:49.741163100Z",
     "start_time": "2023-11-17T11:24:49.733426200Z"
    }
   },
   "id": "e39e3ae33267284a"
  },
  {
   "cell_type": "code",
   "execution_count": 8,
   "outputs": [
    {
     "data": {
      "text/plain": "2"
     },
     "execution_count": 8,
     "metadata": {},
     "output_type": "execute_result"
    }
   ],
   "source": [
    "next(gen)"
   ],
   "metadata": {
    "collapsed": false,
    "ExecuteTime": {
     "end_time": "2023-11-17T11:24:51.484585500Z",
     "start_time": "2023-11-17T11:24:51.476999100Z"
    }
   },
   "id": "cabf520990888af2"
  },
  {
   "cell_type": "code",
   "execution_count": 2,
   "outputs": [
    {
     "name": "stdout",
     "output_type": "stream",
     "text": [
      "b\"dasasasasasasasasasasasasasasasasasasasasasasasANMLSDladfsi asdk klfbdsakbf lkjasdbkjfbasjlbfjkdasbkjf\\r\\nfadskbfouebaubfwkufbwkabfkewblfbdwlasbf;sa\\r\\ndabsjkfbklabfnoawebnfowep[d[asofjasdnfjdsanfk\\r\\n dsfljsadnlfdsanlk nlasdnflkdsanfl   ndsklafnfdnk;asfnklasnefuiowanfoi;';'\\r\\n\"\n"
     ]
    }
   ],
   "source": [
    "def generator(byte):\n",
    "    import math\n",
    "    step = byte\n",
    "    start = 0\n",
    "    file = open(r'C:\\Users\\nicka\\Desktop\\mama.txt','rb')\n",
    "    data = file.read()\n",
    "    for _ in range(math.ceil(len(data)/step)):\n",
    "        yield data[start:step]\n",
    "        start += byte\n",
    "        step += byte\n",
    "            \n",
    "test = generator(int(input(\"По сколько байтов вы бы хотели выводить:\\n\")))\n",
    "while True:\n",
    "    try:\n",
    "         input()\n",
    "         print(next(test))\n",
    "    except:\n",
    "        break"
   ],
   "metadata": {
    "collapsed": false,
    "ExecuteTime": {
     "end_time": "2023-11-17T14:01:32.471917Z",
     "start_time": "2023-11-17T14:01:29.063229600Z"
    }
   },
   "id": "d5c626bf502f27df"
  },
  {
   "cell_type": "code",
   "execution_count": 203,
   "outputs": [
    {
     "ename": "StopIteration",
     "evalue": "",
     "output_type": "error",
     "traceback": [
      "\u001B[1;31m---------------------------------------------------------------------------\u001B[0m",
      "\u001B[1;31mStopIteration\u001B[0m                             Traceback (most recent call last)",
      "Cell \u001B[1;32mIn[203], line 1\u001B[0m\n\u001B[1;32m----> 1\u001B[0m \u001B[38;5;28mnext\u001B[39m(test)\n",
      "\u001B[1;31mStopIteration\u001B[0m: "
     ]
    }
   ],
   "source": [
    "\n",
    "\n",
    "next(test)"
   ],
   "metadata": {
    "collapsed": false,
    "ExecuteTime": {
     "end_time": "2023-11-17T12:41:49.980322200Z",
     "start_time": "2023-11-17T12:41:49.964617900Z"
    }
   },
   "id": "4c4667a5690a670b"
  },
  {
   "cell_type": "code",
   "execution_count": 162,
   "outputs": [
    {
     "data": {
      "text/plain": "b\"dasasasasasasasasasasasasasasasasasasasasasasasANMLSDladfsi asdk klfbdsakbf lkjasdbkjfbasjlbfjkdasbkjf\\r\\nfadskbfouebaubfwkufbwkabfkewblfbdwlasbf;sa\\r\\ndabsjkfbklabfnoawebnfowep[d[asofjasdnfjdsanfk\\r\\n dsfljsadnlfdsanlk nlasdnflkdsanfl   ndsklafnfdnk;asfnklasnefuiowanfoi;';'\\r\\n\""
     },
     "execution_count": 162,
     "metadata": {},
     "output_type": "execute_result"
    }
   ],
   "source": [
    "data"
   ],
   "metadata": {
    "collapsed": false,
    "ExecuteTime": {
     "end_time": "2023-11-17T12:37:05.201869Z",
     "start_time": "2023-11-17T12:37:05.193353100Z"
    }
   },
   "id": "bce7440b11e5f346"
  },
  {
   "cell_type": "code",
   "execution_count": 25,
   "outputs": [
    {
     "name": "stdout",
     "output_type": "stream",
     "text": [
      "b\"dasasasasasasasasasasasasasasasasasasasasasasasANMLSDladfsi asdk klfbdsakbf lkjasdbkjfbasjlbfjkdasbkjf\\r\\nfadskbfouebaubfwkufbwkabfkewblfbdwlasbf;sa\\r\\ndabsjkfbklabfnoawebnfowep[d[asofjasdnfjdsanfk\\r\\n dsfljsadnlfdsanlk nlasdnflkdsanfl   ndsklafnfdnk;asfnklasnefuiowanfoi;';'\\r\\n\"\n"
     ]
    }
   ],
   "source": [
    "file = open(r'C:\\Users\\nicka\\Desktop\\mama.txt','rb')\n",
    "data = file.read()\n",
    "print(data)"
   ],
   "metadata": {
    "collapsed": false,
    "ExecuteTime": {
     "end_time": "2023-11-17T11:51:33.882288900Z",
     "start_time": "2023-11-17T11:51:33.873249800Z"
    }
   },
   "id": "b6b160468531dd97"
  },
  {
   "cell_type": "code",
   "execution_count": 81,
   "outputs": [],
   "source": [
    "def generator():\n",
    "    for i in range(20):\n",
    "        yield i\n",
    "test = generator()"
   ],
   "metadata": {
    "collapsed": false,
    "ExecuteTime": {
     "end_time": "2023-11-17T12:06:31.996122Z",
     "start_time": "2023-11-17T12:06:31.965338200Z"
    }
   },
   "id": "f39771f41e904e7f"
  },
  {
   "cell_type": "code",
   "execution_count": 210,
   "outputs": [
    {
     "name": "stdout",
     "output_type": "stream",
     "text": [
      "<generator object bylineread at 0x000001BE76F618A0>\n"
     ]
    }
   ],
   "source": [
    "def bylineread(fimename):\n",
    "    with open(r'C:\\Users\\nicka\\Desktop\\mama.txt','rb') as f: # открытый файл\n",
    "        line = f.readline () # читать строку\n",
    "    print('----1----')\n",
    "    while line:\n",
    "        print('-----2----')\n",
    "        yield line\n",
    "        line = f.readline () # Непрерывное чтение цикла\n",
    "        print('----3-----')\n",
    "    ## read - объект-генератор\n",
    "read = bylineread('data1.txt')\n",
    "print(read)"
   ],
   "metadata": {
    "collapsed": false,
    "ExecuteTime": {
     "end_time": "2023-11-17T13:15:43.512786600Z",
     "start_time": "2023-11-17T13:15:43.503426900Z"
    }
   },
   "id": "94bb2c87466a3214"
  },
  {
   "cell_type": "code",
   "execution_count": 212,
   "outputs": [
    {
     "ename": "ValueError",
     "evalue": "readline of closed file",
     "output_type": "error",
     "traceback": [
      "\u001B[1;31m---------------------------------------------------------------------------\u001B[0m",
      "\u001B[1;31mValueError\u001B[0m                                Traceback (most recent call last)",
      "Cell \u001B[1;32mIn[212], line 1\u001B[0m\n\u001B[1;32m----> 1\u001B[0m \u001B[38;5;28mnext\u001B[39m(read)\n",
      "Cell \u001B[1;32mIn[210], line 8\u001B[0m, in \u001B[0;36mbylineread\u001B[1;34m(fimename)\u001B[0m\n\u001B[0;32m      6\u001B[0m \u001B[38;5;28mprint\u001B[39m(\u001B[38;5;124m'\u001B[39m\u001B[38;5;124m-----2----\u001B[39m\u001B[38;5;124m'\u001B[39m)\n\u001B[0;32m      7\u001B[0m \u001B[38;5;28;01myield\u001B[39;00m line\n\u001B[1;32m----> 8\u001B[0m line \u001B[38;5;241m=\u001B[39m f\u001B[38;5;241m.\u001B[39mreadline () \u001B[38;5;66;03m# Непрерывное чтение цикла\u001B[39;00m\n\u001B[0;32m      9\u001B[0m \u001B[38;5;28mprint\u001B[39m(\u001B[38;5;124m'\u001B[39m\u001B[38;5;124m----3-----\u001B[39m\u001B[38;5;124m'\u001B[39m)\n",
      "\u001B[1;31mValueError\u001B[0m: readline of closed file"
     ]
    }
   ],
   "source": [
    "next(read)"
   ],
   "metadata": {
    "collapsed": false,
    "ExecuteTime": {
     "end_time": "2023-11-17T13:15:50.873461200Z",
     "start_time": "2023-11-17T13:15:50.847384300Z"
    }
   },
   "id": "a506dd4f694e033c"
  },
  {
   "cell_type": "code",
   "execution_count": null,
   "outputs": [],
   "source": [],
   "metadata": {
    "collapsed": false
   },
   "id": "46622134f15f329d"
  }
 ],
 "metadata": {
  "kernelspec": {
   "display_name": "Python 3",
   "language": "python",
   "name": "python3"
  },
  "language_info": {
   "codemirror_mode": {
    "name": "ipython",
    "version": 2
   },
   "file_extension": ".py",
   "mimetype": "text/x-python",
   "name": "python",
   "nbconvert_exporter": "python",
   "pygments_lexer": "ipython2",
   "version": "2.7.6"
  }
 },
 "nbformat": 4,
 "nbformat_minor": 5
}
