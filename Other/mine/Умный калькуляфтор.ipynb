{
 "cells": [
  {
   "cell_type": "code",
   "execution_count": 94,
   "id": "fa05afd3",
   "metadata": {},
   "outputs": [
    {
     "name": "stdout",
     "output_type": "stream",
     "text": [
      "Введите свой пример: 25 : 2\n",
      "Ваш пример равен 12.5\n"
     ]
    }
   ],
   "source": [
    "def get_data_user():\n",
    "    result = input(\"Введите свой пример: \")\n",
    "    return result\n",
    "\n",
    "def string_processing(data):\n",
    "    data = data.split(' ')\n",
    "    nums = []\n",
    "    act = []\n",
    "    for temp in data:\n",
    "        if temp.isdigit():\n",
    "            nums.append(int(temp))\n",
    "        else:\n",
    "            act.append(temp)\n",
    "    return nums,act\n",
    "\n",
    "def multiplication(numbers):\n",
    "    result = numbers[0]\n",
    "    for dig in numbers[1:]:\n",
    "        result *= dig\n",
    "    return result\n",
    "    \n",
    "\n",
    "def division(numbers):\n",
    "    result = numbers[0]\n",
    "    for dig in numbers[1:]:\n",
    "        result /= dig\n",
    "    return result\n",
    "\n",
    "def summa(numbers):\n",
    "    result = numbers[0]\n",
    "    for dig in numbers[1:]:\n",
    "        result += dig\n",
    "    return result\n",
    "\n",
    "def minus(numbers):\n",
    "    result = numbers[0]\n",
    "    for dig in numbers[1:]:\n",
    "        result -= dig\n",
    "    return result\n",
    "\n",
    "def choice_core(nums,action):\n",
    "    action = action[0]\n",
    "    if action == '*':\n",
    "        result = multiplication(nums)\n",
    "        return result\n",
    "    elif action == ':':\n",
    "        result = division(nums)\n",
    "        return result\n",
    "    elif action == '+':    \n",
    "        result = summa(nums)\n",
    "        return result\n",
    "    elif action == '-':\n",
    "        result = minus(nums)\n",
    "        return result\n",
    "    else:\n",
    "        case = new_try()\n",
    "        if type(len(case)) == type([]):\n",
    "            return choice_core(nums,case)\n",
    "        else:\n",
    "            return choice_core(case[0],case[1])\n",
    "    \n",
    "\n",
    "\n",
    "def new_try():\n",
    "    data = input(\"Введите новый знак, или задайте другой пример: \")\n",
    "    if len(data.split(' ')) > 1:\n",
    "        return string_processing(data)\n",
    "    else:\n",
    "        return data\n",
    "        \n",
    "        \n",
    "\n",
    "nums, act = string_processing(get_data_user())\n",
    "\n",
    "print(f'Ваш пример равен {choice_core(nums,act)}')"
   ]
  },
  {
   "cell_type": "code",
   "execution_count": null,
   "id": "eef40d67",
   "metadata": {},
   "outputs": [],
   "source": []
  }
 ],
 "metadata": {
  "kernelspec": {
   "display_name": "Python 3 (ipykernel)",
   "language": "python",
   "name": "python3"
  },
  "language_info": {
   "codemirror_mode": {
    "name": "ipython",
    "version": 3
   },
   "file_extension": ".py",
   "mimetype": "text/x-python",
   "name": "python",
   "nbconvert_exporter": "python",
   "pygments_lexer": "ipython3",
   "version": "3.9.13"
  }
 },
 "nbformat": 4,
 "nbformat_minor": 5
}
