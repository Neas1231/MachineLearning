{
 "cells": [
  {
   "cell_type": "code",
   "execution_count": 13,
   "id": "36471c55",
   "metadata": {},
   "outputs": [
    {
     "data": {
      "text/plain": [
       "<sqlite3.Cursor at 0x2d281d574c0>"
      ]
     },
     "execution_count": 13,
     "metadata": {},
     "output_type": "execute_result"
    }
   ],
   "source": [
    "import sqlite3\n",
    "\n",
    "db = sqlite3.connect('sql.db')\n",
    "cur = db.cursor()\n",
    "cur.execute('PRAGMA foreign_keys = 1')"
   ]
  },
  {
   "cell_type": "code",
   "execution_count": 7,
   "id": "e853e2fa",
   "metadata": {},
   "outputs": [],
   "source": [
    "# cur.execute(*) - внести запрос"
   ]
  },
  {
   "cell_type": "code",
   "execution_count": 8,
   "id": "5c65bfd9",
   "metadata": {},
   "outputs": [
    {
     "data": {
      "text/plain": [
       "<sqlite3.Cursor at 0x2d281d073c0>"
      ]
     },
     "execution_count": 8,
     "metadata": {},
     "output_type": "execute_result"
    }
   ],
   "source": [
    "cur.execute(''' CREATE TABLE new (\n",
    "id INTEGER PRIMARY KEY,\n",
    "genre_id INTEGER NOT NULL,\n",
    "name TEXT NOT NULL,\n",
    "age INTEGET NOT NULL,\n",
    "FOREIGN KEY (genre_id) REFERENCES genre (id)\n",
    ")\n",
    "''')"
   ]
  },
  {
   "cell_type": "code",
   "execution_count": 9,
   "id": "335820d2",
   "metadata": {},
   "outputs": [
    {
     "data": {
      "text/plain": [
       "<sqlite3.Cursor at 0x2d281d073c0>"
      ]
     },
     "execution_count": 9,
     "metadata": {},
     "output_type": "execute_result"
    }
   ],
   "source": [
    "cur.execute(''' CREATE TABLE genre (\n",
    "id INTEGER PRIMARY KEY,\n",
    "genre TEXT NOT NULL\n",
    ")\n",
    "''')"
   ]
  },
  {
   "cell_type": "code",
   "execution_count": 10,
   "id": "83c99c0c",
   "metadata": {},
   "outputs": [],
   "source": [
    "genres = [\n",
    " ('Драма',),\n",
    " ('Музыка',),\n",
    " ('Пародия',),\n",
    " ('Повседневность',),\n",
    " ('Спорт',)\n",
    "]"
   ]
  },
  {
   "cell_type": "code",
   "execution_count": 11,
   "id": "e3787c97",
   "metadata": {},
   "outputs": [
    {
     "data": {
      "text/plain": [
       "<sqlite3.Cursor at 0x2d281d073c0>"
      ]
     },
     "execution_count": 11,
     "metadata": {},
     "output_type": "execute_result"
    }
   ],
   "source": [
    "cur.executemany(\"INSERT INTO genre(genre) VALUES (?)\",genres)"
   ]
  },
  {
   "cell_type": "code",
   "execution_count": 16,
   "id": "0202cb5b",
   "metadata": {},
   "outputs": [],
   "source": [
    "genres = [\n",
    " (1,'Mama'),\n",
    " (2,'Guitar'),\n",
    " (3,'Lol'),\n",
    " (4,'K-on'),\n",
    " (5,'Baseball')\n",
    "]"
   ]
  },
  {
   "cell_type": "code",
   "execution_count": 17,
   "id": "a93be3ca",
   "metadata": {},
   "outputs": [
    {
     "data": {
      "text/plain": [
       "<sqlite3.Cursor at 0x2d281d574c0>"
      ]
     },
     "execution_count": 17,
     "metadata": {},
     "output_type": "execute_result"
    }
   ],
   "source": [
    "cur.executemany(\"INSERT INTO new(genre_id,name,age) VALUES (?,?,2016)\",genres)"
   ]
  },
  {
   "cell_type": "code",
   "execution_count": 18,
   "id": "75aa6220",
   "metadata": {},
   "outputs": [],
   "source": [
    "db.commit()\n",
    "cur.close()\n",
    "db.close()"
   ]
  },
  {
   "cell_type": "code",
   "execution_count": 28,
   "id": "2b33c780",
   "metadata": {},
   "outputs": [],
   "source": []
  },
  {
   "cell_type": "code",
   "execution_count": null,
   "id": "f9413f73",
   "metadata": {},
   "outputs": [],
   "source": []
  }
 ],
 "metadata": {
  "kernelspec": {
   "display_name": "Python 3 (ipykernel)",
   "language": "python",
   "name": "python3"
  },
  "language_info": {
   "codemirror_mode": {
    "name": "ipython",
    "version": 3
   },
   "file_extension": ".py",
   "mimetype": "text/x-python",
   "name": "python",
   "nbconvert_exporter": "python",
   "pygments_lexer": "ipython3",
   "version": "3.10.9"
  }
 },
 "nbformat": 4,
 "nbformat_minor": 5
}
