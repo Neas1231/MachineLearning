{
 "cells": [
  {
   "cell_type": "code",
   "execution_count": 1,
   "id": "ff528dca",
   "metadata": {},
   "outputs": [
    {
     "name": "stdout",
     "output_type": "stream",
     "text": [
      "Анна Анастасия\n",
      "<class 'bytes'>\n",
      "Анна Анастасия\n",
      "b'\\xd0\\x90\\xd0\\xbd\\xd0\\xbd\\xd0\\xb0 \\xd0\\x90\\xd0\\xbd\\xd0\\xb0\\xd1\\x81\\xd1\\x82\\xd0\\xb0\\xd1\\x81\\xd0\\xb8\\xd1\\x8f'\n",
      "0746dab662bf002f05472f71b2fb72cd\n"
     ]
    }
   ],
   "source": [
    "import hashlib\n",
    "\n",
    "txt = 'Анна Анастасия'\n",
    "\n",
    "# байт символы\n",
    "print(txt)\n",
    "txt_b = txt.encode()\n",
    "print(type(txt_b))\n",
    "print(txt_b.decode())\n",
    "print(txt.encode())\n",
    "print(hashlib.md5(txt.encode()).hexdigest())\n",
    "\n",
    "# hash = hashlib.md5(txt.encode()).hexdigest()\n",
    "# print(hash)\n"
   ]
  },
  {
   "cell_type": "code",
   "execution_count": 2,
   "id": "45bec79b",
   "metadata": {},
   "outputs": [],
   "source": [
    "import hashlib\n",
    "\n"
   ]
  },
  {
   "cell_type": "code",
   "execution_count": 10,
   "id": "af5edf7d",
   "metadata": {},
   "outputs": [],
   "source": [
    "from hashlib import sha256\n",
    "import json\n",
    "\n",
    "class Block:\n",
    "     def __init__(self, index, transactions, timestamp, previous_hash, nonce=0):\n",
    "         self.index = index\n",
    "         self.transactions = transactions\n",
    "         self.timestamp = timestamp\n",
    "         self.previous_hash = previous_hash\n",
    "         self.nonce = nonce\n",
    "\n",
    "     def compute_hash(self):\n",
    "         block_string = json.dumps(self.__dict__, sort_keys=True)\n",
    "        \n",
    "         return sha256(block_string.encode()).hexdigest()\n",
    "import time\n",
    "\n",
    "class Blockchain: \n",
    "     def __init__(self):\n",
    "        self.unconfirmed_transactions = []\n",
    "        self.chain = []\n",
    "        self.create_genesis_block()\n",
    " \n",
    "     def create_genesis_block(self):\n",
    "         genesis_block = Block(0, [], time.time(), \"0\")\n",
    "         genesis_block.hash = genesis_block.compute_hash()\n",
    "         self.chain.append(genesis_block)\n",
    "@property\n",
    "def last_block(self):\n",
    "    return self.chain[-1]"
   ]
  },
  {
   "cell_type": "code",
   "execution_count": 11,
   "id": "aadb3c5e",
   "metadata": {},
   "outputs": [
    {
     "name": "stdout",
     "output_type": "stream",
     "text": [
      "12313 Мария 13124 Илья 13219 Ольга\n"
     ]
    }
   ],
   "source": [
    "spisok = ['12313 Мария',\n",
    "         '13124 Илья',\n",
    "         '13219 Ольга']\n",
    "print(' '.join(spisok))"
   ]
  },
  {
   "cell_type": "code",
   "execution_count": null,
   "id": "d728f402",
   "metadata": {},
   "outputs": [],
   "source": []
  }
 ],
 "metadata": {
  "kernelspec": {
   "display_name": "Python 3 (ipykernel)",
   "language": "python",
   "name": "python3"
  },
  "language_info": {
   "codemirror_mode": {
    "name": "ipython",
    "version": 3
   },
   "file_extension": ".py",
   "mimetype": "text/x-python",
   "name": "python",
   "nbconvert_exporter": "python",
   "pygments_lexer": "ipython3",
   "version": "3.10.9"
  }
 },
 "nbformat": 4,
 "nbformat_minor": 5
}
