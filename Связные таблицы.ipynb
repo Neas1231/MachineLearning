{
 "cells": [
  {
   "cell_type": "code",
   "execution_count": 1,
   "id": "865e6d9a",
   "metadata": {
    "scrolled": true
   },
   "outputs": [
    {
     "data": {
      "text/plain": [
       "<sqlite3.Cursor at 0x15ce6c1a960>"
      ]
     },
     "execution_count": 1,
     "metadata": {},
     "output_type": "execute_result"
    }
   ],
   "source": [
    "import sqlite3\n",
    "\n",
    "con = sqlite3.connect(\"movi.db\")\n",
    "cur = con.cursor()\n",
    "\n",
    "# cur.execute(''' \n",
    "# CREATE TABLE film (\n",
    "# id INTEGER PRIMARY KEY,\n",
    "# name TEXT NOT NULL,\n",
    "# age INTEGER NOT NULL,\n",
    "# genre_id INTEGER NOT NULL,\n",
    "# FOREIGN KEY (genre_id) REFERENCES genre (id)\n",
    "# )\n",
    "# ''')\n",
    "\n",
    "# cur.execute(''' CREATE TABLE genre(\n",
    "# id INTEGER PRIMARY KEY,\n",
    "# name TEXT NOT NULL\n",
    "# )\n",
    "# ''')\n",
    "\n",
    "cur.execute('PRAGMA foreign_keys = 1')"
   ]
  },
  {
   "cell_type": "code",
   "execution_count": 3,
   "id": "7ce35e8d",
   "metadata": {},
   "outputs": [
    {
     "name": "stdout",
     "output_type": "stream",
     "text": [
      "фантастика\n",
      "боевик\n",
      "драма\n",
      "комедия\n",
      "фэнтези\n",
      "ужасы\n",
      "триллер\n"
     ]
    }
   ],
   "source": [
    "for i in range(7):\n",
    "    cur.execute(f'''\n",
    "    INSERT INTO genre (name)\n",
    "    VALUES (?)\n",
    "    ''', (input(),))"
   ]
  },
  {
   "cell_type": "code",
   "execution_count": 4,
   "id": "57511483",
   "metadata": {},
   "outputs": [],
   "source": [
    "con.commit()"
   ]
  },
  {
   "cell_type": "code",
   "execution_count": null,
   "id": "698e1ad0",
   "metadata": {},
   "outputs": [],
   "source": []
  }
 ],
 "metadata": {
  "kernelspec": {
   "display_name": "Python 3 (ipykernel)",
   "language": "python",
   "name": "python3"
  },
  "language_info": {
   "codemirror_mode": {
    "name": "ipython",
    "version": 3
   },
   "file_extension": ".py",
   "mimetype": "text/x-python",
   "name": "python",
   "nbconvert_exporter": "python",
   "pygments_lexer": "ipython3",
   "version": "3.9.16"
  }
 },
 "nbformat": 4,
 "nbformat_minor": 5
}
