{
 "cells": [
  {
   "cell_type": "code",
   "execution_count": 13,
   "id": "e888c91f",
   "metadata": {},
   "outputs": [
    {
     "name": "stdout",
     "output_type": "stream",
     "text": [
      "import pyperclip as pycl\n",
      "import time\n",
      "\n",
      "last_data_buffer = ''\n",
      "\n",
      "while True:\n",
      "А досвиданья буферу 0_0\n",
      "\n",
      "while True:\n",
      "    data_buffer = pycl.paste()\n",
      "    if last_data_buffer != data_buffer:\n",
      "        pycl.copy('А досвиданья буферу 0_0')\n",
      "        print(data_bu\n",
      "А досвиданья буферу 0_0\n",
      "a_buffer)\n",
      "        last_data_buffer = data_buffer\n",
      "    time.sleep(1)\n",
      "А досвиданья буферу 0_0\n",
      "data_buffer = pycl.paste()\n",
      "А досвиданья буферу 0_0\n"
     ]
    },
    {
     "ename": "KeyboardInterrupt",
     "evalue": "",
     "output_type": "error",
     "traceback": [
      "\u001b[1;31m---------------------------------------------------------------------------\u001b[0m",
      "\u001b[1;31mKeyboardInterrupt\u001b[0m                         Traceback (most recent call last)",
      "\u001b[1;32m~\\AppData\\Local\\Temp\\ipykernel_7144\\260820054.py\u001b[0m in \u001b[0;36m<module>\u001b[1;34m\u001b[0m\n\u001b[0;32m     10\u001b[0m         \u001b[0mprint\u001b[0m\u001b[1;33m(\u001b[0m\u001b[0mdata_buffer\u001b[0m\u001b[1;33m)\u001b[0m\u001b[1;33m\u001b[0m\u001b[1;33m\u001b[0m\u001b[0m\n\u001b[0;32m     11\u001b[0m         \u001b[0mlast_data_buffer\u001b[0m \u001b[1;33m=\u001b[0m \u001b[0mdata_buffer\u001b[0m\u001b[1;33m\u001b[0m\u001b[1;33m\u001b[0m\u001b[0m\n\u001b[1;32m---> 12\u001b[1;33m     \u001b[0mtime\u001b[0m\u001b[1;33m.\u001b[0m\u001b[0msleep\u001b[0m\u001b[1;33m(\u001b[0m\u001b[1;36m1\u001b[0m\u001b[1;33m)\u001b[0m\u001b[1;33m\u001b[0m\u001b[1;33m\u001b[0m\u001b[0m\n\u001b[0m",
      "\u001b[1;31mKeyboardInterrupt\u001b[0m: "
     ]
    }
   ],
   "source": [
    "import pyperclip as pycl\n",
    "import time\n",
    "\n",
    "last_data_buffer = ''\n",
    "\n",
    "while True:\n",
    "    data_buffer = pycl.paste()\n",
    "    if last_data_buffer != data_buffer:\n",
    "        #pycl.copy('А досвиданья буферу 0_0')\n",
    "        print(data_buffer)\n",
    "        last_data_buffer = data_buffer\n",
    "    time.sleep(1)"
   ]
  },
  {
   "cell_type": "code",
   "execution_count": null,
   "id": "6ce53dbe",
   "metadata": {},
   "outputs": [],
   "source": [
    "import pyperclip as pycl\n",
    "import time\n",
    "\n",
    "rus_letters = \"АБВГДЕЁЖЗИЙКЛМНОПРСТУФХЦЧШЩЪЫЬЭЮЯабвгдеёжзийклмнопрстуфхцчшщъыьэюя\"\n",
    "\n",
    "last_data_buffer = ''\n",
    "\n",
    "while True:\n",
    "    \n",
    "    data_buffer = pycl.paste()\n",
    "    \n",
    "    for letter in data_buffer:\n",
    "        \n",
    "        if letter in rus_letters and last_data_buffer != data_buffer:\n",
    "            save_file = open('rus_data.txt','a', encoding = 'utf-8')\n",
    "            save_file.write(f\"{data_buffer}\\n\")\n",
    "            save_file.close()\n",
    "            \n",
    "            last_data_buffer = data_buffer\n",
    "            \n",
    "            \n",
    "        \n",
    "    time.sleep(1)"
   ]
  },
  {
   "cell_type": "markdown",
   "id": "1045652b",
   "metadata": {},
   "source": [
    "Игра"
   ]
  },
  {
   "cell_type": "code",
   "execution_count": 98,
   "id": "de4d20d4",
   "metadata": {},
   "outputs": [
    {
     "name": "stdout",
     "output_type": "stream",
     "text": [
      "Укажите своё имя: Никита\n",
      "Добро пожаловать в игру Никита, ваш прошлый показатель: 395\n"
     ]
    }
   ],
   "source": [
    "import random as rand\n",
    "\n",
    "#random_num = random.randint(100, 200)\n",
    "#print(random_num)\n",
    "\n",
    "user_name = input('Укажите своё имя: ')\n",
    "\n",
    "file_save = open('game_s.txt', 'r', encoding = 'utf-8')\n",
    "\n",
    "data_game = file_save.read()\n",
    "\n",
    "file_save.close()\n",
    "\n",
    "data_game_split = data_game.split('\\n')[:-1]\n",
    "\n",
    "name = []\n",
    "score = []\n",
    "for elem in data_game_split:\n",
    "    temp = [elem.split()[0][:-1], elem.split()[-1]] #первый слайсинг - [0]имя, [:-1]удаление запятой; второй - очки\n",
    "    name.append(temp[0])\n",
    "    score.append(temp[1])\n",
    "\n",
    "gloss = dict(zip(name, score))\n",
    "\n",
    "if user_name in name:\n",
    "    print(f'Добро пожаловать в игру {user_name}, ваш прошлый показатель: {gloss[f\"{user_name}\"]}')\n",
    "    #игра\n",
    "    user_score = rand.randint(1,1000)\n",
    "    data_game = data_game.replace(f\"{user_name}, количество ваших очков: {gloss[user_name]}\", f\"{user_name}, количество ваших очков: {user_score}\" )\n",
    "    file_save = open('game_s.txt', 'w', encoding = 'utf-8')\n",
    "    file_save.write(data_game)\n",
    "    file_save.close()\n",
    "    \n",
    "    \n",
    "else:\n",
    "    print('Добавляем нового пользователя!')\n",
    "    #игра\n",
    "    user_score = rand.randint(1,1000)    \n",
    "    file_save = open('game_s.txt', 'a', encoding = 'utf-8')\n",
    "    file_save.write(f'{user_name}, количество ваших очков: {user_score}\\n')\n",
    "    file_save.close()\n",
    "    \n"
   ]
  },
  {
   "cell_type": "code",
   "execution_count": 78,
   "id": "52a4ef98",
   "metadata": {},
   "outputs": [
    {
     "name": "stdout",
     "output_type": "stream",
     "text": [
      "['Никита', 'Арсен', 'allo', 'nik']\n",
      "['30', '360', '832', '60']\n",
      "{'Никита': '30', 'Арсен': '360', 'allo': '832', 'nik': '60'}\n"
     ]
    }
   ],
   "source": [
    "print(name)\n",
    "print(score)\n",
    "print(gloss)"
   ]
  },
  {
   "cell_type": "code",
   "execution_count": 81,
   "id": "ba6bd71f",
   "metadata": {},
   "outputs": [
    {
     "name": "stdout",
     "output_type": "stream",
     "text": [
      "Никита\n"
     ]
    }
   ],
   "source": [
    "print(user_name)"
   ]
  },
  {
   "cell_type": "code",
   "execution_count": 85,
   "id": "dd527b1e",
   "metadata": {},
   "outputs": [
    {
     "name": "stdout",
     "output_type": "stream",
     "text": [
      "Никита, количество ваших очков: 30\n",
      "Арсен, количество ваших очков: 360\n",
      "allo, количество ваших очков: 832\n",
      "nik, количество ваших очков: 60\n",
      "\n"
     ]
    }
   ],
   "source": [
    "print(data_game)"
   ]
  },
  {
   "cell_type": "code",
   "execution_count": null,
   "id": "a595cddb",
   "metadata": {},
   "outputs": [],
   "source": []
  }
 ],
 "metadata": {
  "kernelspec": {
   "display_name": "Python 3 (ipykernel)",
   "language": "python",
   "name": "python3"
  },
  "language_info": {
   "codemirror_mode": {
    "name": "ipython",
    "version": 3
   },
   "file_extension": ".py",
   "mimetype": "text/x-python",
   "name": "python",
   "nbconvert_exporter": "python",
   "pygments_lexer": "ipython3",
   "version": "3.9.13"
  }
 },
 "nbformat": 4,
 "nbformat_minor": 5
}
