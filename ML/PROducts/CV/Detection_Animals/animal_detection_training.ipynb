{
 "cells": [
  {
   "cell_type": "code",
   "execution_count": 1,
   "id": "initial_id",
   "metadata": {
    "collapsed": true,
    "ExecuteTime": {
     "end_time": "2024-02-05T07:14:34.030475300Z",
     "start_time": "2024-02-05T07:14:29.818901500Z"
    }
   },
   "outputs": [
    {
     "name": "stdout",
     "output_type": "stream",
     "text": [
      "True\n",
      "cuda\n",
      "Is CUDA supported by this system? True\n",
      "CUDA version: 12.1\n",
      "ID of current CUDA device:0\n",
      "Name of current CUDA device: NVIDIA GeForce RTX 4060\n",
      "How many devices 1\n"
     ]
    }
   ],
   "source": [
    "import torch\n",
    "from torch import nn\n",
    "from torchvision import datasets, transforms\n",
    "import matplotlib.pyplot as plt\n",
    "import numpy as np\n",
    "\n",
    "print(torch.cuda.is_available())\n",
    "device = torch.device(\"cuda\" if torch.cuda.is_available() else \"cpu\")\n",
    "print(device)\n",
    "\n",
    "print(f\"Is CUDA supported by this system? {torch.cuda.is_available()}\")\n",
    "print(f\"CUDA version: {torch.version.cuda}\")\n",
    "\n",
    "# Storing ID of current CUDA device\n",
    "cuda_id = torch.cuda.current_device()\n",
    "print(f\"ID of current CUDA device:{torch.cuda.current_device()}\")\n",
    "\n",
    "print(f\"Name of current CUDA device: {torch.cuda.get_device_name(cuda_id)}\")\n",
    "print(f\"How many devices {torch.cuda.device_count()}\")"
   ]
  },
  {
   "cell_type": "code",
   "outputs": [],
   "source": [
    "import shutil\n",
    "import os\n",
    "shutil.copytree(os.getcwd() + , \"dst\", dirs_exist_ok=True)"
   ],
   "metadata": {
    "collapsed": false
   },
   "id": "51bab1a564a31940"
  },
  {
   "cell_type": "code",
   "outputs": [
    {
     "ename": "FileNotFoundError",
     "evalue": "[WinError 3] Системе не удается найти указанный путь: 'D:\\\\Github proj\\\\MachineLearning\\\\ML\\\\PROducts\\\\CV\\\\Detection_Animals\\\\Folder 1'",
     "output_type": "error",
     "traceback": [
      "\u001B[1;31m---------------------------------------------------------------------------\u001B[0m",
      "\u001B[1;31mFileNotFoundError\u001B[0m                         Traceback (most recent call last)",
      "Cell \u001B[1;32mIn[53], line 13\u001B[0m\n\u001B[0;32m     11\u001B[0m \u001B[38;5;28;01mfor\u001B[39;00m index, val \u001B[38;5;129;01min\u001B[39;00m \u001B[38;5;28menumerate\u001B[39m(list_dir):\n\u001B[0;32m     12\u001B[0m     path \u001B[38;5;241m=\u001B[39m os\u001B[38;5;241m.\u001B[39mpath\u001B[38;5;241m.\u001B[39mjoin(current_folder, val)\n\u001B[1;32m---> 13\u001B[0m     content_list[ list_dir[index] ] \u001B[38;5;241m=\u001B[39m os\u001B[38;5;241m.\u001B[39mlistdir(path)\n",
      "\u001B[1;31mFileNotFoundError\u001B[0m: [WinError 3] Системе не удается найти указанный путь: 'D:\\\\Github proj\\\\MachineLearning\\\\ML\\\\PROducts\\\\CV\\\\Detection_Animals\\\\Folder 1'"
     ]
    }
   ],
   "source": [
    "\n",
    "# current folder path \n",
    "current_folder = os.getcwd()\n",
    "\n",
    "# list of folders to be merged \n",
    "list_dir = ['Folder 1', 'Folder 2', 'Folder 3']\n",
    "\n",
    "# enumerate on list_dir to get the  \n",
    "# content of all the folders ans store it in a dictionary \n",
    "content_list = {}\n",
    "for index, val in enumerate(list_dir):\n",
    "    path = os.path.join(current_folder, val)\n",
    "    content_list[ list_dir[index] ] = os.listdir(path)"
   ],
   "metadata": {
    "collapsed": false,
    "ExecuteTime": {
     "end_time": "2024-02-05T11:09:47.878353800Z",
     "start_time": "2024-02-05T11:09:47.847478800Z"
    }
   },
   "id": "ee92f551555ac547",
   "execution_count": 53
  },
  {
   "cell_type": "code",
   "outputs": [
    {
     "data": {
      "text/plain": "'D:\\\\Github proj\\\\MachineLearning\\\\ML\\\\PROducts\\\\CV\\\\Detection_Animals'"
     },
     "execution_count": 54,
     "metadata": {},
     "output_type": "execute_result"
    }
   ],
   "source": [
    "os.getcwd()"
   ],
   "metadata": {
    "collapsed": false,
    "ExecuteTime": {
     "end_time": "2024-02-05T11:09:52.395257800Z",
     "start_time": "2024-02-05T11:09:52.390606600Z"
    }
   },
   "id": "67fada1a174cb305",
   "execution_count": 54
  },
  {
   "cell_type": "markdown",
   "source": [
    "# PyTorch Yolov5"
   ],
   "metadata": {
    "collapsed": false
   },
   "id": "fe217300d2304c8e"
  },
  {
   "cell_type": "code",
   "outputs": [
    {
     "name": "stdout",
     "output_type": "stream",
     "text": [
      "Collecting gitpython>=3.1.30 (from -r https://raw.githubusercontent.com/ultralytics/yolov5/master/requirements.txt (line 5))\n",
      "  Obtaining dependency information for gitpython>=3.1.30 from https://files.pythonhosted.org/packages/45/c6/a637a7a11d4619957cb95ca195168759a4502991b1b91c13d3203ffc3748/GitPython-3.1.41-py3-none-any.whl.metadata\n",
      "  Downloading GitPython-3.1.41-py3-none-any.whl.metadata (14 kB)\n",
      "Requirement already satisfied: matplotlib>=3.3 in d:\\hran\\anacondas\\lib\\site-packages (from -r https://raw.githubusercontent.com/ultralytics/yolov5/master/requirements.txt (line 6)) (3.7.2)\n",
      "Requirement already satisfied: numpy>=1.23.5 in d:\\hran\\anacondas\\lib\\site-packages (from -r https://raw.githubusercontent.com/ultralytics/yolov5/master/requirements.txt (line 7)) (1.24.3)\n",
      "Requirement already satisfied: opencv-python>=4.1.1 in d:\\hran\\anacondas\\lib\\site-packages (from -r https://raw.githubusercontent.com/ultralytics/yolov5/master/requirements.txt (line 8)) (4.9.0.80)\n",
      "Requirement already satisfied: Pillow>=9.4.0 in d:\\hran\\anacondas\\lib\\site-packages (from -r https://raw.githubusercontent.com/ultralytics/yolov5/master/requirements.txt (line 9)) (9.4.0)\n",
      "Requirement already satisfied: psutil in d:\\hran\\anacondas\\lib\\site-packages (from -r https://raw.githubusercontent.com/ultralytics/yolov5/master/requirements.txt (line 10)) (5.9.0)\n",
      "Requirement already satisfied: PyYAML>=5.3.1 in d:\\hran\\anacondas\\lib\\site-packages (from -r https://raw.githubusercontent.com/ultralytics/yolov5/master/requirements.txt (line 11)) (6.0)\n",
      "Requirement already satisfied: requests>=2.23.0 in d:\\hran\\anacondas\\lib\\site-packages (from -r https://raw.githubusercontent.com/ultralytics/yolov5/master/requirements.txt (line 12)) (2.31.0)\n",
      "Requirement already satisfied: scipy>=1.4.1 in d:\\hran\\anacondas\\lib\\site-packages (from -r https://raw.githubusercontent.com/ultralytics/yolov5/master/requirements.txt (line 13)) (1.11.1)\n",
      "Collecting thop>=0.1.1 (from -r https://raw.githubusercontent.com/ultralytics/yolov5/master/requirements.txt (line 14))\n",
      "  Downloading thop-0.1.1.post2209072238-py3-none-any.whl (15 kB)\n",
      "Requirement already satisfied: torch>=1.8.0 in d:\\hran\\anacondas\\lib\\site-packages (from -r https://raw.githubusercontent.com/ultralytics/yolov5/master/requirements.txt (line 15)) (2.1.2+cu121)\n",
      "Requirement already satisfied: torchvision>=0.9.0 in d:\\hran\\anacondas\\lib\\site-packages (from -r https://raw.githubusercontent.com/ultralytics/yolov5/master/requirements.txt (line 16)) (0.16.2+cu121)\n",
      "Requirement already satisfied: tqdm>=4.64.0 in d:\\hran\\anacondas\\lib\\site-packages (from -r https://raw.githubusercontent.com/ultralytics/yolov5/master/requirements.txt (line 17)) (4.65.0)\n",
      "Collecting ultralytics>=8.0.232 (from -r https://raw.githubusercontent.com/ultralytics/yolov5/master/requirements.txt (line 18))\n",
      "  Obtaining dependency information for ultralytics>=8.0.232 from https://files.pythonhosted.org/packages/57/e4/762a111cb112f751eda6fa6716a97c00eecaff09e7d2d3835d96e29fcd5d/ultralytics-8.1.9-py3-none-any.whl.metadata\n",
      "  Downloading ultralytics-8.1.9-py3-none-any.whl.metadata (40 kB)\n",
      "     ---------------------------------------- 0.0/40.2 kB ? eta -:--:--\n",
      "     ---------------------------------------- 40.2/40.2 kB ? eta 0:00:00\n",
      "Requirement already satisfied: pandas>=1.1.4 in d:\\hran\\anacondas\\lib\\site-packages (from -r https://raw.githubusercontent.com/ultralytics/yolov5/master/requirements.txt (line 27)) (2.0.3)\n",
      "Requirement already satisfied: seaborn>=0.11.0 in d:\\hran\\anacondas\\lib\\site-packages (from -r https://raw.githubusercontent.com/ultralytics/yolov5/master/requirements.txt (line 28)) (0.12.2)\n",
      "Requirement already satisfied: setuptools>=65.5.1 in d:\\hran\\anacondas\\lib\\site-packages (from -r https://raw.githubusercontent.com/ultralytics/yolov5/master/requirements.txt (line 42)) (68.0.0)\n",
      "Collecting gitdb<5,>=4.0.1 (from gitpython>=3.1.30->-r https://raw.githubusercontent.com/ultralytics/yolov5/master/requirements.txt (line 5))\n",
      "  Obtaining dependency information for gitdb<5,>=4.0.1 from https://files.pythonhosted.org/packages/fd/5b/8f0c4a5bb9fd491c277c21eff7ccae71b47d43c4446c9d0c6cff2fe8c2c4/gitdb-4.0.11-py3-none-any.whl.metadata\n",
      "  Downloading gitdb-4.0.11-py3-none-any.whl.metadata (1.2 kB)\n",
      "Requirement already satisfied: contourpy>=1.0.1 in d:\\hran\\anacondas\\lib\\site-packages (from matplotlib>=3.3->-r https://raw.githubusercontent.com/ultralytics/yolov5/master/requirements.txt (line 6)) (1.0.5)\n",
      "Requirement already satisfied: cycler>=0.10 in d:\\hran\\anacondas\\lib\\site-packages (from matplotlib>=3.3->-r https://raw.githubusercontent.com/ultralytics/yolov5/master/requirements.txt (line 6)) (0.11.0)\n",
      "Requirement already satisfied: fonttools>=4.22.0 in d:\\hran\\anacondas\\lib\\site-packages (from matplotlib>=3.3->-r https://raw.githubusercontent.com/ultralytics/yolov5/master/requirements.txt (line 6)) (4.25.0)\n",
      "Requirement already satisfied: kiwisolver>=1.0.1 in d:\\hran\\anacondas\\lib\\site-packages (from matplotlib>=3.3->-r https://raw.githubusercontent.com/ultralytics/yolov5/master/requirements.txt (line 6)) (1.4.4)\n",
      "Requirement already satisfied: packaging>=20.0 in d:\\hran\\anacondas\\lib\\site-packages (from matplotlib>=3.3->-r https://raw.githubusercontent.com/ultralytics/yolov5/master/requirements.txt (line 6)) (23.1)\n",
      "Requirement already satisfied: pyparsing<3.1,>=2.3.1 in d:\\hran\\anacondas\\lib\\site-packages (from matplotlib>=3.3->-r https://raw.githubusercontent.com/ultralytics/yolov5/master/requirements.txt (line 6)) (3.0.9)\n",
      "Requirement already satisfied: python-dateutil>=2.7 in d:\\hran\\anacondas\\lib\\site-packages (from matplotlib>=3.3->-r https://raw.githubusercontent.com/ultralytics/yolov5/master/requirements.txt (line 6)) (2.8.2)\n",
      "Requirement already satisfied: charset-normalizer<4,>=2 in d:\\hran\\anacondas\\lib\\site-packages (from requests>=2.23.0->-r https://raw.githubusercontent.com/ultralytics/yolov5/master/requirements.txt (line 12)) (2.0.4)\n",
      "Requirement already satisfied: idna<4,>=2.5 in d:\\hran\\anacondas\\lib\\site-packages (from requests>=2.23.0->-r https://raw.githubusercontent.com/ultralytics/yolov5/master/requirements.txt (line 12)) (3.4)\n",
      "Requirement already satisfied: urllib3<3,>=1.21.1 in d:\\hran\\anacondas\\lib\\site-packages (from requests>=2.23.0->-r https://raw.githubusercontent.com/ultralytics/yolov5/master/requirements.txt (line 12)) (1.26.16)\n",
      "Requirement already satisfied: certifi>=2017.4.17 in d:\\hran\\anacondas\\lib\\site-packages (from requests>=2.23.0->-r https://raw.githubusercontent.com/ultralytics/yolov5/master/requirements.txt (line 12)) (2023.7.22)\n",
      "Requirement already satisfied: filelock in d:\\hran\\anacondas\\lib\\site-packages (from torch>=1.8.0->-r https://raw.githubusercontent.com/ultralytics/yolov5/master/requirements.txt (line 15)) (3.9.0)\n",
      "Requirement already satisfied: typing-extensions in d:\\hran\\anacondas\\lib\\site-packages (from torch>=1.8.0->-r https://raw.githubusercontent.com/ultralytics/yolov5/master/requirements.txt (line 15)) (4.7.1)\n",
      "Requirement already satisfied: sympy in d:\\hran\\anacondas\\lib\\site-packages (from torch>=1.8.0->-r https://raw.githubusercontent.com/ultralytics/yolov5/master/requirements.txt (line 15)) (1.11.1)\n",
      "Requirement already satisfied: networkx in d:\\hran\\anacondas\\lib\\site-packages (from torch>=1.8.0->-r https://raw.githubusercontent.com/ultralytics/yolov5/master/requirements.txt (line 15)) (3.1)\n",
      "Requirement already satisfied: jinja2 in d:\\hran\\anacondas\\lib\\site-packages (from torch>=1.8.0->-r https://raw.githubusercontent.com/ultralytics/yolov5/master/requirements.txt (line 15)) (3.1.2)\n",
      "Requirement already satisfied: fsspec in d:\\hran\\anacondas\\lib\\site-packages (from torch>=1.8.0->-r https://raw.githubusercontent.com/ultralytics/yolov5/master/requirements.txt (line 15)) (2023.4.0)\n",
      "Requirement already satisfied: colorama in d:\\hran\\anacondas\\lib\\site-packages (from tqdm>=4.64.0->-r https://raw.githubusercontent.com/ultralytics/yolov5/master/requirements.txt (line 17)) (0.4.6)\n",
      "Requirement already satisfied: py-cpuinfo in d:\\hran\\anacondas\\lib\\site-packages (from ultralytics>=8.0.232->-r https://raw.githubusercontent.com/ultralytics/yolov5/master/requirements.txt (line 18)) (8.0.0)\n",
      "Requirement already satisfied: pytz>=2020.1 in d:\\hran\\anacondas\\lib\\site-packages (from pandas>=1.1.4->-r https://raw.githubusercontent.com/ultralytics/yolov5/master/requirements.txt (line 27)) (2023.3.post1)\n",
      "Requirement already satisfied: tzdata>=2022.1 in d:\\hran\\anacondas\\lib\\site-packages (from pandas>=1.1.4->-r https://raw.githubusercontent.com/ultralytics/yolov5/master/requirements.txt (line 27)) (2023.3)\n",
      "Collecting smmap<6,>=3.0.1 (from gitdb<5,>=4.0.1->gitpython>=3.1.30->-r https://raw.githubusercontent.com/ultralytics/yolov5/master/requirements.txt (line 5))\n",
      "  Obtaining dependency information for smmap<6,>=3.0.1 from https://files.pythonhosted.org/packages/a7/a5/10f97f73544edcdef54409f1d839f6049a0d79df68adbc1ceb24d1aaca42/smmap-5.0.1-py3-none-any.whl.metadata\n",
      "  Downloading smmap-5.0.1-py3-none-any.whl.metadata (4.3 kB)\n",
      "Requirement already satisfied: six>=1.5 in d:\\hran\\anacondas\\lib\\site-packages (from python-dateutil>=2.7->matplotlib>=3.3->-r https://raw.githubusercontent.com/ultralytics/yolov5/master/requirements.txt (line 6)) (1.16.0)\n",
      "Requirement already satisfied: MarkupSafe>=2.0 in d:\\hran\\anacondas\\lib\\site-packages (from jinja2->torch>=1.8.0->-r https://raw.githubusercontent.com/ultralytics/yolov5/master/requirements.txt (line 15)) (2.1.1)\n",
      "Requirement already satisfied: mpmath>=0.19 in d:\\hran\\anacondas\\lib\\site-packages (from sympy->torch>=1.8.0->-r https://raw.githubusercontent.com/ultralytics/yolov5/master/requirements.txt (line 15)) (1.3.0)\n",
      "Downloading GitPython-3.1.41-py3-none-any.whl (196 kB)\n",
      "   ---------------------------------------- 0.0/196.4 kB ? eta -:--:--\n",
      "   ---------------------------------------- 196.4/196.4 kB 6.0 MB/s eta 0:00:00\n",
      "Downloading ultralytics-8.1.9-py3-none-any.whl (709 kB)\n",
      "   ---------------------------------------- 0.0/709.3 kB ? eta -:--:--\n",
      "   --------------- ------------------------ 276.5/709.3 kB 8.6 MB/s eta 0:00:01\n",
      "   ---------------------------------------  706.6/709.3 kB 8.9 MB/s eta 0:00:01\n",
      "   ---------------------------------------- 709.3/709.3 kB 7.5 MB/s eta 0:00:00\n",
      "Downloading gitdb-4.0.11-py3-none-any.whl (62 kB)\n",
      "   ---------------------------------------- 0.0/62.7 kB ? eta -:--:--\n",
      "   ---------------------------------------- 62.7/62.7 kB 3.3 MB/s eta 0:00:00\n",
      "Downloading smmap-5.0.1-py3-none-any.whl (24 kB)\n",
      "Installing collected packages: smmap, gitdb, thop, gitpython, ultralytics\n",
      "Successfully installed gitdb-4.0.11 gitpython-3.1.41 smmap-5.0.1 thop-0.1.1.post2209072238 ultralytics-8.1.9\n"
     ]
    }
   ],
   "source": [
    "!pip install -r https://raw.githubusercontent.com/ultralytics/yolov5/master/requirements.txt"
   ],
   "metadata": {
    "collapsed": false,
    "ExecuteTime": {
     "end_time": "2024-02-05T07:18:40.030707400Z",
     "start_time": "2024-02-05T07:18:33.897687300Z"
    }
   },
   "id": "e62c5d51f4c52554",
   "execution_count": 2
  },
  {
   "cell_type": "code",
   "outputs": [
    {
     "name": "stderr",
     "output_type": "stream",
     "text": [
      "Using cache found in C:\\Users\\nicka/.cache\\torch\\hub\\ultralytics_yolov5_master\n",
      "YOLOv5  2024-2-5 Python-3.11.5 torch-2.1.2+cu121 CUDA:0 (NVIDIA GeForce RTX 4060, 8188MiB)\n",
      "\n",
      "Fusing layers... \n",
      "YOLOv5s summary: 213 layers, 7225885 parameters, 0 gradients, 16.4 GFLOPs\n",
      "Adding AutoShape... \n"
     ]
    }
   ],
   "source": [
    "model = torch.hub.load('ultralytics/yolov5', 'yolov5s')\n",
    "\n",
    "# Image\n",
    "im = 'https://ultralytics.com/images/zidane.jpg'\n",
    "\n",
    "# Inference\n",
    "results = model([im,im,im])"
   ],
   "metadata": {
    "collapsed": false,
    "ExecuteTime": {
     "end_time": "2024-02-05T07:24:47.949316900Z",
     "start_time": "2024-02-05T07:24:42.486596Z"
    }
   },
   "id": "56708e7d7c843473",
   "execution_count": 9
  },
  {
   "cell_type": "code",
   "outputs": [
    {
     "data": {
      "text/plain": "         xmin        ymin         xmax        ymax  confidence  class    name\n0  742.988525   48.350983  1141.838379  720.000000    0.881153      0  person\n1  442.009613  437.523804   496.660126  709.984619    0.675283     27     tie\n2  123.009552  193.280334   715.688965  719.748596    0.664540      0  person\n3  982.797668  308.415131  1027.356812  419.990875    0.260213     27     tie",
      "text/html": "<div>\n<style scoped>\n    .dataframe tbody tr th:only-of-type {\n        vertical-align: middle;\n    }\n\n    .dataframe tbody tr th {\n        vertical-align: top;\n    }\n\n    .dataframe thead th {\n        text-align: right;\n    }\n</style>\n<table border=\"1\" class=\"dataframe\">\n  <thead>\n    <tr style=\"text-align: right;\">\n      <th></th>\n      <th>xmin</th>\n      <th>ymin</th>\n      <th>xmax</th>\n      <th>ymax</th>\n      <th>confidence</th>\n      <th>class</th>\n      <th>name</th>\n    </tr>\n  </thead>\n  <tbody>\n    <tr>\n      <th>0</th>\n      <td>742.988525</td>\n      <td>48.350983</td>\n      <td>1141.838379</td>\n      <td>720.000000</td>\n      <td>0.881153</td>\n      <td>0</td>\n      <td>person</td>\n    </tr>\n    <tr>\n      <th>1</th>\n      <td>442.009613</td>\n      <td>437.523804</td>\n      <td>496.660126</td>\n      <td>709.984619</td>\n      <td>0.675283</td>\n      <td>27</td>\n      <td>tie</td>\n    </tr>\n    <tr>\n      <th>2</th>\n      <td>123.009552</td>\n      <td>193.280334</td>\n      <td>715.688965</td>\n      <td>719.748596</td>\n      <td>0.664540</td>\n      <td>0</td>\n      <td>person</td>\n    </tr>\n    <tr>\n      <th>3</th>\n      <td>982.797668</td>\n      <td>308.415131</td>\n      <td>1027.356812</td>\n      <td>419.990875</td>\n      <td>0.260213</td>\n      <td>27</td>\n      <td>tie</td>\n    </tr>\n  </tbody>\n</table>\n</div>"
     },
     "execution_count": 14,
     "metadata": {},
     "output_type": "execute_result"
    }
   ],
   "source": [
    "results.pandas().xyxy[2]"
   ],
   "metadata": {
    "collapsed": false,
    "ExecuteTime": {
     "end_time": "2024-02-05T07:25:05.980446300Z",
     "start_time": "2024-02-05T07:25:05.972415300Z"
    }
   },
   "id": "980238cd464887e3",
   "execution_count": 14
  },
  {
   "cell_type": "markdown",
   "source": [
    "# GitHub Yolov5"
   ],
   "metadata": {
    "collapsed": false
   },
   "id": "2948c53606507f48"
  },
  {
   "cell_type": "code",
   "outputs": [
    {
     "name": "stdout",
     "output_type": "stream",
     "text": [
      "D:\\Github proj\\MachineLearning\\ML\\PROducts\\CV\\Detection_Animals\\yolov5\n"
     ]
    },
    {
     "name": "stderr",
     "output_type": "stream",
     "text": [
      "fatal: destination path 'yolov5' already exists and is not an empty directory.\n"
     ]
    },
    {
     "name": "stdout",
     "output_type": "stream",
     "text": [
      "Requirement already satisfied: gitpython>=3.1.30 in d:\\hran\\anacondas\\lib\\site-packages (from -r requirements.txt (line 5)) (3.1.41)\n",
      "Requirement already satisfied: matplotlib>=3.3 in d:\\hran\\anacondas\\lib\\site-packages (from -r requirements.txt (line 6)) (3.7.2)\n",
      "Requirement already satisfied: numpy>=1.23.5 in d:\\hran\\anacondas\\lib\\site-packages (from -r requirements.txt (line 7)) (1.24.3)\n",
      "Requirement already satisfied: opencv-python>=4.1.1 in d:\\hran\\anacondas\\lib\\site-packages (from -r requirements.txt (line 8)) (4.9.0.80)\n",
      "Requirement already satisfied: Pillow>=9.4.0 in d:\\hran\\anacondas\\lib\\site-packages (from -r requirements.txt (line 9)) (9.4.0)\n",
      "Requirement already satisfied: psutil in d:\\hran\\anacondas\\lib\\site-packages (from -r requirements.txt (line 10)) (5.9.0)\n",
      "Requirement already satisfied: PyYAML>=5.3.1 in d:\\hran\\anacondas\\lib\\site-packages (from -r requirements.txt (line 11)) (6.0)\n",
      "Requirement already satisfied: requests>=2.23.0 in d:\\hran\\anacondas\\lib\\site-packages (from -r requirements.txt (line 12)) (2.31.0)\n",
      "Requirement already satisfied: scipy>=1.4.1 in d:\\hran\\anacondas\\lib\\site-packages (from -r requirements.txt (line 13)) (1.11.1)\n",
      "Requirement already satisfied: thop>=0.1.1 in d:\\hran\\anacondas\\lib\\site-packages (from -r requirements.txt (line 14)) (0.1.1.post2209072238)\n",
      "Requirement already satisfied: torch>=1.8.0 in d:\\hran\\anacondas\\lib\\site-packages (from -r requirements.txt (line 15)) (2.1.2+cu121)\n",
      "Requirement already satisfied: torchvision>=0.9.0 in d:\\hran\\anacondas\\lib\\site-packages (from -r requirements.txt (line 16)) (0.16.2+cu121)\n",
      "Requirement already satisfied: tqdm>=4.64.0 in d:\\hran\\anacondas\\lib\\site-packages (from -r requirements.txt (line 17)) (4.65.0)\n",
      "Requirement already satisfied: ultralytics>=8.0.232 in d:\\hran\\anacondas\\lib\\site-packages (from -r requirements.txt (line 18)) (8.1.9)\n",
      "Requirement already satisfied: pandas>=1.1.4 in d:\\hran\\anacondas\\lib\\site-packages (from -r requirements.txt (line 27)) (2.0.3)\n",
      "Requirement already satisfied: seaborn>=0.11.0 in d:\\hran\\anacondas\\lib\\site-packages (from -r requirements.txt (line 28)) (0.12.2)\n",
      "Requirement already satisfied: setuptools>=65.5.1 in d:\\hran\\anacondas\\lib\\site-packages (from -r requirements.txt (line 42)) (68.0.0)\n",
      "Requirement already satisfied: gitdb<5,>=4.0.1 in d:\\hran\\anacondas\\lib\\site-packages (from gitpython>=3.1.30->-r requirements.txt (line 5)) (4.0.11)\n",
      "Requirement already satisfied: contourpy>=1.0.1 in d:\\hran\\anacondas\\lib\\site-packages (from matplotlib>=3.3->-r requirements.txt (line 6)) (1.0.5)\n",
      "Requirement already satisfied: cycler>=0.10 in d:\\hran\\anacondas\\lib\\site-packages (from matplotlib>=3.3->-r requirements.txt (line 6)) (0.11.0)\n",
      "Requirement already satisfied: fonttools>=4.22.0 in d:\\hran\\anacondas\\lib\\site-packages (from matplotlib>=3.3->-r requirements.txt (line 6)) (4.25.0)\n",
      "Requirement already satisfied: kiwisolver>=1.0.1 in d:\\hran\\anacondas\\lib\\site-packages (from matplotlib>=3.3->-r requirements.txt (line 6)) (1.4.4)\n",
      "Requirement already satisfied: packaging>=20.0 in d:\\hran\\anacondas\\lib\\site-packages (from matplotlib>=3.3->-r requirements.txt (line 6)) (23.1)\n",
      "Requirement already satisfied: pyparsing<3.1,>=2.3.1 in d:\\hran\\anacondas\\lib\\site-packages (from matplotlib>=3.3->-r requirements.txt (line 6)) (3.0.9)\n",
      "Requirement already satisfied: python-dateutil>=2.7 in d:\\hran\\anacondas\\lib\\site-packages (from matplotlib>=3.3->-r requirements.txt (line 6)) (2.8.2)\n",
      "Requirement already satisfied: charset-normalizer<4,>=2 in d:\\hran\\anacondas\\lib\\site-packages (from requests>=2.23.0->-r requirements.txt (line 12)) (2.0.4)\n",
      "Requirement already satisfied: idna<4,>=2.5 in d:\\hran\\anacondas\\lib\\site-packages (from requests>=2.23.0->-r requirements.txt (line 12)) (3.4)\n",
      "Requirement already satisfied: urllib3<3,>=1.21.1 in d:\\hran\\anacondas\\lib\\site-packages (from requests>=2.23.0->-r requirements.txt (line 12)) (1.26.16)\n",
      "Requirement already satisfied: certifi>=2017.4.17 in d:\\hran\\anacondas\\lib\\site-packages (from requests>=2.23.0->-r requirements.txt (line 12)) (2023.7.22)\n",
      "Requirement already satisfied: filelock in d:\\hran\\anacondas\\lib\\site-packages (from torch>=1.8.0->-r requirements.txt (line 15)) (3.9.0)\n",
      "Requirement already satisfied: typing-extensions in d:\\hran\\anacondas\\lib\\site-packages (from torch>=1.8.0->-r requirements.txt (line 15)) (4.7.1)\n",
      "Requirement already satisfied: sympy in d:\\hran\\anacondas\\lib\\site-packages (from torch>=1.8.0->-r requirements.txt (line 15)) (1.11.1)\n",
      "Requirement already satisfied: networkx in d:\\hran\\anacondas\\lib\\site-packages (from torch>=1.8.0->-r requirements.txt (line 15)) (3.1)\n",
      "Requirement already satisfied: jinja2 in d:\\hran\\anacondas\\lib\\site-packages (from torch>=1.8.0->-r requirements.txt (line 15)) (3.1.2)\n",
      "Requirement already satisfied: fsspec in d:\\hran\\anacondas\\lib\\site-packages (from torch>=1.8.0->-r requirements.txt (line 15)) (2023.4.0)\n",
      "Requirement already satisfied: colorama in d:\\hran\\anacondas\\lib\\site-packages (from tqdm>=4.64.0->-r requirements.txt (line 17)) (0.4.6)\n",
      "Requirement already satisfied: py-cpuinfo in d:\\hran\\anacondas\\lib\\site-packages (from ultralytics>=8.0.232->-r requirements.txt (line 18)) (8.0.0)\n",
      "Requirement already satisfied: pytz>=2020.1 in d:\\hran\\anacondas\\lib\\site-packages (from pandas>=1.1.4->-r requirements.txt (line 27)) (2023.3.post1)\n",
      "Requirement already satisfied: tzdata>=2022.1 in d:\\hran\\anacondas\\lib\\site-packages (from pandas>=1.1.4->-r requirements.txt (line 27)) (2023.3)\n",
      "Requirement already satisfied: smmap<6,>=3.0.1 in d:\\hran\\anacondas\\lib\\site-packages (from gitdb<5,>=4.0.1->gitpython>=3.1.30->-r requirements.txt (line 5)) (5.0.1)\n",
      "Requirement already satisfied: six>=1.5 in d:\\hran\\anacondas\\lib\\site-packages (from python-dateutil>=2.7->matplotlib>=3.3->-r requirements.txt (line 6)) (1.16.0)\n",
      "Requirement already satisfied: MarkupSafe>=2.0 in d:\\hran\\anacondas\\lib\\site-packages (from jinja2->torch>=1.8.0->-r requirements.txt (line 15)) (2.1.1)\n",
      "Requirement already satisfied: mpmath>=0.19 in d:\\hran\\anacondas\\lib\\site-packages (from sympy->torch>=1.8.0->-r requirements.txt (line 15)) (1.3.0)\n",
      "D:\\Github proj\\MachineLearning\\ML\\PROducts\\CV\\Detection_Animals\n"
     ]
    }
   ],
   "source": [
    "!git clone https://github.com/ultralytics/yolov5\n",
    "%cd yolov5\n",
    "!pip install -r requirements.txt\n",
    "%cd ../"
   ],
   "metadata": {
    "collapsed": false,
    "ExecuteTime": {
     "end_time": "2024-02-05T07:36:35.735315400Z",
     "start_time": "2024-02-05T07:36:32.612522800Z"
    }
   },
   "id": "46d5c3303e72a170",
   "execution_count": 40
  },
  {
   "cell_type": "code",
   "outputs": [
    {
     "name": "stdout",
     "output_type": "stream",
     "text": [
      "D:\\Github proj\\MachineLearning\\ML\\PROducts\\CV\\Detection_Animals\n"
     ]
    }
   ],
   "source": [
    "!echo %cd%"
   ],
   "metadata": {
    "collapsed": false,
    "ExecuteTime": {
     "end_time": "2024-02-05T07:39:31.256191900Z",
     "start_time": "2024-02-05T07:39:31.235910800Z"
    }
   },
   "id": "bafdd177214c5792",
   "execution_count": 42
  },
  {
   "cell_type": "markdown",
   "source": [
    "# Yolo-Annotation-Tool-New-"
   ],
   "metadata": {
    "collapsed": false
   },
   "id": "948dd738fc1b4c88"
  },
  {
   "cell_type": "code",
   "outputs": [
    {
     "name": "stderr",
     "output_type": "stream",
     "text": [
      "Cloning into 'Yolo-Annotation-Tool-New-'...\n"
     ]
    }
   ],
   "source": [
    "!git clone https://github.com/ManivannanMurugavel/Yolo-Annotation-Tool-New-"
   ],
   "metadata": {
    "collapsed": false,
    "ExecuteTime": {
     "end_time": "2024-02-05T08:40:07.765627Z",
     "start_time": "2024-02-05T08:40:06.818148500Z"
    }
   },
   "id": "49b8e166b030154a",
   "execution_count": 43
  },
  {
   "cell_type": "code",
   "outputs": [
    {
     "name": "stdout",
     "output_type": "stream",
     "text": [
      "D:\\Github proj\\MachineLearning\\ML\\PROducts\\CV\\Detection_Animals\\Yolo-Annotation-Tool-New-\n",
      "D:\\Github proj\\MachineLearning\\ML\\PROducts\\CV\\Detection_Animals\n"
     ]
    }
   ],
   "source": [
    "%cd Yolo-Annotation-Tool-New-\n",
    "# create classes.txt file and write all classes what you train the objects2\n",
    "# run main.py\n",
    "# run process.py\n",
    "%cd ../"
   ],
   "metadata": {
    "collapsed": false,
    "ExecuteTime": {
     "end_time": "2024-02-05T08:54:22.635442600Z",
     "start_time": "2024-02-05T08:54:22.630128Z"
    }
   },
   "id": "9b77a20e3b77f5bb",
   "execution_count": 52
  },
  {
   "cell_type": "code",
   "outputs": [],
   "source": [],
   "metadata": {
    "collapsed": false
   },
   "id": "2b0cc6307dfc074d"
  }
 ],
 "metadata": {
  "kernelspec": {
   "display_name": "Python 3",
   "language": "python",
   "name": "python3"
  },
  "language_info": {
   "codemirror_mode": {
    "name": "ipython",
    "version": 2
   },
   "file_extension": ".py",
   "mimetype": "text/x-python",
   "name": "python",
   "nbconvert_exporter": "python",
   "pygments_lexer": "ipython2",
   "version": "2.7.6"
  }
 },
 "nbformat": 4,
 "nbformat_minor": 5
}
