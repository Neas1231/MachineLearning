{
 "cells": [
  {
   "cell_type": "markdown",
   "source": [
    "# Разбиение данных по файлам"
   ],
   "metadata": {
    "collapsed": false
   },
   "id": "c43ba7ffb890bc95"
  },
  {
   "cell_type": "code",
   "execution_count": 2,
   "id": "initial_id",
   "metadata": {
    "collapsed": true,
    "ExecuteTime": {
     "end_time": "2024-01-12T07:26:56.397049500Z",
     "start_time": "2024-01-12T07:26:53.346571400Z"
    }
   },
   "outputs": [
    {
     "data": {
      "text/plain": "         label                                            comment\n0        toxic                                скотина что сказать\n1       normal  я сегодня проезжала по рабочей и между домами ...\n2       normal  очередной лохотрон зачем придумывать очередной...\n3       normal  ретро дежавю сложно понять чужое сердце лиш ощ...\n4       normal             а когда мы статус агрогородка получили\n...        ...                                                ...\n386325  normal  спала в родительском доме на своей кровати про...\n386326  normal  эх мы немного решили сократить путь сейчас уже...\n386327  normal  что происходит со мной когда в эфире звучит мо...\n386328  normal  любимая я подарю тебе эту звезду имя какой зве...\n386329  normal  посмотри непытайтесьпокинутьомск сегодня в вав...\n\n[386330 rows x 2 columns]",
      "text/html": "<div>\n<style scoped>\n    .dataframe tbody tr th:only-of-type {\n        vertical-align: middle;\n    }\n\n    .dataframe tbody tr th {\n        vertical-align: top;\n    }\n\n    .dataframe thead th {\n        text-align: right;\n    }\n</style>\n<table border=\"1\" class=\"dataframe\">\n  <thead>\n    <tr style=\"text-align: right;\">\n      <th></th>\n      <th>label</th>\n      <th>comment</th>\n    </tr>\n  </thead>\n  <tbody>\n    <tr>\n      <th>0</th>\n      <td>toxic</td>\n      <td>скотина что сказать</td>\n    </tr>\n    <tr>\n      <th>1</th>\n      <td>normal</td>\n      <td>я сегодня проезжала по рабочей и между домами ...</td>\n    </tr>\n    <tr>\n      <th>2</th>\n      <td>normal</td>\n      <td>очередной лохотрон зачем придумывать очередной...</td>\n    </tr>\n    <tr>\n      <th>3</th>\n      <td>normal</td>\n      <td>ретро дежавю сложно понять чужое сердце лиш ощ...</td>\n    </tr>\n    <tr>\n      <th>4</th>\n      <td>normal</td>\n      <td>а когда мы статус агрогородка получили</td>\n    </tr>\n    <tr>\n      <th>...</th>\n      <td>...</td>\n      <td>...</td>\n    </tr>\n    <tr>\n      <th>386325</th>\n      <td>normal</td>\n      <td>спала в родительском доме на своей кровати про...</td>\n    </tr>\n    <tr>\n      <th>386326</th>\n      <td>normal</td>\n      <td>эх мы немного решили сократить путь сейчас уже...</td>\n    </tr>\n    <tr>\n      <th>386327</th>\n      <td>normal</td>\n      <td>что происходит со мной когда в эфире звучит мо...</td>\n    </tr>\n    <tr>\n      <th>386328</th>\n      <td>normal</td>\n      <td>любимая я подарю тебе эту звезду имя какой зве...</td>\n    </tr>\n    <tr>\n      <th>386329</th>\n      <td>normal</td>\n      <td>посмотри непытайтесьпокинутьомск сегодня в вав...</td>\n    </tr>\n  </tbody>\n</table>\n<p>386330 rows × 2 columns</p>\n</div>"
     },
     "execution_count": 2,
     "metadata": {},
     "output_type": "execute_result"
    }
   ],
   "source": [
    "import pandas as pd\n",
    "\n",
    "df = pd.read_csv('clean_data/tokenized_data.csv')\n",
    "df"
   ]
  },
  {
   "cell_type": "code",
   "execution_count": 3,
   "outputs": [],
   "source": [
    "df.loc[df['label'] == 'normal'].to_csv('clean_data/tokenized_russian_normal_data.csv',index=False)"
   ],
   "metadata": {
    "collapsed": false,
    "ExecuteTime": {
     "end_time": "2024-01-12T07:26:58.450988700Z",
     "start_time": "2024-01-12T07:26:56.428304900Z"
    }
   },
   "id": "c533443e6edc0f4b"
  },
  {
   "cell_type": "code",
   "execution_count": 4,
   "outputs": [],
   "source": [
    "df.loc[df['label'] == 'toxic'].to_csv('clean_data/tokenized_russian_toxic_data.csv',index=False)"
   ],
   "metadata": {
    "collapsed": false,
    "ExecuteTime": {
     "end_time": "2024-01-12T07:26:58.795086100Z",
     "start_time": "2024-01-12T07:26:58.450988700Z"
    }
   },
   "id": "76092f3d7f947ff3"
  },
  {
   "cell_type": "markdown",
   "source": [
    "# ____________________________________________________________________________________"
   ],
   "metadata": {
    "collapsed": false
   },
   "id": "98c48601d6ca480f"
  },
  {
   "cell_type": "code",
   "execution_count": 16,
   "outputs": [
    {
     "data": {
      "text/plain": "                                                    text label\n0      Бесплатный вход в еженедельном соревновании дл...  spam\n1      FreeMsg Привет, дорогая, прошла уже неделя, а ...  spam\n2      ПОБЕДИТЕЛЬ Как ценный клиент сети вы были выбр...  spam\n3      Если у вас есть месяц или более мобильного тел...  spam\n4      ШЕСТЬ шансов выиграть НАЛИЧНЫЕ От до фунтов tx...  spam\n...                                                  ...   ...\n28214  Вы любите недорогие акции Stoxs, лучшие акции ...  spam\n28215  это чудо микрокапитализации предупреждение инв...  spam\n28216  содержащуюся здесь информацию в качестве юриди...  spam\n28217  Stox с небольшой капитализацией может взорвать...  spam\n28218  В отчете Empire Research Associates говорится,...  spam\n\n[28219 rows x 2 columns]",
      "text/html": "<div>\n<style scoped>\n    .dataframe tbody tr th:only-of-type {\n        vertical-align: middle;\n    }\n\n    .dataframe tbody tr th {\n        vertical-align: top;\n    }\n\n    .dataframe thead th {\n        text-align: right;\n    }\n</style>\n<table border=\"1\" class=\"dataframe\">\n  <thead>\n    <tr style=\"text-align: right;\">\n      <th></th>\n      <th>text</th>\n      <th>label</th>\n    </tr>\n  </thead>\n  <tbody>\n    <tr>\n      <th>0</th>\n      <td>Бесплатный вход в еженедельном соревновании дл...</td>\n      <td>spam</td>\n    </tr>\n    <tr>\n      <th>1</th>\n      <td>FreeMsg Привет, дорогая, прошла уже неделя, а ...</td>\n      <td>spam</td>\n    </tr>\n    <tr>\n      <th>2</th>\n      <td>ПОБЕДИТЕЛЬ Как ценный клиент сети вы были выбр...</td>\n      <td>spam</td>\n    </tr>\n    <tr>\n      <th>3</th>\n      <td>Если у вас есть месяц или более мобильного тел...</td>\n      <td>spam</td>\n    </tr>\n    <tr>\n      <th>4</th>\n      <td>ШЕСТЬ шансов выиграть НАЛИЧНЫЕ От до фунтов tx...</td>\n      <td>spam</td>\n    </tr>\n    <tr>\n      <th>...</th>\n      <td>...</td>\n      <td>...</td>\n    </tr>\n    <tr>\n      <th>28214</th>\n      <td>Вы любите недорогие акции Stoxs, лучшие акции ...</td>\n      <td>spam</td>\n    </tr>\n    <tr>\n      <th>28215</th>\n      <td>это чудо микрокапитализации предупреждение инв...</td>\n      <td>spam</td>\n    </tr>\n    <tr>\n      <th>28216</th>\n      <td>содержащуюся здесь информацию в качестве юриди...</td>\n      <td>spam</td>\n    </tr>\n    <tr>\n      <th>28217</th>\n      <td>Stox с небольшой капитализацией может взорвать...</td>\n      <td>spam</td>\n    </tr>\n    <tr>\n      <th>28218</th>\n      <td>В отчете Empire Research Associates говорится,...</td>\n      <td>spam</td>\n    </tr>\n  </tbody>\n</table>\n<p>28219 rows × 2 columns</p>\n</div>"
     },
     "execution_count": 16,
     "metadata": {},
     "output_type": "execute_result"
    }
   ],
   "source": [
    "df = pd.read_csv('clean_data/raw_russian_spam_data.csv')\n",
    "df.columns = ['text']\n",
    "df['label'] = 'spam'\n",
    "df.dropna(inplace=True)\n",
    "df.drop_duplicates(inplace=True)\n",
    "df.reset_index(inplace=True,drop=True)\n",
    "df"
   ],
   "metadata": {
    "collapsed": false,
    "ExecuteTime": {
     "end_time": "2024-01-12T07:35:02.491341700Z",
     "start_time": "2024-01-12T07:35:00.355134700Z"
    }
   },
   "id": "2734b0f71112aa99"
  },
  {
   "cell_type": "code",
   "execution_count": 17,
   "outputs": [
    {
     "name": "stderr",
     "output_type": "stream",
     "text": [
      "[nltk_data] Downloading package stopwords to\n",
      "[nltk_data]     C:\\Users\\admin\\AppData\\Roaming\\nltk_data...\n",
      "[nltk_data]   Package stopwords is already up-to-date!\n",
      "[nltk_data] Downloading package punkt to\n",
      "[nltk_data]     C:\\Users\\admin\\AppData\\Roaming\\nltk_data...\n",
      "[nltk_data]   Package punkt is already up-to-date!\n"
     ]
    }
   ],
   "source": [
    "import nltk\n",
    "nltk.download('stopwords')\n",
    "nltk.download('punkt')\n",
    "from nltk.corpus import stopwords\n",
    "from nltk.stem.porter import PorterStemmer\n",
    "from nltk.tokenize import word_tokenize\n",
    "from pymorphy3 import MorphAnalyzer\n",
    "import re\n",
    "patterns = \"[A-Za-z0-9!#$%&'()*+,./:;<=>?@[\\]^_`{|}~—\\\"\\-]+\"\n",
    "stopwords_ru = stopwords.words(\"russian\")\n",
    "morph = MorphAnalyzer()\n",
    "stemmer = PorterStemmer()\n",
    "def lemmatize(text):\n",
    "    doc = re.sub(patterns, ' ', text)\n",
    "    tokens = word_tokenize(doc, language='russian')\n",
    "    lemmas = [morph.parse(token)[0].normal_form for token in tokens if token.lower() not in stopwords_ru]\n",
    "    stems = [stemmer.stem(token) for token in tokens]\n",
    "    return stems\n",
    "def concat(text):\n",
    "    text= ' '.join(text)\n",
    "    return text"
   ],
   "metadata": {
    "collapsed": false,
    "ExecuteTime": {
     "end_time": "2024-01-12T07:35:03.204025600Z",
     "start_time": "2024-01-12T07:35:02.926301600Z"
    }
   },
   "id": "f3d6043abda40d87"
  },
  {
   "cell_type": "code",
   "execution_count": 18,
   "outputs": [
    {
     "data": {
      "text/plain": "                                                    text label\n0      бесплатный вход в еженедельном соревновании дл...  spam\n1      привет дорогая прошла уже неделя а ответа нет ...  spam\n2      победитель как ценный клиент сети вы были выбр...  spam\n3      если у вас есть месяц или более мобильного тел...  spam\n4      шесть шансов выиграть наличные от до фунтов и ...  spam\n...                                                  ...   ...\n28214  вы любите недорогие акции лучшие акции за год ...  spam\n28215  это чудо микрокапитализации предупреждение инв...  spam\n28216  содержащуюся здесь информацию в качестве юриди...  spam\n28217  с небольшой капитализацией может взорвать инду...  spam\n28218  в отчете говорится что компания может добиться...  spam\n\n[28219 rows x 2 columns]",
      "text/html": "<div>\n<style scoped>\n    .dataframe tbody tr th:only-of-type {\n        vertical-align: middle;\n    }\n\n    .dataframe tbody tr th {\n        vertical-align: top;\n    }\n\n    .dataframe thead th {\n        text-align: right;\n    }\n</style>\n<table border=\"1\" class=\"dataframe\">\n  <thead>\n    <tr style=\"text-align: right;\">\n      <th></th>\n      <th>text</th>\n      <th>label</th>\n    </tr>\n  </thead>\n  <tbody>\n    <tr>\n      <th>0</th>\n      <td>бесплатный вход в еженедельном соревновании дл...</td>\n      <td>spam</td>\n    </tr>\n    <tr>\n      <th>1</th>\n      <td>привет дорогая прошла уже неделя а ответа нет ...</td>\n      <td>spam</td>\n    </tr>\n    <tr>\n      <th>2</th>\n      <td>победитель как ценный клиент сети вы были выбр...</td>\n      <td>spam</td>\n    </tr>\n    <tr>\n      <th>3</th>\n      <td>если у вас есть месяц или более мобильного тел...</td>\n      <td>spam</td>\n    </tr>\n    <tr>\n      <th>4</th>\n      <td>шесть шансов выиграть наличные от до фунтов и ...</td>\n      <td>spam</td>\n    </tr>\n    <tr>\n      <th>...</th>\n      <td>...</td>\n      <td>...</td>\n    </tr>\n    <tr>\n      <th>28214</th>\n      <td>вы любите недорогие акции лучшие акции за год ...</td>\n      <td>spam</td>\n    </tr>\n    <tr>\n      <th>28215</th>\n      <td>это чудо микрокапитализации предупреждение инв...</td>\n      <td>spam</td>\n    </tr>\n    <tr>\n      <th>28216</th>\n      <td>содержащуюся здесь информацию в качестве юриди...</td>\n      <td>spam</td>\n    </tr>\n    <tr>\n      <th>28217</th>\n      <td>с небольшой капитализацией может взорвать инду...</td>\n      <td>spam</td>\n    </tr>\n    <tr>\n      <th>28218</th>\n      <td>в отчете говорится что компания может добиться...</td>\n      <td>spam</td>\n    </tr>\n  </tbody>\n</table>\n<p>28219 rows × 2 columns</p>\n</div>"
     },
     "execution_count": 18,
     "metadata": {},
     "output_type": "execute_result"
    }
   ],
   "source": [
    "df['text'] = df['text'].apply(lemmatize).apply(concat)\n",
    "df"
   ],
   "metadata": {
    "collapsed": false,
    "ExecuteTime": {
     "end_time": "2024-01-12T07:43:53.341141200Z",
     "start_time": "2024-01-12T07:35:07.885244900Z"
    }
   },
   "id": "681934ce114aa485"
  },
  {
   "cell_type": "code",
   "execution_count": 19,
   "outputs": [],
   "source": [
    "df.to_csv('clean_data/tokenized_russian_spam_data.csv',index=False)"
   ],
   "metadata": {
    "collapsed": false,
    "ExecuteTime": {
     "end_time": "2024-01-12T07:44:53.887489600Z",
     "start_time": "2024-01-12T07:44:52.377611700Z"
    }
   },
   "id": "d655952672e84217"
  }
 ],
 "metadata": {
  "kernelspec": {
   "display_name": "Python 3",
   "language": "python",
   "name": "python3"
  },
  "language_info": {
   "codemirror_mode": {
    "name": "ipython",
    "version": 2
   },
   "file_extension": ".py",
   "mimetype": "text/x-python",
   "name": "python",
   "nbconvert_exporter": "python",
   "pygments_lexer": "ipython2",
   "version": "2.7.6"
  }
 },
 "nbformat": 4,
 "nbformat_minor": 5
}
