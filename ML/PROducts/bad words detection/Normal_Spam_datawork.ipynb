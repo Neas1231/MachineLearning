{
 "cells": [
  {
   "cell_type": "code",
   "execution_count": 1,
   "outputs": [],
   "source": [
    "import pandas as pd\n",
    "\n",
    "df = pd.DataFrame()"
   ],
   "metadata": {
    "collapsed": false,
    "ExecuteTime": {
     "end_time": "2023-12-14T11:05:15.783717Z",
     "start_time": "2023-12-14T11:05:15.137730100Z"
    }
   },
   "id": "444c4fddb5427cdb"
  },
  {
   "cell_type": "markdown",
   "source": [
    "# ___________________________________________________________________"
   ],
   "metadata": {
    "collapsed": false
   },
   "id": "ef32a918e782648d"
  },
  {
   "cell_type": "code",
   "execution_count": 2,
   "id": "181de95d",
   "metadata": {
    "ExecuteTime": {
     "end_time": "2023-12-14T11:05:16.252414900Z",
     "start_time": "2023-12-14T11:05:16.192319100Z"
    }
   },
   "outputs": [
    {
     "data": {
      "text/plain": "2       Free entry in 2 a wkly comp to win FA Cup fina...\n5       FreeMsg Hey there darling it's been 3 week's n...\n8       WINNER!! As a valued network customer you have...\n9       Had your mobile 11 months or more? U R entitle...\n11      SIX chances to win CASH! From 100 to 20,000 po...\n                              ...                        \n5537    Want explicit SEX in 30 secs? Ring 02073162414...\n5540    ASKED 3MOBILE IF 0870 CHATLINES INCLU IN FREE ...\n5547    Had your contract mobile 11 Mnths? Latest Moto...\n5566    REMINDER FROM O2: To get 2.50 pounds free call...\n5567    This is the 2nd time we have tried 2 contact u...\nName: v2, Length: 747, dtype: object"
     },
     "execution_count": 2,
     "metadata": {},
     "output_type": "execute_result"
    }
   ],
   "source": [
    "data = pd.read_csv('datasets/spam/spam.csv', encoding='latin-1')\n",
    "data = data.loc[data['v1'] == 'spam', 'v2'].dropna()\n",
    "data"
   ]
  },
  {
   "cell_type": "code",
   "execution_count": 3,
   "outputs": [
    {
     "data": {
      "text/plain": "                                                      0\n2     Free entry in 2 a wkly comp to win FA Cup fina...\n5     FreeMsg Hey there darling it's been 3 week's n...\n8     WINNER!! As a valued network customer you have...\n9     Had your mobile 11 months or more? U R entitle...\n11    SIX chances to win CASH! From 100 to 20,000 po...\n...                                                 ...\n5537  Want explicit SEX in 30 secs? Ring 02073162414...\n5540  ASKED 3MOBILE IF 0870 CHATLINES INCLU IN FREE ...\n5547  Had your contract mobile 11 Mnths? Latest Moto...\n5566  REMINDER FROM O2: To get 2.50 pounds free call...\n5567  This is the 2nd time we have tried 2 contact u...\n\n[747 rows x 1 columns]",
      "text/html": "<div>\n<style scoped>\n    .dataframe tbody tr th:only-of-type {\n        vertical-align: middle;\n    }\n\n    .dataframe tbody tr th {\n        vertical-align: top;\n    }\n\n    .dataframe thead th {\n        text-align: right;\n    }\n</style>\n<table border=\"1\" class=\"dataframe\">\n  <thead>\n    <tr style=\"text-align: right;\">\n      <th></th>\n      <th>0</th>\n    </tr>\n  </thead>\n  <tbody>\n    <tr>\n      <th>2</th>\n      <td>Free entry in 2 a wkly comp to win FA Cup fina...</td>\n    </tr>\n    <tr>\n      <th>5</th>\n      <td>FreeMsg Hey there darling it's been 3 week's n...</td>\n    </tr>\n    <tr>\n      <th>8</th>\n      <td>WINNER!! As a valued network customer you have...</td>\n    </tr>\n    <tr>\n      <th>9</th>\n      <td>Had your mobile 11 months or more? U R entitle...</td>\n    </tr>\n    <tr>\n      <th>11</th>\n      <td>SIX chances to win CASH! From 100 to 20,000 po...</td>\n    </tr>\n    <tr>\n      <th>...</th>\n      <td>...</td>\n    </tr>\n    <tr>\n      <th>5537</th>\n      <td>Want explicit SEX in 30 secs? Ring 02073162414...</td>\n    </tr>\n    <tr>\n      <th>5540</th>\n      <td>ASKED 3MOBILE IF 0870 CHATLINES INCLU IN FREE ...</td>\n    </tr>\n    <tr>\n      <th>5547</th>\n      <td>Had your contract mobile 11 Mnths? Latest Moto...</td>\n    </tr>\n    <tr>\n      <th>5566</th>\n      <td>REMINDER FROM O2: To get 2.50 pounds free call...</td>\n    </tr>\n    <tr>\n      <th>5567</th>\n      <td>This is the 2nd time we have tried 2 contact u...</td>\n    </tr>\n  </tbody>\n</table>\n<p>747 rows × 1 columns</p>\n</div>"
     },
     "execution_count": 3,
     "metadata": {},
     "output_type": "execute_result"
    }
   ],
   "source": [
    "df = pd.concat([df, data])\n",
    "df"
   ],
   "metadata": {
    "collapsed": false,
    "ExecuteTime": {
     "end_time": "2023-12-14T11:05:16.728642700Z",
     "start_time": "2023-12-14T11:05:16.712580300Z"
    }
   },
   "id": "609f8312972e142"
  },
  {
   "cell_type": "markdown",
   "source": [
    "# ___________________________________________________________________"
   ],
   "metadata": {
    "collapsed": false
   },
   "id": "d4def76c0df826f9"
  },
  {
   "cell_type": "code",
   "execution_count": 4,
   "outputs": [
    {
     "data": {
      "text/plain": "2500     save up to NUMBER on life insurance why spend...\n2501    NUMBER fight the risk of cancer URL NUMBER sli...\n2502    NUMBER fight the risk of cancer URL NUMBER sli...\n2503     adult club offers free membership instant acc...\n2504    i thought you might like these NUMBER slim dow...\n                              ...                        \n2995     abc s good morning america ranks it the NUMBE...\n2996     hyperlink hyperlink hyperlink let mortgage le...\n2997     thank you for shopping with us gifts for all ...\n2998     the famous ebay marketing e course learn to s...\n2999     hello this is chinese traditional 子 件 NUMBER世...\nName: email, Length: 500, dtype: object"
     },
     "execution_count": 4,
     "metadata": {},
     "output_type": "execute_result"
    }
   ],
   "source": [
    "data = pd.read_csv('datasets/spam/spam_or_not_spam.csv')\n",
    "data = data.loc[data['label'] == 1, 'email']\n",
    "data"
   ],
   "metadata": {
    "collapsed": false,
    "ExecuteTime": {
     "end_time": "2023-12-14T11:05:18.672954Z",
     "start_time": "2023-12-14T11:05:18.568876200Z"
    }
   },
   "id": "8e52e240601b62ed"
  },
  {
   "cell_type": "code",
   "execution_count": 5,
   "outputs": [
    {
     "data": {
      "text/plain": "                                                      0\n2     Free entry in 2 a wkly comp to win FA Cup fina...\n5     FreeMsg Hey there darling it's been 3 week's n...\n8     WINNER!! As a valued network customer you have...\n9     Had your mobile 11 months or more? U R entitle...\n11    SIX chances to win CASH! From 100 to 20,000 po...\n...                                                 ...\n2995   abc s good morning america ranks it the NUMBE...\n2996   hyperlink hyperlink hyperlink let mortgage le...\n2997   thank you for shopping with us gifts for all ...\n2998   the famous ebay marketing e course learn to s...\n2999   hello this is chinese traditional 子 件 NUMBER世...\n\n[1247 rows x 1 columns]",
      "text/html": "<div>\n<style scoped>\n    .dataframe tbody tr th:only-of-type {\n        vertical-align: middle;\n    }\n\n    .dataframe tbody tr th {\n        vertical-align: top;\n    }\n\n    .dataframe thead th {\n        text-align: right;\n    }\n</style>\n<table border=\"1\" class=\"dataframe\">\n  <thead>\n    <tr style=\"text-align: right;\">\n      <th></th>\n      <th>0</th>\n    </tr>\n  </thead>\n  <tbody>\n    <tr>\n      <th>2</th>\n      <td>Free entry in 2 a wkly comp to win FA Cup fina...</td>\n    </tr>\n    <tr>\n      <th>5</th>\n      <td>FreeMsg Hey there darling it's been 3 week's n...</td>\n    </tr>\n    <tr>\n      <th>8</th>\n      <td>WINNER!! As a valued network customer you have...</td>\n    </tr>\n    <tr>\n      <th>9</th>\n      <td>Had your mobile 11 months or more? U R entitle...</td>\n    </tr>\n    <tr>\n      <th>11</th>\n      <td>SIX chances to win CASH! From 100 to 20,000 po...</td>\n    </tr>\n    <tr>\n      <th>...</th>\n      <td>...</td>\n    </tr>\n    <tr>\n      <th>2995</th>\n      <td>abc s good morning america ranks it the NUMBE...</td>\n    </tr>\n    <tr>\n      <th>2996</th>\n      <td>hyperlink hyperlink hyperlink let mortgage le...</td>\n    </tr>\n    <tr>\n      <th>2997</th>\n      <td>thank you for shopping with us gifts for all ...</td>\n    </tr>\n    <tr>\n      <th>2998</th>\n      <td>the famous ebay marketing e course learn to s...</td>\n    </tr>\n    <tr>\n      <th>2999</th>\n      <td>hello this is chinese traditional 子 件 NUMBER世...</td>\n    </tr>\n  </tbody>\n</table>\n<p>1247 rows × 1 columns</p>\n</div>"
     },
     "execution_count": 5,
     "metadata": {},
     "output_type": "execute_result"
    }
   ],
   "source": [
    "df = pd.concat([df, data])\n",
    "df"
   ],
   "metadata": {
    "collapsed": false,
    "ExecuteTime": {
     "end_time": "2023-12-14T11:05:18.837481600Z",
     "start_time": "2023-12-14T11:05:18.784474500Z"
    }
   },
   "id": "f8b80bbe858525f2"
  },
  {
   "cell_type": "markdown",
   "source": [
    "# ___________________________________________________________________"
   ],
   "metadata": {
    "collapsed": false
   },
   "id": "5f38282e587be65f"
  },
  {
   "cell_type": "code",
   "execution_count": 6,
   "outputs": [
    {
     "data": {
      "text/plain": "2       Free entry in 2 a wkly comp to win FA Cup fina...\n5       FreeMsg Hey there darling it's been 3 week's n...\n8       WINNER!! As a valued network customer you have...\n9       Had your mobile 11 months or more? U R entitle...\n11      SIX chances to win CASH! From 100 to 20,000 po...\n                              ...                        \n5539    Want explicit SEX in 30 secs? Ring 02073162414...\n5542    ASKED 3MOBILE IF 0870 CHATLINES INCLU IN FREE ...\n5549    Had your contract mobile 11 Mnths? Latest Moto...\n5568    REMINDER FROM O2: To get 2.50 pounds free call...\n5569    This is the 2nd time we have tried 2 contact u...\nName: comment, Length: 747, dtype: object"
     },
     "execution_count": 6,
     "metadata": {},
     "output_type": "execute_result"
    }
   ],
   "source": [
    "with open('datasets/spam/SMSSpamCollection', encoding='utf-8') as file:\n",
    "    data = file.read()\n",
    "data = data.split('\\n')\n",
    "data = pd.DataFrame(list(map(lambda x: x.split('\\t'), data)))\n",
    "data.columns = ['label', 'comment']\n",
    "data = data.loc[data['label'] == 'spam', 'comment'].copy()\n",
    "data"
   ],
   "metadata": {
    "collapsed": false,
    "ExecuteTime": {
     "end_time": "2023-12-14T11:05:21.187317700Z",
     "start_time": "2023-12-14T11:05:21.152803100Z"
    }
   },
   "id": "eb1f079038c99af8"
  },
  {
   "cell_type": "code",
   "execution_count": 7,
   "outputs": [
    {
     "data": {
      "text/plain": "                                                      0\n2     Free entry in 2 a wkly comp to win FA Cup fina...\n5     FreeMsg Hey there darling it's been 3 week's n...\n8     WINNER!! As a valued network customer you have...\n9     Had your mobile 11 months or more? U R entitle...\n11    SIX chances to win CASH! From 100 to 20,000 po...\n...                                                 ...\n5539  Want explicit SEX in 30 secs? Ring 02073162414...\n5542  ASKED 3MOBILE IF 0870 CHATLINES INCLU IN FREE ...\n5549  Had your contract mobile 11 Mnths? Latest Moto...\n5568  REMINDER FROM O2: To get 2.50 pounds free call...\n5569  This is the 2nd time we have tried 2 contact u...\n\n[1994 rows x 1 columns]",
      "text/html": "<div>\n<style scoped>\n    .dataframe tbody tr th:only-of-type {\n        vertical-align: middle;\n    }\n\n    .dataframe tbody tr th {\n        vertical-align: top;\n    }\n\n    .dataframe thead th {\n        text-align: right;\n    }\n</style>\n<table border=\"1\" class=\"dataframe\">\n  <thead>\n    <tr style=\"text-align: right;\">\n      <th></th>\n      <th>0</th>\n    </tr>\n  </thead>\n  <tbody>\n    <tr>\n      <th>2</th>\n      <td>Free entry in 2 a wkly comp to win FA Cup fina...</td>\n    </tr>\n    <tr>\n      <th>5</th>\n      <td>FreeMsg Hey there darling it's been 3 week's n...</td>\n    </tr>\n    <tr>\n      <th>8</th>\n      <td>WINNER!! As a valued network customer you have...</td>\n    </tr>\n    <tr>\n      <th>9</th>\n      <td>Had your mobile 11 months or more? U R entitle...</td>\n    </tr>\n    <tr>\n      <th>11</th>\n      <td>SIX chances to win CASH! From 100 to 20,000 po...</td>\n    </tr>\n    <tr>\n      <th>...</th>\n      <td>...</td>\n    </tr>\n    <tr>\n      <th>5539</th>\n      <td>Want explicit SEX in 30 secs? Ring 02073162414...</td>\n    </tr>\n    <tr>\n      <th>5542</th>\n      <td>ASKED 3MOBILE IF 0870 CHATLINES INCLU IN FREE ...</td>\n    </tr>\n    <tr>\n      <th>5549</th>\n      <td>Had your contract mobile 11 Mnths? Latest Moto...</td>\n    </tr>\n    <tr>\n      <th>5568</th>\n      <td>REMINDER FROM O2: To get 2.50 pounds free call...</td>\n    </tr>\n    <tr>\n      <th>5569</th>\n      <td>This is the 2nd time we have tried 2 contact u...</td>\n    </tr>\n  </tbody>\n</table>\n<p>1994 rows × 1 columns</p>\n</div>"
     },
     "execution_count": 7,
     "metadata": {},
     "output_type": "execute_result"
    }
   ],
   "source": [
    "df = pd.concat([df, data])\n",
    "df"
   ],
   "metadata": {
    "collapsed": false,
    "ExecuteTime": {
     "end_time": "2023-12-14T11:05:21.764732200Z",
     "start_time": "2023-12-14T11:05:21.753770900Z"
    }
   },
   "id": "5d97238ce4a90bee"
  },
  {
   "cell_type": "markdown",
   "source": [
    "# ___________________________________________________________________"
   ],
   "metadata": {
    "collapsed": false
   },
   "id": "89e219cec6418643"
  },
  {
   "cell_type": "code",
   "execution_count": 8,
   "outputs": [
    {
     "data": {
      "text/plain": "3       Subject: photoshop , windows , office . cheap ...\n7       Subject: looking for medication ? we ` re the ...\n10      Subject: vocable % rnd - word asceticism\\r\\nvc...\n11      Subject: report 01405 !\\r\\nwffur attion brom e...\n13      Subject: vic . odin n ^ ow\\r\\nberne hotbox car...\n                              ...                        \n5159    Subject: pictures\\r\\nstreamlined denizen ajar ...\n5161    Subject: penny stocks are about timing\\r\\nnoma...\n5162    Subject: anomaly boys from 3881\\r\\nuosda apapr...\n5164    Subject: slutty milf wants to meet you\\r\\ntake...\n5170    Subject: important online banking alert\\r\\ndea...\nName: text, Length: 1499, dtype: object"
     },
     "execution_count": 8,
     "metadata": {},
     "output_type": "execute_result"
    }
   ],
   "source": [
    "data = pd.read_csv('datasets/spam/spam_ham_dataset.csv')\n",
    "data.drop(columns=['Unnamed: 0', 'label_num'], inplace=True)\n",
    "data = data.loc[data['label'] == 'spam', 'text']\n",
    "data"
   ],
   "metadata": {
    "collapsed": false,
    "ExecuteTime": {
     "end_time": "2023-12-14T11:05:26.654399300Z",
     "start_time": "2023-12-14T11:05:26.563276Z"
    }
   },
   "id": "4535be72628d334a"
  },
  {
   "cell_type": "code",
   "execution_count": 9,
   "outputs": [
    {
     "data": {
      "text/plain": "3        photoshop , windows , office . cheap . main t...\n7        looking for medication ? we ` re the best sou...\n10       vocable % rnd - word asceticism\\r\\nvcsc - bra...\n11       report 01405 !\\r\\nwffur attion brom est inst ...\n13       vic . odin n ^ ow\\r\\nberne hotbox carnal brid...\n                              ...                        \n5159     pictures\\r\\nstreamlined denizen ajar chased\\r...\n5161     penny stocks are about timing\\r\\nnomad intern...\n5162     anomaly boys from 3881\\r\\nuosda apaproved mle...\n5164     slutty milf wants to meet you\\r\\ntake that !\\...\n5170     important online banking alert\\r\\ndear valued...\nName: text, Length: 1499, dtype: object"
     },
     "execution_count": 9,
     "metadata": {},
     "output_type": "execute_result"
    }
   ],
   "source": [
    "def subj_del(text):\n",
    "    return text.replace('Subject:', '', 1)\n",
    "\n",
    "\n",
    "data = data.apply(subj_del)\n",
    "data"
   ],
   "metadata": {
    "collapsed": false,
    "ExecuteTime": {
     "end_time": "2023-12-14T11:05:29.658568900Z",
     "start_time": "2023-12-14T11:05:29.632345300Z"
    }
   },
   "id": "f8d5c29f8af9f524"
  },
  {
   "cell_type": "code",
   "execution_count": 10,
   "outputs": [
    {
     "data": {
      "text/plain": "                                                      0\n2     Free entry in 2 a wkly comp to win FA Cup fina...\n5     FreeMsg Hey there darling it's been 3 week's n...\n8     WINNER!! As a valued network customer you have...\n9     Had your mobile 11 months or more? U R entitle...\n11    SIX chances to win CASH! From 100 to 20,000 po...\n...                                                 ...\n5159   pictures\\r\\nstreamlined denizen ajar chased\\r...\n5161   penny stocks are about timing\\r\\nnomad intern...\n5162   anomaly boys from 3881\\r\\nuosda apaproved mle...\n5164   slutty milf wants to meet you\\r\\ntake that !\\...\n5170   important online banking alert\\r\\ndear valued...\n\n[3493 rows x 1 columns]",
      "text/html": "<div>\n<style scoped>\n    .dataframe tbody tr th:only-of-type {\n        vertical-align: middle;\n    }\n\n    .dataframe tbody tr th {\n        vertical-align: top;\n    }\n\n    .dataframe thead th {\n        text-align: right;\n    }\n</style>\n<table border=\"1\" class=\"dataframe\">\n  <thead>\n    <tr style=\"text-align: right;\">\n      <th></th>\n      <th>0</th>\n    </tr>\n  </thead>\n  <tbody>\n    <tr>\n      <th>2</th>\n      <td>Free entry in 2 a wkly comp to win FA Cup fina...</td>\n    </tr>\n    <tr>\n      <th>5</th>\n      <td>FreeMsg Hey there darling it's been 3 week's n...</td>\n    </tr>\n    <tr>\n      <th>8</th>\n      <td>WINNER!! As a valued network customer you have...</td>\n    </tr>\n    <tr>\n      <th>9</th>\n      <td>Had your mobile 11 months or more? U R entitle...</td>\n    </tr>\n    <tr>\n      <th>11</th>\n      <td>SIX chances to win CASH! From 100 to 20,000 po...</td>\n    </tr>\n    <tr>\n      <th>...</th>\n      <td>...</td>\n    </tr>\n    <tr>\n      <th>5159</th>\n      <td>pictures\\r\\nstreamlined denizen ajar chased\\r...</td>\n    </tr>\n    <tr>\n      <th>5161</th>\n      <td>penny stocks are about timing\\r\\nnomad intern...</td>\n    </tr>\n    <tr>\n      <th>5162</th>\n      <td>anomaly boys from 3881\\r\\nuosda apaproved mle...</td>\n    </tr>\n    <tr>\n      <th>5164</th>\n      <td>slutty milf wants to meet you\\r\\ntake that !\\...</td>\n    </tr>\n    <tr>\n      <th>5170</th>\n      <td>important online banking alert\\r\\ndear valued...</td>\n    </tr>\n  </tbody>\n</table>\n<p>3493 rows × 1 columns</p>\n</div>"
     },
     "execution_count": 10,
     "metadata": {},
     "output_type": "execute_result"
    }
   ],
   "source": [
    "df = pd.concat([df, data])\n",
    "df"
   ],
   "metadata": {
    "collapsed": false,
    "ExecuteTime": {
     "end_time": "2023-12-14T11:05:31.074665Z",
     "start_time": "2023-12-14T11:05:31.053298100Z"
    }
   },
   "id": "3cef7d4cd243a7a9"
  },
  {
   "cell_type": "markdown",
   "source": [
    "# ___________________________________________________________________"
   ],
   "metadata": {
    "collapsed": false
   },
   "id": "a86320c1eb43111e"
  },
  {
   "cell_type": "code",
   "execution_count": 11,
   "outputs": [
    {
     "data": {
      "text/plain": "0     Hi James,\\n\\nHave you claim your complimentary...\n4     Hey Prachanda Rawal,\\n\\nToday's newsletter is ...\n7     Today more than ever you need to upskill and r...\n14    Discogs has recently detected an increase in s...\n20    Hello Walid,\\n\\nDo you have $7?\\n\\nI ask becau...\n21                                  Just wanted to make\n22                          RTD to iiiiiiuiiiiiiiiiiiii\n23                     Sfhdg to iiiiiiuiiiiiiiiiiiii to\n25    Welcome to our second weekly newsletter.\\n\\n \\...\n27    Hi Taiwo\\n\\nWe're just over halfway through th...\n28    Hi rehan\\n\\n \\n\\nWe're just over halfway throu...\n30    Adult Dating\\n\\nDiscover the best site for sin...\n31    Come on, message me i don't want to sleep alon...\n34    To cushion the effect of subsidy removal and g...\n35    Bolt rides are not only affordable, but they a...\n38    \\nLess than $1 for any of our 214 million amaz...\n40    Where Live Happens ??\\nThe Live party is just ...\n41    Hello Walid,\\n\\nOur Zoom call meeting is tomor...\n55    Greetings from SFI...let's keep building somet...\n57    Comfortable & Durable\\nLove, Bonito\\nNEW IN  B...\n60    Dear Customer,\\n\\nAs the tax season comes to a...\n61    Dear Customer,\\n\\nThe 2022 filing season is al...\n63    Here�s 10% OFF your next 10 Bolt rides\\n\\nYou ...\n72    Hi Walid,\\n\\nDo you listen to music on Spotify...\n74    Hey Prachanda,\\n \\nToday's video... To build y...\n76    We noticed a new login\\nHello ondiekijohn254@g...\nName: text, dtype: object"
     },
     "execution_count": 11,
     "metadata": {},
     "output_type": "execute_result"
    }
   ],
   "source": [
    "data = pd.read_csv('datasets/spam/data.csv')\n",
    "data = data.loc[data['type'] == 'spam', 'text']\n",
    "data"
   ],
   "metadata": {
    "collapsed": false,
    "ExecuteTime": {
     "end_time": "2023-12-14T11:05:33.423270800Z",
     "start_time": "2023-12-14T11:05:33.383466900Z"
    }
   },
   "id": "3b2d195f3af0763d"
  },
  {
   "cell_type": "code",
   "execution_count": 12,
   "outputs": [
    {
     "data": {
      "text/plain": "                                                    0\n2   Free entry in 2 a wkly comp to win FA Cup fina...\n5   FreeMsg Hey there darling it's been 3 week's n...\n8   WINNER!! As a valued network customer you have...\n9   Had your mobile 11 months or more? U R entitle...\n11  SIX chances to win CASH! From 100 to 20,000 po...\n..                                                ...\n61  Dear Customer,\\n\\nThe 2022 filing season is al...\n63  Here�s 10% OFF your next 10 Bolt rides\\n\\nYou ...\n72  Hi Walid,\\n\\nDo you listen to music on Spotify...\n74  Hey Prachanda,\\n \\nToday's video... To build y...\n76  We noticed a new login\\nHello ondiekijohn254@g...\n\n[3519 rows x 1 columns]",
      "text/html": "<div>\n<style scoped>\n    .dataframe tbody tr th:only-of-type {\n        vertical-align: middle;\n    }\n\n    .dataframe tbody tr th {\n        vertical-align: top;\n    }\n\n    .dataframe thead th {\n        text-align: right;\n    }\n</style>\n<table border=\"1\" class=\"dataframe\">\n  <thead>\n    <tr style=\"text-align: right;\">\n      <th></th>\n      <th>0</th>\n    </tr>\n  </thead>\n  <tbody>\n    <tr>\n      <th>2</th>\n      <td>Free entry in 2 a wkly comp to win FA Cup fina...</td>\n    </tr>\n    <tr>\n      <th>5</th>\n      <td>FreeMsg Hey there darling it's been 3 week's n...</td>\n    </tr>\n    <tr>\n      <th>8</th>\n      <td>WINNER!! As a valued network customer you have...</td>\n    </tr>\n    <tr>\n      <th>9</th>\n      <td>Had your mobile 11 months or more? U R entitle...</td>\n    </tr>\n    <tr>\n      <th>11</th>\n      <td>SIX chances to win CASH! From 100 to 20,000 po...</td>\n    </tr>\n    <tr>\n      <th>...</th>\n      <td>...</td>\n    </tr>\n    <tr>\n      <th>61</th>\n      <td>Dear Customer,\\n\\nThe 2022 filing season is al...</td>\n    </tr>\n    <tr>\n      <th>63</th>\n      <td>Here�s 10% OFF your next 10 Bolt rides\\n\\nYou ...</td>\n    </tr>\n    <tr>\n      <th>72</th>\n      <td>Hi Walid,\\n\\nDo you listen to music on Spotify...</td>\n    </tr>\n    <tr>\n      <th>74</th>\n      <td>Hey Prachanda,\\n \\nToday's video... To build y...</td>\n    </tr>\n    <tr>\n      <th>76</th>\n      <td>We noticed a new login\\nHello ondiekijohn254@g...</td>\n    </tr>\n  </tbody>\n</table>\n<p>3519 rows × 1 columns</p>\n</div>"
     },
     "execution_count": 12,
     "metadata": {},
     "output_type": "execute_result"
    }
   ],
   "source": [
    "df = pd.concat([df, data])\n",
    "df"
   ],
   "metadata": {
    "collapsed": false,
    "ExecuteTime": {
     "end_time": "2023-12-14T11:05:33.575324400Z",
     "start_time": "2023-12-14T11:05:33.540237300Z"
    }
   },
   "id": "f5a90eca25b51f23"
  },
  {
   "cell_type": "markdown",
   "source": [
    "# ___________________________________________________________________"
   ],
   "metadata": {
    "collapsed": false
   },
   "id": "8a59eabec11f9da1"
  },
  {
   "cell_type": "code",
   "execution_count": 13,
   "outputs": [
    {
     "data": {
      "text/plain": "0      Кредит с доставкой к Вам от 2% до 1 млн.р.: bi...\n1      Томаты Черри, горячее сердце/клубничный поцелу...\n2      −410₽ на первый заказ в магазине от 1500₽. Про...\n3      Финальная распродажа! ЛЕТО цены ПОПОЛАМ! Franc...\n4      МЯУ 🐱 В ЛЭТУАЛЬ черная пятница ЛЕТОМ! Скидки д...\n                             ...                        \n110    Вам 500 бонусов до 28.06! Оплачивайте до 50% п...\n111    Выиграйте более 49 млн в лотерее Всё или ничег...\n112     мяу в лэтуаль черная пятница Летом!Скидки до 80%\n113    Бесплатная кредитная карта «180 дней» без %, с...\n114    SALE 💥 до -70% на ВСЁ в Золотой Подкове 💍💎 по ...\nName: message, Length: 115, dtype: object"
     },
     "execution_count": 13,
     "metadata": {},
     "output_type": "execute_result"
    }
   ],
   "source": [
    "data = pd.read_csv('datasets/spam/data_russian-spam-text-messages.csv')\n",
    "data = data['message'].copy()\n",
    "data"
   ],
   "metadata": {
    "collapsed": false,
    "ExecuteTime": {
     "end_time": "2023-12-14T11:05:36.065593Z",
     "start_time": "2023-12-14T11:05:36.036656700Z"
    }
   },
   "id": "a6f47d66f1799440"
  },
  {
   "cell_type": "code",
   "execution_count": 14,
   "outputs": [
    {
     "data": {
      "text/plain": "                                                     0\n2    Free entry in 2 a wkly comp to win FA Cup fina...\n5    FreeMsg Hey there darling it's been 3 week's n...\n8    WINNER!! As a valued network customer you have...\n9    Had your mobile 11 months or more? U R entitle...\n11   SIX chances to win CASH! From 100 to 20,000 po...\n..                                                 ...\n110  Вам 500 бонусов до 28.06! Оплачивайте до 50% п...\n111  Выиграйте более 49 млн в лотерее Всё или ничег...\n112   мяу в лэтуаль черная пятница Летом!Скидки до 80%\n113  Бесплатная кредитная карта «180 дней» без %, с...\n114  SALE 💥 до -70% на ВСЁ в Золотой Подкове 💍💎 по ...\n\n[3634 rows x 1 columns]",
      "text/html": "<div>\n<style scoped>\n    .dataframe tbody tr th:only-of-type {\n        vertical-align: middle;\n    }\n\n    .dataframe tbody tr th {\n        vertical-align: top;\n    }\n\n    .dataframe thead th {\n        text-align: right;\n    }\n</style>\n<table border=\"1\" class=\"dataframe\">\n  <thead>\n    <tr style=\"text-align: right;\">\n      <th></th>\n      <th>0</th>\n    </tr>\n  </thead>\n  <tbody>\n    <tr>\n      <th>2</th>\n      <td>Free entry in 2 a wkly comp to win FA Cup fina...</td>\n    </tr>\n    <tr>\n      <th>5</th>\n      <td>FreeMsg Hey there darling it's been 3 week's n...</td>\n    </tr>\n    <tr>\n      <th>8</th>\n      <td>WINNER!! As a valued network customer you have...</td>\n    </tr>\n    <tr>\n      <th>9</th>\n      <td>Had your mobile 11 months or more? U R entitle...</td>\n    </tr>\n    <tr>\n      <th>11</th>\n      <td>SIX chances to win CASH! From 100 to 20,000 po...</td>\n    </tr>\n    <tr>\n      <th>...</th>\n      <td>...</td>\n    </tr>\n    <tr>\n      <th>110</th>\n      <td>Вам 500 бонусов до 28.06! Оплачивайте до 50% п...</td>\n    </tr>\n    <tr>\n      <th>111</th>\n      <td>Выиграйте более 49 млн в лотерее Всё или ничег...</td>\n    </tr>\n    <tr>\n      <th>112</th>\n      <td>мяу в лэтуаль черная пятница Летом!Скидки до 80%</td>\n    </tr>\n    <tr>\n      <th>113</th>\n      <td>Бесплатная кредитная карта «180 дней» без %, с...</td>\n    </tr>\n    <tr>\n      <th>114</th>\n      <td>SALE 💥 до -70% на ВСЁ в Золотой Подкове 💍💎 по ...</td>\n    </tr>\n  </tbody>\n</table>\n<p>3634 rows × 1 columns</p>\n</div>"
     },
     "execution_count": 14,
     "metadata": {},
     "output_type": "execute_result"
    }
   ],
   "source": [
    "df = pd.concat([df, data])\n",
    "df"
   ],
   "metadata": {
    "collapsed": false,
    "ExecuteTime": {
     "end_time": "2023-12-14T11:05:36.552638500Z",
     "start_time": "2023-12-14T11:05:36.353250800Z"
    }
   },
   "id": "d29bbdd3c3b5c494"
  },
  {
   "cell_type": "markdown",
   "source": [
    "# ___________________________________________________________________"
   ],
   "metadata": {
    "collapsed": false
   },
   "id": "2b6ded07fa177c41"
  },
  {
   "cell_type": "code",
   "execution_count": 15,
   "outputs": [
    {
     "data": {
      "text/plain": "0       \\nSave up to 70% on Life Insurance.\\nWhy Spend...\n1       1) Fight The Risk of Cancer!\\nhttp://www.adcli...\n2       1) Fight The Risk of Cancer!\\nhttp://www.adcli...\n3       ##############################################...\n4       I thought you might like these:\\n1) Slim Down ...\n                              ...                        \n1891    \\nWant To Be Your Own Boss? Â  Train Now With ...\n1892                                                empty\n1893    Dear Subscriber,If I could show you a way to g...\n1894    ****Mid-Summer Customer Appreciation SALE!****...\n1895    ATTN:SIR/MADAN                            STRI...\nName: Body, Length: 1896, dtype: object"
     },
     "execution_count": 15,
     "metadata": {},
     "output_type": "execute_result"
    }
   ],
   "source": [
    "data = pd.read_csv('datasets/spam/completeSpamAssassin.csv')\n",
    "data = data.loc[data['Label'] == 1, 'Body'].copy()\n",
    "data"
   ],
   "metadata": {
    "collapsed": false,
    "ExecuteTime": {
     "end_time": "2023-12-14T11:05:39.708799300Z",
     "start_time": "2023-12-14T11:05:39.456012200Z"
    }
   },
   "id": "a3ae7a18d357ff87"
  },
  {
   "cell_type": "code",
   "execution_count": 16,
   "outputs": [
    {
     "data": {
      "text/plain": "                                                      0\n2     Free entry in 2 a wkly comp to win FA Cup fina...\n5     FreeMsg Hey there darling it's been 3 week's n...\n8     WINNER!! As a valued network customer you have...\n9     Had your mobile 11 months or more? U R entitle...\n11    SIX chances to win CASH! From 100 to 20,000 po...\n...                                                 ...\n1891  \\nWant To Be Your Own Boss? Â  Train Now With ...\n1892                                              empty\n1893  Dear Subscriber,If I could show you a way to g...\n1894  ****Mid-Summer Customer Appreciation SALE!****...\n1895  ATTN:SIR/MADAN                            STRI...\n\n[5530 rows x 1 columns]",
      "text/html": "<div>\n<style scoped>\n    .dataframe tbody tr th:only-of-type {\n        vertical-align: middle;\n    }\n\n    .dataframe tbody tr th {\n        vertical-align: top;\n    }\n\n    .dataframe thead th {\n        text-align: right;\n    }\n</style>\n<table border=\"1\" class=\"dataframe\">\n  <thead>\n    <tr style=\"text-align: right;\">\n      <th></th>\n      <th>0</th>\n    </tr>\n  </thead>\n  <tbody>\n    <tr>\n      <th>2</th>\n      <td>Free entry in 2 a wkly comp to win FA Cup fina...</td>\n    </tr>\n    <tr>\n      <th>5</th>\n      <td>FreeMsg Hey there darling it's been 3 week's n...</td>\n    </tr>\n    <tr>\n      <th>8</th>\n      <td>WINNER!! As a valued network customer you have...</td>\n    </tr>\n    <tr>\n      <th>9</th>\n      <td>Had your mobile 11 months or more? U R entitle...</td>\n    </tr>\n    <tr>\n      <th>11</th>\n      <td>SIX chances to win CASH! From 100 to 20,000 po...</td>\n    </tr>\n    <tr>\n      <th>...</th>\n      <td>...</td>\n    </tr>\n    <tr>\n      <th>1891</th>\n      <td>\\nWant To Be Your Own Boss? Â  Train Now With ...</td>\n    </tr>\n    <tr>\n      <th>1892</th>\n      <td>empty</td>\n    </tr>\n    <tr>\n      <th>1893</th>\n      <td>Dear Subscriber,If I could show you a way to g...</td>\n    </tr>\n    <tr>\n      <th>1894</th>\n      <td>****Mid-Summer Customer Appreciation SALE!****...</td>\n    </tr>\n    <tr>\n      <th>1895</th>\n      <td>ATTN:SIR/MADAN                            STRI...</td>\n    </tr>\n  </tbody>\n</table>\n<p>5530 rows × 1 columns</p>\n</div>"
     },
     "execution_count": 16,
     "metadata": {},
     "output_type": "execute_result"
    }
   ],
   "source": [
    "df = pd.concat([df, data])\n",
    "df"
   ],
   "metadata": {
    "collapsed": false,
    "ExecuteTime": {
     "end_time": "2023-12-14T11:05:39.725885100Z",
     "start_time": "2023-12-14T11:05:39.708799300Z"
    }
   },
   "id": "136ca58fd3e40ca3"
  },
  {
   "cell_type": "markdown",
   "source": [
    "# ___________________________________________________________________"
   ],
   "metadata": {
    "collapsed": false
   },
   "id": "511673c6cedddda9"
  },
  {
   "cell_type": "code",
   "execution_count": 17,
   "outputs": [
    {
     "data": {
      "text/plain": "0      Subject: great part-time or summer job !\\n \\n ...\n1      Subject: auto insurance rates too high ?\\n \\n ...\n2      Subject: do want the best and economical hunti...\n3      Subject: email 57 million people for $ 99\\n \\n...\n4      Subject: do n't miss these !\\n \\n attention ! ...\n                             ...                        \n428    Subject: lucky you !\\n \\n congratulations ! yo...\n429    Subject: new on capitalfm . com\\n \\n this is n...\n430    Subject: submit 600\\n \\n this is not spam ; yo...\n431    Subject: submit 600\\n \\n this is not spam ; yo...\n432    Subject: i can ' t stand it ! ! ! ! ! ! !\\n \\n...\nName: Body, Length: 433, dtype: object"
     },
     "execution_count": 17,
     "metadata": {},
     "output_type": "execute_result"
    }
   ],
   "source": [
    "data = pd.read_csv('datasets/spam/lingSpam.csv')\n",
    "data = data.loc[data['Label'] == 1, 'Body']\n",
    "data"
   ],
   "metadata": {
    "collapsed": false,
    "ExecuteTime": {
     "end_time": "2023-12-14T11:05:43.127476Z",
     "start_time": "2023-12-14T11:05:42.452290Z"
    }
   },
   "id": "78a6be37bf96ed50"
  },
  {
   "cell_type": "code",
   "execution_count": 18,
   "outputs": [
    {
     "data": {
      "text/plain": "0       great part-time or summer job !\\n \\n * * * * ...\n1       auto insurance rates too high ?\\n \\n dear nlp...\n2       do want the best and economical hunting vacat...\n3       email 57 million people for $ 99\\n \\n 57 mill...\n4       do n't miss these !\\n \\n attention ! warning ...\n                             ...                        \n428     lucky you !\\n \\n congratulations ! you ' ve b...\n429     new on capitalfm . com\\n \\n this is new at ht...\n430     submit 600\\n \\n this is not spam ; you are re...\n431     submit 600\\n \\n this is not spam ; you are re...\n432     i can ' t stand it ! ! ! ! ! ! !\\n \\n dear in...\nName: Body, Length: 433, dtype: object"
     },
     "execution_count": 18,
     "metadata": {},
     "output_type": "execute_result"
    }
   ],
   "source": [
    "data = data.apply(subj_del)\n",
    "data"
   ],
   "metadata": {
    "collapsed": false,
    "ExecuteTime": {
     "end_time": "2023-12-14T11:05:43.152577900Z",
     "start_time": "2023-12-14T11:05:43.125475500Z"
    }
   },
   "id": "6edc6eba86fae056"
  },
  {
   "cell_type": "code",
   "execution_count": 19,
   "outputs": [
    {
     "data": {
      "text/plain": "                                                     0\n2    Free entry in 2 a wkly comp to win FA Cup fina...\n5    FreeMsg Hey there darling it's been 3 week's n...\n8    WINNER!! As a valued network customer you have...\n9    Had your mobile 11 months or more? U R entitle...\n11   SIX chances to win CASH! From 100 to 20,000 po...\n..                                                 ...\n428   lucky you !\\n \\n congratulations ! you ' ve b...\n429   new on capitalfm . com\\n \\n this is new at ht...\n430   submit 600\\n \\n this is not spam ; you are re...\n431   submit 600\\n \\n this is not spam ; you are re...\n432   i can ' t stand it ! ! ! ! ! ! !\\n \\n dear in...\n\n[5963 rows x 1 columns]",
      "text/html": "<div>\n<style scoped>\n    .dataframe tbody tr th:only-of-type {\n        vertical-align: middle;\n    }\n\n    .dataframe tbody tr th {\n        vertical-align: top;\n    }\n\n    .dataframe thead th {\n        text-align: right;\n    }\n</style>\n<table border=\"1\" class=\"dataframe\">\n  <thead>\n    <tr style=\"text-align: right;\">\n      <th></th>\n      <th>0</th>\n    </tr>\n  </thead>\n  <tbody>\n    <tr>\n      <th>2</th>\n      <td>Free entry in 2 a wkly comp to win FA Cup fina...</td>\n    </tr>\n    <tr>\n      <th>5</th>\n      <td>FreeMsg Hey there darling it's been 3 week's n...</td>\n    </tr>\n    <tr>\n      <th>8</th>\n      <td>WINNER!! As a valued network customer you have...</td>\n    </tr>\n    <tr>\n      <th>9</th>\n      <td>Had your mobile 11 months or more? U R entitle...</td>\n    </tr>\n    <tr>\n      <th>11</th>\n      <td>SIX chances to win CASH! From 100 to 20,000 po...</td>\n    </tr>\n    <tr>\n      <th>...</th>\n      <td>...</td>\n    </tr>\n    <tr>\n      <th>428</th>\n      <td>lucky you !\\n \\n congratulations ! you ' ve b...</td>\n    </tr>\n    <tr>\n      <th>429</th>\n      <td>new on capitalfm . com\\n \\n this is new at ht...</td>\n    </tr>\n    <tr>\n      <th>430</th>\n      <td>submit 600\\n \\n this is not spam ; you are re...</td>\n    </tr>\n    <tr>\n      <th>431</th>\n      <td>submit 600\\n \\n this is not spam ; you are re...</td>\n    </tr>\n    <tr>\n      <th>432</th>\n      <td>i can ' t stand it ! ! ! ! ! ! !\\n \\n dear in...</td>\n    </tr>\n  </tbody>\n</table>\n<p>5963 rows × 1 columns</p>\n</div>"
     },
     "execution_count": 19,
     "metadata": {},
     "output_type": "execute_result"
    }
   ],
   "source": [
    "df = pd.concat([df, data])\n",
    "df"
   ],
   "metadata": {
    "collapsed": false,
    "ExecuteTime": {
     "end_time": "2023-12-14T11:05:45.841535100Z",
     "start_time": "2023-12-14T11:05:45.825726200Z"
    }
   },
   "id": "7664a0bdab2b093b"
  },
  {
   "cell_type": "markdown",
   "source": [
    "# ___________________________________________________________________"
   ],
   "metadata": {
    "collapsed": false
   },
   "id": "bd91548d525c9304"
  },
  {
   "cell_type": "code",
   "execution_count": 20,
   "outputs": [
    {
     "name": "stdout",
     "output_type": "stream",
     "text": [
      "0       5 Reasons You Need to Join InstaSpam Now!\\n\\n1...\n",
      "1       Win A FREE iPhone X Now!! Click Here To Enter!...\n",
      "2       CHECK OUT THESE AMAZING DEALS! GET RICH QUICK ...\n",
      "3       Urgent update!!1!!1!1 OMG 😱😱😱\\nYou won't belie...\n",
      "4       Get rich quick with our amazing new investment...\n",
      "                              ...                        \n",
      "4995    Do you want to lead a happy life? Then join ou...\n",
      "4996    Get ready to start making BANK with our amazin...\n",
      "4997    Get ready to upgrade your social media game wi...\n",
      "4998    Get rIch QUICK wIth thIs AMAZiNG oppOrTUity!!!...\n",
      "4999    Get rich quick with our new investment scheme!...\n",
      "Name: text, Length: 5000, dtype: object\n",
      "0      LeTs tAlK AbouT DisCOuNtS aNd DeAlS! WhO HaS T...\n",
      "1      Waaassssupppppp!!!!!! Have you checked out the...\n",
      "2      $$$MAKE $$$MONEY$$$ FAST!!!$$$ No scams!$$$ \\n...\n",
      "3      Get rich quick with our amazing new product!!!...\n",
      "4      Are you tired of being single? Join our websit...\n",
      "                             ...                        \n",
      "495    Attention all users! You won't believe the sup...\n",
      "496    Free V1AGR4 and C1AL1S for all your needs! Don...\n",
      "497    💰💰💰 Get Rich Quick!!! 💰💰💰\\nAre you tired of wo...\n",
      "498    10 AMAZING TRICKS THAT WILL CHANGE YOUR LIFE!!...\n",
      "499    Yo guys! Check out this totally rad deal I fou...\n",
      "Name: text, Length: 500, dtype: object\n"
     ]
    }
   ],
   "source": [
    "data = pd.read_csv('datasets/spam/train.csv')\n",
    "data1 = pd.read_csv('datasets/spam/test.csv')\n",
    "data = data.loc[data['label'] == 'spam', 'text']\n",
    "data1 = data1.loc[data1['label'] == 'spam', 'text']\n",
    "print(data)\n",
    "print(data1)"
   ],
   "metadata": {
    "collapsed": false,
    "ExecuteTime": {
     "end_time": "2023-12-14T11:05:48.164383700Z",
     "start_time": "2023-12-14T11:05:47.993388200Z"
    }
   },
   "id": "33aa12d922421d3f"
  },
  {
   "cell_type": "code",
   "execution_count": 21,
   "outputs": [
    {
     "data": {
      "text/plain": "                                                     0\n2    Free entry in 2 a wkly comp to win FA Cup fina...\n5    FreeMsg Hey there darling it's been 3 week's n...\n8    WINNER!! As a valued network customer you have...\n9    Had your mobile 11 months or more? U R entitle...\n11   SIX chances to win CASH! From 100 to 20,000 po...\n..                                                 ...\n495  Attention all users! You won't believe the sup...\n496  Free V1AGR4 and C1AL1S for all your needs! Don...\n497  💰💰💰 Get Rich Quick!!! 💰💰💰\\nAre you tired of wo...\n498  10 AMAZING TRICKS THAT WILL CHANGE YOUR LIFE!!...\n499  Yo guys! Check out this totally rad deal I fou...\n\n[11463 rows x 1 columns]",
      "text/html": "<div>\n<style scoped>\n    .dataframe tbody tr th:only-of-type {\n        vertical-align: middle;\n    }\n\n    .dataframe tbody tr th {\n        vertical-align: top;\n    }\n\n    .dataframe thead th {\n        text-align: right;\n    }\n</style>\n<table border=\"1\" class=\"dataframe\">\n  <thead>\n    <tr style=\"text-align: right;\">\n      <th></th>\n      <th>0</th>\n    </tr>\n  </thead>\n  <tbody>\n    <tr>\n      <th>2</th>\n      <td>Free entry in 2 a wkly comp to win FA Cup fina...</td>\n    </tr>\n    <tr>\n      <th>5</th>\n      <td>FreeMsg Hey there darling it's been 3 week's n...</td>\n    </tr>\n    <tr>\n      <th>8</th>\n      <td>WINNER!! As a valued network customer you have...</td>\n    </tr>\n    <tr>\n      <th>9</th>\n      <td>Had your mobile 11 months or more? U R entitle...</td>\n    </tr>\n    <tr>\n      <th>11</th>\n      <td>SIX chances to win CASH! From 100 to 20,000 po...</td>\n    </tr>\n    <tr>\n      <th>...</th>\n      <td>...</td>\n    </tr>\n    <tr>\n      <th>495</th>\n      <td>Attention all users! You won't believe the sup...</td>\n    </tr>\n    <tr>\n      <th>496</th>\n      <td>Free V1AGR4 and C1AL1S for all your needs! Don...</td>\n    </tr>\n    <tr>\n      <th>497</th>\n      <td>💰💰💰 Get Rich Quick!!! 💰💰💰\\nAre you tired of wo...</td>\n    </tr>\n    <tr>\n      <th>498</th>\n      <td>10 AMAZING TRICKS THAT WILL CHANGE YOUR LIFE!!...</td>\n    </tr>\n    <tr>\n      <th>499</th>\n      <td>Yo guys! Check out this totally rad deal I fou...</td>\n    </tr>\n  </tbody>\n</table>\n<p>11463 rows × 1 columns</p>\n</div>"
     },
     "execution_count": 21,
     "metadata": {},
     "output_type": "execute_result"
    }
   ],
   "source": [
    "df = pd.concat([df, data, data1])\n",
    "df"
   ],
   "metadata": {
    "collapsed": false,
    "ExecuteTime": {
     "end_time": "2023-12-14T11:05:49.030621600Z",
     "start_time": "2023-12-14T11:05:49.002042700Z"
    }
   },
   "id": "e2a0de3905e4810d"
  },
  {
   "cell_type": "markdown",
   "source": [
    "# ___________________________________________________________________"
   ],
   "metadata": {
    "collapsed": false
   },
   "id": "2285afb77b930def"
  },
  {
   "cell_type": "code",
   "execution_count": 22,
   "outputs": [
    {
     "data": {
      "text/plain": "0        stock promo mover : cwtd\\n * * * urgent inves...\n1        are you listed in major search engines ?\\n su...\n2        important information thu , 30 jun 2005 .\\n s...\n3        = ? utf - 8 ? q ? bask your life with ? =\\n =...\n4        \" bidstogo \" is places to go , things to do\\n...\n                              ...                        \n4995                                     rock her world\\n\n4996     save your smoking\\n unsubscribe\\n taste benze...\n4997     you can find unimaginable savings on v . aliu...\n4998     floor heating under tile - easiest system on ...\n4999     update your online banking records\\n notifica...\nName: Body, Length: 5000, dtype: object"
     },
     "execution_count": 22,
     "metadata": {},
     "output_type": "execute_result"
    }
   ],
   "source": [
    "data = pd.read_csv('datasets/spam/enronSpamSubset.csv')\n",
    "data = data.loc[data['Label'] == 1, 'Body']\n",
    "data = data.apply(subj_del)\n",
    "data"
   ],
   "metadata": {
    "collapsed": false,
    "ExecuteTime": {
     "end_time": "2023-12-14T11:05:51.566882900Z",
     "start_time": "2023-12-14T11:05:51.269592200Z"
    }
   },
   "id": "1713f003acf0a180"
  },
  {
   "cell_type": "code",
   "execution_count": 23,
   "outputs": [
    {
     "data": {
      "text/plain": "                                                     0\n2    Free entry in 2 a wkly comp to win FA Cup fina...\n5    FreeMsg Hey there darling it's been 3 week's n...\n8    WINNER!! As a valued network customer you have...\n9    Had your mobile 11 months or more? U R entitle...\n11   SIX chances to win CASH! From 100 to 20,000 po...\n..                                                 ...\n495  Attention all users! You won't believe the sup...\n496  Free V1AGR4 and C1AL1S for all your needs! Don...\n497  💰💰💰 Get Rich Quick!!! 💰💰💰\\nAre you tired of wo...\n498  10 AMAZING TRICKS THAT WILL CHANGE YOUR LIFE!!...\n499  Yo guys! Check out this totally rad deal I fou...\n\n[16963 rows x 1 columns]",
      "text/html": "<div>\n<style scoped>\n    .dataframe tbody tr th:only-of-type {\n        vertical-align: middle;\n    }\n\n    .dataframe tbody tr th {\n        vertical-align: top;\n    }\n\n    .dataframe thead th {\n        text-align: right;\n    }\n</style>\n<table border=\"1\" class=\"dataframe\">\n  <thead>\n    <tr style=\"text-align: right;\">\n      <th></th>\n      <th>0</th>\n    </tr>\n  </thead>\n  <tbody>\n    <tr>\n      <th>2</th>\n      <td>Free entry in 2 a wkly comp to win FA Cup fina...</td>\n    </tr>\n    <tr>\n      <th>5</th>\n      <td>FreeMsg Hey there darling it's been 3 week's n...</td>\n    </tr>\n    <tr>\n      <th>8</th>\n      <td>WINNER!! As a valued network customer you have...</td>\n    </tr>\n    <tr>\n      <th>9</th>\n      <td>Had your mobile 11 months or more? U R entitle...</td>\n    </tr>\n    <tr>\n      <th>11</th>\n      <td>SIX chances to win CASH! From 100 to 20,000 po...</td>\n    </tr>\n    <tr>\n      <th>...</th>\n      <td>...</td>\n    </tr>\n    <tr>\n      <th>495</th>\n      <td>Attention all users! You won't believe the sup...</td>\n    </tr>\n    <tr>\n      <th>496</th>\n      <td>Free V1AGR4 and C1AL1S for all your needs! Don...</td>\n    </tr>\n    <tr>\n      <th>497</th>\n      <td>💰💰💰 Get Rich Quick!!! 💰💰💰\\nAre you tired of wo...</td>\n    </tr>\n    <tr>\n      <th>498</th>\n      <td>10 AMAZING TRICKS THAT WILL CHANGE YOUR LIFE!!...</td>\n    </tr>\n    <tr>\n      <th>499</th>\n      <td>Yo guys! Check out this totally rad deal I fou...</td>\n    </tr>\n  </tbody>\n</table>\n<p>16963 rows × 1 columns</p>\n</div>"
     },
     "execution_count": 23,
     "metadata": {},
     "output_type": "execute_result"
    }
   ],
   "source": [
    "df = pd.concat([df, data, data1])\n",
    "df"
   ],
   "metadata": {
    "collapsed": false,
    "ExecuteTime": {
     "end_time": "2023-12-14T11:05:52.336048Z",
     "start_time": "2023-12-14T11:05:52.309522900Z"
    }
   },
   "id": "664e14d4728a2db7"
  },
  {
   "cell_type": "markdown",
   "source": [
    "# ___________________________________________________________________"
   ],
   "metadata": {
    "collapsed": false
   },
   "id": "a1dbb232aa41114a"
  },
  {
   "cell_type": "code",
   "execution_count": 24,
   "outputs": [
    {
     "data": {
      "text/plain": "4114     Life Insurance - Why Pay More?\\n\\n<!DOCTYPE HT...\n4115     [ILUG] Guaranteed to lose 10-12 lbs in 30 days...\n4116     Guaranteed to lose 10-12 lbs in 30 days       ...\n4117     Re: Fw: User Name & Password to Membership To ...\n4118     [ILUG-Social] re: Guaranteed to lose 10-12 lbs...\n                               ...                        \n42614    Какой у тебя любимый цвет? Фантастический един...\n42615                      Что ты сегодня ел, Чудо-печенье\n42616              Что ты думаешь о спорте? Секретный ключ\n42617       Какой твой любимый вид спорта, Волшебный ковер\n42618                           Ты умеешь петь? Чудо-птица\nName: text, Length: 17451, dtype: object"
     },
     "execution_count": 24,
     "metadata": {},
     "output_type": "execute_result"
    }
   ],
   "source": [
    "data = pd.read_csv('datasets/spam/junkmail_dataset.csv')\n",
    "data = data.loc[data['is_spam'] == 1, 'text']\n",
    "data"
   ],
   "metadata": {
    "collapsed": false,
    "ExecuteTime": {
     "end_time": "2023-12-14T11:05:56.173771700Z",
     "start_time": "2023-12-14T11:05:55.041835900Z"
    }
   },
   "id": "76c6e257620e4e1f"
  },
  {
   "cell_type": "code",
   "execution_count": 25,
   "outputs": [
    {
     "data": {
      "text/plain": "                                                     0\n2    Free entry in 2 a wkly comp to win FA Cup fina...\n5    FreeMsg Hey there darling it's been 3 week's n...\n8    WINNER!! As a valued network customer you have...\n9    Had your mobile 11 months or more? U R entitle...\n11   SIX chances to win CASH! From 100 to 20,000 po...\n..                                                 ...\n495  Attention all users! You won't believe the sup...\n496  Free V1AGR4 and C1AL1S for all your needs! Don...\n497  💰💰💰 Get Rich Quick!!! 💰💰💰\\nAre you tired of wo...\n498  10 AMAZING TRICKS THAT WILL CHANGE YOUR LIFE!!...\n499  Yo guys! Check out this totally rad deal I fou...\n\n[34914 rows x 1 columns]",
      "text/html": "<div>\n<style scoped>\n    .dataframe tbody tr th:only-of-type {\n        vertical-align: middle;\n    }\n\n    .dataframe tbody tr th {\n        vertical-align: top;\n    }\n\n    .dataframe thead th {\n        text-align: right;\n    }\n</style>\n<table border=\"1\" class=\"dataframe\">\n  <thead>\n    <tr style=\"text-align: right;\">\n      <th></th>\n      <th>0</th>\n    </tr>\n  </thead>\n  <tbody>\n    <tr>\n      <th>2</th>\n      <td>Free entry in 2 a wkly comp to win FA Cup fina...</td>\n    </tr>\n    <tr>\n      <th>5</th>\n      <td>FreeMsg Hey there darling it's been 3 week's n...</td>\n    </tr>\n    <tr>\n      <th>8</th>\n      <td>WINNER!! As a valued network customer you have...</td>\n    </tr>\n    <tr>\n      <th>9</th>\n      <td>Had your mobile 11 months or more? U R entitle...</td>\n    </tr>\n    <tr>\n      <th>11</th>\n      <td>SIX chances to win CASH! From 100 to 20,000 po...</td>\n    </tr>\n    <tr>\n      <th>...</th>\n      <td>...</td>\n    </tr>\n    <tr>\n      <th>495</th>\n      <td>Attention all users! You won't believe the sup...</td>\n    </tr>\n    <tr>\n      <th>496</th>\n      <td>Free V1AGR4 and C1AL1S for all your needs! Don...</td>\n    </tr>\n    <tr>\n      <th>497</th>\n      <td>💰💰💰 Get Rich Quick!!! 💰💰💰\\nAre you tired of wo...</td>\n    </tr>\n    <tr>\n      <th>498</th>\n      <td>10 AMAZING TRICKS THAT WILL CHANGE YOUR LIFE!!...</td>\n    </tr>\n    <tr>\n      <th>499</th>\n      <td>Yo guys! Check out this totally rad deal I fou...</td>\n    </tr>\n  </tbody>\n</table>\n<p>34914 rows × 1 columns</p>\n</div>"
     },
     "execution_count": 25,
     "metadata": {},
     "output_type": "execute_result"
    }
   ],
   "source": [
    "df = pd.concat([df, data, data1])\n",
    "df"
   ],
   "metadata": {
    "collapsed": false,
    "ExecuteTime": {
     "end_time": "2023-12-14T11:05:56.190509500Z",
     "start_time": "2023-12-14T11:05:56.173771700Z"
    }
   },
   "id": "4c629db4a4124ada"
  },
  {
   "cell_type": "markdown",
   "source": [
    "# ___________________________________________________________________"
   ],
   "metadata": {
    "collapsed": false
   },
   "id": "5cfad01484e7a26e"
  },
  {
   "cell_type": "code",
   "execution_count": 29,
   "outputs": [
    {
     "name": "stdout",
     "output_type": "stream",
     "text": [
      "1       \"Get rich quick! Make millions in just days wi...\n",
      "2       URGENT MESSAGE: YOU WON'T BELIEVE WHAT WE HAVE...\n",
      "9       Check out these amazing weight loss pills! The...\n",
      "10      S̵P̷A̵M̸M̵E̷R̵S̶ ̵A̷T̵T̶A̵C̸K̸I̶N̵G̷ ̵O̸N̷ ̶S̵...\n",
      "12      HEY EVERYONE!!! 👋👋👋\\n\\nAre you Tired 😴 of bori...\n",
      "                              ...                        \n",
      "8167    Buy our new product NOW and get 50% off! This ...\n",
      "8168    OMG, you won't believe the dealz we have right...\n",
      "8171    DEALS! DEALS! DEALS!\\n\\nHey peeps! You won't b...\n",
      "8173    Do you want to BLOW UP your social media follo...\n",
      "8174    WAZZUP MY FELLOW NETIZENS! Time to get your sc...\n",
      "Name: text, Length: 4125, dtype: object\n",
      "1       🚨 ATTENTION ALL USERS! 🚨\\n\\n🆘 Are you looking ...\n",
      "3       [[Sorry, I cannot generate inappropriate or sp...\n",
      "4       L@@k at these Unbelievable diet pills that can...\n",
      "6       YOLO peeps! Are you ready to level up your soc...\n",
      "8       Get rich quick! Join our amazing money-making ...\n",
      "                              ...                        \n",
      "2713    Guys! OMG! You won't believe the craziness goi...\n",
      "2715    \"Unlock the secrets to getting rich quick with...\n",
      "2717    Wazzup my fellow netizens! Are you tired of la...\n",
      "2718    Get rich quick! Buy our exclusive guide now an...\n",
      "2724    Feelin’ like you’re not getting enough attenti...\n",
      "Name: text, Length: 1375, dtype: object\n"
     ]
    }
   ],
   "source": [
    "data = pd.read_parquet('datasets/spam/train-00000-of-00001-daf190ce720b3dbb.parquet')\n",
    "data1 = pd.read_parquet('datasets/spam/test-00000-of-00001-fa9b3e8ade89a333.parquet')\n",
    "data = data.loc[data['label'] == 'spam', 'text']\n",
    "data1 = data1.loc[data1['label'] == 'spam', 'text']\n",
    "print(data)\n",
    "print(data1)"
   ],
   "metadata": {
    "collapsed": false,
    "ExecuteTime": {
     "end_time": "2023-12-14T11:12:31.266530400Z",
     "start_time": "2023-12-14T11:12:31.235733900Z"
    }
   },
   "id": "96724cb989800c3c"
  },
  {
   "cell_type": "code",
   "execution_count": 30,
   "outputs": [
    {
     "data": {
      "text/plain": "                                                      0\n2     Free entry in 2 a wkly comp to win FA Cup fina...\n5     FreeMsg Hey there darling it's been 3 week's n...\n8     WINNER!! As a valued network customer you have...\n9     Had your mobile 11 months or more? U R entitle...\n11    SIX chances to win CASH! From 100 to 20,000 po...\n...                                                 ...\n2713  Guys! OMG! You won't believe the craziness goi...\n2715  \"Unlock the secrets to getting rich quick with...\n2717  Wazzup my fellow netizens! Are you tired of la...\n2718  Get rich quick! Buy our exclusive guide now an...\n2724  Feelin’ like you’re not getting enough attenti...\n\n[40414 rows x 1 columns]",
      "text/html": "<div>\n<style scoped>\n    .dataframe tbody tr th:only-of-type {\n        vertical-align: middle;\n    }\n\n    .dataframe tbody tr th {\n        vertical-align: top;\n    }\n\n    .dataframe thead th {\n        text-align: right;\n    }\n</style>\n<table border=\"1\" class=\"dataframe\">\n  <thead>\n    <tr style=\"text-align: right;\">\n      <th></th>\n      <th>0</th>\n    </tr>\n  </thead>\n  <tbody>\n    <tr>\n      <th>2</th>\n      <td>Free entry in 2 a wkly comp to win FA Cup fina...</td>\n    </tr>\n    <tr>\n      <th>5</th>\n      <td>FreeMsg Hey there darling it's been 3 week's n...</td>\n    </tr>\n    <tr>\n      <th>8</th>\n      <td>WINNER!! As a valued network customer you have...</td>\n    </tr>\n    <tr>\n      <th>9</th>\n      <td>Had your mobile 11 months or more? U R entitle...</td>\n    </tr>\n    <tr>\n      <th>11</th>\n      <td>SIX chances to win CASH! From 100 to 20,000 po...</td>\n    </tr>\n    <tr>\n      <th>...</th>\n      <td>...</td>\n    </tr>\n    <tr>\n      <th>2713</th>\n      <td>Guys! OMG! You won't believe the craziness goi...</td>\n    </tr>\n    <tr>\n      <th>2715</th>\n      <td>\"Unlock the secrets to getting rich quick with...</td>\n    </tr>\n    <tr>\n      <th>2717</th>\n      <td>Wazzup my fellow netizens! Are you tired of la...</td>\n    </tr>\n    <tr>\n      <th>2718</th>\n      <td>Get rich quick! Buy our exclusive guide now an...</td>\n    </tr>\n    <tr>\n      <th>2724</th>\n      <td>Feelin’ like you’re not getting enough attenti...</td>\n    </tr>\n  </tbody>\n</table>\n<p>40414 rows × 1 columns</p>\n</div>"
     },
     "execution_count": 30,
     "metadata": {},
     "output_type": "execute_result"
    }
   ],
   "source": [
    "df = pd.concat([df, data, data1])\n",
    "df"
   ],
   "metadata": {
    "collapsed": false,
    "ExecuteTime": {
     "end_time": "2023-12-14T11:12:31.394198200Z",
     "start_time": "2023-12-14T11:12:31.383129500Z"
    }
   },
   "id": "c01b4bf3f139ebf1"
  },
  {
   "cell_type": "markdown",
   "source": [
    "# Обработка eng для перевода"
   ],
   "metadata": {
    "collapsed": false
   },
   "id": "1f4f7b5ff21e7b4d"
  },
  {
   "cell_type": "code",
   "execution_count": 40,
   "outputs": [
    {
     "data": {
      "text/plain": "                                                       0\n0      Free entry in 2 a wkly comp to win FA Cup fina...\n1      FreeMsg Hey there darling it's been 3 week's n...\n2      WINNER!! As a valued network customer you have...\n3      Had your mobile 11 months or more? U R entitle...\n4      SIX chances to win CASH! From 100 to 20,000 po...\n...                                                  ...\n31790  Какой у тебя любимый цвет? Фантастический един...\n31791                    Что ты сегодня ел, Чудо-печенье\n31792            Что ты думаешь о спорте? Секретный ключ\n31793     Какой твой любимый вид спорта, Волшебный ковер\n31794                         Ты умеешь петь? Чудо-птица\n\n[31795 rows x 1 columns]",
      "text/html": "<div>\n<style scoped>\n    .dataframe tbody tr th:only-of-type {\n        vertical-align: middle;\n    }\n\n    .dataframe tbody tr th {\n        vertical-align: top;\n    }\n\n    .dataframe thead th {\n        text-align: right;\n    }\n</style>\n<table border=\"1\" class=\"dataframe\">\n  <thead>\n    <tr style=\"text-align: right;\">\n      <th></th>\n      <th>0</th>\n    </tr>\n  </thead>\n  <tbody>\n    <tr>\n      <th>0</th>\n      <td>Free entry in 2 a wkly comp to win FA Cup fina...</td>\n    </tr>\n    <tr>\n      <th>1</th>\n      <td>FreeMsg Hey there darling it's been 3 week's n...</td>\n    </tr>\n    <tr>\n      <th>2</th>\n      <td>WINNER!! As a valued network customer you have...</td>\n    </tr>\n    <tr>\n      <th>3</th>\n      <td>Had your mobile 11 months or more? U R entitle...</td>\n    </tr>\n    <tr>\n      <th>4</th>\n      <td>SIX chances to win CASH! From 100 to 20,000 po...</td>\n    </tr>\n    <tr>\n      <th>...</th>\n      <td>...</td>\n    </tr>\n    <tr>\n      <th>31790</th>\n      <td>Какой у тебя любимый цвет? Фантастический един...</td>\n    </tr>\n    <tr>\n      <th>31791</th>\n      <td>Что ты сегодня ел, Чудо-печенье</td>\n    </tr>\n    <tr>\n      <th>31792</th>\n      <td>Что ты думаешь о спорте? Секретный ключ</td>\n    </tr>\n    <tr>\n      <th>31793</th>\n      <td>Какой твой любимый вид спорта, Волшебный ковер</td>\n    </tr>\n    <tr>\n      <th>31794</th>\n      <td>Ты умеешь петь? Чудо-птица</td>\n    </tr>\n  </tbody>\n</table>\n<p>31795 rows × 1 columns</p>\n</div>"
     },
     "execution_count": 40,
     "metadata": {},
     "output_type": "execute_result"
    }
   ],
   "source": [
    "import emoji\n",
    "\n",
    "df_cop = df.copy()\n",
    "df_cop.dropna(inplace=True)\n",
    "df_cop.drop_duplicates(inplace=True)\n",
    "df_cop.reset_index(inplace=True, drop=True)\n",
    "df_cop[0] = df_cop[0].apply(lambda x: emoji.replace_emoji(x, ''))\n",
    "df_cop"
   ],
   "metadata": {
    "collapsed": false,
    "ExecuteTime": {
     "end_time": "2023-12-14T11:50:02.695249Z",
     "start_time": "2023-12-14T11:49:27.335723900Z"
    }
   },
   "id": "6c405a92a498d09b"
  },
  {
   "cell_type": "code",
   "execution_count": 41,
   "outputs": [
    {
     "data": {
      "text/plain": "                                                       0\n0      Free entry in   a wkly comp to win FA Cup fina...\n1      FreeMsg Hey there darling it s been   week s n...\n2      WINNER  As a valued network customer you have ...\n3      Had your mobile   months or more  U R entitled...\n4      SIX chances to win CASH  From   to   pounds tx...\n...                                                  ...\n31790  Какой у тебя любимый цвет  Фантастический един...\n31791                    Что ты сегодня ел  Чудо печенье\n31792            Что ты думаешь о спорте  Секретный ключ\n31793     Какой твой любимый вид спорта  Волшебный ковер\n31794                         Ты умеешь петь  Чудо птица\n\n[31795 rows x 1 columns]",
      "text/html": "<div>\n<style scoped>\n    .dataframe tbody tr th:only-of-type {\n        vertical-align: middle;\n    }\n\n    .dataframe tbody tr th {\n        vertical-align: top;\n    }\n\n    .dataframe thead th {\n        text-align: right;\n    }\n</style>\n<table border=\"1\" class=\"dataframe\">\n  <thead>\n    <tr style=\"text-align: right;\">\n      <th></th>\n      <th>0</th>\n    </tr>\n  </thead>\n  <tbody>\n    <tr>\n      <th>0</th>\n      <td>Free entry in   a wkly comp to win FA Cup fina...</td>\n    </tr>\n    <tr>\n      <th>1</th>\n      <td>FreeMsg Hey there darling it s been   week s n...</td>\n    </tr>\n    <tr>\n      <th>2</th>\n      <td>WINNER  As a valued network customer you have ...</td>\n    </tr>\n    <tr>\n      <th>3</th>\n      <td>Had your mobile   months or more  U R entitled...</td>\n    </tr>\n    <tr>\n      <th>4</th>\n      <td>SIX chances to win CASH  From   to   pounds tx...</td>\n    </tr>\n    <tr>\n      <th>...</th>\n      <td>...</td>\n    </tr>\n    <tr>\n      <th>31790</th>\n      <td>Какой у тебя любимый цвет  Фантастический един...</td>\n    </tr>\n    <tr>\n      <th>31791</th>\n      <td>Что ты сегодня ел  Чудо печенье</td>\n    </tr>\n    <tr>\n      <th>31792</th>\n      <td>Что ты думаешь о спорте  Секретный ключ</td>\n    </tr>\n    <tr>\n      <th>31793</th>\n      <td>Какой твой любимый вид спорта  Волшебный ковер</td>\n    </tr>\n    <tr>\n      <th>31794</th>\n      <td>Ты умеешь петь  Чудо птица</td>\n    </tr>\n  </tbody>\n</table>\n<p>31795 rows × 1 columns</p>\n</div>"
     },
     "execution_count": 41,
     "metadata": {},
     "output_type": "execute_result"
    }
   ],
   "source": [
    "import re\n",
    "\n",
    "patterns = \"[0-9!#$%&'()*+,./:;<=>?@[\\]^_`{|}~—\\\"\\-]+\"\n",
    "\n",
    "\n",
    "def symbols_del(text):\n",
    "    doc = re.sub(patterns, ' ', text)\n",
    "    return doc\n",
    "\n",
    "\n",
    "df_cop[0] = df_cop[0].apply(symbols_del)\n",
    "df_cop"
   ],
   "metadata": {
    "collapsed": false,
    "ExecuteTime": {
     "end_time": "2023-12-14T11:50:04.106080400Z",
     "start_time": "2023-12-14T11:50:02.693004800Z"
    }
   },
   "id": "ed4d132cff219554"
  },
  {
   "cell_type": "code",
   "execution_count": null,
   "outputs": [],
   "source": [
    "def divider(text):\n",
    "    arr = []\n",
    "    step = 5000\n",
    "    for i in range(0, len(text), 5000):\n",
    "        slice = text[i:step]\n",
    "        arr.append(slice)\n",
    "        step += 5000\n",
    "    return arr\n",
    "\n",
    "data_len = df['comment'].apply(len)\n",
    "arr = list(map(''.join, df.loc[data_len[data_len > 5000].index]['comment'].apply(divider)))\n",
    "df_cop.drop(data_len[data_len > 5000].index, inplace=True)\n",
    "pd.concat([df['comment'], pd.DataFrame(arr)], axis=0)"
   ],
   "metadata": {
    "collapsed": false,
    "is_executing": true
   },
   "id": "fe531b77ae9e6307"
  },
  {
   "cell_type": "code",
   "execution_count": 33,
   "outputs": [
    {
     "data": {
      "text/plain": "                                                comment label\n782    dear friend a recent survey by nielsen netrat...  spam\n785    from dallin agm holdings subject have you dre...  spam\n831   hello by reading the short summary just below ...  spam\n905   dear consumers increase your business sales ho...  spam\n928   all our mailings are sent complying to the pro...  spam\n943   the ultimate way to work from home the best mo...  spam\n983    the industry forum hyperlink minute man ii NU...  spam\n991    sent e mail message from enenkio URL robert m...  spam\n996   it was the spring of NUMBER i was just a tall ...  spam\n1000  it was the spring of NUMBER i was just a tall ...  spam\n1001  it was the spring of NUMBER i was just a tall ...  spam\n1003  newsletter coach invest septembre NUMBER coach...  spam\n1004  newsletter coach invest septembre NUMBER coach...  spam\n1028   free personal and business grants qualify for...  spam\n1062  new new new in the market just released NUMBER...  spam\n1065   foreword after thirty three years of being a ...  spam\n1109  hello you may have seen this business before a...  spam\n1118  hi i m a college dropout i work about two hour...  spam\n1151   free personal and business grants qualify for...  spam\n1168  hello you may have seen this business before a...  spam\n1169  hello you may have seen this business before a...  spam\n1173  hi i m a college dropout i work about two hour...  spam\n1196   hello dmm discount mortgage millionaire progr...  spam\n1221   free personal and business grants qualify for...  spam\n1226   gbNUMBER b ynwNUMBERsquNUMBERruNUMBERnbqufqNU...  spam\n1234  uncommon exotic pleasure botanicals feeling ma...  spam",
      "text/html": "<div>\n<style scoped>\n    .dataframe tbody tr th:only-of-type {\n        vertical-align: middle;\n    }\n\n    .dataframe tbody tr th {\n        vertical-align: top;\n    }\n\n    .dataframe thead th {\n        text-align: right;\n    }\n</style>\n<table border=\"1\" class=\"dataframe\">\n  <thead>\n    <tr style=\"text-align: right;\">\n      <th></th>\n      <th>comment</th>\n      <th>label</th>\n    </tr>\n  </thead>\n  <tbody>\n    <tr>\n      <th>782</th>\n      <td>dear friend a recent survey by nielsen netrat...</td>\n      <td>spam</td>\n    </tr>\n    <tr>\n      <th>785</th>\n      <td>from dallin agm holdings subject have you dre...</td>\n      <td>spam</td>\n    </tr>\n    <tr>\n      <th>831</th>\n      <td>hello by reading the short summary just below ...</td>\n      <td>spam</td>\n    </tr>\n    <tr>\n      <th>905</th>\n      <td>dear consumers increase your business sales ho...</td>\n      <td>spam</td>\n    </tr>\n    <tr>\n      <th>928</th>\n      <td>all our mailings are sent complying to the pro...</td>\n      <td>spam</td>\n    </tr>\n    <tr>\n      <th>943</th>\n      <td>the ultimate way to work from home the best mo...</td>\n      <td>spam</td>\n    </tr>\n    <tr>\n      <th>983</th>\n      <td>the industry forum hyperlink minute man ii NU...</td>\n      <td>spam</td>\n    </tr>\n    <tr>\n      <th>991</th>\n      <td>sent e mail message from enenkio URL robert m...</td>\n      <td>spam</td>\n    </tr>\n    <tr>\n      <th>996</th>\n      <td>it was the spring of NUMBER i was just a tall ...</td>\n      <td>spam</td>\n    </tr>\n    <tr>\n      <th>1000</th>\n      <td>it was the spring of NUMBER i was just a tall ...</td>\n      <td>spam</td>\n    </tr>\n    <tr>\n      <th>1001</th>\n      <td>it was the spring of NUMBER i was just a tall ...</td>\n      <td>spam</td>\n    </tr>\n    <tr>\n      <th>1003</th>\n      <td>newsletter coach invest septembre NUMBER coach...</td>\n      <td>spam</td>\n    </tr>\n    <tr>\n      <th>1004</th>\n      <td>newsletter coach invest septembre NUMBER coach...</td>\n      <td>spam</td>\n    </tr>\n    <tr>\n      <th>1028</th>\n      <td>free personal and business grants qualify for...</td>\n      <td>spam</td>\n    </tr>\n    <tr>\n      <th>1062</th>\n      <td>new new new in the market just released NUMBER...</td>\n      <td>spam</td>\n    </tr>\n    <tr>\n      <th>1065</th>\n      <td>foreword after thirty three years of being a ...</td>\n      <td>spam</td>\n    </tr>\n    <tr>\n      <th>1109</th>\n      <td>hello you may have seen this business before a...</td>\n      <td>spam</td>\n    </tr>\n    <tr>\n      <th>1118</th>\n      <td>hi i m a college dropout i work about two hour...</td>\n      <td>spam</td>\n    </tr>\n    <tr>\n      <th>1151</th>\n      <td>free personal and business grants qualify for...</td>\n      <td>spam</td>\n    </tr>\n    <tr>\n      <th>1168</th>\n      <td>hello you may have seen this business before a...</td>\n      <td>spam</td>\n    </tr>\n    <tr>\n      <th>1169</th>\n      <td>hello you may have seen this business before a...</td>\n      <td>spam</td>\n    </tr>\n    <tr>\n      <th>1173</th>\n      <td>hi i m a college dropout i work about two hour...</td>\n      <td>spam</td>\n    </tr>\n    <tr>\n      <th>1196</th>\n      <td>hello dmm discount mortgage millionaire progr...</td>\n      <td>spam</td>\n    </tr>\n    <tr>\n      <th>1221</th>\n      <td>free personal and business grants qualify for...</td>\n      <td>spam</td>\n    </tr>\n    <tr>\n      <th>1226</th>\n      <td>gbNUMBER b ynwNUMBERsquNUMBERruNUMBERnbqufqNU...</td>\n      <td>spam</td>\n    </tr>\n    <tr>\n      <th>1234</th>\n      <td>uncommon exotic pleasure botanicals feeling ma...</td>\n      <td>spam</td>\n    </tr>\n  </tbody>\n</table>\n</div>"
     },
     "execution_count": 33,
     "metadata": {},
     "output_type": "execute_result"
    }
   ],
   "source": [
    "data = df['comment'].apply(len)\n",
    "data[data > 5000].index\n",
    "df.loc[data[data > 5000].index]"
   ],
   "metadata": {
    "collapsed": false,
    "ExecuteTime": {
     "start_time": "2023-11-23T07:03:07.103081900Z"
    }
   },
   "id": "20ba9bc060c783d4"
  },
  {
   "cell_type": "code",
   "execution_count": 34,
   "outputs": [],
   "source": [
    "import numpy as np\n",
    "\n",
    "\n",
    "def divider(text):\n",
    "    arr = []\n",
    "    step = 5000\n",
    "    for i in range(0, len(text), 5000):\n",
    "        slice = text[i:step]\n",
    "        arr.append(slice)\n",
    "        step += 5000\n",
    "    return arr\n",
    "\n",
    "\n",
    "arr = list(map(''.join, df.loc[data[data > 5000].index]['comment'].apply(divider)))\n",
    "df.drop(data[data > 5000].index, inplace=True)\n",
    "pd.concat([df['comment'], pd.DataFrame(arr)], axis=0)"
   ],
   "metadata": {
    "collapsed": false,
    "ExecuteTime": {
     "start_time": "2023-11-23T07:03:08.171706900Z"
    }
   },
   "id": "56502c6f7678eafa"
  },
  {
   "cell_type": "code",
   "execution_count": 36,
   "outputs": [
    {
     "data": {
      "text/plain": "                                                    0\n0   Free entry in 2 a wkly comp to win FA Cup fina...\n1   FreeMsg Hey there darling it's been 3 week's n...\n2   WINNER!! As a valued network customer you have...\n3   Had your mobile 11 months or more? U R entitle...\n4   SIX chances to win CASH! From 100 to 20,000 po...\n..                                                ...\n21  hi i m a college dropout i work about two hour...\n22   hello dmm discount mortgage millionaire progr...\n23   free personal and business grants qualify for...\n24   gbNUMBER b ynwNUMBERsquNUMBERruNUMBERnbqufqNU...\n25  uncommon exotic pleasure botanicals feeling ma...\n\n[1993 rows x 1 columns]",
      "text/html": "<div>\n<style scoped>\n    .dataframe tbody tr th:only-of-type {\n        vertical-align: middle;\n    }\n\n    .dataframe tbody tr th {\n        vertical-align: top;\n    }\n\n    .dataframe thead th {\n        text-align: right;\n    }\n</style>\n<table border=\"1\" class=\"dataframe\">\n  <thead>\n    <tr style=\"text-align: right;\">\n      <th></th>\n      <th>0</th>\n    </tr>\n  </thead>\n  <tbody>\n    <tr>\n      <th>0</th>\n      <td>Free entry in 2 a wkly comp to win FA Cup fina...</td>\n    </tr>\n    <tr>\n      <th>1</th>\n      <td>FreeMsg Hey there darling it's been 3 week's n...</td>\n    </tr>\n    <tr>\n      <th>2</th>\n      <td>WINNER!! As a valued network customer you have...</td>\n    </tr>\n    <tr>\n      <th>3</th>\n      <td>Had your mobile 11 months or more? U R entitle...</td>\n    </tr>\n    <tr>\n      <th>4</th>\n      <td>SIX chances to win CASH! From 100 to 20,000 po...</td>\n    </tr>\n    <tr>\n      <th>...</th>\n      <td>...</td>\n    </tr>\n    <tr>\n      <th>21</th>\n      <td>hi i m a college dropout i work about two hour...</td>\n    </tr>\n    <tr>\n      <th>22</th>\n      <td>hello dmm discount mortgage millionaire progr...</td>\n    </tr>\n    <tr>\n      <th>23</th>\n      <td>free personal and business grants qualify for...</td>\n    </tr>\n    <tr>\n      <th>24</th>\n      <td>gbNUMBER b ynwNUMBERsquNUMBERruNUMBERnbqufqNU...</td>\n    </tr>\n    <tr>\n      <th>25</th>\n      <td>uncommon exotic pleasure botanicals feeling ma...</td>\n    </tr>\n  </tbody>\n</table>\n<p>1993 rows × 1 columns</p>\n</div>"
     },
     "execution_count": 36,
     "metadata": {},
     "output_type": "execute_result"
    }
   ],
   "source": [
    "df.drop(data[data > 5000].index, inplace=True)\n",
    "pd.concat([df['comment'], pd.DataFrame(arr)], axis=0)"
   ],
   "metadata": {
    "collapsed": false,
    "ExecuteTime": {
     "start_time": "2023-11-23T07:03:09.813418400Z"
    }
   },
   "id": "e75054ddf632c7b3"
  },
  {
   "cell_type": "code",
   "execution_count": 45,
   "outputs": [
    {
     "data": {
      "text/plain": "     label                                            comment\n2     spam  vocable rnd word asceticism vcsc brand new sto...\n5     spam  underpriced issue with high return on equity s...\n6     spam  jump in to gain substantial ground immediately...\n14    spam  the bull reccomends this stokkpic yap internat...\n22    spam  smal stock oppurtunities their shooting haley ...\n...    ...                                                ...\n1345  spam  we ve got your info by internet hope to cooper...\n1361  spam  your investor communiqup get abzt first thing ...\n1423  spam  stock opportunities the u s oil report hot new...\n1424  spam  otcbb itst up uregent news alert urgent news a...\n1435  spam  market watch undervalued report f april top pi...\n\n[68 rows x 2 columns]",
      "text/html": "<div>\n<style scoped>\n    .dataframe tbody tr th:only-of-type {\n        vertical-align: middle;\n    }\n\n    .dataframe tbody tr th {\n        vertical-align: top;\n    }\n\n    .dataframe thead th {\n        text-align: right;\n    }\n</style>\n<table border=\"1\" class=\"dataframe\">\n  <thead>\n    <tr style=\"text-align: right;\">\n      <th></th>\n      <th>label</th>\n      <th>comment</th>\n    </tr>\n  </thead>\n  <tbody>\n    <tr>\n      <th>2</th>\n      <td>spam</td>\n      <td>vocable rnd word asceticism vcsc brand new sto...</td>\n    </tr>\n    <tr>\n      <th>5</th>\n      <td>spam</td>\n      <td>underpriced issue with high return on equity s...</td>\n    </tr>\n    <tr>\n      <th>6</th>\n      <td>spam</td>\n      <td>jump in to gain substantial ground immediately...</td>\n    </tr>\n    <tr>\n      <th>14</th>\n      <td>spam</td>\n      <td>the bull reccomends this stokkpic yap internat...</td>\n    </tr>\n    <tr>\n      <th>22</th>\n      <td>spam</td>\n      <td>smal stock oppurtunities their shooting haley ...</td>\n    </tr>\n    <tr>\n      <th>...</th>\n      <td>...</td>\n      <td>...</td>\n    </tr>\n    <tr>\n      <th>1345</th>\n      <td>spam</td>\n      <td>we ve got your info by internet hope to cooper...</td>\n    </tr>\n    <tr>\n      <th>1361</th>\n      <td>spam</td>\n      <td>your investor communiqup get abzt first thing ...</td>\n    </tr>\n    <tr>\n      <th>1423</th>\n      <td>spam</td>\n      <td>stock opportunities the u s oil report hot new...</td>\n    </tr>\n    <tr>\n      <th>1424</th>\n      <td>spam</td>\n      <td>otcbb itst up uregent news alert urgent news a...</td>\n    </tr>\n    <tr>\n      <th>1435</th>\n      <td>spam</td>\n      <td>market watch undervalued report f april top pi...</td>\n    </tr>\n  </tbody>\n</table>\n<p>68 rows × 2 columns</p>\n</div>"
     },
     "execution_count": 45,
     "metadata": {},
     "output_type": "execute_result"
    }
   ],
   "source": [
    "data = df['comment'].apply(len)\n",
    "data[data > 5000].index\n",
    "df.loc[data[data > 5000].index]"
   ],
   "metadata": {
    "collapsed": false
   },
   "id": "40880e1e3479d73e"
  },
  {
   "cell_type": "code",
   "execution_count": 66,
   "outputs": [
    {
     "data": {
      "text/plain": "                                                comment\n68    this is the book my friend was talking about g...\n69    long time customer id order we would like to t...\n70    hello i sent you an email a few days ago becau...\n71    roller coaster cigars for email loading brewst...\n72    get cheap via gra generic viagra at cheap pric...\n...                                                 ...\n1449  check this stock it s going thru the roof gibb...\n1450  we ve got your info by internet hope to cooper...\n1451  your investor communiqup get abzt first thing ...\n1452  stock opportunities the u s oil report hot new...\n1453  market watch undervalued report f april top pi...\n\n[2728 rows x 1 columns]",
      "text/html": "<div>\n<style scoped>\n    .dataframe tbody tr th:only-of-type {\n        vertical-align: middle;\n    }\n\n    .dataframe tbody tr th {\n        vertical-align: top;\n    }\n\n    .dataframe thead th {\n        text-align: right;\n    }\n</style>\n<table border=\"1\" class=\"dataframe\">\n  <thead>\n    <tr style=\"text-align: right;\">\n      <th></th>\n      <th>comment</th>\n    </tr>\n  </thead>\n  <tbody>\n    <tr>\n      <th>68</th>\n      <td>this is the book my friend was talking about g...</td>\n    </tr>\n    <tr>\n      <th>69</th>\n      <td>long time customer id order we would like to t...</td>\n    </tr>\n    <tr>\n      <th>70</th>\n      <td>hello i sent you an email a few days ago becau...</td>\n    </tr>\n    <tr>\n      <th>71</th>\n      <td>roller coaster cigars for email loading brewst...</td>\n    </tr>\n    <tr>\n      <th>72</th>\n      <td>get cheap via gra generic viagra at cheap pric...</td>\n    </tr>\n    <tr>\n      <th>...</th>\n      <td>...</td>\n    </tr>\n    <tr>\n      <th>1449</th>\n      <td>check this stock it s going thru the roof gibb...</td>\n    </tr>\n    <tr>\n      <th>1450</th>\n      <td>we ve got your info by internet hope to cooper...</td>\n    </tr>\n    <tr>\n      <th>1451</th>\n      <td>your investor communiqup get abzt first thing ...</td>\n    </tr>\n    <tr>\n      <th>1452</th>\n      <td>stock opportunities the u s oil report hot new...</td>\n    </tr>\n    <tr>\n      <th>1453</th>\n      <td>market watch undervalued report f april top pi...</td>\n    </tr>\n  </tbody>\n</table>\n<p>2728 rows × 1 columns</p>\n</div>"
     },
     "execution_count": 66,
     "metadata": {},
     "output_type": "execute_result"
    }
   ],
   "source": [
    "import numpy as np\n",
    "\n",
    "\n",
    "def divider(text):\n",
    "    arr = []\n",
    "    step = 5000\n",
    "    for i in range(0, len(text), 5000):\n",
    "        slice = text[i:step]\n",
    "        arr.append(slice)\n",
    "        step += 5000\n",
    "    return arr\n",
    "\n",
    "\n",
    "arr = list(map(''.join, df['comment'].apply(divider)))\n",
    "df = pd.concat([df['comment'], pd.DataFrame(arr)], axis=0)\n",
    "df.drop(data[data > 5000].index, inplace=True)\n",
    "df.columns = ['comment']\n",
    "df"
   ],
   "metadata": {
    "collapsed": false
   },
   "id": "860f9c1c91362740"
  }
 ],
 "metadata": {
  "kernelspec": {
   "display_name": "Python 3 (ipykernel)",
   "language": "python",
   "name": "python3"
  },
  "language_info": {
   "codemirror_mode": {
    "name": "ipython",
    "version": 3
   },
   "file_extension": ".py",
   "mimetype": "text/x-python",
   "name": "python",
   "nbconvert_exporter": "python",
   "pygments_lexer": "ipython3",
   "version": "3.11.4"
  }
 },
 "nbformat": 4,
 "nbformat_minor": 5
}
