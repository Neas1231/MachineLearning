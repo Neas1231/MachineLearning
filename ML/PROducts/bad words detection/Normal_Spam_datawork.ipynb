{
 "cells": [
  {
   "cell_type": "code",
   "execution_count": 1,
   "outputs": [],
   "source": [
    "import pandas as pd\n",
    "\n",
    "df = pd.DataFrame()"
   ],
   "metadata": {
    "collapsed": false,
    "ExecuteTime": {
     "end_time": "2023-12-21T15:02:04.671504100Z",
     "start_time": "2023-12-21T15:02:04.022525200Z"
    }
   },
   "id": "444c4fddb5427cdb"
  },
  {
   "cell_type": "markdown",
   "source": [
    "# ___________________________________________________________________"
   ],
   "metadata": {
    "collapsed": false
   },
   "id": "ef32a918e782648d"
  },
  {
   "cell_type": "code",
   "execution_count": 2,
   "id": "181de95d",
   "metadata": {
    "ExecuteTime": {
     "end_time": "2023-12-21T15:02:04.678487600Z",
     "start_time": "2023-12-21T15:02:04.551747900Z"
    }
   },
   "outputs": [
    {
     "data": {
      "text/plain": "2       Free entry in 2 a wkly comp to win FA Cup fina...\n5       FreeMsg Hey there darling it's been 3 week's n...\n8       WINNER!! As a valued network customer you have...\n9       Had your mobile 11 months or more? U R entitle...\n11      SIX chances to win CASH! From 100 to 20,000 po...\n                              ...                        \n5537    Want explicit SEX in 30 secs? Ring 02073162414...\n5540    ASKED 3MOBILE IF 0870 CHATLINES INCLU IN FREE ...\n5547    Had your contract mobile 11 Mnths? Latest Moto...\n5566    REMINDER FROM O2: To get 2.50 pounds free call...\n5567    This is the 2nd time we have tried 2 contact u...\nName: v2, Length: 747, dtype: object"
     },
     "execution_count": 2,
     "metadata": {},
     "output_type": "execute_result"
    }
   ],
   "source": [
    "data = pd.read_csv('raw_datasets/spam/spam.csv', encoding='latin-1')\n",
    "data = data.loc[data['v1'] == 'spam', 'v2'].dropna()\n",
    "data"
   ]
  },
  {
   "cell_type": "code",
   "execution_count": 3,
   "outputs": [
    {
     "data": {
      "text/plain": "                                                      0\n2     Free entry in 2 a wkly comp to win FA Cup fina...\n5     FreeMsg Hey there darling it's been 3 week's n...\n8     WINNER!! As a valued network customer you have...\n9     Had your mobile 11 months or more? U R entitle...\n11    SIX chances to win CASH! From 100 to 20,000 po...\n...                                                 ...\n5537  Want explicit SEX in 30 secs? Ring 02073162414...\n5540  ASKED 3MOBILE IF 0870 CHATLINES INCLU IN FREE ...\n5547  Had your contract mobile 11 Mnths? Latest Moto...\n5566  REMINDER FROM O2: To get 2.50 pounds free call...\n5567  This is the 2nd time we have tried 2 contact u...\n\n[747 rows x 1 columns]",
      "text/html": "<div>\n<style scoped>\n    .dataframe tbody tr th:only-of-type {\n        vertical-align: middle;\n    }\n\n    .dataframe tbody tr th {\n        vertical-align: top;\n    }\n\n    .dataframe thead th {\n        text-align: right;\n    }\n</style>\n<table border=\"1\" class=\"dataframe\">\n  <thead>\n    <tr style=\"text-align: right;\">\n      <th></th>\n      <th>0</th>\n    </tr>\n  </thead>\n  <tbody>\n    <tr>\n      <th>2</th>\n      <td>Free entry in 2 a wkly comp to win FA Cup fina...</td>\n    </tr>\n    <tr>\n      <th>5</th>\n      <td>FreeMsg Hey there darling it's been 3 week's n...</td>\n    </tr>\n    <tr>\n      <th>8</th>\n      <td>WINNER!! As a valued network customer you have...</td>\n    </tr>\n    <tr>\n      <th>9</th>\n      <td>Had your mobile 11 months or more? U R entitle...</td>\n    </tr>\n    <tr>\n      <th>11</th>\n      <td>SIX chances to win CASH! From 100 to 20,000 po...</td>\n    </tr>\n    <tr>\n      <th>...</th>\n      <td>...</td>\n    </tr>\n    <tr>\n      <th>5537</th>\n      <td>Want explicit SEX in 30 secs? Ring 02073162414...</td>\n    </tr>\n    <tr>\n      <th>5540</th>\n      <td>ASKED 3MOBILE IF 0870 CHATLINES INCLU IN FREE ...</td>\n    </tr>\n    <tr>\n      <th>5547</th>\n      <td>Had your contract mobile 11 Mnths? Latest Moto...</td>\n    </tr>\n    <tr>\n      <th>5566</th>\n      <td>REMINDER FROM O2: To get 2.50 pounds free call...</td>\n    </tr>\n    <tr>\n      <th>5567</th>\n      <td>This is the 2nd time we have tried 2 contact u...</td>\n    </tr>\n  </tbody>\n</table>\n<p>747 rows × 1 columns</p>\n</div>"
     },
     "execution_count": 3,
     "metadata": {},
     "output_type": "execute_result"
    }
   ],
   "source": [
    "df = pd.concat([df, data])\n",
    "df"
   ],
   "metadata": {
    "collapsed": false,
    "ExecuteTime": {
     "end_time": "2023-12-21T15:02:04.680460300Z",
     "start_time": "2023-12-21T15:02:04.591005800Z"
    }
   },
   "id": "609f8312972e142"
  },
  {
   "cell_type": "markdown",
   "source": [
    "# ___________________________________________________________________"
   ],
   "metadata": {
    "collapsed": false
   },
   "id": "d4def76c0df826f9"
  },
  {
   "cell_type": "code",
   "execution_count": 4,
   "outputs": [
    {
     "data": {
      "text/plain": "2500     save up to NUMBER on life insurance why spend...\n2501    NUMBER fight the risk of cancer URL NUMBER sli...\n2502    NUMBER fight the risk of cancer URL NUMBER sli...\n2503     adult club offers free membership instant acc...\n2504    i thought you might like these NUMBER slim dow...\n                              ...                        \n2995     abc s good morning america ranks it the NUMBE...\n2996     hyperlink hyperlink hyperlink let mortgage le...\n2997     thank you for shopping with us gifts for all ...\n2998     the famous ebay marketing e course learn to s...\n2999     hello this is chinese traditional 子 件 NUMBER世...\nName: email, Length: 500, dtype: object"
     },
     "execution_count": 4,
     "metadata": {},
     "output_type": "execute_result"
    }
   ],
   "source": [
    "data = pd.read_csv('raw_datasets/spam/spam_or_not_spam.csv')\n",
    "data = data.loc[data['label'] == 1, 'email']\n",
    "data"
   ],
   "metadata": {
    "collapsed": false,
    "ExecuteTime": {
     "end_time": "2023-12-21T15:02:04.736837600Z",
     "start_time": "2023-12-21T15:02:04.613628400Z"
    }
   },
   "id": "8e52e240601b62ed"
  },
  {
   "cell_type": "code",
   "execution_count": 5,
   "outputs": [
    {
     "data": {
      "text/plain": "                                                      0\n2     Free entry in 2 a wkly comp to win FA Cup fina...\n5     FreeMsg Hey there darling it's been 3 week's n...\n8     WINNER!! As a valued network customer you have...\n9     Had your mobile 11 months or more? U R entitle...\n11    SIX chances to win CASH! From 100 to 20,000 po...\n...                                                 ...\n2995   abc s good morning america ranks it the NUMBE...\n2996   hyperlink hyperlink hyperlink let mortgage le...\n2997   thank you for shopping with us gifts for all ...\n2998   the famous ebay marketing e course learn to s...\n2999   hello this is chinese traditional 子 件 NUMBER世...\n\n[1247 rows x 1 columns]",
      "text/html": "<div>\n<style scoped>\n    .dataframe tbody tr th:only-of-type {\n        vertical-align: middle;\n    }\n\n    .dataframe tbody tr th {\n        vertical-align: top;\n    }\n\n    .dataframe thead th {\n        text-align: right;\n    }\n</style>\n<table border=\"1\" class=\"dataframe\">\n  <thead>\n    <tr style=\"text-align: right;\">\n      <th></th>\n      <th>0</th>\n    </tr>\n  </thead>\n  <tbody>\n    <tr>\n      <th>2</th>\n      <td>Free entry in 2 a wkly comp to win FA Cup fina...</td>\n    </tr>\n    <tr>\n      <th>5</th>\n      <td>FreeMsg Hey there darling it's been 3 week's n...</td>\n    </tr>\n    <tr>\n      <th>8</th>\n      <td>WINNER!! As a valued network customer you have...</td>\n    </tr>\n    <tr>\n      <th>9</th>\n      <td>Had your mobile 11 months or more? U R entitle...</td>\n    </tr>\n    <tr>\n      <th>11</th>\n      <td>SIX chances to win CASH! From 100 to 20,000 po...</td>\n    </tr>\n    <tr>\n      <th>...</th>\n      <td>...</td>\n    </tr>\n    <tr>\n      <th>2995</th>\n      <td>abc s good morning america ranks it the NUMBE...</td>\n    </tr>\n    <tr>\n      <th>2996</th>\n      <td>hyperlink hyperlink hyperlink let mortgage le...</td>\n    </tr>\n    <tr>\n      <th>2997</th>\n      <td>thank you for shopping with us gifts for all ...</td>\n    </tr>\n    <tr>\n      <th>2998</th>\n      <td>the famous ebay marketing e course learn to s...</td>\n    </tr>\n    <tr>\n      <th>2999</th>\n      <td>hello this is chinese traditional 子 件 NUMBER世...</td>\n    </tr>\n  </tbody>\n</table>\n<p>1247 rows × 1 columns</p>\n</div>"
     },
     "execution_count": 5,
     "metadata": {},
     "output_type": "execute_result"
    }
   ],
   "source": [
    "df = pd.concat([df, data])\n",
    "df"
   ],
   "metadata": {
    "collapsed": false,
    "ExecuteTime": {
     "end_time": "2023-12-21T15:02:04.738832500Z",
     "start_time": "2023-12-21T15:02:04.716350500Z"
    }
   },
   "id": "f8b80bbe858525f2"
  },
  {
   "cell_type": "markdown",
   "source": [
    "# ___________________________________________________________________"
   ],
   "metadata": {
    "collapsed": false
   },
   "id": "5f38282e587be65f"
  },
  {
   "cell_type": "code",
   "execution_count": 6,
   "outputs": [
    {
     "data": {
      "text/plain": "2       Free entry in 2 a wkly comp to win FA Cup fina...\n5       FreeMsg Hey there darling it's been 3 week's n...\n8       WINNER!! As a valued network customer you have...\n9       Had your mobile 11 months or more? U R entitle...\n11      SIX chances to win CASH! From 100 to 20,000 po...\n                              ...                        \n5539    Want explicit SEX in 30 secs? Ring 02073162414...\n5542    ASKED 3MOBILE IF 0870 CHATLINES INCLU IN FREE ...\n5549    Had your contract mobile 11 Mnths? Latest Moto...\n5568    REMINDER FROM O2: To get 2.50 pounds free call...\n5569    This is the 2nd time we have tried 2 contact u...\nName: comment, Length: 747, dtype: object"
     },
     "execution_count": 6,
     "metadata": {},
     "output_type": "execute_result"
    }
   ],
   "source": [
    "with open('raw_datasets/spam/SMSSpamCollection', encoding='utf-8') as file:\n",
    "    data = file.read()\n",
    "data = data.split('\\n')\n",
    "data = pd.DataFrame(list(map(lambda x: x.split('\\t'), data)))\n",
    "data.columns = ['label', 'comment']\n",
    "data = data.loc[data['label'] == 'spam', 'comment'].copy()\n",
    "data"
   ],
   "metadata": {
    "collapsed": false,
    "ExecuteTime": {
     "end_time": "2023-12-21T15:02:04.850601300Z",
     "start_time": "2023-12-21T15:02:04.724870200Z"
    }
   },
   "id": "eb1f079038c99af8"
  },
  {
   "cell_type": "code",
   "execution_count": 7,
   "outputs": [
    {
     "data": {
      "text/plain": "                                                      0\n2     Free entry in 2 a wkly comp to win FA Cup fina...\n5     FreeMsg Hey there darling it's been 3 week's n...\n8     WINNER!! As a valued network customer you have...\n9     Had your mobile 11 months or more? U R entitle...\n11    SIX chances to win CASH! From 100 to 20,000 po...\n...                                                 ...\n5539  Want explicit SEX in 30 secs? Ring 02073162414...\n5542  ASKED 3MOBILE IF 0870 CHATLINES INCLU IN FREE ...\n5549  Had your contract mobile 11 Mnths? Latest Moto...\n5568  REMINDER FROM O2: To get 2.50 pounds free call...\n5569  This is the 2nd time we have tried 2 contact u...\n\n[1994 rows x 1 columns]",
      "text/html": "<div>\n<style scoped>\n    .dataframe tbody tr th:only-of-type {\n        vertical-align: middle;\n    }\n\n    .dataframe tbody tr th {\n        vertical-align: top;\n    }\n\n    .dataframe thead th {\n        text-align: right;\n    }\n</style>\n<table border=\"1\" class=\"dataframe\">\n  <thead>\n    <tr style=\"text-align: right;\">\n      <th></th>\n      <th>0</th>\n    </tr>\n  </thead>\n  <tbody>\n    <tr>\n      <th>2</th>\n      <td>Free entry in 2 a wkly comp to win FA Cup fina...</td>\n    </tr>\n    <tr>\n      <th>5</th>\n      <td>FreeMsg Hey there darling it's been 3 week's n...</td>\n    </tr>\n    <tr>\n      <th>8</th>\n      <td>WINNER!! As a valued network customer you have...</td>\n    </tr>\n    <tr>\n      <th>9</th>\n      <td>Had your mobile 11 months or more? U R entitle...</td>\n    </tr>\n    <tr>\n      <th>11</th>\n      <td>SIX chances to win CASH! From 100 to 20,000 po...</td>\n    </tr>\n    <tr>\n      <th>...</th>\n      <td>...</td>\n    </tr>\n    <tr>\n      <th>5539</th>\n      <td>Want explicit SEX in 30 secs? Ring 02073162414...</td>\n    </tr>\n    <tr>\n      <th>5542</th>\n      <td>ASKED 3MOBILE IF 0870 CHATLINES INCLU IN FREE ...</td>\n    </tr>\n    <tr>\n      <th>5549</th>\n      <td>Had your contract mobile 11 Mnths? Latest Moto...</td>\n    </tr>\n    <tr>\n      <th>5568</th>\n      <td>REMINDER FROM O2: To get 2.50 pounds free call...</td>\n    </tr>\n    <tr>\n      <th>5569</th>\n      <td>This is the 2nd time we have tried 2 contact u...</td>\n    </tr>\n  </tbody>\n</table>\n<p>1994 rows × 1 columns</p>\n</div>"
     },
     "execution_count": 7,
     "metadata": {},
     "output_type": "execute_result"
    }
   ],
   "source": [
    "df = pd.concat([df, data])\n",
    "df"
   ],
   "metadata": {
    "collapsed": false,
    "ExecuteTime": {
     "end_time": "2023-12-21T15:02:04.852597Z",
     "start_time": "2023-12-21T15:02:04.752488300Z"
    }
   },
   "id": "5d97238ce4a90bee"
  },
  {
   "cell_type": "markdown",
   "source": [
    "# ___________________________________________________________________"
   ],
   "metadata": {
    "collapsed": false
   },
   "id": "89e219cec6418643"
  },
  {
   "cell_type": "code",
   "execution_count": 8,
   "outputs": [
    {
     "data": {
      "text/plain": "3       Subject: photoshop , windows , office . cheap ...\n7       Subject: looking for medication ? we ` re the ...\n10      Subject: vocable % rnd - word asceticism\\r\\nvc...\n11      Subject: report 01405 !\\r\\nwffur attion brom e...\n13      Subject: vic . odin n ^ ow\\r\\nberne hotbox car...\n                              ...                        \n5159    Subject: pictures\\r\\nstreamlined denizen ajar ...\n5161    Subject: penny stocks are about timing\\r\\nnoma...\n5162    Subject: anomaly boys from 3881\\r\\nuosda apapr...\n5164    Subject: slutty milf wants to meet you\\r\\ntake...\n5170    Subject: important online banking alert\\r\\ndea...\nName: text, Length: 1499, dtype: object"
     },
     "execution_count": 8,
     "metadata": {},
     "output_type": "execute_result"
    }
   ],
   "source": [
    "data = pd.read_csv('raw_datasets/spam/spam_ham_dataset.csv')\n",
    "data.drop(columns=['Unnamed: 0', 'label_num'], inplace=True)\n",
    "data = data.loc[data['label'] == 'spam', 'text']\n",
    "data"
   ],
   "metadata": {
    "collapsed": false,
    "ExecuteTime": {
     "end_time": "2023-12-21T15:02:04.964369900Z",
     "start_time": "2023-12-21T15:02:04.759981Z"
    }
   },
   "id": "4535be72628d334a"
  },
  {
   "cell_type": "code",
   "execution_count": 9,
   "outputs": [
    {
     "data": {
      "text/plain": "3        photoshop , windows , office . cheap . main t...\n7        looking for medication ? we ` re the best sou...\n10       vocable % rnd - word asceticism\\r\\nvcsc - bra...\n11       report 01405 !\\r\\nwffur attion brom est inst ...\n13       vic . odin n ^ ow\\r\\nberne hotbox carnal brid...\n                              ...                        \n5159     pictures\\r\\nstreamlined denizen ajar chased\\r...\n5161     penny stocks are about timing\\r\\nnomad intern...\n5162     anomaly boys from 3881\\r\\nuosda apaproved mle...\n5164     slutty milf wants to meet you\\r\\ntake that !\\...\n5170     important online banking alert\\r\\ndear valued...\nName: text, Length: 1499, dtype: object"
     },
     "execution_count": 9,
     "metadata": {},
     "output_type": "execute_result"
    }
   ],
   "source": [
    "def subj_del(text):\n",
    "    return text.replace('Subject:', '', 1)\n",
    "\n",
    "\n",
    "data = data.apply(subj_del)\n",
    "data"
   ],
   "metadata": {
    "collapsed": false,
    "ExecuteTime": {
     "end_time": "2023-12-21T15:02:04.976338300Z",
     "start_time": "2023-12-21T15:02:04.848606500Z"
    }
   },
   "id": "f8d5c29f8af9f524"
  },
  {
   "cell_type": "code",
   "execution_count": 10,
   "outputs": [
    {
     "data": {
      "text/plain": "                                                      0\n2     Free entry in 2 a wkly comp to win FA Cup fina...\n5     FreeMsg Hey there darling it's been 3 week's n...\n8     WINNER!! As a valued network customer you have...\n9     Had your mobile 11 months or more? U R entitle...\n11    SIX chances to win CASH! From 100 to 20,000 po...\n...                                                 ...\n5159   pictures\\r\\nstreamlined denizen ajar chased\\r...\n5161   penny stocks are about timing\\r\\nnomad intern...\n5162   anomaly boys from 3881\\r\\nuosda apaproved mle...\n5164   slutty milf wants to meet you\\r\\ntake that !\\...\n5170   important online banking alert\\r\\ndear valued...\n\n[3493 rows x 1 columns]",
      "text/html": "<div>\n<style scoped>\n    .dataframe tbody tr th:only-of-type {\n        vertical-align: middle;\n    }\n\n    .dataframe tbody tr th {\n        vertical-align: top;\n    }\n\n    .dataframe thead th {\n        text-align: right;\n    }\n</style>\n<table border=\"1\" class=\"dataframe\">\n  <thead>\n    <tr style=\"text-align: right;\">\n      <th></th>\n      <th>0</th>\n    </tr>\n  </thead>\n  <tbody>\n    <tr>\n      <th>2</th>\n      <td>Free entry in 2 a wkly comp to win FA Cup fina...</td>\n    </tr>\n    <tr>\n      <th>5</th>\n      <td>FreeMsg Hey there darling it's been 3 week's n...</td>\n    </tr>\n    <tr>\n      <th>8</th>\n      <td>WINNER!! As a valued network customer you have...</td>\n    </tr>\n    <tr>\n      <th>9</th>\n      <td>Had your mobile 11 months or more? U R entitle...</td>\n    </tr>\n    <tr>\n      <th>11</th>\n      <td>SIX chances to win CASH! From 100 to 20,000 po...</td>\n    </tr>\n    <tr>\n      <th>...</th>\n      <td>...</td>\n    </tr>\n    <tr>\n      <th>5159</th>\n      <td>pictures\\r\\nstreamlined denizen ajar chased\\r...</td>\n    </tr>\n    <tr>\n      <th>5161</th>\n      <td>penny stocks are about timing\\r\\nnomad intern...</td>\n    </tr>\n    <tr>\n      <th>5162</th>\n      <td>anomaly boys from 3881\\r\\nuosda apaproved mle...</td>\n    </tr>\n    <tr>\n      <th>5164</th>\n      <td>slutty milf wants to meet you\\r\\ntake that !\\...</td>\n    </tr>\n    <tr>\n      <th>5170</th>\n      <td>important online banking alert\\r\\ndear valued...</td>\n    </tr>\n  </tbody>\n</table>\n<p>3493 rows × 1 columns</p>\n</div>"
     },
     "execution_count": 10,
     "metadata": {},
     "output_type": "execute_result"
    }
   ],
   "source": [
    "df = pd.concat([df, data])\n",
    "df"
   ],
   "metadata": {
    "collapsed": false,
    "ExecuteTime": {
     "end_time": "2023-12-21T15:02:05.016231Z",
     "start_time": "2023-12-21T15:02:04.852597Z"
    }
   },
   "id": "3cef7d4cd243a7a9"
  },
  {
   "cell_type": "markdown",
   "source": [
    "# ___________________________________________________________________"
   ],
   "metadata": {
    "collapsed": false
   },
   "id": "a86320c1eb43111e"
  },
  {
   "cell_type": "code",
   "execution_count": 11,
   "outputs": [
    {
     "data": {
      "text/plain": "0     Hi James,\\r\\n\\r\\nHave you claim your complimen...\n4     Hey Prachanda Rawal,\\r\\n\\r\\nToday's newsletter...\n7     Today more than ever you need to upskill and r...\n14    Discogs has recently detected an increase in s...\n20    Hello Walid,\\r\\n\\r\\nDo you have $7?\\r\\n\\r\\nI a...\n21                                  Just wanted to make\n22                          RTD to iiiiiiuiiiiiiiiiiiii\n23                     Sfhdg to iiiiiiuiiiiiiiiiiiii to\n25    Welcome to our second weekly newsletter.\\r\\n\\r...\n27    Hi Taiwo\\r\\n\\r\\nWe're just over halfway throug...\n28    Hi rehan\\r\\n\\r\\n \\r\\n\\r\\nWe're just over halfw...\n30    Adult Dating\\r\\n\\r\\nDiscover the best site for...\n31    Come on, message me i don't want to sleep alon...\n34    To cushion the effect of subsidy removal and g...\n35    Bolt rides are not only affordable, but they a...\n38    \\r\\nLess than $1 for any of our 214 million am...\n40    Where Live Happens ??\\r\\nThe Live party is jus...\n41    Hello Walid,\\r\\n\\r\\nOur Zoom call meeting is t...\n55    Greetings from SFI...let's keep building somet...\n57    Comfortable & Durable\\r\\nLove, Bonito\\r\\nNEW I...\n60    Dear Customer,\\r\\n\\r\\nAs the tax season comes ...\n61    Dear Customer,\\r\\n\\r\\nThe 2022 filing season i...\n63    Here�s 10% OFF your next 10 Bolt rides\\r\\n\\r\\n...\n72    Hi Walid,\\r\\n\\r\\nDo you listen to music on Spo...\n74    Hey Prachanda,\\r\\n \\r\\nToday's video... To bui...\n76    We noticed a new login\\r\\nHello ondiekijohn254...\nName: text, dtype: object"
     },
     "execution_count": 11,
     "metadata": {},
     "output_type": "execute_result"
    }
   ],
   "source": [
    "data = pd.read_csv('raw_datasets/spam/data.csv')\n",
    "data = data.loc[data['type'] == 'spam', 'text']\n",
    "data"
   ],
   "metadata": {
    "collapsed": false,
    "ExecuteTime": {
     "end_time": "2023-12-21T15:02:05.083051900Z",
     "start_time": "2023-12-21T15:02:04.865826400Z"
    }
   },
   "id": "3b2d195f3af0763d"
  },
  {
   "cell_type": "code",
   "execution_count": 12,
   "outputs": [
    {
     "data": {
      "text/plain": "                                                    0\n2   Free entry in 2 a wkly comp to win FA Cup fina...\n5   FreeMsg Hey there darling it's been 3 week's n...\n8   WINNER!! As a valued network customer you have...\n9   Had your mobile 11 months or more? U R entitle...\n11  SIX chances to win CASH! From 100 to 20,000 po...\n..                                                ...\n61  Dear Customer,\\r\\n\\r\\nThe 2022 filing season i...\n63  Here�s 10% OFF your next 10 Bolt rides\\r\\n\\r\\n...\n72  Hi Walid,\\r\\n\\r\\nDo you listen to music on Spo...\n74  Hey Prachanda,\\r\\n \\r\\nToday's video... To bui...\n76  We noticed a new login\\r\\nHello ondiekijohn254...\n\n[3519 rows x 1 columns]",
      "text/html": "<div>\n<style scoped>\n    .dataframe tbody tr th:only-of-type {\n        vertical-align: middle;\n    }\n\n    .dataframe tbody tr th {\n        vertical-align: top;\n    }\n\n    .dataframe thead th {\n        text-align: right;\n    }\n</style>\n<table border=\"1\" class=\"dataframe\">\n  <thead>\n    <tr style=\"text-align: right;\">\n      <th></th>\n      <th>0</th>\n    </tr>\n  </thead>\n  <tbody>\n    <tr>\n      <th>2</th>\n      <td>Free entry in 2 a wkly comp to win FA Cup fina...</td>\n    </tr>\n    <tr>\n      <th>5</th>\n      <td>FreeMsg Hey there darling it's been 3 week's n...</td>\n    </tr>\n    <tr>\n      <th>8</th>\n      <td>WINNER!! As a valued network customer you have...</td>\n    </tr>\n    <tr>\n      <th>9</th>\n      <td>Had your mobile 11 months or more? U R entitle...</td>\n    </tr>\n    <tr>\n      <th>11</th>\n      <td>SIX chances to win CASH! From 100 to 20,000 po...</td>\n    </tr>\n    <tr>\n      <th>...</th>\n      <td>...</td>\n    </tr>\n    <tr>\n      <th>61</th>\n      <td>Dear Customer,\\r\\n\\r\\nThe 2022 filing season i...</td>\n    </tr>\n    <tr>\n      <th>63</th>\n      <td>Here�s 10% OFF your next 10 Bolt rides\\r\\n\\r\\n...</td>\n    </tr>\n    <tr>\n      <th>72</th>\n      <td>Hi Walid,\\r\\n\\r\\nDo you listen to music on Spo...</td>\n    </tr>\n    <tr>\n      <th>74</th>\n      <td>Hey Prachanda,\\r\\n \\r\\nToday's video... To bui...</td>\n    </tr>\n    <tr>\n      <th>76</th>\n      <td>We noticed a new login\\r\\nHello ondiekijohn254...</td>\n    </tr>\n  </tbody>\n</table>\n<p>3519 rows × 1 columns</p>\n</div>"
     },
     "execution_count": 12,
     "metadata": {},
     "output_type": "execute_result"
    }
   ],
   "source": [
    "df = pd.concat([df, data])\n",
    "df"
   ],
   "metadata": {
    "collapsed": false,
    "ExecuteTime": {
     "end_time": "2023-12-21T15:02:05.132792100Z",
     "start_time": "2023-12-21T15:02:04.879966600Z"
    }
   },
   "id": "f5a90eca25b51f23"
  },
  {
   "cell_type": "markdown",
   "source": [
    "# ___________________________________________________________________"
   ],
   "metadata": {
    "collapsed": false
   },
   "id": "8a59eabec11f9da1"
  },
  {
   "cell_type": "code",
   "execution_count": 13,
   "outputs": [
    {
     "data": {
      "text/plain": "0      Кредит с доставкой к Вам от 2% до 1 млн.р.: bi...\n1      Томаты Черри, горячее сердце/клубничный поцелу...\n2      −410₽ на первый заказ в магазине от 1500₽. Про...\n3      Финальная распродажа! ЛЕТО цены ПОПОЛАМ! Franc...\n4      МЯУ 🐱 В ЛЭТУАЛЬ черная пятница ЛЕТОМ! Скидки д...\n                             ...                        \n110    Вам 500 бонусов до 28.06! Оплачивайте до 50% п...\n111    Выиграйте более 49 млн в лотерее Всё или ничег...\n112     мяу в лэтуаль черная пятница Летом!Скидки до 80%\n113    Бесплатная кредитная карта «180 дней» без %, с...\n114    SALE 💥 до -70% на ВСЁ в Золотой Подкове 💍💎 по ...\nName: message, Length: 115, dtype: object"
     },
     "execution_count": 13,
     "metadata": {},
     "output_type": "execute_result"
    }
   ],
   "source": [
    "data = pd.read_csv('raw_datasets/spam/data_russian-spam-text-messages.csv')\n",
    "data = data['message'].copy()\n",
    "data"
   ],
   "metadata": {
    "collapsed": false,
    "ExecuteTime": {
     "end_time": "2023-12-21T15:02:05.168697400Z",
     "start_time": "2023-12-21T15:02:04.890824500Z"
    }
   },
   "id": "a6f47d66f1799440"
  },
  {
   "cell_type": "code",
   "execution_count": 14,
   "outputs": [
    {
     "data": {
      "text/plain": "                                                     0\n2    Free entry in 2 a wkly comp to win FA Cup fina...\n5    FreeMsg Hey there darling it's been 3 week's n...\n8    WINNER!! As a valued network customer you have...\n9    Had your mobile 11 months or more? U R entitle...\n11   SIX chances to win CASH! From 100 to 20,000 po...\n..                                                 ...\n110  Вам 500 бонусов до 28.06! Оплачивайте до 50% п...\n111  Выиграйте более 49 млн в лотерее Всё или ничег...\n112   мяу в лэтуаль черная пятница Летом!Скидки до 80%\n113  Бесплатная кредитная карта «180 дней» без %, с...\n114  SALE 💥 до -70% на ВСЁ в Золотой Подкове 💍💎 по ...\n\n[3634 rows x 1 columns]",
      "text/html": "<div>\n<style scoped>\n    .dataframe tbody tr th:only-of-type {\n        vertical-align: middle;\n    }\n\n    .dataframe tbody tr th {\n        vertical-align: top;\n    }\n\n    .dataframe thead th {\n        text-align: right;\n    }\n</style>\n<table border=\"1\" class=\"dataframe\">\n  <thead>\n    <tr style=\"text-align: right;\">\n      <th></th>\n      <th>0</th>\n    </tr>\n  </thead>\n  <tbody>\n    <tr>\n      <th>2</th>\n      <td>Free entry in 2 a wkly comp to win FA Cup fina...</td>\n    </tr>\n    <tr>\n      <th>5</th>\n      <td>FreeMsg Hey there darling it's been 3 week's n...</td>\n    </tr>\n    <tr>\n      <th>8</th>\n      <td>WINNER!! As a valued network customer you have...</td>\n    </tr>\n    <tr>\n      <th>9</th>\n      <td>Had your mobile 11 months or more? U R entitle...</td>\n    </tr>\n    <tr>\n      <th>11</th>\n      <td>SIX chances to win CASH! From 100 to 20,000 po...</td>\n    </tr>\n    <tr>\n      <th>...</th>\n      <td>...</td>\n    </tr>\n    <tr>\n      <th>110</th>\n      <td>Вам 500 бонусов до 28.06! Оплачивайте до 50% п...</td>\n    </tr>\n    <tr>\n      <th>111</th>\n      <td>Выиграйте более 49 млн в лотерее Всё или ничег...</td>\n    </tr>\n    <tr>\n      <th>112</th>\n      <td>мяу в лэтуаль черная пятница Летом!Скидки до 80%</td>\n    </tr>\n    <tr>\n      <th>113</th>\n      <td>Бесплатная кредитная карта «180 дней» без %, с...</td>\n    </tr>\n    <tr>\n      <th>114</th>\n      <td>SALE 💥 до -70% на ВСЁ в Золотой Подкове 💍💎 по ...</td>\n    </tr>\n  </tbody>\n</table>\n<p>3634 rows × 1 columns</p>\n</div>"
     },
     "execution_count": 14,
     "metadata": {},
     "output_type": "execute_result"
    }
   ],
   "source": [
    "df = pd.concat([df, data])\n",
    "df"
   ],
   "metadata": {
    "collapsed": false,
    "ExecuteTime": {
     "end_time": "2023-12-21T15:02:05.169694600Z",
     "start_time": "2023-12-21T15:02:04.906357400Z"
    }
   },
   "id": "d29bbdd3c3b5c494"
  },
  {
   "cell_type": "markdown",
   "source": [
    "# ___________________________________________________________________"
   ],
   "metadata": {
    "collapsed": false
   },
   "id": "2b6ded07fa177c41"
  },
  {
   "cell_type": "code",
   "execution_count": 15,
   "outputs": [
    {
     "data": {
      "text/plain": "0       \\r\\nSave up to 70% on Life Insurance.\\r\\nWhy S...\n1       1) Fight The Risk of Cancer!\\r\\nhttp://www.adc...\n2       1) Fight The Risk of Cancer!\\r\\nhttp://www.adc...\n3       ##############################################...\n4       I thought you might like these:\\r\\n1) Slim Dow...\n                              ...                        \n1891    \\r\\nWant To Be Your Own Boss? Â  Train Now Wit...\n1892                                                empty\n1893    Dear Subscriber,If I could show you a way to g...\n1894    ****Mid-Summer Customer Appreciation SALE!****...\n1895    ATTN:SIR/MADAN                            STRI...\nName: Body, Length: 1896, dtype: object"
     },
     "execution_count": 15,
     "metadata": {},
     "output_type": "execute_result"
    }
   ],
   "source": [
    "data = pd.read_csv('raw_datasets/spam/completeSpamAssassin.csv')\n",
    "data = data.loc[data['Label'] == 1, 'Body'].copy()\n",
    "data"
   ],
   "metadata": {
    "collapsed": false,
    "ExecuteTime": {
     "end_time": "2023-12-21T15:02:05.521179100Z",
     "start_time": "2023-12-21T15:02:04.914503100Z"
    }
   },
   "id": "a3ae7a18d357ff87"
  },
  {
   "cell_type": "code",
   "execution_count": 16,
   "outputs": [
    {
     "data": {
      "text/plain": "                                                      0\n2     Free entry in 2 a wkly comp to win FA Cup fina...\n5     FreeMsg Hey there darling it's been 3 week's n...\n8     WINNER!! As a valued network customer you have...\n9     Had your mobile 11 months or more? U R entitle...\n11    SIX chances to win CASH! From 100 to 20,000 po...\n...                                                 ...\n1891  \\r\\nWant To Be Your Own Boss? Â  Train Now Wit...\n1892                                              empty\n1893  Dear Subscriber,If I could show you a way to g...\n1894  ****Mid-Summer Customer Appreciation SALE!****...\n1895  ATTN:SIR/MADAN                            STRI...\n\n[5530 rows x 1 columns]",
      "text/html": "<div>\n<style scoped>\n    .dataframe tbody tr th:only-of-type {\n        vertical-align: middle;\n    }\n\n    .dataframe tbody tr th {\n        vertical-align: top;\n    }\n\n    .dataframe thead th {\n        text-align: right;\n    }\n</style>\n<table border=\"1\" class=\"dataframe\">\n  <thead>\n    <tr style=\"text-align: right;\">\n      <th></th>\n      <th>0</th>\n    </tr>\n  </thead>\n  <tbody>\n    <tr>\n      <th>2</th>\n      <td>Free entry in 2 a wkly comp to win FA Cup fina...</td>\n    </tr>\n    <tr>\n      <th>5</th>\n      <td>FreeMsg Hey there darling it's been 3 week's n...</td>\n    </tr>\n    <tr>\n      <th>8</th>\n      <td>WINNER!! As a valued network customer you have...</td>\n    </tr>\n    <tr>\n      <th>9</th>\n      <td>Had your mobile 11 months or more? U R entitle...</td>\n    </tr>\n    <tr>\n      <th>11</th>\n      <td>SIX chances to win CASH! From 100 to 20,000 po...</td>\n    </tr>\n    <tr>\n      <th>...</th>\n      <td>...</td>\n    </tr>\n    <tr>\n      <th>1891</th>\n      <td>\\r\\nWant To Be Your Own Boss? Â  Train Now Wit...</td>\n    </tr>\n    <tr>\n      <th>1892</th>\n      <td>empty</td>\n    </tr>\n    <tr>\n      <th>1893</th>\n      <td>Dear Subscriber,If I could show you a way to g...</td>\n    </tr>\n    <tr>\n      <th>1894</th>\n      <td>****Mid-Summer Customer Appreciation SALE!****...</td>\n    </tr>\n    <tr>\n      <th>1895</th>\n      <td>ATTN:SIR/MADAN                            STRI...</td>\n    </tr>\n  </tbody>\n</table>\n<p>5530 rows × 1 columns</p>\n</div>"
     },
     "execution_count": 16,
     "metadata": {},
     "output_type": "execute_result"
    }
   ],
   "source": [
    "df = pd.concat([df, data])\n",
    "df"
   ],
   "metadata": {
    "collapsed": false,
    "ExecuteTime": {
     "end_time": "2023-12-21T15:02:05.522177Z",
     "start_time": "2023-12-21T15:02:05.111063400Z"
    }
   },
   "id": "136ca58fd3e40ca3"
  },
  {
   "cell_type": "markdown",
   "source": [
    "# ___________________________________________________________________"
   ],
   "metadata": {
    "collapsed": false
   },
   "id": "511673c6cedddda9"
  },
  {
   "cell_type": "code",
   "execution_count": 17,
   "outputs": [
    {
     "data": {
      "text/plain": "0      Subject: great part-time or summer job !\\r\\n \\...\n1      Subject: auto insurance rates too high ?\\r\\n \\...\n2      Subject: do want the best and economical hunti...\n3      Subject: email 57 million people for $ 99\\r\\n ...\n4      Subject: do n't miss these !\\r\\n \\r\\n attentio...\n                             ...                        \n428    Subject: lucky you !\\r\\n \\r\\n congratulations ...\n429    Subject: new on capitalfm . com\\r\\n \\r\\n this ...\n430    Subject: submit 600\\r\\n \\r\\n this is not spam ...\n431    Subject: submit 600\\r\\n \\r\\n this is not spam ...\n432    Subject: i can ' t stand it ! ! ! ! ! ! !\\r\\n ...\nName: Body, Length: 433, dtype: object"
     },
     "execution_count": 17,
     "metadata": {},
     "output_type": "execute_result"
    }
   ],
   "source": [
    "data = pd.read_csv('raw_datasets/spam/lingSpam.csv')\n",
    "data = data.loc[data['Label'] == 1, 'Body']\n",
    "data"
   ],
   "metadata": {
    "collapsed": false,
    "ExecuteTime": {
     "end_time": "2023-12-21T15:02:05.711809300Z",
     "start_time": "2023-12-21T15:02:05.121821900Z"
    }
   },
   "id": "78a6be37bf96ed50"
  },
  {
   "cell_type": "code",
   "execution_count": 18,
   "outputs": [
    {
     "data": {
      "text/plain": "0       great part-time or summer job !\\r\\n \\r\\n * * ...\n1       auto insurance rates too high ?\\r\\n \\r\\n dear...\n2       do want the best and economical hunting vacat...\n3       email 57 million people for $ 99\\r\\n \\r\\n 57 ...\n4       do n't miss these !\\r\\n \\r\\n attention ! warn...\n                             ...                        \n428     lucky you !\\r\\n \\r\\n congratulations ! you ' ...\n429     new on capitalfm . com\\r\\n \\r\\n this is new a...\n430     submit 600\\r\\n \\r\\n this is not spam ; you ar...\n431     submit 600\\r\\n \\r\\n this is not spam ; you ar...\n432     i can ' t stand it ! ! ! ! ! ! !\\r\\n \\r\\n dea...\nName: Body, Length: 433, dtype: object"
     },
     "execution_count": 18,
     "metadata": {},
     "output_type": "execute_result"
    }
   ],
   "source": [
    "data = data.apply(subj_del)\n",
    "data"
   ],
   "metadata": {
    "collapsed": false,
    "ExecuteTime": {
     "end_time": "2023-12-21T15:02:05.712807300Z",
     "start_time": "2023-12-21T15:02:05.394274Z"
    }
   },
   "id": "6edc6eba86fae056"
  },
  {
   "cell_type": "code",
   "execution_count": 19,
   "outputs": [
    {
     "data": {
      "text/plain": "                                                     0\n2    Free entry in 2 a wkly comp to win FA Cup fina...\n5    FreeMsg Hey there darling it's been 3 week's n...\n8    WINNER!! As a valued network customer you have...\n9    Had your mobile 11 months or more? U R entitle...\n11   SIX chances to win CASH! From 100 to 20,000 po...\n..                                                 ...\n428   lucky you !\\r\\n \\r\\n congratulations ! you ' ...\n429   new on capitalfm . com\\r\\n \\r\\n this is new a...\n430   submit 600\\r\\n \\r\\n this is not spam ; you ar...\n431   submit 600\\r\\n \\r\\n this is not spam ; you ar...\n432   i can ' t stand it ! ! ! ! ! ! !\\r\\n \\r\\n dea...\n\n[5963 rows x 1 columns]",
      "text/html": "<div>\n<style scoped>\n    .dataframe tbody tr th:only-of-type {\n        vertical-align: middle;\n    }\n\n    .dataframe tbody tr th {\n        vertical-align: top;\n    }\n\n    .dataframe thead th {\n        text-align: right;\n    }\n</style>\n<table border=\"1\" class=\"dataframe\">\n  <thead>\n    <tr style=\"text-align: right;\">\n      <th></th>\n      <th>0</th>\n    </tr>\n  </thead>\n  <tbody>\n    <tr>\n      <th>2</th>\n      <td>Free entry in 2 a wkly comp to win FA Cup fina...</td>\n    </tr>\n    <tr>\n      <th>5</th>\n      <td>FreeMsg Hey there darling it's been 3 week's n...</td>\n    </tr>\n    <tr>\n      <th>8</th>\n      <td>WINNER!! As a valued network customer you have...</td>\n    </tr>\n    <tr>\n      <th>9</th>\n      <td>Had your mobile 11 months or more? U R entitle...</td>\n    </tr>\n    <tr>\n      <th>11</th>\n      <td>SIX chances to win CASH! From 100 to 20,000 po...</td>\n    </tr>\n    <tr>\n      <th>...</th>\n      <td>...</td>\n    </tr>\n    <tr>\n      <th>428</th>\n      <td>lucky you !\\r\\n \\r\\n congratulations ! you ' ...</td>\n    </tr>\n    <tr>\n      <th>429</th>\n      <td>new on capitalfm . com\\r\\n \\r\\n this is new a...</td>\n    </tr>\n    <tr>\n      <th>430</th>\n      <td>submit 600\\r\\n \\r\\n this is not spam ; you ar...</td>\n    </tr>\n    <tr>\n      <th>431</th>\n      <td>submit 600\\r\\n \\r\\n this is not spam ; you ar...</td>\n    </tr>\n    <tr>\n      <th>432</th>\n      <td>i can ' t stand it ! ! ! ! ! ! !\\r\\n \\r\\n dea...</td>\n    </tr>\n  </tbody>\n</table>\n<p>5963 rows × 1 columns</p>\n</div>"
     },
     "execution_count": 19,
     "metadata": {},
     "output_type": "execute_result"
    }
   ],
   "source": [
    "df = pd.concat([df, data])\n",
    "df"
   ],
   "metadata": {
    "collapsed": false,
    "ExecuteTime": {
     "end_time": "2023-12-21T15:02:05.712807300Z",
     "start_time": "2023-12-21T15:02:05.403039500Z"
    }
   },
   "id": "7664a0bdab2b093b"
  },
  {
   "cell_type": "markdown",
   "source": [
    "# ___________________________________________________________________"
   ],
   "metadata": {
    "collapsed": false
   },
   "id": "bd91548d525c9304"
  },
  {
   "cell_type": "code",
   "execution_count": 20,
   "outputs": [
    {
     "name": "stdout",
     "output_type": "stream",
     "text": [
      "0       5 Reasons You Need to Join InstaSpam Now!\\r\\n\\...\n",
      "1       Win A FREE iPhone X Now!! Click Here To Enter!...\n",
      "2       CHECK OUT THESE AMAZING DEALS! GET RICH QUICK ...\n",
      "3       Urgent update!!1!!1!1 OMG 😱😱😱\\r\\nYou won't bel...\n",
      "4       Get rich quick with our amazing new investment...\n",
      "                              ...                        \n",
      "4995    Do you want to lead a happy life? Then join ou...\n",
      "4996    Get ready to start making BANK with our amazin...\n",
      "4997    Get ready to upgrade your social media game wi...\n",
      "4998    Get rIch QUICK wIth thIs AMAZiNG oppOrTUity!!!...\n",
      "4999    Get rich quick with our new investment scheme!...\n",
      "Name: text, Length: 5000, dtype: object\n",
      "0      LeTs tAlK AbouT DisCOuNtS aNd DeAlS! WhO HaS T...\n",
      "1      Waaassssupppppp!!!!!! Have you checked out the...\n",
      "2      $$$MAKE $$$MONEY$$$ FAST!!!$$$ No scams!$$$ \\r...\n",
      "3      Get rich quick with our amazing new product!!!...\n",
      "4      Are you tired of being single? Join our websit...\n",
      "                             ...                        \n",
      "495    Attention all users! You won't believe the sup...\n",
      "496    Free V1AGR4 and C1AL1S for all your needs! Don...\n",
      "497    💰💰💰 Get Rich Quick!!! 💰💰💰\\r\\nAre you tired of ...\n",
      "498    10 AMAZING TRICKS THAT WILL CHANGE YOUR LIFE!!...\n",
      "499    Yo guys! Check out this totally rad deal I fou...\n",
      "Name: text, Length: 500, dtype: object\n"
     ]
    }
   ],
   "source": [
    "data = pd.read_csv('raw_datasets/spam/train.csv')\n",
    "data1 = pd.read_csv('raw_datasets/spam/test.csv')\n",
    "data = data.loc[data['label'] == 'spam', 'text']\n",
    "data1 = data1.loc[data1['label'] == 'spam', 'text']\n",
    "print(data)\n",
    "print(data1)"
   ],
   "metadata": {
    "collapsed": false,
    "ExecuteTime": {
     "end_time": "2023-12-21T15:02:05.856475400Z",
     "start_time": "2023-12-21T15:02:05.416463900Z"
    }
   },
   "id": "33aa12d922421d3f"
  },
  {
   "cell_type": "code",
   "execution_count": 21,
   "outputs": [
    {
     "data": {
      "text/plain": "                                                     0\n2    Free entry in 2 a wkly comp to win FA Cup fina...\n5    FreeMsg Hey there darling it's been 3 week's n...\n8    WINNER!! As a valued network customer you have...\n9    Had your mobile 11 months or more? U R entitle...\n11   SIX chances to win CASH! From 100 to 20,000 po...\n..                                                 ...\n495  Attention all users! You won't believe the sup...\n496  Free V1AGR4 and C1AL1S for all your needs! Don...\n497  💰💰💰 Get Rich Quick!!! 💰💰💰\\r\\nAre you tired of ...\n498  10 AMAZING TRICKS THAT WILL CHANGE YOUR LIFE!!...\n499  Yo guys! Check out this totally rad deal I fou...\n\n[11463 rows x 1 columns]",
      "text/html": "<div>\n<style scoped>\n    .dataframe tbody tr th:only-of-type {\n        vertical-align: middle;\n    }\n\n    .dataframe tbody tr th {\n        vertical-align: top;\n    }\n\n    .dataframe thead th {\n        text-align: right;\n    }\n</style>\n<table border=\"1\" class=\"dataframe\">\n  <thead>\n    <tr style=\"text-align: right;\">\n      <th></th>\n      <th>0</th>\n    </tr>\n  </thead>\n  <tbody>\n    <tr>\n      <th>2</th>\n      <td>Free entry in 2 a wkly comp to win FA Cup fina...</td>\n    </tr>\n    <tr>\n      <th>5</th>\n      <td>FreeMsg Hey there darling it's been 3 week's n...</td>\n    </tr>\n    <tr>\n      <th>8</th>\n      <td>WINNER!! As a valued network customer you have...</td>\n    </tr>\n    <tr>\n      <th>9</th>\n      <td>Had your mobile 11 months or more? U R entitle...</td>\n    </tr>\n    <tr>\n      <th>11</th>\n      <td>SIX chances to win CASH! From 100 to 20,000 po...</td>\n    </tr>\n    <tr>\n      <th>...</th>\n      <td>...</td>\n    </tr>\n    <tr>\n      <th>495</th>\n      <td>Attention all users! You won't believe the sup...</td>\n    </tr>\n    <tr>\n      <th>496</th>\n      <td>Free V1AGR4 and C1AL1S for all your needs! Don...</td>\n    </tr>\n    <tr>\n      <th>497</th>\n      <td>💰💰💰 Get Rich Quick!!! 💰💰💰\\r\\nAre you tired of ...</td>\n    </tr>\n    <tr>\n      <th>498</th>\n      <td>10 AMAZING TRICKS THAT WILL CHANGE YOUR LIFE!!...</td>\n    </tr>\n    <tr>\n      <th>499</th>\n      <td>Yo guys! Check out this totally rad deal I fou...</td>\n    </tr>\n  </tbody>\n</table>\n<p>11463 rows × 1 columns</p>\n</div>"
     },
     "execution_count": 21,
     "metadata": {},
     "output_type": "execute_result"
    }
   ],
   "source": [
    "df = pd.concat([df, data, data1])\n",
    "df"
   ],
   "metadata": {
    "collapsed": false,
    "ExecuteTime": {
     "end_time": "2023-12-21T15:02:05.857473900Z",
     "start_time": "2023-12-21T15:02:05.540275500Z"
    }
   },
   "id": "e2a0de3905e4810d"
  },
  {
   "cell_type": "markdown",
   "source": [
    "# ___________________________________________________________________"
   ],
   "metadata": {
    "collapsed": false
   },
   "id": "2285afb77b930def"
  },
  {
   "cell_type": "code",
   "execution_count": 22,
   "outputs": [
    {
     "data": {
      "text/plain": "0        stock promo mover : cwtd\\r\\n * * * urgent inv...\n1        are you listed in major search engines ?\\r\\n ...\n2        important information thu , 30 jun 2005 .\\r\\n...\n3        = ? utf - 8 ? q ? bask your life with ? =\\r\\n...\n4        \" bidstogo \" is places to go , things to do\\r...\n                              ...                        \n4995                                   rock her world\\r\\n\n4996     save your smoking\\r\\n unsubscribe\\r\\n taste b...\n4997     you can find unimaginable savings on v . aliu...\n4998     floor heating under tile - easiest system on ...\n4999     update your online banking records\\r\\n notifi...\nName: Body, Length: 5000, dtype: object"
     },
     "execution_count": 22,
     "metadata": {},
     "output_type": "execute_result"
    }
   ],
   "source": [
    "data = pd.read_csv('raw_datasets/spam/enronSpamSubset.csv')\n",
    "data = data.loc[data['Label'] == 1, 'Body']\n",
    "data = data.apply(subj_del)\n",
    "data"
   ],
   "metadata": {
    "collapsed": false,
    "ExecuteTime": {
     "end_time": "2023-12-21T15:02:06.146700300Z",
     "start_time": "2023-12-21T15:02:05.554230700Z"
    }
   },
   "id": "1713f003acf0a180"
  },
  {
   "cell_type": "code",
   "execution_count": 23,
   "outputs": [
    {
     "data": {
      "text/plain": "                                                     0\n2    Free entry in 2 a wkly comp to win FA Cup fina...\n5    FreeMsg Hey there darling it's been 3 week's n...\n8    WINNER!! As a valued network customer you have...\n9    Had your mobile 11 months or more? U R entitle...\n11   SIX chances to win CASH! From 100 to 20,000 po...\n..                                                 ...\n495  Attention all users! You won't believe the sup...\n496  Free V1AGR4 and C1AL1S for all your needs! Don...\n497  💰💰💰 Get Rich Quick!!! 💰💰💰\\r\\nAre you tired of ...\n498  10 AMAZING TRICKS THAT WILL CHANGE YOUR LIFE!!...\n499  Yo guys! Check out this totally rad deal I fou...\n\n[16963 rows x 1 columns]",
      "text/html": "<div>\n<style scoped>\n    .dataframe tbody tr th:only-of-type {\n        vertical-align: middle;\n    }\n\n    .dataframe tbody tr th {\n        vertical-align: top;\n    }\n\n    .dataframe thead th {\n        text-align: right;\n    }\n</style>\n<table border=\"1\" class=\"dataframe\">\n  <thead>\n    <tr style=\"text-align: right;\">\n      <th></th>\n      <th>0</th>\n    </tr>\n  </thead>\n  <tbody>\n    <tr>\n      <th>2</th>\n      <td>Free entry in 2 a wkly comp to win FA Cup fina...</td>\n    </tr>\n    <tr>\n      <th>5</th>\n      <td>FreeMsg Hey there darling it's been 3 week's n...</td>\n    </tr>\n    <tr>\n      <th>8</th>\n      <td>WINNER!! As a valued network customer you have...</td>\n    </tr>\n    <tr>\n      <th>9</th>\n      <td>Had your mobile 11 months or more? U R entitle...</td>\n    </tr>\n    <tr>\n      <th>11</th>\n      <td>SIX chances to win CASH! From 100 to 20,000 po...</td>\n    </tr>\n    <tr>\n      <th>...</th>\n      <td>...</td>\n    </tr>\n    <tr>\n      <th>495</th>\n      <td>Attention all users! You won't believe the sup...</td>\n    </tr>\n    <tr>\n      <th>496</th>\n      <td>Free V1AGR4 and C1AL1S for all your needs! Don...</td>\n    </tr>\n    <tr>\n      <th>497</th>\n      <td>💰💰💰 Get Rich Quick!!! 💰💰💰\\r\\nAre you tired of ...</td>\n    </tr>\n    <tr>\n      <th>498</th>\n      <td>10 AMAZING TRICKS THAT WILL CHANGE YOUR LIFE!!...</td>\n    </tr>\n    <tr>\n      <th>499</th>\n      <td>Yo guys! Check out this totally rad deal I fou...</td>\n    </tr>\n  </tbody>\n</table>\n<p>16963 rows × 1 columns</p>\n</div>"
     },
     "execution_count": 23,
     "metadata": {},
     "output_type": "execute_result"
    }
   ],
   "source": [
    "df = pd.concat([df, data, data1])\n",
    "df"
   ],
   "metadata": {
    "collapsed": false,
    "ExecuteTime": {
     "end_time": "2023-12-21T15:02:06.177616500Z",
     "start_time": "2023-12-21T15:02:05.788440Z"
    }
   },
   "id": "664e14d4728a2db7"
  },
  {
   "cell_type": "markdown",
   "source": [
    "# ___________________________________________________________________"
   ],
   "metadata": {
    "collapsed": false
   },
   "id": "a1dbb232aa41114a"
  },
  {
   "cell_type": "code",
   "execution_count": 24,
   "outputs": [
    {
     "data": {
      "text/plain": "4114     Life Insurance - Why Pay More?\\r\\n\\r\\n<!DOCTYP...\n4115     [ILUG] Guaranteed to lose 10-12 lbs in 30 days...\n4116     Guaranteed to lose 10-12 lbs in 30 days       ...\n4117     Re: Fw: User Name & Password to Membership To ...\n4118     [ILUG-Social] re: Guaranteed to lose 10-12 lbs...\n                               ...                        \n42614    Какой у тебя любимый цвет? Фантастический един...\n42615                      Что ты сегодня ел, Чудо-печенье\n42616              Что ты думаешь о спорте? Секретный ключ\n42617       Какой твой любимый вид спорта, Волшебный ковер\n42618                           Ты умеешь петь? Чудо-птица\nName: text, Length: 17451, dtype: object"
     },
     "execution_count": 24,
     "metadata": {},
     "output_type": "execute_result"
    }
   ],
   "source": [
    "data = pd.read_csv('raw_datasets/spam/junkmail_dataset.csv')\n",
    "data = data.loc[data['is_spam'] == 1, 'text']\n",
    "data"
   ],
   "metadata": {
    "collapsed": false,
    "ExecuteTime": {
     "end_time": "2023-12-21T15:02:06.890673400Z",
     "start_time": "2023-12-21T15:02:05.801622100Z"
    }
   },
   "id": "76c6e257620e4e1f"
  },
  {
   "cell_type": "code",
   "execution_count": 25,
   "outputs": [
    {
     "data": {
      "text/plain": "                                                     0\n2    Free entry in 2 a wkly comp to win FA Cup fina...\n5    FreeMsg Hey there darling it's been 3 week's n...\n8    WINNER!! As a valued network customer you have...\n9    Had your mobile 11 months or more? U R entitle...\n11   SIX chances to win CASH! From 100 to 20,000 po...\n..                                                 ...\n495  Attention all users! You won't believe the sup...\n496  Free V1AGR4 and C1AL1S for all your needs! Don...\n497  💰💰💰 Get Rich Quick!!! 💰💰💰\\r\\nAre you tired of ...\n498  10 AMAZING TRICKS THAT WILL CHANGE YOUR LIFE!!...\n499  Yo guys! Check out this totally rad deal I fou...\n\n[34914 rows x 1 columns]",
      "text/html": "<div>\n<style scoped>\n    .dataframe tbody tr th:only-of-type {\n        vertical-align: middle;\n    }\n\n    .dataframe tbody tr th {\n        vertical-align: top;\n    }\n\n    .dataframe thead th {\n        text-align: right;\n    }\n</style>\n<table border=\"1\" class=\"dataframe\">\n  <thead>\n    <tr style=\"text-align: right;\">\n      <th></th>\n      <th>0</th>\n    </tr>\n  </thead>\n  <tbody>\n    <tr>\n      <th>2</th>\n      <td>Free entry in 2 a wkly comp to win FA Cup fina...</td>\n    </tr>\n    <tr>\n      <th>5</th>\n      <td>FreeMsg Hey there darling it's been 3 week's n...</td>\n    </tr>\n    <tr>\n      <th>8</th>\n      <td>WINNER!! As a valued network customer you have...</td>\n    </tr>\n    <tr>\n      <th>9</th>\n      <td>Had your mobile 11 months or more? U R entitle...</td>\n    </tr>\n    <tr>\n      <th>11</th>\n      <td>SIX chances to win CASH! From 100 to 20,000 po...</td>\n    </tr>\n    <tr>\n      <th>...</th>\n      <td>...</td>\n    </tr>\n    <tr>\n      <th>495</th>\n      <td>Attention all users! You won't believe the sup...</td>\n    </tr>\n    <tr>\n      <th>496</th>\n      <td>Free V1AGR4 and C1AL1S for all your needs! Don...</td>\n    </tr>\n    <tr>\n      <th>497</th>\n      <td>💰💰💰 Get Rich Quick!!! 💰💰💰\\r\\nAre you tired of ...</td>\n    </tr>\n    <tr>\n      <th>498</th>\n      <td>10 AMAZING TRICKS THAT WILL CHANGE YOUR LIFE!!...</td>\n    </tr>\n    <tr>\n      <th>499</th>\n      <td>Yo guys! Check out this totally rad deal I fou...</td>\n    </tr>\n  </tbody>\n</table>\n<p>34914 rows × 1 columns</p>\n</div>"
     },
     "execution_count": 25,
     "metadata": {},
     "output_type": "execute_result"
    }
   ],
   "source": [
    "df = pd.concat([df, data, data1])\n",
    "df"
   ],
   "metadata": {
    "collapsed": false,
    "ExecuteTime": {
     "end_time": "2023-12-21T15:02:06.910101100Z",
     "start_time": "2023-12-21T15:02:06.889661500Z"
    }
   },
   "id": "4c629db4a4124ada"
  },
  {
   "cell_type": "markdown",
   "source": [
    "# ___________________________________________________________________"
   ],
   "metadata": {
    "collapsed": false
   },
   "id": "5cfad01484e7a26e"
  },
  {
   "cell_type": "code",
   "execution_count": 26,
   "outputs": [
    {
     "name": "stdout",
     "output_type": "stream",
     "text": [
      "1       \"Get rich quick! Make millions in just days wi...\n",
      "2       URGENT MESSAGE: YOU WON'T BELIEVE WHAT WE HAVE...\n",
      "9       Check out these amazing weight loss pills! The...\n",
      "10      S̵P̷A̵M̸M̵E̷R̵S̶ ̵A̷T̵T̶A̵C̸K̸I̶N̵G̷ ̵O̸N̷ ̶S̵...\n",
      "12      HEY EVERYONE!!! 👋👋👋\\n\\nAre you Tired 😴 of bori...\n",
      "                              ...                        \n",
      "8167    Buy our new product NOW and get 50% off! This ...\n",
      "8168    OMG, you won't believe the dealz we have right...\n",
      "8171    DEALS! DEALS! DEALS!\\n\\nHey peeps! You won't b...\n",
      "8173    Do you want to BLOW UP your social media follo...\n",
      "8174    WAZZUP MY FELLOW NETIZENS! Time to get your sc...\n",
      "Name: text, Length: 4125, dtype: object\n",
      "1       🚨 ATTENTION ALL USERS! 🚨\\n\\n🆘 Are you looking ...\n",
      "3       [[Sorry, I cannot generate inappropriate or sp...\n",
      "4       L@@k at these Unbelievable diet pills that can...\n",
      "6       YOLO peeps! Are you ready to level up your soc...\n",
      "8       Get rich quick! Join our amazing money-making ...\n",
      "                              ...                        \n",
      "2713    Guys! OMG! You won't believe the craziness goi...\n",
      "2715    \"Unlock the secrets to getting rich quick with...\n",
      "2717    Wazzup my fellow netizens! Are you tired of la...\n",
      "2718    Get rich quick! Buy our exclusive guide now an...\n",
      "2724    Feelin’ like you’re not getting enough attenti...\n",
      "Name: text, Length: 1375, dtype: object\n"
     ]
    }
   ],
   "source": [
    "data = pd.read_parquet('raw_datasets/spam/train-00000-of-00001-daf190ce720b3dbb.parquet')\n",
    "data1 = pd.read_parquet('raw_datasets/spam/test-00000-of-00001-fa9b3e8ade89a333.parquet')\n",
    "data = data.loc[data['label'] == 'spam', 'text']\n",
    "data1 = data1.loc[data1['label'] == 'spam', 'text']\n",
    "print(data)\n",
    "print(data1)"
   ],
   "metadata": {
    "collapsed": false,
    "ExecuteTime": {
     "end_time": "2023-12-21T15:02:07.065119700Z",
     "start_time": "2023-12-21T15:02:06.905114100Z"
    }
   },
   "id": "96724cb989800c3c"
  },
  {
   "cell_type": "code",
   "execution_count": 27,
   "outputs": [
    {
     "data": {
      "text/plain": "                                                      0\n2     Free entry in 2 a wkly comp to win FA Cup fina...\n5     FreeMsg Hey there darling it's been 3 week's n...\n8     WINNER!! As a valued network customer you have...\n9     Had your mobile 11 months or more? U R entitle...\n11    SIX chances to win CASH! From 100 to 20,000 po...\n...                                                 ...\n2713  Guys! OMG! You won't believe the craziness goi...\n2715  \"Unlock the secrets to getting rich quick with...\n2717  Wazzup my fellow netizens! Are you tired of la...\n2718  Get rich quick! Buy our exclusive guide now an...\n2724  Feelin’ like you’re not getting enough attenti...\n\n[40414 rows x 1 columns]",
      "text/html": "<div>\n<style scoped>\n    .dataframe tbody tr th:only-of-type {\n        vertical-align: middle;\n    }\n\n    .dataframe tbody tr th {\n        vertical-align: top;\n    }\n\n    .dataframe thead th {\n        text-align: right;\n    }\n</style>\n<table border=\"1\" class=\"dataframe\">\n  <thead>\n    <tr style=\"text-align: right;\">\n      <th></th>\n      <th>0</th>\n    </tr>\n  </thead>\n  <tbody>\n    <tr>\n      <th>2</th>\n      <td>Free entry in 2 a wkly comp to win FA Cup fina...</td>\n    </tr>\n    <tr>\n      <th>5</th>\n      <td>FreeMsg Hey there darling it's been 3 week's n...</td>\n    </tr>\n    <tr>\n      <th>8</th>\n      <td>WINNER!! As a valued network customer you have...</td>\n    </tr>\n    <tr>\n      <th>9</th>\n      <td>Had your mobile 11 months or more? U R entitle...</td>\n    </tr>\n    <tr>\n      <th>11</th>\n      <td>SIX chances to win CASH! From 100 to 20,000 po...</td>\n    </tr>\n    <tr>\n      <th>...</th>\n      <td>...</td>\n    </tr>\n    <tr>\n      <th>2713</th>\n      <td>Guys! OMG! You won't believe the craziness goi...</td>\n    </tr>\n    <tr>\n      <th>2715</th>\n      <td>\"Unlock the secrets to getting rich quick with...</td>\n    </tr>\n    <tr>\n      <th>2717</th>\n      <td>Wazzup my fellow netizens! Are you tired of la...</td>\n    </tr>\n    <tr>\n      <th>2718</th>\n      <td>Get rich quick! Buy our exclusive guide now an...</td>\n    </tr>\n    <tr>\n      <th>2724</th>\n      <td>Feelin’ like you’re not getting enough attenti...</td>\n    </tr>\n  </tbody>\n</table>\n<p>40414 rows × 1 columns</p>\n</div>"
     },
     "execution_count": 27,
     "metadata": {},
     "output_type": "execute_result"
    }
   ],
   "source": [
    "df = pd.concat([df, data, data1])\n",
    "df"
   ],
   "metadata": {
    "collapsed": false,
    "ExecuteTime": {
     "end_time": "2023-12-21T15:02:07.077166400Z",
     "start_time": "2023-12-21T15:02:07.057142800Z"
    }
   },
   "id": "c01b4bf3f139ebf1"
  },
  {
   "cell_type": "markdown",
   "source": [
    "# Обработка eng для перевода"
   ],
   "metadata": {
    "collapsed": false
   },
   "id": "1f4f7b5ff21e7b4d"
  },
  {
   "cell_type": "code",
   "execution_count": 28,
   "outputs": [
    {
     "data": {
      "text/plain": "                                                       0\n0      Free entry in 2 a wkly comp to win FA Cup fina...\n1      FreeMsg Hey there darling it's been 3 week's n...\n2      WINNER!! As a valued network customer you have...\n3      Had your mobile 11 months or more? U R entitle...\n4      SIX chances to win CASH! From 100 to 20,000 po...\n...                                                  ...\n37164  Guys! OMG! You won't believe the craziness goi...\n37165  \"Unlock the secrets to getting rich quick with...\n37166  Wazzup my fellow netizens! Are you tired of la...\n37167  Get rich quick! Buy our exclusive guide now an...\n37168  Feelin’ like you’re not getting enough attenti...\n\n[37169 rows x 1 columns]",
      "text/html": "<div>\n<style scoped>\n    .dataframe tbody tr th:only-of-type {\n        vertical-align: middle;\n    }\n\n    .dataframe tbody tr th {\n        vertical-align: top;\n    }\n\n    .dataframe thead th {\n        text-align: right;\n    }\n</style>\n<table border=\"1\" class=\"dataframe\">\n  <thead>\n    <tr style=\"text-align: right;\">\n      <th></th>\n      <th>0</th>\n    </tr>\n  </thead>\n  <tbody>\n    <tr>\n      <th>0</th>\n      <td>Free entry in 2 a wkly comp to win FA Cup fina...</td>\n    </tr>\n    <tr>\n      <th>1</th>\n      <td>FreeMsg Hey there darling it's been 3 week's n...</td>\n    </tr>\n    <tr>\n      <th>2</th>\n      <td>WINNER!! As a valued network customer you have...</td>\n    </tr>\n    <tr>\n      <th>3</th>\n      <td>Had your mobile 11 months or more? U R entitle...</td>\n    </tr>\n    <tr>\n      <th>4</th>\n      <td>SIX chances to win CASH! From 100 to 20,000 po...</td>\n    </tr>\n    <tr>\n      <th>...</th>\n      <td>...</td>\n    </tr>\n    <tr>\n      <th>37164</th>\n      <td>Guys! OMG! You won't believe the craziness goi...</td>\n    </tr>\n    <tr>\n      <th>37165</th>\n      <td>\"Unlock the secrets to getting rich quick with...</td>\n    </tr>\n    <tr>\n      <th>37166</th>\n      <td>Wazzup my fellow netizens! Are you tired of la...</td>\n    </tr>\n    <tr>\n      <th>37167</th>\n      <td>Get rich quick! Buy our exclusive guide now an...</td>\n    </tr>\n    <tr>\n      <th>37168</th>\n      <td>Feelin’ like you’re not getting enough attenti...</td>\n    </tr>\n  </tbody>\n</table>\n<p>37169 rows × 1 columns</p>\n</div>"
     },
     "execution_count": 28,
     "metadata": {},
     "output_type": "execute_result"
    }
   ],
   "source": [
    "import emoji\n",
    "import numpy as np\n",
    "\n",
    "df_cop = df.copy()\n",
    "df_cop.dropna(inplace=True)\n",
    "df_cop.drop_duplicates(inplace=True)\n",
    "df_cop.reset_index(inplace=True, drop=True)\n",
    "df_cop[0] = df_cop[0].apply(lambda x: emoji.replace_emoji(x, ''))\n",
    "df_cop"
   ],
   "metadata": {
    "collapsed": false,
    "ExecuteTime": {
     "end_time": "2023-12-21T15:02:53.042269300Z",
     "start_time": "2023-12-21T15:02:07.071182500Z"
    }
   },
   "id": "6c405a92a498d09b"
  },
  {
   "cell_type": "code",
   "execution_count": 29,
   "outputs": [
    {
     "data": {
      "text/plain": "                                                       0\n0      Free entry in   a wkly comp to win FA Cup fina...\n1      FreeMsg Hey there darling it s been   week s n...\n2      WINNER  As a valued network customer you have ...\n3      Had your mobile   months or more  U R entitled...\n4      SIX chances to win CASH  From   to   pounds tx...\n...                                                  ...\n37164  Guys  OMG  You won t believe the craziness goi...\n37165   Unlock the secrets to getting rich quick with...\n37166  Wazzup my fellow netizens  Are you tired of la...\n37167  Get rich quick  Buy our exclusive guide now an...\n37168  Feelin’ like you’re not getting enough attenti...\n\n[37169 rows x 1 columns]",
      "text/html": "<div>\n<style scoped>\n    .dataframe tbody tr th:only-of-type {\n        vertical-align: middle;\n    }\n\n    .dataframe tbody tr th {\n        vertical-align: top;\n    }\n\n    .dataframe thead th {\n        text-align: right;\n    }\n</style>\n<table border=\"1\" class=\"dataframe\">\n  <thead>\n    <tr style=\"text-align: right;\">\n      <th></th>\n      <th>0</th>\n    </tr>\n  </thead>\n  <tbody>\n    <tr>\n      <th>0</th>\n      <td>Free entry in   a wkly comp to win FA Cup fina...</td>\n    </tr>\n    <tr>\n      <th>1</th>\n      <td>FreeMsg Hey there darling it s been   week s n...</td>\n    </tr>\n    <tr>\n      <th>2</th>\n      <td>WINNER  As a valued network customer you have ...</td>\n    </tr>\n    <tr>\n      <th>3</th>\n      <td>Had your mobile   months or more  U R entitled...</td>\n    </tr>\n    <tr>\n      <th>4</th>\n      <td>SIX chances to win CASH  From   to   pounds tx...</td>\n    </tr>\n    <tr>\n      <th>...</th>\n      <td>...</td>\n    </tr>\n    <tr>\n      <th>37164</th>\n      <td>Guys  OMG  You won t believe the craziness goi...</td>\n    </tr>\n    <tr>\n      <th>37165</th>\n      <td>Unlock the secrets to getting rich quick with...</td>\n    </tr>\n    <tr>\n      <th>37166</th>\n      <td>Wazzup my fellow netizens  Are you tired of la...</td>\n    </tr>\n    <tr>\n      <th>37167</th>\n      <td>Get rich quick  Buy our exclusive guide now an...</td>\n    </tr>\n    <tr>\n      <th>37168</th>\n      <td>Feelin’ like you’re not getting enough attenti...</td>\n    </tr>\n  </tbody>\n</table>\n<p>37169 rows × 1 columns</p>\n</div>"
     },
     "execution_count": 29,
     "metadata": {},
     "output_type": "execute_result"
    }
   ],
   "source": [
    "import re\n",
    "\n",
    "patterns = \"[0-9!#$%&'()*+,./:;<=>?@[\\]^_`{|}~—\\\"\\-]+\"\n",
    "\n",
    "\n",
    "def symbols_del(text):\n",
    "    doc = re.sub(patterns, ' ', text)\n",
    "    return doc\n",
    "\n",
    "\n",
    "df_cop[0] = df_cop[0].apply(symbols_del)\n",
    "df_cop"
   ],
   "metadata": {
    "collapsed": false,
    "ExecuteTime": {
     "end_time": "2023-12-21T15:02:54.601364800Z",
     "start_time": "2023-12-21T15:02:53.042269300Z"
    }
   },
   "id": "ed4d132cff219554"
  },
  {
   "cell_type": "code",
   "execution_count": 30,
   "outputs": [],
   "source": [
    "data_len = df_cop[0].apply(len)"
   ],
   "metadata": {
    "collapsed": false,
    "ExecuteTime": {
     "end_time": "2023-12-21T15:02:54.614570700Z",
     "start_time": "2023-12-21T15:02:54.598345500Z"
    }
   },
   "id": "e3e011d56e902338"
  },
  {
   "cell_type": "code",
   "execution_count": 31,
   "outputs": [
    {
     "data": {
      "text/plain": "683      14223\n686      15744\n727      15375\n789       5561\n807      17716\n         ...  \n31136     5270\n31154     6532\n31219     6885\n31231     6079\n31253     8898\nName: 0, Length: 1769, dtype: int64"
     },
     "execution_count": 31,
     "metadata": {},
     "output_type": "execute_result"
    }
   ],
   "source": [
    "data_len[data_len > 5000]"
   ],
   "metadata": {
    "collapsed": false,
    "ExecuteTime": {
     "end_time": "2023-12-21T15:02:54.631154500Z",
     "start_time": "2023-12-21T15:02:54.616580800Z"
    }
   },
   "id": "af4dbc87ae28a4b8"
  },
  {
   "cell_type": "code",
   "execution_count": 32,
   "outputs": [
    {
     "data": {
      "text/plain": "0        dear friend a recent survey by nielsen netrat...\n1       R down to report NUMBER NUMBER move the name a...\n2       have received NUMBER orders NUMBER to NUMBER w...\n3        from dallin agm holdings subject have you dre...\n4       nual in order to receive your NUMBER NUMBER pe...\n                              ...                        \n4617    ion only and should be treated as such  \\r\\nwe...\n4618    is it a microcap miracle  \\r\\n\\r\\ninvestor ale...\n4619    nformation herein as legal   tax   accounting ...\n4620    small cap stox can sizzle\\r\\n\\r\\nthe contact c...\n4621    nt report by empire research associates stated...\nLength: 4622, dtype: object"
     },
     "execution_count": 32,
     "metadata": {},
     "output_type": "execute_result"
    }
   ],
   "source": [
    "over_five_thousand = pd.Series()\n",
    "\n",
    "\n",
    "def divider(text, array):\n",
    "    step = 5000\n",
    "    for i in range(0, len(text), 5000):\n",
    "        slice = text[i:step]\n",
    "        array.loc[len(array.index)] = slice\n",
    "        step += 5000\n",
    "    return True\n",
    "\n",
    "\n",
    "df_cop.loc[data_len[data_len > 5000].index][0].apply(divider, array=over_five_thousand)\n",
    "df_cop.drop(data_len[data_len > 5000].index, inplace=True)\n",
    "over_five_thousand"
   ],
   "metadata": {
    "collapsed": false,
    "ExecuteTime": {
     "end_time": "2023-12-21T15:02:56.229856400Z",
     "start_time": "2023-12-21T15:02:54.630155500Z"
    }
   },
   "id": "fe531b77ae9e6307"
  },
  {
   "cell_type": "code",
   "execution_count": 33,
   "outputs": [
    {
     "data": {
      "text/plain": "                                                      0\n0     Free entry in   a wkly comp to win FA Cup fina...\n1     FreeMsg Hey there darling it s been   week s n...\n2     WINNER  As a valued network customer you have ...\n3     Had your mobile   months or more  U R entitled...\n4     SIX chances to win CASH  From   to   pounds tx...\n...                                                 ...\n4617  ion only and should be treated as such  \\r\\nwe...\n4618  is it a microcap miracle  \\r\\n\\r\\ninvestor ale...\n4619  nformation herein as legal   tax   accounting ...\n4620  small cap stox can sizzle\\r\\n\\r\\nthe contact c...\n4621  nt report by empire research associates stated...\n\n[40022 rows x 1 columns]",
      "text/html": "<div>\n<style scoped>\n    .dataframe tbody tr th:only-of-type {\n        vertical-align: middle;\n    }\n\n    .dataframe tbody tr th {\n        vertical-align: top;\n    }\n\n    .dataframe thead th {\n        text-align: right;\n    }\n</style>\n<table border=\"1\" class=\"dataframe\">\n  <thead>\n    <tr style=\"text-align: right;\">\n      <th></th>\n      <th>0</th>\n    </tr>\n  </thead>\n  <tbody>\n    <tr>\n      <th>0</th>\n      <td>Free entry in   a wkly comp to win FA Cup fina...</td>\n    </tr>\n    <tr>\n      <th>1</th>\n      <td>FreeMsg Hey there darling it s been   week s n...</td>\n    </tr>\n    <tr>\n      <th>2</th>\n      <td>WINNER  As a valued network customer you have ...</td>\n    </tr>\n    <tr>\n      <th>3</th>\n      <td>Had your mobile   months or more  U R entitled...</td>\n    </tr>\n    <tr>\n      <th>4</th>\n      <td>SIX chances to win CASH  From   to   pounds tx...</td>\n    </tr>\n    <tr>\n      <th>...</th>\n      <td>...</td>\n    </tr>\n    <tr>\n      <th>4617</th>\n      <td>ion only and should be treated as such  \\r\\nwe...</td>\n    </tr>\n    <tr>\n      <th>4618</th>\n      <td>is it a microcap miracle  \\r\\n\\r\\ninvestor ale...</td>\n    </tr>\n    <tr>\n      <th>4619</th>\n      <td>nformation herein as legal   tax   accounting ...</td>\n    </tr>\n    <tr>\n      <th>4620</th>\n      <td>small cap stox can sizzle\\r\\n\\r\\nthe contact c...</td>\n    </tr>\n    <tr>\n      <th>4621</th>\n      <td>nt report by empire research associates stated...</td>\n    </tr>\n  </tbody>\n</table>\n<p>40022 rows × 1 columns</p>\n</div>"
     },
     "execution_count": 33,
     "metadata": {},
     "output_type": "execute_result"
    }
   ],
   "source": [
    "df_cop = pd.concat([df_cop, over_five_thousand], axis=0)\n",
    "df_cop"
   ],
   "metadata": {
    "collapsed": false,
    "ExecuteTime": {
     "end_time": "2023-12-21T15:02:56.244134800Z",
     "start_time": "2023-12-21T15:02:56.226879Z"
    }
   },
   "id": "6e152d1f012964b2"
  },
  {
   "cell_type": "code",
   "execution_count": 34,
   "outputs": [
    {
     "data": {
      "text/plain": "                                                      0\n0     Free entry in   a wkly comp to win FA Cup fina...\n1     FreeMsg Hey there darling it s been   week s n...\n2     WINNER  As a valued network customer you have ...\n3     Had your mobile   months or more  U R entitled...\n4     SIX chances to win CASH  From   to   pounds tx...\n...                                                 ...\n4617  ion only and should be treated as such  \\r\\nwe...\n4618  is it a microcap miracle  \\r\\n\\r\\ninvestor ale...\n4619  nformation herein as legal   tax   accounting ...\n4620  small cap stox can sizzle\\r\\n\\r\\nthe contact c...\n4621  nt report by empire research associates stated...\n\n[40022 rows x 1 columns]",
      "text/html": "<div>\n<style scoped>\n    .dataframe tbody tr th:only-of-type {\n        vertical-align: middle;\n    }\n\n    .dataframe tbody tr th {\n        vertical-align: top;\n    }\n\n    .dataframe thead th {\n        text-align: right;\n    }\n</style>\n<table border=\"1\" class=\"dataframe\">\n  <thead>\n    <tr style=\"text-align: right;\">\n      <th></th>\n      <th>0</th>\n    </tr>\n  </thead>\n  <tbody>\n    <tr>\n      <th>0</th>\n      <td>Free entry in   a wkly comp to win FA Cup fina...</td>\n    </tr>\n    <tr>\n      <th>1</th>\n      <td>FreeMsg Hey there darling it s been   week s n...</td>\n    </tr>\n    <tr>\n      <th>2</th>\n      <td>WINNER  As a valued network customer you have ...</td>\n    </tr>\n    <tr>\n      <th>3</th>\n      <td>Had your mobile   months or more  U R entitled...</td>\n    </tr>\n    <tr>\n      <th>4</th>\n      <td>SIX chances to win CASH  From   to   pounds tx...</td>\n    </tr>\n    <tr>\n      <th>...</th>\n      <td>...</td>\n    </tr>\n    <tr>\n      <th>4617</th>\n      <td>ion only and should be treated as such  \\r\\nwe...</td>\n    </tr>\n    <tr>\n      <th>4618</th>\n      <td>is it a microcap miracle  \\r\\n\\r\\ninvestor ale...</td>\n    </tr>\n    <tr>\n      <th>4619</th>\n      <td>nformation herein as legal   tax   accounting ...</td>\n    </tr>\n    <tr>\n      <th>4620</th>\n      <td>small cap stox can sizzle\\r\\n\\r\\nthe contact c...</td>\n    </tr>\n    <tr>\n      <th>4621</th>\n      <td>nt report by empire research associates stated...</td>\n    </tr>\n  </tbody>\n</table>\n<p>40022 rows × 1 columns</p>\n</div>"
     },
     "execution_count": 34,
     "metadata": {},
     "output_type": "execute_result"
    }
   ],
   "source": [
    "df_cop"
   ],
   "metadata": {
    "collapsed": false,
    "ExecuteTime": {
     "end_time": "2023-12-21T15:02:56.263203300Z",
     "start_time": "2023-12-21T15:02:56.239148800Z"
    }
   },
   "id": "d2bc4e8119884af2"
  },
  {
   "cell_type": "code",
   "execution_count": 35,
   "outputs": [
    {
     "data": {
      "text/plain": "                                                      0\n0     Free entry in a wkly comp to win FA Cup final ...\n1     FreeMsg Hey there darling it s been week s now...\n2     WINNER As a valued network customer you have b...\n3     Had your mobile months or more U R entitled to...\n4     SIX chances to win CASH From to pounds txt CSH...\n...                                                 ...\n4617  ion only and should be treated as such we may ...\n4618  is it a microcap miracle investor alert immedi...\n4619  nformation herein as legal tax accounting or i...\n4620  small cap stox can sizzle the contact center i...\n4621  nt report by empire research associates stated...\n\n[40022 rows x 1 columns]",
      "text/html": "<div>\n<style scoped>\n    .dataframe tbody tr th:only-of-type {\n        vertical-align: middle;\n    }\n\n    .dataframe tbody tr th {\n        vertical-align: top;\n    }\n\n    .dataframe thead th {\n        text-align: right;\n    }\n</style>\n<table border=\"1\" class=\"dataframe\">\n  <thead>\n    <tr style=\"text-align: right;\">\n      <th></th>\n      <th>0</th>\n    </tr>\n  </thead>\n  <tbody>\n    <tr>\n      <th>0</th>\n      <td>Free entry in a wkly comp to win FA Cup final ...</td>\n    </tr>\n    <tr>\n      <th>1</th>\n      <td>FreeMsg Hey there darling it s been week s now...</td>\n    </tr>\n    <tr>\n      <th>2</th>\n      <td>WINNER As a valued network customer you have b...</td>\n    </tr>\n    <tr>\n      <th>3</th>\n      <td>Had your mobile months or more U R entitled to...</td>\n    </tr>\n    <tr>\n      <th>4</th>\n      <td>SIX chances to win CASH From to pounds txt CSH...</td>\n    </tr>\n    <tr>\n      <th>...</th>\n      <td>...</td>\n    </tr>\n    <tr>\n      <th>4617</th>\n      <td>ion only and should be treated as such we may ...</td>\n    </tr>\n    <tr>\n      <th>4618</th>\n      <td>is it a microcap miracle investor alert immedi...</td>\n    </tr>\n    <tr>\n      <th>4619</th>\n      <td>nformation herein as legal tax accounting or i...</td>\n    </tr>\n    <tr>\n      <th>4620</th>\n      <td>small cap stox can sizzle the contact center i...</td>\n    </tr>\n    <tr>\n      <th>4621</th>\n      <td>nt report by empire research associates stated...</td>\n    </tr>\n  </tbody>\n</table>\n<p>40022 rows × 1 columns</p>\n</div>"
     },
     "execution_count": 35,
     "metadata": {},
     "output_type": "execute_result"
    }
   ],
   "source": [
    "from nltk.tokenize import word_tokenize\n",
    "import re\n",
    "\n",
    "patterns = \"[0-9!#$%&'()*+,./:;<=>?@[\\]^_`{|}~—\\\"\\-]+\"\n",
    "\n",
    "\n",
    "def lemmatize(text):\n",
    "    doc = re.sub(patterns, ' ', text)\n",
    "    tokens = word_tokenize(doc, language='russian')\n",
    "    return tokens\n",
    "\n",
    "\n",
    "def concat(text):\n",
    "    text = ' '.join(text)\n",
    "    return text\n",
    "\n",
    "\n",
    "df_cop[0] = df_cop[0].apply(lemmatize)\n",
    "df_cop[0] = df_cop[0].apply(concat)\n",
    "df_cop"
   ],
   "metadata": {
    "collapsed": false,
    "ExecuteTime": {
     "end_time": "2023-12-21T15:03:19.926802100Z",
     "start_time": "2023-12-21T15:02:56.250238600Z"
    }
   },
   "id": "f2672237de3266f4"
  },
  {
   "cell_type": "code",
   "execution_count": 37,
   "outputs": [
    {
     "data": {
      "text/plain": "                                                      0\n0     Бесплатный вход в еженедельном соревновании дл...\n1     FreeMsg Привет, дорогая, прошла уже неделя, а ...\n2     ПОБЕДИТЕЛЬ Как ценный клиент сети вы были выбр...\n3     Если у вас есть месяц или более мобильного тел...\n4     ШЕСТЬ шансов выиграть НАЛИЧНЫЕ От до фунтов tx...\n...                                                 ...\n4616  Вы любите недорогие акции Stoxs, лучшие акции ...\n4618  это чудо микрокапитализации предупреждение инв...\n4619  содержащуюся здесь информацию в качестве юриди...\n4620  Stox с небольшой капитализацией может взорвать...\n4621  В отчете Empire Research Associates говорится,...\n\n[28220 rows x 1 columns]",
      "text/html": "<div>\n<style scoped>\n    .dataframe tbody tr th:only-of-type {\n        vertical-align: middle;\n    }\n\n    .dataframe tbody tr th {\n        vertical-align: top;\n    }\n\n    .dataframe thead th {\n        text-align: right;\n    }\n</style>\n<table border=\"1\" class=\"dataframe\">\n  <thead>\n    <tr style=\"text-align: right;\">\n      <th></th>\n      <th>0</th>\n    </tr>\n  </thead>\n  <tbody>\n    <tr>\n      <th>0</th>\n      <td>Бесплатный вход в еженедельном соревновании дл...</td>\n    </tr>\n    <tr>\n      <th>1</th>\n      <td>FreeMsg Привет, дорогая, прошла уже неделя, а ...</td>\n    </tr>\n    <tr>\n      <th>2</th>\n      <td>ПОБЕДИТЕЛЬ Как ценный клиент сети вы были выбр...</td>\n    </tr>\n    <tr>\n      <th>3</th>\n      <td>Если у вас есть месяц или более мобильного тел...</td>\n    </tr>\n    <tr>\n      <th>4</th>\n      <td>ШЕСТЬ шансов выиграть НАЛИЧНЫЕ От до фунтов tx...</td>\n    </tr>\n    <tr>\n      <th>...</th>\n      <td>...</td>\n    </tr>\n    <tr>\n      <th>4616</th>\n      <td>Вы любите недорогие акции Stoxs, лучшие акции ...</td>\n    </tr>\n    <tr>\n      <th>4618</th>\n      <td>это чудо микрокапитализации предупреждение инв...</td>\n    </tr>\n    <tr>\n      <th>4619</th>\n      <td>содержащуюся здесь информацию в качестве юриди...</td>\n    </tr>\n    <tr>\n      <th>4620</th>\n      <td>Stox с небольшой капитализацией может взорвать...</td>\n    </tr>\n    <tr>\n      <th>4621</th>\n      <td>В отчете Empire Research Associates говорится,...</td>\n    </tr>\n  </tbody>\n</table>\n<p>28220 rows × 1 columns</p>\n</div>"
     },
     "execution_count": 37,
     "metadata": {},
     "output_type": "execute_result"
    }
   ],
   "source": [
    "from deep_translator import GoogleTranslator\n",
    "\n",
    "# Use any translator you like, in this example GoogleTranslator\n",
    "translator = GoogleTranslator(source='auto', target='ru')\n",
    "\n",
    "\n",
    "def google_translator(text):\n",
    "    try:\n",
    "        return translator.translate(text)\n",
    "    except:\n",
    "        return 'error'\n",
    "\n",
    "\n",
    "df_cop[0] = df_cop[0].apply(lambda x: google_translator(x))\n",
    "df_cop.drop_duplicates(inplace=True)\n",
    "df_cop"
   ],
   "metadata": {
    "collapsed": false,
    "ExecuteTime": {
     "end_time": "2023-12-21T19:41:38.829028900Z",
     "start_time": "2023-12-21T15:33:36.189731500Z"
    }
   },
   "id": "9c277ee42d9283ce"
  },
  {
   "cell_type": "code",
   "execution_count": 38,
   "outputs": [
    {
     "data": {
      "text/plain": "                                                      0\n0     Бесплатный вход в еженедельном соревновании дл...\n1     FreeMsg Привет, дорогая, прошла уже неделя, а ...\n2     ПОБЕДИТЕЛЬ Как ценный клиент сети вы были выбр...\n3     Если у вас есть месяц или более мобильного тел...\n4     ШЕСТЬ шансов выиграть НАЛИЧНЫЕ От до фунтов tx...\n...                                                 ...\n4616  Вы любите недорогие акции Stoxs, лучшие акции ...\n4618  это чудо микрокапитализации предупреждение инв...\n4619  содержащуюся здесь информацию в качестве юриди...\n4620  Stox с небольшой капитализацией может взорвать...\n4621  В отчете Empire Research Associates говорится,...\n\n[28220 rows x 1 columns]",
      "text/html": "<div>\n<style scoped>\n    .dataframe tbody tr th:only-of-type {\n        vertical-align: middle;\n    }\n\n    .dataframe tbody tr th {\n        vertical-align: top;\n    }\n\n    .dataframe thead th {\n        text-align: right;\n    }\n</style>\n<table border=\"1\" class=\"dataframe\">\n  <thead>\n    <tr style=\"text-align: right;\">\n      <th></th>\n      <th>0</th>\n    </tr>\n  </thead>\n  <tbody>\n    <tr>\n      <th>0</th>\n      <td>Бесплатный вход в еженедельном соревновании дл...</td>\n    </tr>\n    <tr>\n      <th>1</th>\n      <td>FreeMsg Привет, дорогая, прошла уже неделя, а ...</td>\n    </tr>\n    <tr>\n      <th>2</th>\n      <td>ПОБЕДИТЕЛЬ Как ценный клиент сети вы были выбр...</td>\n    </tr>\n    <tr>\n      <th>3</th>\n      <td>Если у вас есть месяц или более мобильного тел...</td>\n    </tr>\n    <tr>\n      <th>4</th>\n      <td>ШЕСТЬ шансов выиграть НАЛИЧНЫЕ От до фунтов tx...</td>\n    </tr>\n    <tr>\n      <th>...</th>\n      <td>...</td>\n    </tr>\n    <tr>\n      <th>4616</th>\n      <td>Вы любите недорогие акции Stoxs, лучшие акции ...</td>\n    </tr>\n    <tr>\n      <th>4618</th>\n      <td>это чудо микрокапитализации предупреждение инв...</td>\n    </tr>\n    <tr>\n      <th>4619</th>\n      <td>содержащуюся здесь информацию в качестве юриди...</td>\n    </tr>\n    <tr>\n      <th>4620</th>\n      <td>Stox с небольшой капитализацией может взорвать...</td>\n    </tr>\n    <tr>\n      <th>4621</th>\n      <td>В отчете Empire Research Associates говорится,...</td>\n    </tr>\n  </tbody>\n</table>\n<p>28220 rows × 1 columns</p>\n</div>"
     },
     "execution_count": 38,
     "metadata": {},
     "output_type": "execute_result"
    }
   ],
   "source": [
    "df_cop"
   ],
   "metadata": {
    "collapsed": false,
    "ExecuteTime": {
     "end_time": "2023-12-21T20:31:36.567557100Z",
     "start_time": "2023-12-21T20:31:36.535730100Z"
    }
   },
   "id": "d589119b61595c3a"
  },
  {
   "cell_type": "code",
   "execution_count": 39,
   "outputs": [],
   "source": [
    "df_cop.to_csv(\"clean_data/raw_russian_data.csv\",index=False)"
   ],
   "metadata": {
    "collapsed": false,
    "ExecuteTime": {
     "end_time": "2023-12-21T20:38:44.593707900Z",
     "start_time": "2023-12-21T20:38:43.218883100Z"
    }
   },
   "id": "bc2c3d4fdfd2d572"
  }
 ],
 "metadata": {
  "kernelspec": {
   "display_name": "Python 3 (ipykernel)",
   "language": "python",
   "name": "python3"
  },
  "language_info": {
   "codemirror_mode": {
    "name": "ipython",
    "version": 3
   },
   "file_extension": ".py",
   "mimetype": "text/x-python",
   "name": "python",
   "nbconvert_exporter": "python",
   "pygments_lexer": "ipython3",
   "version": "3.11.4"
  }
 },
 "nbformat": 4,
 "nbformat_minor": 5
}
