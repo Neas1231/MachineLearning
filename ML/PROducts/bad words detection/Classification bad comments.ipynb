{
 "cells": [
  {
   "cell_type": "markdown",
   "id": "485469c6",
   "metadata": {},
   "source": [
    "# ЗАГРУЗКА"
   ]
  },
  {
   "cell_type": "code",
   "execution_count": 1,
   "id": "dddb7f62",
   "metadata": {
    "ExecuteTime": {
     "end_time": "2023-11-23T08:28:41.904257300Z",
     "start_time": "2023-11-23T08:28:39.434864700Z"
    }
   },
   "outputs": [],
   "source": [
    "import pandas as pd\n",
    "df_cop = pd.read_csv('tokenized_data.csv')"
   ]
  },
  {
   "cell_type": "code",
   "execution_count": 2,
   "outputs": [
    {
     "data": {
      "text/plain": "         label                                            comment\n0        toxic                                скотина что сказать\n1       normal  я сегодня проезжала по рабочей и между домами ...\n2       normal  очередной лохотрон зачем придумывать очередной...\n3       normal  ретро дежавю сложно понять чужое сердце лиш ощ...\n4       normal             а когда мы статус агрогородка получили\n...        ...                                                ...\n386325  normal  спала в родительском доме на своей кровати про...\n386326  normal  эх мы немного решили сократить путь сейчас уже...\n386327  normal  что происходит со мной когда в эфире звучит мо...\n386328  normal  любимая я подарю тебе эту звезду имя какой зве...\n386329  normal  посмотри непытайтесьпокинутьомск сегодня в вав...\n\n[386330 rows x 2 columns]",
      "text/html": "<div>\n<style scoped>\n    .dataframe tbody tr th:only-of-type {\n        vertical-align: middle;\n    }\n\n    .dataframe tbody tr th {\n        vertical-align: top;\n    }\n\n    .dataframe thead th {\n        text-align: right;\n    }\n</style>\n<table border=\"1\" class=\"dataframe\">\n  <thead>\n    <tr style=\"text-align: right;\">\n      <th></th>\n      <th>label</th>\n      <th>comment</th>\n    </tr>\n  </thead>\n  <tbody>\n    <tr>\n      <th>0</th>\n      <td>toxic</td>\n      <td>скотина что сказать</td>\n    </tr>\n    <tr>\n      <th>1</th>\n      <td>normal</td>\n      <td>я сегодня проезжала по рабочей и между домами ...</td>\n    </tr>\n    <tr>\n      <th>2</th>\n      <td>normal</td>\n      <td>очередной лохотрон зачем придумывать очередной...</td>\n    </tr>\n    <tr>\n      <th>3</th>\n      <td>normal</td>\n      <td>ретро дежавю сложно понять чужое сердце лиш ощ...</td>\n    </tr>\n    <tr>\n      <th>4</th>\n      <td>normal</td>\n      <td>а когда мы статус агрогородка получили</td>\n    </tr>\n    <tr>\n      <th>...</th>\n      <td>...</td>\n      <td>...</td>\n    </tr>\n    <tr>\n      <th>386325</th>\n      <td>normal</td>\n      <td>спала в родительском доме на своей кровати про...</td>\n    </tr>\n    <tr>\n      <th>386326</th>\n      <td>normal</td>\n      <td>эх мы немного решили сократить путь сейчас уже...</td>\n    </tr>\n    <tr>\n      <th>386327</th>\n      <td>normal</td>\n      <td>что происходит со мной когда в эфире звучит мо...</td>\n    </tr>\n    <tr>\n      <th>386328</th>\n      <td>normal</td>\n      <td>любимая я подарю тебе эту звезду имя какой зве...</td>\n    </tr>\n    <tr>\n      <th>386329</th>\n      <td>normal</td>\n      <td>посмотри непытайтесьпокинутьомск сегодня в вав...</td>\n    </tr>\n  </tbody>\n</table>\n<p>386330 rows × 2 columns</p>\n</div>"
     },
     "execution_count": 2,
     "metadata": {},
     "output_type": "execute_result"
    }
   ],
   "source": [
    "df_cop"
   ],
   "metadata": {
    "collapsed": false,
    "ExecuteTime": {
     "end_time": "2023-11-23T08:28:41.935198800Z",
     "start_time": "2023-11-23T08:28:41.899257700Z"
    }
   },
   "id": "6936067575c4c155"
  },
  {
   "cell_type": "code",
   "execution_count": 3,
   "outputs": [
    {
     "data": {
      "text/plain": "                                                comment label\n0     бесплатный вход в еженедельном соревновании дл...  spam\n1     привет дорогая прошла уже неделя а ответа нет ...  spam\n2     победитель как ценный клиент сети вы были выбр...  spam\n3     если у вас есть месяц или более мобильного тел...  spam\n4     шесть шансов выиграть наличные от до фунтов и ...  spam\n...                                                 ...   ...\n1186  срочно розыгрыш прошлых выходных показывает чт...  spam\n1187  срочно мы пытаемся связаться с вами розыгрыш н...  spam\n1188  играйте в официальную игру на своем мобильном ...  spam\n1189  спрос на мобильном если чатлинии включают бесп...  spam\n1190  это уже второй раз когда мы пытаемся связаться...  spam\n\n[1191 rows x 2 columns]",
      "text/html": "<div>\n<style scoped>\n    .dataframe tbody tr th:only-of-type {\n        vertical-align: middle;\n    }\n\n    .dataframe tbody tr th {\n        vertical-align: top;\n    }\n\n    .dataframe thead th {\n        text-align: right;\n    }\n</style>\n<table border=\"1\" class=\"dataframe\">\n  <thead>\n    <tr style=\"text-align: right;\">\n      <th></th>\n      <th>comment</th>\n      <th>label</th>\n    </tr>\n  </thead>\n  <tbody>\n    <tr>\n      <th>0</th>\n      <td>бесплатный вход в еженедельном соревновании дл...</td>\n      <td>spam</td>\n    </tr>\n    <tr>\n      <th>1</th>\n      <td>привет дорогая прошла уже неделя а ответа нет ...</td>\n      <td>spam</td>\n    </tr>\n    <tr>\n      <th>2</th>\n      <td>победитель как ценный клиент сети вы были выбр...</td>\n      <td>spam</td>\n    </tr>\n    <tr>\n      <th>3</th>\n      <td>если у вас есть месяц или более мобильного тел...</td>\n      <td>spam</td>\n    </tr>\n    <tr>\n      <th>4</th>\n      <td>шесть шансов выиграть наличные от до фунтов и ...</td>\n      <td>spam</td>\n    </tr>\n    <tr>\n      <th>...</th>\n      <td>...</td>\n      <td>...</td>\n    </tr>\n    <tr>\n      <th>1186</th>\n      <td>срочно розыгрыш прошлых выходных показывает чт...</td>\n      <td>spam</td>\n    </tr>\n    <tr>\n      <th>1187</th>\n      <td>срочно мы пытаемся связаться с вами розыгрыш н...</td>\n      <td>spam</td>\n    </tr>\n    <tr>\n      <th>1188</th>\n      <td>играйте в официальную игру на своем мобильном ...</td>\n      <td>spam</td>\n    </tr>\n    <tr>\n      <th>1189</th>\n      <td>спрос на мобильном если чатлинии включают бесп...</td>\n      <td>spam</td>\n    </tr>\n    <tr>\n      <th>1190</th>\n      <td>это уже второй раз когда мы пытаемся связаться...</td>\n      <td>spam</td>\n    </tr>\n  </tbody>\n</table>\n<p>1191 rows × 2 columns</p>\n</div>"
     },
     "execution_count": 3,
     "metadata": {},
     "output_type": "execute_result"
    }
   ],
   "source": [
    "df_spam = pd.read_csv('spam_data_rus.csv')\n",
    "df_spam"
   ],
   "metadata": {
    "collapsed": false,
    "ExecuteTime": {
     "end_time": "2023-11-23T08:28:42.056879200Z",
     "start_time": "2023-11-23T08:28:41.920197700Z"
    }
   },
   "id": "74f31e6d9bf57be"
  },
  {
   "cell_type": "code",
   "execution_count": 4,
   "id": "4d17fe9f",
   "metadata": {
    "ExecuteTime": {
     "end_time": "2023-11-23T08:28:42.230278700Z",
     "start_time": "2023-11-23T08:28:41.976863Z"
    }
   },
   "outputs": [],
   "source": [
    "df_cop.dropna(inplace=True)\n",
    "df_cop.reset_index(inplace=True,drop=True)"
   ]
  },
  {
   "cell_type": "code",
   "execution_count": 5,
   "id": "6e89f6fc",
   "metadata": {
    "scrolled": false,
    "ExecuteTime": {
     "end_time": "2023-11-23T08:28:42.279289700Z",
     "start_time": "2023-11-23T08:28:42.125453900Z"
    }
   },
   "outputs": [
    {
     "data": {
      "text/plain": "0                                       скотина что сказать\n1         я сегодня проезжала по рабочей и между домами ...\n2         очередной лохотрон зачем придумывать очередной...\n3         ретро дежавю сложно понять чужое сердце лиш ощ...\n4                    а когда мы статус агрогородка получили\n                                ...                        \n386310    спала в родительском доме на своей кровати про...\n386311    эх мы немного решили сократить путь сейчас уже...\n386312    что происходит со мной когда в эфире звучит мо...\n386313    любимая я подарю тебе эту звезду имя какой зве...\n386314    посмотри непытайтесьпокинутьомск сегодня в вав...\nName: comment, Length: 386315, dtype: object"
     },
     "execution_count": 5,
     "metadata": {},
     "output_type": "execute_result"
    }
   ],
   "source": [
    "df_cop['comment']"
   ]
  },
  {
   "cell_type": "code",
   "execution_count": 6,
   "outputs": [],
   "source": [
    "import emoji\n",
    "df_cop['comment'] = df_cop['comment'].apply(lambda s: emoji.replace_emoji(s, ''))"
   ],
   "metadata": {
    "collapsed": false,
    "ExecuteTime": {
     "end_time": "2023-11-23T08:29:23.357268200Z",
     "start_time": "2023-11-23T08:28:42.134257600Z"
    }
   },
   "id": "86e597cf6ba2fc7f"
  },
  {
   "cell_type": "code",
   "execution_count": 7,
   "outputs": [
    {
     "data": {
      "text/plain": "         label                                            comment\n0        toxic                                скотина что сказать\n1       normal  я сегодня проезжала по рабочей и между домами ...\n2       normal  очередной лохотрон зачем придумывать очередной...\n3       normal  ретро дежавю сложно понять чужое сердце лиш ощ...\n4       normal             а когда мы статус агрогородка получили\n...        ...                                                ...\n386310  normal  спала в родительском доме на своей кровати про...\n386311  normal  эх мы немного решили сократить путь сейчас уже...\n386312  normal  что происходит со мной когда в эфире звучит мо...\n386313  normal  любимая я подарю тебе эту звезду имя какой зве...\n386314  normal  посмотри непытайтесьпокинутьомск сегодня в вав...\n\n[386315 rows x 2 columns]",
      "text/html": "<div>\n<style scoped>\n    .dataframe tbody tr th:only-of-type {\n        vertical-align: middle;\n    }\n\n    .dataframe tbody tr th {\n        vertical-align: top;\n    }\n\n    .dataframe thead th {\n        text-align: right;\n    }\n</style>\n<table border=\"1\" class=\"dataframe\">\n  <thead>\n    <tr style=\"text-align: right;\">\n      <th></th>\n      <th>label</th>\n      <th>comment</th>\n    </tr>\n  </thead>\n  <tbody>\n    <tr>\n      <th>0</th>\n      <td>toxic</td>\n      <td>скотина что сказать</td>\n    </tr>\n    <tr>\n      <th>1</th>\n      <td>normal</td>\n      <td>я сегодня проезжала по рабочей и между домами ...</td>\n    </tr>\n    <tr>\n      <th>2</th>\n      <td>normal</td>\n      <td>очередной лохотрон зачем придумывать очередной...</td>\n    </tr>\n    <tr>\n      <th>3</th>\n      <td>normal</td>\n      <td>ретро дежавю сложно понять чужое сердце лиш ощ...</td>\n    </tr>\n    <tr>\n      <th>4</th>\n      <td>normal</td>\n      <td>а когда мы статус агрогородка получили</td>\n    </tr>\n    <tr>\n      <th>...</th>\n      <td>...</td>\n      <td>...</td>\n    </tr>\n    <tr>\n      <th>386310</th>\n      <td>normal</td>\n      <td>спала в родительском доме на своей кровати про...</td>\n    </tr>\n    <tr>\n      <th>386311</th>\n      <td>normal</td>\n      <td>эх мы немного решили сократить путь сейчас уже...</td>\n    </tr>\n    <tr>\n      <th>386312</th>\n      <td>normal</td>\n      <td>что происходит со мной когда в эфире звучит мо...</td>\n    </tr>\n    <tr>\n      <th>386313</th>\n      <td>normal</td>\n      <td>любимая я подарю тебе эту звезду имя какой зве...</td>\n    </tr>\n    <tr>\n      <th>386314</th>\n      <td>normal</td>\n      <td>посмотри непытайтесьпокинутьомск сегодня в вав...</td>\n    </tr>\n  </tbody>\n</table>\n<p>386315 rows × 2 columns</p>\n</div>"
     },
     "execution_count": 7,
     "metadata": {},
     "output_type": "execute_result"
    }
   ],
   "source": [
    "df_cop"
   ],
   "metadata": {
    "collapsed": false,
    "ExecuteTime": {
     "end_time": "2023-11-23T08:29:23.376634400Z",
     "start_time": "2023-11-23T08:29:23.357268200Z"
    }
   },
   "id": "c1a690278e1b0a30"
  },
  {
   "cell_type": "code",
   "execution_count": 8,
   "outputs": [
    {
     "data": {
      "text/plain": "comment    2\nlabel      0\ndtype: int64"
     },
     "execution_count": 8,
     "metadata": {},
     "output_type": "execute_result"
    }
   ],
   "source": [
    "df_spam.isna().sum()"
   ],
   "metadata": {
    "collapsed": false,
    "ExecuteTime": {
     "end_time": "2023-11-23T08:29:23.376634400Z",
     "start_time": "2023-11-23T08:29:23.366873700Z"
    }
   },
   "id": "8d2a736c2d04b7c8"
  },
  {
   "cell_type": "code",
   "execution_count": 9,
   "outputs": [
    {
     "name": "stdout",
     "output_type": "stream",
     "text": [
      "comment    2\n",
      "label      0\n",
      "dtype: int64\n"
     ]
    }
   ],
   "source": [
    "df_cop = pd.concat([df_cop,df_spam])\n",
    "print(df_spam.isna().sum())\n",
    "df_cop.dropna(inplace=True)"
   ],
   "metadata": {
    "collapsed": false,
    "ExecuteTime": {
     "end_time": "2023-11-23T08:29:23.582955900Z",
     "start_time": "2023-11-23T08:29:23.376634400Z"
    }
   },
   "id": "993c93bfa4babfa0"
  },
  {
   "cell_type": "code",
   "execution_count": 10,
   "outputs": [],
   "source": [
    "#df_cop.loc[df_cop['label']=='spam','label'] = 'toxic'"
   ],
   "metadata": {
    "collapsed": false,
    "ExecuteTime": {
     "end_time": "2023-11-23T08:29:23.582955900Z",
     "start_time": "2023-11-23T08:29:23.561949Z"
    }
   },
   "id": "6fe27c402cbe9611"
  },
  {
   "cell_type": "code",
   "execution_count": 64,
   "id": "7040c383",
   "metadata": {
    "ExecuteTime": {
     "end_time": "2023-11-23T07:56:25.757914800Z",
     "start_time": "2023-11-23T07:56:18.007737600Z"
    }
   },
   "outputs": [],
   "source": [
    "from sklearn.feature_extraction.text import CountVectorizer\n",
    "count_vect = CountVectorizer()\n",
    "X_counts = count_vect.fit_transform(df_cop['comment'])\n",
    "X_counts.shape\n",
    "\n",
    "from sklearn.feature_extraction.text import TfidfTransformer\n",
    "tf_transformer = TfidfTransformer().fit(X_counts)\n",
    "X_tfidf = tf_transformer.transform(X_counts)\n",
    "X_tfidf.shape\n",
    "\n",
    "X = X_tfidf.copy()\n",
    "y = df_cop['label']\n",
    "\n",
    "from sklearn.model_selection import train_test_split\n",
    "X_train, X_test, y_train, y_test = train_test_split(X, y, test_size=0.33, random_state=42)\n",
    "\n",
    "from sklearn.preprocessing import StandardScaler\n",
    "scaler = StandardScaler(with_mean=False)\n",
    "scaler.fit(X_train)\n",
    "X_train = scaler.transform(X_train)\n",
    "X_test = scaler.transform(X_test)  "
   ]
  },
  {
   "cell_type": "code",
   "execution_count": 20,
   "outputs": [
    {
     "data": {
      "text/plain": "(95082909, 123979020)"
     },
     "execution_count": 20,
     "metadata": {},
     "output_type": "execute_result"
    }
   ],
   "source": [
    "from gensim.models import Word2Vec\n",
    "X = df_cop['comment'].copy()\n",
    "y = df_cop['label']\n",
    "\n",
    "from sklearn.model_selection import train_test_split\n",
    "X_train, X_test, y_train, y_test = train_test_split(X, y, test_size=0.20, random_state=42)\n",
    "\n",
    "model = w2v_model = Word2Vec(min_count=20,\n",
    "                             window=2,\n",
    "                             size=300,\n",
    "                             sample=6e-5,\n",
    "                             alpha=0.03,\n",
    "                             min_alpha=0.0007,\n",
    "                             negative=20,\n",
    "                             workers=-1)\n",
    "\n",
    "w2v_model.build_vocab(sentences, progress_per=10000)\n",
    "\n",
    "from sklearn.preprocessing import StandardScaler\n",
    "scaler = StandardScaler(with_mean=False)\n",
    "scaler.fit(X_train)\n",
    "X_train = scaler.transform(X_train)\n",
    "X_test = scaler.transform(X_test)"
   ],
   "metadata": {
    "collapsed": false,
    "ExecuteTime": {
     "end_time": "2023-11-23T09:02:07.751318Z",
     "start_time": "2023-11-23T08:54:48.376115400Z"
    }
   },
   "id": "3f974feb24972ec9"
  },
  {
   "cell_type": "code",
   "execution_count": 27,
   "outputs": [
    {
     "data": {
      "text/plain": "[('крутит', 0.2795633375644684),\n ('псо', 0.27057307958602905),\n ('корсо', 0.2671842873096466),\n ('псж', 0.24746258556842804),\n ('корчит', 0.244126096367836),\n ('какие', 0.24325184524059296),\n ('выгонит', 0.24307788908481598),\n ('с', 0.23637565970420837),\n ('крутится', 0.23225802183151245),\n ('вывезти', 0.23000620305538177)]"
     },
     "execution_count": 27,
     "metadata": {},
     "output_type": "execute_result"
    }
   ],
   "source": [
    "X_train"
   ],
   "metadata": {
    "collapsed": false,
    "ExecuteTime": {
     "end_time": "2023-11-23T09:18:55.642086900Z",
     "start_time": "2023-11-23T09:18:55.593468400Z"
    }
   },
   "id": "293447efc138f95b"
  },
  {
   "cell_type": "code",
   "execution_count": 34,
   "id": "2a1e999e",
   "metadata": {
    "ExecuteTime": {
     "end_time": "2023-11-23T09:27:06.326648700Z",
     "start_time": "2023-11-23T09:27:06.280309300Z"
    }
   },
   "outputs": [
    {
     "data": {
      "text/plain": "[('уау', 0.5035718083381653),\n ('щ', 0.4937123656272888),\n ('†', 0.48845529556274414),\n ('ў', 0.4673556387424469),\n ('бх', 0.4673093259334564),\n ('\\u200bа', 0.4629170596599579),\n ('\\u200bс', 0.4601266086101532),\n ('¡', 0.4565475583076477),\n ('зөв', 0.4467613697052002),\n ('нп', 0.445248007774353)]"
     },
     "execution_count": 34,
     "metadata": {},
     "output_type": "execute_result"
    }
   ],
   "source": [
    "from sklearn.model_selection import GridSearchCV\n",
    "from sklearn.linear_model import SGDClassifier\n",
    "from sklearn.metrics import classification_report\n",
    "params = {\n",
    "    \"loss\" : [\"hinge\"],\n",
    "    \"alpha\" : [0.1],\n",
    "    \"penalty\" : [\"l2\"],\n",
    "    'class_weight' : [None],\n",
    "    'warm_start' : [True],\n",
    "    'learning_rate' :['adaptive'],\n",
    "    'eta0' : [0.001],\n",
    "    'power_t' :[0.0001],\n",
    "    'early_stopping' : [True],\n",
    "    'validation_fraction' : [0.001]\n",
    "    \n",
    "}\n",
    " \n",
    "model = SGDClassifier(max_iter=10000)\n",
    "clf = GridSearchCV(model, param_grid=params)\n",
    "clf.fit(X_train,y_train)\n",
    "print(classification_report(y_test,clf.best_estimator_.predict(X_test)))"
   ]
  },
  {
   "cell_type": "code",
   "execution_count": 31,
   "outputs": [
    {
     "ename": "ModuleNotFoundError",
     "evalue": "No module named 'fasttext'",
     "output_type": "error",
     "traceback": [
      "\u001B[1;31m---------------------------------------------------------------------------\u001B[0m",
      "\u001B[1;31mModuleNotFoundError\u001B[0m                       Traceback (most recent call last)",
      "Cell \u001B[1;32mIn[31], line 1\u001B[0m\n\u001B[1;32m----> 1\u001B[0m \u001B[38;5;28;01mimport\u001B[39;00m \u001B[38;5;21;01mfasttext\u001B[39;00m\n\u001B[0;32m      2\u001B[0m model \u001B[38;5;241m=\u001B[39m fasttext\u001B[38;5;241m.\u001B[39mtrain_supervised(X_train, epoch\u001B[38;5;241m=\u001B[39m\u001B[38;5;241m30\u001B[39m)\n",
      "\u001B[1;31mModuleNotFoundError\u001B[0m: No module named 'fasttext'"
     ]
    }
   ],
   "source": [
    "df_cop[df_cop['label'] == 'spam']"
   ],
   "metadata": {
    "collapsed": false,
    "ExecuteTime": {
     "end_time": "2023-11-23T09:24:01.558013100Z",
     "start_time": "2023-11-23T09:24:01.534772100Z"
    }
   },
   "id": "231a38b883a75fea"
  },
  {
   "cell_type": "code",
   "execution_count": 29,
   "id": "b26c06dc",
   "metadata": {
    "ExecuteTime": {
     "end_time": "2023-11-23T09:23:45.022035700Z",
     "start_time": "2023-11-23T09:23:37.741731200Z"
    }
   },
   "outputs": [
    {
     "name": "stdout",
     "output_type": "stream",
     "text": [
      "Collecting fasttext\n",
      "  Using cached fasttext-0.9.2.tar.gz (68 kB)\n",
      "  Preparing metadata (setup.py): started\n",
      "  Preparing metadata (setup.py): finished with status 'done'\n",
      "Requirement already satisfied: pybind11>=2.2 in c:\\anaconda\\lib\\site-packages (from fasttext) (2.11.1)\n",
      "Requirement already satisfied: setuptools>=0.7.0 in c:\\anaconda\\lib\\site-packages (from fasttext) (68.0.0)\n",
      "Requirement already satisfied: numpy in c:\\anaconda\\lib\\site-packages (from fasttext) (1.24.3)\n",
      "Building wheels for collected packages: fasttext\n",
      "  Building wheel for fasttext (setup.py): started\n",
      "  Building wheel for fasttext (setup.py): finished with status 'error'\n",
      "  Running setup.py clean for fasttext\n",
      "Failed to build fasttext\n",
      "Note: you may need to restart the kernel to use updated packages.\n"
     ]
    },
    {
     "name": "stderr",
     "output_type": "stream",
     "text": [
      "  error: subprocess-exited-with-error\n",
      "  \n",
      "  python setup.py bdist_wheel did not run successfully.\n",
      "  exit code: 1\n",
      "  \n",
      "  [33 lines of output]\n",
      "  C:\\anaconda\\Lib\\site-packages\\setuptools\\dist.py:745: SetuptoolsDeprecationWarning: Invalid dash-separated options\n",
      "  !!\n",
      "  \n",
      "          ********************************************************************************\n",
      "          Usage of dash-separated 'description-file' will not be supported in future\n",
      "          versions. Please use the underscore name 'description_file' instead.\n",
      "  \n",
      "          This deprecation is overdue, please update your project and remove deprecated\n",
      "          calls to avoid build errors in the future.\n",
      "  \n",
      "          See https://setuptools.pypa.io/en/latest/userguide/declarative_config.html for details.\n",
      "          ********************************************************************************\n",
      "  \n",
      "  !!\n",
      "    opt = self.warn_dash_deprecation(opt, section)\n",
      "  running bdist_wheel\n",
      "  running build\n",
      "  running build_py\n",
      "  creating build\n",
      "  creating build\\lib.win-amd64-cpython-311\n",
      "  creating build\\lib.win-amd64-cpython-311\\fasttext\n",
      "  copying python\\fasttext_module\\fasttext\\FastText.py -> build\\lib.win-amd64-cpython-311\\fasttext\n",
      "  copying python\\fasttext_module\\fasttext\\__init__.py -> build\\lib.win-amd64-cpython-311\\fasttext\n",
      "  creating build\\lib.win-amd64-cpython-311\\fasttext\\util\n",
      "  copying python\\fasttext_module\\fasttext\\util\\util.py -> build\\lib.win-amd64-cpython-311\\fasttext\\util\n",
      "  copying python\\fasttext_module\\fasttext\\util\\__init__.py -> build\\lib.win-amd64-cpython-311\\fasttext\\util\n",
      "  creating build\\lib.win-amd64-cpython-311\\fasttext\\tests\n",
      "  copying python\\fasttext_module\\fasttext\\tests\\test_configurations.py -> build\\lib.win-amd64-cpython-311\\fasttext\\tests\n",
      "  copying python\\fasttext_module\\fasttext\\tests\\test_script.py -> build\\lib.win-amd64-cpython-311\\fasttext\\tests\n",
      "  copying python\\fasttext_module\\fasttext\\tests\\__init__.py -> build\\lib.win-amd64-cpython-311\\fasttext\\tests\n",
      "  running build_ext\n",
      "  building 'fasttext_pybind' extension\n",
      "  error: Microsoft Visual C++ 14.0 or greater is required. Get it with \"Microsoft C++ Build Tools\": https://visualstudio.microsoft.com/visual-cpp-build-tools/\n",
      "  [end of output]\n",
      "  \n",
      "  note: This error originates from a subprocess, and is likely not a problem with pip.\n",
      "  ERROR: Failed building wheel for fasttext\n",
      "ERROR: Could not build wheels for fasttext, which is required to install pyproject.toml-based projects\n"
     ]
    }
   ],
   "source": [
    "df_cop"
   ]
  },
  {
   "cell_type": "code",
   "execution_count": 203,
   "id": "3a95442b",
   "metadata": {},
   "outputs": [
    {
     "data": {
      "text/plain": [
       "{'alpha': 0.1,\n",
       " 'class_weight': None,\n",
       " 'early_stopping': True,\n",
       " 'eta0': 0.001,\n",
       " 'learning_rate': 'adaptive',\n",
       " 'loss': 'hinge',\n",
       " 'penalty': 'l2',\n",
       " 'power_t': 0.0001,\n",
       " 'validation_fraction': 0.001,\n",
       " 'warm_start': True}"
      ]
     },
     "execution_count": 203,
     "metadata": {},
     "output_type": "execute_result"
    }
   ],
   "source": [
    "clf.best_params_"
   ]
  },
  {
   "cell_type": "code",
   "execution_count": null,
   "id": "18666f58",
   "metadata": {},
   "outputs": [],
   "source": [
    "from imblearn.under_sampling import AllKNN\n",
    "under ="
   ]
  },
  {
   "cell_type": "code",
   "execution_count": null,
   "id": "0c3b233e",
   "metadata": {},
   "outputs": [],
   "source": [
    "from sklearn.decomposition import TruncatedSVD\n",
    "clf = TruncatedSVD(1000)\n",
    "X_decom = clf.fit_transform(X_tfidf)\n",
    "X_decom"
   ]
  },
  {
   "cell_type": "code",
   "execution_count": 12,
   "id": "a7e7aeca",
   "metadata": {},
   "outputs": [],
   "source": [
    "X = X_decom.copy()\n",
    "y = df_cop['label']"
   ]
  },
  {
   "cell_type": "code",
   "execution_count": 9,
   "id": "868ff59b",
   "metadata": {},
   "outputs": [],
   "source": [
    "from imblearn.under_sampling import RandomUnderSampler\n",
    "undersampler = RandomUnderSampler()\n",
    "X_train, y_train = undersampler.fit_resample(X_train, y_train)"
   ]
  },
  {
   "cell_type": "code",
   "execution_count": 14,
   "id": "ad71db25",
   "metadata": {},
   "outputs": [
    {
     "name": "stderr",
     "output_type": "stream",
     "text": [
      "Default metric period is 5 because AUC is/are not implemented for GPU\n"
     ]
    },
    {
     "name": "stdout",
     "output_type": "stream",
     "text": [
      "0:\ttotal: 134ms\tremaining: 2m 13s\n",
      "1:\ttotal: 209ms\tremaining: 1m 44s\n",
      "2:\ttotal: 288ms\tremaining: 1m 35s\n",
      "3:\ttotal: 365ms\tremaining: 1m 30s\n",
      "4:\ttotal: 436ms\tremaining: 1m 26s\n",
      "5:\ttotal: 502ms\tremaining: 1m 23s\n",
      "6:\ttotal: 571ms\tremaining: 1m 21s\n",
      "7:\ttotal: 642ms\tremaining: 1m 19s\n",
      "8:\ttotal: 711ms\tremaining: 1m 18s\n",
      "9:\ttotal: 780ms\tremaining: 1m 17s\n",
      "10:\ttotal: 848ms\tremaining: 1m 16s\n",
      "11:\ttotal: 911ms\tremaining: 1m 15s\n",
      "12:\ttotal: 980ms\tremaining: 1m 14s\n",
      "13:\ttotal: 1.04s\tremaining: 1m 13s\n",
      "14:\ttotal: 1.11s\tremaining: 1m 13s\n",
      "15:\ttotal: 1.18s\tremaining: 1m 12s\n",
      "16:\ttotal: 1.25s\tremaining: 1m 12s\n",
      "17:\ttotal: 1.31s\tremaining: 1m 11s\n",
      "18:\ttotal: 1.38s\tremaining: 1m 11s\n",
      "19:\ttotal: 1.45s\tremaining: 1m 11s\n",
      "20:\ttotal: 1.51s\tremaining: 1m 10s\n",
      "21:\ttotal: 1.58s\tremaining: 1m 10s\n",
      "22:\ttotal: 1.65s\tremaining: 1m 10s\n",
      "23:\ttotal: 1.72s\tremaining: 1m 9s\n",
      "24:\ttotal: 1.79s\tremaining: 1m 9s\n",
      "25:\ttotal: 1.85s\tremaining: 1m 9s\n",
      "26:\ttotal: 1.92s\tremaining: 1m 9s\n",
      "27:\ttotal: 1.99s\tremaining: 1m 8s\n",
      "28:\ttotal: 2.06s\tremaining: 1m 8s\n",
      "29:\ttotal: 2.13s\tremaining: 1m 8s\n",
      "30:\ttotal: 2.19s\tremaining: 1m 8s\n",
      "31:\ttotal: 2.26s\tremaining: 1m 8s\n",
      "32:\ttotal: 2.33s\tremaining: 1m 8s\n",
      "33:\ttotal: 2.39s\tremaining: 1m 7s\n",
      "34:\ttotal: 2.45s\tremaining: 1m 7s\n",
      "35:\ttotal: 2.52s\tremaining: 1m 7s\n",
      "36:\ttotal: 2.58s\tremaining: 1m 7s\n",
      "37:\ttotal: 2.65s\tremaining: 1m 6s\n",
      "38:\ttotal: 2.71s\tremaining: 1m 6s\n",
      "39:\ttotal: 2.78s\tremaining: 1m 6s\n",
      "40:\ttotal: 2.84s\tremaining: 1m 6s\n",
      "41:\ttotal: 2.91s\tremaining: 1m 6s\n",
      "42:\ttotal: 2.97s\tremaining: 1m 6s\n",
      "43:\ttotal: 3.03s\tremaining: 1m 5s\n",
      "44:\ttotal: 3.09s\tremaining: 1m 5s\n",
      "45:\ttotal: 3.16s\tremaining: 1m 5s\n",
      "46:\ttotal: 3.22s\tremaining: 1m 5s\n",
      "47:\ttotal: 3.28s\tremaining: 1m 5s\n",
      "48:\ttotal: 3.35s\tremaining: 1m 4s\n",
      "49:\ttotal: 3.41s\tremaining: 1m 4s\n",
      "50:\ttotal: 3.48s\tremaining: 1m 4s\n",
      "51:\ttotal: 3.54s\tremaining: 1m 4s\n",
      "52:\ttotal: 3.6s\tremaining: 1m 4s\n",
      "53:\ttotal: 3.66s\tremaining: 1m 4s\n",
      "54:\ttotal: 3.72s\tremaining: 1m 3s\n",
      "55:\ttotal: 3.79s\tremaining: 1m 3s\n",
      "56:\ttotal: 3.84s\tremaining: 1m 3s\n",
      "57:\ttotal: 3.91s\tremaining: 1m 3s\n",
      "58:\ttotal: 3.97s\tremaining: 1m 3s\n",
      "59:\ttotal: 4.04s\tremaining: 1m 3s\n",
      "60:\ttotal: 4.09s\tremaining: 1m 3s\n",
      "61:\ttotal: 4.16s\tremaining: 1m 2s\n",
      "62:\ttotal: 4.22s\tremaining: 1m 2s\n",
      "63:\ttotal: 4.29s\tremaining: 1m 2s\n",
      "64:\ttotal: 4.35s\tremaining: 1m 2s\n",
      "65:\ttotal: 4.41s\tremaining: 1m 2s\n",
      "66:\ttotal: 4.47s\tremaining: 1m 2s\n",
      "67:\ttotal: 4.53s\tremaining: 1m 2s\n",
      "68:\ttotal: 4.59s\tremaining: 1m 1s\n",
      "69:\ttotal: 4.65s\tremaining: 1m 1s\n",
      "70:\ttotal: 4.72s\tremaining: 1m 1s\n",
      "71:\ttotal: 4.78s\tremaining: 1m 1s\n",
      "72:\ttotal: 4.84s\tremaining: 1m 1s\n",
      "73:\ttotal: 4.9s\tremaining: 1m 1s\n",
      "74:\ttotal: 4.97s\tremaining: 1m 1s\n",
      "75:\ttotal: 5.02s\tremaining: 1m 1s\n",
      "76:\ttotal: 5.08s\tremaining: 1m\n",
      "77:\ttotal: 5.14s\tremaining: 1m\n",
      "78:\ttotal: 5.2s\tremaining: 1m\n",
      "79:\ttotal: 5.25s\tremaining: 1m\n",
      "80:\ttotal: 5.31s\tremaining: 1m\n",
      "81:\ttotal: 5.36s\tremaining: 1m\n",
      "82:\ttotal: 5.42s\tremaining: 59.9s\n",
      "83:\ttotal: 5.49s\tremaining: 59.8s\n",
      "84:\ttotal: 5.54s\tremaining: 59.7s\n",
      "85:\ttotal: 5.61s\tremaining: 59.6s\n",
      "86:\ttotal: 5.67s\tremaining: 59.5s\n",
      "87:\ttotal: 5.73s\tremaining: 59.4s\n",
      "88:\ttotal: 5.78s\tremaining: 59.2s\n",
      "89:\ttotal: 5.85s\tremaining: 59.1s\n",
      "90:\ttotal: 5.91s\tremaining: 59s\n",
      "91:\ttotal: 5.96s\tremaining: 58.9s\n",
      "92:\ttotal: 6.02s\tremaining: 58.7s\n",
      "93:\ttotal: 6.08s\tremaining: 58.6s\n",
      "94:\ttotal: 6.15s\tremaining: 58.6s\n",
      "95:\ttotal: 6.21s\tremaining: 58.5s\n",
      "96:\ttotal: 6.27s\tremaining: 58.4s\n",
      "97:\ttotal: 6.32s\tremaining: 58.2s\n",
      "98:\ttotal: 6.38s\tremaining: 58.1s\n",
      "99:\ttotal: 6.44s\tremaining: 58s\n",
      "100:\ttotal: 6.5s\tremaining: 57.8s\n",
      "101:\ttotal: 6.55s\tremaining: 57.7s\n",
      "102:\ttotal: 6.62s\tremaining: 57.6s\n",
      "103:\ttotal: 6.68s\tremaining: 57.6s\n",
      "104:\ttotal: 6.74s\tremaining: 57.5s\n",
      "105:\ttotal: 6.8s\tremaining: 57.3s\n",
      "106:\ttotal: 6.86s\tremaining: 57.2s\n",
      "107:\ttotal: 6.91s\tremaining: 57.1s\n",
      "108:\ttotal: 6.97s\tremaining: 57s\n",
      "109:\ttotal: 7.03s\tremaining: 56.8s\n",
      "110:\ttotal: 7.09s\tremaining: 56.8s\n",
      "111:\ttotal: 7.15s\tremaining: 56.7s\n",
      "112:\ttotal: 7.21s\tremaining: 56.6s\n",
      "113:\ttotal: 7.27s\tremaining: 56.5s\n",
      "114:\ttotal: 7.32s\tremaining: 56.4s\n",
      "115:\ttotal: 7.38s\tremaining: 56.3s\n",
      "116:\ttotal: 7.44s\tremaining: 56.2s\n",
      "117:\ttotal: 7.5s\tremaining: 56s\n",
      "118:\ttotal: 7.55s\tremaining: 55.9s\n",
      "119:\ttotal: 7.61s\tremaining: 55.8s\n",
      "120:\ttotal: 7.67s\tremaining: 55.7s\n",
      "121:\ttotal: 7.72s\tremaining: 55.6s\n",
      "122:\ttotal: 7.78s\tremaining: 55.5s\n",
      "123:\ttotal: 7.84s\tremaining: 55.4s\n",
      "124:\ttotal: 7.9s\tremaining: 55.3s\n",
      "125:\ttotal: 7.96s\tremaining: 55.2s\n",
      "126:\ttotal: 8.02s\tremaining: 55.1s\n",
      "127:\ttotal: 8.07s\tremaining: 55s\n",
      "128:\ttotal: 8.13s\tremaining: 54.9s\n",
      "129:\ttotal: 8.19s\tremaining: 54.8s\n",
      "130:\ttotal: 8.24s\tremaining: 54.7s\n",
      "131:\ttotal: 8.3s\tremaining: 54.6s\n",
      "132:\ttotal: 8.36s\tremaining: 54.5s\n",
      "133:\ttotal: 8.42s\tremaining: 54.4s\n",
      "134:\ttotal: 8.48s\tremaining: 54.3s\n",
      "135:\ttotal: 8.53s\tremaining: 54.2s\n",
      "136:\ttotal: 8.6s\tremaining: 54.2s\n",
      "137:\ttotal: 8.65s\tremaining: 54s\n",
      "138:\ttotal: 8.71s\tremaining: 54s\n",
      "139:\ttotal: 8.77s\tremaining: 53.8s\n",
      "140:\ttotal: 8.82s\tremaining: 53.8s\n",
      "141:\ttotal: 8.88s\tremaining: 53.7s\n",
      "142:\ttotal: 8.94s\tremaining: 53.5s\n",
      "143:\ttotal: 8.99s\tremaining: 53.5s\n",
      "144:\ttotal: 9.05s\tremaining: 53.4s\n",
      "145:\ttotal: 9.12s\tremaining: 53.4s\n",
      "146:\ttotal: 9.18s\tremaining: 53.3s\n",
      "147:\ttotal: 9.24s\tremaining: 53.2s\n",
      "148:\ttotal: 9.3s\tremaining: 53.1s\n",
      "149:\ttotal: 9.35s\tremaining: 53s\n",
      "150:\ttotal: 9.4s\tremaining: 52.9s\n",
      "151:\ttotal: 9.46s\tremaining: 52.8s\n",
      "152:\ttotal: 9.52s\tremaining: 52.7s\n",
      "153:\ttotal: 9.57s\tremaining: 52.6s\n",
      "154:\ttotal: 9.63s\tremaining: 52.5s\n",
      "155:\ttotal: 9.69s\tremaining: 52.4s\n",
      "156:\ttotal: 9.75s\tremaining: 52.3s\n",
      "157:\ttotal: 9.8s\tremaining: 52.2s\n",
      "158:\ttotal: 9.85s\tremaining: 52.1s\n",
      "159:\ttotal: 9.91s\tremaining: 52s\n",
      "160:\ttotal: 9.96s\tremaining: 51.9s\n",
      "161:\ttotal: 10s\tremaining: 51.8s\n",
      "162:\ttotal: 10.1s\tremaining: 51.7s\n",
      "163:\ttotal: 10.1s\tremaining: 51.7s\n",
      "164:\ttotal: 10.2s\tremaining: 51.6s\n",
      "165:\ttotal: 10.3s\tremaining: 51.5s\n",
      "166:\ttotal: 10.3s\tremaining: 51.4s\n",
      "167:\ttotal: 10.4s\tremaining: 51.3s\n",
      "168:\ttotal: 10.4s\tremaining: 51.2s\n",
      "169:\ttotal: 10.5s\tremaining: 51.1s\n",
      "170:\ttotal: 10.5s\tremaining: 51s\n",
      "171:\ttotal: 10.6s\tremaining: 50.9s\n",
      "172:\ttotal: 10.6s\tremaining: 50.9s\n",
      "173:\ttotal: 10.7s\tremaining: 50.8s\n",
      "174:\ttotal: 10.7s\tremaining: 50.7s\n",
      "175:\ttotal: 10.8s\tremaining: 50.5s\n",
      "176:\ttotal: 10.9s\tremaining: 50.5s\n",
      "177:\ttotal: 10.9s\tremaining: 50.4s\n",
      "178:\ttotal: 11s\tremaining: 50.4s\n",
      "179:\ttotal: 11s\tremaining: 50.3s\n",
      "180:\ttotal: 11.1s\tremaining: 50.2s\n",
      "181:\ttotal: 11.1s\tremaining: 50.1s\n",
      "182:\ttotal: 11.2s\tremaining: 50s\n",
      "183:\ttotal: 11.3s\tremaining: 49.9s\n",
      "184:\ttotal: 11.3s\tremaining: 49.8s\n",
      "185:\ttotal: 11.4s\tremaining: 49.7s\n",
      "186:\ttotal: 11.4s\tremaining: 49.6s\n",
      "187:\ttotal: 11.5s\tremaining: 49.6s\n",
      "188:\ttotal: 11.5s\tremaining: 49.5s\n",
      "189:\ttotal: 11.6s\tremaining: 49.4s\n",
      "190:\ttotal: 11.6s\tremaining: 49.3s\n",
      "191:\ttotal: 11.7s\tremaining: 49.3s\n",
      "192:\ttotal: 11.8s\tremaining: 49.2s\n",
      "193:\ttotal: 11.8s\tremaining: 49.2s\n",
      "194:\ttotal: 11.9s\tremaining: 49.1s\n",
      "195:\ttotal: 12s\tremaining: 49s\n",
      "196:\ttotal: 12s\tremaining: 48.9s\n",
      "197:\ttotal: 12.1s\tremaining: 48.8s\n",
      "198:\ttotal: 12.1s\tremaining: 48.8s\n",
      "199:\ttotal: 12.2s\tremaining: 48.7s\n",
      "200:\ttotal: 12.2s\tremaining: 48.6s\n",
      "201:\ttotal: 12.3s\tremaining: 48.6s\n",
      "202:\ttotal: 12.3s\tremaining: 48.5s\n",
      "203:\ttotal: 12.4s\tremaining: 48.4s\n",
      "204:\ttotal: 12.5s\tremaining: 48.3s\n",
      "205:\ttotal: 12.5s\tremaining: 48.3s\n",
      "206:\ttotal: 12.6s\tremaining: 48.2s\n",
      "207:\ttotal: 12.6s\tremaining: 48s\n",
      "208:\ttotal: 12.7s\tremaining: 48s\n",
      "209:\ttotal: 12.7s\tremaining: 47.9s\n",
      "210:\ttotal: 12.8s\tremaining: 47.8s\n",
      "211:\ttotal: 12.8s\tremaining: 47.8s\n",
      "212:\ttotal: 12.9s\tremaining: 47.7s\n",
      "213:\ttotal: 13s\tremaining: 47.6s\n",
      "214:\ttotal: 13s\tremaining: 47.5s\n",
      "215:\ttotal: 13.1s\tremaining: 47.4s\n",
      "216:\ttotal: 13.1s\tremaining: 47.3s\n",
      "217:\ttotal: 13.2s\tremaining: 47.3s\n",
      "218:\ttotal: 13.2s\tremaining: 47.2s\n",
      "219:\ttotal: 13.3s\tremaining: 47.2s\n",
      "220:\ttotal: 13.4s\tremaining: 47.1s\n",
      "221:\ttotal: 13.4s\tremaining: 47s\n",
      "222:\ttotal: 13.5s\tremaining: 46.9s\n",
      "223:\ttotal: 13.5s\tremaining: 46.8s\n",
      "224:\ttotal: 13.6s\tremaining: 46.7s\n",
      "225:\ttotal: 13.6s\tremaining: 46.6s\n",
      "226:\ttotal: 13.7s\tremaining: 46.6s\n",
      "227:\ttotal: 13.7s\tremaining: 46.5s\n",
      "228:\ttotal: 13.8s\tremaining: 46.4s\n",
      "229:\ttotal: 13.9s\tremaining: 46.4s\n",
      "230:\ttotal: 13.9s\tremaining: 46.3s\n",
      "231:\ttotal: 14s\tremaining: 46.2s\n",
      "232:\ttotal: 14s\tremaining: 46.1s\n",
      "233:\ttotal: 14.1s\tremaining: 46.1s\n",
      "234:\ttotal: 14.1s\tremaining: 46s\n",
      "235:\ttotal: 14.2s\tremaining: 45.9s\n",
      "236:\ttotal: 14.2s\tremaining: 45.8s\n",
      "237:\ttotal: 14.3s\tremaining: 45.7s\n",
      "238:\ttotal: 14.3s\tremaining: 45.7s\n",
      "239:\ttotal: 14.4s\tremaining: 45.6s\n",
      "240:\ttotal: 14.5s\tremaining: 45.6s\n",
      "241:\ttotal: 14.5s\tremaining: 45.5s\n"
     ]
    },
    {
     "name": "stdout",
     "output_type": "stream",
     "text": [
      "242:\ttotal: 14.6s\tremaining: 45.5s\n",
      "243:\ttotal: 14.6s\tremaining: 45.4s\n",
      "244:\ttotal: 14.7s\tremaining: 45.3s\n",
      "245:\ttotal: 14.8s\tremaining: 45.2s\n",
      "246:\ttotal: 14.8s\tremaining: 45.2s\n",
      "247:\ttotal: 14.9s\tremaining: 45.1s\n",
      "248:\ttotal: 14.9s\tremaining: 45s\n",
      "249:\ttotal: 15s\tremaining: 45s\n",
      "250:\ttotal: 15s\tremaining: 44.9s\n",
      "251:\ttotal: 15.1s\tremaining: 44.8s\n",
      "252:\ttotal: 15.2s\tremaining: 44.7s\n",
      "253:\ttotal: 15.2s\tremaining: 44.7s\n",
      "254:\ttotal: 15.3s\tremaining: 44.6s\n",
      "255:\ttotal: 15.3s\tremaining: 44.5s\n",
      "256:\ttotal: 15.4s\tremaining: 44.5s\n",
      "257:\ttotal: 15.4s\tremaining: 44.4s\n",
      "258:\ttotal: 15.5s\tremaining: 44.3s\n",
      "259:\ttotal: 15.5s\tremaining: 44.2s\n",
      "260:\ttotal: 15.6s\tremaining: 44.2s\n",
      "261:\ttotal: 15.7s\tremaining: 44.1s\n",
      "262:\ttotal: 15.7s\tremaining: 44s\n",
      "263:\ttotal: 15.8s\tremaining: 43.9s\n",
      "264:\ttotal: 15.8s\tremaining: 43.9s\n",
      "265:\ttotal: 15.9s\tremaining: 43.8s\n",
      "266:\ttotal: 15.9s\tremaining: 43.7s\n",
      "267:\ttotal: 16s\tremaining: 43.7s\n",
      "268:\ttotal: 16s\tremaining: 43.6s\n",
      "269:\ttotal: 16.1s\tremaining: 43.5s\n",
      "270:\ttotal: 16.2s\tremaining: 43.5s\n",
      "271:\ttotal: 16.2s\tremaining: 43.4s\n",
      "272:\ttotal: 16.3s\tremaining: 43.3s\n",
      "273:\ttotal: 16.3s\tremaining: 43.3s\n",
      "274:\ttotal: 16.4s\tremaining: 43.2s\n",
      "275:\ttotal: 16.4s\tremaining: 43.1s\n",
      "276:\ttotal: 16.5s\tremaining: 43.1s\n",
      "277:\ttotal: 16.5s\tremaining: 43s\n",
      "278:\ttotal: 16.6s\tremaining: 42.9s\n",
      "279:\ttotal: 16.7s\tremaining: 42.8s\n",
      "280:\ttotal: 16.7s\tremaining: 42.8s\n",
      "281:\ttotal: 16.8s\tremaining: 42.7s\n",
      "282:\ttotal: 16.8s\tremaining: 42.6s\n",
      "283:\ttotal: 16.9s\tremaining: 42.5s\n",
      "284:\ttotal: 16.9s\tremaining: 42.5s\n",
      "285:\ttotal: 17s\tremaining: 42.4s\n",
      "286:\ttotal: 17s\tremaining: 42.3s\n",
      "287:\ttotal: 17.1s\tremaining: 42.3s\n",
      "288:\ttotal: 17.1s\tremaining: 42.2s\n",
      "289:\ttotal: 17.2s\tremaining: 42.1s\n",
      "290:\ttotal: 17.3s\tremaining: 42.1s\n",
      "291:\ttotal: 17.3s\tremaining: 42s\n",
      "292:\ttotal: 17.4s\tremaining: 41.9s\n",
      "293:\ttotal: 17.4s\tremaining: 41.9s\n",
      "294:\ttotal: 17.5s\tremaining: 41.8s\n",
      "295:\ttotal: 17.5s\tremaining: 41.7s\n",
      "296:\ttotal: 17.6s\tremaining: 41.6s\n",
      "297:\ttotal: 17.6s\tremaining: 41.5s\n",
      "298:\ttotal: 17.7s\tremaining: 41.5s\n",
      "299:\ttotal: 17.7s\tremaining: 41.4s\n",
      "300:\ttotal: 17.8s\tremaining: 41.3s\n",
      "301:\ttotal: 17.9s\tremaining: 41.3s\n",
      "302:\ttotal: 17.9s\tremaining: 41.2s\n",
      "303:\ttotal: 18s\tremaining: 41.2s\n",
      "304:\ttotal: 18s\tremaining: 41.1s\n",
      "305:\ttotal: 18.1s\tremaining: 41s\n",
      "306:\ttotal: 18.1s\tremaining: 40.9s\n",
      "307:\ttotal: 18.2s\tremaining: 40.9s\n",
      "308:\ttotal: 18.2s\tremaining: 40.8s\n",
      "309:\ttotal: 18.3s\tremaining: 40.7s\n",
      "310:\ttotal: 18.4s\tremaining: 40.7s\n",
      "311:\ttotal: 18.4s\tremaining: 40.6s\n",
      "312:\ttotal: 18.5s\tremaining: 40.5s\n",
      "313:\ttotal: 18.5s\tremaining: 40.5s\n",
      "314:\ttotal: 18.6s\tremaining: 40.4s\n",
      "315:\ttotal: 18.6s\tremaining: 40.3s\n",
      "316:\ttotal: 18.7s\tremaining: 40.3s\n",
      "317:\ttotal: 18.7s\tremaining: 40.2s\n",
      "318:\ttotal: 18.8s\tremaining: 40.1s\n",
      "319:\ttotal: 18.8s\tremaining: 40s\n",
      "320:\ttotal: 18.9s\tremaining: 40s\n",
      "321:\ttotal: 19s\tremaining: 39.9s\n",
      "322:\ttotal: 19s\tremaining: 39.9s\n",
      "323:\ttotal: 19.1s\tremaining: 39.8s\n",
      "324:\ttotal: 19.1s\tremaining: 39.8s\n",
      "325:\ttotal: 19.2s\tremaining: 39.7s\n",
      "326:\ttotal: 19.3s\tremaining: 39.6s\n",
      "327:\ttotal: 19.3s\tremaining: 39.6s\n",
      "328:\ttotal: 19.4s\tremaining: 39.5s\n",
      "329:\ttotal: 19.4s\tremaining: 39.5s\n",
      "330:\ttotal: 19.5s\tremaining: 39.4s\n",
      "331:\ttotal: 19.6s\tremaining: 39.4s\n",
      "332:\ttotal: 19.6s\tremaining: 39.3s\n",
      "333:\ttotal: 19.7s\tremaining: 39.2s\n",
      "334:\ttotal: 19.7s\tremaining: 39.2s\n",
      "335:\ttotal: 19.8s\tremaining: 39.1s\n",
      "336:\ttotal: 19.8s\tremaining: 39s\n",
      "337:\ttotal: 19.9s\tremaining: 39s\n",
      "338:\ttotal: 19.9s\tremaining: 38.9s\n",
      "339:\ttotal: 20s\tremaining: 38.8s\n",
      "340:\ttotal: 20s\tremaining: 38.7s\n",
      "341:\ttotal: 20.1s\tremaining: 38.7s\n",
      "342:\ttotal: 20.1s\tremaining: 38.6s\n",
      "343:\ttotal: 20.2s\tremaining: 38.5s\n",
      "344:\ttotal: 20.3s\tremaining: 38.5s\n",
      "345:\ttotal: 20.3s\tremaining: 38.4s\n",
      "346:\ttotal: 20.4s\tremaining: 38.4s\n",
      "347:\ttotal: 20.4s\tremaining: 38.3s\n",
      "348:\ttotal: 20.5s\tremaining: 38.2s\n",
      "349:\ttotal: 20.6s\tremaining: 38.2s\n",
      "350:\ttotal: 20.6s\tremaining: 38.1s\n",
      "351:\ttotal: 20.7s\tremaining: 38.1s\n",
      "352:\ttotal: 20.7s\tremaining: 38s\n",
      "353:\ttotal: 20.8s\tremaining: 37.9s\n",
      "354:\ttotal: 20.8s\tremaining: 37.9s\n",
      "355:\ttotal: 20.9s\tremaining: 37.8s\n",
      "356:\ttotal: 21s\tremaining: 37.7s\n",
      "357:\ttotal: 21s\tremaining: 37.7s\n",
      "358:\ttotal: 21.1s\tremaining: 37.6s\n",
      "359:\ttotal: 21.1s\tremaining: 37.5s\n",
      "360:\ttotal: 21.2s\tremaining: 37.5s\n",
      "361:\ttotal: 21.2s\tremaining: 37.4s\n",
      "362:\ttotal: 21.3s\tremaining: 37.4s\n",
      "363:\ttotal: 21.3s\tremaining: 37.3s\n",
      "364:\ttotal: 21.4s\tremaining: 37.2s\n",
      "365:\ttotal: 21.5s\tremaining: 37.2s\n",
      "366:\ttotal: 21.5s\tremaining: 37.1s\n",
      "367:\ttotal: 21.6s\tremaining: 37s\n",
      "368:\ttotal: 21.6s\tremaining: 37s\n",
      "369:\ttotal: 21.7s\tremaining: 36.9s\n",
      "370:\ttotal: 21.7s\tremaining: 36.9s\n",
      "371:\ttotal: 21.8s\tremaining: 36.8s\n",
      "372:\ttotal: 21.9s\tremaining: 36.7s\n",
      "373:\ttotal: 21.9s\tremaining: 36.7s\n",
      "374:\ttotal: 22s\tremaining: 36.6s\n",
      "375:\ttotal: 22s\tremaining: 36.5s\n",
      "376:\ttotal: 22.1s\tremaining: 36.5s\n",
      "377:\ttotal: 22.1s\tremaining: 36.4s\n",
      "378:\ttotal: 22.2s\tremaining: 36.4s\n",
      "379:\ttotal: 22.2s\tremaining: 36.3s\n",
      "380:\ttotal: 22.3s\tremaining: 36.2s\n",
      "381:\ttotal: 22.4s\tremaining: 36.2s\n",
      "382:\ttotal: 22.4s\tremaining: 36.1s\n",
      "383:\ttotal: 22.5s\tremaining: 36s\n",
      "384:\ttotal: 22.5s\tremaining: 36s\n",
      "385:\ttotal: 22.6s\tremaining: 35.9s\n",
      "386:\ttotal: 22.6s\tremaining: 35.8s\n",
      "387:\ttotal: 22.7s\tremaining: 35.8s\n",
      "388:\ttotal: 22.7s\tremaining: 35.7s\n",
      "389:\ttotal: 22.8s\tremaining: 35.6s\n",
      "390:\ttotal: 22.8s\tremaining: 35.6s\n",
      "391:\ttotal: 22.9s\tremaining: 35.5s\n",
      "392:\ttotal: 23s\tremaining: 35.5s\n",
      "393:\ttotal: 23s\tremaining: 35.4s\n",
      "394:\ttotal: 23.1s\tremaining: 35.3s\n",
      "395:\ttotal: 23.1s\tremaining: 35.3s\n",
      "396:\ttotal: 23.2s\tremaining: 35.2s\n",
      "397:\ttotal: 23.2s\tremaining: 35.1s\n",
      "398:\ttotal: 23.3s\tremaining: 35.1s\n",
      "399:\ttotal: 23.3s\tremaining: 35s\n",
      "400:\ttotal: 23.4s\tremaining: 35s\n",
      "401:\ttotal: 23.5s\tremaining: 34.9s\n",
      "402:\ttotal: 23.5s\tremaining: 34.8s\n",
      "403:\ttotal: 23.6s\tremaining: 34.8s\n",
      "404:\ttotal: 23.6s\tremaining: 34.7s\n",
      "405:\ttotal: 23.7s\tremaining: 34.6s\n",
      "406:\ttotal: 23.7s\tremaining: 34.6s\n",
      "407:\ttotal: 23.8s\tremaining: 34.5s\n",
      "408:\ttotal: 23.8s\tremaining: 34.5s\n",
      "409:\ttotal: 23.9s\tremaining: 34.4s\n",
      "410:\ttotal: 24s\tremaining: 34.3s\n",
      "411:\ttotal: 24s\tremaining: 34.3s\n",
      "412:\ttotal: 24.1s\tremaining: 34.2s\n",
      "413:\ttotal: 24.1s\tremaining: 34.1s\n",
      "414:\ttotal: 24.2s\tremaining: 34.1s\n",
      "415:\ttotal: 24.3s\tremaining: 34s\n",
      "416:\ttotal: 24.3s\tremaining: 34s\n",
      "417:\ttotal: 24.4s\tremaining: 33.9s\n",
      "418:\ttotal: 24.4s\tremaining: 33.9s\n",
      "419:\ttotal: 24.5s\tremaining: 33.8s\n",
      "420:\ttotal: 24.5s\tremaining: 33.7s\n",
      "421:\ttotal: 24.6s\tremaining: 33.7s\n",
      "422:\ttotal: 24.6s\tremaining: 33.6s\n",
      "423:\ttotal: 24.7s\tremaining: 33.6s\n",
      "424:\ttotal: 24.8s\tremaining: 33.5s\n",
      "425:\ttotal: 24.8s\tremaining: 33.4s\n",
      "426:\ttotal: 24.9s\tremaining: 33.4s\n",
      "427:\ttotal: 24.9s\tremaining: 33.3s\n",
      "428:\ttotal: 25s\tremaining: 33.2s\n",
      "429:\ttotal: 25s\tremaining: 33.2s\n",
      "430:\ttotal: 25.1s\tremaining: 33.1s\n",
      "431:\ttotal: 25.1s\tremaining: 33.1s\n",
      "432:\ttotal: 25.2s\tremaining: 33s\n",
      "433:\ttotal: 25.3s\tremaining: 32.9s\n",
      "434:\ttotal: 25.3s\tremaining: 32.9s\n",
      "435:\ttotal: 25.4s\tremaining: 32.8s\n",
      "436:\ttotal: 25.4s\tremaining: 32.7s\n",
      "437:\ttotal: 25.5s\tremaining: 32.7s\n",
      "438:\ttotal: 25.5s\tremaining: 32.6s\n",
      "439:\ttotal: 25.6s\tremaining: 32.6s\n",
      "440:\ttotal: 25.6s\tremaining: 32.5s\n",
      "441:\ttotal: 25.7s\tremaining: 32.4s\n",
      "442:\ttotal: 25.7s\tremaining: 32.4s\n",
      "443:\ttotal: 25.8s\tremaining: 32.3s\n",
      "444:\ttotal: 25.9s\tremaining: 32.3s\n",
      "445:\ttotal: 25.9s\tremaining: 32.2s\n",
      "446:\ttotal: 26s\tremaining: 32.1s\n",
      "447:\ttotal: 26s\tremaining: 32s\n",
      "448:\ttotal: 26.1s\tremaining: 32s\n",
      "449:\ttotal: 26.1s\tremaining: 31.9s\n",
      "450:\ttotal: 26.2s\tremaining: 31.9s\n",
      "451:\ttotal: 26.3s\tremaining: 31.8s\n",
      "452:\ttotal: 26.3s\tremaining: 31.8s\n",
      "453:\ttotal: 26.4s\tremaining: 31.7s\n",
      "454:\ttotal: 26.4s\tremaining: 31.6s\n",
      "455:\ttotal: 26.5s\tremaining: 31.6s\n",
      "456:\ttotal: 26.5s\tremaining: 31.5s\n",
      "457:\ttotal: 26.6s\tremaining: 31.5s\n",
      "458:\ttotal: 26.6s\tremaining: 31.4s\n",
      "459:\ttotal: 26.7s\tremaining: 31.3s\n",
      "460:\ttotal: 26.7s\tremaining: 31.3s\n",
      "461:\ttotal: 26.8s\tremaining: 31.2s\n",
      "462:\ttotal: 26.9s\tremaining: 31.1s\n",
      "463:\ttotal: 26.9s\tremaining: 31.1s\n",
      "464:\ttotal: 27s\tremaining: 31s\n",
      "465:\ttotal: 27s\tremaining: 31s\n",
      "466:\ttotal: 27.1s\tremaining: 30.9s\n",
      "467:\ttotal: 27.1s\tremaining: 30.9s\n",
      "468:\ttotal: 27.2s\tremaining: 30.8s\n",
      "469:\ttotal: 27.3s\tremaining: 30.7s\n",
      "470:\ttotal: 27.3s\tremaining: 30.7s\n",
      "471:\ttotal: 27.4s\tremaining: 30.6s\n",
      "472:\ttotal: 27.4s\tremaining: 30.5s\n",
      "473:\ttotal: 27.5s\tremaining: 30.5s\n",
      "474:\ttotal: 27.5s\tremaining: 30.4s\n",
      "475:\ttotal: 27.6s\tremaining: 30.4s\n",
      "476:\ttotal: 27.6s\tremaining: 30.3s\n",
      "477:\ttotal: 27.7s\tremaining: 30.2s\n",
      "478:\ttotal: 27.7s\tremaining: 30.2s\n",
      "479:\ttotal: 27.8s\tremaining: 30.1s\n",
      "480:\ttotal: 27.8s\tremaining: 30s\n",
      "481:\ttotal: 27.9s\tremaining: 30s\n"
     ]
    },
    {
     "name": "stdout",
     "output_type": "stream",
     "text": [
      "482:\ttotal: 28s\tremaining: 29.9s\n",
      "483:\ttotal: 28s\tremaining: 29.9s\n",
      "484:\ttotal: 28.1s\tremaining: 29.8s\n",
      "485:\ttotal: 28.1s\tremaining: 29.8s\n",
      "486:\ttotal: 28.2s\tremaining: 29.7s\n",
      "487:\ttotal: 28.2s\tremaining: 29.6s\n",
      "488:\ttotal: 28.3s\tremaining: 29.6s\n",
      "489:\ttotal: 28.3s\tremaining: 29.5s\n",
      "490:\ttotal: 28.4s\tremaining: 29.4s\n",
      "491:\ttotal: 28.5s\tremaining: 29.4s\n",
      "492:\ttotal: 28.5s\tremaining: 29.3s\n",
      "493:\ttotal: 28.6s\tremaining: 29.3s\n",
      "494:\ttotal: 28.6s\tremaining: 29.2s\n",
      "495:\ttotal: 28.7s\tremaining: 29.2s\n",
      "496:\ttotal: 28.8s\tremaining: 29.1s\n",
      "497:\ttotal: 28.8s\tremaining: 29.1s\n",
      "498:\ttotal: 28.9s\tremaining: 29s\n",
      "499:\ttotal: 28.9s\tremaining: 28.9s\n",
      "500:\ttotal: 29s\tremaining: 28.9s\n",
      "501:\ttotal: 29s\tremaining: 28.8s\n",
      "502:\ttotal: 29.1s\tremaining: 28.7s\n",
      "503:\ttotal: 29.1s\tremaining: 28.7s\n",
      "504:\ttotal: 29.2s\tremaining: 28.6s\n",
      "505:\ttotal: 29.2s\tremaining: 28.6s\n",
      "506:\ttotal: 29.3s\tremaining: 28.5s\n",
      "507:\ttotal: 29.4s\tremaining: 28.4s\n",
      "508:\ttotal: 29.4s\tremaining: 28.4s\n",
      "509:\ttotal: 29.5s\tremaining: 28.3s\n",
      "510:\ttotal: 29.5s\tremaining: 28.3s\n",
      "511:\ttotal: 29.6s\tremaining: 28.2s\n",
      "512:\ttotal: 29.6s\tremaining: 28.1s\n",
      "513:\ttotal: 29.7s\tremaining: 28.1s\n",
      "514:\ttotal: 29.8s\tremaining: 28s\n",
      "515:\ttotal: 29.8s\tremaining: 28s\n",
      "516:\ttotal: 29.9s\tremaining: 27.9s\n",
      "517:\ttotal: 29.9s\tremaining: 27.8s\n",
      "518:\ttotal: 30s\tremaining: 27.8s\n",
      "519:\ttotal: 30s\tremaining: 27.7s\n",
      "520:\ttotal: 30.1s\tremaining: 27.6s\n",
      "521:\ttotal: 30.1s\tremaining: 27.6s\n",
      "522:\ttotal: 30.2s\tremaining: 27.5s\n",
      "523:\ttotal: 30.2s\tremaining: 27.5s\n",
      "524:\ttotal: 30.3s\tremaining: 27.4s\n",
      "525:\ttotal: 30.3s\tremaining: 27.3s\n",
      "526:\ttotal: 30.4s\tremaining: 27.3s\n",
      "527:\ttotal: 30.5s\tremaining: 27.2s\n",
      "528:\ttotal: 30.5s\tremaining: 27.2s\n",
      "529:\ttotal: 30.6s\tremaining: 27.1s\n",
      "530:\ttotal: 30.6s\tremaining: 27.1s\n",
      "531:\ttotal: 30.7s\tremaining: 27s\n",
      "532:\ttotal: 30.7s\tremaining: 26.9s\n",
      "533:\ttotal: 30.8s\tremaining: 26.9s\n",
      "534:\ttotal: 30.9s\tremaining: 26.8s\n",
      "535:\ttotal: 30.9s\tremaining: 26.8s\n",
      "536:\ttotal: 31s\tremaining: 26.7s\n",
      "537:\ttotal: 31s\tremaining: 26.7s\n",
      "538:\ttotal: 31.1s\tremaining: 26.6s\n",
      "539:\ttotal: 31.1s\tremaining: 26.5s\n",
      "540:\ttotal: 31.2s\tremaining: 26.5s\n",
      "541:\ttotal: 31.2s\tremaining: 26.4s\n",
      "542:\ttotal: 31.3s\tremaining: 26.4s\n",
      "543:\ttotal: 31.4s\tremaining: 26.3s\n",
      "544:\ttotal: 31.4s\tremaining: 26.2s\n",
      "545:\ttotal: 31.5s\tremaining: 26.2s\n",
      "546:\ttotal: 31.5s\tremaining: 26.1s\n",
      "547:\ttotal: 31.6s\tremaining: 26.1s\n",
      "548:\ttotal: 31.6s\tremaining: 26s\n",
      "549:\ttotal: 31.7s\tremaining: 25.9s\n",
      "550:\ttotal: 31.7s\tremaining: 25.9s\n",
      "551:\ttotal: 31.8s\tremaining: 25.8s\n",
      "552:\ttotal: 31.9s\tremaining: 25.7s\n",
      "553:\ttotal: 31.9s\tremaining: 25.7s\n",
      "554:\ttotal: 32s\tremaining: 25.6s\n",
      "555:\ttotal: 32s\tremaining: 25.6s\n",
      "556:\ttotal: 32.1s\tremaining: 25.5s\n",
      "557:\ttotal: 32.1s\tremaining: 25.5s\n",
      "558:\ttotal: 32.2s\tremaining: 25.4s\n",
      "559:\ttotal: 32.3s\tremaining: 25.3s\n",
      "560:\ttotal: 32.3s\tremaining: 25.3s\n",
      "561:\ttotal: 32.4s\tremaining: 25.2s\n",
      "562:\ttotal: 32.4s\tremaining: 25.2s\n",
      "563:\ttotal: 32.5s\tremaining: 25.1s\n",
      "564:\ttotal: 32.5s\tremaining: 25s\n",
      "565:\ttotal: 32.6s\tremaining: 25s\n",
      "566:\ttotal: 32.6s\tremaining: 24.9s\n",
      "567:\ttotal: 32.7s\tremaining: 24.9s\n",
      "568:\ttotal: 32.7s\tremaining: 24.8s\n",
      "569:\ttotal: 32.8s\tremaining: 24.7s\n",
      "570:\ttotal: 32.9s\tremaining: 24.7s\n",
      "571:\ttotal: 32.9s\tremaining: 24.6s\n",
      "572:\ttotal: 33s\tremaining: 24.6s\n",
      "573:\ttotal: 33s\tremaining: 24.5s\n",
      "574:\ttotal: 33.1s\tremaining: 24.5s\n",
      "575:\ttotal: 33.1s\tremaining: 24.4s\n",
      "576:\ttotal: 33.2s\tremaining: 24.3s\n",
      "577:\ttotal: 33.2s\tremaining: 24.3s\n",
      "578:\ttotal: 33.3s\tremaining: 24.2s\n",
      "579:\ttotal: 33.4s\tremaining: 24.2s\n",
      "580:\ttotal: 33.4s\tremaining: 24.1s\n",
      "581:\ttotal: 33.5s\tremaining: 24s\n",
      "582:\ttotal: 33.5s\tremaining: 24s\n",
      "583:\ttotal: 33.6s\tremaining: 23.9s\n",
      "584:\ttotal: 33.6s\tremaining: 23.9s\n",
      "585:\ttotal: 33.7s\tremaining: 23.8s\n",
      "586:\ttotal: 33.8s\tremaining: 23.7s\n",
      "587:\ttotal: 33.8s\tremaining: 23.7s\n",
      "588:\ttotal: 33.9s\tremaining: 23.6s\n",
      "589:\ttotal: 33.9s\tremaining: 23.6s\n",
      "590:\ttotal: 34s\tremaining: 23.5s\n",
      "591:\ttotal: 34s\tremaining: 23.5s\n",
      "592:\ttotal: 34.1s\tremaining: 23.4s\n",
      "593:\ttotal: 34.1s\tremaining: 23.3s\n",
      "594:\ttotal: 34.2s\tremaining: 23.3s\n",
      "595:\ttotal: 34.3s\tremaining: 23.2s\n",
      "596:\ttotal: 34.3s\tremaining: 23.2s\n",
      "597:\ttotal: 34.4s\tremaining: 23.1s\n",
      "598:\ttotal: 34.4s\tremaining: 23.1s\n",
      "599:\ttotal: 34.5s\tremaining: 23s\n",
      "600:\ttotal: 34.5s\tremaining: 22.9s\n",
      "601:\ttotal: 34.6s\tremaining: 22.9s\n",
      "602:\ttotal: 34.7s\tremaining: 22.8s\n",
      "603:\ttotal: 34.7s\tremaining: 22.8s\n",
      "604:\ttotal: 34.8s\tremaining: 22.7s\n",
      "605:\ttotal: 34.8s\tremaining: 22.7s\n",
      "606:\ttotal: 34.9s\tremaining: 22.6s\n",
      "607:\ttotal: 35s\tremaining: 22.5s\n",
      "608:\ttotal: 35s\tremaining: 22.5s\n",
      "609:\ttotal: 35.1s\tremaining: 22.4s\n",
      "610:\ttotal: 35.1s\tremaining: 22.4s\n",
      "611:\ttotal: 35.2s\tremaining: 22.3s\n",
      "612:\ttotal: 35.2s\tremaining: 22.2s\n",
      "613:\ttotal: 35.3s\tremaining: 22.2s\n",
      "614:\ttotal: 35.3s\tremaining: 22.1s\n",
      "615:\ttotal: 35.4s\tremaining: 22.1s\n",
      "616:\ttotal: 35.4s\tremaining: 22s\n",
      "617:\ttotal: 35.5s\tremaining: 21.9s\n",
      "618:\ttotal: 35.6s\tremaining: 21.9s\n",
      "619:\ttotal: 35.6s\tremaining: 21.8s\n",
      "620:\ttotal: 35.7s\tremaining: 21.8s\n",
      "621:\ttotal: 35.7s\tremaining: 21.7s\n",
      "622:\ttotal: 35.8s\tremaining: 21.7s\n",
      "623:\ttotal: 35.8s\tremaining: 21.6s\n",
      "624:\ttotal: 35.9s\tremaining: 21.5s\n",
      "625:\ttotal: 35.9s\tremaining: 21.5s\n",
      "626:\ttotal: 36s\tremaining: 21.4s\n",
      "627:\ttotal: 36s\tremaining: 21.4s\n",
      "628:\ttotal: 36.1s\tremaining: 21.3s\n",
      "629:\ttotal: 36.1s\tremaining: 21.2s\n",
      "630:\ttotal: 36.2s\tremaining: 21.2s\n",
      "631:\ttotal: 36.2s\tremaining: 21.1s\n",
      "632:\ttotal: 36.3s\tremaining: 21.1s\n",
      "633:\ttotal: 36.4s\tremaining: 21s\n",
      "634:\ttotal: 36.4s\tremaining: 20.9s\n",
      "635:\ttotal: 36.5s\tremaining: 20.9s\n",
      "636:\ttotal: 36.5s\tremaining: 20.8s\n",
      "637:\ttotal: 36.6s\tremaining: 20.8s\n",
      "638:\ttotal: 36.7s\tremaining: 20.7s\n",
      "639:\ttotal: 36.7s\tremaining: 20.6s\n",
      "640:\ttotal: 36.8s\tremaining: 20.6s\n",
      "641:\ttotal: 36.8s\tremaining: 20.5s\n",
      "642:\ttotal: 36.9s\tremaining: 20.5s\n",
      "643:\ttotal: 36.9s\tremaining: 20.4s\n",
      "644:\ttotal: 37s\tremaining: 20.4s\n",
      "645:\ttotal: 37s\tremaining: 20.3s\n",
      "646:\ttotal: 37.1s\tremaining: 20.2s\n",
      "647:\ttotal: 37.2s\tremaining: 20.2s\n",
      "648:\ttotal: 37.2s\tremaining: 20.1s\n",
      "649:\ttotal: 37.3s\tremaining: 20.1s\n",
      "650:\ttotal: 37.3s\tremaining: 20s\n",
      "651:\ttotal: 37.4s\tremaining: 20s\n",
      "652:\ttotal: 37.5s\tremaining: 19.9s\n",
      "653:\ttotal: 37.5s\tremaining: 19.8s\n",
      "654:\ttotal: 37.6s\tremaining: 19.8s\n",
      "655:\ttotal: 37.6s\tremaining: 19.7s\n",
      "656:\ttotal: 37.7s\tremaining: 19.7s\n",
      "657:\ttotal: 37.7s\tremaining: 19.6s\n",
      "658:\ttotal: 37.8s\tremaining: 19.5s\n",
      "659:\ttotal: 37.8s\tremaining: 19.5s\n",
      "660:\ttotal: 37.9s\tremaining: 19.4s\n",
      "661:\ttotal: 38s\tremaining: 19.4s\n",
      "662:\ttotal: 38s\tremaining: 19.3s\n",
      "663:\ttotal: 38.1s\tremaining: 19.3s\n",
      "664:\ttotal: 38.1s\tremaining: 19.2s\n",
      "665:\ttotal: 38.2s\tremaining: 19.1s\n",
      "666:\ttotal: 38.2s\tremaining: 19.1s\n",
      "667:\ttotal: 38.3s\tremaining: 19s\n",
      "668:\ttotal: 38.3s\tremaining: 19s\n",
      "669:\ttotal: 38.4s\tremaining: 18.9s\n",
      "670:\ttotal: 38.5s\tremaining: 18.9s\n",
      "671:\ttotal: 38.5s\tremaining: 18.8s\n",
      "672:\ttotal: 38.6s\tremaining: 18.7s\n",
      "673:\ttotal: 38.6s\tremaining: 18.7s\n",
      "674:\ttotal: 38.7s\tremaining: 18.6s\n",
      "675:\ttotal: 38.7s\tremaining: 18.6s\n",
      "676:\ttotal: 38.8s\tremaining: 18.5s\n",
      "677:\ttotal: 38.8s\tremaining: 18.4s\n",
      "678:\ttotal: 38.9s\tremaining: 18.4s\n",
      "679:\ttotal: 39s\tremaining: 18.3s\n",
      "680:\ttotal: 39s\tremaining: 18.3s\n",
      "681:\ttotal: 39.1s\tremaining: 18.2s\n",
      "682:\ttotal: 39.1s\tremaining: 18.2s\n",
      "683:\ttotal: 39.2s\tremaining: 18.1s\n",
      "684:\ttotal: 39.2s\tremaining: 18s\n",
      "685:\ttotal: 39.3s\tremaining: 18s\n",
      "686:\ttotal: 39.3s\tremaining: 17.9s\n",
      "687:\ttotal: 39.4s\tremaining: 17.9s\n",
      "688:\ttotal: 39.4s\tremaining: 17.8s\n",
      "689:\ttotal: 39.5s\tremaining: 17.7s\n",
      "690:\ttotal: 39.5s\tremaining: 17.7s\n",
      "691:\ttotal: 39.6s\tremaining: 17.6s\n",
      "692:\ttotal: 39.7s\tremaining: 17.6s\n",
      "693:\ttotal: 39.7s\tremaining: 17.5s\n",
      "694:\ttotal: 39.8s\tremaining: 17.5s\n",
      "695:\ttotal: 39.8s\tremaining: 17.4s\n",
      "696:\ttotal: 39.9s\tremaining: 17.3s\n",
      "697:\ttotal: 39.9s\tremaining: 17.3s\n",
      "698:\ttotal: 40s\tremaining: 17.2s\n",
      "699:\ttotal: 40.1s\tremaining: 17.2s\n",
      "700:\ttotal: 40.1s\tremaining: 17.1s\n",
      "701:\ttotal: 40.2s\tremaining: 17.1s\n",
      "702:\ttotal: 40.2s\tremaining: 17s\n",
      "703:\ttotal: 40.3s\tremaining: 16.9s\n",
      "704:\ttotal: 40.3s\tremaining: 16.9s\n",
      "705:\ttotal: 40.4s\tremaining: 16.8s\n",
      "706:\ttotal: 40.4s\tremaining: 16.8s\n",
      "707:\ttotal: 40.5s\tremaining: 16.7s\n",
      "708:\ttotal: 40.5s\tremaining: 16.6s\n",
      "709:\ttotal: 40.6s\tremaining: 16.6s\n",
      "710:\ttotal: 40.6s\tremaining: 16.5s\n",
      "711:\ttotal: 40.7s\tremaining: 16.5s\n",
      "712:\ttotal: 40.8s\tremaining: 16.4s\n",
      "713:\ttotal: 40.8s\tremaining: 16.3s\n",
      "714:\ttotal: 40.9s\tremaining: 16.3s\n",
      "715:\ttotal: 40.9s\tremaining: 16.2s\n",
      "716:\ttotal: 41s\tremaining: 16.2s\n",
      "717:\ttotal: 41s\tremaining: 16.1s\n",
      "718:\ttotal: 41.1s\tremaining: 16.1s\n",
      "719:\ttotal: 41.1s\tremaining: 16s\n",
      "720:\ttotal: 41.2s\tremaining: 15.9s\n"
     ]
    },
    {
     "name": "stdout",
     "output_type": "stream",
     "text": [
      "721:\ttotal: 41.3s\tremaining: 15.9s\n",
      "722:\ttotal: 41.3s\tremaining: 15.8s\n",
      "723:\ttotal: 41.4s\tremaining: 15.8s\n",
      "724:\ttotal: 41.4s\tremaining: 15.7s\n",
      "725:\ttotal: 41.5s\tremaining: 15.7s\n",
      "726:\ttotal: 41.5s\tremaining: 15.6s\n",
      "727:\ttotal: 41.6s\tremaining: 15.5s\n",
      "728:\ttotal: 41.6s\tremaining: 15.5s\n",
      "729:\ttotal: 41.7s\tremaining: 15.4s\n",
      "730:\ttotal: 41.7s\tremaining: 15.4s\n",
      "731:\ttotal: 41.8s\tremaining: 15.3s\n",
      "732:\ttotal: 41.8s\tremaining: 15.2s\n",
      "733:\ttotal: 41.9s\tremaining: 15.2s\n",
      "734:\ttotal: 42s\tremaining: 15.1s\n",
      "735:\ttotal: 42s\tremaining: 15.1s\n",
      "736:\ttotal: 42.1s\tremaining: 15s\n",
      "737:\ttotal: 42.1s\tremaining: 15s\n",
      "738:\ttotal: 42.2s\tremaining: 14.9s\n",
      "739:\ttotal: 42.2s\tremaining: 14.8s\n",
      "740:\ttotal: 42.3s\tremaining: 14.8s\n",
      "741:\ttotal: 42.3s\tremaining: 14.7s\n",
      "742:\ttotal: 42.4s\tremaining: 14.7s\n",
      "743:\ttotal: 42.5s\tremaining: 14.6s\n",
      "744:\ttotal: 42.5s\tremaining: 14.6s\n",
      "745:\ttotal: 42.6s\tremaining: 14.5s\n",
      "746:\ttotal: 42.6s\tremaining: 14.4s\n",
      "747:\ttotal: 42.7s\tremaining: 14.4s\n",
      "748:\ttotal: 42.7s\tremaining: 14.3s\n",
      "749:\ttotal: 42.8s\tremaining: 14.3s\n",
      "750:\ttotal: 42.8s\tremaining: 14.2s\n",
      "751:\ttotal: 42.9s\tremaining: 14.1s\n",
      "752:\ttotal: 43s\tremaining: 14.1s\n",
      "753:\ttotal: 43s\tremaining: 14s\n",
      "754:\ttotal: 43.1s\tremaining: 14s\n",
      "755:\ttotal: 43.1s\tremaining: 13.9s\n",
      "756:\ttotal: 43.2s\tremaining: 13.9s\n",
      "757:\ttotal: 43.2s\tremaining: 13.8s\n",
      "758:\ttotal: 43.3s\tremaining: 13.7s\n",
      "759:\ttotal: 43.4s\tremaining: 13.7s\n",
      "760:\ttotal: 43.4s\tremaining: 13.6s\n",
      "761:\ttotal: 43.5s\tremaining: 13.6s\n",
      "762:\ttotal: 43.5s\tremaining: 13.5s\n",
      "763:\ttotal: 43.6s\tremaining: 13.5s\n",
      "764:\ttotal: 43.6s\tremaining: 13.4s\n",
      "765:\ttotal: 43.7s\tremaining: 13.3s\n",
      "766:\ttotal: 43.8s\tremaining: 13.3s\n",
      "767:\ttotal: 43.8s\tremaining: 13.2s\n",
      "768:\ttotal: 43.9s\tremaining: 13.2s\n",
      "769:\ttotal: 43.9s\tremaining: 13.1s\n",
      "770:\ttotal: 44s\tremaining: 13.1s\n",
      "771:\ttotal: 44s\tremaining: 13s\n",
      "772:\ttotal: 44.1s\tremaining: 12.9s\n",
      "773:\ttotal: 44.1s\tremaining: 12.9s\n",
      "774:\ttotal: 44.2s\tremaining: 12.8s\n",
      "775:\ttotal: 44.2s\tremaining: 12.8s\n",
      "776:\ttotal: 44.3s\tremaining: 12.7s\n",
      "777:\ttotal: 44.3s\tremaining: 12.7s\n",
      "778:\ttotal: 44.4s\tremaining: 12.6s\n",
      "779:\ttotal: 44.4s\tremaining: 12.5s\n",
      "780:\ttotal: 44.5s\tremaining: 12.5s\n",
      "781:\ttotal: 44.6s\tremaining: 12.4s\n",
      "782:\ttotal: 44.6s\tremaining: 12.4s\n",
      "783:\ttotal: 44.7s\tremaining: 12.3s\n",
      "784:\ttotal: 44.7s\tremaining: 12.3s\n",
      "785:\ttotal: 44.8s\tremaining: 12.2s\n",
      "786:\ttotal: 44.8s\tremaining: 12.1s\n",
      "787:\ttotal: 44.9s\tremaining: 12.1s\n",
      "788:\ttotal: 44.9s\tremaining: 12s\n",
      "789:\ttotal: 45s\tremaining: 12s\n",
      "790:\ttotal: 45.1s\tremaining: 11.9s\n",
      "791:\ttotal: 45.1s\tremaining: 11.8s\n",
      "792:\ttotal: 45.2s\tremaining: 11.8s\n",
      "793:\ttotal: 45.2s\tremaining: 11.7s\n",
      "794:\ttotal: 45.3s\tremaining: 11.7s\n",
      "795:\ttotal: 45.3s\tremaining: 11.6s\n",
      "796:\ttotal: 45.4s\tremaining: 11.6s\n",
      "797:\ttotal: 45.4s\tremaining: 11.5s\n",
      "798:\ttotal: 45.5s\tremaining: 11.4s\n",
      "799:\ttotal: 45.5s\tremaining: 11.4s\n",
      "800:\ttotal: 45.6s\tremaining: 11.3s\n",
      "801:\ttotal: 45.7s\tremaining: 11.3s\n",
      "802:\ttotal: 45.7s\tremaining: 11.2s\n",
      "803:\ttotal: 45.8s\tremaining: 11.2s\n",
      "804:\ttotal: 45.8s\tremaining: 11.1s\n",
      "805:\ttotal: 45.9s\tremaining: 11s\n",
      "806:\ttotal: 45.9s\tremaining: 11s\n",
      "807:\ttotal: 46s\tremaining: 10.9s\n",
      "808:\ttotal: 46.1s\tremaining: 10.9s\n",
      "809:\ttotal: 46.1s\tremaining: 10.8s\n",
      "810:\ttotal: 46.2s\tremaining: 10.8s\n",
      "811:\ttotal: 46.2s\tremaining: 10.7s\n",
      "812:\ttotal: 46.3s\tremaining: 10.6s\n",
      "813:\ttotal: 46.3s\tremaining: 10.6s\n",
      "814:\ttotal: 46.4s\tremaining: 10.5s\n",
      "815:\ttotal: 46.4s\tremaining: 10.5s\n",
      "816:\ttotal: 46.5s\tremaining: 10.4s\n",
      "817:\ttotal: 46.5s\tremaining: 10.4s\n",
      "818:\ttotal: 46.6s\tremaining: 10.3s\n",
      "819:\ttotal: 46.7s\tremaining: 10.2s\n",
      "820:\ttotal: 46.7s\tremaining: 10.2s\n",
      "821:\ttotal: 46.8s\tremaining: 10.1s\n",
      "822:\ttotal: 46.8s\tremaining: 10.1s\n",
      "823:\ttotal: 46.9s\tremaining: 10s\n",
      "824:\ttotal: 47s\tremaining: 9.96s\n",
      "825:\ttotal: 47s\tremaining: 9.91s\n",
      "826:\ttotal: 47.1s\tremaining: 9.85s\n",
      "827:\ttotal: 47.1s\tremaining: 9.79s\n",
      "828:\ttotal: 47.2s\tremaining: 9.73s\n",
      "829:\ttotal: 47.2s\tremaining: 9.68s\n",
      "830:\ttotal: 47.3s\tremaining: 9.62s\n",
      "831:\ttotal: 47.3s\tremaining: 9.56s\n",
      "832:\ttotal: 47.4s\tremaining: 9.5s\n",
      "833:\ttotal: 47.5s\tremaining: 9.45s\n",
      "834:\ttotal: 47.5s\tremaining: 9.39s\n",
      "835:\ttotal: 47.6s\tremaining: 9.33s\n",
      "836:\ttotal: 47.6s\tremaining: 9.27s\n",
      "837:\ttotal: 47.7s\tremaining: 9.22s\n",
      "838:\ttotal: 47.7s\tremaining: 9.16s\n",
      "839:\ttotal: 47.8s\tremaining: 9.1s\n",
      "840:\ttotal: 47.9s\tremaining: 9.05s\n",
      "841:\ttotal: 47.9s\tremaining: 8.99s\n",
      "842:\ttotal: 48s\tremaining: 8.93s\n",
      "843:\ttotal: 48s\tremaining: 8.88s\n",
      "844:\ttotal: 48.1s\tremaining: 8.82s\n",
      "845:\ttotal: 48.1s\tremaining: 8.76s\n",
      "846:\ttotal: 48.2s\tremaining: 8.7s\n",
      "847:\ttotal: 48.2s\tremaining: 8.64s\n",
      "848:\ttotal: 48.3s\tremaining: 8.59s\n",
      "849:\ttotal: 48.3s\tremaining: 8.53s\n",
      "850:\ttotal: 48.4s\tremaining: 8.47s\n",
      "851:\ttotal: 48.4s\tremaining: 8.41s\n",
      "852:\ttotal: 48.5s\tremaining: 8.35s\n",
      "853:\ttotal: 48.5s\tremaining: 8.3s\n",
      "854:\ttotal: 48.6s\tremaining: 8.24s\n",
      "855:\ttotal: 48.6s\tremaining: 8.18s\n",
      "856:\ttotal: 48.7s\tremaining: 8.12s\n",
      "857:\ttotal: 48.7s\tremaining: 8.07s\n",
      "858:\ttotal: 48.8s\tremaining: 8.01s\n",
      "859:\ttotal: 48.9s\tremaining: 7.96s\n",
      "860:\ttotal: 48.9s\tremaining: 7.9s\n",
      "861:\ttotal: 49s\tremaining: 7.84s\n",
      "862:\ttotal: 49s\tremaining: 7.78s\n",
      "863:\ttotal: 49.1s\tremaining: 7.72s\n",
      "864:\ttotal: 49.1s\tremaining: 7.67s\n",
      "865:\ttotal: 49.2s\tremaining: 7.61s\n",
      "866:\ttotal: 49.2s\tremaining: 7.55s\n",
      "867:\ttotal: 49.3s\tremaining: 7.5s\n",
      "868:\ttotal: 49.4s\tremaining: 7.44s\n",
      "869:\ttotal: 49.4s\tremaining: 7.38s\n",
      "870:\ttotal: 49.5s\tremaining: 7.33s\n",
      "871:\ttotal: 49.5s\tremaining: 7.27s\n",
      "872:\ttotal: 49.6s\tremaining: 7.21s\n",
      "873:\ttotal: 49.6s\tremaining: 7.16s\n",
      "874:\ttotal: 49.7s\tremaining: 7.1s\n",
      "875:\ttotal: 49.7s\tremaining: 7.04s\n",
      "876:\ttotal: 49.8s\tremaining: 6.98s\n",
      "877:\ttotal: 49.9s\tremaining: 6.93s\n",
      "878:\ttotal: 49.9s\tremaining: 6.87s\n",
      "879:\ttotal: 50s\tremaining: 6.81s\n",
      "880:\ttotal: 50s\tremaining: 6.76s\n",
      "881:\ttotal: 50.1s\tremaining: 6.7s\n",
      "882:\ttotal: 50.1s\tremaining: 6.64s\n",
      "883:\ttotal: 50.2s\tremaining: 6.58s\n",
      "884:\ttotal: 50.3s\tremaining: 6.53s\n",
      "885:\ttotal: 50.3s\tremaining: 6.47s\n",
      "886:\ttotal: 50.4s\tremaining: 6.41s\n",
      "887:\ttotal: 50.4s\tremaining: 6.36s\n",
      "888:\ttotal: 50.5s\tremaining: 6.3s\n",
      "889:\ttotal: 50.5s\tremaining: 6.24s\n",
      "890:\ttotal: 50.6s\tremaining: 6.19s\n",
      "891:\ttotal: 50.6s\tremaining: 6.13s\n",
      "892:\ttotal: 50.7s\tremaining: 6.07s\n",
      "893:\ttotal: 50.7s\tremaining: 6.01s\n",
      "894:\ttotal: 50.8s\tremaining: 5.96s\n",
      "895:\ttotal: 50.8s\tremaining: 5.9s\n",
      "896:\ttotal: 50.9s\tremaining: 5.84s\n",
      "897:\ttotal: 50.9s\tremaining: 5.78s\n",
      "898:\ttotal: 51s\tremaining: 5.73s\n",
      "899:\ttotal: 51s\tremaining: 5.67s\n",
      "900:\ttotal: 51.1s\tremaining: 5.61s\n",
      "901:\ttotal: 51.2s\tremaining: 5.56s\n",
      "902:\ttotal: 51.2s\tremaining: 5.5s\n",
      "903:\ttotal: 51.3s\tremaining: 5.44s\n",
      "904:\ttotal: 51.3s\tremaining: 5.39s\n",
      "905:\ttotal: 51.4s\tremaining: 5.33s\n",
      "906:\ttotal: 51.4s\tremaining: 5.27s\n",
      "907:\ttotal: 51.5s\tremaining: 5.21s\n",
      "908:\ttotal: 51.5s\tremaining: 5.16s\n",
      "909:\ttotal: 51.6s\tremaining: 5.1s\n",
      "910:\ttotal: 51.6s\tremaining: 5.04s\n",
      "911:\ttotal: 51.7s\tremaining: 4.99s\n",
      "912:\ttotal: 51.7s\tremaining: 4.93s\n",
      "913:\ttotal: 51.8s\tremaining: 4.87s\n",
      "914:\ttotal: 51.8s\tremaining: 4.82s\n",
      "915:\ttotal: 51.9s\tremaining: 4.76s\n",
      "916:\ttotal: 51.9s\tremaining: 4.7s\n",
      "917:\ttotal: 52s\tremaining: 4.64s\n",
      "918:\ttotal: 52.1s\tremaining: 4.59s\n",
      "919:\ttotal: 52.1s\tremaining: 4.53s\n",
      "920:\ttotal: 52.2s\tremaining: 4.47s\n",
      "921:\ttotal: 52.2s\tremaining: 4.42s\n",
      "922:\ttotal: 52.3s\tremaining: 4.36s\n",
      "923:\ttotal: 52.3s\tremaining: 4.3s\n",
      "924:\ttotal: 52.4s\tremaining: 4.24s\n",
      "925:\ttotal: 52.4s\tremaining: 4.19s\n",
      "926:\ttotal: 52.5s\tremaining: 4.13s\n",
      "927:\ttotal: 52.5s\tremaining: 4.07s\n",
      "928:\ttotal: 52.6s\tremaining: 4.02s\n",
      "929:\ttotal: 52.6s\tremaining: 3.96s\n",
      "930:\ttotal: 52.7s\tremaining: 3.9s\n",
      "931:\ttotal: 52.7s\tremaining: 3.85s\n",
      "932:\ttotal: 52.8s\tremaining: 3.79s\n",
      "933:\ttotal: 52.9s\tremaining: 3.73s\n",
      "934:\ttotal: 52.9s\tremaining: 3.68s\n",
      "935:\ttotal: 53s\tremaining: 3.62s\n",
      "936:\ttotal: 53s\tremaining: 3.56s\n",
      "937:\ttotal: 53.1s\tremaining: 3.51s\n",
      "938:\ttotal: 53.2s\tremaining: 3.45s\n",
      "939:\ttotal: 53.2s\tremaining: 3.4s\n",
      "940:\ttotal: 53.3s\tremaining: 3.34s\n",
      "941:\ttotal: 53.3s\tremaining: 3.28s\n",
      "942:\ttotal: 53.4s\tremaining: 3.22s\n",
      "943:\ttotal: 53.4s\tremaining: 3.17s\n",
      "944:\ttotal: 53.5s\tremaining: 3.11s\n",
      "945:\ttotal: 53.5s\tremaining: 3.05s\n",
      "946:\ttotal: 53.6s\tremaining: 3s\n",
      "947:\ttotal: 53.6s\tremaining: 2.94s\n",
      "948:\ttotal: 53.7s\tremaining: 2.88s\n",
      "949:\ttotal: 53.7s\tremaining: 2.83s\n",
      "950:\ttotal: 53.8s\tremaining: 2.77s\n",
      "951:\ttotal: 53.9s\tremaining: 2.71s\n",
      "952:\ttotal: 53.9s\tremaining: 2.66s\n",
      "953:\ttotal: 54s\tremaining: 2.6s\n",
      "954:\ttotal: 54s\tremaining: 2.54s\n",
      "955:\ttotal: 54.1s\tremaining: 2.49s\n",
      "956:\ttotal: 54.1s\tremaining: 2.43s\n",
      "957:\ttotal: 54.2s\tremaining: 2.38s\n",
      "958:\ttotal: 54.3s\tremaining: 2.32s\n",
      "959:\ttotal: 54.3s\tremaining: 2.26s\n"
     ]
    },
    {
     "name": "stdout",
     "output_type": "stream",
     "text": [
      "960:\ttotal: 54.3s\tremaining: 2.21s\n",
      "961:\ttotal: 54.4s\tremaining: 2.15s\n",
      "962:\ttotal: 54.5s\tremaining: 2.09s\n",
      "963:\ttotal: 54.5s\tremaining: 2.04s\n",
      "964:\ttotal: 54.6s\tremaining: 1.98s\n",
      "965:\ttotal: 54.6s\tremaining: 1.92s\n",
      "966:\ttotal: 54.7s\tremaining: 1.86s\n",
      "967:\ttotal: 54.7s\tremaining: 1.81s\n",
      "968:\ttotal: 54.8s\tremaining: 1.75s\n",
      "969:\ttotal: 54.8s\tremaining: 1.7s\n",
      "970:\ttotal: 54.9s\tremaining: 1.64s\n",
      "971:\ttotal: 54.9s\tremaining: 1.58s\n",
      "972:\ttotal: 55s\tremaining: 1.52s\n",
      "973:\ttotal: 55s\tremaining: 1.47s\n",
      "974:\ttotal: 55.1s\tremaining: 1.41s\n",
      "975:\ttotal: 55.1s\tremaining: 1.35s\n",
      "976:\ttotal: 55.2s\tremaining: 1.3s\n",
      "977:\ttotal: 55.2s\tremaining: 1.24s\n",
      "978:\ttotal: 55.3s\tremaining: 1.19s\n",
      "979:\ttotal: 55.3s\tremaining: 1.13s\n",
      "980:\ttotal: 55.4s\tremaining: 1.07s\n",
      "981:\ttotal: 55.4s\tremaining: 1.01s\n",
      "982:\ttotal: 55.5s\tremaining: 960ms\n",
      "983:\ttotal: 55.5s\tremaining: 903ms\n",
      "984:\ttotal: 55.6s\tremaining: 847ms\n",
      "985:\ttotal: 55.6s\tremaining: 790ms\n",
      "986:\ttotal: 55.7s\tremaining: 734ms\n",
      "987:\ttotal: 55.8s\tremaining: 677ms\n",
      "988:\ttotal: 55.8s\tremaining: 621ms\n",
      "989:\ttotal: 55.9s\tremaining: 564ms\n",
      "990:\ttotal: 55.9s\tremaining: 508ms\n",
      "991:\ttotal: 56s\tremaining: 451ms\n",
      "992:\ttotal: 56s\tremaining: 395ms\n",
      "993:\ttotal: 56.1s\tremaining: 338ms\n",
      "994:\ttotal: 56.1s\tremaining: 282ms\n",
      "995:\ttotal: 56.2s\tremaining: 226ms\n",
      "996:\ttotal: 56.2s\tremaining: 169ms\n",
      "997:\ttotal: 56.3s\tremaining: 113ms\n",
      "998:\ttotal: 56.3s\tremaining: 56.4ms\n",
      "999:\ttotal: 56.4s\tremaining: 0us\n",
      "              precision    recall  f1-score   support\n",
      "\n",
      "      normal       0.96      0.87      0.91    109687\n",
      "       toxic       0.48      0.75      0.58     17802\n",
      "\n",
      "    accuracy                           0.85    127489\n",
      "   macro avg       0.72      0.81      0.75    127489\n",
      "weighted avg       0.89      0.85      0.86    127489\n"
     ]
    }
   ],
   "source": [
    "import numpy as np\n",
    "from catboost import Pool, CatBoostClassifier\n",
    "from sklearn.utils.class_weight import compute_class_weight\n",
    "train_pool = Pool(\n",
    "    X_train, \n",
    "    y_train, \n",
    "    #feature_names=list(X_train)\n",
    ")\n",
    "valid_pool = Pool(\n",
    "    X_test, \n",
    "    y_test,\n",
    "    #feature_names=list(X_train)\n",
    ")\n",
    "catboost_params = {\n",
    "    'iterations': 1000,\n",
    "    'learning_rate': 0.01,\n",
    "    'eval_metric': 'AUC',\n",
    "    'task_type': 'GPU',\n",
    "    'early_stopping_rounds': 20,\n",
    "    #'use_best_model': True,\n",
    "    #'verbose': 50\n",
    "}\n",
    "class_weight = compute_class_weight('balanced', classes=np.unique(y), y=y)\n",
    "cat = CatBoostClassifier(**catboost_params,class_weights=class_weight)\n",
    "cat.fit(X_train,y_train)\n",
    "print(classification_report(y_test,cat.predict(X_test)))"
   ]
  },
  {
   "cell_type": "code",
   "execution_count": 9,
   "id": "bee438be",
   "metadata": {},
   "outputs": [
    {
     "name": "stdout",
     "output_type": "stream",
     "text": [
      "              precision    recall  f1-score   support\n",
      "\n",
      "      normal       0.93      0.75      0.83    109687\n",
      "       toxic       0.30      0.65      0.41     17802\n",
      "\n",
      "    accuracy                           0.74    127489\n",
      "   macro avg       0.62      0.70      0.62    127489\n",
      "weighted avg       0.84      0.74      0.77    127489\n"
     ]
    }
   ],
   "source": [
    "from sklearn.metrics import classification_report\n",
    "print(classification_report(y_test,cat.predict(X_test)))"
   ]
  },
  {
   "cell_type": "code",
   "execution_count": 10,
   "id": "6f236c01",
   "metadata": {
    "scrolled": true
   },
   "outputs": [
    {
     "ename": "NameError",
     "evalue": "name 'classification_report' is not defined",
     "output_type": "error",
     "traceback": [
      "\u001B[1;31m---------------------------------------------------------------------------\u001B[0m",
      "\u001B[1;31mNameError\u001B[0m                                 Traceback (most recent call last)",
      "Cell \u001B[1;32mIn[10], line 11\u001B[0m\n\u001B[0;32m      9\u001B[0m model \u001B[38;5;241m=\u001B[39m RandomForestClassifier()\n\u001B[0;32m     10\u001B[0m model\u001B[38;5;241m.\u001B[39mfit(X_train,y_train)\n\u001B[1;32m---> 11\u001B[0m \u001B[38;5;28mprint\u001B[39m(classification_report(y_test,model\u001B[38;5;241m.\u001B[39mpredict(X_test)))\n",
      "\u001B[1;31mNameError\u001B[0m: name 'classification_report' is not defined"
     ]
    }
   ],
   "source": [
    "import numpy as np\n",
    "from sklearn.ensemble import RandomForestClassifier\n",
    "from sklearn.utils.class_weight import compute_class_weight\n",
    "from sklearn.metrics import classification_report\n",
    "\n",
    "# Получение весов классов\n",
    "class_weights = compute_class_weight('balanced', classes=np.unique(y), y=y)\n",
    "\n",
    "# Создание модели с взвешиванием классов\n",
    "model = RandomForestClassifier()\n",
    "model.fit(X_train,y_train)\n",
    "print(classification_report(y_test,model.predict(X_test)))"
   ]
  },
  {
   "cell_type": "code",
   "execution_count": 13,
   "id": "f5ec02ed",
   "metadata": {
    "scrolled": false
   },
   "outputs": [],
   "source": [
    "from imblearn.over_sampling import SMOTE \n",
    "sm = SMOTE(random_state=42)\n",
    "\n",
    "X_train, y_train = sm.fit_resample(X_train, y_train)"
   ]
  },
  {
   "cell_type": "code",
   "execution_count": 28,
   "id": "03b2a7fb",
   "metadata": {},
   "outputs": [],
   "source": [
    "from imblearn.over_sampling import ADASYN\n",
    "adasyn = ADASYN()\n",
    "\n",
    "X_train, y_train = adasyn.fit_resample(X_train, y_train)"
   ]
  },
  {
   "cell_type": "markdown",
   "id": "b1437f23",
   "metadata": {},
   "source": [
    "# Truncated"
   ]
  },
  {
   "cell_type": "code",
   "execution_count": 37,
   "id": "4d9d1ae0",
   "metadata": {},
   "outputs": [
    {
     "name": "stdout",
     "output_type": "stream",
     "text": [
      "              precision    recall  f1-score   support\n",
      "\n",
      "      normal       0.90      0.50      0.65    109687\n",
      "       toxic       0.18      0.67      0.28     17802\n",
      "\n",
      "    accuracy                           0.53    127489\n",
      "   macro avg       0.54      0.59      0.47    127489\n",
      "weighted avg       0.80      0.53      0.60    127489\n",
      "\n",
      "              precision    recall  f1-score   support\n",
      "\n",
      "      normal       0.87      0.99      0.93    109687\n",
      "       toxic       0.64      0.07      0.13     17802\n",
      "\n",
      "    accuracy                           0.86    127489\n",
      "   macro avg       0.75      0.53      0.53    127489\n",
      "weighted avg       0.84      0.86      0.82    127489\n"
     ]
    }
   ],
   "source": [
    "from sklearn.naive_bayes import MultinomialNB, GaussianNB, BernoulliNB\n",
    "from sklearn.metrics import classification_report\n",
    "\n",
    "clf2 = GaussianNB()\n",
    "clf3 = BernoulliNB()\n",
    "\n",
    "clf2.fit(X_train,y_train)\n",
    "clf3.fit(X_train,y_train)\n",
    "print(classification_report(y_test,clf2.predict(X_test)),classification_report(y_test,clf3.predict(X_test)),sep = '\\n')"
   ]
  },
  {
   "cell_type": "markdown",
   "id": "392bfb03",
   "metadata": {},
   "source": [
    "# Sparced"
   ]
  },
  {
   "cell_type": "code",
   "execution_count": 23,
   "id": "c7172aaf",
   "metadata": {
    "scrolled": true
   },
   "outputs": [
    {
     "data": {
      "text/html": [
       "<style>#sk-container-id-1 {color: black;}#sk-container-id-1 pre{padding: 0;}#sk-container-id-1 div.sk-toggleable {background-color: white;}#sk-container-id-1 label.sk-toggleable__label {cursor: pointer;display: block;width: 100%;margin-bottom: 0;padding: 0.3em;box-sizing: border-box;text-align: center;}#sk-container-id-1 label.sk-toggleable__label-arrow:before {content: \"▸\";float: left;margin-right: 0.25em;color: #696969;}#sk-container-id-1 label.sk-toggleable__label-arrow:hover:before {color: black;}#sk-container-id-1 div.sk-estimator:hover label.sk-toggleable__label-arrow:before {color: black;}#sk-container-id-1 div.sk-toggleable__content {max-height: 0;max-width: 0;overflow: hidden;text-align: left;background-color: #f0f8ff;}#sk-container-id-1 div.sk-toggleable__content pre {margin: 0.2em;color: black;border-radius: 0.25em;background-color: #f0f8ff;}#sk-container-id-1 input.sk-toggleable__control:checked~div.sk-toggleable__content {max-height: 200px;max-width: 100%;overflow: auto;}#sk-container-id-1 input.sk-toggleable__control:checked~label.sk-toggleable__label-arrow:before {content: \"▾\";}#sk-container-id-1 div.sk-estimator input.sk-toggleable__control:checked~label.sk-toggleable__label {background-color: #d4ebff;}#sk-container-id-1 div.sk-label input.sk-toggleable__control:checked~label.sk-toggleable__label {background-color: #d4ebff;}#sk-container-id-1 input.sk-hidden--visually {border: 0;clip: rect(1px 1px 1px 1px);clip: rect(1px, 1px, 1px, 1px);height: 1px;margin: -1px;overflow: hidden;padding: 0;position: absolute;width: 1px;}#sk-container-id-1 div.sk-estimator {font-family: monospace;background-color: #f0f8ff;border: 1px dotted black;border-radius: 0.25em;box-sizing: border-box;margin-bottom: 0.5em;}#sk-container-id-1 div.sk-estimator:hover {background-color: #d4ebff;}#sk-container-id-1 div.sk-parallel-item::after {content: \"\";width: 100%;border-bottom: 1px solid gray;flex-grow: 1;}#sk-container-id-1 div.sk-label:hover label.sk-toggleable__label {background-color: #d4ebff;}#sk-container-id-1 div.sk-serial::before {content: \"\";position: absolute;border-left: 1px solid gray;box-sizing: border-box;top: 0;bottom: 0;left: 50%;z-index: 0;}#sk-container-id-1 div.sk-serial {display: flex;flex-direction: column;align-items: center;background-color: white;padding-right: 0.2em;padding-left: 0.2em;position: relative;}#sk-container-id-1 div.sk-item {position: relative;z-index: 1;}#sk-container-id-1 div.sk-parallel {display: flex;align-items: stretch;justify-content: center;background-color: white;position: relative;}#sk-container-id-1 div.sk-item::before, #sk-container-id-1 div.sk-parallel-item::before {content: \"\";position: absolute;border-left: 1px solid gray;box-sizing: border-box;top: 0;bottom: 0;left: 50%;z-index: -1;}#sk-container-id-1 div.sk-parallel-item {display: flex;flex-direction: column;z-index: 1;position: relative;background-color: white;}#sk-container-id-1 div.sk-parallel-item:first-child::after {align-self: flex-end;width: 50%;}#sk-container-id-1 div.sk-parallel-item:last-child::after {align-self: flex-start;width: 50%;}#sk-container-id-1 div.sk-parallel-item:only-child::after {width: 0;}#sk-container-id-1 div.sk-dashed-wrapped {border: 1px dashed gray;margin: 0 0.4em 0.5em 0.4em;box-sizing: border-box;padding-bottom: 0.4em;background-color: white;}#sk-container-id-1 div.sk-label label {font-family: monospace;font-weight: bold;display: inline-block;line-height: 1.2em;}#sk-container-id-1 div.sk-label-container {text-align: center;}#sk-container-id-1 div.sk-container {/* jupyter's `normalize.less` sets `[hidden] { display: none; }` but bootstrap.min.css set `[hidden] { display: none !important; }` so we also need the `!important` here to be able to override the default hidden behavior on the sphinx rendered scikit-learn.org. See: https://github.com/scikit-learn/scikit-learn/issues/21755 */display: inline-block !important;position: relative;}#sk-container-id-1 div.sk-text-repr-fallback {display: none;}</style><div id=\"sk-container-id-1\" class=\"sk-top-container\"><div class=\"sk-text-repr-fallback\"><pre>SGDClassifier()</pre><b>In a Jupyter environment, please rerun this cell to show the HTML representation or trust the notebook. <br />On GitHub, the HTML representation is unable to render, please try loading this page with nbviewer.org.</b></div><div class=\"sk-container\" hidden><div class=\"sk-item\"><div class=\"sk-estimator sk-toggleable\"><input class=\"sk-toggleable__control sk-hidden--visually\" id=\"sk-estimator-id-1\" type=\"checkbox\" checked><label for=\"sk-estimator-id-1\" class=\"sk-toggleable__label sk-toggleable__label-arrow\">SGDClassifier</label><div class=\"sk-toggleable__content\"><pre>SGDClassifier()</pre></div></div></div></div></div>"
      ],
      "text/plain": [
       "SGDClassifier()"
      ]
     },
     "execution_count": 23,
     "metadata": {},
     "output_type": "execute_result"
    }
   ],
   "source": [
    "from sklearn.linear_model import SGDClassifier\n",
    "from sklearn.metrics import classification_report\n",
    "model = SGDClassifier(loss='hinge')\n",
    "model.fit(X_train,y_train)"
   ]
  },
  {
   "cell_type": "code",
   "execution_count": 24,
   "id": "1d964cdf",
   "metadata": {},
   "outputs": [
    {
     "name": "stdout",
     "output_type": "stream",
     "text": [
      "              precision    recall  f1-score   support\n",
      "\n",
      "      normal       0.95      0.95      0.95    109687\n",
      "       toxic       0.71      0.71      0.71     17802\n",
      "\n",
      "    accuracy                           0.92    127489\n",
      "   macro avg       0.83      0.83      0.83    127489\n",
      "weighted avg       0.92      0.92      0.92    127489\n"
     ]
    }
   ],
   "source": [
    "print(classification_report(y_test,model.predict(X_test)))"
   ]
  },
  {
   "cell_type": "code",
   "execution_count": 16,
   "id": "3e23e5d3",
   "metadata": {},
   "outputs": [
    {
     "name": "stdout",
     "output_type": "stream",
     "text": [
      "              precision    recall  f1-score   support\n",
      "\n",
      "      normal       0.90      1.00      0.95    109687\n",
      "       toxic       0.97      0.31      0.47     17802\n",
      "\n",
      "    accuracy                           0.90    127489\n",
      "   macro avg       0.93      0.66      0.71    127489\n",
      "weighted avg       0.91      0.90      0.88    127489\n"
     ]
    }
   ],
   "source": [
    "print(classification_report(y_test,model.predict(X_test)))"
   ]
  },
  {
   "cell_type": "code",
   "execution_count": 39,
   "id": "257fb115",
   "metadata": {},
   "outputs": [
    {
     "data": {
      "text/plain": [
       "(258841, 310760)"
      ]
     },
     "execution_count": 39,
     "metadata": {},
     "output_type": "execute_result"
    }
   ],
   "source": [
    "X_trainin.shape"
   ]
  },
  {
   "cell_type": "code",
   "execution_count": 157,
   "id": "f80f0b90",
   "metadata": {},
   "outputs": [
    {
     "data": {
      "text/html": [
       "<style>#sk-container-id-3 {color: black;}#sk-container-id-3 pre{padding: 0;}#sk-container-id-3 div.sk-toggleable {background-color: white;}#sk-container-id-3 label.sk-toggleable__label {cursor: pointer;display: block;width: 100%;margin-bottom: 0;padding: 0.3em;box-sizing: border-box;text-align: center;}#sk-container-id-3 label.sk-toggleable__label-arrow:before {content: \"▸\";float: left;margin-right: 0.25em;color: #696969;}#sk-container-id-3 label.sk-toggleable__label-arrow:hover:before {color: black;}#sk-container-id-3 div.sk-estimator:hover label.sk-toggleable__label-arrow:before {color: black;}#sk-container-id-3 div.sk-toggleable__content {max-height: 0;max-width: 0;overflow: hidden;text-align: left;background-color: #f0f8ff;}#sk-container-id-3 div.sk-toggleable__content pre {margin: 0.2em;color: black;border-radius: 0.25em;background-color: #f0f8ff;}#sk-container-id-3 input.sk-toggleable__control:checked~div.sk-toggleable__content {max-height: 200px;max-width: 100%;overflow: auto;}#sk-container-id-3 input.sk-toggleable__control:checked~label.sk-toggleable__label-arrow:before {content: \"▾\";}#sk-container-id-3 div.sk-estimator input.sk-toggleable__control:checked~label.sk-toggleable__label {background-color: #d4ebff;}#sk-container-id-3 div.sk-label input.sk-toggleable__control:checked~label.sk-toggleable__label {background-color: #d4ebff;}#sk-container-id-3 input.sk-hidden--visually {border: 0;clip: rect(1px 1px 1px 1px);clip: rect(1px, 1px, 1px, 1px);height: 1px;margin: -1px;overflow: hidden;padding: 0;position: absolute;width: 1px;}#sk-container-id-3 div.sk-estimator {font-family: monospace;background-color: #f0f8ff;border: 1px dotted black;border-radius: 0.25em;box-sizing: border-box;margin-bottom: 0.5em;}#sk-container-id-3 div.sk-estimator:hover {background-color: #d4ebff;}#sk-container-id-3 div.sk-parallel-item::after {content: \"\";width: 100%;border-bottom: 1px solid gray;flex-grow: 1;}#sk-container-id-3 div.sk-label:hover label.sk-toggleable__label {background-color: #d4ebff;}#sk-container-id-3 div.sk-serial::before {content: \"\";position: absolute;border-left: 1px solid gray;box-sizing: border-box;top: 0;bottom: 0;left: 50%;z-index: 0;}#sk-container-id-3 div.sk-serial {display: flex;flex-direction: column;align-items: center;background-color: white;padding-right: 0.2em;padding-left: 0.2em;position: relative;}#sk-container-id-3 div.sk-item {position: relative;z-index: 1;}#sk-container-id-3 div.sk-parallel {display: flex;align-items: stretch;justify-content: center;background-color: white;position: relative;}#sk-container-id-3 div.sk-item::before, #sk-container-id-3 div.sk-parallel-item::before {content: \"\";position: absolute;border-left: 1px solid gray;box-sizing: border-box;top: 0;bottom: 0;left: 50%;z-index: -1;}#sk-container-id-3 div.sk-parallel-item {display: flex;flex-direction: column;z-index: 1;position: relative;background-color: white;}#sk-container-id-3 div.sk-parallel-item:first-child::after {align-self: flex-end;width: 50%;}#sk-container-id-3 div.sk-parallel-item:last-child::after {align-self: flex-start;width: 50%;}#sk-container-id-3 div.sk-parallel-item:only-child::after {width: 0;}#sk-container-id-3 div.sk-dashed-wrapped {border: 1px dashed gray;margin: 0 0.4em 0.5em 0.4em;box-sizing: border-box;padding-bottom: 0.4em;background-color: white;}#sk-container-id-3 div.sk-label label {font-family: monospace;font-weight: bold;display: inline-block;line-height: 1.2em;}#sk-container-id-3 div.sk-label-container {text-align: center;}#sk-container-id-3 div.sk-container {/* jupyter's `normalize.less` sets `[hidden] { display: none; }` but bootstrap.min.css set `[hidden] { display: none !important; }` so we also need the `!important` here to be able to override the default hidden behavior on the sphinx rendered scikit-learn.org. See: https://github.com/scikit-learn/scikit-learn/issues/21755 */display: inline-block !important;position: relative;}#sk-container-id-3 div.sk-text-repr-fallback {display: none;}</style><div id=\"sk-container-id-3\" class=\"sk-top-container\"><div class=\"sk-text-repr-fallback\"><pre>GridSearchCV(estimator=SGDClassifier(max_iter=2000),\n",
       "             param_grid={&#x27;alpha&#x27;: [0.1], &#x27;class_weight&#x27;: [None],\n",
       "                         &#x27;early_stopping&#x27;: [True, False], &#x27;eta0&#x27;: [0.001],\n",
       "                         &#x27;learning_rate&#x27;: [&#x27;adaptive&#x27;], &#x27;loss&#x27;: [&#x27;hinge&#x27;],\n",
       "                         &#x27;penalty&#x27;: [&#x27;l2&#x27;], &#x27;power_t&#x27;: [0.0001],\n",
       "                         &#x27;validation_fraction&#x27;: [0.001, 0.0001],\n",
       "                         &#x27;warm_start&#x27;: [True]})</pre><b>In a Jupyter environment, please rerun this cell to show the HTML representation or trust the notebook. <br />On GitHub, the HTML representation is unable to render, please try loading this page with nbviewer.org.</b></div><div class=\"sk-container\" hidden><div class=\"sk-item sk-dashed-wrapped\"><div class=\"sk-label-container\"><div class=\"sk-label sk-toggleable\"><input class=\"sk-toggleable__control sk-hidden--visually\" id=\"sk-estimator-id-3\" type=\"checkbox\" ><label for=\"sk-estimator-id-3\" class=\"sk-toggleable__label sk-toggleable__label-arrow\">GridSearchCV</label><div class=\"sk-toggleable__content\"><pre>GridSearchCV(estimator=SGDClassifier(max_iter=2000),\n",
       "             param_grid={&#x27;alpha&#x27;: [0.1], &#x27;class_weight&#x27;: [None],\n",
       "                         &#x27;early_stopping&#x27;: [True, False], &#x27;eta0&#x27;: [0.001],\n",
       "                         &#x27;learning_rate&#x27;: [&#x27;adaptive&#x27;], &#x27;loss&#x27;: [&#x27;hinge&#x27;],\n",
       "                         &#x27;penalty&#x27;: [&#x27;l2&#x27;], &#x27;power_t&#x27;: [0.0001],\n",
       "                         &#x27;validation_fraction&#x27;: [0.001, 0.0001],\n",
       "                         &#x27;warm_start&#x27;: [True]})</pre></div></div></div><div class=\"sk-parallel\"><div class=\"sk-parallel-item\"><div class=\"sk-item\"><div class=\"sk-label-container\"><div class=\"sk-label sk-toggleable\"><input class=\"sk-toggleable__control sk-hidden--visually\" id=\"sk-estimator-id-4\" type=\"checkbox\" ><label for=\"sk-estimator-id-4\" class=\"sk-toggleable__label sk-toggleable__label-arrow\">estimator: SGDClassifier</label><div class=\"sk-toggleable__content\"><pre>SGDClassifier(max_iter=2000)</pre></div></div></div><div class=\"sk-serial\"><div class=\"sk-item\"><div class=\"sk-estimator sk-toggleable\"><input class=\"sk-toggleable__control sk-hidden--visually\" id=\"sk-estimator-id-5\" type=\"checkbox\" ><label for=\"sk-estimator-id-5\" class=\"sk-toggleable__label sk-toggleable__label-arrow\">SGDClassifier</label><div class=\"sk-toggleable__content\"><pre>SGDClassifier(max_iter=2000)</pre></div></div></div></div></div></div></div></div></div></div>"
      ],
      "text/plain": [
       "GridSearchCV(estimator=SGDClassifier(max_iter=2000),\n",
       "             param_grid={'alpha': [0.1], 'class_weight': [None],\n",
       "                         'early_stopping': [True, False], 'eta0': [0.001],\n",
       "                         'learning_rate': ['adaptive'], 'loss': ['hinge'],\n",
       "                         'penalty': ['l2'], 'power_t': [0.0001],\n",
       "                         'validation_fraction': [0.001, 0.0001],\n",
       "                         'warm_start': [True]})"
      ]
     },
     "execution_count": 157,
     "metadata": {},
     "output_type": "execute_result"
    }
   ],
   "source": [
    "from sklearn.model_selection import GridSearchCV\n",
    "from sklearn.linear_model import SGDClassifier\n",
    "params = {\n",
    "    \"loss\" : [\"hinge\"],\n",
    "    \"alpha\" : [0.1],\n",
    "    \"penalty\" : [\"l2\"],\n",
    "    'class_weight' : [None],\n",
    "    'warm_start' : [True],\n",
    "    'learning_rate' :['adaptive'],\n",
    "    'eta0' : [0.001],\n",
    "    'power_t' :[0.0001],\n",
    "    'early_stopping' : [True,False],\n",
    "    'validation_fraction' : [0.001,0.0001]\n",
    "    \n",
    "}\n",
    " \n",
    "model = SGDClassifier(max_iter=2000)\n",
    "clf = GridSearchCV(model, param_grid=params)\n",
    "clf.fit(X_train,y_train)"
   ]
  },
  {
   "cell_type": "code",
   "execution_count": 53,
   "id": "be898f51",
   "metadata": {
    "scrolled": true
   },
   "outputs": [
    {
     "data": {
      "text/plain": [
       "{'alpha': 0.1,\n",
       " 'class_weight': None,\n",
       " 'early_stopping': True,\n",
       " 'eta0': 0.001,\n",
       " 'learning_rate': 'adaptive',\n",
       " 'loss': 'hinge',\n",
       " 'penalty': 'l2',\n",
       " 'power_t': 0.0001,\n",
       " 'validation_fraction': 0.0001,\n",
       " 'warm_start': True}"
      ]
     },
     "execution_count": 53,
     "metadata": {},
     "output_type": "execute_result"
    }
   ],
   "source": [
    "clf.best_params_"
   ]
  },
  {
   "cell_type": "code",
   "execution_count": 26,
   "id": "560e827a",
   "metadata": {
    "scrolled": true
   },
   "outputs": [
    {
     "data": {
      "text/html": [
       "<style>#sk-container-id-3 {color: black;}#sk-container-id-3 pre{padding: 0;}#sk-container-id-3 div.sk-toggleable {background-color: white;}#sk-container-id-3 label.sk-toggleable__label {cursor: pointer;display: block;width: 100%;margin-bottom: 0;padding: 0.3em;box-sizing: border-box;text-align: center;}#sk-container-id-3 label.sk-toggleable__label-arrow:before {content: \"▸\";float: left;margin-right: 0.25em;color: #696969;}#sk-container-id-3 label.sk-toggleable__label-arrow:hover:before {color: black;}#sk-container-id-3 div.sk-estimator:hover label.sk-toggleable__label-arrow:before {color: black;}#sk-container-id-3 div.sk-toggleable__content {max-height: 0;max-width: 0;overflow: hidden;text-align: left;background-color: #f0f8ff;}#sk-container-id-3 div.sk-toggleable__content pre {margin: 0.2em;color: black;border-radius: 0.25em;background-color: #f0f8ff;}#sk-container-id-3 input.sk-toggleable__control:checked~div.sk-toggleable__content {max-height: 200px;max-width: 100%;overflow: auto;}#sk-container-id-3 input.sk-toggleable__control:checked~label.sk-toggleable__label-arrow:before {content: \"▾\";}#sk-container-id-3 div.sk-estimator input.sk-toggleable__control:checked~label.sk-toggleable__label {background-color: #d4ebff;}#sk-container-id-3 div.sk-label input.sk-toggleable__control:checked~label.sk-toggleable__label {background-color: #d4ebff;}#sk-container-id-3 input.sk-hidden--visually {border: 0;clip: rect(1px 1px 1px 1px);clip: rect(1px, 1px, 1px, 1px);height: 1px;margin: -1px;overflow: hidden;padding: 0;position: absolute;width: 1px;}#sk-container-id-3 div.sk-estimator {font-family: monospace;background-color: #f0f8ff;border: 1px dotted black;border-radius: 0.25em;box-sizing: border-box;margin-bottom: 0.5em;}#sk-container-id-3 div.sk-estimator:hover {background-color: #d4ebff;}#sk-container-id-3 div.sk-parallel-item::after {content: \"\";width: 100%;border-bottom: 1px solid gray;flex-grow: 1;}#sk-container-id-3 div.sk-label:hover label.sk-toggleable__label {background-color: #d4ebff;}#sk-container-id-3 div.sk-serial::before {content: \"\";position: absolute;border-left: 1px solid gray;box-sizing: border-box;top: 0;bottom: 0;left: 50%;z-index: 0;}#sk-container-id-3 div.sk-serial {display: flex;flex-direction: column;align-items: center;background-color: white;padding-right: 0.2em;padding-left: 0.2em;position: relative;}#sk-container-id-3 div.sk-item {position: relative;z-index: 1;}#sk-container-id-3 div.sk-parallel {display: flex;align-items: stretch;justify-content: center;background-color: white;position: relative;}#sk-container-id-3 div.sk-item::before, #sk-container-id-3 div.sk-parallel-item::before {content: \"\";position: absolute;border-left: 1px solid gray;box-sizing: border-box;top: 0;bottom: 0;left: 50%;z-index: -1;}#sk-container-id-3 div.sk-parallel-item {display: flex;flex-direction: column;z-index: 1;position: relative;background-color: white;}#sk-container-id-3 div.sk-parallel-item:first-child::after {align-self: flex-end;width: 50%;}#sk-container-id-3 div.sk-parallel-item:last-child::after {align-self: flex-start;width: 50%;}#sk-container-id-3 div.sk-parallel-item:only-child::after {width: 0;}#sk-container-id-3 div.sk-dashed-wrapped {border: 1px dashed gray;margin: 0 0.4em 0.5em 0.4em;box-sizing: border-box;padding-bottom: 0.4em;background-color: white;}#sk-container-id-3 div.sk-label label {font-family: monospace;font-weight: bold;display: inline-block;line-height: 1.2em;}#sk-container-id-3 div.sk-label-container {text-align: center;}#sk-container-id-3 div.sk-container {/* jupyter's `normalize.less` sets `[hidden] { display: none; }` but bootstrap.min.css set `[hidden] { display: none !important; }` so we also need the `!important` here to be able to override the default hidden behavior on the sphinx rendered scikit-learn.org. See: https://github.com/scikit-learn/scikit-learn/issues/21755 */display: inline-block !important;position: relative;}#sk-container-id-3 div.sk-text-repr-fallback {display: none;}</style><div id=\"sk-container-id-3\" class=\"sk-top-container\"><div class=\"sk-text-repr-fallback\"><pre>SGDClassifier(alpha=0.1)</pre><b>In a Jupyter environment, please rerun this cell to show the HTML representation or trust the notebook. <br />On GitHub, the HTML representation is unable to render, please try loading this page with nbviewer.org.</b></div><div class=\"sk-container\" hidden><div class=\"sk-item\"><div class=\"sk-estimator sk-toggleable\"><input class=\"sk-toggleable__control sk-hidden--visually\" id=\"sk-estimator-id-5\" type=\"checkbox\" checked><label for=\"sk-estimator-id-5\" class=\"sk-toggleable__label sk-toggleable__label-arrow\">SGDClassifier</label><div class=\"sk-toggleable__content\"><pre>SGDClassifier(alpha=0.1)</pre></div></div></div></div></div>"
      ],
      "text/plain": [
       "SGDClassifier(alpha=0.1)"
      ]
     },
     "execution_count": 26,
     "metadata": {},
     "output_type": "execute_result"
    }
   ],
   "source": [
    "clf.best_estimator_"
   ]
  },
  {
   "cell_type": "code",
   "execution_count": 28,
   "id": "3ac3451e",
   "metadata": {
    "scrolled": true
   },
   "outputs": [
    {
     "data": {
      "text/plain": [
       "{'alpha': 0.1, 'loss': 'hinge', 'penalty': 'l2'}"
      ]
     },
     "execution_count": 28,
     "metadata": {},
     "output_type": "execute_result"
    }
   ],
   "source": [
    "clf.best_params_"
   ]
  },
  {
   "cell_type": "code",
   "execution_count": 158,
   "id": "7bedef40",
   "metadata": {},
   "outputs": [
    {
     "name": "stdout",
     "output_type": "stream",
     "text": [
      "              precision    recall  f1-score   support\n",
      "\n",
      "      normal       0.96      0.97      0.97    109654\n",
      "       toxic       0.82      0.73      0.77     17830\n",
      "\n",
      "    accuracy                           0.94    127484\n",
      "   macro avg       0.89      0.85      0.87    127484\n",
      "weighted avg       0.94      0.94      0.94    127484\n"
     ]
    }
   ],
   "source": [
    "print(classification_report(y_test,clf.best_estimator_.predict(X_test)))"
   ]
  },
  {
   "cell_type": "code",
   "execution_count": 27,
   "id": "39418ada",
   "metadata": {
    "scrolled": true
   },
   "outputs": [
    {
     "name": "stdout",
     "output_type": "stream",
     "text": [
      "              precision    recall  f1-score   support\n",
      "\n",
      "      normal       0.96      0.97      0.96    109687\n",
      "       toxic       0.79      0.73      0.76     17802\n",
      "\n",
      "    accuracy                           0.94    127489\n",
      "   macro avg       0.87      0.85      0.86    127489\n",
      "weighted avg       0.93      0.94      0.93    127489\n"
     ]
    }
   ],
   "source": [
    "print(classification_report(y_test,clf.best_estimator_.predict(X_test)))"
   ]
  },
  {
   "cell_type": "code",
   "execution_count": 10,
   "id": "1e59e358",
   "metadata": {},
   "outputs": [
    {
     "name": "stdout",
     "output_type": "stream",
     "text": [
      "              precision    recall  f1-score   support\n",
      "\n",
      "      normal       0.95      0.97      0.96    109687\n",
      "       toxic       0.81      0.71      0.76     17802\n",
      "\n",
      "    accuracy                           0.94    127489\n",
      "   macro avg       0.88      0.84      0.86    127489\n",
      "weighted avg       0.93      0.94      0.93    127489\n"
     ]
    }
   ],
   "source": [
    "from sklearn.neighbors import NearestCentroid\n",
    "from sklearn.metrics import classification_report\n",
    "clf = NearestCentroid()\n",
    "\n",
    "clf.fit(X_train, y_train)\n",
    "print(classification_report(y_test,clf.predict(X_test)))"
   ]
  },
  {
   "cell_type": "code",
   "execution_count": 20,
   "id": "6af9f856",
   "metadata": {},
   "outputs": [
    {
     "name": "stdout",
     "output_type": "stream",
     "text": [
      "              precision    recall  f1-score   support\n",
      "\n",
      "      normal       0.95      0.98      0.97    109687\n",
      "       toxic       0.88      0.70      0.78     17802\n",
      "\n",
      "    accuracy                           0.94    127489\n",
      "   macro avg       0.92      0.84      0.87    127489\n",
      "weighted avg       0.94      0.94      0.94    127489\n"
     ]
    }
   ],
   "source": [
    "from sklearn.ensemble import BaggingClassifier\n",
    "from sklearn.metrics import classification_report\n",
    "from sklearn.model_selection import GridSearchCV\n",
    "clf = BaggingClassifier(model)\n",
    "param_grid = {\n",
    " 'n_estimators': [5, 10, 15],\n",
    " 'max_samples' : [0.6, 0.8, 1.0],\n",
    "}\n",
    "clf = GridSearchCV(clf, param_grid=param_grid)\n",
    "clf.fit(X_train, y_train)\n"
   ]
  },
  {
   "cell_type": "code",
   "execution_count": 21,
   "id": "080917be",
   "metadata": {
    "scrolled": true
   },
   "outputs": [
    {
     "name": "stdout",
     "output_type": "stream",
     "text": [
      "              precision    recall  f1-score   support\n",
      "\n",
      "      normal       0.95      0.98      0.97    109687\n",
      "       toxic       0.88      0.70      0.78     17802\n",
      "\n",
      "    accuracy                           0.94    127489\n",
      "   macro avg       0.92      0.84      0.87    127489\n",
      "weighted avg       0.94      0.94      0.94    127489\n"
     ]
    }
   ],
   "source": [
    "print(classification_report(y_test,clf.best_estimator_.predict(X_test)))"
   ]
  },
  {
   "cell_type": "code",
   "execution_count": 59,
   "id": "e71577e9",
   "metadata": {},
   "outputs": [],
   "source": [
    "import pickle\n",
    "with open(\"model.pickle\",'wb') as file:\n",
    "    pickle.dump(clf.best_estimator_,file)"
   ]
  },
  {
   "cell_type": "code",
   "execution_count": 196,
   "id": "72c147cf",
   "metadata": {},
   "outputs": [],
   "source": [
    "import pickle\n",
    "with open(\"model.pickle\",'rb') as file:\n",
    "     model = pickle.load(file)"
   ]
  },
  {
   "cell_type": "code",
   "execution_count": 197,
   "id": "c7320a2f",
   "metadata": {
    "scrolled": true
   },
   "outputs": [
    {
     "data": {
      "text/html": [
       "<style>#sk-container-id-4 {color: black;}#sk-container-id-4 pre{padding: 0;}#sk-container-id-4 div.sk-toggleable {background-color: white;}#sk-container-id-4 label.sk-toggleable__label {cursor: pointer;display: block;width: 100%;margin-bottom: 0;padding: 0.3em;box-sizing: border-box;text-align: center;}#sk-container-id-4 label.sk-toggleable__label-arrow:before {content: \"▸\";float: left;margin-right: 0.25em;color: #696969;}#sk-container-id-4 label.sk-toggleable__label-arrow:hover:before {color: black;}#sk-container-id-4 div.sk-estimator:hover label.sk-toggleable__label-arrow:before {color: black;}#sk-container-id-4 div.sk-toggleable__content {max-height: 0;max-width: 0;overflow: hidden;text-align: left;background-color: #f0f8ff;}#sk-container-id-4 div.sk-toggleable__content pre {margin: 0.2em;color: black;border-radius: 0.25em;background-color: #f0f8ff;}#sk-container-id-4 input.sk-toggleable__control:checked~div.sk-toggleable__content {max-height: 200px;max-width: 100%;overflow: auto;}#sk-container-id-4 input.sk-toggleable__control:checked~label.sk-toggleable__label-arrow:before {content: \"▾\";}#sk-container-id-4 div.sk-estimator input.sk-toggleable__control:checked~label.sk-toggleable__label {background-color: #d4ebff;}#sk-container-id-4 div.sk-label input.sk-toggleable__control:checked~label.sk-toggleable__label {background-color: #d4ebff;}#sk-container-id-4 input.sk-hidden--visually {border: 0;clip: rect(1px 1px 1px 1px);clip: rect(1px, 1px, 1px, 1px);height: 1px;margin: -1px;overflow: hidden;padding: 0;position: absolute;width: 1px;}#sk-container-id-4 div.sk-estimator {font-family: monospace;background-color: #f0f8ff;border: 1px dotted black;border-radius: 0.25em;box-sizing: border-box;margin-bottom: 0.5em;}#sk-container-id-4 div.sk-estimator:hover {background-color: #d4ebff;}#sk-container-id-4 div.sk-parallel-item::after {content: \"\";width: 100%;border-bottom: 1px solid gray;flex-grow: 1;}#sk-container-id-4 div.sk-label:hover label.sk-toggleable__label {background-color: #d4ebff;}#sk-container-id-4 div.sk-serial::before {content: \"\";position: absolute;border-left: 1px solid gray;box-sizing: border-box;top: 0;bottom: 0;left: 50%;z-index: 0;}#sk-container-id-4 div.sk-serial {display: flex;flex-direction: column;align-items: center;background-color: white;padding-right: 0.2em;padding-left: 0.2em;position: relative;}#sk-container-id-4 div.sk-item {position: relative;z-index: 1;}#sk-container-id-4 div.sk-parallel {display: flex;align-items: stretch;justify-content: center;background-color: white;position: relative;}#sk-container-id-4 div.sk-item::before, #sk-container-id-4 div.sk-parallel-item::before {content: \"\";position: absolute;border-left: 1px solid gray;box-sizing: border-box;top: 0;bottom: 0;left: 50%;z-index: -1;}#sk-container-id-4 div.sk-parallel-item {display: flex;flex-direction: column;z-index: 1;position: relative;background-color: white;}#sk-container-id-4 div.sk-parallel-item:first-child::after {align-self: flex-end;width: 50%;}#sk-container-id-4 div.sk-parallel-item:last-child::after {align-self: flex-start;width: 50%;}#sk-container-id-4 div.sk-parallel-item:only-child::after {width: 0;}#sk-container-id-4 div.sk-dashed-wrapped {border: 1px dashed gray;margin: 0 0.4em 0.5em 0.4em;box-sizing: border-box;padding-bottom: 0.4em;background-color: white;}#sk-container-id-4 div.sk-label label {font-family: monospace;font-weight: bold;display: inline-block;line-height: 1.2em;}#sk-container-id-4 div.sk-label-container {text-align: center;}#sk-container-id-4 div.sk-container {/* jupyter's `normalize.less` sets `[hidden] { display: none; }` but bootstrap.min.css set `[hidden] { display: none !important; }` so we also need the `!important` here to be able to override the default hidden behavior on the sphinx rendered scikit-learn.org. See: https://github.com/scikit-learn/scikit-learn/issues/21755 */display: inline-block !important;position: relative;}#sk-container-id-4 div.sk-text-repr-fallback {display: none;}</style><div id=\"sk-container-id-4\" class=\"sk-top-container\"><div class=\"sk-text-repr-fallback\"><pre>SGDClassifier(alpha=0.1, early_stopping=True, eta0=0.001,\n",
       "              learning_rate=&#x27;adaptive&#x27;, max_iter=2000, power_t=0.0001,\n",
       "              validation_fraction=0.0001, warm_start=True)</pre><b>In a Jupyter environment, please rerun this cell to show the HTML representation or trust the notebook. <br />On GitHub, the HTML representation is unable to render, please try loading this page with nbviewer.org.</b></div><div class=\"sk-container\" hidden><div class=\"sk-item\"><div class=\"sk-estimator sk-toggleable\"><input class=\"sk-toggleable__control sk-hidden--visually\" id=\"sk-estimator-id-6\" type=\"checkbox\" checked><label for=\"sk-estimator-id-6\" class=\"sk-toggleable__label sk-toggleable__label-arrow\">SGDClassifier</label><div class=\"sk-toggleable__content\"><pre>SGDClassifier(alpha=0.1, early_stopping=True, eta0=0.001,\n",
       "              learning_rate=&#x27;adaptive&#x27;, max_iter=2000, power_t=0.0001,\n",
       "              validation_fraction=0.0001, warm_start=True)</pre></div></div></div></div></div>"
      ],
      "text/plain": [
       "SGDClassifier(alpha=0.1, early_stopping=True, eta0=0.001,\n",
       "              learning_rate='adaptive', max_iter=2000, power_t=0.0001,\n",
       "              validation_fraction=0.0001, warm_start=True)"
      ]
     },
     "execution_count": 197,
     "metadata": {},
     "output_type": "execute_result"
    }
   ],
   "source": [
    "model"
   ]
  },
  {
   "cell_type": "code",
   "execution_count": 159,
   "id": "89af4cdc",
   "metadata": {},
   "outputs": [
    {
     "data": {
      "text/html": [
       "<div>\n",
       "<style scoped>\n",
       "    .dataframe tbody tr th:only-of-type {\n",
       "        vertical-align: middle;\n",
       "    }\n",
       "\n",
       "    .dataframe tbody tr th {\n",
       "        vertical-align: top;\n",
       "    }\n",
       "\n",
       "    .dataframe thead th {\n",
       "        text-align: right;\n",
       "    }\n",
       "</style>\n",
       "<table border=\"1\" class=\"dataframe\">\n",
       "  <thead>\n",
       "    <tr style=\"text-align: right;\">\n",
       "      <th></th>\n",
       "      <th>label</th>\n",
       "      <th>comment</th>\n",
       "    </tr>\n",
       "  </thead>\n",
       "  <tbody>\n",
       "    <tr>\n",
       "      <th>0</th>\n",
       "      <td>toxic</td>\n",
       "      <td>скотина что сказать</td>\n",
       "    </tr>\n",
       "    <tr>\n",
       "      <th>1</th>\n",
       "      <td>normal</td>\n",
       "      <td>я сегодня проезжала по рабочей и между домами ...</td>\n",
       "    </tr>\n",
       "    <tr>\n",
       "      <th>2</th>\n",
       "      <td>normal</td>\n",
       "      <td>очередной лохотрон зачем придумывать очередной...</td>\n",
       "    </tr>\n",
       "    <tr>\n",
       "      <th>3</th>\n",
       "      <td>normal</td>\n",
       "      <td>ретро дежавю сложно понять чужое сердце лиш ощ...</td>\n",
       "    </tr>\n",
       "    <tr>\n",
       "      <th>4</th>\n",
       "      <td>normal</td>\n",
       "      <td>а когда мы статус агрогородка получили</td>\n",
       "    </tr>\n",
       "    <tr>\n",
       "      <th>...</th>\n",
       "      <td>...</td>\n",
       "      <td>...</td>\n",
       "    </tr>\n",
       "    <tr>\n",
       "      <th>386325</th>\n",
       "      <td>normal</td>\n",
       "      <td>спала в родительском доме на своей кровати про...</td>\n",
       "    </tr>\n",
       "    <tr>\n",
       "      <th>386326</th>\n",
       "      <td>normal</td>\n",
       "      <td>эх мы немного решили сократить путь сейчас уже...</td>\n",
       "    </tr>\n",
       "    <tr>\n",
       "      <th>386327</th>\n",
       "      <td>normal</td>\n",
       "      <td>что происходит со мной когда в эфире звучит мо...</td>\n",
       "    </tr>\n",
       "    <tr>\n",
       "      <th>386328</th>\n",
       "      <td>normal</td>\n",
       "      <td>любимая я подарю тебе эту звезду имя какой зве...</td>\n",
       "    </tr>\n",
       "    <tr>\n",
       "      <th>386329</th>\n",
       "      <td>normal</td>\n",
       "      <td>посмотри непытайтесьпокинутьомск сегодня в вав...</td>\n",
       "    </tr>\n",
       "  </tbody>\n",
       "</table>\n",
       "<p>386315 rows × 2 columns</p>\n",
       "</div>"
      ],
      "text/plain": [
       "         label                                            comment\n",
       "0        toxic                                скотина что сказать\n",
       "1       normal  я сегодня проезжала по рабочей и между домами ...\n",
       "2       normal  очередной лохотрон зачем придумывать очередной...\n",
       "3       normal  ретро дежавю сложно понять чужое сердце лиш ощ...\n",
       "4       normal             а когда мы статус агрогородка получили\n",
       "...        ...                                                ...\n",
       "386325  normal  спала в родительском доме на своей кровати про...\n",
       "386326  normal  эх мы немного решили сократить путь сейчас уже...\n",
       "386327  normal  что происходит со мной когда в эфире звучит мо...\n",
       "386328  normal  любимая я подарю тебе эту звезду имя какой зве...\n",
       "386329  normal  посмотри непытайтесьпокинутьомск сегодня в вав...\n",
       "\n",
       "[386315 rows x 2 columns]"
      ]
     },
     "execution_count": 159,
     "metadata": {},
     "output_type": "execute_result"
    }
   ],
   "source": [
    "df_cop"
   ]
  },
  {
   "cell_type": "code",
   "execution_count": 163,
   "id": "1783836b",
   "metadata": {},
   "outputs": [
    {
     "data": {
      "text/plain": [
       "0                                   [скотина, что, сказать]\n",
       "1         [я, сегодня, проезжала, по, рабочей, и, между,...\n",
       "2         [очередной, лохотрон, зачем, придумывать, очер...\n",
       "3         [ретро, дежавю, сложно, понять, чужое, сердце,...\n",
       "4             [а, когда, мы, статус, агрогородка, получили]\n",
       "                                ...                        \n",
       "386325    [спала, в, родительском, доме, на, своей, кров...\n",
       "386326    [эх, мы, немного, решили, сократить, путь, сей...\n",
       "386327    [что, происходит, со, мной, когда, в, эфире, з...\n",
       "386328    [любимая, я, подарю, тебе, эту, звезду, имя, к...\n",
       "386329    [посмотри, непытайтесьпокинутьомск, сегодня, в...\n",
       "Name: comment, Length: 386315, dtype: object"
      ]
     },
     "execution_count": 163,
     "metadata": {},
     "output_type": "execute_result"
    }
   ],
   "source": [
    "df_cop = df_cop['comment'].apply(word_tokenize)\n",
    "df_cop"
   ]
  },
  {
   "cell_type": "code",
   "execution_count": 181,
   "id": "e2bdcc54",
   "metadata": {},
   "outputs": [
    {
     "data": {
      "text/plain": [
       "(118082315, 152902590)"
      ]
     },
     "execution_count": 181,
     "metadata": {},
     "output_type": "execute_result"
    }
   ],
   "source": [
    "from gensim.models import FastText\n",
    "model = FastText()\n",
    "model.build_vocab(corpus_iterable=df_cop)\n",
    "model.train(corpus_iterable=df_cop, total_examples=df_cop.shape[0], epochs=30)"
   ]
  },
  {
   "cell_type": "code",
   "execution_count": 191,
   "id": "b1cb9294",
   "metadata": {},
   "outputs": [
    {
     "name": "stdout",
     "output_type": "stream",
     "text": [
      "padla\n"
     ]
    },
    {
     "data": {
      "text/plain": [
       "[('эй', 0.571570873260498),\n",
       " ('хуец', 0.5626686215400696),\n",
       " ('клоун', 0.5573384761810303),\n",
       " ('гадёныш', 0.5466594696044922),\n",
       " ('пупсик', 0.5446894764900208),\n",
       " ('гавнюк', 0.5427184104919434),\n",
       " ('хун', 0.5411058664321899),\n",
       " ('ёб', 0.5351360440254211),\n",
       " ('пидар', 0.5311134457588196),\n",
       " ('нытик', 0.5182626843452454)]"
      ]
     },
     "execution_count": 191,
     "metadata": {},
     "output_type": "execute_result"
    }
   ],
   "source": [
    "model.wv.most_similar(input())"
   ]
  },
  {
   "cell_type": "code",
   "execution_count": 195,
   "id": "5521d934",
   "metadata": {},
   "outputs": [],
   "source": [
    "model_text = model"
   ]
  },
  {
   "cell_type": "code",
   "execution_count": 74,
   "id": "93edf3bf",
   "metadata": {
    "ExecuteTime": {
     "end_time": "2023-11-23T07:58:57.679502600Z",
     "start_time": "2023-11-23T07:58:56.591062900Z"
    }
   },
   "outputs": [
    {
     "name": "stderr",
     "output_type": "stream",
     "text": [
      "[nltk_data] Downloading package stopwords to\n",
      "[nltk_data]     C:\\Users\\admin\\AppData\\Roaming\\nltk_data...\n",
      "[nltk_data]   Package stopwords is already up-to-date!\n",
      "[nltk_data] Downloading package punkt to\n",
      "[nltk_data]     C:\\Users\\admin\\AppData\\Roaming\\nltk_data...\n",
      "[nltk_data]   Package punkt is already up-to-date!\n"
     ]
    },
    {
     "data": {
      "text/plain": "array(['toxic'], dtype='<U6')"
     },
     "execution_count": 74,
     "metadata": {},
     "output_type": "execute_result"
    }
   ],
   "source": [
    "import nltk\n",
    "nltk.download('stopwords')\n",
    "nltk.download('punkt')\n",
    "from nltk.corpus import stopwords\n",
    "from nltk.stem.porter import PorterStemmer\n",
    "from nltk.tokenize import word_tokenize\n",
    "from pymorphy3 import MorphAnalyzer\n",
    "import re\n",
    "patterns = \"[A-Za-z0-9!#$%&'()*+,./:;<=>?@[\\]^_`{|}~—\\\"\\-]+\"\n",
    "stopwords_ru = stopwords.words(\"russian\")\n",
    "morph = MorphAnalyzer()\n",
    "stemmer = PorterStemmer()\n",
    "def lemmatize(text):\n",
    "    doc = re.sub(patterns, ' ', text)\n",
    "    tokens = word_tokenize(doc, language='russian')\n",
    "    lemmas = [morph.parse(token)[0].normal_form for token in tokens if token.lower() not in stopwords_ru]\n",
    "    stems = [stemmer.stem(token) for token in tokens]\n",
    "    return stems\n",
    "def concat(text):\n",
    "    text= ' '.join(text)\n",
    "    return text\n",
    "text = input()\n",
    "\n",
    "text = [concat(lemmatize(text))]\n",
    "\n",
    "X_counts = count_vect.transform(text)\n",
    "X_counts.shape\n",
    "\n",
    "X_tfidf = tf_transformer.transform(X_counts)\n",
    "X_tfidf.shape\n",
    "\n",
    "X = scaler.transform(X_tfidf)\n",
    "clf.best_estimator_.predict(X)"
   ]
  },
  {
   "cell_type": "code",
   "execution_count": null,
   "id": "465eee08",
   "metadata": {},
   "outputs": [],
   "source": []
  },
  {
   "cell_type": "code",
   "execution_count": null,
   "id": "c66ccfc7",
   "metadata": {},
   "outputs": [],
   "source": []
  }
 ],
 "metadata": {
  "kernelspec": {
   "display_name": "Python 3 (ipykernel)",
   "language": "python",
   "name": "python3"
  },
  "language_info": {
   "codemirror_mode": {
    "name": "ipython",
    "version": 3
   },
   "file_extension": ".py",
   "mimetype": "text/x-python",
   "name": "python",
   "nbconvert_exporter": "python",
   "pygments_lexer": "ipython3",
   "version": "3.11.4"
  }
 },
 "nbformat": 4,
 "nbformat_minor": 5
}
