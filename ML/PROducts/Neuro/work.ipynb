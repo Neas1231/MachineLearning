{
 "cells": [
  {
   "cell_type": "code",
   "execution_count": 1,
   "id": "initial_id",
   "metadata": {
    "collapsed": true,
    "ExecuteTime": {
     "end_time": "2023-12-25T21:04:24.969349400Z",
     "start_time": "2023-12-25T21:04:22.444562100Z"
    }
   },
   "outputs": [
    {
     "name": "stdout",
     "output_type": "stream",
     "text": [
      "True\n"
     ]
    },
    {
     "data": {
      "text/plain": "device(type='cuda')"
     },
     "execution_count": 1,
     "metadata": {},
     "output_type": "execute_result"
    }
   ],
   "source": [
    "import torch\n",
    "from torchvision import datasets, transforms\n",
    "from skimage.segmentation import slic\n",
    "from skimage.segmentation import mark_boundaries\n",
    "from skimage.util import img_as_float\n",
    "from skimage import color\n",
    "from skimage import io\n",
    "import matplotlib.pyplot as plt\n",
    "import numpy as np\n",
    "\n",
    "print(torch.cuda.is_available())\n",
    "device = torch.device(\"cuda\" if torch.cuda.is_available() else \"cpu\")\n",
    "device"
   ]
  },
  {
   "cell_type": "code",
   "outputs": [],
   "source": [
    "transform = transforms.Compose([transforms.Resize(255),\n",
    "                                transforms.CenterCrop(224),\n",
    "                                transforms.ToTensor()])\n",
    "dataset = datasets.ImageFolder('./datasets', transform=transform)\n",
    "dataloader = torch.utils.data.DataLoader(dataset,\n",
    "                                         batch_size=32,\n",
    "                                         shuffle=True)"
   ],
   "metadata": {
    "collapsed": false,
    "ExecuteTime": {
     "end_time": "2023-12-25T21:04:24.985573200Z",
     "start_time": "2023-12-25T21:04:24.967349Z"
    }
   },
   "id": "572bf27090c629fa",
   "execution_count": 2
  },
  {
   "cell_type": "code",
   "outputs": [],
   "source": [
    "batched_data = iter(dataloader)"
   ],
   "metadata": {
    "collapsed": false,
    "ExecuteTime": {
     "end_time": "2023-12-25T21:04:24.989309100Z",
     "start_time": "2023-12-25T21:04:24.986573300Z"
    }
   },
   "id": "3116eb4b19538bd6",
   "execution_count": 3
  },
  {
   "cell_type": "code",
   "outputs": [
    {
     "data": {
      "text/plain": "torch.Size([3, 224, 224])"
     },
     "execution_count": 4,
     "metadata": {},
     "output_type": "execute_result"
    }
   ],
   "source": [
    "next(batched_data)[0][0].size()"
   ],
   "metadata": {
    "collapsed": false,
    "ExecuteTime": {
     "end_time": "2023-12-25T21:04:25.309717900Z",
     "start_time": "2023-12-25T21:04:24.989309100Z"
    }
   },
   "id": "4ffcd0c47cd403a1",
   "execution_count": 4
  },
  {
   "cell_type": "code",
   "outputs": [
    {
     "ename": "AttributeError",
     "evalue": "'numpy.flatiter' object has no attribute 'imshow'",
     "output_type": "error",
     "traceback": [
      "\u001B[1;31m---------------------------------------------------------------------------\u001B[0m",
      "\u001B[1;31mAttributeError\u001B[0m                            Traceback (most recent call last)",
      "Cell \u001B[1;32mIn[18], line 27\u001B[0m\n\u001B[0;32m     25\u001B[0m data \u001B[38;5;241m=\u001B[39m \u001B[38;5;28mnext\u001B[39m(batched_data)\n\u001B[0;32m     26\u001B[0m \u001B[38;5;28;01mfor\u001B[39;00m i \u001B[38;5;129;01min\u001B[39;00m \u001B[38;5;28mrange\u001B[39m(\u001B[38;5;241m10\u001B[39m):\n\u001B[1;32m---> 27\u001B[0m     imshow(data[\u001B[38;5;241m0\u001B[39m][i], normalize\u001B[38;5;241m=\u001B[39m\u001B[38;5;28;01mFalse\u001B[39;00m, ax\u001B[38;5;241m=\u001B[39maxes\u001B[38;5;241m.\u001B[39mflat)\n",
      "Cell \u001B[1;32mIn[18], line 13\u001B[0m, in \u001B[0;36mimshow\u001B[1;34m(image, ax, title, normalize)\u001B[0m\n\u001B[0;32m     10\u001B[0m     image \u001B[38;5;241m=\u001B[39m std \u001B[38;5;241m*\u001B[39m image \u001B[38;5;241m+\u001B[39m mean\n\u001B[0;32m     11\u001B[0m     image \u001B[38;5;241m=\u001B[39m np\u001B[38;5;241m.\u001B[39mclip(image, \u001B[38;5;241m0\u001B[39m, \u001B[38;5;241m1\u001B[39m)\n\u001B[1;32m---> 13\u001B[0m ax\u001B[38;5;241m.\u001B[39mimshow(image)\n\u001B[0;32m     14\u001B[0m ax\u001B[38;5;241m.\u001B[39mspines[\u001B[38;5;124m'\u001B[39m\u001B[38;5;124mtop\u001B[39m\u001B[38;5;124m'\u001B[39m]\u001B[38;5;241m.\u001B[39mset_visible(\u001B[38;5;28;01mFalse\u001B[39;00m)\n\u001B[0;32m     15\u001B[0m ax\u001B[38;5;241m.\u001B[39mspines[\u001B[38;5;124m'\u001B[39m\u001B[38;5;124mright\u001B[39m\u001B[38;5;124m'\u001B[39m]\u001B[38;5;241m.\u001B[39mset_visible(\u001B[38;5;28;01mFalse\u001B[39;00m)\n",
      "\u001B[1;31mAttributeError\u001B[0m: 'numpy.flatiter' object has no attribute 'imshow'"
     ]
    },
    {
     "data": {
      "text/plain": "<Figure size 1500x700 with 16 Axes>",
      "image/png": "[encoded data removed]"
     },
     "metadata": {},
     "output_type": "display_data"
    }
   ],
   "source": [
    "def imshow(image, ax=None, title=None, normalize=True):\n",
    "    \"\"\"Imshow for Tensor.\"\"\"\n",
    "    if ax is None:\n",
    "        fig, ax = plt.subplots()\n",
    "    image = image.numpy().transpose((1, 2, 0))\n",
    "\n",
    "    if normalize:\n",
    "        mean = np.array([0.5, 0.5, 0.5])\n",
    "        std = np.array([0.5, 0.5, 0.5])\n",
    "        image = std * image + mean\n",
    "        image = np.clip(image, 0, 1)\n",
    "\n",
    "    ax.imshow(image)\n",
    "    ax.spines['top'].set_visible(False)\n",
    "    ax.spines['right'].set_visible(False)\n",
    "    ax.spines['left'].set_visible(False)\n",
    "    ax.spines['bottom'].set_visible(False)\n",
    "    ax.tick_params(axis='both', length=0)\n",
    "    ax.set_xticklabels('')\n",
    "    ax.set_yticklabels('')\n",
    "    return ax\n",
    "\n",
    "fig, axes = plt.subplots(nrows=4, ncols=4, figsize=(15, 7), #Размер вывода\n",
    "             subplot_kw={'xticks': [], 'yticks': []})\n",
    "data = next(batched_data)\n",
    "for i in range(10):\n",
    "    imshow(data[0][i], normalize=False, ax=axes.flat)"
   ],
   "metadata": {
    "collapsed": false,
    "ExecuteTime": {
     "end_time": "2023-12-25T21:30:59.802949200Z",
     "start_time": "2023-12-25T21:30:59.141002900Z"
    }
   },
   "id": "cd1b43d5c06b69a6",
   "execution_count": 18
  },
  {
   "cell_type": "code",
   "outputs": [
    {
     "name": "stdout",
     "output_type": "stream",
     "text": [
      "<enumerate object at 0x000001CEC6D78090>\n"
     ]
    },
    {
     "data": {
      "text/plain": "<Figure size 1500x700 with 16 Axes>",
      "image/png": "[encoded data removed]"
     },
     "metadata": {},
     "output_type": "display_data"
    }
   ],
   "source": [
    "fig, axes = plt.subplots(nrows=4, ncols=4, figsize=(15, 7), #Размер вывода\n",
    "                         subplot_kw={'xticks': [], 'yticks': []})\n",
    "enumerate(axes.flat) # .imshow(data[1][0])"
   ],
   "metadata": {
    "collapsed": false,
    "ExecuteTime": {
     "end_time": "2023-12-25T22:07:07.177376100Z",
     "start_time": "2023-12-25T22:07:06.717345500Z"
    }
   },
   "id": "b3adcbda777c7b6e",
   "execution_count": 51
  },
  {
   "cell_type": "code",
   "outputs": [
    {
     "data": {
      "text/plain": "(224, 224, 3)"
     },
     "execution_count": 9,
     "metadata": {},
     "output_type": "execute_result"
    }
   ],
   "source": [
    "np.shape(next(batched_data)[0][0].numpy().transpose((1, 2, 0)))"
   ],
   "metadata": {
    "collapsed": false,
    "ExecuteTime": {
     "end_time": "2023-12-25T18:24:49.283600Z",
     "start_time": "2023-12-25T18:24:48.897510400Z"
    }
   },
   "id": "3a10a9297393e28b",
   "execution_count": 9
  },
  {
   "cell_type": "code",
   "outputs": [
    {
     "data": {
      "text/plain": "torch.Size([224, 224, 3])"
     },
     "execution_count": 10,
     "metadata": {},
     "output_type": "execute_result"
    }
   ],
   "source": [
    "next(batched_data)[0][0].resize(224,224,3).size()"
   ],
   "metadata": {
    "collapsed": false,
    "ExecuteTime": {
     "end_time": "2023-12-25T18:24:50.199584200Z",
     "start_time": "2023-12-25T18:24:49.774290600Z"
    }
   },
   "id": "5abdebfc5f5bf002",
   "execution_count": 10
  },
  {
   "cell_type": "code",
   "outputs": [],
   "source": [
    "numSegments = 20\n",
    "image = img_as_float(next(batched_data)[0][0].numpy().transpose((1, 2, 0)))\n",
    "segments = slic(image, n_segments=numSegments, sigma=2)\n",
    "# fig = plt.figure(\"Superpixels -- %d segments\" % (numSegments))\n",
    "# ax = fig.add_subplot(1, 1, 1)\n",
    "# ax.imshow(color.label2rgb(segments, image, kind='avg'))\n",
    "# plt.axis(\"off\")"
   ],
   "metadata": {
    "collapsed": false,
    "ExecuteTime": {
     "start_time": "2023-12-25T18:24:55.481504900Z"
    }
   },
   "id": "b25d653d5be010ba",
   "execution_count": null
  },
  {
   "cell_type": "code",
   "outputs": [
    {
     "data": {
      "text/plain": "array([[[122, 150, 127],\n        [122, 150, 127],\n        [122, 150, 127],\n        ...,\n        [123, 148, 126],\n        [123, 148, 126],\n        [123, 148, 126]],\n\n       [[122, 150, 127],\n        [122, 150, 127],\n        [122, 150, 127],\n        ...,\n        [124, 149, 127],\n        [123, 148, 126],\n        [123, 148, 126]],\n\n       [[122, 150, 127],\n        [122, 150, 127],\n        [122, 150, 127],\n        ...,\n        [124, 149, 127],\n        [124, 149, 127],\n        [123, 148, 126]],\n\n       ...,\n\n       [[ 18,  23,   0],\n        [ 19,  24,   1],\n        [ 21,  26,   4],\n        ...,\n        [ 99, 111,   0],\n        [ 95, 107,   0],\n        [112, 124,  12]],\n\n       [[ 19,  25,   0],\n        [ 19,  25,   0],\n        [ 20,  25,   2],\n        ...,\n        [130, 143,  27],\n        [174, 187,  73],\n        [127, 140,  26]],\n\n       [[ 23,  29,   1],\n        [ 22,  28,   2],\n        [ 21,  26,   3],\n        ...,\n        [128, 141,  25],\n        [122, 135,  19],\n        [ 94, 107,   0]]], dtype=uint8)"
     },
     "execution_count": 1,
     "metadata": {},
     "output_type": "execute_result"
    }
   ],
   "source": [
    "from skimage import io\n",
    "io.imread('./datasets/landscapes/0.jpg')"
   ],
   "metadata": {
    "collapsed": false,
    "ExecuteTime": {
     "end_time": "2023-12-25T18:28:48.624516500Z",
     "start_time": "2023-12-25T18:28:48.429838300Z"
    }
   },
   "id": "a91150e61faf003d",
   "execution_count": 1
  },
  {
   "cell_type": "code",
   "outputs": [
    {
     "name": "stdout",
     "output_type": "stream",
     "text": [
      "D:\\Github proj\\MachineLearning\\ML\\PROducts\\Neuro\n"
     ]
    }
   ],
   "source": [
    "!cd"
   ],
   "metadata": {
    "collapsed": false,
    "ExecuteTime": {
     "end_time": "2023-12-25T18:53:24.262244500Z",
     "start_time": "2023-12-25T18:53:24.242735500Z"
    }
   },
   "id": "1697cd8cbe274a53",
   "execution_count": 7
  },
  {
   "cell_type": "code",
   "outputs": [
    {
     "data": {
      "text/plain": "['00000000.jpg',\n '00000000_(2).jpg',\n '00000000_(3).jpg',\n '00000000_(4).jpg',\n '00000000_(5).jpg',\n '00000000_(6).jpg',\n '00000000_(7).jpg',\n '00000001.jpg',\n '00000001_(2).jpg',\n '00000001_(3).jpg',\n '00000001_(4).jpg',\n '00000001_(5).jpg',\n '00000001_(6).jpg',\n '00000001_(7).jpg',\n '00000002.jpg',\n '00000002_(2).jpg',\n '00000002_(3).jpg',\n '00000002_(4).jpg',\n '00000002_(5).jpg',\n '00000002_(6).jpg',\n '00000003.jpg',\n '00000003_(2).jpg',\n '00000003_(3).jpg',\n '00000003_(4).jpg',\n '00000003_(5).jpg',\n '00000003_(6).jpg',\n '00000003_(7).jpg',\n '00000004.jpg',\n '00000004_(2).jpg',\n '00000004_(3).jpg',\n '00000004_(4).jpg',\n '00000004_(5).jpg',\n '00000004_(6).jpg',\n '00000004_(7).jpg',\n '00000005.jpg',\n '00000005_(2).jpg',\n '00000005_(3).jpg',\n '00000005_(4).jpg',\n '00000005_(5).jpg',\n '00000005_(6).jpg',\n '00000005_(7).jpg',\n '00000006.jpg',\n '00000006_(2).jpg',\n '00000006_(3).jpg',\n '00000006_(4).jpg',\n '00000006_(5).jpg',\n '00000006_(6).jpg',\n '00000007.jpg',\n '00000007_(2).jpg',\n '00000007_(3).jpg',\n '00000007_(4).jpg',\n '00000007_(5).jpg',\n '00000007_(6).jpg',\n '00000007_(7).jpg',\n '00000008.jpg',\n '00000008_(2).jpg',\n '00000008_(3).jpg',\n '00000008_(4).jpg',\n '00000008_(5).jpg',\n '00000008_(6).jpg',\n '00000009.jpg',\n '00000009_(2).jpg',\n '00000009_(3).jpg',\n '00000009_(4).jpg',\n '00000009_(5).jpg',\n '00000009_(6).jpg',\n '00000009_(7).jpg',\n '00000010.jpg',\n '00000010_(2).jpg',\n '00000010_(3).jpg',\n '00000010_(4).jpg',\n '00000010_(5).jpg',\n '00000010_(6).jpg',\n '00000010_(7).jpg',\n '00000011.jpg',\n '00000011_(2).jpg',\n '00000011_(3).jpg',\n '00000011_(4).jpg',\n '00000011_(5).jpg',\n '00000011_(6).jpg',\n '00000011_(7).jpg',\n '00000012.jpg',\n '00000012_(2).jpg',\n '00000012_(3).jpg',\n '00000012_(4).jpg',\n '00000012_(5).jpg',\n '00000012_(6).jpg',\n '00000012_(7).jpg',\n '00000013.jpg',\n '00000013_(2).jpg',\n '00000013_(3).jpg',\n '00000013_(4).jpg',\n '00000013_(5).jpg',\n '00000013_(6).jpg',\n '00000013_(7).jpg',\n '00000014.jpg',\n '00000014_(2).jpg',\n '00000014_(3).jpg',\n '00000014_(4).jpg',\n '00000014_(5).jpg',\n '00000014_(6).jpg',\n '00000014_(7).jpg',\n '00000015.jpg',\n '00000015_(2).jpg',\n '00000015_(3).jpg',\n '00000015_(4).jpg',\n '00000015_(5).jpg',\n '00000015_(6).jpg',\n '00000015_(7).jpg',\n '00000016.jpg',\n '00000016_(2).jpg',\n '00000016_(3).jpg',\n '00000016_(4).jpg',\n '00000016_(5).jpg',\n '00000016_(6).jpg',\n '00000016_(7).jpg',\n '00000017.jpg',\n '00000017_(2).jpg',\n '00000017_(3).jpg',\n '00000017_(4).jpg',\n '00000017_(5).jpg',\n '00000017_(6).jpg',\n '00000017_(7).jpg',\n '00000018.jpg',\n '00000018_(2).jpg',\n '00000018_(3).jpg',\n '00000018_(4).jpg',\n '00000018_(5).jpg',\n '00000018_(6).jpg',\n '00000018_(7).jpg',\n '00000019.jpg',\n '00000019_(2).jpg',\n '00000019_(3).jpg',\n '00000019_(4).jpg',\n '00000019_(5).jpg',\n '00000019_(6).jpg',\n '00000020.jpg',\n '00000020_(2).jpg',\n '00000020_(3).jpg',\n '00000020_(4).jpg',\n '00000020_(5).jpg',\n '00000020_(6).jpg',\n '00000021.jpg',\n '00000021_(2).jpg',\n '00000021_(3).jpg',\n '00000021_(4).jpg',\n '00000021_(5).jpg',\n '00000021_(6).jpg',\n '00000021_(7).jpg',\n '00000022.jpg',\n '00000022_(2).jpg',\n '00000022_(3).jpg',\n '00000022_(4).jpg',\n '00000022_(5).jpg',\n '00000022_(6).jpg',\n '00000022_(7).jpg',\n '00000023.jpg',\n '00000023_(2).jpg',\n '00000023_(3).jpg',\n '00000023_(4).jpg',\n '00000023_(5).jpg',\n '00000023_(6).jpg',\n '00000023_(7).jpg',\n '00000024.jpg',\n '00000024_(2).jpg',\n '00000024_(3).jpg',\n '00000024_(4).jpg',\n '00000024_(5).jpg',\n '00000024_(6).jpg',\n '00000025.jpg',\n '00000025_(2).jpg',\n '00000025_(3).jpg',\n '00000025_(4).jpg',\n '00000025_(5).jpg',\n '00000025_(6).jpg',\n '00000025_(7).jpg',\n '00000026.jpg',\n '00000026_(2).jpg',\n '00000026_(3).jpg',\n '00000026_(4).jpg',\n '00000026_(5).jpg',\n '00000026_(6).jpg',\n '00000026_(7).jpg',\n '00000027.jpg',\n '00000027_(2).jpg',\n '00000027_(3).jpg',\n '00000027_(4).jpg',\n '00000027_(5).jpg',\n '00000027_(6).jpg',\n '00000028.jpg',\n '00000028_(2).jpg',\n '00000028_(3).jpg',\n '00000028_(4).jpg',\n '00000028_(5).jpg',\n '00000028_(6).jpg',\n '00000028_(7).jpg',\n '00000029.jpg',\n '00000029_(2).jpg',\n '00000029_(3).jpg',\n '00000029_(4).jpg',\n '00000029_(5).jpg',\n '00000029_(6).jpg',\n '00000030.jpg',\n '00000030_(2).jpg',\n '00000030_(3).jpg',\n '00000030_(4).jpg',\n '00000030_(5).jpg',\n '00000030_(6).jpg',\n '00000030_(7).jpg',\n '00000031.jpg',\n '00000031_(2).jpg',\n '00000031_(3).jpg',\n '00000031_(4).jpg',\n '00000031_(5).jpg',\n '00000031_(6).jpg',\n '00000032.jpg',\n '00000032_(2).jpg',\n '00000032_(3).jpg',\n '00000032_(4).jpg',\n '00000032_(5).jpg',\n '00000032_(6).jpg',\n '00000033.jpg',\n '00000033_(2).jpg',\n '00000033_(3).jpg',\n '00000033_(4).jpg',\n '00000033_(5).jpg',\n '00000033_(6).jpg',\n '00000033_(7).jpg',\n '00000034.jpg',\n '00000034_(2).jpg',\n '00000034_(3).jpg',\n '00000034_(4).jpg',\n '00000034_(5).jpg',\n '00000034_(6).jpg',\n '00000035.jpg',\n '00000035_(2).jpg',\n '00000035_(3).jpg',\n '00000035_(4).jpg',\n '00000035_(5).jpg',\n '00000035_(6).jpg',\n '00000036.jpg',\n '00000036_(2).jpg',\n '00000036_(3).jpg',\n '00000036_(4).jpg',\n '00000036_(5).jpg',\n '00000036_(6).jpg',\n '00000036_(7).jpg',\n '00000037.jpg',\n '00000037_(2).jpg',\n '00000037_(3).jpg',\n '00000037_(4).jpg',\n '00000037_(5).jpg',\n '00000037_(6).jpg',\n '00000038.jpg',\n '00000038_(2).jpg',\n '00000038_(3).jpg',\n '00000038_(4).jpg',\n '00000038_(5).jpg',\n '00000038_(6).jpg',\n '00000039.jpg',\n '00000039_(2).jpg',\n '00000039_(3).jpg',\n '00000039_(4).jpg',\n '00000039_(5).jpg',\n '00000039_(6).jpg',\n '00000040.jpg',\n '00000040_(2).jpg',\n '00000040_(3).jpg',\n '00000040_(4).jpg',\n '00000040_(5).jpg',\n '00000040_(6).jpg',\n '00000041.jpg',\n '00000041_(2).jpg',\n '00000041_(3).jpg',\n '00000041_(4).jpg',\n '00000041_(5).jpg',\n '00000041_(6).jpg',\n '00000041_(7).jpg',\n '00000042.jpg',\n '00000042_(2).jpg',\n '00000042_(3).jpg',\n '00000042_(4).jpg',\n '00000042_(5).jpg',\n '00000042_(6).jpg',\n '00000042_(7).jpg',\n '00000043.jpg',\n '00000043_(2).jpg',\n '00000043_(3).jpg',\n '00000043_(4).jpg',\n '00000043_(5).jpg',\n '00000043_(6).jpg',\n '00000043_(7).jpg',\n '00000044.jpg',\n '00000044_(2).jpg',\n '00000044_(3).jpg',\n '00000044_(4).jpg',\n '00000044_(5).jpg',\n '00000044_(6).jpg',\n '00000045.jpg',\n '00000045_(2).jpg',\n '00000045_(3).jpg',\n '00000045_(4).jpg',\n '00000045_(5).jpg',\n '00000045_(6).jpg',\n '00000046.jpg',\n '00000046_(2).jpg',\n '00000046_(3).jpg',\n '00000046_(4).jpg',\n '00000046_(5).jpg',\n '00000046_(6).jpg',\n '00000046_(7).jpg',\n '00000047.jpg',\n '00000047_(2).jpg',\n '00000047_(3).jpg',\n '00000047_(4).jpg',\n '00000047_(5).jpg',\n '00000047_(6).jpg',\n '00000047_(7).jpg',\n '00000048.jpg',\n '00000048_(2).jpg',\n '00000048_(3).jpg',\n '00000048_(4).jpg',\n '00000048_(5).jpg',\n '00000048_(6).jpg',\n '00000049.jpg',\n '00000049_(2).jpg',\n '00000049_(3).jpg',\n '00000049_(4).jpg',\n '00000049_(5).jpg',\n '00000049_(6).jpg',\n '00000050.jpg',\n '00000050_(2).jpg',\n '00000050_(3).jpg',\n '00000050_(4).jpg',\n '00000050_(5).jpg',\n '00000050_(6).jpg',\n '00000051.jpg',\n '00000051_(2).jpg',\n '00000051_(3).jpg',\n '00000051_(4).jpg',\n '00000051_(5).jpg',\n '00000051_(6).jpg',\n '00000052.jpg',\n '00000052_(2).jpg',\n '00000052_(3).jpg',\n '00000052_(4).jpg',\n '00000052_(5).jpg',\n '00000052_(6).jpg',\n '00000053.jpg',\n '00000053_(2).jpg',\n '00000053_(3).jpg',\n '00000053_(4).jpg',\n '00000053_(5).jpg',\n '00000053_(6).jpg',\n '00000054.jpg',\n '00000054_(2).jpg',\n '00000054_(3).jpg',\n '00000054_(4).jpg',\n '00000054_(5).jpg',\n '00000054_(6).jpg',\n '00000054_(7).jpg',\n '00000055.jpg',\n '00000055_(2).jpg',\n '00000055_(3).jpg',\n '00000055_(4).jpg',\n '00000055_(5).jpg',\n '00000055_(6).jpg',\n '00000056.jpg',\n '00000056_(2).jpg',\n '00000056_(3).jpg',\n '00000056_(4).jpg',\n '00000056_(5).jpg',\n '00000056_(6).jpg',\n '00000057.jpg',\n '00000057_(2).jpg',\n '00000057_(3).jpg',\n '00000057_(4).jpg',\n '00000057_(5).jpg',\n '00000057_(6).jpg',\n '00000057_(7).jpg',\n '00000058.jpg',\n '00000058_(2).jpg',\n '00000058_(3).jpg',\n '00000058_(4).jpg',\n '00000058_(5).jpg',\n '00000058_(6).jpg',\n '00000059.jpg',\n '00000059_(2).jpg',\n '00000059_(3).jpg',\n '00000059_(4).jpg',\n '00000059_(5).jpg',\n '00000059_(6).jpg',\n '00000059_(7).jpg',\n '00000060.jpg',\n '00000060_(2).jpg',\n '00000060_(3).jpg',\n '00000060_(4).jpg',\n '00000060_(5).jpg',\n '00000060_(6).jpg',\n '00000061.jpg',\n '00000061_(2).jpg',\n '00000061_(3).jpg',\n '00000061_(4).jpg',\n '00000061_(5).jpg',\n '00000061_(6).jpg',\n '00000062.jpg',\n '00000062_(2).jpg',\n '00000062_(3).jpg',\n '00000062_(4).jpg',\n '00000062_(5).jpg',\n '00000062_(6).jpg',\n '00000063.jpg',\n '00000063_(2).jpg',\n '00000063_(3).jpg',\n '00000063_(4).jpg',\n '00000063_(5).jpg',\n '00000063_(6).jpg',\n '00000064.jpg',\n '00000064_(2).jpg',\n '00000064_(3).jpg',\n '00000064_(4).jpg',\n '00000064_(5).jpg',\n '00000064_(6).jpg',\n '00000064_(7).jpg',\n '00000065.jpg',\n '00000065_(2).jpg',\n '00000065_(3).jpg',\n '00000065_(4).jpg',\n '00000065_(5).jpg',\n '00000065_(6).jpg',\n '00000066.jpg',\n '00000066_(2).jpg',\n '00000066_(3).jpg',\n '00000066_(4).jpg',\n '00000066_(5).jpg',\n '00000066_(6).jpg',\n '00000066_(7).jpg',\n '00000067.jpg',\n '00000067_(2).jpg',\n '00000067_(3).jpg',\n '00000067_(4).jpg',\n '00000067_(5).jpg',\n '00000067_(6).jpg',\n '00000067_(7).jpg',\n '00000068.jpg',\n '00000068_(2).jpg',\n '00000068_(3).jpg',\n '00000068_(4).jpg',\n '00000068_(5).jpg',\n '00000068_(6).jpg',\n '00000068_(7).jpg',\n '00000069.jpg',\n '00000069_(2).jpg',\n '00000069_(3).jpg',\n '00000069_(4).jpg',\n '00000069_(5).jpg',\n '00000069_(6).jpg',\n '00000069_(7).jpg',\n '00000070.jpg',\n '00000070_(2).jpg',\n '00000070_(3).jpg',\n '00000070_(4).jpg',\n '00000070_(5).jpg',\n '00000070_(6).jpg',\n '00000070_(7).jpg',\n '00000071.jpg',\n '00000071_(2).jpg',\n '00000071_(3).jpg',\n '00000071_(4).jpg',\n '00000071_(5).jpg',\n '00000071_(6).jpg',\n '00000071_(7).jpg',\n '00000072.jpg',\n '00000072_(2).jpg',\n '00000072_(3).jpg',\n '00000072_(4).jpg',\n '00000072_(5).jpg',\n '00000072_(6).jpg',\n '00000073.jpg',\n '00000073_(2).jpg',\n '00000073_(3).jpg',\n '00000073_(4).jpg',\n '00000073_(5).jpg',\n '00000073_(6).jpg',\n '00000074.jpg',\n '00000074_(2).jpg',\n '00000074_(3).jpg',\n '00000074_(4).jpg',\n '00000074_(5).jpg',\n '00000074_(6).jpg',\n '00000075.jpg',\n '00000075_(2).jpg',\n '00000075_(3).jpg',\n '00000075_(4).jpg',\n '00000075_(5).jpg',\n '00000075_(6).jpg',\n '00000075_(7).jpg',\n '00000076.jpg',\n '00000076_(2).jpg',\n '00000076_(3).jpg',\n '00000076_(4).jpg',\n '00000076_(5).jpg',\n '00000076_(6).jpg',\n '00000076_(7).jpg',\n '00000077.jpg',\n '00000077_(2).jpg',\n '00000077_(3).jpg',\n '00000077_(4).jpg',\n '00000077_(5).jpg',\n '00000077_(6).jpg',\n '00000078.jpg',\n '00000078_(2).jpg',\n '00000078_(3).jpg',\n '00000078_(4).jpg',\n '00000078_(5).jpg',\n '00000078_(6).jpg',\n '00000079.jpg',\n '00000079_(2).jpg',\n '00000079_(3).jpg',\n '00000079_(4).jpg',\n '00000079_(5).jpg',\n '00000079_(6).jpg',\n '00000079_(7).jpg',\n '00000080.jpg',\n '00000080_(2).jpg',\n '00000080_(3).jpg',\n '00000080_(4).jpg',\n '00000080_(5).jpg',\n '00000080_(6).jpg',\n '00000080_(7).jpg',\n '00000081.jpg',\n '00000081_(2).jpg',\n '00000081_(3).jpg',\n '00000081_(4).jpg',\n '00000081_(5).jpg',\n '00000081_(6).jpg',\n '00000082.jpg',\n '00000082_(2).jpg',\n '00000082_(3).jpg',\n '00000082_(4).jpg',\n '00000082_(5).jpg',\n '00000082_(6).jpg',\n '00000082_(7).jpg',\n '00000083.jpg',\n '00000083_(2).jpg',\n '00000083_(3).jpg',\n '00000083_(4).jpg',\n '00000083_(5).jpg',\n '00000083_(6).jpg',\n '00000083_(7).jpg',\n '00000084.jpg',\n '00000084_(2).jpg',\n '00000084_(3).jpg',\n '00000084_(4).jpg',\n '00000084_(5).jpg',\n '00000084_(6).jpg',\n '00000085.jpg',\n '00000085_(2).jpg',\n '00000085_(3).jpg',\n '00000085_(4).jpg',\n '00000085_(5).jpg',\n '00000085_(6).jpg',\n '00000086.jpg',\n '00000086_(2).jpg',\n '00000086_(3).jpg',\n '00000086_(4).jpg',\n '00000086_(5).jpg',\n '00000086_(6).jpg',\n '00000087.jpg',\n '00000087_(2).jpg',\n '00000087_(3).jpg',\n '00000087_(4).jpg',\n '00000087_(5).jpg',\n '00000087_(6).jpg',\n '00000088.jpg',\n '00000088_(2).jpg',\n '00000088_(3).jpg',\n '00000088_(4).jpg',\n '00000088_(5).jpg',\n '00000088_(6).jpg',\n '00000089.jpg',\n '00000089_(2).jpg',\n '00000089_(3).jpg',\n '00000089_(4).jpg',\n '00000089_(5).jpg',\n '00000089_(6).jpg',\n '00000090.jpg',\n '00000090_(2).jpg',\n '00000090_(3).jpg',\n '00000090_(4).jpg',\n '00000090_(5).jpg',\n '00000090_(6).jpg',\n '00000091.jpg',\n '00000091_(2).jpg',\n '00000091_(3).jpg',\n '00000091_(4).jpg',\n '00000091_(5).jpg',\n '00000091_(6).jpg',\n '00000092.jpg',\n '00000092_(2).jpg',\n '00000092_(3).jpg',\n '00000092_(4).jpg',\n '00000092_(5).jpg',\n '00000092_(6).jpg',\n '00000093.jpg',\n '00000093_(2).jpg',\n '00000093_(3).jpg',\n '00000093_(4).jpg',\n '00000093_(5).jpg',\n '00000093_(6).jpg',\n '00000093_(7).jpg',\n '00000094.jpg',\n '00000094_(2).jpg',\n '00000094_(3).jpg',\n '00000094_(4).jpg',\n '00000094_(5).jpg',\n '00000094_(6).jpg',\n '00000095.jpg',\n '00000095_(2).jpg',\n '00000095_(3).jpg',\n '00000095_(4).jpg',\n '00000095_(5).jpg',\n '00000095_(6).jpg',\n '00000096.jpg',\n '00000096_(2).jpg',\n '00000096_(3).jpg',\n '00000096_(4).jpg',\n '00000096_(5).jpg',\n '00000096_(6).jpg',\n '00000096_(7).jpg',\n '00000097.jpg',\n '00000097_(2).jpg',\n '00000097_(3).jpg',\n '00000097_(4).jpg',\n '00000097_(5).jpg',\n '00000097_(6).jpg',\n '00000097_(7).jpg',\n '00000098.jpg',\n '00000098_(2).jpg',\n '00000098_(3).jpg',\n '00000098_(4).jpg',\n '00000098_(5).jpg',\n '00000098_(6).jpg',\n '00000099.jpg',\n '00000099_(2).jpg',\n '00000099_(3).jpg',\n '00000099_(4).jpg',\n '00000099_(5).jpg',\n '00000099_(6).jpg',\n '00000100.jpg',\n '00000100_(2).jpg',\n '00000100_(3).jpg',\n '00000100_(4).jpg',\n '00000100_(5).jpg',\n '00000100_(6).jpg',\n '00000101.jpg',\n '00000101_(2).jpg',\n '00000101_(3).jpg',\n '00000101_(4).jpg',\n '00000101_(5).jpg',\n '00000101_(6).jpg',\n '00000101_(7).jpg',\n '00000102.jpg',\n '00000102_(2).jpg',\n '00000102_(3).jpg',\n '00000102_(4).jpg',\n '00000102_(5).jpg',\n '00000102_(6).jpg',\n '00000103.jpg',\n '00000103_(2).jpg',\n '00000103_(3).jpg',\n '00000103_(4).jpg',\n '00000103_(5).jpg',\n '00000103_(6).jpg',\n '00000103_(7).jpg',\n '00000104.jpg',\n '00000104_(2).jpg',\n '00000104_(3).jpg',\n '00000104_(4).jpg',\n '00000104_(5).jpg',\n '00000104_(6).jpg',\n '00000104_(7).jpg',\n '00000105.jpg',\n '00000105_(2).jpg',\n '00000105_(3).jpg',\n '00000105_(4).jpg',\n '00000105_(5).jpg',\n '00000105_(6).jpg',\n '00000105_(7).jpg',\n '00000106.jpg',\n '00000106_(2).jpg',\n '00000106_(3).jpg',\n '00000106_(4).jpg',\n '00000106_(5).jpg',\n '00000106_(6).jpg',\n '00000107.jpg',\n '00000107_(2).jpg',\n '00000107_(3).jpg',\n '00000107_(4).jpg',\n '00000107_(5).jpg',\n '00000107_(6).jpg',\n '00000107_(7).jpg',\n '00000108.jpg',\n '00000108_(2).jpg',\n '00000108_(3).jpg',\n '00000108_(4).jpg',\n '00000108_(5).jpg',\n '00000108_(6).jpg',\n '00000109.jpg',\n '00000109_(2).jpg',\n '00000109_(3).jpg',\n '00000109_(4).jpg',\n '00000109_(5).jpg',\n '00000109_(6).jpg',\n '00000110.jpg',\n '00000110_(2).jpg',\n '00000110_(3).jpg',\n '00000110_(4).jpg',\n '00000110_(5).jpg',\n '00000110_(6).jpg',\n '00000111.jpg',\n '00000111_(2).jpg',\n '00000111_(3).jpg',\n '00000111_(4).jpg',\n '00000111_(5).jpg',\n '00000111_(6).jpg',\n '00000112.jpg',\n '00000112_(2).jpg',\n '00000112_(3).jpg',\n '00000112_(4).jpg',\n '00000112_(5).jpg',\n '00000112_(6).jpg',\n '00000113.jpg',\n '00000113_(2).jpg',\n '00000113_(3).jpg',\n '00000113_(4).jpg',\n '00000113_(5).jpg',\n '00000113_(6).jpg',\n '00000114.jpg',\n '00000114_(2).jpg',\n '00000114_(3).jpg',\n '00000114_(4).jpg',\n '00000114_(5).jpg',\n '00000114_(6).jpg',\n '00000115.jpg',\n '00000115_(2).jpg',\n '00000115_(3).jpg',\n '00000115_(4).jpg',\n '00000115_(5).jpg',\n '00000115_(6).jpg',\n '00000115_(7).jpg',\n '00000116.jpg',\n '00000116_(2).jpg',\n '00000116_(3).jpg',\n '00000116_(4).jpg',\n '00000116_(5).jpg',\n '00000116_(6).jpg',\n '00000117.jpg',\n '00000117_(2).jpg',\n '00000117_(3).jpg',\n '00000117_(4).jpg',\n '00000117_(5).jpg',\n '00000117_(6).jpg',\n '00000118.jpg',\n '00000118_(2).jpg',\n '00000118_(3).jpg',\n '00000118_(4).jpg',\n '00000118_(5).jpg',\n '00000118_(6).jpg',\n '00000119.jpg',\n '00000119_(2).jpg',\n '00000119_(3).jpg',\n '00000119_(4).jpg',\n '00000119_(5).jpg',\n '00000119_(6).jpg',\n '00000120.jpg',\n '00000120_(2).jpg',\n '00000120_(3).jpg',\n '00000120_(4).jpg',\n '00000120_(5).jpg',\n '00000121.jpg',\n '00000121_(2).jpg',\n '00000121_(3).jpg',\n '00000121_(4).jpg',\n '00000121_(5).jpg',\n '00000121_(6).jpg',\n '00000121_(7).jpg',\n '00000122.jpg',\n '00000122_(2).jpg',\n '00000122_(3).jpg',\n '00000122_(4).jpg',\n '00000122_(5).jpg',\n '00000122_(6).jpg',\n '00000123.jpg',\n '00000123_(2).jpg',\n '00000123_(3).jpg',\n '00000123_(4).jpg',\n '00000123_(5).jpg',\n '00000123_(6).jpg',\n '00000124.jpg',\n '00000124_(2).jpg',\n '00000124_(3).jpg',\n '00000124_(4).jpg',\n '00000124_(5).jpg',\n '00000124_(6).jpg',\n '00000124_(7).jpg',\n '00000125.jpg',\n '00000125_(2).jpg',\n '00000125_(3).jpg',\n '00000125_(4).jpg',\n '00000125_(5).jpg',\n '00000125_(6).jpg',\n '00000126.jpg',\n '00000126_(2).jpg',\n '00000126_(3).jpg',\n '00000126_(4).jpg',\n '00000126_(5).jpg',\n '00000126_(6).jpg',\n '00000126_(7).jpg',\n '00000127.jpg',\n '00000127_(2).jpg',\n '00000127_(3).jpg',\n '00000127_(4).jpg',\n '00000127_(5).jpg',\n '00000127_(6).jpg',\n '00000128.jpg',\n '00000128_(2).jpg',\n '00000128_(3).jpg',\n '00000128_(4).jpg',\n '00000128_(5).jpg',\n '00000128_(6).jpg',\n '00000129.jpg',\n '00000129_(2).jpg',\n '00000129_(3).jpg',\n '00000129_(4).jpg',\n '00000129_(5).jpg',\n '00000129_(6).jpg',\n '00000130.jpg',\n '00000130_(2).jpg',\n '00000130_(3).jpg',\n '00000130_(4).jpg',\n '00000130_(5).jpg',\n '00000130_(6).jpg',\n '00000131.jpg',\n '00000131_(2).jpg',\n '00000131_(3).jpg',\n '00000131_(4).jpg',\n '00000131_(5).jpg',\n '00000131_(6).jpg',\n '00000132.jpg',\n '00000132_(2).jpg',\n '00000132_(3).jpg',\n '00000132_(4).jpg',\n '00000132_(5).jpg',\n '00000132_(6).jpg',\n '00000133.jpg',\n '00000133_(2).jpg',\n '00000133_(3).jpg',\n '00000133_(4).jpg',\n '00000133_(5).jpg',\n '00000133_(6).jpg',\n '00000134.jpg',\n '00000134_(2).jpg',\n '00000134_(3).jpg',\n '00000134_(4).jpg',\n '00000134_(5).jpg',\n '00000134_(6).jpg',\n '00000134_(7).jpg',\n '00000135.jpg',\n '00000135_(2).jpg',\n '00000135_(3).jpg',\n '00000135_(4).jpg',\n '00000135_(5).jpg',\n '00000135_(6).jpg',\n '00000136.jpg',\n '00000136_(2).jpg',\n '00000136_(3).jpg',\n '00000136_(4).jpg',\n '00000136_(5).jpg',\n '00000136_(6).jpg',\n '00000137.jpg',\n '00000137_(2).jpg',\n '00000137_(3).jpg',\n '00000137_(4).jpg',\n '00000137_(5).jpg',\n '00000137_(6).jpg',\n '00000138.jpg',\n '00000138_(2).jpg',\n '00000138_(3).jpg',\n '00000138_(4).jpg',\n '00000138_(5).jpg',\n '00000138_(6).jpg',\n '00000139.jpg',\n '00000139_(2).jpg',\n '00000139_(3).jpg',\n '00000139_(4).jpg',\n '00000139_(5).jpg',\n '00000139_(6).jpg',\n '00000140.jpg',\n '00000140_(2).jpg',\n '00000140_(3).jpg',\n '00000140_(4).jpg',\n '00000140_(5).jpg',\n '00000140_(6).jpg',\n '00000141.jpg',\n '00000141_(2).jpg',\n '00000141_(3).jpg',\n '00000141_(4).jpg',\n '00000141_(5).jpg',\n '00000141_(6).jpg',\n '00000142.jpg',\n '00000142_(2).jpg',\n '00000142_(3).jpg',\n '00000142_(4).jpg',\n '00000142_(5).jpg',\n '00000142_(6).jpg',\n '00000143.jpg',\n '00000143_(2).jpg',\n '00000143_(3).jpg',\n '00000143_(4).jpg',\n '00000143_(5).jpg',\n '00000143_(6).jpg',\n '00000144.jpg',\n '00000144_(2).jpg',\n '00000144_(3).jpg',\n '00000144_(4).jpg',\n '00000144_(5).jpg',\n '00000144_(6).jpg',\n '00000145.jpg',\n '00000145_(2).jpg',\n '00000145_(3).jpg',\n '00000145_(4).jpg',\n '00000145_(5).jpg',\n '00000145_(6).jpg',\n '00000146.jpg',\n '00000146_(2).jpg',\n '00000146_(3).jpg',\n '00000146_(4).jpg',\n '00000146_(5).jpg',\n '00000146_(6).jpg',\n '00000147.jpg',\n '00000147_(2).jpg',\n '00000147_(3).jpg',\n '00000147_(4).jpg',\n '00000147_(5).jpg',\n '00000147_(6).jpg',\n '00000148.jpg',\n '00000148_(2).jpg',\n '00000148_(3).jpg',\n '00000148_(4).jpg',\n '00000148_(5).jpg',\n '00000148_(6).jpg',\n '00000149.jpg',\n '00000149_(2).jpg',\n '00000149_(3).jpg',\n '00000149_(4).jpg',\n '00000149_(5).jpg',\n '00000149_(6).jpg',\n '00000150.jpg',\n '00000150_(2).jpg',\n '00000150_(3).jpg',\n '00000150_(4).jpg',\n '00000150_(5).jpg',\n '00000150_(6).jpg',\n '00000151.jpg',\n '00000151_(2).jpg',\n '00000151_(3).jpg',\n '00000151_(4).jpg',\n '00000151_(5).jpg',\n '00000151_(6).jpg',\n '00000152.jpg',\n '00000152_(2).jpg',\n '00000152_(3).jpg',\n '00000152_(4).jpg',\n '00000152_(5).jpg',\n '00000152_(6).jpg',\n '00000153.jpg',\n '00000153_(2).jpg',\n '00000153_(3).jpg',\n '00000153_(4).jpg',\n '00000153_(5).jpg',\n '00000153_(6).jpg',\n '00000154.jpg',\n '00000154_(2).jpg',\n '00000154_(3).jpg',\n '00000154_(4).jpg',\n '00000154_(5).jpg',\n '00000154_(6).jpg',\n '00000155.jpg',\n '00000155_(2).jpg',\n '00000155_(3).jpg',\n '00000155_(4).jpg',\n '00000155_(5).jpg',\n '00000155_(6).jpg',\n '00000156.jpg',\n '00000156_(2).jpg',\n '00000156_(3).jpg',\n '00000156_(4).jpg',\n '00000156_(5).jpg',\n '00000156_(6).jpg',\n ...]"
     },
     "execution_count": 17,
     "metadata": {},
     "output_type": "execute_result"
    }
   ],
   "source": [
    "import os\n",
    "\n",
    "os.listdir('./datasets/landscapes')"
   ],
   "metadata": {
    "collapsed": false,
    "ExecuteTime": {
     "end_time": "2023-12-25T13:39:15.132044700Z",
     "start_time": "2023-12-25T13:39:15.121198800Z"
    }
   },
   "id": "1da52d5d3bd6e257",
   "execution_count": 17
  },
  {
   "cell_type": "code",
   "outputs": [
    {
     "ename": "FileExistsError",
     "evalue": "[WinError 183] Невозможно создать файл, так как он уже существует: '10.jpg' -> '2.jpg'",
     "output_type": "error",
     "traceback": [
      "\u001B[1;31m---------------------------------------------------------------------------\u001B[0m",
      "\u001B[1;31mFileExistsError\u001B[0m                           Traceback (most recent call last)",
      "Cell \u001B[1;32mIn[64], line 5\u001B[0m\n\u001B[0;32m      3\u001B[0m os\u001B[38;5;241m.\u001B[39mchdir(\u001B[38;5;124m'\u001B[39m\u001B[38;5;124m./datasets/landscapes\u001B[39m\u001B[38;5;124m'\u001B[39m)\n\u001B[0;32m      4\u001B[0m \u001B[38;5;28;01mfor\u001B[39;00m filename \u001B[38;5;129;01min\u001B[39;00m dir_files:\n\u001B[1;32m----> 5\u001B[0m     os\u001B[38;5;241m.\u001B[39mrename(filename, \u001B[38;5;124mf\u001B[39m\u001B[38;5;124m'\u001B[39m\u001B[38;5;132;01m{\u001B[39;00mi\u001B[38;5;132;01m}\u001B[39;00m\u001B[38;5;124m.jpg\u001B[39m\u001B[38;5;124m'\u001B[39m)\n\u001B[0;32m      6\u001B[0m     i \u001B[38;5;241m+\u001B[39m\u001B[38;5;241m=\u001B[39m \u001B[38;5;241m1\u001B[39m\n\u001B[0;32m      7\u001B[0m os\u001B[38;5;241m.\u001B[39mchdir(\u001B[38;5;124mr\u001B[39m\u001B[38;5;124m'\u001B[39m\u001B[38;5;124mD:\u001B[39m\u001B[38;5;124m\\\u001B[39m\u001B[38;5;124mGithub proj\u001B[39m\u001B[38;5;124m\\\u001B[39m\u001B[38;5;124mMachineLearning\u001B[39m\u001B[38;5;124m\\\u001B[39m\u001B[38;5;124mML\u001B[39m\u001B[38;5;124m\\\u001B[39m\u001B[38;5;124mPROducts\u001B[39m\u001B[38;5;124m\\\u001B[39m\u001B[38;5;124mNeuro\u001B[39m\u001B[38;5;124m'\u001B[39m)\n",
      "\u001B[1;31mFileExistsError\u001B[0m: [WinError 183] Невозможно создать файл, так как он уже существует: '10.jpg' -> '2.jpg'"
     ]
    }
   ],
   "source": [
    "i = 0\n",
    "dir_files = os.listdir('./datasets/landscapes')\n",
    "os.chdir('./datasets/landscapes')\n",
    "for filename in dir_files:\n",
    "    os.rename(filename, f'{i}.jpg')\n",
    "    i += 1\n",
    "os.chdir(r'D:\\Github proj\\MachineLearning\\ML\\PROducts\\Neuro')\n",
    "!cd"
   ],
   "metadata": {
    "collapsed": false,
    "ExecuteTime": {
     "end_time": "2023-12-25T13:54:46.781657600Z",
     "start_time": "2023-12-25T13:54:46.769156800Z"
    }
   },
   "id": "5e382097119c86d2",
   "execution_count": 64
  },
  {
   "cell_type": "code",
   "outputs": [],
   "source": [
    "path = r'D:\\Github proj\\MachineLearning\\ML\\PROducts\\Neuro\\datasets\\landscapes\\0.jpg'\n",
    "image = img_as_float(io.imread(path))\n",
    "image\n",
    "# loop over the number of segments\n",
    "for numSegments in (20,):\n",
    "    # apply SLIC and extract (approximately) the supplied number\n",
    "    # of segments\n",
    "    segments = slic(image, n_segments=numSegments, sigma=2)\n",
    "    # show the output of SLIC\n",
    "    fig = plt.figure(\"Superpixels -- %d segments\" % (numSegments))\n",
    "    ax = fig.add_subplot(1, 1, 1)\n",
    "    ax.imshow(color.label2rgb(segments, image, kind='avg'))\n",
    "    plt.axis(\"off\")\n",
    "# show the plots\n",
    "plt.show()"
   ],
   "metadata": {
    "collapsed": false,
    "ExecuteTime": {
     "start_time": "2023-12-25T18:08:40.206443500Z"
    }
   },
   "id": "f3879678660e0b56",
   "execution_count": null
  },
  {
   "cell_type": "code",
   "outputs": [],
   "source": [],
   "metadata": {
    "collapsed": false
   },
   "id": "d3128ea13495da2a"
  }
 ],
 "metadata": {
  "kernelspec": {
   "display_name": "Python 3",
   "language": "python",
   "name": "python3"
  },
  "language_info": {
   "codemirror_mode": {
    "name": "ipython",
    "version": 2
   },
   "file_extension": ".py",
   "mimetype": "text/x-python",
   "name": "python",
   "nbconvert_exporter": "python",
   "pygments_lexer": "ipython2",
   "version": "2.7.6"
  }
 },
 "nbformat": 4,
 "nbformat_minor": 5
}
