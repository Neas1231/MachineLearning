{
 "cells": [
  {
   "cell_type": "code",
   "execution_count": 33,
   "id": "44c25dc3",
   "metadata": {
    "scrolled": true
   },
   "outputs": [],
   "source": [
    "import sqlalchemy\n",
    "import pyspark.pandas as ps\n",
    "import pyspark\n",
    "def create_db_connection(host=\"192.168.88.129\", database=\"dws\"):\n",
    "    return sqlalchemy.create_engine(\n",
    "        f\"mysql+pymysql://root:Pwd666666@{host}:3306/{database}\"\n",
    "    )\n",
    "\n",
    "def get_label(row):\n",
    "    launch_list = row.date\n",
    "    end = int(row.end_date)\n",
    "    label = sum([1 for x in set(launch_list) if end < int(x) < end + 8])\n",
    "    return label\n",
    "\n",
    "def target_encoding_spark(name, data, m=1):\n",
    "    data = data.withColumn(name, F.udf(lambda x: x.split(';'), returnType=ArrayType(StringType()))(F.col(name)).alias(name))\n",
    "    data = data.withColumn(name,explode(data[name]))\n",
    "    overall = data.select(F.mean(col('label')).alias('mean')).collect()[0]['mean']\n",
    "    data = data.withColumn('label1', data.label)\n",
    "    data = data.groupBy(name).agg({'label':'count','label1':'mean'}).withColumnRenamed('count(label)','freq').withColumnRenamed('avg(label1 )','in_category')\n",
    "    data = data.withColumn('weight',data.freq/(data.freq+m))\n",
    "    data = data.withColumn('score',data.weight*data.in_category+(1-data.weight)*overall)\n",
    "    return data\n",
    "\n",
    "def create_id_score(data, name):\n",
    "    data = data.filter((data[name].isNotNull()) & (data[name] != '') & (~data[name].contains('null'))).select([name,' label'])\n",
    "    id_score = target_encoding_spark(name, data)\n",
    "    id_score = id_score.withColumnRenamed(name,\"id\")\n",
    "    return id_score.select([\"id\",\"score\"]).toPandas()"
   ]
  },
  {
   "cell_type": "code",
   "execution_count": 27,
   "id": "aeedb207",
   "metadata": {
    "scrolled": true
   },
   "outputs": [
    {
     "name": "stdout",
     "output_type": "stream",
     "text": [
      "[('12609', 'Android', 2), ('12002', 'Android', 1), ('12114', 'IOS', 2), ('12868', 'Android', 3), ('12740', 'Android', 3), ('12610', 'Android', 1), ('12480', 'Android', 1), ('12359', 'Android', 1), ('12869', 'Android', 1), ('12483', 'Android', 1), ('12117', 'IOS', 1), ('12002', 'IOS', 2), ('12118', 'IOS', 1), ('12741', 'Android', 1), ('12869', 'IOS', 2), ('12362', 'IOS', 2), ('12003', 'IOS', 1), ('12484', 'Android', 2), ('12119', 'Android', 1), ('12610', 'IOS', 1), ('12870', 'Android', 2), ('12484', 'IOS', 1), ('12119', 'IOS', 1), ('12871', 'IOS', 2), ('12365', 'IOS', 1), ('12485', 'IOS', 1), ('12004', 'Android', 1), ('12741', 'IOS', 1), ('12611', 'Android', 1), ('12005', 'Android', 1), ('12742', 'Android', 1), ('12487', 'Android', 1), ('12612', 'IOS', 3), ('12872', 'Android', 1), ('12005', 'IOS', 1), ('12743', 'Android', 1), ('12366', 'Android', 2), ('12121', 'IOS', 1), ('12489', 'Android', 2), ('12615', 'IOS', 1), ('12007', 'Android', 1), ('12874', 'Android', 2), ('12495', 'IOS', 1), ('12743', 'IOS', 1), ('12616', 'Android', 1), ('12008', 'IOS', 1), ('12369', 'IOS', 1), ('12499', 'IOS', 1), ('12876', 'Android', 1), ('12744', 'Android', 1), ('12010', 'IOS', 1), ('12371', 'Android', 1), ('12500', 'Android', 1), ('12745', 'IOS', 1), ('12616', 'IOS', 1), ('12877', 'IOS', 1), ('12011', 'Android', 1), ('12372', 'IOS', 2), ('12501', 'Android', 1), ('12619', 'Android', 1), ('12880', 'IOS', 1), ('12746', 'Android', 1), ('12373', 'Android', 2), ('12501', 'IOS', 1), ('12620', 'IOS', 1), ('12746', 'IOS', 1), ('12373', 'IOS', 1), ('12621', 'IOS', 1), ('12122', 'IOS', 1), ('12881', 'Android', 1), ('12747', 'Android', 1), ('12502', 'Android', 1), ('12011', 'IOS', 1), ('12748', 'Android', 1), ('12626', 'Android', 1), ('12749', 'Android', 1), ('12125', 'Android', 2), ('12374', 'Android', 1), ('12503', 'Android', 1), ('12882', 'Android', 1), ('12628', 'Android', 1), ('12012', 'IOS', 2), ('12750', 'Android', 1), ('12504', 'Android', 1), ('12628', 'IOS', 2), ('12375', 'IOS', 1), ('12885', 'Android', 2), ('12750', 'IOS', 1), ('12505', 'Android', 2), ('12013', 'Android', 1), ('12751', 'IOS', 2), ('12376', 'Android', 1), ('12629', 'IOS', 1), ('12753', 'Android', 1), ('12376', 'IOS', 1), ('12886', 'IOS', 3), ('12126', 'IOS', 1), ('12506', 'Android', 1), ('12753', 'IOS', 1), ('12630', 'Android', 1), ('12887', 'IOS', 1), ('12377', 'Android', 1), ('12243', 'IOS', 1), ('12755', 'Android', 1), ('12506', 'IOS', 1), ('12016', 'Android', 1), ('12630', 'IOS', 1), ('12888', 'Android', 2), ('12379', 'Android', 1), ('12244', 'Android', 1), ('12755', 'IOS', 1), ('12127', 'IOS', 1), ('12507', 'Android', 1), ('12890', 'IOS', 1), ('12016', 'IOS', 2), ('12507', 'IOS', 1), ('12244', 'IOS', 1), ('12756', 'IOS', 1), ('12631', 'IOS', 1), ('12379', 'IOS', 1), ('12892', 'IOS', 2), ('12246', 'Android', 1), ('12757', 'IOS', 1), ('12508', 'Android', 1), ('12017', 'IOS', 1), ('12632', 'Android', 1), ('12246', 'IOS', 1), ('12384', 'IOS', 2), ('12511', 'Android', 1), ('12759', 'IOS', 1), ('12894', 'Android', 1), ('12385', 'IOS', 1), ('12761', 'IOS', 1), ('12247', 'Android', 1), ('12130', 'IOS', 2), ('12512', 'IOS', 1), ('12633', 'IOS', 2), ('12018', 'IOS', 1), ('12762', 'IOS', 2), ('12386', 'IOS', 1), ('12252', 'Android', 3), ('12764', 'IOS', 1), ('12894', 'IOS', 1), ('12513', 'Android', 1), ('12252', 'IOS', 1), ('12020', 'Android', 2), ('12388', 'IOS', 1), ('12765', 'IOS', 1), ('12634', 'Android', 1), ('12514', 'Android', 2), ('12020', 'IOS', 1), ('12253', 'Android', 1), ('12768', 'Android', 1), ('12389', 'Android', 2), ('12131', 'Android', 1), ('12895', 'Android', 1), ('12389', 'IOS', 3), ('12768', 'IOS', 1), ('12021', 'Android', 4), ('12518', 'Android', 1), ('12257', 'Android', 1), ('12637', 'IOS', 1), ('12769', 'Android', 2), ('12895', 'IOS', 1), ('12390', 'Android', 1), ('12021', 'IOS', 1), ('12259', 'IOS', 1), ('12769', 'IOS', 2), ('12520', 'IOS', 2), ('12638', 'IOS', 1), ('12522', 'IOS', 2), ('12260', 'Android', 1), ('12392', 'Android', 1), ('12132', 'IOS', 1), ('12897', 'Android', 1), ('12770', 'IOS', 1), ('12260', 'IOS', 2), ('12523', 'Android', 3), ('12641', 'IOS', 1), ('12022', 'Android', 1), ('12772', 'IOS', 2), ('12261', 'Android', 1), ('12393', 'Android', 1), ('12774', 'Android', 1), ('12900', 'Android', 1), ('12774', 'IOS', 1), ('12023', 'Android', 2), ('12775', 'IOS', 1), ('12394', 'IOS', 1), ('12261', 'IOS', 2), ('12643', 'Android', 1), ('12902', 'Android', 1), ('12395', 'Android', 1), ('12523', 'IOS', 1), ('12776', 'Android', 1), ('12262', 'Android', 1), ('12024', 'Android', 1), ('12396', 'IOS', 1), ('12643', 'IOS', 1), ('12134', 'Android', 1), ('12776', 'IOS', 1), ('12025', 'Android', 1), ('12263', 'Android', 1), ('12903', 'Android', 1), ('12777', 'Android', 1), ('12398', 'Android', 1), ('12524', 'IOS', 1), ('12644', 'Android', 1), ('12777', 'IOS', 1), ('12399', 'IOS', 2), ('12263', 'IOS', 2), ('12134', 'IOS', 1), ('12525', 'Android', 1), ('12903', 'IOS', 1), ('12025', 'IOS', 1), ('12265', 'Android', 1), ('12402', 'Android', 1), ('12645', 'Android', 1), ('12778', 'IOS', 1), ('12904', 'IOS', 1), ('12403', 'IOS', 3), ('12265', 'IOS', 2), ('12526', 'Android', 2), ('12135', 'IOS', 1), ('12027', 'Android', 1), ('12785', 'Android', 1), ('12645', 'IOS', 1), ('12267', 'Android', 1), ('12404', 'Android', 1), ('12906', 'IOS', 1), ('12785', 'IOS', 2), ('12027', 'IOS', 3), ('12526', 'IOS', 1), ('12404', 'IOS', 1), ('12786', 'Android', 1), ('12137', 'Android', 2), ('12907', 'Android', 1), ('12267', 'IOS', 1), ('12029', 'IOS', 1), ('12646', 'Android', 1), ('12528', 'IOS', 1), ('12786', 'IOS', 1), ('12268', 'IOS', 1), ('12405', 'IOS', 2), ('12033', 'IOS', 1), ('12646', 'IOS', 1), ('12788', 'Android', 1), ('12270', 'Android', 1), ('12530', 'Android', 2), ('12648', 'IOS', 1), ('12789', 'IOS', 1), ('12137', 'IOS', 1), ('12035', 'IOS', 1), ('12270', 'IOS', 1), ('12406', 'IOS', 1), ('12909', 'Android', 1), ('12790', 'Android', 1), ('12407', 'Android', 1), ('12271', 'IOS', 1), ('12531', 'Android', 2), ('12791', 'IOS', 3), ('12652', 'IOS', 1), ('12036', 'Android', 2), ('12408', 'Android', 1), ('12139', 'Android', 1), ('12910', 'Android', 1), ('12793', 'Android', 1), ('12272', 'Android', 1), ('12408', 'IOS', 3), ('12531', 'IOS', 1), ('12038', 'IOS', 1), ('12411', 'Android', 1), ('12795', 'IOS', 1), ('12272', 'IOS', 1), ('12411', 'IOS', 1), ('12532', 'Android', 2), ('12797', 'IOS', 2), ('12139', 'IOS', 1), ('12912', 'Android', 1), ('12276', 'Android', 2), ('12798', 'Android', 1), ('12412', 'IOS', 1), ('12039', 'IOS', 1), ('12653', 'Android', 1), ('12276', 'IOS', 2), ('12798', 'IOS', 1), ('12413', 'IOS', 3), ('12535', 'Android', 1), ('12912', 'IOS', 1), ('12277', 'IOS', 1), ('12807', 'Android', 1), ('12414', 'IOS', 1), ('12140', 'Android', 3), ('12043', 'Android', 1), ('12808', 'Android', 2), ('12278', 'IOS', 2), ('12536', 'IOS', 1), ('12279', 'Android', 1), ('12418', 'Android', 1), ('12913', 'Android', 1), ('12809', 'IOS', 1), ('12141', 'IOS', 1), ('12655', 'Android', 1), ('12537', 'Android', 2), ('12045', 'Android', 1), ('12280', 'Android', 2), ('12811', 'Android', 1), ('12419', 'IOS', 1), ('12913', 'IOS', 2), ('12420', 'IOS', 1), ('12811', 'IOS', 1), ('12280', 'IOS', 2), ('12537', 'IOS', 1), ('12046', 'Android', 1), ('12421', 'Android', 1), ('12815', 'Android', 1), ('12145', 'IOS', 1), ('12658', 'Android', 2), ('12281', 'Android', 2), ('12816', 'IOS', 1), ('12914', 'Android', 1), ('12421', 'IOS', 1), ('12538', 'Android', 1), ('12282', 'Android', 1), ('12817', 'Android', 1), ('12423', 'IOS', 2), ('12046', 'IOS', 1), ('12658', 'IOS', 1), ('12282', 'IOS', 1), ('12283', 'Android', 1), ('12817', 'IOS', 1), ('12147', 'Android', 1), ('12914', 'IOS', 1), ('12049', 'IOS', 1), ('12538', 'IOS', 1), ('12659', 'IOS', 1), ('12819', 'Android', 2), ('12283', 'IOS', 1), ('12147', 'IOS', 1), ('12915', 'Android', 1), ('12539', 'Android', 1), ('12050', 'IOS', 1), ('12425', 'IOS', 1), ('12427', 'IOS', 2), ('12819', 'IOS', 1), ('12660', 'Android', 1), ('12284', 'Android', 2), ('12540', 'IOS', 1), ('12052', 'Android', 1), ('12148', 'Android', 1), ('12820', 'IOS', 1), ('12428', 'Android', 2), ('12916', 'Android', 1), ('12287', 'Android', 1), ('12664', 'Android', 1), ('12821', 'Android', 1), ('12288', 'Android', 1), ('12542', 'IOS', 2), ('12920', 'Android', 1), ('12665', 'IOS', 2), ('12429', 'IOS', 2), ('12822', 'Android', 2), ('12430', 'Android', 1), ('12920', 'IOS', 1), ('12149', 'Android', 2), ('12667', 'Android', 1), ('12054', 'IOS', 1), ('12544', 'IOS', 1), ('12289', 'IOS', 1), ('12823', 'Android', 1), ('12921', 'IOS', 2), ('12668', 'IOS', 1), ('12430', 'IOS', 1), ('12055', 'Android', 1), ('12290', 'IOS', 1), ('12545', 'IOS', 2), ('12824', 'Android', 1), ('12149', 'IOS', 1), ('12923', 'Android', 1), ('12431', 'IOS', 1), ('12669', 'Android', 1), ('12824', 'IOS', 1), ('12291', 'IOS', 1), ('12055', 'IOS', 1), ('12924', 'Android', 1), ('12827', 'IOS', 1), ('12432', 'IOS', 1), ('12669', 'IOS', 1), ('12546', 'Android', 2), ('12292', 'IOS', 1), ('12831', 'IOS', 2), ('12150', 'IOS', 1), ('12057', 'Android', 1), ('12671', 'Android', 1), ('12832', 'IOS', 2), ('12925', 'Android', 1), ('12293', 'IOS', 1), ('12434', 'Android', 1), ('12548', 'Android', 1), ('12833', 'Android', 1), ('12057', 'IOS', 1), ('12435', 'IOS', 1), ('12151', 'IOS', 1), ('12672', 'IOS', 1), ('12295', 'Android', 2), ('12834', 'Android', 1), ('12926', 'Android', 1), ('12551', 'IOS', 1), ('12438', 'Android', 1), ('12673', 'IOS', 1), ('12296', 'Android', 1), ('12835', 'Android', 1), ('12058', 'Android', 1), ('12439', 'Android', 1), ('12298', 'IOS', 1), ('12674', 'IOS', 1), ('12152', 'Android', 1), ('12836', 'IOS', 1), ('12927', 'Android', 1), ('12552', 'IOS', 1), ('12058', 'IOS', 1), ('12676', 'Android', 1), ('12839', 'Android', 3), ('12440', 'IOS', 1), ('12301', 'Android', 1), ('12441', 'Android', 1), ('12676', 'IOS', 1), ('12928', 'IOS', 1), ('12840', 'IOS', 1), ('12155', 'Android', 1), ('12059', 'IOS', 1), ('12553', 'IOS', 1), ('12302', 'Android', 1), ('12929', 'Android', 1), ('12441', 'IOS', 1), ('12843', 'IOS', 1), ('12677', 'Android', 1), ('12302', 'IOS', 1), ('12554', 'Android', 1), ('12156', 'IOS', 1), ('12844', 'IOS', 1), ('12678', 'Android', 1), ('12931', 'IOS', 1), ('12303', 'IOS', 1), ('12442', 'IOS', 1), ('12060', 'IOS', 1), ('12846', 'IOS', 1), ('12304', 'IOS', 2), ('12680', 'Android', 3), ('12554', 'IOS', 1), ('12443', 'Android', 1), ('12847', 'Android', 1), ('12305', 'IOS', 1), ('12158', 'IOS', 1), ('12680', 'IOS', 1), ('12932', 'Android', 1), ('12556', 'IOS', 2), ('12848', 'IOS', 1), ('12061', 'Android', 1), ('12445', 'IOS', 1), ('12681', 'IOS', 1), ('12159', 'Android', 1), ('12307', 'Android', 1), ('12557', 'Android', 2), ('12932', 'IOS', 1), ('12850', 'IOS', 3), ('12684', 'Android', 1), ('12307', 'IOS', 2), ('12446', 'Android', 1), ('12061', 'IOS', 2), ('12852', 'Android', 2), ('12684', 'IOS', 1), ('12309', 'Android', 2), ('12448', 'Android', 1), ('12159', 'IOS', 1), ('12557', 'IOS', 1), ('12310', 'Android', 1), ('12688', 'IOS', 1), ('12933', 'Android', 1), ('12853', 'Android', 1), ('12448', 'IOS', 1), ('12062', 'Android', 2), ('12562', 'Android', 1), ('12312', 'IOS', 1), ('12854', 'IOS', 1), ('12933', 'IOS', 1), ('12689', 'Android', 1), ('12449', 'IOS', 1), ('12062', 'IOS', 1), ('12855', 'Android', 1), ('12935', 'Android', 1), ('12313', 'IOS', 3), ('12690', 'Android', 2), ('12160', 'IOS', 2), ('12563', 'Android', 1), ('12063', 'Android', 1), ('12856', 'IOS', 1), ('12936', 'Android', 1), ('12450', 'IOS', 2), ('12690', 'IOS', 1), ('12314', 'Android', 1), ('12564', 'IOS', 2), ('12064', 'IOS', 1), ('12451', 'Android', 1), ('12857', 'IOS', 1), ('12162', 'Android', 1), ('12691', 'Android', 1), ('12315', 'IOS', 2), ('12936', 'IOS', 1), ('12565', 'Android', 1), ('12452', 'Android', 1), ('12858', 'IOS', 1), ('12165', 'Android', 2), ('12937', 'Android', 2), ('12693', 'Android', 1), ('12317', 'Android', 1), ('12566', 'Android', 1), ('12453', 'IOS', 1), ('12860', 'IOS', 1), ('12065', 'Android', 1), ('12694', 'Android', 1), ('12938', 'Android', 2), ('12319', 'Android', 1), ('12166', 'IOS', 1), ('12861', 'IOS', 1), ('12454', 'Android', 1), ('12320', 'Android', 1), ('12695', 'IOS', 1), ('12566', 'IOS', 1), ('12939', 'Android', 2), ('12864', 'Android', 2), ('12454', 'IOS', 3), ('12321', 'IOS', 1), ('12065', 'IOS', 1), ('12699', 'IOS', 1), ('12939', 'IOS', 1), ('12167', 'IOS', 1), ('12865', 'Android', 1), ('12322', 'Android', 1), ('12567', 'IOS', 1), ('12455', 'Android', 2), ('12700', 'Android', 1), ('12866', 'IOS', 2), ('12941', 'IOS', 1), ('12323', 'Android', 1), ('12456', 'Android', 1), ('12700', 'IOS', 2), ('12867', 'Android', 1), ('12169', 'IOS', 1), ('12568', 'Android', 1), ('12942', 'IOS', 1), ('12456', 'IOS', 1), ('12323', 'IOS', 1), ('12867', 'IOS', 2), ('12701', 'Android', 1), ('12943', 'Android', 4), ('12171', 'Android', 3), ('12066', 'Android', 1), ('12569', 'Android', 1), ('12324', 'IOS', 1), ('12457', 'IOS', 1), ('12702', 'Android', 1), ('12326', 'IOS', 1), ('12569', 'IOS', 1), ('12172', 'IOS', 2), ('12458', 'Android', 1), ('12703', 'IOS', 2), ('12327', 'Android', 1), ('12458', 'IOS', 1), ('12570', 'Android', 3), ('12067', 'Android', 1), ('12174', 'Android', 1), ('12705', 'Android', 1), ('12944', 'Android', 2), ('12329', 'IOS', 1), ('12571', 'Android', 1), ('12459', 'IOS', 2), ('12705', 'IOS', 1), ('12332', 'Android', 1), ('12067', 'IOS', 1), ('12572', 'IOS', 1), ('12947', 'Android', 1), ('12174', 'IOS', 1), ('12706', 'Android', 1), ('12333', 'Android', 2), ('12574', 'Android', 2), ('12460', 'Android', 2), ('12068', 'Android', 1), ('12460', 'IOS', 2), ('12575', 'Android', 2), ('12706', 'IOS', 1), ('12175', 'Android', 1), ('12949', 'IOS', 1), ('12334', 'IOS', 1), ('12068', 'IOS', 2), ('12577', 'IOS', 1), ('12707', 'Android', 1), ('12952', 'IOS', 1), ('12175', 'IOS', 2), ('12462', 'IOS', 1), ('12335', 'Android', 1), ('12578', 'Android', 1), ('12069', 'Android', 1), ('12707', 'IOS', 1), ('12953', 'Android', 1), ('12335', 'IOS', 1), ('12578', 'IOS', 1), ('12463', 'Android', 1), ('12178', 'Android', 1), ('12708', 'Android', 1), ('12071', 'Android', 1), ('12579', 'Android', 2), ('12953', 'IOS', 2), ('12336', 'Android', 1), ('12463', 'IOS', 2), ('12581', 'IOS', 1), ('12709', 'Android', 1), ('12336', 'IOS', 1), ('12075', 'Android', 3), ('12178', 'IOS', 1), ('12954', 'Android', 1), ('12582', 'IOS', 1), ('12337', 'Android', 2), ('12710', 'Android', 2), ('12465', 'Android', 1), ('12075', 'IOS', 1), ('12583', 'Android', 1), ('12337', 'IOS', 1), ('12710', 'IOS', 1), ('12955', 'Android', 2), ('12179', 'IOS', 1), ('12465', 'IOS', 2), ('12338', 'IOS', 1), ('12584', 'Android', 2), ('12711', 'Android', 1), ('12076', 'Android', 1), ('12339', 'Android', 2), ('12955', 'IOS', 2), ('12585', 'IOS', 1), ('12712', 'IOS', 3), ('12180', 'Android', 1), ('12713', 'Android', 1), ('12587', 'IOS', 1), ('12076', 'IOS', 1), ('12468', 'IOS', 1), ('12957', 'Android', 2), ('12339', 'IOS', 2), ('12588', 'IOS', 1), ('12079', 'IOS', 2), ('12714', 'IOS', 2), ('12958', 'Android', 1), ('12180', 'IOS', 1), ('12341', 'IOS', 2), ('12959', 'Android', 1), ('12470', 'IOS', 1), ('12593', 'Android', 1), ('12716', 'IOS', 2), ('12343', 'IOS', 1), ('12080', 'Android', 1), ('12181', 'Android', 2), ('12593', 'IOS', 1), ('12718', 'IOS', 2), ('12959', 'IOS', 1), ('12345', 'IOS', 1), ('12471', 'Android', 2), ('12594', 'IOS', 1), ('12347', 'Android', 1), ('12719', 'IOS', 2), ('12082', 'IOS', 1), ('12961', 'IOS', 1), ('12183', 'IOS', 2), ('12347', 'IOS', 1), ('12962', 'Android', 2), ('12348', 'IOS', 1), ('12471', 'IOS', 1), ('12595', 'Android', 1), ('12723', 'IOS', 1), ('12083', 'IOS', 1), ('12185', 'Android', 2), ('12350', 'IOS', 1), ('12596', 'Android', 1), ('12963', 'IOS', 2), ('12724', 'Android', 1), ('12472', 'IOS', 1), ('12351', 'IOS', 1), ('12084', 'Android', 1), ('12597', 'IOS', 1), ('12726', 'IOS', 2), ('12185', 'IOS', 1), ('12964', 'Android', 1), ('12352', 'Android', 1), ('12475', 'Android', 2), ('12598', 'Android', 1), ('12727', 'IOS', 1), ('12084', 'IOS', 1), ('12352', 'IOS', 1), ('12966', 'Android', 1), ('12599', 'Android', 1), ('12186', 'Android', 1), ('12728', 'IOS', 1), ('12357', 'Android', 1), ('12476', 'IOS', 1), ('12085', 'Android', 1), ('12600', 'IOS', 1), ('12729', 'IOS', 1), ('12357', 'IOS', 1), ('12967', 'IOS', 1), ('12188', 'IOS', 1), ('12478', 'IOS', 1), ('12601', 'Android', 2), ('12735', 'IOS', 1), ('12085', 'IOS', 1), ('12971', 'Android', 3), ('12601', 'IOS', 1), ('12189', 'IOS', 1), ('12737', 'Android', 1), ('12971', 'IOS', 1), ('12603', 'IOS', 1), ('12087', 'Android', 1), ('12190', 'Android', 1), ('12737', 'IOS', 1), ('12972', 'Android', 1), ('12606', 'Android', 1), ('12191', 'Android', 1), ('12738', 'IOS', 1), ('12088', 'Android', 1), ('12972', 'IOS', 1), ('12607', 'IOS', 1), ('12191', 'IOS', 2), ('12089', 'Android', 1), ('12739', 'IOS', 1), ('12974', 'IOS', 1), ('12196', 'IOS', 1), ('12091', 'Android', 1), ('12977', 'IOS', 1), ('12980', 'Android', 3), ('12197', 'IOS', 2), ('12092', 'Android', 1), ('12983', 'Android', 2), ('12198', 'Android', 1), ('12092', 'IOS', 1), ('12984', 'Android', 1), ('12984', 'IOS', 1), ('12093', 'IOS', 2), ('12199', 'Android', 1), ('12986', 'IOS', 1), ('12094', 'Android', 1), ('12200', 'IOS', 2), ('12987', 'IOS', 1), ('12094', 'IOS', 1), ('12201', 'IOS', 1), ('12988', 'Android', 2), ('12096', 'IOS', 1), ('12989', 'IOS', 2), ('12203', 'IOS', 1), ('12990', 'IOS', 1), ('12097', 'IOS', 1), ('12204', 'IOS', 1), ('12995', 'IOS', 1), ('12098', 'IOS', 1), ('12205', 'Android', 2), ('12996', 'Android', 1), ('12099', 'IOS', 1), ('12997', 'IOS', 1), ('12205', 'IOS', 1), ('12100', 'IOS', 2), ('12206', 'IOS', 1), ('12101', 'IOS', 2), ('12210', 'Android', 1), ('12102', 'IOS', 1), ('12211', 'IOS', 2), ('12103', 'IOS', 1), ('12212', 'IOS', 1), ('12105', 'IOS', 1), ('12213', 'IOS', 1), ('12109', 'IOS', 1), ('12214', 'Android', 3), ('12111', 'Android', 3), ('12214', 'IOS', 1), ('12111', 'IOS', 1), ('12216', 'IOS', 1), ('12112', 'IOS', 1), ('12217', 'Android', 2), ('12114', 'Android', 1), ('12218', 'IOS', 3), ('12220', 'Android', 1), ('12221', 'Android', 1), ('12222', 'Android', 1), ('12222', 'IOS', 2), ('12223', 'Android', 1), ('12224', 'Android', 1), ('12225', 'IOS', 1), ('12226', 'IOS', 1), ('12229', 'Android', 1), ('12230', 'Android', 1), ('12232', 'Android', 1), ('12233', 'IOS', 1), ('12235', 'Android', 1), ('12236', 'IOS', 1), ('12240', 'Android', 1), ('12241', 'IOS', 1), ('12242', 'Android', 1)]\n"
     ]
    }
   ],
   "source": [
    "e = create_db_connection()\n",
    "with e.connect() as con:\n",
    "    result = con.execute('SELECT * FROM regiontype')\n",
    "    print([x for x in result])"
   ]
  },
  {
   "cell_type": "code",
   "execution_count": 30,
   "id": "acdcd734",
   "metadata": {},
   "outputs": [
    {
     "data": {
      "text/plain": [
       "<module 'pyspark.pandas' from 'D:\\\\anaconda\\\\Lib\\\\site-packages\\\\pyspark\\\\pandas\\\\__init__.py'>"
      ]
     },
     "execution_count": 30,
     "metadata": {},
     "output_type": "execute_result"
    }
   ],
   "source": [
    "ps"
   ]
  },
  {
   "cell_type": "code",
   "execution_count": 32,
   "id": "e224fa0c",
   "metadata": {},
   "outputs": [
    {
     "data": {
      "text/plain": [
       "<module 'pyspark.pandas' from 'D:\\\\anaconda\\\\Lib\\\\site-packages\\\\pyspark\\\\pandas\\\\__init__.py'>"
      ]
     },
     "execution_count": 32,
     "metadata": {},
     "output_type": "execute_result"
    }
   ],
   "source": [
    "pyspark."
   ]
  },
  {
   "cell_type": "code",
   "execution_count": 7,
   "id": "2982baed",
   "metadata": {},
   "outputs": [],
   "source": [
    "from pyspark import ml"
   ]
  },
  {
   "cell_type": "code",
   "execution_count": 5,
   "id": "61529319",
   "metadata": {},
   "outputs": [
    {
     "name": "stderr",
     "output_type": "stream",
     "text": [
      "ERROR:root:KeyboardInterrupt while sending command.\n",
      "Traceback (most recent call last):\n",
      "  File \"D:\\anaconda\\Lib\\site-packages\\py4j\\java_gateway.py\", line 1038, in send_command\n",
      "    response = connection.send_command(command)\n",
      "               ^^^^^^^^^^^^^^^^^^^^^^^^^^^^^^^^\n",
      "  File \"D:\\anaconda\\Lib\\site-packages\\py4j\\clientserver.py\", line 511, in send_command\n",
      "    answer = smart_decode(self.stream.readline()[:-1])\n",
      "                          ^^^^^^^^^^^^^^^^^^^^^^\n",
      "  File \"D:\\anaconda\\Lib\\socket.py\", line 706, in readinto\n",
      "    return self._sock.recv_into(b)\n",
      "           ^^^^^^^^^^^^^^^^^^^^^^^\n",
      "KeyboardInterrupt\n"
     ]
    },
    {
     "ename": "KeyboardInterrupt",
     "evalue": "",
     "output_type": "error",
     "traceback": [
      "\u001b[1;31m---------------------------------------------------------------------------\u001b[0m",
      "\u001b[1;31mKeyboardInterrupt\u001b[0m                         Traceback (most recent call last)",
      "Cell \u001b[1;32mIn[5], line 1\u001b[0m\n\u001b[1;32m----> 1\u001b[0m pd\u001b[38;5;241m.\u001b[39mDataFrame({\u001b[38;5;241m1\u001b[39m:[\u001b[38;5;241m1\u001b[39m,\u001b[38;5;241m2\u001b[39m,\u001b[38;5;241m3\u001b[39m,\u001b[38;5;241m4\u001b[39m,\u001b[38;5;241m5\u001b[39m],\u001b[38;5;124m'\u001b[39m\u001b[38;5;124mMommy\u001b[39m\u001b[38;5;124m'\u001b[39m:[\u001b[38;5;124m'\u001b[39m\u001b[38;5;124m32\u001b[39m\u001b[38;5;124m'\u001b[39m,\u001b[38;5;124m'\u001b[39m\u001b[38;5;124m35\u001b[39m\u001b[38;5;124m'\u001b[39m,\u001b[38;5;124m'\u001b[39m\u001b[38;5;124m7\u001b[39m\u001b[38;5;124m'\u001b[39m,\u001b[38;5;124m'\u001b[39m\u001b[38;5;124m3\u001b[39m\u001b[38;5;124m'\u001b[39m,\u001b[38;5;124m'\u001b[39m\u001b[38;5;124m4\u001b[39m\u001b[38;5;124m'\u001b[39m]})\n",
      "File \u001b[1;32mD:\\anaconda\\Lib\\site-packages\\IPython\\core\\displayhook.py:268\u001b[0m, in \u001b[0;36mDisplayHook.__call__\u001b[1;34m(self, result)\u001b[0m\n\u001b[0;32m    266\u001b[0m \u001b[38;5;28mself\u001b[39m\u001b[38;5;241m.\u001b[39mstart_displayhook()\n\u001b[0;32m    267\u001b[0m \u001b[38;5;28mself\u001b[39m\u001b[38;5;241m.\u001b[39mwrite_output_prompt()\n\u001b[1;32m--> 268\u001b[0m format_dict, md_dict \u001b[38;5;241m=\u001b[39m \u001b[38;5;28mself\u001b[39m\u001b[38;5;241m.\u001b[39mcompute_format_data(result)\n\u001b[0;32m    269\u001b[0m \u001b[38;5;28mself\u001b[39m\u001b[38;5;241m.\u001b[39mupdate_user_ns(result)\n\u001b[0;32m    270\u001b[0m \u001b[38;5;28mself\u001b[39m\u001b[38;5;241m.\u001b[39mfill_exec_result(result)\n",
      "File \u001b[1;32mD:\\anaconda\\Lib\\site-packages\\IPython\\core\\displayhook.py:157\u001b[0m, in \u001b[0;36mDisplayHook.compute_format_data\u001b[1;34m(self, result)\u001b[0m\n\u001b[0;32m    127\u001b[0m \u001b[38;5;28;01mdef\u001b[39;00m \u001b[38;5;21mcompute_format_data\u001b[39m(\u001b[38;5;28mself\u001b[39m, result):\n\u001b[0;32m    128\u001b[0m \u001b[38;5;250m    \u001b[39m\u001b[38;5;124;03m\"\"\"Compute format data of the object to be displayed.\u001b[39;00m\n\u001b[0;32m    129\u001b[0m \n\u001b[0;32m    130\u001b[0m \u001b[38;5;124;03m    The format data is a generalization of the :func:`repr` of an object.\u001b[39;00m\n\u001b[1;32m   (...)\u001b[0m\n\u001b[0;32m    155\u001b[0m \n\u001b[0;32m    156\u001b[0m \u001b[38;5;124;03m    \"\"\"\u001b[39;00m\n\u001b[1;32m--> 157\u001b[0m     \u001b[38;5;28;01mreturn\u001b[39;00m \u001b[38;5;28mself\u001b[39m\u001b[38;5;241m.\u001b[39mshell\u001b[38;5;241m.\u001b[39mdisplay_formatter\u001b[38;5;241m.\u001b[39mformat(result)\n",
      "File \u001b[1;32mD:\\anaconda\\Lib\\site-packages\\IPython\\core\\formatters.py:179\u001b[0m, in \u001b[0;36mDisplayFormatter.format\u001b[1;34m(self, obj, include, exclude)\u001b[0m\n\u001b[0;32m    177\u001b[0m md \u001b[38;5;241m=\u001b[39m \u001b[38;5;28;01mNone\u001b[39;00m\n\u001b[0;32m    178\u001b[0m \u001b[38;5;28;01mtry\u001b[39;00m:\n\u001b[1;32m--> 179\u001b[0m     data \u001b[38;5;241m=\u001b[39m formatter(obj)\n\u001b[0;32m    180\u001b[0m \u001b[38;5;28;01mexcept\u001b[39;00m:\n\u001b[0;32m    181\u001b[0m     \u001b[38;5;66;03m# FIXME: log the exception\u001b[39;00m\n\u001b[0;32m    182\u001b[0m     \u001b[38;5;28;01mraise\u001b[39;00m\n",
      "File \u001b[1;32mD:\\anaconda\\Lib\\site-packages\\decorator.py:232\u001b[0m, in \u001b[0;36mdecorate.<locals>.fun\u001b[1;34m(*args, **kw)\u001b[0m\n\u001b[0;32m    230\u001b[0m \u001b[38;5;28;01mif\u001b[39;00m \u001b[38;5;129;01mnot\u001b[39;00m kwsyntax:\n\u001b[0;32m    231\u001b[0m     args, kw \u001b[38;5;241m=\u001b[39m fix(args, kw, sig)\n\u001b[1;32m--> 232\u001b[0m \u001b[38;5;28;01mreturn\u001b[39;00m caller(func, \u001b[38;5;241m*\u001b[39m(extras \u001b[38;5;241m+\u001b[39m args), \u001b[38;5;241m*\u001b[39m\u001b[38;5;241m*\u001b[39mkw)\n",
      "File \u001b[1;32mD:\\anaconda\\Lib\\site-packages\\IPython\\core\\formatters.py:223\u001b[0m, in \u001b[0;36mcatch_format_error\u001b[1;34m(method, self, *args, **kwargs)\u001b[0m\n\u001b[0;32m    221\u001b[0m \u001b[38;5;250m\u001b[39m\u001b[38;5;124;03m\"\"\"show traceback on failed format call\"\"\"\u001b[39;00m\n\u001b[0;32m    222\u001b[0m \u001b[38;5;28;01mtry\u001b[39;00m:\n\u001b[1;32m--> 223\u001b[0m     r \u001b[38;5;241m=\u001b[39m method(\u001b[38;5;28mself\u001b[39m, \u001b[38;5;241m*\u001b[39margs, \u001b[38;5;241m*\u001b[39m\u001b[38;5;241m*\u001b[39mkwargs)\n\u001b[0;32m    224\u001b[0m \u001b[38;5;28;01mexcept\u001b[39;00m \u001b[38;5;167;01mNotImplementedError\u001b[39;00m:\n\u001b[0;32m    225\u001b[0m     \u001b[38;5;66;03m# don't warn on NotImplementedErrors\u001b[39;00m\n\u001b[0;32m    226\u001b[0m     \u001b[38;5;28;01mreturn\u001b[39;00m \u001b[38;5;28mself\u001b[39m\u001b[38;5;241m.\u001b[39m_check_return(\u001b[38;5;28;01mNone\u001b[39;00m, args[\u001b[38;5;241m0\u001b[39m])\n",
      "File \u001b[1;32mD:\\anaconda\\Lib\\site-packages\\IPython\\core\\formatters.py:708\u001b[0m, in \u001b[0;36mPlainTextFormatter.__call__\u001b[1;34m(self, obj)\u001b[0m\n\u001b[0;32m    701\u001b[0m stream \u001b[38;5;241m=\u001b[39m StringIO()\n\u001b[0;32m    702\u001b[0m printer \u001b[38;5;241m=\u001b[39m pretty\u001b[38;5;241m.\u001b[39mRepresentationPrinter(stream, \u001b[38;5;28mself\u001b[39m\u001b[38;5;241m.\u001b[39mverbose,\n\u001b[0;32m    703\u001b[0m     \u001b[38;5;28mself\u001b[39m\u001b[38;5;241m.\u001b[39mmax_width, \u001b[38;5;28mself\u001b[39m\u001b[38;5;241m.\u001b[39mnewline,\n\u001b[0;32m    704\u001b[0m     max_seq_length\u001b[38;5;241m=\u001b[39m\u001b[38;5;28mself\u001b[39m\u001b[38;5;241m.\u001b[39mmax_seq_length,\n\u001b[0;32m    705\u001b[0m     singleton_pprinters\u001b[38;5;241m=\u001b[39m\u001b[38;5;28mself\u001b[39m\u001b[38;5;241m.\u001b[39msingleton_printers,\n\u001b[0;32m    706\u001b[0m     type_pprinters\u001b[38;5;241m=\u001b[39m\u001b[38;5;28mself\u001b[39m\u001b[38;5;241m.\u001b[39mtype_printers,\n\u001b[0;32m    707\u001b[0m     deferred_pprinters\u001b[38;5;241m=\u001b[39m\u001b[38;5;28mself\u001b[39m\u001b[38;5;241m.\u001b[39mdeferred_printers)\n\u001b[1;32m--> 708\u001b[0m printer\u001b[38;5;241m.\u001b[39mpretty(obj)\n\u001b[0;32m    709\u001b[0m printer\u001b[38;5;241m.\u001b[39mflush()\n\u001b[0;32m    710\u001b[0m \u001b[38;5;28;01mreturn\u001b[39;00m stream\u001b[38;5;241m.\u001b[39mgetvalue()\n",
      "File \u001b[1;32mD:\\anaconda\\Lib\\site-packages\\IPython\\lib\\pretty.py:410\u001b[0m, in \u001b[0;36mRepresentationPrinter.pretty\u001b[1;34m(self, obj)\u001b[0m\n\u001b[0;32m    407\u001b[0m                         \u001b[38;5;28;01mreturn\u001b[39;00m meth(obj, \u001b[38;5;28mself\u001b[39m, cycle)\n\u001b[0;32m    408\u001b[0m                 \u001b[38;5;28;01mif\u001b[39;00m \u001b[38;5;28mcls\u001b[39m \u001b[38;5;129;01mis\u001b[39;00m \u001b[38;5;129;01mnot\u001b[39;00m \u001b[38;5;28mobject\u001b[39m \\\n\u001b[0;32m    409\u001b[0m                         \u001b[38;5;129;01mand\u001b[39;00m \u001b[38;5;28mcallable\u001b[39m(\u001b[38;5;28mcls\u001b[39m\u001b[38;5;241m.\u001b[39m\u001b[38;5;18m__dict__\u001b[39m\u001b[38;5;241m.\u001b[39mget(\u001b[38;5;124m'\u001b[39m\u001b[38;5;124m__repr__\u001b[39m\u001b[38;5;124m'\u001b[39m)):\n\u001b[1;32m--> 410\u001b[0m                     \u001b[38;5;28;01mreturn\u001b[39;00m _repr_pprint(obj, \u001b[38;5;28mself\u001b[39m, cycle)\n\u001b[0;32m    412\u001b[0m     \u001b[38;5;28;01mreturn\u001b[39;00m _default_pprint(obj, \u001b[38;5;28mself\u001b[39m, cycle)\n\u001b[0;32m    413\u001b[0m \u001b[38;5;28;01mfinally\u001b[39;00m:\n",
      "File \u001b[1;32mD:\\anaconda\\Lib\\site-packages\\IPython\\lib\\pretty.py:778\u001b[0m, in \u001b[0;36m_repr_pprint\u001b[1;34m(obj, p, cycle)\u001b[0m\n\u001b[0;32m    776\u001b[0m \u001b[38;5;250m\u001b[39m\u001b[38;5;124;03m\"\"\"A pprint that just redirects to the normal repr function.\"\"\"\u001b[39;00m\n\u001b[0;32m    777\u001b[0m \u001b[38;5;66;03m# Find newlines and replace them with p.break_()\u001b[39;00m\n\u001b[1;32m--> 778\u001b[0m output \u001b[38;5;241m=\u001b[39m \u001b[38;5;28mrepr\u001b[39m(obj)\n\u001b[0;32m    779\u001b[0m lines \u001b[38;5;241m=\u001b[39m output\u001b[38;5;241m.\u001b[39msplitlines()\n\u001b[0;32m    780\u001b[0m \u001b[38;5;28;01mwith\u001b[39;00m p\u001b[38;5;241m.\u001b[39mgroup():\n",
      "File \u001b[1;32mD:\\anaconda\\Lib\\site-packages\\pyspark\\pandas\\frame.py:13402\u001b[0m, in \u001b[0;36mDataFrame.__repr__\u001b[1;34m(self)\u001b[0m\n\u001b[0;32m  13399\u001b[0m \u001b[38;5;28;01mif\u001b[39;00m max_display_count \u001b[38;5;129;01mis\u001b[39;00m \u001b[38;5;28;01mNone\u001b[39;00m:\n\u001b[0;32m  13400\u001b[0m     \u001b[38;5;28;01mreturn\u001b[39;00m \u001b[38;5;28mself\u001b[39m\u001b[38;5;241m.\u001b[39m_to_internal_pandas()\u001b[38;5;241m.\u001b[39mto_string()\n\u001b[1;32m> 13402\u001b[0m pdf \u001b[38;5;241m=\u001b[39m cast(\u001b[38;5;124m\"\u001b[39m\u001b[38;5;124mDataFrame\u001b[39m\u001b[38;5;124m\"\u001b[39m, \u001b[38;5;28mself\u001b[39m\u001b[38;5;241m.\u001b[39m_get_or_create_repr_pandas_cache(max_display_count))\n\u001b[0;32m  13403\u001b[0m pdf_length \u001b[38;5;241m=\u001b[39m \u001b[38;5;28mlen\u001b[39m(pdf)\n\u001b[0;32m  13404\u001b[0m pdf \u001b[38;5;241m=\u001b[39m cast(\u001b[38;5;124m\"\u001b[39m\u001b[38;5;124mDataFrame\u001b[39m\u001b[38;5;124m\"\u001b[39m, pdf\u001b[38;5;241m.\u001b[39miloc[:max_display_count])\n",
      "File \u001b[1;32mD:\\anaconda\\Lib\\site-packages\\pyspark\\pandas\\frame.py:13393\u001b[0m, in \u001b[0;36mDataFrame._get_or_create_repr_pandas_cache\u001b[1;34m(self, n)\u001b[0m\n\u001b[0;32m  13390\u001b[0m \u001b[38;5;28;01mdef\u001b[39;00m \u001b[38;5;21m_get_or_create_repr_pandas_cache\u001b[39m(\u001b[38;5;28mself\u001b[39m, n: \u001b[38;5;28mint\u001b[39m) \u001b[38;5;241m-\u001b[39m\u001b[38;5;241m>\u001b[39m Union[pd\u001b[38;5;241m.\u001b[39mDataFrame, pd\u001b[38;5;241m.\u001b[39mSeries]:\n\u001b[0;32m  13391\u001b[0m     \u001b[38;5;28;01mif\u001b[39;00m \u001b[38;5;129;01mnot\u001b[39;00m \u001b[38;5;28mhasattr\u001b[39m(\u001b[38;5;28mself\u001b[39m, \u001b[38;5;124m\"\u001b[39m\u001b[38;5;124m_repr_pandas_cache\u001b[39m\u001b[38;5;124m\"\u001b[39m) \u001b[38;5;129;01mor\u001b[39;00m n \u001b[38;5;129;01mnot\u001b[39;00m \u001b[38;5;129;01min\u001b[39;00m \u001b[38;5;28mself\u001b[39m\u001b[38;5;241m.\u001b[39m_repr_pandas_cache:\n\u001b[0;32m  13392\u001b[0m         \u001b[38;5;28mobject\u001b[39m\u001b[38;5;241m.\u001b[39m\u001b[38;5;21m__setattr__\u001b[39m(\n\u001b[1;32m> 13393\u001b[0m             \u001b[38;5;28mself\u001b[39m, \u001b[38;5;124m\"\u001b[39m\u001b[38;5;124m_repr_pandas_cache\u001b[39m\u001b[38;5;124m\"\u001b[39m, {n: \u001b[38;5;28mself\u001b[39m\u001b[38;5;241m.\u001b[39mhead(n \u001b[38;5;241m+\u001b[39m \u001b[38;5;241m1\u001b[39m)\u001b[38;5;241m.\u001b[39m_to_internal_pandas()}\n\u001b[0;32m  13394\u001b[0m         )\n\u001b[0;32m  13395\u001b[0m     \u001b[38;5;28;01mreturn\u001b[39;00m \u001b[38;5;28mself\u001b[39m\u001b[38;5;241m.\u001b[39m_repr_pandas_cache[n]\n",
      "File \u001b[1;32mD:\\anaconda\\Lib\\site-packages\\pyspark\\pandas\\frame.py:13388\u001b[0m, in \u001b[0;36mDataFrame._to_internal_pandas\u001b[1;34m(self)\u001b[0m\n\u001b[0;32m  13382\u001b[0m \u001b[38;5;28;01mdef\u001b[39;00m \u001b[38;5;21m_to_internal_pandas\u001b[39m(\u001b[38;5;28mself\u001b[39m) \u001b[38;5;241m-\u001b[39m\u001b[38;5;241m>\u001b[39m pd\u001b[38;5;241m.\u001b[39mDataFrame:\n\u001b[0;32m  13383\u001b[0m \u001b[38;5;250m    \u001b[39m\u001b[38;5;124;03m\"\"\"\u001b[39;00m\n\u001b[0;32m  13384\u001b[0m \u001b[38;5;124;03m    Return a pandas DataFrame directly from _internal to avoid overhead of copy.\u001b[39;00m\n\u001b[0;32m  13385\u001b[0m \n\u001b[0;32m  13386\u001b[0m \u001b[38;5;124;03m    This method is for internal use only.\u001b[39;00m\n\u001b[0;32m  13387\u001b[0m \u001b[38;5;124;03m    \"\"\"\u001b[39;00m\n\u001b[1;32m> 13388\u001b[0m     \u001b[38;5;28;01mreturn\u001b[39;00m \u001b[38;5;28mself\u001b[39m\u001b[38;5;241m.\u001b[39m_internal\u001b[38;5;241m.\u001b[39mto_pandas_frame\n",
      "File \u001b[1;32mD:\\anaconda\\Lib\\site-packages\\pyspark\\pandas\\utils.py:600\u001b[0m, in \u001b[0;36mlazy_property.<locals>.wrapped_lazy_property\u001b[1;34m(self)\u001b[0m\n\u001b[0;32m    596\u001b[0m \u001b[38;5;129m@property\u001b[39m\n\u001b[0;32m    597\u001b[0m \u001b[38;5;129m@functools\u001b[39m\u001b[38;5;241m.\u001b[39mwraps(fn)\n\u001b[0;32m    598\u001b[0m \u001b[38;5;28;01mdef\u001b[39;00m \u001b[38;5;21mwrapped_lazy_property\u001b[39m(\u001b[38;5;28mself\u001b[39m):\n\u001b[0;32m    599\u001b[0m     \u001b[38;5;28;01mif\u001b[39;00m \u001b[38;5;129;01mnot\u001b[39;00m \u001b[38;5;28mhasattr\u001b[39m(\u001b[38;5;28mself\u001b[39m, attr_name):\n\u001b[1;32m--> 600\u001b[0m         \u001b[38;5;28msetattr\u001b[39m(\u001b[38;5;28mself\u001b[39m, attr_name, fn(\u001b[38;5;28mself\u001b[39m))\n\u001b[0;32m    601\u001b[0m     \u001b[38;5;28;01mreturn\u001b[39;00m \u001b[38;5;28mgetattr\u001b[39m(\u001b[38;5;28mself\u001b[39m, attr_name)\n",
      "File \u001b[1;32mD:\\anaconda\\Lib\\site-packages\\pyspark\\pandas\\internal.py:1115\u001b[0m, in \u001b[0;36mInternalFrame.to_pandas_frame\u001b[1;34m(self)\u001b[0m\n\u001b[0;32m   1113\u001b[0m \u001b[38;5;250m\u001b[39m\u001b[38;5;124;03m\"\"\"Return as pandas DataFrame.\"\"\"\u001b[39;00m\n\u001b[0;32m   1114\u001b[0m sdf \u001b[38;5;241m=\u001b[39m \u001b[38;5;28mself\u001b[39m\u001b[38;5;241m.\u001b[39mto_internal_spark_frame\n\u001b[1;32m-> 1115\u001b[0m pdf \u001b[38;5;241m=\u001b[39m sdf\u001b[38;5;241m.\u001b[39mtoPandas()\n\u001b[0;32m   1116\u001b[0m \u001b[38;5;28;01mif\u001b[39;00m \u001b[38;5;28mlen\u001b[39m(pdf) \u001b[38;5;241m==\u001b[39m \u001b[38;5;241m0\u001b[39m \u001b[38;5;129;01mand\u001b[39;00m \u001b[38;5;28mlen\u001b[39m(sdf\u001b[38;5;241m.\u001b[39mschema) \u001b[38;5;241m>\u001b[39m \u001b[38;5;241m0\u001b[39m:\n\u001b[0;32m   1117\u001b[0m     pdf \u001b[38;5;241m=\u001b[39m pdf\u001b[38;5;241m.\u001b[39mastype(\n\u001b[0;32m   1118\u001b[0m         {field\u001b[38;5;241m.\u001b[39mname: spark_type_to_pandas_dtype(field\u001b[38;5;241m.\u001b[39mdataType) \u001b[38;5;28;01mfor\u001b[39;00m field \u001b[38;5;129;01min\u001b[39;00m sdf\u001b[38;5;241m.\u001b[39mschema}\n\u001b[0;32m   1119\u001b[0m     )\n",
      "File \u001b[1;32mD:\\anaconda\\Lib\\site-packages\\pyspark\\sql\\pandas\\conversion.py:202\u001b[0m, in \u001b[0;36mPandasConversionMixin.toPandas\u001b[1;34m(self)\u001b[0m\n\u001b[0;32m    199\u001b[0m             \u001b[38;5;28;01mraise\u001b[39;00m\n\u001b[0;32m    201\u001b[0m \u001b[38;5;66;03m# Below is toPandas without Arrow optimization.\u001b[39;00m\n\u001b[1;32m--> 202\u001b[0m rows \u001b[38;5;241m=\u001b[39m \u001b[38;5;28mself\u001b[39m\u001b[38;5;241m.\u001b[39mcollect()\n\u001b[0;32m    203\u001b[0m \u001b[38;5;28;01mif\u001b[39;00m \u001b[38;5;28mlen\u001b[39m(rows) \u001b[38;5;241m>\u001b[39m \u001b[38;5;241m0\u001b[39m:\n\u001b[0;32m    204\u001b[0m     pdf \u001b[38;5;241m=\u001b[39m pd\u001b[38;5;241m.\u001b[39mDataFrame\u001b[38;5;241m.\u001b[39mfrom_records(\n\u001b[0;32m    205\u001b[0m         rows, index\u001b[38;5;241m=\u001b[39m\u001b[38;5;28mrange\u001b[39m(\u001b[38;5;28mlen\u001b[39m(rows)), columns\u001b[38;5;241m=\u001b[39m\u001b[38;5;28mself\u001b[39m\u001b[38;5;241m.\u001b[39mcolumns  \u001b[38;5;66;03m# type: ignore[arg-type]\u001b[39;00m\n\u001b[0;32m    206\u001b[0m     )\n",
      "File \u001b[1;32mD:\\anaconda\\Lib\\site-packages\\pyspark\\sql\\dataframe.py:1257\u001b[0m, in \u001b[0;36mDataFrame.collect\u001b[1;34m(self)\u001b[0m\n\u001b[0;32m   1237\u001b[0m \u001b[38;5;250m\u001b[39m\u001b[38;5;124;03m\"\"\"Returns all the records as a list of :class:`Row`.\u001b[39;00m\n\u001b[0;32m   1238\u001b[0m \n\u001b[0;32m   1239\u001b[0m \u001b[38;5;124;03m.. versionadded:: 1.3.0\u001b[39;00m\n\u001b[1;32m   (...)\u001b[0m\n\u001b[0;32m   1254\u001b[0m \u001b[38;5;124;03m[Row(age=14, name='Tom'), Row(age=23, name='Alice'), Row(age=16, name='Bob')]\u001b[39;00m\n\u001b[0;32m   1255\u001b[0m \u001b[38;5;124;03m\"\"\"\u001b[39;00m\n\u001b[0;32m   1256\u001b[0m \u001b[38;5;28;01mwith\u001b[39;00m SCCallSiteSync(\u001b[38;5;28mself\u001b[39m\u001b[38;5;241m.\u001b[39m_sc):\n\u001b[1;32m-> 1257\u001b[0m     sock_info \u001b[38;5;241m=\u001b[39m \u001b[38;5;28mself\u001b[39m\u001b[38;5;241m.\u001b[39m_jdf\u001b[38;5;241m.\u001b[39mcollectToPython()\n\u001b[0;32m   1258\u001b[0m \u001b[38;5;28;01mreturn\u001b[39;00m \u001b[38;5;28mlist\u001b[39m(_load_from_socket(sock_info, BatchedSerializer(CPickleSerializer())))\n",
      "File \u001b[1;32mD:\\anaconda\\Lib\\site-packages\\py4j\\java_gateway.py:1321\u001b[0m, in \u001b[0;36mJavaMember.__call__\u001b[1;34m(self, *args)\u001b[0m\n\u001b[0;32m   1314\u001b[0m args_command, temp_args \u001b[38;5;241m=\u001b[39m \u001b[38;5;28mself\u001b[39m\u001b[38;5;241m.\u001b[39m_build_args(\u001b[38;5;241m*\u001b[39margs)\n\u001b[0;32m   1316\u001b[0m command \u001b[38;5;241m=\u001b[39m proto\u001b[38;5;241m.\u001b[39mCALL_COMMAND_NAME \u001b[38;5;241m+\u001b[39m\\\n\u001b[0;32m   1317\u001b[0m     \u001b[38;5;28mself\u001b[39m\u001b[38;5;241m.\u001b[39mcommand_header \u001b[38;5;241m+\u001b[39m\\\n\u001b[0;32m   1318\u001b[0m     args_command \u001b[38;5;241m+\u001b[39m\\\n\u001b[0;32m   1319\u001b[0m     proto\u001b[38;5;241m.\u001b[39mEND_COMMAND_PART\n\u001b[1;32m-> 1321\u001b[0m answer \u001b[38;5;241m=\u001b[39m \u001b[38;5;28mself\u001b[39m\u001b[38;5;241m.\u001b[39mgateway_client\u001b[38;5;241m.\u001b[39msend_command(command)\n\u001b[0;32m   1322\u001b[0m return_value \u001b[38;5;241m=\u001b[39m get_return_value(\n\u001b[0;32m   1323\u001b[0m     answer, \u001b[38;5;28mself\u001b[39m\u001b[38;5;241m.\u001b[39mgateway_client, \u001b[38;5;28mself\u001b[39m\u001b[38;5;241m.\u001b[39mtarget_id, \u001b[38;5;28mself\u001b[39m\u001b[38;5;241m.\u001b[39mname)\n\u001b[0;32m   1325\u001b[0m \u001b[38;5;28;01mfor\u001b[39;00m temp_arg \u001b[38;5;129;01min\u001b[39;00m temp_args:\n",
      "File \u001b[1;32mD:\\anaconda\\Lib\\site-packages\\py4j\\java_gateway.py:1038\u001b[0m, in \u001b[0;36mGatewayClient.send_command\u001b[1;34m(self, command, retry, binary)\u001b[0m\n\u001b[0;32m   1036\u001b[0m connection \u001b[38;5;241m=\u001b[39m \u001b[38;5;28mself\u001b[39m\u001b[38;5;241m.\u001b[39m_get_connection()\n\u001b[0;32m   1037\u001b[0m \u001b[38;5;28;01mtry\u001b[39;00m:\n\u001b[1;32m-> 1038\u001b[0m     response \u001b[38;5;241m=\u001b[39m connection\u001b[38;5;241m.\u001b[39msend_command(command)\n\u001b[0;32m   1039\u001b[0m     \u001b[38;5;28;01mif\u001b[39;00m binary:\n\u001b[0;32m   1040\u001b[0m         \u001b[38;5;28;01mreturn\u001b[39;00m response, \u001b[38;5;28mself\u001b[39m\u001b[38;5;241m.\u001b[39m_create_connection_guard(connection)\n",
      "File \u001b[1;32mD:\\anaconda\\Lib\\site-packages\\py4j\\clientserver.py:511\u001b[0m, in \u001b[0;36mClientServerConnection.send_command\u001b[1;34m(self, command)\u001b[0m\n\u001b[0;32m    509\u001b[0m \u001b[38;5;28;01mtry\u001b[39;00m:\n\u001b[0;32m    510\u001b[0m     \u001b[38;5;28;01mwhile\u001b[39;00m \u001b[38;5;28;01mTrue\u001b[39;00m:\n\u001b[1;32m--> 511\u001b[0m         answer \u001b[38;5;241m=\u001b[39m smart_decode(\u001b[38;5;28mself\u001b[39m\u001b[38;5;241m.\u001b[39mstream\u001b[38;5;241m.\u001b[39mreadline()[:\u001b[38;5;241m-\u001b[39m\u001b[38;5;241m1\u001b[39m])\n\u001b[0;32m    512\u001b[0m         logger\u001b[38;5;241m.\u001b[39mdebug(\u001b[38;5;124m\"\u001b[39m\u001b[38;5;124mAnswer received: \u001b[39m\u001b[38;5;132;01m{0}\u001b[39;00m\u001b[38;5;124m\"\u001b[39m\u001b[38;5;241m.\u001b[39mformat(answer))\n\u001b[0;32m    513\u001b[0m         \u001b[38;5;66;03m# Happens when a the other end is dead. There might be an empty\u001b[39;00m\n\u001b[0;32m    514\u001b[0m         \u001b[38;5;66;03m# answer before the socket raises an error.\u001b[39;00m\n",
      "File \u001b[1;32mD:\\anaconda\\Lib\\socket.py:706\u001b[0m, in \u001b[0;36mSocketIO.readinto\u001b[1;34m(self, b)\u001b[0m\n\u001b[0;32m    704\u001b[0m \u001b[38;5;28;01mwhile\u001b[39;00m \u001b[38;5;28;01mTrue\u001b[39;00m:\n\u001b[0;32m    705\u001b[0m     \u001b[38;5;28;01mtry\u001b[39;00m:\n\u001b[1;32m--> 706\u001b[0m         \u001b[38;5;28;01mreturn\u001b[39;00m \u001b[38;5;28mself\u001b[39m\u001b[38;5;241m.\u001b[39m_sock\u001b[38;5;241m.\u001b[39mrecv_into(b)\n\u001b[0;32m    707\u001b[0m     \u001b[38;5;28;01mexcept\u001b[39;00m timeout:\n\u001b[0;32m    708\u001b[0m         \u001b[38;5;28mself\u001b[39m\u001b[38;5;241m.\u001b[39m_timeout_occurred \u001b[38;5;241m=\u001b[39m \u001b[38;5;28;01mTrue\u001b[39;00m\n",
      "\u001b[1;31mKeyboardInterrupt\u001b[0m: "
     ]
    }
   ],
   "source": [
    "pd.DataFrame({1:[1,2,3,4,5],'Mommy':['32','35','7','3','4']})"
   ]
  },
  {
   "cell_type": "code",
   "execution_count": 8,
   "id": "de25b451",
   "metadata": {},
   "outputs": [
    {
     "ename": "SyntaxError",
     "evalue": "invalid syntax (2710534602.py, line 1)",
     "output_type": "error",
     "traceback": [
      "\u001b[1;36m  Cell \u001b[1;32mIn[8], line 1\u001b[1;36m\u001b[0m\n\u001b[1;33m    import pyspark-pandas\u001b[0m\n\u001b[1;37m                  ^\u001b[0m\n\u001b[1;31mSyntaxError\u001b[0m\u001b[1;31m:\u001b[0m invalid syntax\n"
     ]
    }
   ],
   "source": [
    "import pyspark-pandas"
   ]
  },
  {
   "cell_type": "code",
   "execution_count": 16,
   "id": "86aaade3",
   "metadata": {},
   "outputs": [
    {
     "ename": "AttributeError",
     "evalue": "module 'pyspark.version' has no attribute 'now'",
     "output_type": "error",
     "traceback": [
      "\u001b[1;31m---------------------------------------------------------------------------\u001b[0m",
      "\u001b[1;31mAttributeError\u001b[0m                            Traceback (most recent call last)",
      "Cell \u001b[1;32mIn[16], line 2\u001b[0m\n\u001b[0;32m      1\u001b[0m \u001b[38;5;28;01mfrom\u001b[39;00m \u001b[38;5;21;01mpyspark\u001b[39;00m \u001b[38;5;28;01mimport\u001b[39;00m version\n\u001b[1;32m----> 2\u001b[0m version\u001b[38;5;241m.\u001b[39mnow\n",
      "\u001b[1;31mAttributeError\u001b[0m: module 'pyspark.version' has no attribute 'now'"
     ]
    }
   ],
   "source": []
  },
  {
   "cell_type": "code",
   "execution_count": null,
   "id": "ace5b338",
   "metadata": {},
   "outputs": [],
   "source": []
  }
 ],
 "metadata": {
  "kernelspec": {
   "display_name": "Python 3 (ipykernel)",
   "language": "python",
   "name": "python3"
  },
  "language_info": {
   "codemirror_mode": {
    "name": "ipython",
    "version": 3
   },
   "file_extension": ".py",
   "mimetype": "text/x-python",
   "name": "python",
   "nbconvert_exporter": "python",
   "pygments_lexer": "ipython3",
   "version": "3.11.5"
  }
 },
 "nbformat": 4,
 "nbformat_minor": 5
}
