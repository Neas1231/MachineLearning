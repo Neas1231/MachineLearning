{
 "cells": [
  {
   "cell_type": "code",
   "execution_count": 3,
   "id": "1238870e",
   "metadata": {},
   "outputs": [
    {
     "data": {
      "text/plain": [
       "True"
      ]
     },
     "execution_count": 3,
     "metadata": {},
     "output_type": "execute_result"
    }
   ],
   "source": [
    "def db_con_mysql(ip,user,password):\n",
    "    import pymysql\n",
    "    con = pymysql.connect(host=ip, user=user, password=password)\n",
    "    cur = con.cursor()\n",
    "    return con,cur\n",
    "\n",
    "def db_close(connect,cursor):\n",
    "    cursor.close()\n",
    "    connect.close()\n",
    "    return True\n",
    "import random as rand\n",
    "\n",
    "con,cur = db_con_mysql('192.168.88.130','root','Pwd666666')\n",
    "cur.execute('USE brics')\n",
    "cur.execute(\"SELECT table_name FROM information_schema.tables WHERE table_schema = 'brics'\")\n",
    "tables = cur.fetchall()\n",
    "for i in range(1,1011):\n",
    "    for table in tables:\n",
    "        table = table[0]\n",
    "#         if table == 'APP_LAUNCH_LOGS':\n",
    "#             cur.execute('SELECT MAX(user_id) FROM APP_LAUNCH_LOGS')\n",
    "#             user_id = cur.fetchone()[-1]\n",
    "#             cur.execute(f\"INSERT INTO APP_LAUNCH_LOGS VALUES ({user_id+1},{rand.randint(0,100)},'{rand.choice(['app','deep-link'])}')\")\n",
    "#         if table == 'USER_INTERACTION_DATA_PART2':\n",
    "#             cur.execute('SELECT MAX(user_id) FROM USER_INTERACTION_DATA_PART1')\n",
    "#             user_id = cur.fetchone()[0]\n",
    "#             cur.execute(f\"INSERT INTO USER_INTERACTION_DATA_PART1(user_id, item_id, interact_type, date) VALUES \\\n",
    "#                         ({user_id+1},{rand.choice([1,2,3,4,5,6,7,8,9,10])},'{rand.choice(['posting comments','like','dislike'])}',NOW());\")\n",
    "#         if table == 'USER_PLAYBACK_DATA':\n",
    "#             cur.execute('SELECT MAX(user_id) FROM APP_LAUNCH_LOGS')\n",
    "#             user_id = cur.fetchone()[0]              \n",
    "#             cur.execute(f\"INSERT INTO USER_PLAYBACK_DATA VALUES ({user_id+1},{rand.choice([1,2,3,4,5,6,7,8,9,10])},'{rand.randint(1,23)}:{rand.randint(1,59)}:{rand.randint(1,59)}',NOW());\")\n",
    "#         if table == 'USER_PORTRAIT_DATA':\n",
    "#             cur.execute('SELECT MAX(user_id) FROM APP_LAUNCH_LOGS')\n",
    "#             user_id = cur.fetchone()[0]\n",
    "#             cur.execute(f\"INSERT INTO USER_PORTRAIT_DATA VALUES ({user_id+1},'{rand.choice(['IOS','Android'])}',{rand.choice([16,32,64,128,256])},{rand.choice([2,4,8])},'{rand.choice(['Male','Female'])}',{rand.randint(18,49)},'{rand.choice(['SPO','VUZ'])}','{rand.choice(['Living','Working'])}',{rand.randint(12000,12999)});\")\n",
    "        if table == 'VIDEO_RELATED_DATA':\n",
    "            cur.execute(f\"INSERT INTO VIDEO_RELATED_DATA VALUES ({rand.choice([1,2,3,4,5,6,7,8,9,10])},{rand.choice([1,2,3])},'Mama, Papa, Pop', '{rand.randint(1,23)}:{rand.randint(1,59)}:{rand.randint(1,59)}','Fantasy, Comedy');\")            \n",
    "        con.commit()                \n",
    "                    \n",
    "    \n",
    "db_close(con,cur)"
   ]
  },
  {
   "cell_type": "code",
   "execution_count": 2,
   "id": "fb844e6d",
   "metadata": {},
   "outputs": [
    {
     "name": "stdout",
     "output_type": "stream",
     "text": [
      "Collecting pymysql\n",
      "  Obtaining dependency information for pymysql from https://files.pythonhosted.org/packages/e5/30/20467e39523d0cfc2b6227902d3687a16364307260c75e6a1cb4422b0c62/PyMySQL-1.1.0-py3-none-any.whl.metadata\n",
      "  Using cached PyMySQL-1.1.0-py3-none-any.whl.metadata (4.4 kB)\n",
      "Using cached PyMySQL-1.1.0-py3-none-any.whl (44 kB)\n",
      "Installing collected packages: pymysql\n",
      "Successfully installed pymysql-1.1.0\n",
      "Note: you may need to restart the kernel to use updated packages.\n"
     ]
    }
   ],
   "source": [
    "pip install pymysql"
   ]
  },
  {
   "cell_type": "code",
   "execution_count": 20,
   "id": "5fa5ed10",
   "metadata": {},
   "outputs": [
    {
     "name": "stdout",
     "output_type": "stream",
     "text": [
      "1011\n"
     ]
    },
    {
     "data": {
      "text/plain": [
       "True"
      ]
     },
     "execution_count": 20,
     "metadata": {},
     "output_type": "execute_result"
    }
   ],
   "source": [
    "con,cur = db_con_mysql('192.168.88.130','root','Pwd666666')\n",
    "cur.execute('USE brics')\n",
    "cur.execute('SELECT * FROM USER_PLAYBACK_DATA')\n",
    "print(cur.fetchall()[-1][0])\n",
    "db_close(con,cur)"
   ]
  },
  {
   "cell_type": "code",
   "execution_count": 21,
   "id": "cc53c401",
   "metadata": {},
   "outputs": [
    {
     "data": {
      "text/plain": [
       "True"
      ]
     },
     "execution_count": 21,
     "metadata": {},
     "output_type": "execute_result"
    }
   ],
   "source": [
    "def db_con_mysql(ip,user,password):\n",
    "    import pymysql\n",
    "    con = pymysql.connect(host=ip, user=user, password=password)\n",
    "    cur = con.cursor()\n",
    "    return con,cur\n",
    "\n",
    "def db_close(connect,cursor):\n",
    "    cursor.close()\n",
    "    connect.close()\n",
    "    return True\n",
    "import random as rand\n",
    "\n",
    "con,cur = db_con_mysql('192.168.88.130','root','Pwd666666')\n",
    "cur.execute('USE brics')\n",
    "cur.execute(\"SELECT table_name FROM information_schema.tables WHERE table_schema = 'brics'\")\n",
    "tables = cur.fetchall()\n",
    "cur.execute('SELECT MAX(user_id) FROM USER_INTERACTION_DATA_PART1')\n",
    "user_id = cur.fetchone()[0]\n",
    "for _ in range(1,1011):\n",
    "    cur.execute(f\"INSERT INTO USER_INTERACTION_DATA_PART2(user_id, item_id, interact_type, date) VALUES \\\n",
    "            ({user_id+1},{rand.choice([1,2,3,4,5,6,7,8,9,10])},'{rand.choice(['posting comments','like','dislike'])}',NOW());\")\n",
    "    user_id +=1\n",
    "con.commit()    \n",
    "            \n",
    "db_close(con,cur)"
   ]
  },
  {
   "cell_type": "code",
   "execution_count": null,
   "id": "0bc72e46",
   "metadata": {},
   "outputs": [],
   "source": []
  }
 ],
 "metadata": {
  "kernelspec": {
   "display_name": "Python 3 (ipykernel)",
   "language": "python",
   "name": "python3"
  },
  "language_info": {
   "codemirror_mode": {
    "name": "ipython",
    "version": 3
   },
   "file_extension": ".py",
   "mimetype": "text/x-python",
   "name": "python",
   "nbconvert_exporter": "python",
   "pygments_lexer": "ipython3",
   "version": "3.11.5"
  }
 },
 "nbformat": 4,
 "nbformat_minor": 5
}
