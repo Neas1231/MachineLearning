{
 "cells": [
  {
   "cell_type": "code",
   "execution_count": 13,
   "id": "dd38ebf2",
   "metadata": {},
   "outputs": [
    {
     "name": "stdout",
     "output_type": "stream",
     "text": [
      "['Reykjavik', 'Oslo', 'Moscow', 'London', 'Rome', 'Berlin', 'Belgrade', 'Athens']\n",
      "Reykjavik\n",
      "['Oslo', 'Moscow', 'London', 'Rome', 'Berlin', 'Belgrade', 'Athens']\n",
      "Oslo\n",
      "['Moscow', 'London', 'Rome', 'Berlin', 'Belgrade', 'Athens']\n",
      "Moscow\n",
      "['London', 'Rome', 'Berlin', 'Belgrade', 'Athens']\n",
      "Berlin\n",
      "['London', 'Rome', 'Belgrade', 'Athens']\n",
      "London\n",
      "['Rome', 'Belgrade', 'Athens']\n",
      "Athens\n",
      "['Rome', 'Belgrade']\n",
      "Belgrade\n",
      "['Rome']\n",
      "Rome\n",
      "Найден следующий лучший маршрут с ценностью 48.\n",
      "Reykjavik -> Oslo -> Moscow -> Belgrade\n"
     ]
    }
   ],
   "source": [
    "import sys\n",
    "# Для начала что такое алгоритм дейкстры. Это алгоритм поиска кратчайших путей между узлами взвешенного ориентированного графа\n",
    "# примерное обьяснение в gif https://upload.wikimedia.org/wikipedia/commons/5/57/Dijkstra_Animation.gif\n",
    "\n",
    "# От начальной вершины алгоритм присваивает остальным вершинам(nodes) кратчайшие пути, при этом если есть альтернатива\n",
    "# он сравнивает числовое значение путей и оставляет минимальное, тем самым ища кратчайший путь.\n",
    "\n",
    "# Для начала чтобы реализовать алгоритм создадим класс графы, в котором обозначим различные функции коммуникации с созданным графом\n",
    "# список названий вершин - nodes и словарь со словарями(реализованный граф) init_graph\n",
    "# Список: [\"Reykjavik\", \"Oslo\", \"Moscow\", \"London\", \"Rome\", \"Berlin\", \"Belgrade\", \"Athens\"]\n",
    "# Словарь: {'Reykjavik': {'Oslo': 5, 'London': 4},\n",
    "#              'Oslo': {'Berlin': 1, 'Moscow': 3, 'Reykjavik': 5},\n",
    "#              'Moscow': {'Belgrade': 5, 'Athens': 4, 'Oslo': 3},\n",
    "#              'London': {'Reykjavik': 4},\n",
    "#              'Rome': {'Berlin': 2, 'Athens': 2},\n",
    "#              'Berlin': {'Oslo': 1, 'Rome': 2},\n",
    "#              'Belgrade': {'Moscow': 5, 'Athens': 1},\n",
    "#              'Athens': {'Belgrade': 1, 'Moscow': 4, 'Rome': 2}}\n",
    "\n",
    "class Graph(object):\n",
    "    def __init__(self, nodes, init_graph): # __init__ выполняется всегда в начале присвоения класса nodes - список, init_graph - словарь\n",
    "        self.nodes = nodes # присваиваем список с именами городов\n",
    "        self.graph = init_graph # присваиваем сконструированный нами граф\n",
    "# self используется для вызова переменных вне одной функции в классе, сейчас присваиваем, потом используем в других функциях(методах) у класса        \n",
    "    def get_nodes(self):\n",
    "        #Выводит вершины графа\n",
    "        return self.nodes\n",
    "    \n",
    "    def get_neighbours(self, node):\n",
    "        #Выводит соседей вершины\n",
    "        connections = [] # Словарь с соседями\n",
    "        for out_node in self.nodes: # Перебираем все узлы\n",
    "            if self.graph[node].get(out_node, False) != False: # Если для выбранной вершины node есть out_node выводится числовое значение пути,если нет - False как указано в .get()\n",
    "                connections.append(out_node) # И если путь есть записываем его в список соседей\n",
    "        return connections\n",
    "    \n",
    "    def value(self, node1, node2):\n",
    "        #Выводит значение ребра между двумя вершинами\n",
    "        return self.graph[node1][node2]\n",
    "\n",
    "# Создав класс обращения к графу(нашему списку) реализуем алгоритм \n",
    "def dijkstra_algorithm(graph, start_node): # Он принимает наш словарь под классом graph и начальный узел\n",
    "    unvisited_nodes = list(graph.get_nodes()) # Записывает непосещённые узлы как все вершины графа для начала, чтобы далее убирать уже посещённые узлы\n",
    " \n",
    "    # Словарь для обозначения минимального пути на каждый узел\n",
    "    shortest_path = {}\n",
    " \n",
    "    # Словарь для получения предыдущего узла из которого мы пришли(после мы выведем пути от нужного до начального и перевернём список - это и будет наш путь в названиях городов)\n",
    "    previous_nodes = {}\n",
    " \n",
    "    # Мы будем использовать max_value для инициализации значения \"бесконечности\" непосещенных узлов\n",
    "    max_value = sys.maxsize\n",
    "    for node in unvisited_nodes: # Для каждой вершины мы сохраняем значение нашей \"бесконечности\" чтобы потом заменить их на минимальные пути \n",
    "        shortest_path[node] = max_value\n",
    "    # Значение начального узла - 0  \n",
    "    shortest_path[start_node] = 0\n",
    "    \n",
    "    # Алгоритм выполняется до тех пор, пока мы не посетим все узлы\n",
    "    while unvisited_nodes:\n",
    "        # Приведенный ниже блок кода находит узел который уже посчитан и может суммироваться с остальными путями\n",
    "#         print(unvisited_nodes)\n",
    "        current_min_node = None\n",
    "        for node in unvisited_nodes: # Пробегаемся по всем узлам\n",
    "            if current_min_node == None: # Если минимального нету\n",
    "                current_min_node = node # Присваиваем первый попавшийся\n",
    "            elif shortest_path[node] < shortest_path[current_min_node]: # Если кратчайший записанный путь от нашего node меньше кратчайшего от минимального на данный момент\n",
    "                current_min_node = node # То присваиваем минимуму на данный момент node, пробегаемый по всем не посещённым значениям\n",
    "                \n",
    "#         print(current_min_node)\n",
    "        # Приведенный ниже блок кода извлекает соседей текущего узла и обновляет их расстояния\n",
    "        neighbors = graph.get_neighbours(current_min_node) # Берём список соседей от нашего \"минимального\" узла\n",
    "        for neighbor in neighbors: # Пробегаемся по всем этим значениям\n",
    "            tentative_value = shortest_path[current_min_node] + graph.value(current_min_node, neighbor)#Считаем для каждого соседа сумму путей\n",
    "            if tentative_value < shortest_path[neighbor]: # При этом если посчитанный путь меньше чем уже записанный в других итерациях то \n",
    "                shortest_path[neighbor] = tentative_value # Этот минимальный на данный момент записывается в кратчайшие пути под именем соседа к которому мы считали\n",
    "                previous_nodes[neighbor] = current_min_node # И при этом заполняем словарь для будущего отображения пути\n",
    " \n",
    "        # После посещения его соседей мы отмечаем узел как \"посещенный\", тоесть удаляем его\n",
    "        unvisited_nodes.remove(current_min_node)\n",
    "    \n",
    "    return previous_nodes, shortest_path\n",
    "\n",
    "def print_result(previous_nodes, shortest_path, start_node, target_node): # Создаём функцию для отображения нашего пути и суммы минимальных путей до цели\n",
    "    path = [] # Сам путь\n",
    "    node = target_node # Конечная цель\n",
    "    \n",
    "    while node != start_node: # И с конца по начало, пока node не стартовый узел\n",
    "        path.append(node)\n",
    "        node = previous_nodes[node]\n",
    " \n",
    "   # Добавить начальный узел вручную\n",
    "    path.append(start_node)\n",
    "    \n",
    "    print(\"Найден следующий лучший маршрут с ценностью {}.\".format(shortest_path[target_node]))\n",
    "    print(\" -> \".join(reversed(path)))\n",
    "\n",
    "nodes = [\"Reykjavik\", \"Oslo\", \"Moscow\", \"London\", \"Rome\", \"Berlin\", \"Belgrade\", \"Athens\"]\n",
    " \n",
    "init_graph = {}\n",
    "for node in nodes:\n",
    "    init_graph[node] = {}\n",
    "    \n",
    "init_graph[\"Reykjavik\"][\"Oslo\"] = 10\n",
    "init_graph[\"Reykjavik\"][\"London\"] = 25\n",
    "init_graph[\"Oslo\"][\"Berlin\"] = 13\n",
    "init_graph[\"Oslo\"][\"Moscow\"] = 4\n",
    "init_graph[\"Moscow\"][\"Belgrade\"] = 34\n",
    "init_graph[\"Moscow\"][\"Athens\"] = 26\n",
    "init_graph[\"Athens\"][\"Belgrade\"] = 10\n",
    "init_graph[\"Rome\"][\"Berlin\"] = 7\n",
    "init_graph[\"Rome\"][\"Athens\"] = 9\n",
    "\n",
    "graph = Graph(nodes, init_graph)\n",
    "\n",
    "previous_nodes, shortest_path = dijkstra_algorithm(graph=graph, start_node=\"Reykjavik\")\n",
    "\n",
    "print_result(previous_nodes, shortest_path, start_node=\"Reykjavik\", target_node=\"Belgrade\")"
   ]
  },
  {
   "cell_type": "code",
   "execution_count": 9,
   "id": "3cdd49df",
   "metadata": {},
   "outputs": [
    {
     "data": {
      "text/plain": [
       "{'Reykjavik': 0,\n",
       " 'Oslo': 10,\n",
       " 'Moscow': 14,\n",
       " 'London': 25,\n",
       " 'Rome': 30,\n",
       " 'Berlin': 23,\n",
       " 'Belgrade': 48,\n",
       " 'Athens': 39}"
      ]
     },
     "execution_count": 9,
     "metadata": {},
     "output_type": "execute_result"
    }
   ],
   "source": [
    "shortest_path"
   ]
  },
  {
   "cell_type": "code",
   "execution_count": 10,
   "id": "ffd3c85c",
   "metadata": {},
   "outputs": [
    {
     "data": {
      "text/plain": [
       "{'Oslo': 'Reykjavik',\n",
       " 'London': 'Reykjavik',\n",
       " 'Moscow': 'Oslo',\n",
       " 'Berlin': 'Oslo',\n",
       " 'Belgrade': 'Moscow',\n",
       " 'Athens': 'Rome',\n",
       " 'Rome': 'Berlin'}"
      ]
     },
     "execution_count": 10,
     "metadata": {},
     "output_type": "execute_result"
    }
   ],
   "source": [
    "previous_nodes"
   ]
  },
  {
   "cell_type": "code",
   "execution_count": 7,
   "id": "e69ddaed",
   "metadata": {},
   "outputs": [
    {
     "data": {
      "text/plain": [
       "{'Reykjavik': {'Oslo': 10, 'London': 25},\n",
       " 'Oslo': {'Berlin': 13, 'Moscow': 4, 'Reykjavik': 10},\n",
       " 'Moscow': {'Belgrade': 34, 'Athens': 26, 'Oslo': 4},\n",
       " 'London': {'Reykjavik': 25},\n",
       " 'Rome': {'Berlin': 7, 'Athens': 9},\n",
       " 'Berlin': {'Oslo': 13, 'Rome': 7},\n",
       " 'Belgrade': {'Moscow': 34, 'Athens': 10},\n",
       " 'Athens': {'Belgrade': 10, 'Moscow': 26, 'Rome': 9}}"
      ]
     },
     "execution_count": 7,
     "metadata": {},
     "output_type": "execute_result"
    }
   ],
   "source": [
    "init_graph"
   ]
  },
  {
   "cell_type": "code",
   "execution_count": 8,
   "id": "4f4ce8f4",
   "metadata": {},
   "outputs": [
    {
     "data": {
      "text/plain": [
       "{'Reykjavik': {'Oslo': 10, 'London': 25},\n",
       " 'Oslo': {'Berlin': 13, 'Moscow': 4, 'Reykjavik': 10},\n",
       " 'Moscow': {'Belgrade': 34, 'Athens': 26, 'Oslo': 4},\n",
       " 'London': {'Reykjavik': 25},\n",
       " 'Rome': {'Berlin': 7, 'Athens': 9},\n",
       " 'Berlin': {'Oslo': 13, 'Rome': 7},\n",
       " 'Belgrade': {'Moscow': 34, 'Athens': 10},\n",
       " 'Athens': {'Belgrade': 10, 'Moscow': 26, 'Rome': 9}}"
      ]
     },
     "execution_count": 8,
     "metadata": {},
     "output_type": "execute_result"
    }
   ],
   "source": [
    "graph.graph"
   ]
  },
  {
   "cell_type": "code",
   "execution_count": null,
   "id": "ec1a82a7",
   "metadata": {},
   "outputs": [],
   "source": []
  }
 ],
 "metadata": {
  "kernelspec": {
   "display_name": "Python 3 (ipykernel)",
   "language": "python",
   "name": "python3"
  },
  "language_info": {
   "codemirror_mode": {
    "name": "ipython",
    "version": 3
   },
   "file_extension": ".py",
   "mimetype": "text/x-python",
   "name": "python",
   "nbconvert_exporter": "python",
   "pygments_lexer": "ipython3",
   "version": "3.11.5"
  }
 },
 "nbformat": 4,
 "nbformat_minor": 5
}
