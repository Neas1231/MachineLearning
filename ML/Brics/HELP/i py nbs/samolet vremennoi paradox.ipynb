{
 "cells": [
  {
   "cell_type": "code",
   "execution_count": null,
   "id": "d0dd147a",
   "metadata": {},
   "outputs": [],
   "source": [
    "import pyspark\n",
    "from pyspark.sql import SparkSession\n",
    "import pandas as pd\n",
    "pd.set_option('display.max_columns', None)\n",
    "pd.DataFrame.iteritems = pd.DataFrame.items\n",
    "def FetchHiveTable():\n",
    "        fetch_sql = \"select * from ods.app_launch_logs\"\n",
    "        df = spark.sql(fetch_sql).toPandas()\n",
    "        df_copy = df.groupby('user_id').count()\n",
    "        df_copy['type'] = df['date_load'] +','+ df['launch_type']\n",
    "        df_copy['dwd_insert_user']='user1'\n",
    "        df_copy['dwd_modify_user']='user1'\n",
    "        df_copy.sort_values(by='user_id')\n",
    "        df_copy.dropna(inplace=True)\n",
    "        spark_df = spark.createDataFrame(df_copy)\n",
    "        spark_df.write.mode(\"overwrite\").saveAsTable(\"dwd.dim_app_launch_logs\")\n",
    "        print(spark_df.show())\n",
    "\n",
    "if __name__ == \"__main__\":\n",
    "        appname = \"Hive\"\n",
    "        #Creating Spark Session\n",
    "        spark = SparkSession.builder.master(\"local[*]\").appName(appname).config(\"spark.sql.warehouse.dir\", \"/user/hive_remote/warehouse\").config(\"hive.metastore.uris\", \"thrift://slave2:9083\").enableHiveSupport().getOrCreate()\n",
    "        print(\"Spark application name: \" + appname)\n",
    "        FetchHiveTable()\n",
    "        spark.stop()\n",
    "        exit(0)\n"
   ]
  },
  {
   "cell_type": "code",
   "execution_count": 28,
   "id": "6abc8018",
   "metadata": {
    "scrolled": true
   },
   "outputs": [],
   "source": [
    "import pandas as pd\n",
    "df = pd.DataFrame({\"mama\":('11:25:64','24:33:33','','','',1,1,1)})\n",
    "df['papa']= [1,2,1,2,1,3,5,6]\n",
    "df['guzlo'] = [[12,14,15,16],[123,432,6],[1],[1],[2],1,1,1]"
   ]
  },
  {
   "cell_type": "code",
   "execution_count": 44,
   "id": "59163491",
   "metadata": {},
   "outputs": [
    {
     "data": {
      "text/plain": [
       "MultiIndex([(1,         ''),\n",
       "            (1, '11:25:64'),\n",
       "            (2,         ''),\n",
       "            (2, '24:33:33'),\n",
       "            (3,          1),\n",
       "            (5,          1),\n",
       "            (6,          1)],\n",
       "           names=['papa', 'mama'])"
      ]
     },
     "execution_count": 44,
     "metadata": {},
     "output_type": "execute_result"
    }
   ],
   "source": [
    "gb = df.groupby(['papa','mama'])\n",
    "gb.count()['guzlo'].index"
   ]
  },
  {
   "cell_type": "code",
   "execution_count": 49,
   "id": "91143349",
   "metadata": {},
   "outputs": [
    {
     "data": {
      "text/plain": [
       "[1, 1, 2, 2, 3, 5, 6]"
      ]
     },
     "execution_count": 49,
     "metadata": {},
     "output_type": "execute_result"
    }
   ],
   "source": [
    "list(map(lambda x : x[0],gb.count()['guzlo'].index))"
   ]
  }
 ],
 "metadata": {
  "kernelspec": {
   "display_name": "Python 3 (ipykernel)",
   "language": "python",
   "name": "python3"
  },
  "language_info": {
   "codemirror_mode": {
    "name": "ipython",
    "version": 3
   },
   "file_extension": ".py",
   "mimetype": "text/x-python",
   "name": "python",
   "nbconvert_exporter": "python",
   "pygments_lexer": "ipython3",
   "version": "3.11.5"
  }
 },
 "nbformat": 4,
 "nbformat_minor": 5
}
