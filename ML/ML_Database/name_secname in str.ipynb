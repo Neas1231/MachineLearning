{
 "cells": [
  {
   "cell_type": "code",
   "execution_count": null,
   "id": "initial_id",
   "metadata": {
    "collapsed": true
   },
   "outputs": [],
   "source": [
    "def familiarity(text,percent_name,percent_sec_name):\n",
    "    import re\n",
    "    import random\n",
    "    with open(r'C:\\Users\\admin\\Desktop\\names.txt',encoding='utf-8') as file:\n",
    "        names_list = file.read().split(', ')\n",
    "    space_indx = [0] + [m.start() for m in re.finditer(' ', text)] + [-1]\n",
    "    if random.randrange(100) <= percent_name:\n",
    "        curr_space = random.choice(space_indx)\n",
    "        curr_name = random.choice(names_list)\n",
    "        if random.randrange(100) <= percent_sec_name:\n",
    "            text = text[:curr_space] + f' {curr_name} ' + text[curr_space + 1:]\n",
    "            return text\n",
    "        else:\n",
    "            text = text[:curr_space] + f' {curr_name[curr_name.find(\" \")][0]} ' + text[curr_space + 1:]\n",
    "            return text\n",
    "    else:\n",
    "        return text"
   ]
  },
  {
   "cell_type": "code",
   "execution_count": null,
   "outputs": [],
   "source": [
    "def test(text,lol):\n",
    "    return text + lol\n",
    "df.apply(test, lol='10')"
   ],
   "metadata": {
    "collapsed": false
   },
   "id": "e614c24997e76e31"
  }
 ],
 "metadata": {
  "kernelspec": {
   "display_name": "Python 3",
   "language": "python",
   "name": "python3"
  },
  "language_info": {
   "codemirror_mode": {
    "name": "ipython",
    "version": 2
   },
   "file_extension": ".py",
   "mimetype": "text/x-python",
   "name": "python",
   "nbconvert_exporter": "python",
   "pygments_lexer": "ipython2",
   "version": "2.7.6"
  }
 },
 "nbformat": 4,
 "nbformat_minor": 5
}
