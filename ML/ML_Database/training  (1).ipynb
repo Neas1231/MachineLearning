{
 "cells": [
  {
   "cell_type": "markdown",
   "id": "5415d2d7",
   "metadata": {},
   "source": [
    "## Загрузка библиотек \n"
   ]
  },
  {
   "cell_type": "code",
   "execution_count": 1,
   "id": "56bdf7d4",
   "metadata": {
    "scrolled": false
   },
   "outputs": [
    {
     "data": {
      "text/plain": [
       "<contextlib.ExitStack at 0x2e414795d00>"
      ]
     },
     "execution_count": 1,
     "metadata": {},
     "output_type": "execute_result"
    }
   ],
   "source": [
    "from __future__ import print_function, division\n",
    "import torch\n",
    "import torch.nn as nn\n",
    "import torch.optim as optim\n",
    "from torch.optim import lr_scheduler\n",
    "import torch.backends.cudnn as cudnn\n",
    "import numpy as np\n",
    "import torchvision\n",
    "from torchvision import datasets, models, transforms\n",
    "import matplotlib.pyplot as plt\n",
    "import time\n",
    "import os\n",
    "import glob\n",
    "import copy\n",
    "import neptune\n",
    "#import splitfolders # Библиотека для разделения файлов картинок на train test\n",
    "import matplotlib.gridspec as gridspec\n",
    "cudnn.benchmark = True\n",
    "plt.ion()\n"
   ]
  },
  {
   "cell_type": "markdown",
   "id": "8adfa0e4",
   "metadata": {},
   "source": [
    "# Загрузка данных "
   ]
  },
  {
   "cell_type": "code",
   "execution_count": 2,
   "id": "45e19faf",
   "metadata": {
    "scrolled": true
   },
   "outputs": [
    {
     "name": "stderr",
     "output_type": "stream",
     "text": [
      "D:\\hroneniyas\\anacondas\\envs\\gputorch\\lib\\site-packages\\neptune\\common\\warnings.py:62: NeptuneWarning: To avoid unintended consumption of logging hours during interactive sessions, the following monitoring options are disabled unless set to 'True' when initializing the run: 'capture_stdout', 'capture_stderr', and 'capture_hardware_metrics'.\n",
      "  warnings.warn(\n"
     ]
    },
    {
     "name": "stdout",
     "output_type": "stream",
     "text": [
      "https://app.neptune.ai/neas1231/Neas1231/e/NEAS-22\n"
     ]
    }
   ],
   "source": [
    "# Разделить данные на трейн тест не руками а библиотекой \n",
    "#splitfolders.ratio(\n",
    "#  \"C:\\data\\dataset\",\n",
    "#   output='C:\\data\\dataset\\split',\n",
    "#   seed=42,\n",
    "#    ratio=(.8, .1, 0.1),\n",
    "#    group_prefix=None,\n",
    "  #  move=False)\n",
    "    \n",
    "run = neptune.init_run(\n",
    "    project=\"neas1231/Neas1231\",\n",
    "    api_token=\"eyJhcGlfYWRkcmVzcyI6Imh0dHBzOi8vYXBwLm5lcHR1bmUuYWkiLCJhcGlfdXJsIjoiaHR0cHM6Ly9hcHAubmVwdHVuZS5haSIsImFwaV9rZXkiOiJmY2VjMGIzOS01ZjI1LTQ1MTItODQxYi0zMjIyOWIwYWI0MzIifQ==\",\n",
    ")\n",
    "#Нормализация и  аугментация  данных\n",
    "\n",
    "data_transforms = {\n",
    "    'train': transforms.Compose([\n",
    "        transforms.RandomResizedCrop(224),\n",
    "        transforms.RandomHorizontalFlip(),\n",
    "        transforms.ToTensor(),\n",
    "        transforms.Normalize([0.485, 0.456, 0.406], [0.229, 0.224, 0.225])\n",
    "    ]),\n",
    "    'val': transforms.Compose([\n",
    "        transforms.Resize(256),\n",
    "        transforms.CenterCrop(224),\n",
    "        transforms.ToTensor(),\n",
    "        transforms.Normalize([0.485, 0.456, 0.406], [0.229, 0.224, 0.225])\n",
    "    ]),\n",
    "}\n",
    "\n",
    "data_dir = 'E:\\datasets\\dataset'\n",
    "run[\"config/data_dir\"] = data_dir\n",
    "\n",
    "image_datasets = {x: datasets.ImageFolder(os.path.join(data_dir, x),\n",
    "                                          data_transforms[x])\n",
    "              for x in ['train', 'val']}\n",
    "dataloaders = {x: torch.utils.data.DataLoader(image_datasets[x], batch_size=10,\n",
    "                                             shuffle=True, num_workers=8)\n",
    "              for x in ['train', 'val']}\n",
    "\n",
    "dataset_sizes = {x: len(image_datasets[x]) \n",
    "              for x in ['train', 'val']}\n",
    "\n",
    "class_names = image_datasets['train'].classes\n",
    "\n",
    "device = torch.device(\"cuda:0\" if torch.cuda.is_available() else \"cpu\")"
   ]
  },
  {
   "cell_type": "code",
   "execution_count": null,
   "id": "cd588365",
   "metadata": {},
   "outputs": [],
   "source": [
    "#функция  для обучения и для высчитывания градиентов "
   ]
  },
  {
   "cell_type": "code",
   "execution_count": 7,
   "id": "a67b23f8",
   "metadata": {
    "scrolled": true
   },
   "outputs": [],
   "source": [
    "def train_model(model, criterion, optimizer, scheduler, num_epochs=14):\n",
    "    since = time.time()\n",
    "    #Сохраняем  лучшие веса \n",
    "    best_model_wts = copy.deepcopy(model.state_dict())\n",
    "    best_acc = 0.0\n",
    "\n",
    "    for epoch in range(num_epochs):\n",
    "        print(f'Epoch {epoch}/{num_epochs - 1}')\n",
    "        print('-' * 10)\n",
    "\n",
    "\n",
    "        for phase in ['train', 'val']:\n",
    "            if phase == 'train':\n",
    "                model.train()  \n",
    "            else:\n",
    "                model.eval()   \n",
    "\n",
    "            running_loss = 0.0\n",
    "            running_corrects = 0\n",
    "\n",
    "            # перенос  вычислений на куду \n",
    "            for inputs, labels in dataloaders[phase]:\n",
    "                inputs = inputs.to(device)\n",
    "                labels = labels.to(device)\n",
    "\n",
    "                \n",
    "                optimizer.zero_grad()\n",
    "\n",
    "                #\n",
    "                \n",
    "                with torch.set_grad_enabled(phase == 'train'):\n",
    "                    outputs = model(inputs)\n",
    "                    _, preds = torch.max(outputs, 1)\n",
    "                    loss = criterion(outputs, labels)\n",
    "                    acc = (torch.sum(preds == labels.data)) / len(inputs)\n",
    "                    run[\"logs/training/batch/loss\"].append(loss)\n",
    "                    run[\"logs/training/batch/acc\"].append(acc)\n",
    "\n",
    "                    # считаем градиенты тольок если трейн данные \n",
    "                    if phase == 'train':\n",
    "                        loss.backward()\n",
    "                        optimizer.step()\n",
    "\n",
    "                # стасистика  \n",
    "                running_loss += loss.item() * inputs.size(0)\n",
    "                running_corrects += torch.sum(preds == labels.data)\n",
    "            if phase == 'train':\n",
    "                scheduler.step()\n",
    "\n",
    "            epoch_loss = running_loss / dataset_sizes[phase]\n",
    "            epoch_acc = running_corrects.double() / dataset_sizes[phase]\n",
    "\n",
    "            print(f'{phase} Loss: {epoch_loss:.4f} Acc: {epoch_acc:.4f}')\n",
    "\n",
    "            # сохраняем не только лучшие веса , но и акураси \n",
    "            if phase == 'val' and epoch_acc > best_acc:\n",
    "                best_acc = epoch_acc\n",
    "                best_model_wts = copy.deepcopy(model.state_dict())\n",
    "\n",
    "        print()\n",
    "\n",
    "    time_elapsed = time.time() - since\n",
    "    print(f'Training complete in {time_elapsed // 60:.0f}m {time_elapsed % 60:.0f}s')\n",
    "    print(f'Best val Acc: {best_acc:4f}')\n",
    "\n",
    "    model.load_state_dict(best_model_wts)\n",
    "    return model"
   ]
  },
  {
   "cell_type": "markdown",
   "id": "d19e6a3a",
   "metadata": {},
   "source": [
    "# Параметры для модели "
   ]
  },
  {
   "cell_type": "code",
   "execution_count": 8,
   "id": "d9f5abdc",
   "metadata": {
    "scrolled": true
   },
   "outputs": [],
   "source": [
    "model_ft = models.efficientnet_b4(pretrained=True) \n",
    "num_ftrs = model_ft.classifier[1].in_features\n",
    "# num_ftrs = model_ft.fc.in_features Для рес нета , но у эфинета другая архитектура \n",
    "\n",
    "model_ft.fc = nn.Linear(num_ftrs, len(class_names))\n",
    "# cuda\n",
    "model_ft = model_ft.to(device)\n",
    "run[\"config/model\"] = model_ft\n",
    "\n",
    "criterion = nn.CrossEntropyLoss()\n",
    "run[\"config/criterion\"] =criterion\n",
    "\n",
    "# оптимайзер  с лернинг рейт \n",
    "optimizer_ft = optim.Adam(model_ft.parameters(), lr=0.001)\n",
    "run[\"config/optimizer\"] = optimizer_ft\n",
    "run[\"parameters\"] = model_ft.parameters()\n",
    "\n",
    "# редактируем лернинг рейт каждые 7 шагов \n",
    "exp_lr_scheduler = lr_scheduler.StepLR(optimizer_ft, step_size=7, gamma=0.1)"
   ]
  },
  {
   "cell_type": "code",
   "execution_count": 9,
   "id": "0487316e",
   "metadata": {
    "scrolled": false
   },
   "outputs": [
    {
     "name": "stdout",
     "output_type": "stream",
     "text": [
      "Epoch 0/13\n",
      "----------\n",
      "train Loss: 0.9840 Acc: 0.6970\n",
      "val Loss: 0.4028 Acc: 0.8735\n",
      "\n",
      "Epoch 1/13\n",
      "----------\n",
      "train Loss: 0.6006 Acc: 0.7963\n",
      "val Loss: 0.3329 Acc: 0.8929\n",
      "\n",
      "Epoch 2/13\n",
      "----------\n",
      "train Loss: 0.5294 Acc: 0.8222\n",
      "val Loss: 0.3327 Acc: 0.8957\n",
      "\n",
      "Epoch 3/13\n",
      "----------\n",
      "train Loss: 0.4994 Acc: 0.8297\n",
      "val Loss: 0.3170 Acc: 0.8975\n",
      "\n",
      "Epoch 4/13\n",
      "----------\n",
      "train Loss: 0.4460 Acc: 0.8464\n",
      "val Loss: 0.3684 Acc: 0.8864\n",
      "\n",
      "Epoch 5/13\n",
      "----------\n",
      "train Loss: 0.4406 Acc: 0.8536\n",
      "val Loss: 0.3114 Acc: 0.8994\n",
      "\n",
      "Epoch 6/13\n",
      "----------\n",
      "train Loss: 0.4182 Acc: 0.8557\n",
      "val Loss: 0.3014 Acc: 0.8975\n",
      "\n",
      "Epoch 7/13\n",
      "----------\n",
      "train Loss: 0.3278 Acc: 0.8876\n",
      "val Loss: 0.2681 Acc: 0.9141\n",
      "\n",
      "Epoch 8/13\n",
      "----------\n",
      "train Loss: 0.2814 Acc: 0.9018\n",
      "val Loss: 0.2514 Acc: 0.9178\n",
      "\n",
      "Epoch 9/13\n",
      "----------\n",
      "train Loss: 0.2518 Acc: 0.9149\n",
      "val Loss: 0.2451 Acc: 0.9243\n",
      "\n",
      "Epoch 10/13\n",
      "----------\n",
      "train Loss: 0.2488 Acc: 0.9136\n",
      "val Loss: 0.2351 Acc: 0.9215\n",
      "\n",
      "Epoch 11/13\n",
      "----------\n",
      "train Loss: 0.2266 Acc: 0.9238\n",
      "val Loss: 0.2526 Acc: 0.9206\n",
      "\n",
      "Epoch 12/13\n",
      "----------\n",
      "train Loss: 0.2263 Acc: 0.9182\n",
      "val Loss: 0.2476 Acc: 0.9252\n",
      "\n",
      "Epoch 13/13\n",
      "----------\n",
      "train Loss: 0.2072 Acc: 0.9269\n",
      "val Loss: 0.2546 Acc: 0.9243\n",
      "\n",
      "Training complete in 65m 58s\n",
      "Best val Acc: 0.925208\n"
     ]
    }
   ],
   "source": [
    "model_ft = train_model(model_ft, criterion, optimizer_ft, exp_lr_scheduler,\n",
    "                       num_epochs=14)"
   ]
  },
  {
   "cell_type": "code",
   "execution_count": 11,
   "id": "bbbe6271",
   "metadata": {
    "scrolled": true
   },
   "outputs": [],
   "source": [
    "#Сохраняем модель\n",
    "torch.save(model_ft,'efinet-0.925208acc-0.2546loss.pth')\n",
    "torch.save(model_ft.state_dict(), \"weights-efinet-0.925208acc-0.2546loss.pth\")"
   ]
  },
  {
   "cell_type": "code",
   "execution_count": null,
   "id": "86ccadd9",
   "metadata": {},
   "outputs": [],
   "source": [
    "#Чистка кеша видеокарты\n",
    "torch.cuda.memory_summary(device=None, abbreviated=False)\n",
    "import gc\n",
    "gc.collect()\n",
    "import torch\n",
    "torch.cuda.empty_cache()"
   ]
  },
  {
   "cell_type": "code",
   "execution_count": 10,
   "id": "aa4e7602",
   "metadata": {},
   "outputs": [
    {
     "name": "stdout",
     "output_type": "stream",
     "text": [
      "Shutting down background jobs, please wait a moment...\n",
      "Done!\n",
      "Waiting for the remaining 20 operations to synchronize with Neptune. Do not kill this process.\n",
      "All 20 operations synced, thanks for waiting!\n",
      "Explore the metadata in the Neptune app:\n",
      "https://app.neptune.ai/neas1231/Neas1231/e/NEAS-22/metadata\n"
     ]
    }
   ],
   "source": [
    "run.stop()"
   ]
  },
  {
   "cell_type": "code",
   "execution_count": null,
   "id": "0ec1cdcd",
   "metadata": {},
   "outputs": [],
   "source": []
  }
 ],
 "metadata": {
  "kernelspec": {
   "display_name": "Python 3 (ipykernel)",
   "language": "python",
   "name": "python3"
  },
  "language_info": {
   "codemirror_mode": {
    "name": "ipython",
    "version": 3
   },
   "file_extension": ".py",
   "mimetype": "text/x-python",
   "name": "python",
   "nbconvert_exporter": "python",
   "pygments_lexer": "ipython3",
   "version": "3.9.16"
  }
 },
 "nbformat": 4,
 "nbformat_minor": 5
}
