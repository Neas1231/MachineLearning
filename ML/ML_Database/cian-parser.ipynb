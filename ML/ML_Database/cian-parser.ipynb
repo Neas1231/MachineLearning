{
 "cells": [
  {
   "cell_type": "code",
   "execution_count": 4,
   "id": "f7be52e4",
   "metadata": {},
   "outputs": [
    {
     "name": "stdout",
     "output_type": "stream",
     "text": [
      "Collecting cianparser==0.4.10\n",
      "  Downloading cianparser-0.4.10-py3-none-any.whl (14 kB)\n",
      "Requirement already satisfied: beautifulsoup4 in e:\\hran\\conda\\lib\\site-packages (from cianparser==0.4.10) (4.11.1)\n",
      "Requirement already satisfied: lxml in e:\\hran\\conda\\lib\\site-packages (from cianparser==0.4.10) (4.9.1)\n",
      "Collecting datetime\n",
      "  Downloading DateTime-5.1-py3-none-any.whl (52 kB)\n",
      "     -------------------------------------- 52.1/52.1 kB 107.1 kB/s eta 0:00:00\n",
      "Collecting transliterate\n",
      "  Downloading transliterate-1.10.2-py2.py3-none-any.whl (45 kB)\n",
      "     -------------------------------------- 45.8/45.8 kB 190.1 kB/s eta 0:00:00\n",
      "Collecting cloudscraper\n",
      "  Downloading cloudscraper-1.2.71-py2.py3-none-any.whl (99 kB)\n",
      "     -------------------------------------- 99.7/99.7 kB 173.6 kB/s eta 0:00:00\n",
      "Requirement already satisfied: soupsieve>1.2 in e:\\hran\\conda\\lib\\site-packages (from beautifulsoup4->cianparser==0.4.10) (2.3.2.post1)\n",
      "Requirement already satisfied: requests-toolbelt>=0.9.1 in e:\\hran\\conda\\lib\\site-packages (from cloudscraper->cianparser==0.4.10) (0.9.1)\n",
      "Requirement already satisfied: requests>=2.9.2 in e:\\hran\\conda\\lib\\site-packages (from cloudscraper->cianparser==0.4.10) (2.28.1)\n",
      "Requirement already satisfied: pyparsing>=2.4.7 in e:\\hran\\conda\\lib\\site-packages (from cloudscraper->cianparser==0.4.10) (3.0.9)\n",
      "Requirement already satisfied: zope.interface in e:\\hran\\conda\\lib\\site-packages (from datetime->cianparser==0.4.10) (5.4.0)\n",
      "Requirement already satisfied: pytz in e:\\hran\\conda\\lib\\site-packages (from datetime->cianparser==0.4.10) (2022.7)\n",
      "Requirement already satisfied: six>=1.1.0 in e:\\hran\\conda\\lib\\site-packages (from transliterate->cianparser==0.4.10) (1.16.0)\n",
      "Requirement already satisfied: urllib3<1.27,>=1.21.1 in e:\\hran\\conda\\lib\\site-packages (from requests>=2.9.2->cloudscraper->cianparser==0.4.10) (1.26.14)\n",
      "Requirement already satisfied: certifi>=2017.4.17 in e:\\hran\\conda\\lib\\site-packages (from requests>=2.9.2->cloudscraper->cianparser==0.4.10) (2023.5.7)\n",
      "Requirement already satisfied: idna<4,>=2.5 in e:\\hran\\conda\\lib\\site-packages (from requests>=2.9.2->cloudscraper->cianparser==0.4.10) (3.4)\n",
      "Requirement already satisfied: charset-normalizer<3,>=2 in e:\\hran\\conda\\lib\\site-packages (from requests>=2.9.2->cloudscraper->cianparser==0.4.10) (2.0.4)\n",
      "Requirement already satisfied: setuptools in e:\\hran\\conda\\lib\\site-packages (from zope.interface->datetime->cianparser==0.4.10) (65.6.3)\n",
      "Installing collected packages: transliterate, datetime, cloudscraper, cianparser\n",
      "Successfully installed cianparser-0.4.10 cloudscraper-1.2.71 datetime-5.1 transliterate-1.10.2\n",
      "Note: you may need to restart the kernel to use updated packages.\n"
     ]
    }
   ],
   "source": [
    "pip install cianparser==0.4.10"
   ]
  },
  {
   "cell_type": "code",
   "execution_count": 11,
   "id": "2ba1eace",
   "metadata": {},
   "outputs": [
    {
     "name": "stdout",
     "output_type": "stream",
     "text": [
      "\n",
      "                              Preparing to collect information from pages..\n",
      "The absolute path to the file: \n",
      "C:\\Users\\nicka\\cian_parsing_result_sale_7_20_himki_18_Jun_2023_22_35_07_423895.csv \n",
      "\n",
      "The page from which the collection of information begins: \n",
      " https://cian.ru/cat.php?engine_version=2&p=7&region=5044&offer_type=flat&deal_type=sale&room2=1&room3=1&room4=1&room5=1&with_neighbors=0 \n",
      "\n",
      "Collecting information from pages with list of announcements\n",
      " 1 | 7 page with list: [=>=>=>=>=>=>=>=>=>=>=>=>=>=>=>=>=>=>=>=>=>=>=>=>=>=>=>=>] 100% | Count of all parsed: 28. Progress ratio: 8 %. Average price: 10 723 074 rub\n",
      " 2 | 8 page with list: [=>=>=>=>=>=>=>=>=>=>=>=>=>=>=>=>=>=>=>=>=>=>=>=>=>=>=>=>] 100% | Count of all parsed: 56. Progress ratio: 15 %. Average price: 11 804 566 rub\n",
      " 3 | 9 page with list: [=>=>=>=>=>=>=>=>=>=>=>=>=>=>=>=>=>=>=>=>=>=>=>=>=>=>=>=>] 100% | Count of all parsed: 84. Progress ratio: 22 %. Average price: 12 659 959 rub\n",
      " 4 | 10 page with list: [=>=>=>=>=>=>=>=>=>=>=>=>=>=>=>=>=>=>=>=>=>=>=>=>=>=>=>=>] 100% | Count of all parsed: 112. Progress ratio: 29 %. Average price: 12 562 885 rub\n",
      " 5 | 11 page with list: [=>=>=>=>=>=>=>=>=>=>=>=>=>=>=>=>=>=>=>=>=>=>=>=>=>=>=>=>] 100% | Count of all parsed: 140. Progress ratio: 36 %. Average price: 12 621 522 rub\n",
      " 6 | 12 page with list: [=>=>=>=>=>=>=>=>=>=>=>=>=>=>=>=>=>=>=>=>=>=>=>=>=>=>=>=>] 100% | Count of all parsed: 168. Progress ratio: 43 %. Average price: 12 689 780 rub\n",
      " 7 | 13 page with list: [=>=>=>=>=>=>=>=>=>=>=>=>=>=>=>=>=>=>=>=>=>=>=>=>=>=>=>=>] 100% | Count of all parsed: 196. Progress ratio: 50 %. Average price: 12 864 092 rub\n",
      " 8 | 14 page with list: [=>=>=>=>=>=>=>=>=>=>=>=>=>=>=>=>=>=>=>=>=>=>=>=>=>=>=>=>] 100% | Count of all parsed: 224. Progress ratio: 58 %. Average price: 12 693 263 rub\n",
      " 9 | 15 page with list: [=>=>=>=>=>=>=>=>=>=>=>=>=>=>=>=>=>=>=>=>=>=>=>=>=>=>=>=>] 100% | Count of all parsed: 252. Progress ratio: 65 %. Average price: 12 694 115 rub\n",
      " 10 | 16 page with list: [=>=>=>=>=>=>=>=>=>=>=>=>=>=>=>=>=>=>=>=>=>=>=>=>=>=>=>=>] 100% | Count of all parsed: 280. Progress ratio: 72 %. Average price: 12 278 239 rub\n",
      " 11 | 17 page with list: [=>=>=>=>=>=>=>=>=>=>=>=>=>=>=>=>=>=>=>=>=>=>=>=>=>=>=>=>] 100% | Count of all parsed: 308. Progress ratio: 79 %. Average price: 11 969 331 rub\n",
      " 12 | 18 page with list: [=>=>=>=>=>=>=>=>=>=>=>=>=>=>=>=>=>=>=>=>=>=>=>=>=>=>=>=>] 100% | Count of all parsed: 336. Progress ratio: 86 %. Average price: 11 736 440 rub\n",
      " 13 | 19 page with list: [=>=>=>=>=>=>=>=>=>=>=>=>=>=>=>=>=>=>=>=>=>=>=>=>=>=>=>=>] 100% | Count of all parsed: 364. Progress ratio: 93 %. Average price: 11 570 422 rub\n",
      " 14 | 20 page with list: [=>=>=>=>=>=>=>=>=>=>=>=>=>=>=>=>=>=>=>=>=>=>=>=>=>=>=>=>] 100% | Count of all parsed: 392. Progress ratio: 100 %. Average price: 11 452 101 rub\n",
      "\n",
      "The collection of information from the pages with list of announcements is completed\n",
      "Total number of parced announcements: 392. Average price: 11 452 101 rub\n",
      "\n"
     ]
    }
   ],
   "source": [
    "import cianparser\n",
    "    \n",
    "data = cianparser.parse(\n",
    "    deal_type=\"sale\",\n",
    "    accommodation_type=\"flat\",\n",
    "    location = \"Химки\",\n",
    "    rooms=(2,3,4,5),\n",
    "    start_page=7,\n",
    "    end_page = 20,\n",
    "    is_saving_csv=True,\n",
    "    is_latin=False,\n",
    "    is_express_mode=False,\n",
    ")"
   ]
  },
  {
   "cell_type": "code",
   "execution_count": 14,
   "id": "c824af51",
   "metadata": {},
   "outputs": [
    {
     "name": "stdout",
     "output_type": "stream",
     "text": [
      "\n",
      "                              Preparing to collect information from pages..\n",
      "The absolute path to the file: \n",
      "C:\\Users\\nicka\\cian_parsing_result_sale_1_7_vidnyj_18_Jun_2023_23_28_58_908950.csv \n",
      "\n",
      "The page from which the collection of information begins: \n",
      " https://cian.ru/cat.php?engine_version=2&p=1&region=5922&offer_type=flat&deal_type=sale&room2=1&room3=1&room4=1&room5=1&with_neighbors=0 \n",
      "\n",
      "Collecting information from pages with list of announcements\n",
      " 1 | 1 page with list: [=>=>=>=>=>=>=>=>=>=>=>=>=>=>=>=>=>=>=>=>=>=>=>=>=>=>=>=>] 100% | Count of all parsed: 28. Progress ratio: 15 %. Average price: 10 986 524 rub\n",
      " 2 | 2 page with list: [=>=>=>=>=>=>=>=>=>=>=>=>=>=>=>=>=>=>=>=>=>=>=>=>=>=>=>=>] 100% | Count of all parsed: 56. Progress ratio: 29 %. Average price: 9 985 671 rub\n",
      " 3 | 3 page with list: [=>=>=>=>=>=>=>=>=>=>=>=>=>=>=>=>=>=>=>=>=>=>=>=>=>=>=>=>] 100% | Count of all parsed: 84. Progress ratio: 43 %. Average price: 9 942 531 rub\n",
      " 4 | 4 page with list: [=>=>=>=>=>=>=>=>=>=>=>=>=>=>=>=>=>=>=>=>=>=>=>=>=>=>=>=>] 100% | Count of all parsed: 112. Progress ratio: 58 %. Average price: 10 287 324 rub\n",
      " 5 | 5 page with list: [=>=>=>=>=>=>=>=>=>=>=>=>=>=>=>=>=>=>=>=>=>=>=>=>=>=>=>=>] 100% | Count of all parsed: 140. Progress ratio: 72 %. Average price: 10 607 806 rub\n",
      " 6 | 6 page with list: [=>=>=>=>=>=>=>=>=>=>=>=>=>=>=>=>=>=>=>=>=>=>=>=>=>=>=>=>] 100% | Count of all parsed: 168. Progress ratio: 86 %. Average price: 10 503 821 rub\n",
      " 7 | 7 page with list: [=>=>=>=>=>=>=>=>=>=>=>=>=>=>=>=>=>=>=>=>=>=>=>=>=>=>=>=>] 100% | Count of all parsed: 196. Progress ratio: 100 %. Average price: 10 354 491 rub\n",
      "\n",
      "The collection of information from the pages with list of announcements is completed\n",
      "Total number of parced announcements: 196. Average price: 10 354 491 rub\n",
      "\n"
     ]
    }
   ],
   "source": [
    "data = cianparser.parse(\n",
    "    deal_type=\"sale\",\n",
    "    accommodation_type=\"flat\",\n",
    "    location = \"Видный\",\n",
    "    rooms=(2,3,4,5),\n",
    "    start_page=1,\n",
    "    end_page = 7,\n",
    "    is_saving_csv=True,\n",
    "    is_latin=False,\n",
    "    is_express_mode=False,\n",
    ")"
   ]
  },
  {
   "cell_type": "code",
   "execution_count": 15,
   "id": "94bb42f4",
   "metadata": {},
   "outputs": [
    {
     "name": "stdout",
     "output_type": "stream",
     "text": [
      "\n",
      "                              Preparing to collect information from pages..\n",
      "The absolute path to the file: \n",
      "C:\\Users\\nicka\\cian_parsing_result_sale_1_7_dolgoprudnyj_18_Jun_2023_23_47_25_298144.csv \n",
      "\n",
      "The page from which the collection of information begins: \n",
      " https://cian.ru/cat.php?engine_version=2&p=1&region=4738&offer_type=flat&deal_type=sale&room2=1&room3=1&room4=1&room5=1&with_neighbors=0 \n",
      "\n",
      "Collecting information from pages with list of announcements\n",
      " 1 | 1 page with list: [=>=>=>=>=>=>=>=>=>=>=>=>=>=>=>=>=>=>=>=>=>=>=>=>=>=>=>=>] 100% | Count of all parsed: 28. Progress ratio: 15 %. Average price: 9 467 031 rub\n",
      " 2 | 2 page with list: [=>=>=>=>=>=>=>=>=>=>=>=>=>=>=>=>=>=>=>=>=>=>=>=>=>=>=>=>] 100% | Count of all parsed: 56. Progress ratio: 29 %. Average price: 10 846 549 rub\n",
      " 3 | 3 page with list: [=>=>=>=>=>=>=>=>=>=>=>=>=>=>=>=>=>=>=>=>=>=>=>=>=>=>=>=>] 100% | Count of all parsed: 84. Progress ratio: 43 %. Average price: 11 436 627 rub\n",
      " 4 | 4 page with list: [=>=>=>=>=>=>=>=>=>=>=>=>=>=>=>=>=>=>=>=>=>=>=>=>=>=>=>=>] 100% | Count of all parsed: 112. Progress ratio: 58 %. Average price: 11 504 881 rub\n",
      " 5 | 5 page with list: [=>=>=>=>=>=>=>=>=>=>=>=>=>=>=>=>=>=>=>=>=>=>=>=>=>=>=>=>] 100% | Count of all parsed: 140. Progress ratio: 72 %. Average price: 11 443 962 rub\n",
      " 6 | 6 page with list: [=>=>=>=>=>=>=>=>=>=>=>=>=>=>=>=>=>=>=>=>=>=>=>=>=>=>=>=>] 100% | Count of all parsed: 168. Progress ratio: 86 %. Average price: 11 284 188 rub\n",
      " 7 | 7 page with list: [=>=>=>=>=>=>=>=>=>=>=>=>=>=>=>=>=>=>=>=>=>=>=>=>=>=>=>=>] 100% | Count of all parsed: 196. Progress ratio: 100 %. Average price: 11 342 249 rub\n",
      "\n",
      "The collection of information from the pages with list of announcements is completed\n",
      "Total number of parced announcements: 196. Average price: 11 342 249 rub\n",
      "\n"
     ]
    }
   ],
   "source": [
    "data = cianparser.parse(\n",
    "    deal_type=\"sale\",\n",
    "    accommodation_type=\"flat\",\n",
    "    location = \"Долгопрудный\",\n",
    "    rooms=(2,3,4,5),\n",
    "    start_page=1,\n",
    "    end_page = 7,\n",
    "    is_saving_csv=True,\n",
    "    is_latin=False,\n",
    "    is_express_mode=False,\n",
    ")"
   ]
  }
 ],
 "metadata": {
  "kernelspec": {
   "display_name": "Python 3 (ipykernel)",
   "language": "python",
   "name": "python3"
  },
  "language_info": {
   "codemirror_mode": {
    "name": "ipython",
    "version": 3
   },
   "file_extension": ".py",
   "mimetype": "text/x-python",
   "name": "python",
   "nbconvert_exporter": "python",
   "pygments_lexer": "ipython3",
   "version": "3.10.9"
  }
 },
 "nbformat": 4,
 "nbformat_minor": 5
}
