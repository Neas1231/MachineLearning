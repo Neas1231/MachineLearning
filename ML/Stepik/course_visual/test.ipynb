{
 "cells": [
  {
   "cell_type": "code",
   "execution_count": null,
   "id": "initial_id",
   "metadata": {
    "collapsed": true
   },
   "outputs": [],
   "source": []
  },
  {
   "cell_type": "code",
   "execution_count": null,
   "outputs": [],
   "source": [
    "for step in range(10000):\n",
    "    artist_paintings = artist_works()  # real painting from artist\n",
    "    G_ideas = torch.randn(BATCH_SIZE, N_IDEAS)  # random ideas\n",
    "    G_paintings = G(G_ideas)  # fake painting from G (random ideas)\n",
    "\n",
    "    prob_artist0 = D(artist_paintings)  # D try to increase this prob\n",
    "    prob_artist1 = D(G_paintings)  # D try to reduce this prob\n",
    "\n",
    "    D_loss = - torch.mean(torch.log(prob_artist0) + torch.log(1. - prob_artist1))\n",
    "    G_loss = torch.mean(torch.log(1. - prob_artist1))\n",
    "\n",
    "    opt_D.zero_grad()\n",
    "    D_loss.backward(retain_graph=True)  # reusing computational graph\n",
    "    opt_D.step()\n",
    "\n",
    "    opt_G.zero_grad()\n",
    "    G_loss.backward()\n",
    "    opt_G.step()"
   ],
   "metadata": {
    "collapsed": false
   },
   "id": "c150081cf01b324d"
  },
  {
   "cell_type": "code",
   "execution_count": null,
   "outputs": [],
   "source": [
    "for step in range(10000):\n",
    "    artist_paintings = artist_works()  # real painting from artist\n",
    "    G_ideas = torch.randn(BATCH_SIZE, N_IDEAS)  # random ideas\n",
    "    G_paintings = G(G_ideas)  # fake painting from G (random ideas)\n",
    "\n",
    "    prob_artist1 = D(G_paintings)  # G tries to fool D\n",
    "\n",
    "    G_loss = torch.mean(torch.log(1. - prob_artist1))\n",
    "    opt_G.zero_grad()\n",
    "    G_loss.backward()\n",
    "    opt_G.step()\n",
    "\n",
    "    prob_artist0 = D(artist_paintings)  # D try to increase this prob\n",
    "    # detach here to make sure we don't backprop in G that was already changed.\n",
    "    prob_artist1 = D(G_paintings.detach())  # D try to reduce this prob\n",
    "\n",
    "    D_loss = - torch.mean(torch.log(prob_artist0) + torch.log(1. - prob_artist1))\n",
    "    opt_D.zero_grad()\n",
    "    D_loss.backward(retain_graph=True)  # reusing computational graph\n",
    "    opt_D.step()"
   ],
   "metadata": {
    "collapsed": false
   },
   "id": "1075ec75c1cba5f1"
  }
 ],
 "metadata": {
  "kernelspec": {
   "display_name": "Python 3",
   "language": "python",
   "name": "python3"
  },
  "language_info": {
   "codemirror_mode": {
    "name": "ipython",
    "version": 2
   },
   "file_extension": ".py",
   "mimetype": "text/x-python",
   "name": "python",
   "nbconvert_exporter": "python",
   "pygments_lexer": "ipython2",
   "version": "2.7.6"
  }
 },
 "nbformat": 4,
 "nbformat_minor": 5
}
