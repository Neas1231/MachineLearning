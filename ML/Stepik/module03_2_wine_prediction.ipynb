{
 "cells": [
  {
   "cell_type": "code",
   "execution_count": 25,
   "metadata": {
    "ExecuteTime": {
     "end_time": "2023-12-13T07:24:37.757089100Z",
     "start_time": "2023-12-13T07:24:37.731144600Z"
    }
   },
   "outputs": [],
   "source": [
    "import torch\n",
    "import random\n",
    "import numpy as np\n",
    "\n",
    "random.seed(0)\n",
    "np.random.seed(0)\n",
    "torch.manual_seed(0)\n",
    "torch.cuda.manual_seed(0)\n",
    "torch.backends.cudnn.deterministic = True"
   ]
  },
  {
   "cell_type": "code",
   "execution_count": 26,
   "metadata": {
    "ExecuteTime": {
     "end_time": "2023-12-13T07:24:37.902219200Z",
     "start_time": "2023-12-13T07:24:37.869602Z"
    }
   },
   "outputs": [
    {
     "data": {
      "text/plain": "(178, 13)"
     },
     "execution_count": 26,
     "metadata": {},
     "output_type": "execute_result"
    }
   ],
   "source": [
    "import sklearn.datasets\n",
    "wine = sklearn.datasets.load_wine()\n",
    "wine.data.shape"
   ]
  },
  {
   "cell_type": "code",
   "execution_count": 66,
   "metadata": {
    "ExecuteTime": {
     "end_time": "2023-12-13T07:38:57.948264300Z",
     "start_time": "2023-12-13T07:38:57.940467800Z"
    }
   },
   "outputs": [],
   "source": [
    "from sklearn.model_selection import train_test_split\n",
    "\n",
    "X_train, X_test, y_train, y_test = train_test_split(\n",
    "    wine.data[:, :2], \n",
    "    wine.target, \n",
    "    test_size=0.3, \n",
    "    shuffle=True)\n",
    "\n",
    "X_train = torch.FloatTensor(X_train)\n",
    "X_test = torch.FloatTensor(X_test)\n",
    "y_train = torch.LongTensor(y_train)\n",
    "y_test = torch.LongTensor(y_test)"
   ]
  },
  {
   "cell_type": "code",
   "execution_count": 71,
   "metadata": {
    "ExecuteTime": {
     "end_time": "2023-12-13T07:39:48.633074900Z",
     "start_time": "2023-12-13T07:39:48.627108300Z"
    }
   },
   "outputs": [],
   "source": [
    "class WineNet(torch.nn.Module):\n",
    "    def __init__(self, n_hidden_neurons):\n",
    "        super(WineNet, self).__init__()\n",
    "        \n",
    "        self.fc1 = torch.nn.Linear(2, n_hidden_neurons)\n",
    "        self.activ1 = torch.nn.Sigmoid()\n",
    "        self.fc2 = torch.nn.Linear(n_hidden_neurons, n_hidden_neurons)\n",
    "        self.activ2 = torch.nn.Sigmoid()\n",
    "        self.fc3 = torch.nn.Linear(n_hidden_neurons, 3)\n",
    "        self.sm = torch.nn.Softmax(dim=1)\n",
    "        \n",
    "    def forward(self, x):\n",
    "        x = self.fc1(x)\n",
    "        x = self.activ1(x)\n",
    "        x = self.fc2(x)\n",
    "        x = self.activ2(x)\n",
    "        x = self.fc3(x)\n",
    "        return x\n",
    "\n",
    "    def inference(self, x):\n",
    "        x = self.forward(x)\n",
    "        x = self.sm(x)\n",
    "        return x\n",
    "    \n",
    "wine_net = WineNet(5)"
   ]
  },
  {
   "cell_type": "code",
   "execution_count": 72,
   "metadata": {
    "ExecuteTime": {
     "end_time": "2023-12-13T07:39:48.773496900Z",
     "start_time": "2023-12-13T07:39:48.763619700Z"
    }
   },
   "outputs": [],
   "source": [
    "loss = torch.nn.CrossEntropyLoss()\n",
    "\n",
    "optimizer = torch.optim.Adam(wine_net.parameters(), \n",
    "                             lr=0.001)"
   ]
  },
  {
   "cell_type": "code",
   "execution_count": 73,
   "metadata": {
    "ExecuteTime": {
     "end_time": "2023-12-13T07:39:48.902674600Z",
     "start_time": "2023-12-13T07:39:48.897577Z"
    }
   },
   "outputs": [
    {
     "data": {
      "text/plain": "array([0, 1, 2, 4, 3])"
     },
     "execution_count": 73,
     "metadata": {},
     "output_type": "execute_result"
    }
   ],
   "source": [
    "np.random.permutation(5)"
   ]
  },
  {
   "cell_type": "code",
   "execution_count": 75,
   "metadata": {
    "scrolled": false,
    "ExecuteTime": {
     "end_time": "2023-12-13T07:40:34.112961600Z",
     "start_time": "2023-12-13T07:39:56.120645600Z"
    }
   },
   "outputs": [
    {
     "name": "stdout",
     "output_type": "stream",
     "text": [
      "tensor(0.4630)\n",
      "tensor(0.5741)\n",
      "tensor(0.6296)\n",
      "tensor(0.5741)\n",
      "tensor(0.5741)\n",
      "tensor(0.6481)\n",
      "tensor(0.6852)\n",
      "tensor(0.6667)\n",
      "tensor(0.5741)\n",
      "tensor(0.6852)\n",
      "tensor(0.7963)\n",
      "tensor(0.7778)\n",
      "tensor(0.7037)\n",
      "tensor(0.7963)\n",
      "tensor(0.7222)\n",
      "tensor(0.7778)\n",
      "tensor(0.7037)\n",
      "tensor(0.7778)\n",
      "tensor(0.7778)\n",
      "tensor(0.8148)\n",
      "tensor(0.8148)\n",
      "tensor(0.8148)\n",
      "tensor(0.7963)\n",
      "tensor(0.7963)\n",
      "tensor(0.7963)\n",
      "tensor(0.8333)\n",
      "tensor(0.7963)\n",
      "tensor(0.8519)\n",
      "tensor(0.7963)\n",
      "tensor(0.7963)\n",
      "tensor(0.7963)\n",
      "tensor(0.8333)\n",
      "tensor(0.8333)\n",
      "tensor(0.8333)\n",
      "tensor(0.8148)\n",
      "tensor(0.8333)\n",
      "tensor(0.8148)\n",
      "tensor(0.8148)\n",
      "tensor(0.8148)\n",
      "tensor(0.8519)\n",
      "tensor(0.8333)\n",
      "tensor(0.8704)\n",
      "tensor(0.8333)\n",
      "tensor(0.8519)\n",
      "tensor(0.8519)\n",
      "tensor(0.8333)\n",
      "tensor(0.8333)\n",
      "tensor(0.8704)\n",
      "tensor(0.8519)\n",
      "tensor(0.8519)\n"
     ]
    }
   ],
   "source": [
    "batch_size = 30\n",
    "\n",
    "for epoch in range(5000):\n",
    "    order = np.random.permutation(len(X_train))\n",
    "    for start_index in range(0, len(X_train), batch_size):\n",
    "        optimizer.zero_grad()\n",
    "        \n",
    "        batch_indexes = order[start_index:start_index+batch_size]\n",
    "        \n",
    "        x_batch = X_train[batch_indexes]\n",
    "        y_batch = y_train[batch_indexes]\n",
    "        \n",
    "        preds = wine_net.forward(x_batch) \n",
    "        \n",
    "        loss_value = loss(preds, y_batch)\n",
    "        loss_value.backward()\n",
    "        \n",
    "        optimizer.step()\n",
    "        \n",
    "    if epoch % 100 == 0:\n",
    "        test_preds = wine_net.forward(X_test)\n",
    "        test_preds = test_preds.argmax(dim=1)\n",
    "        print((test_preds == y_test).float().mean())"
   ]
  },
  {
   "cell_type": "code",
   "execution_count": 76,
   "metadata": {
    "ExecuteTime": {
     "end_time": "2023-12-13T07:40:34.507083800Z",
     "start_time": "2023-12-13T07:40:34.112961600Z"
    }
   },
   "outputs": [
    {
     "name": "stderr",
     "output_type": "stream",
     "text": [
      "C:\\Users\\admin\\AppData\\Local\\Temp\\ipykernel_6392\\3700399350.py:25: UserWarning: No data for colormapping provided via 'c'. Parameters 'cmap' will be ignored\n",
      "  plt.scatter(X_train[indexes, 0],\n"
     ]
    },
    {
     "data": {
      "text/plain": "<Figure size 1000x800 with 1 Axes>",
      "image/png": "[encoded data removed]"
     },
     "metadata": {},
     "output_type": "display_data"
    }
   ],
   "source": [
    "import matplotlib.pyplot as plt\n",
    "%matplotlib inline\n",
    "\n",
    "plt.rcParams['figure.figsize'] = (10, 8)\n",
    "\n",
    "n_classes = 3\n",
    "plot_colors = ['g', 'orange', 'black']\n",
    "plot_step = 0.02\n",
    "\n",
    "x_min, x_max = X_train[:, 0].min() - 1, X_train[:, 0].max() + 1\n",
    "y_min, y_max = X_train[:, 1].min() - 1, X_train[:, 1].max() + 1\n",
    "\n",
    "xx, yy =  torch.meshgrid(torch.arange(x_min, x_max, plot_step),\n",
    "                         torch.arange(y_min, y_max, plot_step))\n",
    "\n",
    "preds = wine_net.inference(\n",
    "    torch.cat([xx.reshape(-1, 1), yy.reshape(-1, 1)], dim=1))\n",
    "\n",
    "preds_class = preds.data.numpy().argmax(axis=1)\n",
    "preds_class = preds_class.reshape(xx.shape)\n",
    "plt.contourf(xx, yy, preds_class, cmap='Accent')\n",
    "\n",
    "for i, color in zip(range(n_classes), plot_colors):\n",
    "    indexes = np.where(y_train == i)\n",
    "    plt.scatter(X_train[indexes, 0], \n",
    "                X_train[indexes, 1], \n",
    "                c=color, \n",
    "                label=wine.target_names[i],\n",
    "                cmap='Accent')\n",
    "    plt.xlabel(wine.feature_names[0])\n",
    "    plt.ylabel(wine.feature_names[1])\n",
    "    plt.legend()"
   ]
  },
  {
   "cell_type": "code",
   "execution_count": 15,
   "outputs": [
    {
     "data": {
      "text/plain": "tensor([[10.0300, 10.0300, 10.0300,  ..., 10.0300, 10.0300, 10.0300],\n        [10.0500, 10.0500, 10.0500,  ..., 10.0500, 10.0500, 10.0500],\n        [10.0700, 10.0700, 10.0700,  ..., 10.0700, 10.0700, 10.0700],\n        ...,\n        [15.7100, 15.7100, 15.7100,  ..., 15.7100, 15.7100, 15.7100],\n        [15.7300, 15.7300, 15.7300,  ..., 15.7300, 15.7300, 15.7300],\n        [15.7500, 15.7500, 15.7500,  ..., 15.7500, 15.7500, 15.7500]])"
     },
     "execution_count": 15,
     "metadata": {},
     "output_type": "execute_result"
    }
   ],
   "source": [
    "xx"
   ],
   "metadata": {
    "collapsed": false,
    "ExecuteTime": {
     "end_time": "2023-12-13T07:18:17.170200500Z",
     "start_time": "2023-12-13T07:18:17.126964200Z"
    }
   }
  },
  {
   "cell_type": "code",
   "execution_count": 16,
   "outputs": [
    {
     "data": {
      "text/plain": "torch.Size([287, 339])"
     },
     "execution_count": 16,
     "metadata": {},
     "output_type": "execute_result"
    }
   ],
   "source": [
    "yy.size()"
   ],
   "metadata": {
    "collapsed": false,
    "ExecuteTime": {
     "end_time": "2023-12-13T07:18:19.630631700Z",
     "start_time": "2023-12-13T07:18:19.613955700Z"
    }
   }
  },
  {
   "cell_type": "code",
   "execution_count": null,
   "outputs": [],
   "source": [],
   "metadata": {
    "collapsed": false
   }
  }
 ],
 "metadata": {
  "anaconda-cloud": {},
  "kernelspec": {
   "display_name": "Python 3",
   "language": "python",
   "name": "python3"
  },
  "language_info": {
   "codemirror_mode": {
    "name": "ipython",
    "version": 3
   },
   "file_extension": ".py",
   "mimetype": "text/x-python",
   "name": "python",
   "nbconvert_exporter": "python",
   "pygments_lexer": "ipython3",
   "version": "3.6.8"
  }
 },
 "nbformat": 4,
 "nbformat_minor": 2
}
