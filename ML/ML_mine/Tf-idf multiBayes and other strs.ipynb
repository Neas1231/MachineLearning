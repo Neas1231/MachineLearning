{
 "cells": [
  {
   "cell_type": "code",
   "execution_count": null,
   "metadata": {
    "id": "UZD07JID7AnI"
   },
   "outputs": [],
   "source": [
    "import pandas as pd\n",
    "import numpy as np"
   ]
  },
  {
   "cell_type": "markdown",
   "metadata": {
    "id": "XrgCQCmU7HkZ"
   },
   "source": [
    "# Наивный байесовский классификатор"
   ]
  },
  {
   "cell_type": "markdown",
   "metadata": {
    "id": "5h0mpUCL7TCe"
   },
   "source": [
    "\n",
    "\n",
    "*   Теорема позволяет найти вероятность того, что именно эта причина привела к наблюдаемому событию\n",
    "\n"
   ]
  },
  {
   "cell_type": "markdown",
   "metadata": {
    "id": "kgoTGkt27yM2"
   },
   "source": [
    "<h1 align=\"center\"> $ P(A|B) = \\frac{ P(B|A)P(A) }{ P(B) } $ </h1>\n"
   ]
  },
  {
   "cell_type": "markdown",
   "metadata": {
    "id": "rvXBk6Tn8GPb"
   },
   "source": [
    "* $ P(A|B) $ — вероятность того, что событие $А$ истинно, если событие $B$ истинно\n",
    "* $ P(B|A) $ — вероятность того, что событие $B$ истинно, если событие $A$ истинно\n",
    "* $ P(A) $ — вероятность того, что событие $А$ истинно\n",
    "* $ P(B) $ — вероятность того, что событие $B$ истинно\n",
    "\n",
    "----"
   ]
  },
  {
   "cell_type": "markdown",
   "metadata": {
    "id": "IPLp3DIH-0N1"
   },
   "source": [
    "#### Подготовка данных"
   ]
  },
  {
   "cell_type": "code",
   "execution_count": null,
   "metadata": {
    "colab": {
     "base_uri": "https://localhost:8080/"
    },
    "id": "VYwsONYlJKPM",
    "outputId": "4fb5bd68-0786-4a51-efff-629cae36523a"
   },
   "outputs": [
    {
     "name": "stdout",
     "output_type": "stream",
     "text": [
      "Downloading data from https://storage.googleapis.com/tensorflow/tf-keras-datasets/imdb.npz\n",
      "17465344/17464789 [==============================] - 0s 0us/step\n"
     ]
    },
    {
     "name": "stderr",
     "output_type": "stream",
     "text": [
      "<string>:6: VisibleDeprecationWarning: Creating an ndarray from ragged nested sequences (which is a list-or-tuple of lists-or-tuples-or ndarrays with different lengths or shapes) is deprecated. If you meant to do this, you must specify 'dtype=object' when creating the ndarray\n",
      "/usr/local/lib/python3.6/dist-packages/tensorflow/python/keras/datasets/imdb.py:159: VisibleDeprecationWarning: Creating an ndarray from ragged nested sequences (which is a list-or-tuple of lists-or-tuples-or ndarrays with different lengths or shapes) is deprecated. If you meant to do this, you must specify 'dtype=object' when creating the ndarray\n",
      "  x_train, y_train = np.array(xs[:idx]), np.array(labels[:idx])\n",
      "/usr/local/lib/python3.6/dist-packages/tensorflow/python/keras/datasets/imdb.py:160: VisibleDeprecationWarning: Creating an ndarray from ragged nested sequences (which is a list-or-tuple of lists-or-tuples-or ndarrays with different lengths or shapes) is deprecated. If you meant to do this, you must specify 'dtype=object' when creating the ndarray\n",
      "  x_test, y_test = np.array(xs[idx:]), np.array(labels[idx:])\n"
     ]
    }
   ],
   "source": [
    "from keras.datasets import imdb\n",
    "import keras\n",
    "\n",
    "(x_train, y_train), (x_test, y_test) = imdb.load_data(path=\"imdb.npz\",\n",
    "                                                      num_words=None,\n",
    "                                                      skip_top=0,\n",
    "                                                      maxlen=None,\n",
    "                                                      seed=113,\n",
    "                                                      start_char=1,\n",
    "                                                      oov_char=2,\n",
    "                                                      index_from=3)"
   ]
  },
  {
   "cell_type": "code",
   "execution_count": null,
   "metadata": {
    "colab": {
     "base_uri": "https://localhost:8080/"
    },
    "id": "gsOCh209JpRm",
    "outputId": "35e34dae-3da2-4501-ac7d-f768d575d07c"
   },
   "outputs": [
    {
     "data": {
      "text/plain": [
       "array([list([1, 14, 22, 16, 43, 530, 973, 1622, 1385, 65, 458, 4468, 66, 3941, 4, 173, 36, 256, 5, 25, 100, 43, 838, 112, 50, 670, 22665, 9, 35, 480, 284, 5, 150, 4, 172, 112, 167, 21631, 336, 385, 39, 4, 172, 4536, 1111, 17, 546, 38, 13, 447, 4, 192, 50, 16, 6, 147, 2025, 19, 14, 22, 4, 1920, 4613, 469, 4, 22, 71, 87, 12, 16, 43, 530, 38, 76, 15, 13, 1247, 4, 22, 17, 515, 17, 12, 16, 626, 18, 19193, 5, 62, 386, 12, 8, 316, 8, 106, 5, 4, 2223, 5244, 16, 480, 66, 3785, 33, 4, 130, 12, 16, 38, 619, 5, 25, 124, 51, 36, 135, 48, 25, 1415, 33, 6, 22, 12, 215, 28, 77, 52, 5, 14, 407, 16, 82, 10311, 8, 4, 107, 117, 5952, 15, 256, 4, 31050, 7, 3766, 5, 723, 36, 71, 43, 530, 476, 26, 400, 317, 46, 7, 4, 12118, 1029, 13, 104, 88, 4, 381, 15, 297, 98, 32, 2071, 56, 26, 141, 6, 194, 7486, 18, 4, 226, 22, 21, 134, 476, 26, 480, 5, 144, 30, 5535, 18, 51, 36, 28, 224, 92, 25, 104, 4, 226, 65, 16, 38, 1334, 88, 12, 16, 283, 5, 16, 4472, 113, 103, 32, 15, 16, 5345, 19, 178, 32]),\n",
       "       list([1, 194, 1153, 194, 8255, 78, 228, 5, 6, 1463, 4369, 5012, 134, 26, 4, 715, 8, 118, 1634, 14, 394, 20, 13, 119, 954, 189, 102, 5, 207, 110, 3103, 21, 14, 69, 188, 8, 30, 23, 7, 4, 249, 126, 93, 4, 114, 9, 2300, 1523, 5, 647, 4, 116, 9, 35, 8163, 4, 229, 9, 340, 1322, 4, 118, 9, 4, 130, 4901, 19, 4, 1002, 5, 89, 29, 952, 46, 37, 4, 455, 9, 45, 43, 38, 1543, 1905, 398, 4, 1649, 26, 6853, 5, 163, 11, 3215, 10156, 4, 1153, 9, 194, 775, 7, 8255, 11596, 349, 2637, 148, 605, 15358, 8003, 15, 123, 125, 68, 23141, 6853, 15, 349, 165, 4362, 98, 5, 4, 228, 9, 43, 36893, 1157, 15, 299, 120, 5, 120, 174, 11, 220, 175, 136, 50, 9, 4373, 228, 8255, 5, 25249, 656, 245, 2350, 5, 4, 9837, 131, 152, 491, 18, 46151, 32, 7464, 1212, 14, 9, 6, 371, 78, 22, 625, 64, 1382, 9, 8, 168, 145, 23, 4, 1690, 15, 16, 4, 1355, 5, 28, 6, 52, 154, 462, 33, 89, 78, 285, 16, 145, 95]),\n",
       "       list([1, 14, 47, 8, 30, 31, 7, 4, 249, 108, 7, 4, 5974, 54, 61, 369, 13, 71, 149, 14, 22, 112, 4, 2401, 311, 12, 16, 3711, 33, 75, 43, 1829, 296, 4, 86, 320, 35, 534, 19, 263, 4821, 1301, 4, 1873, 33, 89, 78, 12, 66, 16, 4, 360, 7, 4, 58, 316, 334, 11, 4, 1716, 43, 645, 662, 8, 257, 85, 1200, 42, 1228, 2578, 83, 68, 3912, 15, 36, 165, 1539, 278, 36, 69, 44076, 780, 8, 106, 14, 6905, 1338, 18, 6, 22, 12, 215, 28, 610, 40, 6, 87, 326, 23, 2300, 21, 23, 22, 12, 272, 40, 57, 31, 11, 4, 22, 47, 6, 2307, 51, 9, 170, 23, 595, 116, 595, 1352, 13, 191, 79, 638, 89, 51428, 14, 9, 8, 106, 607, 624, 35, 534, 6, 227, 7, 129, 113]),\n",
       "       ...,\n",
       "       list([1, 11, 6, 230, 245, 6401, 9, 6, 1225, 446, 86527, 45, 2174, 84, 8322, 4007, 21, 4, 912, 84, 14532, 325, 725, 134, 15271, 1715, 84, 5, 36, 28, 57, 1099, 21, 8, 140, 8, 703, 5, 11656, 84, 56, 18, 1644, 14, 9, 31, 7, 4, 9406, 1209, 2295, 26094, 1008, 18, 6, 20, 207, 110, 563, 12, 8, 2901, 17793, 8, 97, 6, 20, 53, 4767, 74, 4, 460, 364, 1273, 29, 270, 11, 960, 108, 45, 40, 29, 2961, 395, 11, 6, 4065, 500, 7, 14492, 89, 364, 70, 29, 140, 4, 64, 4780, 11, 4, 2678, 26, 178, 4, 529, 443, 17793, 5, 27, 710, 117, 74936, 8123, 165, 47, 84, 37, 131, 818, 14, 595, 10, 10, 61, 1242, 1209, 10, 10, 288, 2260, 1702, 34, 2901, 17793, 4, 65, 496, 4, 231, 7, 790, 5, 6, 320, 234, 2766, 234, 1119, 1574, 7, 496, 4, 139, 929, 2901, 17793, 7750, 5, 4241, 18, 4, 8497, 13164, 250, 11, 1818, 7561, 4, 4217, 5408, 747, 1115, 372, 1890, 1006, 541, 9303, 7, 4, 59, 11027, 4, 3586, 22459]),\n",
       "       list([1, 1446, 7079, 69, 72, 3305, 13, 610, 930, 8, 12, 582, 23, 5, 16, 484, 685, 54, 349, 11, 4120, 2959, 45, 58, 1466, 13, 197, 12, 16, 43, 23, 21469, 5, 62, 30, 145, 402, 11, 4131, 51, 575, 32, 61, 369, 71, 66, 770, 12, 1054, 75, 100, 2198, 8, 4, 105, 37, 69, 147, 712, 75, 3543, 44, 257, 390, 5, 69, 263, 514, 105, 50, 286, 1814, 23, 4, 123, 13, 161, 40, 5, 421, 4, 116, 16, 897, 13, 40691, 40, 319, 5872, 112, 6700, 11, 4803, 121, 25, 70, 3468, 4, 719, 3798, 13, 18, 31, 62, 40, 8, 7200, 4, 29455, 7, 14, 123, 5, 942, 25, 8, 721, 12, 145, 5, 202, 12, 160, 580, 202, 12, 6, 52, 58, 11418, 92, 401, 728, 12, 39, 14, 251, 8, 15, 251, 5, 21213, 12, 38, 84, 80, 124, 12, 9, 23]),\n",
       "       list([1, 17, 6, 194, 337, 7, 4, 204, 22, 45, 254, 8, 106, 14, 123, 4, 12815, 270, 14437, 5, 16923, 12255, 732, 2098, 101, 405, 39, 14, 1034, 4, 1310, 9, 115, 50, 305, 12, 47, 4, 168, 5, 235, 7, 38, 111, 699, 102, 7, 4, 4039, 9245, 9, 24, 6, 78, 1099, 17, 2345, 16553, 21, 27, 9685, 6139, 5, 29043, 1603, 92, 1183, 4, 1310, 7, 4, 204, 42, 97, 90, 35, 221, 109, 29, 127, 27, 118, 8, 97, 12, 157, 21, 6789, 85010, 9, 6, 66, 78, 1099, 4, 631, 1191, 5, 2642, 272, 191, 1070, 6, 7585, 8, 2197, 70907, 10755, 544, 5, 383, 1271, 848, 1468, 12183, 497, 16876, 8, 1597, 8778, 19280, 21, 60, 27, 239, 9, 43, 8368, 209, 405, 10, 10, 12, 764, 40, 4, 248, 20, 12, 16, 5, 174, 1791, 72, 7, 51, 6, 1739, 22, 4, 204, 131, 9])],\n",
       "      dtype=object)"
      ]
     },
     "execution_count": 2,
     "metadata": {
      "tags": []
     },
     "output_type": "execute_result"
    }
   ],
   "source": [
    "x_train"
   ]
  },
  {
   "cell_type": "code",
   "execution_count": null,
   "metadata": {
    "colab": {
     "base_uri": "https://localhost:8080/"
    },
    "id": "Bwh0nut-JtQJ",
    "outputId": "891736b3-91a4-43bc-f490-4b043e5784b2"
   },
   "outputs": [
    {
     "data": {
      "text/plain": [
       "array([1, 0, 0, ..., 0, 1, 0])"
      ]
     },
     "execution_count": 3,
     "metadata": {
      "tags": []
     },
     "output_type": "execute_result"
    }
   ],
   "source": [
    "y_train"
   ]
  },
  {
   "cell_type": "code",
   "execution_count": null,
   "metadata": {
    "id": "Nl9Dvo1gKH0g"
   },
   "outputs": [],
   "source": [
    "def decode_review(sample):\n",
    "    NUM_WORDS=None\n",
    "    INDEX_FROM=3   # откуда индексирем\n",
    "\n",
    "    train,test = keras.datasets.imdb.load_data(num_words=NUM_WORDS, index_from=INDEX_FROM)\n",
    "\n",
    "    word_to_id = keras.datasets.imdb.get_word_index()\n",
    "    word_to_id = {k:(v+INDEX_FROM) for k,v in word_to_id.items()}\n",
    "    word_to_id[\"<PAD>\"] = 0\n",
    "    word_to_id[\"<START>\"] = 1\n",
    "    word_to_id[\"<UNK>\"] = 2\n",
    "    word_to_id[\"<UNUSED>\"] = 3\n",
    "\n",
    "    id_to_word = {value:key for key,value in word_to_id.items()}\n",
    "\n",
    "    return ' '.join(id_to_word[id] for id in sample)"
   ]
  },
  {
   "cell_type": "code",
   "execution_count": null,
   "metadata": {
    "colab": {
     "base_uri": "https://localhost:8080/"
    },
    "id": "Tv9ExHFlKqdO",
    "outputId": "5eec23d6-7d37-482a-b633-9452d491f415"
   },
   "outputs": [
    {
     "name": "stderr",
     "output_type": "stream",
     "text": [
      "<string>:6: VisibleDeprecationWarning: Creating an ndarray from ragged nested sequences (which is a list-or-tuple of lists-or-tuples-or ndarrays with different lengths or shapes) is deprecated. If you meant to do this, you must specify 'dtype=object' when creating the ndarray\n",
      "/usr/local/lib/python3.6/dist-packages/tensorflow/python/keras/datasets/imdb.py:159: VisibleDeprecationWarning: Creating an ndarray from ragged nested sequences (which is a list-or-tuple of lists-or-tuples-or ndarrays with different lengths or shapes) is deprecated. If you meant to do this, you must specify 'dtype=object' when creating the ndarray\n",
      "  x_train, y_train = np.array(xs[:idx]), np.array(labels[:idx])\n"
     ]
    },
    {
     "name": "stdout",
     "output_type": "stream",
     "text": [
      "Downloading data from https://storage.googleapis.com/tensorflow/tf-keras-datasets/imdb_word_index.json\n",
      "1646592/1641221 [==============================] - 0s 0us/step\n"
     ]
    },
    {
     "name": "stderr",
     "output_type": "stream",
     "text": [
      "/usr/local/lib/python3.6/dist-packages/tensorflow/python/keras/datasets/imdb.py:160: VisibleDeprecationWarning: Creating an ndarray from ragged nested sequences (which is a list-or-tuple of lists-or-tuples-or ndarrays with different lengths or shapes) is deprecated. If you meant to do this, you must specify 'dtype=object' when creating the ndarray\n",
      "  x_test, y_test = np.array(xs[idx:]), np.array(labels[idx:])\n"
     ]
    },
    {
     "name": "stdout",
     "output_type": "stream",
     "text": [
      "<START> this film was just brilliant casting location scenery story direction everyone's really suited the part they played and you could just imagine being there robert redford's is an amazing actor and now the same being director norman's father came from the same scottish island as myself so i loved the fact there was a real connection with this film the witty remarks throughout the film were great it was just brilliant so much that i bought the film as soon as it was released for retail and would recommend it to everyone to watch and the fly fishing was amazing really cried at the end it was so sad and you know what they say if you cry at a film it must have been good and this definitely was also congratulations to the two little boy's that played the part's of norman and paul they were just brilliant children are often left out of the praising list i think because the stars that play them all grown up are such a big profile for the whole film but these children are amazing and should be praised for what they have done don't you think the whole story was so lovely because it was true and was someone's life after all that was shared with us all\n",
      "1\n"
     ]
    }
   ],
   "source": [
    "print(decode_review(x_train[0]))\n",
    "print(y_train[0])"
   ]
  },
  {
   "cell_type": "code",
   "execution_count": null,
   "metadata": {
    "colab": {
     "base_uri": "https://localhost:8080/"
    },
    "id": "M2-M0TlOLxQh",
    "outputId": "3fffe7fe-545b-4420-955e-d0616a79dcc2"
   },
   "outputs": [
    {
     "name": "stderr",
     "output_type": "stream",
     "text": [
      "<string>:6: VisibleDeprecationWarning: Creating an ndarray from ragged nested sequences (which is a list-or-tuple of lists-or-tuples-or ndarrays with different lengths or shapes) is deprecated. If you meant to do this, you must specify 'dtype=object' when creating the ndarray\n",
      "/usr/local/lib/python3.6/dist-packages/tensorflow/python/keras/datasets/imdb.py:159: VisibleDeprecationWarning: Creating an ndarray from ragged nested sequences (which is a list-or-tuple of lists-or-tuples-or ndarrays with different lengths or shapes) is deprecated. If you meant to do this, you must specify 'dtype=object' when creating the ndarray\n",
      "  x_train, y_train = np.array(xs[:idx]), np.array(labels[:idx])\n"
     ]
    },
    {
     "name": "stdout",
     "output_type": "stream",
     "text": [
      "<START> shown in australia as 'hydrosphere' this incredibly bad movie is so bad that you become hypnotised and have to watch it to the end just to see if it could get any worse and it does the storyline is so predictable it seems written by a high school dramatics class the sets are pathetic but marginally better than the miniatures and the acting is wooden br br the infant 'muppet' seems to have been stolen from the props cupboard of 'total recall' there didn't seem to be a single original idea in the whole movie br br i found this movie to be so bad that i laughed most of the way through br br malcolm mcdowell should hang his head in shame he obviously needed the money\n",
      "0\n"
     ]
    },
    {
     "name": "stderr",
     "output_type": "stream",
     "text": [
      "/usr/local/lib/python3.6/dist-packages/tensorflow/python/keras/datasets/imdb.py:160: VisibleDeprecationWarning: Creating an ndarray from ragged nested sequences (which is a list-or-tuple of lists-or-tuples-or ndarrays with different lengths or shapes) is deprecated. If you meant to do this, you must specify 'dtype=object' when creating the ndarray\n",
      "  x_test, y_test = np.array(xs[idx:]), np.array(labels[idx:])\n"
     ]
    }
   ],
   "source": [
    "print(decode_review(x_train[20]))\n",
    "print(y_train[20])"
   ]
  },
  {
   "cell_type": "markdown",
   "metadata": {
    "id": "dY1fo4DwMFrW"
   },
   "source": [
    "----"
   ]
  },
  {
   "cell_type": "markdown",
   "metadata": {
    "id": "7Liqxl6O_IeS"
   },
   "source": [
    "#### Создание алгоритма и обучение"
   ]
  },
  {
   "cell_type": "markdown",
   "metadata": {
    "id": "8pjkuRRWQpy6"
   },
   "source": [
    "collections.defaultdict ничем не отличается от обычного словаря за исключением того, что по умолчанию всегда вызывается функция, возвращающая значение:"
   ]
  },
  {
   "cell_type": "code",
   "execution_count": null,
   "metadata": {
    "colab": {
     "base_uri": "https://localhost:8080/"
    },
    "id": "q-h7FpsOQsRa",
    "outputId": "0610204d-a9f3-4964-da2a-d312ab0e9b96"
   },
   "outputs": [
    {
     "name": "stdout",
     "output_type": "stream",
     "text": [
      "defaultdict(<class 'list'>, {})\n",
      "defaultdict(<class 'list'>, {0: 0, 1: 1, 2: 2, 3: 3, 4: 4})\n"
     ]
    }
   ],
   "source": [
    "import collections\n",
    "\n",
    "defdict = collections.defaultdict(list)\n",
    "print(defdict)\n",
    "\n",
    "for i in range(5):\n",
    "    defdict[i] = i\n",
    "\n",
    "print(defdict)"
   ]
  },
  {
   "cell_type": "markdown",
   "metadata": {
    "id": "0rzocQRBihqd"
   },
   "source": [
    "Пусть у нас есть строка текста $O$. Кроме того, имеются классы $С$, к одному из которых мы должны отнести строку. Нам необходимо найти такой класс с, при котором его вероятность для данной строки была бы максимальна. Найдем этот класс как \n",
    "\n",
    "<h4 align=\"center\"> $ С = argmax_c P(C|O) $ </h4>\n",
    "\n",
    "\n",
    "$argmax_x f(x)$ есть значение $x$, при котором $f(x)$ максимальна\n",
    "\n",
    "\n"
   ]
  },
  {
   "cell_type": "markdown",
   "metadata": {
    "id": "zYpRf-Z-jq3G"
   },
   "source": [
    "Т.к. получить $P(C|O)$ сложно легче вычислить косвенные вероятности используя теорему Байеса:\n",
    "\n",
    "<h4 align=\"center\"> $ P(C|O) = \\frac{ P(O|C)P(C) }{ P(O) } $ </h4>\n"
   ]
  },
  {
   "cell_type": "markdown",
   "metadata": {
    "id": "X_SBGj_EkBmy"
   },
   "source": [
    "Так как мы ищем максимум от функции, то знаменатель нас не интересует (он в данном случае константа). Кроме того, нужно взглянуть на строку O. Обычно, нет смысла работать со всей строкой. Намного эффективней выделить из нее определенные признаки (features). Таким образом формула примет вид:\n",
    "\n",
    "<h4 align=\"center\"> $ P(C|O) = \\frac{ P(o_1, o_2, ... , o_n)P(C) }{ P(o_1, o_2, ... , o_n) } $ </h4>"
   ]
  },
  {
   "cell_type": "markdown",
   "metadata": {
    "id": "vFTtcaqjkHTY"
   },
   "source": [
    "Используем «наивное» предположение о том, что переменные O зависят только от класса C, и не зависят друг от друга. Это сильно упрощение, но зачастую это работает. Числитель примет вид:\n",
    "\n",
    "(Числитель эквивалентен совместной вероятности модели, переписываем используя повторные приложения определений условной вероятности)\n",
    "\n",
    "<h4 align=\"center\"> $P(C)P(o_1|C)P(o_2|C_{o1})...P(o_n|C_{o1o2...on})$ </h4>\n"
   ]
  },
  {
   "cell_type": "code",
   "execution_count": null,
   "metadata": {
    "id": "ORQ4Fsi0L4UH"
   },
   "outputs": [],
   "source": [
    "from collections import defaultdict\n",
    "from math import log\n",
    "\n",
    "def train(samples):\n",
    "    classes, freq = defaultdict(lambda:0), defaultdict(lambda:0)\n",
    "    for feats, label in samples:\n",
    "        # находим лэйбл класса и считаем его частоту\n",
    "        classes[label] += 1     \n",
    "        # feats - элемент обучающей выборки, наш обзор     \n",
    "        # [1, 14, 22, 16, 43, ... <- закодированные в словаре наборы слов     \n",
    "        for feat in feats:\n",
    "            # проходимся по всем словам и считаем их частоты (кол-во элементов)\n",
    "            # ключ - (лейбл, слово) (пример (0, 11176): 26 )\n",
    "            freq[label, feat] += 1          # count features frequencies\n",
    "    \n",
    "    # внутри freq содержится записи формата (лейбл(1 или 0 в нашем случае), слово(133)) : кол-во встречаний в тексте\n",
    "    # нормализуем частоты фичей и классов\n",
    "    # распаковываем лейбл и фичу из частот, делим на кол-во элементов этого класса\n",
    "    for label, feat in freq:               \n",
    "        freq[label, feat] /= classes[label] # для получения частоты нормируем на кол-во элементов в классе\n",
    "        \n",
    "    # кол-во элементов для каждого класса делим на кол-во семплов\n",
    "    for c in classes:\n",
    "        classes[c] /= len(samples)\n",
    "\n",
    "    # мы получили classes - соответсвует вероятности P(C)\n",
    "    # и freq - вероятности P(O|C)\n",
    "    return classes, freq                   "
   ]
  },
  {
   "cell_type": "markdown",
   "metadata": {
    "id": "Erz2oZ4koDVT"
   },
   "source": [
    "В функции train первые пять строк производят подсчет количества классов C, а также частоту появления фич O и С в одном семпле. Вторая часть метода просто нормирует эти частоты. Таким образом на выходе получаются вероятности $P(C)$ и $P(O|C)$."
   ]
  },
  {
   "cell_type": "code",
   "execution_count": null,
   "metadata": {
    "id": "QOvHzg4QoGpO"
   },
   "outputs": [],
   "source": [
    "def classify(classifier, feats):\n",
    "    classes, prob = classifier\n",
    "    '''\n",
    "    print(classes)\n",
    "    print(prob)\n",
    "    \n",
    "    print(-log(classes[0]) + sum(-log(prob.get((0,feat), 10**(-7))) for feat in feats) )\n",
    "    print(-log(classes[1]) + sum(-log(prob.get((1,feat), 10**(-7))) for feat in feats) )\n",
    "    '''\n",
    "    # max ( P(1|O), P(0|O))\n",
    "    \n",
    "    # argmin(-log(C|O))\n",
    "    return min(classes.keys(),\n",
    "        key = lambda cl: -log(classes[cl]) + sum(-log(prob.get((cl,feat), 10**(-7))) for feat in feats) )"
   ]
  },
  {
   "cell_type": "markdown",
   "metadata": {
    "id": "6GhSkKFZoVh0"
   },
   "source": [
    "В функции classify происходит поиск наиболее вероятного класса. Тут заменяется произведение вероятностей на сумму логарифмов, взятых с отрицательным знаком, и вычисляю не argmax, а argmin. Переход к логарифмам — распространненный прием чтобы избежать слишком маленьких чисел, которые могли бы получится при произведении вероятностей + логарифм – монотонно возрастающая функция. Логарифм от функции достигнет максимума в той же точке (по оси абсцисс), что и сама функция.\n",
    "Число 10(^-7), которое подставляется в логарифм, это способ избежать нуля в аргументе логарифма (т.к. он будет иначе он будет неопределен)."
   ]
  },
  {
   "cell_type": "markdown",
   "metadata": {
    "id": "g09dDI0h7bC9"
   },
   "source": [
    "формат 1 элемента обучающей выборки\n",
    "([1, 2, 3, 123, ... <- слова], 1 <-ответ)\n",
    "\n",
    "обучающая выборка [(), (), () ]"
   ]
  },
  {
   "cell_type": "code",
   "execution_count": null,
   "metadata": {
    "id": "hVjVpMQ3MG1n"
   },
   "outputs": [],
   "source": [
    "features = [(x_train[i], y_train[i]) for i in range(len(x_train))]"
   ]
  },
  {
   "cell_type": "code",
   "execution_count": null,
   "metadata": {
    "id": "WLFdGQSxM5At"
   },
   "outputs": [],
   "source": [
    "classifier = train(features)"
   ]
  },
  {
   "cell_type": "markdown",
   "metadata": {
    "id": "j32v1e5mPI6d"
   },
   "source": [
    "----\n",
    "\n",
    "#### Проверка\n",
    "\n",
    "Проверим как работает на примере позитивного обзора"
   ]
  },
  {
   "cell_type": "code",
   "execution_count": null,
   "metadata": {
    "colab": {
     "base_uri": "https://localhost:8080/",
     "height": 246
    },
    "id": "pkLHwDL3PMA1",
    "outputId": "4474317f-1c31-4a0c-f594-dd7c40334dc0"
   },
   "outputs": [
    {
     "name": "stderr",
     "output_type": "stream",
     "text": [
      "<string>:6: VisibleDeprecationWarning: Creating an ndarray from ragged nested sequences (which is a list-or-tuple of lists-or-tuples-or ndarrays with different lengths or shapes) is deprecated. If you meant to do this, you must specify 'dtype=object' when creating the ndarray\n",
      "/usr/local/lib/python3.6/dist-packages/tensorflow/python/keras/datasets/imdb.py:159: VisibleDeprecationWarning: Creating an ndarray from ragged nested sequences (which is a list-or-tuple of lists-or-tuples-or ndarrays with different lengths or shapes) is deprecated. If you meant to do this, you must specify 'dtype=object' when creating the ndarray\n",
      "  x_train, y_train = np.array(xs[:idx]), np.array(labels[:idx])\n",
      "/usr/local/lib/python3.6/dist-packages/tensorflow/python/keras/datasets/imdb.py:160: VisibleDeprecationWarning: Creating an ndarray from ragged nested sequences (which is a list-or-tuple of lists-or-tuples-or ndarrays with different lengths or shapes) is deprecated. If you meant to do this, you must specify 'dtype=object' when creating the ndarray\n",
      "  x_test, y_test = np.array(xs[idx:]), np.array(labels[idx:])\n"
     ]
    },
    {
     "data": {
      "application/vnd.google.colaboratory.intrinsic+json": {
       "type": "string"
      },
      "text/plain": [
       "\"<START> when i first saw this movie in the theater i was so angry it completely blew in my opinion i didn't see it for a decade then decided what the hell let's see i'm watching all hellraiser movies now to see where it went wrong my guess is it was with sequel 5 that was the first to implement the whole i am in a dream omg i see weird stuff oh noes what is happening oh its a dream oh its not a dream oh wait i see something spooky oh never mind sucky storyline those sequels don't even require the box to be opened or stick to the rules from the first 4 movies that if you saw pinhead you are pretty much screwed and dead the first 3 sticked to this storyline which made it so scary in the first place nothing fantasy nothing weird the box got opened boom they came was the only one that could bargain her way out of it first because of uncle frank then because she had information about the this movie at least attempts to stick to all that even though it was a bad story it was still somewhat hellraiser no i'm pretty sure part 5 was the first part to completely and utterly destroy the hellraiser series now they are remaking 1 and i don't even think i will watch it oh who am i kidding i probably will and probably will be disappointed again\""
      ]
     },
     "execution_count": 13,
     "metadata": {
      "tags": []
     },
     "output_type": "execute_result"
    }
   ],
   "source": [
    "decode_review(x_test[11])"
   ]
  },
  {
   "cell_type": "code",
   "execution_count": null,
   "metadata": {
    "colab": {
     "base_uri": "https://localhost:8080/"
    },
    "id": "H8h7YDNsPRIx",
    "outputId": "e21b6eb0-7258-49f7-c837-09c7c0aefd82"
   },
   "outputs": [
    {
     "name": "stdout",
     "output_type": "stream",
     "text": [
      "true label 0\n"
     ]
    }
   ],
   "source": [
    "print('true label', y_test[11])"
   ]
  },
  {
   "cell_type": "code",
   "execution_count": null,
   "metadata": {
    "colab": {
     "base_uri": "https://localhost:8080/"
    },
    "id": "osw9rVajNARj",
    "outputId": "e9c27303-867c-4a4d-d2e7-89daec5a5222"
   },
   "outputs": [
    {
     "name": "stdout",
     "output_type": "stream",
     "text": [
      "predicted 0\n"
     ]
    }
   ],
   "source": [
    "print('predicted', classify(classifier, (x_test[11])) )"
   ]
  },
  {
   "cell_type": "markdown",
   "metadata": {
    "id": "gs_2RbWvQE1l"
   },
   "source": [
    "Посмотрим на пример негативного обзора"
   ]
  },
  {
   "cell_type": "code",
   "execution_count": null,
   "metadata": {
    "colab": {
     "base_uri": "https://localhost:8080/",
     "height": 194
    },
    "id": "NZY8tCbhPhx4",
    "outputId": "1ab5e849-be8d-44e1-b4ad-1c978a104a07"
   },
   "outputs": [
    {
     "name": "stderr",
     "output_type": "stream",
     "text": [
      "<string>:6: VisibleDeprecationWarning: Creating an ndarray from ragged nested sequences (which is a list-or-tuple of lists-or-tuples-or ndarrays with different lengths or shapes) is deprecated. If you meant to do this, you must specify 'dtype=object' when creating the ndarray\n",
      "/usr/local/lib/python3.6/dist-packages/tensorflow/python/keras/datasets/imdb.py:159: VisibleDeprecationWarning: Creating an ndarray from ragged nested sequences (which is a list-or-tuple of lists-or-tuples-or ndarrays with different lengths or shapes) is deprecated. If you meant to do this, you must specify 'dtype=object' when creating the ndarray\n",
      "  x_train, y_train = np.array(xs[:idx]), np.array(labels[:idx])\n",
      "/usr/local/lib/python3.6/dist-packages/tensorflow/python/keras/datasets/imdb.py:160: VisibleDeprecationWarning: Creating an ndarray from ragged nested sequences (which is a list-or-tuple of lists-or-tuples-or ndarrays with different lengths or shapes) is deprecated. If you meant to do this, you must specify 'dtype=object' when creating the ndarray\n",
      "  x_test, y_test = np.array(xs[idx:]), np.array(labels[idx:])\n"
     ]
    },
    {
     "data": {
      "application/vnd.google.colaboratory.intrinsic+json": {
       "type": "string"
      },
      "text/plain": [
       "\"<START> tim robbins did a masterful job directing this film i say this because he avoided convention and cliché he also oversaw superb performances from susan sarandon who won an oscar for her role and sean penn even more amazing robbins doesn't patronize he just tells the story and lets the events play on the viewer's mind this is so effective because it allows the viewer to form his own opinions on the death penalty one of the most controversial subjects of our time without being unfairly manipulated in either direction i can't recommend this film enough 9 10\""
      ]
     },
     "execution_count": 16,
     "metadata": {
      "tags": []
     },
     "output_type": "execute_result"
    }
   ],
   "source": [
    "decode_review(x_test[30])"
   ]
  },
  {
   "cell_type": "code",
   "execution_count": null,
   "metadata": {
    "colab": {
     "base_uri": "https://localhost:8080/"
    },
    "id": "wJdF0BDIPjJv",
    "outputId": "dc600a33-4bd9-4bbb-b645-a1cced1358d7"
   },
   "outputs": [
    {
     "name": "stdout",
     "output_type": "stream",
     "text": [
      "true label 1\n"
     ]
    }
   ],
   "source": [
    "print('true label', y_test[30])"
   ]
  },
  {
   "cell_type": "code",
   "execution_count": null,
   "metadata": {
    "colab": {
     "base_uri": "https://localhost:8080/"
    },
    "id": "VtzHz_W0P52y",
    "outputId": "debfe2ad-7607-4257-d51f-9f23b5ec7440"
   },
   "outputs": [
    {
     "name": "stdout",
     "output_type": "stream",
     "text": [
      "predicted 1\n"
     ]
    }
   ],
   "source": [
    "print('predicted', classify(classifier, (x_test[30])) )"
   ]
  },
  {
   "cell_type": "markdown",
   "metadata": {
    "id": "bToQhej5P9ah"
   },
   "source": [
    "----\n",
    "\n",
    "Надо проверить все это на метриках качества"
   ]
  },
  {
   "cell_type": "code",
   "execution_count": null,
   "metadata": {
    "id": "JAGOfB6xNsDX"
   },
   "outputs": [],
   "source": [
    "from sklearn.metrics import classification_report\n",
    "\n",
    "predicted = [classify(classifier, (x_test[i])) for i in range(len(x_test))]"
   ]
  },
  {
   "cell_type": "code",
   "execution_count": null,
   "metadata": {
    "colab": {
     "base_uri": "https://localhost:8080/"
    },
    "id": "nLKa76hWOBmt",
    "outputId": "165739d4-ce3c-422c-ed6b-fe1ad7d16035"
   },
   "outputs": [
    {
     "data": {
      "text/plain": [
       "[0, 1, 1, 0, 1]"
      ]
     },
     "execution_count": 20,
     "metadata": {
      "tags": []
     },
     "output_type": "execute_result"
    }
   ],
   "source": [
    "predicted[:5]"
   ]
  },
  {
   "cell_type": "code",
   "execution_count": null,
   "metadata": {
    "colab": {
     "base_uri": "https://localhost:8080/"
    },
    "id": "FvYfNZRgOCsu",
    "outputId": "3aeb650a-213d-4065-ea22-6ef92322ef23"
   },
   "outputs": [
    {
     "data": {
      "text/plain": [
       "array([0, 1, 1, 0, 1])"
      ]
     },
     "execution_count": 21,
     "metadata": {
      "tags": []
     },
     "output_type": "execute_result"
    }
   ],
   "source": [
    "y_test[:5]"
   ]
  },
  {
   "cell_type": "code",
   "execution_count": null,
   "metadata": {
    "colab": {
     "base_uri": "https://localhost:8080/"
    },
    "id": "X7TYH-3HOKyO",
    "outputId": "c029f7f3-4242-4ef2-8570-47e7d943f818"
   },
   "outputs": [
    {
     "name": "stdout",
     "output_type": "stream",
     "text": [
      "              precision    recall  f1-score   support\n",
      "\n",
      "           0       0.79      0.79      0.79     12500\n",
      "           1       0.79      0.79      0.79     12500\n",
      "\n",
      "    accuracy                           0.79     25000\n",
      "   macro avg       0.79      0.79      0.79     25000\n",
      "weighted avg       0.79      0.79      0.79     25000\n",
      "\n"
     ]
    }
   ],
   "source": [
    "print(classification_report(y_test, predicted))"
   ]
  },
  {
   "cell_type": "markdown",
   "metadata": {
    "id": "KSgstOgZHIQA"
   },
   "source": [
    "----"
   ]
  },
  {
   "cell_type": "markdown",
   "metadata": {
    "id": "Nf6m3uz5t1hR"
   },
   "source": [
    "# Модификации и реализации Наивного Байеса"
   ]
  },
  {
   "cell_type": "code",
   "execution_count": 1,
   "metadata": {
    "id": "U27JL4kT8a6J"
   },
   "outputs": [],
   "source": [
    "import numpy as np\n",
    "import pandas as pd\n",
    "import matplotlib.pyplot as plt\n",
    "from sklearn.naive_bayes import ComplementNB, MultinomialNB, BernoulliNB, CategoricalNB, GaussianNB"
   ]
  },
  {
   "cell_type": "markdown",
   "metadata": {
    "id": "1ADOWyNnuBvZ"
   },
   "source": [
    "## Multinomial Naive Bayes\n",
    "\n",
    "Полиномиальный наивный байесовский классификатор подходит для классификации с дискретными признаками (например, количество слов для классификации текста). Полиномиальное распределение обычно требует целочисленного количества признаков. Однако, на практике, дробные, такие как tf-idf, также могут работать.\n"
   ]
  },
  {
   "cell_type": "markdown",
   "metadata": {
    "id": "aKo0xtONyH09"
   },
   "source": [
    "Оригинальный алгоритм:\n",
    "\n",
    "$$p(f_1,..., f_n|c) = \\prod_{i=1}^n p(f_i|c)$$\n",
    "\n",
    "До этого момента мы ничего не говорили о распределении каждого признака. Другими словами, мы оставили $p(fi | c)$ неопределенным. Термин «Полиномиальный наивный байесовский» просто дает нам знать, что каждый $p (fi | c)$ является многочленным распределением, а не каким-либо другим распределением. Это хорошо работает для данных, которые можно легко преобразовать в счетчики, например, слова в тексте. \n",
    "\n",
    "Наивный байесовский классификатор является общим термином, который относится к условной независимости каждой из функций в модели, в то время как полиномиальный наивный байесовский классификатор является конкретным экземпляром наивного байесовского классификатора, который использует полиномиальное распределение для каждой из функций."
   ]
  },
  {
   "cell_type": "markdown",
   "metadata": {
    "id": "vs1y5uuQjan4"
   },
   "source": [
    "MultinomialNB реализует наивный алгоритм Байеса для полиномиально распределенных данных и является одним из двух классических наивных байесовских вариантов, используемых в классификации текста (где данные обычно представлены в виде вектора количества слов из всех слов, или как tf-idf). Распределение параметризовано векторами $θy = (θy1,…, θyn)$ для каждого класса $y$, где $n$ - количество признаков (в текстовой классификации - размер словаря), а $θyi$ - вероятность $P (xi∣y)$ $i$-го признака появиться я появляется в документе, принадлежащем к классу у.\n",
    "\n",
    "Параметры оцениваются по сглаженной версии максимального правдоподобия, то есть относительного подсчета частоты:\n",
    "\n",
    "$$\\hat{\\theta}_{yi} = \\frac{ N_{yi} + \\alpha}{N_y + \\alpha n}$$\n",
    "\n",
    "Где $N_{yi} = \\sum_{x \\in T} x_i$ - количество раз, в котором i-й признак появляется в документа класса $y$ в обучающем наборе, а $N_{y} = \\sum_{i=1}^{n} N_{yi}$ - общее количество всех признаков класса $y$.\n",
    "\n",
    "Сглаживающий параметр $α≥0$ учитывают особенности, связанные с отсутствующими признаками в обучающих выборках, и предотвращают нулевые вероятности в дальнейших вычислениях. Установка $α = 1$ называется сглаживанием Лапласа, а $α <1$ называется сглаживанием Лидстона.\n",
    "\n",
    "\n"
   ]
  },
  {
   "cell_type": "markdown",
   "metadata": {
    "id": "484-pBPV2Yd8"
   },
   "source": [
    "Переписывая формулу для задачи классификация текста - вероятность вхождения слова $x_i$ d документ класса Q определяется как:\n",
    "\n",
    "$$P(x_i|Q_y) = \\frac{N_{iy} + \\alpha}{N_y + \\alpha n}$$\n",
    "\n",
    "где\n",
    "* $N_k$ - количества слов входящий в документ класса Q\n",
    "* $N_{ik}$ - количество вхождений слова x_{i} в документ класса $Q$\n",
    "* $\\alpha$ - параметр сглаживания [0, 1)\n",
    "* $n$ - количество слов из обучающей выборки\n",
    "\n",
    "Второй параметр формулы наивного Байеса: $P(Q_i) = \\frac{N_{Qy}}{N}$\n",
    "где \n",
    "* $N_{y}$ - количество документов класса y\n",
    "* $N$ - все количество документов\n",
    "\n",
    "Итого получаем:\n",
    "\n",
    "$$arg\\max[P(Q_y)\\prod_{i=1}^nP(x_i|Q_y)]$$\n",
    "\n",
    "Переходя к логарифмам:\n",
    "\n",
    "$$arg\\max[\\log{P(Q_y)}+\\sum_{i=1}^n\\log{P(x_i|Q_y)}]$$"
   ]
  },
  {
   "cell_type": "markdown",
   "metadata": {
    "id": "J3DBKmOp7ko5"
   },
   "source": [
    "### Подготовка данных"
   ]
  },
  {
   "cell_type": "markdown",
   "metadata": {
    "id": "IUi3Geh05udt"
   },
   "source": [
    "Используем оптимизированный в sklearn на примере русских твиттов"
   ]
  },
  {
   "cell_type": "markdown",
   "metadata": {
    "id": "yNPMRY3Z6Sn4"
   },
   "source": [
    "Данные взяты из статьи http://www.swsys.ru/index.php?page=article&id=3962&lang=\n",
    "\n",
    "В корпусе 114,911 положительных и 111,923 отрицательных записей. Представляют из себя разметку сентимента русскоязычных твитов. (сорс https://study.mokoron.com/ там есть и на 17 миллионов значений, кто хочет взять нечто подобное для проекта)\n"
   ]
  },
  {
   "cell_type": "code",
   "execution_count": 2,
   "metadata": {
    "id": "f479dvP56A05"
   },
   "outputs": [],
   "source": [
    "neg = pd.read_csv('https://raw.githubusercontent.com/tixonsit/mmdad_materials/master/negative.csv', encoding='utf8', sep=';', header=None)"
   ]
  },
  {
   "cell_type": "code",
   "execution_count": 4,
   "metadata": {
    "id": "OiJ2hEnd7-Sk"
   },
   "outputs": [],
   "source": [
    "pos = pd.read_csv('https://raw.githubusercontent.com/tixonsit/mmdad_materials/master/positive.csv', encoding='utf8', sep=';', header=None)"
   ]
  },
  {
   "cell_type": "code",
   "execution_count": null,
   "metadata": {
    "colab": {
     "base_uri": "https://localhost:8080/"
    },
    "id": "FM34g-wH8ShZ",
    "outputId": "d598edff-47b5-4a05-a3cb-1fae534a3a3a"
   },
   "outputs": [
    {
     "data": {
      "text/plain": [
       "0         @first_timee хоть я и школота, но поверь, у на...\n",
       "1         Да, все-таки он немного похож на него. Но мой ...\n",
       "2         RT @KatiaCheh: Ну ты идиотка) я испугалась за ...\n",
       "3         RT @digger2912: \"Кто то в углу сидит и погибае...\n",
       "4         @irina_dyshkant Вот что значит страшилка :D\\nН...\n",
       "                                ...                        \n",
       "114906    Спала в родительском доме, на своей кровати......\n",
       "114907    RT @jebesilofyt: Эх... Мы немного решили сокра...\n",
       "114908    Что происходит со мной, когда в эфире #proacti...\n",
       "114909    \"Любимая,я подарю тебе эту звезду...\" Имя како...\n",
       "114910    @Ma_che_rie посмотри #непытайтесьпокинутьомск ...\n",
       "Name: 3, Length: 114911, dtype: object"
      ]
     },
     "execution_count": 26,
     "metadata": {
      "tags": []
     },
     "output_type": "execute_result"
    }
   ],
   "source": [
    "pos[3]"
   ]
  },
  {
   "cell_type": "code",
   "execution_count": 5,
   "metadata": {
    "colab": {
     "base_uri": "https://localhost:8080/"
    },
    "id": "ARLg_nmi8Wsx",
    "outputId": "25d57e51-3722-4163-b1d8-322e873e3b09"
   },
   "outputs": [
    {
     "data": {
      "text/plain": [
       "0         на работе был полный пиддес :| и так каждое за...\n",
       "1         Коллеги сидят рубятся в Urban terror, а я из-з...\n",
       "2         @elina_4post как говорят обещаного три года жд...\n",
       "3         Желаю хорошего полёта и удачной посадки,я буду...\n",
       "4         Обновил за каким-то лешим surf, теперь не рабо...\n",
       "                                ...                        \n",
       "111918    Но не каждый хочет что то исправлять:( http://...\n",
       "111919    скучаю так :-( только @taaannyaaa вправляет мо...\n",
       "111920            Вот и в школу, в говно это идти уже надо(\n",
       "111921    RT @_Them__: @LisaBeroud Тауриэль, не грусти :...\n",
       "111922    Такси везет меня на работу. Раздумываю приплат...\n",
       "Name: 3, Length: 111923, dtype: object"
      ]
     },
     "execution_count": 5,
     "metadata": {
      "tags": []
     },
     "output_type": "execute_result"
    }
   ],
   "source": [
    "neg[3]"
   ]
  },
  {
   "cell_type": "code",
   "execution_count": 6,
   "metadata": {
    "colab": {
     "base_uri": "https://localhost:8080/"
    },
    "id": "nsV6ouHx6F7P",
    "outputId": "bf38fe6e-03d6-4205-87bb-012184364c48"
   },
   "outputs": [
    {
     "data": {
      "text/plain": [
       "226834"
      ]
     },
     "execution_count": 6,
     "metadata": {
      "tags": []
     },
     "output_type": "execute_result"
    }
   ],
   "source": [
    "df = pos.append(neg, ignore_index = True)\n",
    "df = df.sample(frac=1).reset_index(drop=True)\n",
    "len(df)"
   ]
  },
  {
   "cell_type": "code",
   "execution_count": 7,
   "metadata": {
    "colab": {
     "base_uri": "https://localhost:8080/",
     "height": 202
    },
    "id": "Cv0PQYN86wuC",
    "outputId": "557e6f1d-2dbd-470b-c429-cc7536ba4c1c"
   },
   "outputs": [
    {
     "data": {
      "text/html": [
       "<div>\n",
       "<style scoped>\n",
       "    .dataframe tbody tr th:only-of-type {\n",
       "        vertical-align: middle;\n",
       "    }\n",
       "\n",
       "    .dataframe tbody tr th {\n",
       "        vertical-align: top;\n",
       "    }\n",
       "\n",
       "    .dataframe thead th {\n",
       "        text-align: right;\n",
       "    }\n",
       "</style>\n",
       "<table border=\"1\" class=\"dataframe\">\n",
       "  <thead>\n",
       "    <tr style=\"text-align: right;\">\n",
       "      <th></th>\n",
       "      <th>0</th>\n",
       "      <th>1</th>\n",
       "      <th>2</th>\n",
       "      <th>3</th>\n",
       "      <th>4</th>\n",
       "      <th>5</th>\n",
       "      <th>6</th>\n",
       "      <th>7</th>\n",
       "      <th>8</th>\n",
       "      <th>9</th>\n",
       "      <th>10</th>\n",
       "      <th>11</th>\n",
       "    </tr>\n",
       "  </thead>\n",
       "  <tbody>\n",
       "    <tr>\n",
       "      <th>0</th>\n",
       "      <td>424920510833508352</td>\n",
       "      <td>1390143919</td>\n",
       "      <td>askorozvon</td>\n",
       "      <td>У меня болит нога и поясница(((\\nЗато нормальн...</td>\n",
       "      <td>-1</td>\n",
       "      <td>0</td>\n",
       "      <td>0</td>\n",
       "      <td>0</td>\n",
       "      <td>3155</td>\n",
       "      <td>174</td>\n",
       "      <td>56</td>\n",
       "      <td>0</td>\n",
       "    </tr>\n",
       "    <tr>\n",
       "      <th>1</th>\n",
       "      <td>422592690098675712</td>\n",
       "      <td>1389588923</td>\n",
       "      <td>umnmii56</td>\n",
       "      <td>можете отписаться от меня,можете не верить. но...</td>\n",
       "      <td>-1</td>\n",
       "      <td>0</td>\n",
       "      <td>0</td>\n",
       "      <td>0</td>\n",
       "      <td>4500</td>\n",
       "      <td>17</td>\n",
       "      <td>0</td>\n",
       "      <td>0</td>\n",
       "    </tr>\n",
       "    <tr>\n",
       "      <th>2</th>\n",
       "      <td>409045864167243776</td>\n",
       "      <td>1386359108</td>\n",
       "      <td>Best_song_69</td>\n",
       "      <td>RT @PoluhinaMariy: @Best_song_69 Луишка *О* \\n...</td>\n",
       "      <td>1</td>\n",
       "      <td>0</td>\n",
       "      <td>1</td>\n",
       "      <td>0</td>\n",
       "      <td>522</td>\n",
       "      <td>1437</td>\n",
       "      <td>2064</td>\n",
       "      <td>1</td>\n",
       "    </tr>\n",
       "    <tr>\n",
       "      <th>3</th>\n",
       "      <td>409847137740914688</td>\n",
       "      <td>1386550146</td>\n",
       "      <td>ojyrufuhag</td>\n",
       "      <td>Это наша лаборатория. :_( #INSTANTFOLLOWBACK</td>\n",
       "      <td>-1</td>\n",
       "      <td>0</td>\n",
       "      <td>0</td>\n",
       "      <td>0</td>\n",
       "      <td>129256</td>\n",
       "      <td>14290</td>\n",
       "      <td>14321</td>\n",
       "      <td>25</td>\n",
       "    </tr>\n",
       "    <tr>\n",
       "      <th>4</th>\n",
       "      <td>411089782643904512</td>\n",
       "      <td>1386846416</td>\n",
       "      <td>_Nastenka_G</td>\n",
       "      <td>Если мы с Сашей, значит, мы уже нашли приключе...</td>\n",
       "      <td>1</td>\n",
       "      <td>0</td>\n",
       "      <td>0</td>\n",
       "      <td>0</td>\n",
       "      <td>491</td>\n",
       "      <td>14</td>\n",
       "      <td>8</td>\n",
       "      <td>0</td>\n",
       "    </tr>\n",
       "  </tbody>\n",
       "</table>\n",
       "</div>"
      ],
      "text/plain": [
       "                   0           1             2   ...     9      10  11\n",
       "0  424920510833508352  1390143919    askorozvon  ...    174     56   0\n",
       "1  422592690098675712  1389588923      umnmii56  ...     17      0   0\n",
       "2  409045864167243776  1386359108  Best_song_69  ...   1437   2064   1\n",
       "3  409847137740914688  1386550146    ojyrufuhag  ...  14290  14321  25\n",
       "4  411089782643904512  1386846416   _Nastenka_G  ...     14      8   0\n",
       "\n",
       "[5 rows x 12 columns]"
      ]
     },
     "execution_count": 7,
     "metadata": {
      "tags": []
     },
     "output_type": "execute_result"
    }
   ],
   "source": [
    "df.head()"
   ]
  },
  {
   "cell_type": "code",
   "execution_count": 9,
   "metadata": {
    "colab": {
     "base_uri": "https://localhost:8080/",
     "height": 202
    },
    "id": "xDcBjpy8-f60",
    "outputId": "758f4bed-b8eb-4039-cea6-5ffd32d030a3"
   },
   "outputs": [
    {
     "data": {
      "text/html": [
       "<div>\n",
       "<style scoped>\n",
       "    .dataframe tbody tr th:only-of-type {\n",
       "        vertical-align: middle;\n",
       "    }\n",
       "\n",
       "    .dataframe tbody tr th {\n",
       "        vertical-align: top;\n",
       "    }\n",
       "\n",
       "    .dataframe thead th {\n",
       "        text-align: right;\n",
       "    }\n",
       "</style>\n",
       "<table border=\"1\" class=\"dataframe\">\n",
       "  <thead>\n",
       "    <tr style=\"text-align: right;\">\n",
       "      <th></th>\n",
       "      <th>0</th>\n",
       "      <th>1</th>\n",
       "      <th>2</th>\n",
       "      <th>3</th>\n",
       "      <th>4</th>\n",
       "      <th>5</th>\n",
       "      <th>6</th>\n",
       "      <th>7</th>\n",
       "      <th>8</th>\n",
       "      <th>9</th>\n",
       "      <th>10</th>\n",
       "      <th>11</th>\n",
       "    </tr>\n",
       "  </thead>\n",
       "  <tbody>\n",
       "    <tr>\n",
       "      <th>0</th>\n",
       "      <td>424920510833508352</td>\n",
       "      <td>1390143919</td>\n",
       "      <td>askorozvon</td>\n",
       "      <td>У меня болит нога и поясница(((\\nЗато нормальн...</td>\n",
       "      <td>0</td>\n",
       "      <td>0</td>\n",
       "      <td>0</td>\n",
       "      <td>0</td>\n",
       "      <td>3155</td>\n",
       "      <td>174</td>\n",
       "      <td>56</td>\n",
       "      <td>0</td>\n",
       "    </tr>\n",
       "    <tr>\n",
       "      <th>1</th>\n",
       "      <td>422592690098675712</td>\n",
       "      <td>1389588923</td>\n",
       "      <td>umnmii56</td>\n",
       "      <td>можете отписаться от меня,можете не верить. но...</td>\n",
       "      <td>0</td>\n",
       "      <td>0</td>\n",
       "      <td>0</td>\n",
       "      <td>0</td>\n",
       "      <td>4500</td>\n",
       "      <td>17</td>\n",
       "      <td>0</td>\n",
       "      <td>0</td>\n",
       "    </tr>\n",
       "    <tr>\n",
       "      <th>2</th>\n",
       "      <td>409045864167243776</td>\n",
       "      <td>1386359108</td>\n",
       "      <td>Best_song_69</td>\n",
       "      <td>RT @PoluhinaMariy: @Best_song_69 Луишка *О* \\n...</td>\n",
       "      <td>1</td>\n",
       "      <td>0</td>\n",
       "      <td>1</td>\n",
       "      <td>0</td>\n",
       "      <td>522</td>\n",
       "      <td>1437</td>\n",
       "      <td>2064</td>\n",
       "      <td>1</td>\n",
       "    </tr>\n",
       "    <tr>\n",
       "      <th>3</th>\n",
       "      <td>409847137740914688</td>\n",
       "      <td>1386550146</td>\n",
       "      <td>ojyrufuhag</td>\n",
       "      <td>Это наша лаборатория. :_( #INSTANTFOLLOWBACK</td>\n",
       "      <td>0</td>\n",
       "      <td>0</td>\n",
       "      <td>0</td>\n",
       "      <td>0</td>\n",
       "      <td>129256</td>\n",
       "      <td>14290</td>\n",
       "      <td>14321</td>\n",
       "      <td>25</td>\n",
       "    </tr>\n",
       "    <tr>\n",
       "      <th>4</th>\n",
       "      <td>411089782643904512</td>\n",
       "      <td>1386846416</td>\n",
       "      <td>_Nastenka_G</td>\n",
       "      <td>Если мы с Сашей, значит, мы уже нашли приключе...</td>\n",
       "      <td>1</td>\n",
       "      <td>0</td>\n",
       "      <td>0</td>\n",
       "      <td>0</td>\n",
       "      <td>491</td>\n",
       "      <td>14</td>\n",
       "      <td>8</td>\n",
       "      <td>0</td>\n",
       "    </tr>\n",
       "  </tbody>\n",
       "</table>\n",
       "</div>"
      ],
      "text/plain": [
       "                   0           1             2   ...     9      10  11\n",
       "0  424920510833508352  1390143919    askorozvon  ...    174     56   0\n",
       "1  422592690098675712  1389588923      umnmii56  ...     17      0   0\n",
       "2  409045864167243776  1386359108  Best_song_69  ...   1437   2064   1\n",
       "3  409847137740914688  1386550146    ojyrufuhag  ...  14290  14321  25\n",
       "4  411089782643904512  1386846416   _Nastenka_G  ...     14      8   0\n",
       "\n",
       "[5 rows x 12 columns]"
      ]
     },
     "execution_count": 9,
     "metadata": {
      "tags": []
     },
     "output_type": "execute_result"
    }
   ],
   "source": [
    "# сделаем привычные 1, 0\n",
    "df[4] = df[4].map({-1:0, 1:1})\n",
    "df.head()"
   ]
  },
  {
   "cell_type": "code",
   "execution_count": 10,
   "metadata": {
    "colab": {
     "base_uri": "https://localhost:8080/"
    },
    "id": "TFJXXSbx6dkX",
    "outputId": "d54f20d1-ed74-4ba4-9b2e-655abfb6e6a5"
   },
   "outputs": [
    {
     "data": {
      "text/plain": [
       "1    114911\n",
       "0    111923\n",
       "Name: 4, dtype: int64"
      ]
     },
     "execution_count": 10,
     "metadata": {
      "tags": []
     },
     "output_type": "execute_result"
    }
   ],
   "source": [
    "df[4].value_counts()"
   ]
  },
  {
   "cell_type": "markdown",
   "metadata": {
    "id": "shHzKBii_WOy"
   },
   "source": [
    "## Кодирования текста"
   ]
  },
  {
   "cell_type": "markdown",
   "metadata": {
    "id": "okgqtPA07beS"
   },
   "source": [
    "### Векторное представление текста"
   ]
  },
  {
   "cell_type": "markdown",
   "metadata": {
    "id": "rAic0i7x7q1d"
   },
   "source": [
    "Представим текст как вектор индикаторов вхождений слов из некоторого словаря в текст. Простейшая модель BOF (Bag of words или мешок слов)."
   ]
  },
  {
   "cell_type": "code",
   "execution_count": 11,
   "metadata": {
    "colab": {
     "base_uri": "https://localhost:8080/"
    },
    "id": "bdd-2tTr7AYU",
    "outputId": "de1a0c6c-2be7-492a-f4db-6b349dcd43cf"
   },
   "outputs": [
    {
     "data": {
      "text/plain": [
       "CountVectorizer(analyzer='word', binary=True, decode_error='strict',\n",
       "                dtype=<class 'numpy.int64'>, encoding='utf-8', input='content',\n",
       "                lowercase=True, max_df=1.0, max_features=None, min_df=1,\n",
       "                ngram_range=(1, 1), preprocessor=None, stop_words=None,\n",
       "                strip_accents=None, token_pattern='(?u)\\\\b\\\\w\\\\w+\\\\b',\n",
       "                tokenizer=None, vocabulary=None)"
      ]
     },
     "execution_count": 11,
     "metadata": {
      "tags": []
     },
     "output_type": "execute_result"
    }
   ],
   "source": [
    "from sklearn.feature_extraction.text import CountVectorizer\n",
    "\n",
    "vectorizer = CountVectorizer(binary=True)\n",
    "vectorizer.fit(df[3])"
   ]
  },
  {
   "cell_type": "code",
   "execution_count": null,
   "metadata": {
    "id": "X7JEqRoSereb"
   },
   "outputs": [],
   "source": []
  },
  {
   "cell_type": "code",
   "execution_count": 12,
   "metadata": {
    "colab": {
     "base_uri": "https://localhost:8080/"
    },
    "id": "8IaTKuDi7Af4",
    "outputId": "9ec18e96-cfd0-46db-d2e0-dd4ce0c3f140"
   },
   "outputs": [
    {
     "data": {
      "text/plain": [
       "294600"
      ]
     },
     "execution_count": 12,
     "metadata": {
      "tags": []
     },
     "output_type": "execute_result"
    }
   ],
   "source": [
    "len(vectorizer.vocabulary_)"
   ]
  },
  {
   "cell_type": "markdown",
   "metadata": {
    "id": "aYQIs-1m7-xS"
   },
   "source": [
    "### Train-test split"
   ]
  },
  {
   "cell_type": "code",
   "execution_count": 13,
   "metadata": {
    "id": "OfwThI317-PO"
   },
   "outputs": [],
   "source": [
    "from sklearn.model_selection import train_test_split\n",
    "\n",
    "df_train, df_test = train_test_split(df, test_size=0.2, shuffle=True)"
   ]
  },
  {
   "cell_type": "code",
   "execution_count": 14,
   "metadata": {
    "colab": {
     "base_uri": "https://localhost:8080/"
    },
    "id": "RCrFC1sf7Aic",
    "outputId": "a74ecf3e-5a3a-47e9-a21f-ebc20e300648"
   },
   "outputs": [
    {
     "data": {
      "text/plain": [
       "((181467, 12), (45367, 12))"
      ]
     },
     "execution_count": 14,
     "metadata": {
      "tags": []
     },
     "output_type": "execute_result"
    }
   ],
   "source": [
    "df_train.shape, df_test.shape"
   ]
  },
  {
   "cell_type": "code",
   "execution_count": 15,
   "metadata": {
    "id": "pyi7hNjS8gm_"
   },
   "outputs": [],
   "source": [
    "X_train = vectorizer.transform(df_train[3])\n",
    "X_test = vectorizer.transform(df_test[3])"
   ]
  },
  {
   "cell_type": "code",
   "execution_count": 16,
   "metadata": {
    "colab": {
     "base_uri": "https://localhost:8080/"
    },
    "id": "fh24iglJ7Alc",
    "outputId": "ee144c0a-3f20-413b-a814-bd5b25cf805e"
   },
   "outputs": [
    {
     "data": {
      "text/plain": [
       "((181467, 294600), (45367, 294600))"
      ]
     },
     "execution_count": 16,
     "metadata": {
      "tags": []
     },
     "output_type": "execute_result"
    }
   ],
   "source": [
    "X_train.shape, X_test.shape"
   ]
  },
  {
   "cell_type": "markdown",
   "metadata": {
    "id": "MmBF9qSF8tDS"
   },
   "source": [
    "### Алгоритм"
   ]
  },
  {
   "cell_type": "code",
   "execution_count": 17,
   "metadata": {
    "id": "D6lImfg78sYi"
   },
   "outputs": [],
   "source": [
    "clf = MultinomialNB().fit(X_train, df_train[4])"
   ]
  },
  {
   "cell_type": "code",
   "execution_count": 18,
   "metadata": {
    "colab": {
     "base_uri": "https://localhost:8080/"
    },
    "id": "BZvo3F547Any",
    "outputId": "bfeb2178-46cf-4173-f5bc-ad3290538af7"
   },
   "outputs": [
    {
     "name": "stdout",
     "output_type": "stream",
     "text": [
      "pos: же ты за уже по ну это все но то так мне co http как меня rt на что не\n",
      "neg: вот да за по ну но мне все так ты меня то это как что на rt co http не\n"
     ]
    }
   ],
   "source": [
    "# выбрать n лучших (по вероятностям) слов для каждого класса\n",
    "def show_top(classifier, vectorizer, n, categories=('pos', 'neg')):\n",
    "    # получаем слова\n",
    "    feature_names = np.asarray(vectorizer.get_feature_names())\n",
    "    # проходимлся по классам\n",
    "    for i, category in enumerate(categories):\n",
    "        # выбираем лучшие по вероятностям\n",
    "        top = np.argsort(classifier.feature_log_prob_[i])[-n:]\n",
    "        print(\"%s: %s\" % (category, \" \".join(feature_names[top])))\n",
    "\n",
    "# отобразим 20 топовых слов\n",
    "show_top(clf, vectorizer, 20)"
   ]
  },
  {
   "cell_type": "markdown",
   "metadata": {
    "id": "jY8ZwEJM-Uf3"
   },
   "source": [
    "### Оценка"
   ]
  },
  {
   "cell_type": "code",
   "execution_count": 19,
   "metadata": {
    "colab": {
     "base_uri": "https://localhost:8080/"
    },
    "id": "rAyFS1FM-Tu3",
    "outputId": "c2d45193-2b2b-4175-931f-8f9c058032a4"
   },
   "outputs": [
    {
     "name": "stdout",
     "output_type": "stream",
     "text": [
      "              precision    recall  f1-score   support\n",
      "\n",
      "  Негативные       0.87      0.92      0.90     89611\n",
      "  Позитивные       0.92      0.87      0.89     91856\n",
      "\n",
      "    accuracy                           0.89    181467\n",
      "   macro avg       0.90      0.89      0.89    181467\n",
      "weighted avg       0.90      0.89      0.89    181467\n",
      "\n"
     ]
    }
   ],
   "source": [
    "from sklearn.metrics import classification_report\n",
    "\n",
    "predicts = clf.predict(X_train)\n",
    "# train\n",
    "print(classification_report(df_train[4], predicts, target_names=['Негативные', 'Позитивные']))"
   ]
  },
  {
   "cell_type": "code",
   "execution_count": 20,
   "metadata": {
    "colab": {
     "base_uri": "https://localhost:8080/"
    },
    "id": "uDuWeKri_DPn",
    "outputId": "85f01d24-a004-41a7-ae81-0afbee4257bf"
   },
   "outputs": [
    {
     "name": "stdout",
     "output_type": "stream",
     "text": [
      "              precision    recall  f1-score   support\n",
      "\n",
      "  Негативные       0.73      0.81      0.77     22312\n",
      "  Позитивные       0.79      0.71      0.75     23055\n",
      "\n",
      "    accuracy                           0.76     45367\n",
      "   macro avg       0.76      0.76      0.76     45367\n",
      "weighted avg       0.76      0.76      0.76     45367\n",
      "\n"
     ]
    }
   ],
   "source": [
    "predicts = clf.predict(X_test)\n",
    "print(classification_report(df_test[4], predicts, target_names=['Негативные', 'Позитивные']))"
   ]
  },
  {
   "cell_type": "markdown",
   "metadata": {
    "id": "eWRyi0bX_ai4"
   },
   "source": [
    "### Bag of words"
   ]
  },
  {
   "cell_type": "markdown",
   "metadata": {
    "id": "FQmMlfwS_fba"
   },
   "source": [
    "При построении вектора признаков будем учитывать не просто факт вхождения слова в текст, а подсчитывать количество вхождений:"
   ]
  },
  {
   "cell_type": "code",
   "execution_count": 21,
   "metadata": {
    "id": "z_cvKBRF_dUc"
   },
   "outputs": [],
   "source": [
    "count_vect = CountVectorizer(binary=False).fit(df[3])\n",
    "\n",
    "X_train_counts = count_vect.transform(df_train[3])\n",
    "X_test_counts = count_vect.transform(df_test[3])"
   ]
  },
  {
   "cell_type": "markdown",
   "metadata": {
    "id": "rDDGDLwM_pOY"
   },
   "source": [
    "Для примера выведем слова вместе и количеством вхождений для обучающего датасета:"
   ]
  },
  {
   "cell_type": "code",
   "execution_count": 24,
   "metadata": {
    "colab": {
     "base_uri": "https://localhost:8080/"
    },
    "id": "GvSAJa78_vmg",
    "outputId": "6c389646-68ac-49ce-dfa4-04ffbc4ed25f"
   },
   "outputs": [
    {
     "data": {
      "text/plain": [
       "{'вечера': 1,\n",
       " 'кто': 1,\n",
       " 'меня': 1,\n",
       " 'ну': 1,\n",
       " 'от': 1,\n",
       " 'самого': 1,\n",
       " 'скучного': 1,\n",
       " 'спасет': 1,\n",
       " 'субботы': 1}"
      ]
     },
     "execution_count": 24,
     "metadata": {
      "tags": []
     },
     "output_type": "execute_result"
    }
   ],
   "source": [
    "# представление 42го отзыва\n",
    "dict(zip(count_vect.inverse_transform(X_train_counts[130])[0], X_train_counts[0].data))"
   ]
  },
  {
   "cell_type": "markdown",
   "metadata": {
    "id": "IN5HKbk-DQ89"
   },
   "source": [
    "### Алгоритм"
   ]
  },
  {
   "cell_type": "code",
   "execution_count": 25,
   "metadata": {
    "id": "jzHN8bQRAImd"
   },
   "outputs": [],
   "source": [
    "# обучим\n",
    "clf = MultinomialNB().fit(X_train_counts, df_train[4])"
   ]
  },
  {
   "cell_type": "code",
   "execution_count": 26,
   "metadata": {
    "colab": {
     "base_uri": "https://localhost:8080/"
    },
    "id": "eTWYsdJkAOGE",
    "outputId": "e6104c51-1388-4a6b-af4f-c8838ee2bf61"
   },
   "outputs": [
    {
     "name": "stdout",
     "output_type": "stream",
     "text": [
      "              precision    recall  f1-score   support\n",
      "\n",
      "           0       0.87      0.92      0.89     89611\n",
      "           1       0.92      0.86      0.89     91856\n",
      "\n",
      "    accuracy                           0.89    181467\n",
      "   macro avg       0.89      0.89      0.89    181467\n",
      "weighted avg       0.89      0.89      0.89    181467\n",
      "\n"
     ]
    }
   ],
   "source": [
    "# train\n",
    "predicts = clf.predict(X_train_counts)\n",
    "print(classification_report(df_train[4], predicts))"
   ]
  },
  {
   "cell_type": "code",
   "execution_count": 27,
   "metadata": {
    "colab": {
     "base_uri": "https://localhost:8080/"
    },
    "id": "25gt01i_AOZk",
    "outputId": "ba8428e3-e47f-4a6a-fa29-f18be8754d4f"
   },
   "outputs": [
    {
     "name": "stdout",
     "output_type": "stream",
     "text": [
      "              precision    recall  f1-score   support\n",
      "\n",
      "           0       0.73      0.80      0.77     22312\n",
      "           1       0.79      0.71      0.75     23055\n",
      "\n",
      "    accuracy                           0.76     45367\n",
      "   macro avg       0.76      0.76      0.76     45367\n",
      "weighted avg       0.76      0.76      0.76     45367\n",
      "\n"
     ]
    }
   ],
   "source": [
    "# test\n",
    "# конвертируем тестовые слова\n",
    "predicts = clf.predict(count_vect.transform(df_test[3]))\n",
    "print(classification_report(df_test[4], predicts))"
   ]
  },
  {
   "cell_type": "code",
   "execution_count": 28,
   "metadata": {
    "colab": {
     "base_uri": "https://localhost:8080/"
    },
    "id": "BbGJWoJnAl0j",
    "outputId": "0bf8c208-9bce-4285-ebae-f59e644d3a94"
   },
   "outputs": [
    {
     "name": "stdout",
     "output_type": "stream",
     "text": [
      "pos: хочу за уже ты по ну это все но http co так мне то как меня rt на что не\n",
      "neg: вот да за по ну но мне все так меня ты то это как что на rt co http не\n"
     ]
    }
   ],
   "source": [
    "show_top(clf, vectorizer, 20)"
   ]
  },
  {
   "cell_type": "markdown",
   "metadata": {
    "id": "I7BzbQCBDYh_"
   },
   "source": [
    "Пробуем убрать часто встречающиеся слова"
   ]
  },
  {
   "cell_type": "code",
   "execution_count": 29,
   "metadata": {
    "colab": {
     "base_uri": "https://localhost:8080/"
    },
    "id": "rOtlgaKEA_jI",
    "outputId": "c87e3852-3bfd-45d7-84b6-44d700c3c237"
   },
   "outputs": [
    {
     "name": "stdout",
     "output_type": "stream",
     "text": [
      "Collecting nltk\n",
      "\u001b[?25l  Downloading https://files.pythonhosted.org/packages/92/75/ce35194d8e3022203cca0d2f896dbb88689f9b3fce8e9f9cff942913519d/nltk-3.5.zip (1.4MB)\n",
      "\u001b[K     |████████████████████████████████| 1.4MB 6.1MB/s \n",
      "\u001b[?25hRequirement already satisfied, skipping upgrade: click in /usr/local/lib/python3.6/dist-packages (from nltk) (7.1.2)\n",
      "Requirement already satisfied, skipping upgrade: joblib in /usr/local/lib/python3.6/dist-packages (from nltk) (1.0.0)\n",
      "Requirement already satisfied, skipping upgrade: regex in /usr/local/lib/python3.6/dist-packages (from nltk) (2019.12.20)\n",
      "Requirement already satisfied, skipping upgrade: tqdm in /usr/local/lib/python3.6/dist-packages (from nltk) (4.41.1)\n",
      "Building wheels for collected packages: nltk\n",
      "  Building wheel for nltk (setup.py) ... \u001b[?25l\u001b[?25hdone\n",
      "  Created wheel for nltk: filename=nltk-3.5-cp36-none-any.whl size=1434678 sha256=837ebbf8e44f9a4a4b049a7ad302d6807139d377137432b9ad033696d59f2455\n",
      "  Stored in directory: /root/.cache/pip/wheels/ae/8c/3f/b1fe0ba04555b08b57ab52ab7f86023639a526d8bc8d384306\n",
      "Successfully built nltk\n",
      "Installing collected packages: nltk\n",
      "\u001b[33m  WARNING: The script nltk is installed in '/root/.local/bin' which is not on PATH.\n",
      "  Consider adding this directory to PATH or, if you prefer to suppress this warning, use --no-warn-script-location.\u001b[0m\n",
      "Successfully installed nltk-3.5\n"
     ]
    }
   ],
   "source": [
    "'''\n",
    "в англ:\n",
    "\n",
    "from sklearn.feature_extraction.stop_words import ENGLISH_STOP_WORDS\n",
    "\n",
    "count_vect = CountVectorizer(stop_words=ENGLISH_STOP_WORDS, binary=False).fit(df[3])\n",
    "'''\n",
    "!pip install --user -U nltk"
   ]
  },
  {
   "cell_type": "code",
   "execution_count": 30,
   "metadata": {
    "colab": {
     "base_uri": "https://localhost:8080/"
    },
    "id": "pV_Lu4raCV_O",
    "outputId": "ee9be173-5861-4505-e544-691a67aa3979"
   },
   "outputs": [
    {
     "name": "stdout",
     "output_type": "stream",
     "text": [
      "[nltk_data] Downloading package stopwords to /root/nltk_data...\n",
      "[nltk_data]   Unzipping corpora/stopwords.zip.\n"
     ]
    },
    {
     "data": {
      "text/plain": [
       "True"
      ]
     },
     "execution_count": 30,
     "metadata": {
      "tags": []
     },
     "output_type": "execute_result"
    }
   ],
   "source": [
    "import nltk\n",
    "nltk.download(\"stopwords\")"
   ]
  },
  {
   "cell_type": "code",
   "execution_count": 31,
   "metadata": {
    "colab": {
     "base_uri": "https://localhost:8080/"
    },
    "id": "-oNPQ1WDexZU",
    "outputId": "8f58444a-f160-49b0-f550-62f16c8d18fd"
   },
   "outputs": [
    {
     "name": "stderr",
     "output_type": "stream",
     "text": [
      "/usr/local/lib/python3.6/dist-packages/sklearn/utils/deprecation.py:144: FutureWarning: The sklearn.feature_extraction.stop_words module is  deprecated in version 0.22 and will be removed in version 0.24. The corresponding classes / functions should instead be imported from sklearn.feature_extraction.text. Anything that cannot be imported from sklearn.feature_extraction.text is now part of the private API.\n",
      "  warnings.warn(message, FutureWarning)\n"
     ]
    }
   ],
   "source": [
    "from sklearn.feature_extraction.stop_words import ENGLISH_STOP_WORDS"
   ]
  },
  {
   "cell_type": "code",
   "execution_count": 32,
   "metadata": {
    "id": "HkSqU1mhCEo6"
   },
   "outputs": [],
   "source": [
    "from nltk.corpus import stopwords\n",
    "stopWords = stopwords.words('russian')"
   ]
  },
  {
   "cell_type": "code",
   "execution_count": 33,
   "metadata": {
    "colab": {
     "base_uri": "https://localhost:8080/"
    },
    "id": "FyNp2PtUz2yL",
    "outputId": "66e3bda2-190d-4555-ad46-cb5368f4c98a"
   },
   "outputs": [
    {
     "data": {
      "text/plain": [
       "['и',\n",
       " 'в',\n",
       " 'во',\n",
       " 'не',\n",
       " 'что',\n",
       " 'он',\n",
       " 'на',\n",
       " 'я',\n",
       " 'с',\n",
       " 'со',\n",
       " 'как',\n",
       " 'а',\n",
       " 'то',\n",
       " 'все',\n",
       " 'она',\n",
       " 'так',\n",
       " 'его',\n",
       " 'но',\n",
       " 'да',\n",
       " 'ты',\n",
       " 'к',\n",
       " 'у',\n",
       " 'же',\n",
       " 'вы',\n",
       " 'за',\n",
       " 'бы',\n",
       " 'по',\n",
       " 'только',\n",
       " 'ее',\n",
       " 'мне',\n",
       " 'было',\n",
       " 'вот',\n",
       " 'от',\n",
       " 'меня',\n",
       " 'еще',\n",
       " 'нет',\n",
       " 'о',\n",
       " 'из',\n",
       " 'ему',\n",
       " 'теперь',\n",
       " 'когда',\n",
       " 'даже',\n",
       " 'ну',\n",
       " 'вдруг',\n",
       " 'ли',\n",
       " 'если',\n",
       " 'уже',\n",
       " 'или',\n",
       " 'ни',\n",
       " 'быть',\n",
       " 'был',\n",
       " 'него',\n",
       " 'до',\n",
       " 'вас',\n",
       " 'нибудь',\n",
       " 'опять',\n",
       " 'уж',\n",
       " 'вам',\n",
       " 'ведь',\n",
       " 'там',\n",
       " 'потом',\n",
       " 'себя',\n",
       " 'ничего',\n",
       " 'ей',\n",
       " 'может',\n",
       " 'они',\n",
       " 'тут',\n",
       " 'где',\n",
       " 'есть',\n",
       " 'надо',\n",
       " 'ней',\n",
       " 'для',\n",
       " 'мы',\n",
       " 'тебя',\n",
       " 'их',\n",
       " 'чем',\n",
       " 'была',\n",
       " 'сам',\n",
       " 'чтоб',\n",
       " 'без',\n",
       " 'будто',\n",
       " 'чего',\n",
       " 'раз',\n",
       " 'тоже',\n",
       " 'себе',\n",
       " 'под',\n",
       " 'будет',\n",
       " 'ж',\n",
       " 'тогда',\n",
       " 'кто',\n",
       " 'этот',\n",
       " 'того',\n",
       " 'потому',\n",
       " 'этого',\n",
       " 'какой',\n",
       " 'совсем',\n",
       " 'ним',\n",
       " 'здесь',\n",
       " 'этом',\n",
       " 'один',\n",
       " 'почти',\n",
       " 'мой',\n",
       " 'тем',\n",
       " 'чтобы',\n",
       " 'нее',\n",
       " 'сейчас',\n",
       " 'были',\n",
       " 'куда',\n",
       " 'зачем',\n",
       " 'всех',\n",
       " 'никогда',\n",
       " 'можно',\n",
       " 'при',\n",
       " 'наконец',\n",
       " 'два',\n",
       " 'об',\n",
       " 'другой',\n",
       " 'хоть',\n",
       " 'после',\n",
       " 'над',\n",
       " 'больше',\n",
       " 'тот',\n",
       " 'через',\n",
       " 'эти',\n",
       " 'нас',\n",
       " 'про',\n",
       " 'всего',\n",
       " 'них',\n",
       " 'какая',\n",
       " 'много',\n",
       " 'разве',\n",
       " 'три',\n",
       " 'эту',\n",
       " 'моя',\n",
       " 'впрочем',\n",
       " 'хорошо',\n",
       " 'свою',\n",
       " 'этой',\n",
       " 'перед',\n",
       " 'иногда',\n",
       " 'лучше',\n",
       " 'чуть',\n",
       " 'том',\n",
       " 'нельзя',\n",
       " 'такой',\n",
       " 'им',\n",
       " 'более',\n",
       " 'всегда',\n",
       " 'конечно',\n",
       " 'всю',\n",
       " 'между']"
      ]
     },
     "execution_count": 33,
     "metadata": {
      "tags": []
     },
     "output_type": "execute_result"
    }
   ],
   "source": [
    "stopWords"
   ]
  },
  {
   "cell_type": "code",
   "execution_count": 34,
   "metadata": {
    "id": "_uA8Hbx9BzCv"
   },
   "outputs": [],
   "source": [
    "count_vect = CountVectorizer(stop_words=stopWords + list(ENGLISH_STOP_WORDS), binary=False).fit(df[3])"
   ]
  },
  {
   "cell_type": "code",
   "execution_count": 35,
   "metadata": {
    "id": "jnfp_nMqCwPY"
   },
   "outputs": [],
   "source": [
    "X_train_counts = count_vect.transform(df_train[3])\n",
    "X_test_counts = count_vect.transform(df_test[3])"
   ]
  },
  {
   "cell_type": "code",
   "execution_count": 36,
   "metadata": {
    "id": "7wJIQNOvC5XS"
   },
   "outputs": [],
   "source": [
    "clf = MultinomialNB().fit(X_train_counts, df_train[4])"
   ]
  },
  {
   "cell_type": "code",
   "execution_count": 37,
   "metadata": {
    "colab": {
     "base_uri": "https://localhost:8080/"
    },
    "id": "wkvO5YjLC932",
    "outputId": "27eacb8f-b457-4f0e-f3f0-766af47b4955"
   },
   "outputs": [
    {
     "name": "stdout",
     "output_type": "stream",
     "text": [
      "              precision    recall  f1-score   support\n",
      "\n",
      "           0       0.73      0.79      0.76     22312\n",
      "           1       0.78      0.72      0.75     23055\n",
      "\n",
      "    accuracy                           0.76     45367\n",
      "   macro avg       0.76      0.76      0.76     45367\n",
      "weighted avg       0.76      0.76      0.76     45367\n",
      "\n"
     ]
    }
   ],
   "source": [
    "predicts = clf.predict(X_test_counts)\n",
    "print(classification_report(df_test[4], predicts))"
   ]
  },
  {
   "cell_type": "code",
   "execution_count": 38,
   "metadata": {
    "colab": {
     "base_uri": "https://localhost:8080/"
    },
    "id": "_SVlY5jrDDu9",
    "outputId": "eaffeb89-846a-4589-852c-707be7f51aa6"
   },
   "outputs": [
    {
     "name": "stdout",
     "output_type": "stream",
     "text": [
      "pos: делать спать дома знаю тебе буду всё вообще почему просто могу завтра блин день очень сегодня хочу это http rt\n",
      "neg: время ещё ахах знаю хочу вообще завтра буду всем всё люблю день очень спасибо просто тебе сегодня это rt http\n"
     ]
    }
   ],
   "source": [
    "show_top(clf, count_vect, 20)"
   ]
  },
  {
   "cell_type": "markdown",
   "metadata": {
    "id": "SjoAipYTDJI7"
   },
   "source": [
    "### TF-IDF"
   ]
  },
  {
   "cell_type": "code",
   "execution_count": 39,
   "metadata": {
    "id": "dDih79PbDdm6"
   },
   "outputs": [],
   "source": [
    "from sklearn.feature_extraction.text import TfidfVectorizer\n",
    "\n",
    "vectorizer = TfidfVectorizer(stop_words=stopWords + list(ENGLISH_STOP_WORDS))\n",
    "vectorizer = vectorizer.fit(df[3])"
   ]
  },
  {
   "cell_type": "code",
   "execution_count": 40,
   "metadata": {
    "id": "sWuLArRSDdpx"
   },
   "outputs": [],
   "source": [
    "X_train_vectors = vectorizer.transform(df_train[3])\n",
    "X_test_vectors = vectorizer.transform(df_test[3])"
   ]
  },
  {
   "cell_type": "code",
   "execution_count": 41,
   "metadata": {
    "colab": {
     "base_uri": "https://localhost:8080/"
    },
    "id": "h0Yk36HoDdsA",
    "outputId": "4bd0e796-2413-4a23-847a-98612d3f2176"
   },
   "outputs": [
    {
     "data": {
      "text/plain": [
       "array([0.26046768, 0.33201255, 0.22438215, 0.41153897, 0.41153897,\n",
       "       0.19661532, 0.21513186, 0.09581384, 0.41153897, 0.41153897])"
      ]
     },
     "execution_count": 41,
     "metadata": {
      "tags": []
     },
     "output_type": "execute_result"
    }
   ],
   "source": [
    "num = 153\n",
    "X_train_vectors[num].data"
   ]
  },
  {
   "cell_type": "markdown",
   "metadata": {
    "id": "OjHaTY29Dppp"
   },
   "source": [
    "Выведем слова из первого документа в порядке увеличения из меры TF-IDF:"
   ]
  },
  {
   "cell_type": "code",
   "execution_count": 42,
   "metadata": {
    "colab": {
     "base_uri": "https://localhost:8080/"
    },
    "id": "KdX4CNBTDqiF",
    "outputId": "5a017bd4-3b16-4412-bf65-a6cfcad2a76f"
   },
   "outputs": [
    {
     "data": {
      "text/plain": [
       "array(['http', 'года', 'lt', 'нового',\n",
       "       'хочупровестиновогоднююночьвместес', 'счастливого', 'любиимой',\n",
       "       'йоооу', 'elenaocelot', 'bctytfdst1'], dtype='<U136')"
      ]
     },
     "execution_count": 42,
     "metadata": {
      "tags": []
     },
     "output_type": "execute_result"
    }
   ],
   "source": [
    "vectorizer.inverse_transform(X_train_vectors[num])[0][np.argsort(X_train_vectors[num].data)]"
   ]
  },
  {
   "cell_type": "markdown",
   "metadata": {
    "id": "uJ1w2Ha-DzOH"
   },
   "source": [
    "### Алгоритм"
   ]
  },
  {
   "cell_type": "code",
   "execution_count": 43,
   "metadata": {
    "id": "6TGTHKy7D0yH"
   },
   "outputs": [],
   "source": [
    "clf = MultinomialNB().fit(X_train_vectors, df_train[4])"
   ]
  },
  {
   "cell_type": "code",
   "execution_count": 44,
   "metadata": {
    "colab": {
     "base_uri": "https://localhost:8080/"
    },
    "id": "91v51qIzDyuX",
    "outputId": "9fad05c5-c3d6-4c2f-d08e-368023595b71"
   },
   "outputs": [
    {
     "name": "stdout",
     "output_type": "stream",
     "text": [
      "pos: тебе дома делать знаю спать буду всё просто вообще могу день почему завтра блин очень сегодня хочу http это rt\n",
      "neg: dd ахаха ахах знаю хочу вообще завтра буду всем всё люблю очень день просто тебе спасибо сегодня это rt http\n"
     ]
    }
   ],
   "source": [
    "show_top(clf, vectorizer, 20)"
   ]
  },
  {
   "cell_type": "code",
   "execution_count": 45,
   "metadata": {
    "colab": {
     "base_uri": "https://localhost:8080/"
    },
    "id": "BvUvUVzBD5zy",
    "outputId": "f6c1fe8c-049d-477d-8a06-be99e6dc1b8a"
   },
   "outputs": [
    {
     "name": "stdout",
     "output_type": "stream",
     "text": [
      "              precision    recall  f1-score   support\n",
      "\n",
      "           0       0.73      0.78      0.76     22312\n",
      "           1       0.78      0.72      0.75     23055\n",
      "\n",
      "    accuracy                           0.75     45367\n",
      "   macro avg       0.75      0.75      0.75     45367\n",
      "weighted avg       0.75      0.75      0.75     45367\n",
      "\n"
     ]
    }
   ],
   "source": [
    "predicts = clf.predict(vectorizer.transform(df_test[3]))\n",
    "print(classification_report(df_test[4], predicts))"
   ]
  },
  {
   "cell_type": "markdown",
   "metadata": {
    "id": "qHQSHhfRECA9"
   },
   "source": [
    "### TF-IDF + пары слов\n",
    "\n",
    "Попробуем подсчитывать не только одиночные слова, но и пары слов:"
   ]
  },
  {
   "cell_type": "code",
   "execution_count": 46,
   "metadata": {
    "colab": {
     "base_uri": "https://localhost:8080/"
    },
    "id": "DHGSxxnggNEh",
    "outputId": "c299114f-d3de-49cc-d513-3a8868a6a2d0"
   },
   "outputs": [
    {
     "data": {
      "text/plain": [
       "318"
      ]
     },
     "execution_count": 46,
     "metadata": {
      "tags": []
     },
     "output_type": "execute_result"
    }
   ],
   "source": [
    "len( list(ENGLISH_STOP_WORDS))"
   ]
  },
  {
   "cell_type": "code",
   "execution_count": 51,
   "metadata": {
    "id": "euRBH3YQEC9C"
   },
   "outputs": [],
   "source": [
    "vectorizer = TfidfVectorizer(ngram_range=(1, 2)).fit(df[3])\n",
    "\n",
    "X_train_vectors = vectorizer.transform(df_train[3])\n",
    "X_test_vectors = vectorizer.transform(df_test[3])"
   ]
  },
  {
   "cell_type": "markdown",
   "metadata": {
    "id": "IyqXGOnxFITc"
   },
   "source": [
    "Выведем слова из первого документа в порядке увеличения из меры TF-IDF:"
   ]
  },
  {
   "cell_type": "code",
   "execution_count": 55,
   "metadata": {
    "colab": {
     "base_uri": "https://localhost:8080/"
    },
    "id": "1bB3hAVFFHmc",
    "outputId": "0d5038ef-9e9f-453d-a834-29b3df9998cb"
   },
   "outputs": [
    {
     "data": {
      "text/plain": [
       "array(['http', 'co', 'http co', 'года', 'lt', 'нового', 'нового года',\n",
       "       'хочупровестиновогоднююночьвместес', 'lt http', 'счастливого',\n",
       "       'счастливого нового', 'хочупровестиновогоднююночьвместес любиимой',\n",
       "       'co bctytfdst1', 'elenaocelot', 'elenaocelot счастливого',\n",
       "       'года lt', 'йоооу хочупровестиновогоднююночьвместес', 'любиимой',\n",
       "       'любиимой elenaocelot', 'йоооу', 'bctytfdst1'], dtype='<U136')"
      ]
     },
     "execution_count": 55,
     "metadata": {
      "tags": []
     },
     "output_type": "execute_result"
    }
   ],
   "source": [
    "vectorizer.inverse_transform(X_train_vectors[num])[0][np.argsort(X_train_vectors[num].data)]"
   ]
  },
  {
   "cell_type": "markdown",
   "metadata": {
    "id": "XTcpfWQGIJ95"
   },
   "source": [
    "### Алгоритм"
   ]
  },
  {
   "cell_type": "code",
   "execution_count": 53,
   "metadata": {
    "id": "D1g9NQTRFQu2"
   },
   "outputs": [],
   "source": [
    "clf = MultinomialNB(alpha = 1).fit(X_train_vectors, df_train[4])"
   ]
  },
  {
   "cell_type": "code",
   "execution_count": 54,
   "metadata": {
    "colab": {
     "base_uri": "https://localhost:8080/"
    },
    "id": "RQt9vDT6FWDK",
    "outputId": "f2ba91ae-5df7-447d-b5e8-8fe276279ae9"
   },
   "outputs": [
    {
     "name": "stdout",
     "output_type": "stream",
     "text": [
      "              precision    recall  f1-score   support\n",
      "\n",
      "           0       0.74      0.82      0.78     22312\n",
      "           1       0.81      0.72      0.76     23055\n",
      "\n",
      "    accuracy                           0.77     45367\n",
      "   macro avg       0.77      0.77      0.77     45367\n",
      "weighted avg       0.78      0.77      0.77     45367\n",
      "\n"
     ]
    }
   ],
   "source": [
    "predicts = clf.predict(vectorizer.transform(df_test[3]))\n",
    "print(classification_report(df_test[4], predicts))"
   ]
  },
  {
   "cell_type": "markdown",
   "metadata": {
    "id": "NfY9k73quJnJ"
   },
   "source": [
    "## Complement Naive Bayes"
   ]
  },
  {
   "cell_type": "markdown",
   "metadata": {
    "id": "UIERkVKdtG-W"
   },
   "source": [
    "Наивный байесовский классификатор ComplementNB был разработан для исправления «грубых допущений», сделанных стандартным полиномиальным наивным байесовским классификатором. Хорошо работает с несбалансированным набором данных.\n",
    "\n",
    "CNB - это адаптация стандартного полиномиального наивного байесовского алгоритма (MNB), который особенно подходит для несбалансированных наборов данных. В частности, CNB использует статистику из дополнения каждого класса для вычисления весов модели. Изобретатели CNB эмпирически показывают, что оценки параметров для CNB более стабильны, чем оценки для MNB. Кроме того, CNB регулярно опережает MNB (часто со значительным отрывом) по задачам классификации текста. Процедура расчета весов выглядит следующим образом:\n",
    "\n",
    "\\begin{align}\\begin{aligned}\\hat{\\theta}_{ci} = \\frac{\\alpha_i + \\sum_{j:y_j \\neq c} d_{ij}}\n",
    "                         {\\alpha + \\sum_{j:y_j \\neq c} \\sum_{k} d_{kj}}\\\\w_{ci} = \\log \\hat{\\theta}_{ci}\\\\w_{ci} = \\frac{w_{ci}}{\\sum_{j} |w_{cj}|}\\end{aligned}\\end{align}\n",
    "\n"
   ]
  },
  {
   "cell_type": "markdown",
   "metadata": {
    "id": "RcXIjliLF3ZQ"
   },
   "source": [
    "где суммирования по всем документам j, не относящимся к классу С, $d_{ij}$ - это значение tf-idf термина i в документе j, $αi$ - это сглаживающий гиперпараметр, подобный найденному в MNB, и $α = ∑_i αi$. Вторая нормализация учитывает тенденцию для более длинных документов доминировать в оценках параметров в MNB. Правило классификации:"
   ]
  },
  {
   "cell_type": "markdown",
   "metadata": {
    "id": "pkKheFy3GaCI"
   },
   "source": [
    "$$\\hat{c} = \\arg\\min_c \\sum_{i} t_i w_{ci}$$"
   ]
  },
  {
   "cell_type": "markdown",
   "metadata": {
    "id": "07AIWi0sGfId"
   },
   "source": [
    "то есть документ присваивается классу, который является самым плохим соответствием дополнения."
   ]
  },
  {
   "cell_type": "markdown",
   "metadata": {
    "id": "FSmrgYbnGvm7"
   },
   "source": [
    "Простыми словами: \n",
    "\n",
    "Сравнивая с классическим наивным байесовским алгоритмом, вместо вычисления вероятности появления слова в классе, мы вычисляем вероятность того, что оно встречается в других классах."
   ]
  },
  {
   "cell_type": "markdown",
   "metadata": {
    "id": "nkHiVE7-HGu-"
   },
   "source": [
    "Классический:\n",
    "$$argmax \\ p(y) \\bullet \\prod p(w | y)^{f_i}$$ \n",
    "Преобразуется в:\n",
    "$$argmin \\ p(y) \\bullet \\prod {1 \\over p(w | \\hat y)^{f_i}}$$\n",
    "\n",
    "где $f_i$ - частота слова i документа d"
   ]
  },
  {
   "cell_type": "markdown",
   "metadata": {
    "id": "7WOIeJSDHnL4"
   },
   "source": [
    "Проверим предположение с помощью tfidf + пары слов и стоп слов для русского."
   ]
  },
  {
   "cell_type": "markdown",
   "metadata": {
    "id": "ObVD9QjdHuj0"
   },
   "source": [
    "### TF-IDF"
   ]
  },
  {
   "cell_type": "code",
   "execution_count": 56,
   "metadata": {
    "id": "vN50jVvmF0Va"
   },
   "outputs": [],
   "source": [
    "vectorizer = TfidfVectorizer(ngram_range=(1, 2)).fit(df[3])\n",
    "\n",
    "X_train_vectors = vectorizer.transform(df_train[3])\n",
    "X_test_vectors = vectorizer.transform(df_test[3])"
   ]
  },
  {
   "cell_type": "code",
   "execution_count": 57,
   "metadata": {
    "id": "ng2J7vh2H1Fg"
   },
   "outputs": [],
   "source": [
    "X_train_vectors = vectorizer.transform(df_train[3])\n",
    "X_test_vectors = vectorizer.transform(df_test[3])"
   ]
  },
  {
   "cell_type": "code",
   "execution_count": 58,
   "metadata": {
    "colab": {
     "base_uri": "https://localhost:8080/"
    },
    "id": "jw81Tyi7ITGV",
    "outputId": "060412db-6582-4850-abf4-d6c5772ef37a"
   },
   "outputs": [
    {
     "data": {
      "text/plain": [
       "array(['http', 'co', 'http co', 'года', 'lt', 'нового', 'нового года',\n",
       "       'хочупровестиновогоднююночьвместес', 'lt http', 'счастливого',\n",
       "       'счастливого нового', 'хочупровестиновогоднююночьвместес любиимой',\n",
       "       'co bctytfdst1', 'elenaocelot', 'elenaocelot счастливого',\n",
       "       'года lt', 'йоооу хочупровестиновогоднююночьвместес', 'любиимой',\n",
       "       'любиимой elenaocelot', 'йоооу', 'bctytfdst1'], dtype='<U136')"
      ]
     },
     "execution_count": 58,
     "metadata": {
      "tags": []
     },
     "output_type": "execute_result"
    }
   ],
   "source": [
    "vectorizer.inverse_transform(X_train_vectors[num])[0][np.argsort(X_train_vectors[num].data)]"
   ]
  },
  {
   "cell_type": "markdown",
   "metadata": {
    "id": "6XbIn-bNH4lH"
   },
   "source": [
    "### Алгоритм"
   ]
  },
  {
   "cell_type": "code",
   "execution_count": 59,
   "metadata": {
    "id": "pxzVEmDCH2VR"
   },
   "outputs": [],
   "source": [
    "clf = BernoulliNB(alpha=0.5).fit(X_train_vectors, df_train[4])"
   ]
  },
  {
   "cell_type": "code",
   "execution_count": 60,
   "metadata": {
    "colab": {
     "base_uri": "https://localhost:8080/"
    },
    "id": "84NDDqH_H74q",
    "outputId": "39b96235-b30f-4afa-b8d5-9724b4b862f0"
   },
   "outputs": [
    {
     "name": "stdout",
     "output_type": "stream",
     "text": [
      "pos: ты за уже по ну это все но то так мне http co co http как меня rt на что не\n",
      "neg: да за по ну но мне все так ты меня то это как что на rt http co co http не\n"
     ]
    }
   ],
   "source": [
    "show_top(clf, vectorizer, 20)"
   ]
  },
  {
   "cell_type": "code",
   "execution_count": 61,
   "metadata": {
    "colab": {
     "base_uri": "https://localhost:8080/"
    },
    "id": "SI_2rnZPH91Z",
    "outputId": "6cfbace5-ff82-4613-ab88-7c4466134ed2"
   },
   "outputs": [
    {
     "name": "stdout",
     "output_type": "stream",
     "text": [
      "              precision    recall  f1-score   support\n",
      "\n",
      "           0       0.71      0.86      0.78     22312\n",
      "           1       0.83      0.67      0.74     23055\n",
      "\n",
      "    accuracy                           0.76     45367\n",
      "   macro avg       0.77      0.76      0.76     45367\n",
      "weighted avg       0.77      0.76      0.76     45367\n",
      "\n"
     ]
    }
   ],
   "source": [
    "predicts = clf.predict(vectorizer.transform(df_test[3]))\n",
    "print(classification_report(df_test[4], predicts))"
   ]
  },
  {
   "cell_type": "code",
   "execution_count": 62,
   "metadata": {
    "colab": {
     "base_uri": "https://localhost:8080/"
    },
    "id": "08ln1W5jIALZ",
    "outputId": "1fccbea7-d146-4746-841c-6dd54a61e1a8"
   },
   "outputs": [
    {
     "name": "stdout",
     "output_type": "stream",
     "text": [
      "Fitting 5 folds for each of 30 candidates, totalling 150 fits\n"
     ]
    },
    {
     "name": "stderr",
     "output_type": "stream",
     "text": [
      "[Parallel(n_jobs=-1)]: Using backend LokyBackend with 2 concurrent workers.\n",
      "[Parallel(n_jobs=-1)]: Done  37 tasks      | elapsed:   14.4s\n",
      "[Parallel(n_jobs=-1)]: Done 150 out of 150 | elapsed:   50.7s finished\n"
     ]
    },
    {
     "data": {
      "text/plain": [
       "({'alpha': 4.551724137931035}, 0.7725306876887237)"
      ]
     },
     "execution_count": 62,
     "metadata": {
      "tags": []
     },
     "output_type": "execute_result"
    }
   ],
   "source": [
    "# ComplementNB, MultinomialNB, BernoulliNB, CategoricalNB\n",
    "\n",
    "from sklearn.model_selection import GridSearchCV\n",
    "\n",
    "alg = BernoulliNB()\n",
    "\n",
    "grid = {'alpha': np.array(np.linspace(0, 6, 30), dtype='float'),}\n",
    "\n",
    "gs = GridSearchCV(alg, grid, verbose=2, n_jobs = -1, scoring = 'f1')\n",
    "gs.fit(X_train_vectors, df_train[4])\n",
    "gs.best_params_, gs.best_score_"
   ]
  },
  {
   "cell_type": "code",
   "execution_count": 63,
   "metadata": {
    "id": "bq3UKTRLsXXO"
   },
   "outputs": [],
   "source": [
    "# Функция отрисовки графиков\n",
    "def grid_plot(x, y, x_label, title, y_label='f1'):\n",
    "    # определили размер графика\n",
    "    plt.figure(figsize=(12, 6))\n",
    "    # добавили сетку на фон\n",
    "    plt.grid(True)\n",
    "    # построили по х - число соседей, по y - точность\n",
    "    plt.plot(x, y, 'go-')\n",
    "    # добавили подписи осей и название графика\n",
    "    plt.xlabel(x_label)\n",
    "    plt.ylabel(y_label)\n",
    "    plt.title(title)"
   ]
  },
  {
   "cell_type": "code",
   "execution_count": 65,
   "metadata": {
    "colab": {
     "base_uri": "https://localhost:8080/",
     "height": 404
    },
    "id": "R6MwJw_XsoKe",
    "outputId": "8b7e4c62-4ddc-4a79-a6cf-84060f3f02ad"
   },
   "outputs": [
    {
     "data": {
      "image/png": "[encoded data removed]",
      "text/plain": [
       "<Figure size 864x432 with 1 Axes>"
      ]
     },
     "metadata": {
      "needs_background": "light",
      "tags": []
     },
     "output_type": "display_data"
    }
   ],
   "source": [
    "# Строим график зависимости качества от числа соседей\n",
    "# замечание: результаты обучения хранятся в атрибуте cv_results_ объекта gs\n",
    "grid_plot(grid['alpha'], gs.cv_results_['mean_test_score'], 'Alpha', 'BernoulliNB')"
   ]
  },
  {
   "cell_type": "markdown",
   "metadata": {
    "id": "8uCASc3GvWfX"
   },
   "source": [
    "## Фильтруем самые частотные"
   ]
  },
  {
   "cell_type": "code",
   "execution_count": null,
   "metadata": {
    "id": "4MeUrnAztWQz"
   },
   "outputs": [],
   "source": [
    "def get_top_n_words(corpus, n=None):\n",
    "    vec = CountVectorizer().fit(corpus)\n",
    "    bag_of_words = vec.transform(corpus)\n",
    "    sum_words = bag_of_words.sum(axis=0) \n",
    "    words_freq = [(word, sum_words[0, idx]) for word, idx in     vec.vocabulary_.items()]\n",
    "    words_freq =sorted(words_freq, key = lambda x: x[1], reverse=True)\n",
    "    return words_freq[:n]"
   ]
  },
  {
   "cell_type": "code",
   "execution_count": null,
   "metadata": {
    "id": "qd93kL8uuux3"
   },
   "outputs": [],
   "source": [
    "freq = get_top_n_words(df_test[3], 50)"
   ]
  },
  {
   "cell_type": "code",
   "execution_count": null,
   "metadata": {
    "id": "BJeFLKfDu6Y1"
   },
   "outputs": [],
   "source": [
    "freq = [i[0] for i in freq]"
   ]
  },
  {
   "cell_type": "code",
   "execution_count": null,
   "metadata": {
    "id": "6JLKGFGMvUEt"
   },
   "outputs": [],
   "source": [
    "vectorizer = TfidfVectorizer(stop_words=stopWords+freq+list(ENGLISH_STOP_WORDS), ngram_range=(1, 2)).fit(df[3])\n",
    "\n",
    "X_train_vectors = vectorizer.transform(df_train[3])\n",
    "X_test_vectors = vectorizer.transform(df_test[3])"
   ]
  },
  {
   "cell_type": "code",
   "execution_count": null,
   "metadata": {
    "id": "FISONPg9vxP_"
   },
   "outputs": [],
   "source": [
    "clf = BernoulliNB(alpha=0.5).fit(X_train_vectors, df_train[4])"
   ]
  },
  {
   "cell_type": "code",
   "execution_count": null,
   "metadata": {
    "colab": {
     "base_uri": "https://localhost:8080/",
     "height": 51
    },
    "id": "RvtcCT5BvtrS",
    "outputId": "a058aa84-3e01-46a8-a4ee-611ce7e61bc0"
   },
   "outputs": [
    {
     "name": "stdout",
     "output_type": "stream",
     "text": [
      "pos: бля такое болит о_о время люблю новый жаль плохо хочется год делать дома спать знаю буду вообще почему могу блин\n",
      "neg: нам такая такие утро могу год почему дома dd новый ахаха время пока ахах знаю вообще буду всем люблю спасибо\n"
     ]
    }
   ],
   "source": [
    "show_top(clf, vectorizer, 20)"
   ]
  },
  {
   "cell_type": "code",
   "execution_count": null,
   "metadata": {
    "colab": {
     "base_uri": "https://localhost:8080/",
     "height": 104
    },
    "id": "X1nvDbcyvnCL",
    "outputId": "85ac58e7-e3e5-418b-8317-7cf4b3f187cb"
   },
   "outputs": [
    {
     "name": "stdout",
     "output_type": "stream",
     "text": [
      "Fitting 5 folds for each of 30 candidates, totalling 150 fits\n"
     ]
    },
    {
     "name": "stderr",
     "output_type": "stream",
     "text": [
      "[Parallel(n_jobs=-1)]: Using backend LokyBackend with 2 concurrent workers.\n",
      "[Parallel(n_jobs=-1)]: Done  37 tasks      | elapsed:   10.7s\n",
      "[Parallel(n_jobs=-1)]: Done 150 out of 150 | elapsed:   37.6s finished\n"
     ]
    },
    {
     "data": {
      "text/plain": [
       "({'alpha': 2.689655172413793}, 0.7613353634780609)"
      ]
     },
     "execution_count": 316,
     "metadata": {
      "tags": []
     },
     "output_type": "execute_result"
    }
   ],
   "source": [
    "# ComplementNB, MultinomialNB, BernoulliNB, CategoricalNB\n",
    "\n",
    "from sklearn.model_selection import GridSearchCV\n",
    "\n",
    "alg = BernoulliNB()\n",
    "\n",
    "grid = {'alpha': np.array(np.linspace(0, 6, 30), dtype='float'),}\n",
    "\n",
    "gs = GridSearchCV(alg, grid, verbose=2, n_jobs = -1, scoring = 'f1')\n",
    "gs.fit(X_train_vectors, df_train[4])\n",
    "gs.best_params_, gs.best_score_"
   ]
  },
  {
   "cell_type": "code",
   "execution_count": null,
   "metadata": {
    "colab": {
     "base_uri": "https://localhost:8080/",
     "height": 405
    },
    "id": "PdILOWwev5Ip",
    "outputId": "82b406ad-7f35-42ee-f9af-1955a8250d31"
   },
   "outputs": [
    {
     "data": {
      "image/png": "[encoded data removed]",
      "text/plain": [
       "<Figure size 864x432 with 1 Axes>"
      ]
     },
     "metadata": {
      "needs_background": "light",
      "tags": []
     },
     "output_type": "display_data"
    }
   ],
   "source": [
    "# Строим график зависимости качества от числа соседей\n",
    "# замечание: результаты обучения хранятся в атрибуте cv_results_ объекта gs\n",
    "grid_plot(grid['alpha'], gs.cv_results_['mean_test_score'], 'n_neighbors', 'BernoulliNB')"
   ]
  },
  {
   "cell_type": "code",
   "execution_count": null,
   "metadata": {
    "colab": {
     "base_uri": "https://localhost:8080/",
     "height": 1000
    },
    "id": "ZgiITi1twTt8",
    "outputId": "3476c89d-b70d-4645-bad7-79acb465e989"
   },
   "outputs": [
    {
     "data": {
      "text/plain": [
       "['и',\n",
       " 'в',\n",
       " 'во',\n",
       " 'не',\n",
       " 'что',\n",
       " 'он',\n",
       " 'на',\n",
       " 'я',\n",
       " 'с',\n",
       " 'со',\n",
       " 'как',\n",
       " 'а',\n",
       " 'то',\n",
       " 'все',\n",
       " 'она',\n",
       " 'так',\n",
       " 'его',\n",
       " 'но',\n",
       " 'да',\n",
       " 'ты',\n",
       " 'к',\n",
       " 'у',\n",
       " 'же',\n",
       " 'вы',\n",
       " 'за',\n",
       " 'бы',\n",
       " 'по',\n",
       " 'только',\n",
       " 'ее',\n",
       " 'мне',\n",
       " 'было',\n",
       " 'вот',\n",
       " 'от',\n",
       " 'меня',\n",
       " 'еще',\n",
       " 'нет',\n",
       " 'о',\n",
       " 'из',\n",
       " 'ему',\n",
       " 'теперь',\n",
       " 'когда',\n",
       " 'даже',\n",
       " 'ну',\n",
       " 'вдруг',\n",
       " 'ли',\n",
       " 'если',\n",
       " 'уже',\n",
       " 'или',\n",
       " 'ни',\n",
       " 'быть',\n",
       " 'был',\n",
       " 'него',\n",
       " 'до',\n",
       " 'вас',\n",
       " 'нибудь',\n",
       " 'опять',\n",
       " 'уж',\n",
       " 'вам',\n",
       " 'ведь',\n",
       " 'там',\n",
       " 'потом',\n",
       " 'себя',\n",
       " 'ничего',\n",
       " 'ей',\n",
       " 'может',\n",
       " 'они',\n",
       " 'тут',\n",
       " 'где',\n",
       " 'есть',\n",
       " 'надо',\n",
       " 'ней',\n",
       " 'для',\n",
       " 'мы',\n",
       " 'тебя',\n",
       " 'их',\n",
       " 'чем',\n",
       " 'была',\n",
       " 'сам',\n",
       " 'чтоб',\n",
       " 'без',\n",
       " 'будто',\n",
       " 'чего',\n",
       " 'раз',\n",
       " 'тоже',\n",
       " 'себе',\n",
       " 'под',\n",
       " 'будет',\n",
       " 'ж',\n",
       " 'тогда',\n",
       " 'кто',\n",
       " 'этот',\n",
       " 'того',\n",
       " 'потому',\n",
       " 'этого',\n",
       " 'какой',\n",
       " 'совсем',\n",
       " 'ним',\n",
       " 'здесь',\n",
       " 'этом',\n",
       " 'один',\n",
       " 'почти',\n",
       " 'мой',\n",
       " 'тем',\n",
       " 'чтобы',\n",
       " 'нее',\n",
       " 'сейчас',\n",
       " 'были',\n",
       " 'куда',\n",
       " 'зачем',\n",
       " 'всех',\n",
       " 'никогда',\n",
       " 'можно',\n",
       " 'при',\n",
       " 'наконец',\n",
       " 'два',\n",
       " 'об',\n",
       " 'другой',\n",
       " 'хоть',\n",
       " 'после',\n",
       " 'над',\n",
       " 'больше',\n",
       " 'тот',\n",
       " 'через',\n",
       " 'эти',\n",
       " 'нас',\n",
       " 'про',\n",
       " 'всего',\n",
       " 'них',\n",
       " 'какая',\n",
       " 'много',\n",
       " 'разве',\n",
       " 'три',\n",
       " 'эту',\n",
       " 'моя',\n",
       " 'впрочем',\n",
       " 'хорошо',\n",
       " 'свою',\n",
       " 'этой',\n",
       " 'перед',\n",
       " 'иногда',\n",
       " 'лучше',\n",
       " 'чуть',\n",
       " 'том',\n",
       " 'нельзя',\n",
       " 'такой',\n",
       " 'им',\n",
       " 'более',\n",
       " 'всегда',\n",
       " 'конечно',\n",
       " 'всю',\n",
       " 'между']"
      ]
     },
     "execution_count": 318,
     "metadata": {
      "tags": []
     },
     "output_type": "execute_result"
    }
   ],
   "source": [
    "stopWords"
   ]
  },
  {
   "cell_type": "code",
   "execution_count": null,
   "metadata": {
    "id": "_IGt7E3sv69I"
   },
   "outputs": [],
   "source": [
    "from nltk.stem.snowball import SnowballStemmer\n",
    "stem = SnowballStemmer(\"russian\")"
   ]
  },
  {
   "cell_type": "code",
   "execution_count": null,
   "metadata": {
    "id": "MMB0L7AzxWkQ"
   },
   "outputs": [],
   "source": [
    "from tqdm import tqdm\n",
    "\n",
    "for i in tqdm(range(20))"
   ]
  },
  {
   "cell_type": "code",
   "execution_count": null,
   "metadata": {
    "id": "fQ1hBM11wkVY"
   },
   "outputs": [],
   "source": [
    "def preprocess(doc):\n",
    "    doc = doc.split()\n",
    "    doc = [stem.stem(word) for word in doc]\n",
    "    doc = ' '.join(doc)\n",
    "    return doc\n",
    "\n",
    "df[3] = df[3].map(preprocess)"
   ]
  },
  {
   "cell_type": "code",
   "execution_count": null,
   "metadata": {
    "colab": {
     "base_uri": "https://localhost:8080/",
     "height": 414
    },
    "id": "5FkXBGV6wpEH",
    "outputId": "9e7e6b89-16bd-4bd4-8d62-d6fdb2f045a6"
   },
   "outputs": [
    {
     "data": {
      "text/html": [
       "<div>\n",
       "<style scoped>\n",
       "    .dataframe tbody tr th:only-of-type {\n",
       "        vertical-align: middle;\n",
       "    }\n",
       "\n",
       "    .dataframe tbody tr th {\n",
       "        vertical-align: top;\n",
       "    }\n",
       "\n",
       "    .dataframe thead th {\n",
       "        text-align: right;\n",
       "    }\n",
       "</style>\n",
       "<table border=\"1\" class=\"dataframe\">\n",
       "  <thead>\n",
       "    <tr style=\"text-align: right;\">\n",
       "      <th></th>\n",
       "      <th>0</th>\n",
       "      <th>1</th>\n",
       "      <th>2</th>\n",
       "      <th>3</th>\n",
       "      <th>4</th>\n",
       "      <th>5</th>\n",
       "      <th>6</th>\n",
       "      <th>7</th>\n",
       "      <th>8</th>\n",
       "      <th>9</th>\n",
       "      <th>10</th>\n",
       "      <th>11</th>\n",
       "    </tr>\n",
       "  </thead>\n",
       "  <tbody>\n",
       "    <tr>\n",
       "      <th>0</th>\n",
       "      <td>413662489831018496</td>\n",
       "      <td>1387459797</td>\n",
       "      <td>rachel___rachel</td>\n",
       "      <td>ващет ты мне прост ссылк на аск кинула+((( — ч...</td>\n",
       "      <td>-1</td>\n",
       "      <td>0</td>\n",
       "      <td>0</td>\n",
       "      <td>0</td>\n",
       "      <td>58718</td>\n",
       "      <td>674</td>\n",
       "      <td>276</td>\n",
       "      <td>19</td>\n",
       "    </tr>\n",
       "    <tr>\n",
       "      <th>1</th>\n",
       "      <td>410080544652005376</td>\n",
       "      <td>1386605795</td>\n",
       "      <td>Natali_Gortseva</td>\n",
       "      <td>круто, когд пап слуша музыку, котор нрав мне)))</td>\n",
       "      <td>1</td>\n",
       "      <td>0</td>\n",
       "      <td>0</td>\n",
       "      <td>0</td>\n",
       "      <td>1340</td>\n",
       "      <td>49</td>\n",
       "      <td>42</td>\n",
       "      <td>0</td>\n",
       "    </tr>\n",
       "    <tr>\n",
       "      <th>2</th>\n",
       "      <td>410865067161571328</td>\n",
       "      <td>1386792840</td>\n",
       "      <td>lolotrololo</td>\n",
       "      <td>@djritua смотр футбол, игра в GTA, твитишь? :)</td>\n",
       "      <td>1</td>\n",
       "      <td>0</td>\n",
       "      <td>0</td>\n",
       "      <td>0</td>\n",
       "      <td>27055</td>\n",
       "      <td>378</td>\n",
       "      <td>94</td>\n",
       "      <td>29</td>\n",
       "    </tr>\n",
       "    <tr>\n",
       "      <th>3</th>\n",
       "      <td>409088152503336961</td>\n",
       "      <td>1386369190</td>\n",
       "      <td>aliinamalinaa</td>\n",
       "      <td>@b0n1q (((( крид, тогд получш будет ахах</td>\n",
       "      <td>-1</td>\n",
       "      <td>0</td>\n",
       "      <td>0</td>\n",
       "      <td>0</td>\n",
       "      <td>3610</td>\n",
       "      <td>116</td>\n",
       "      <td>56</td>\n",
       "      <td>0</td>\n",
       "    </tr>\n",
       "    <tr>\n",
       "      <th>4</th>\n",
       "      <td>424875442051776512</td>\n",
       "      <td>1390133173</td>\n",
       "      <td>KarinaBalashova</td>\n",
       "      <td>крииис сестраа , я хоч к теб в питееер ; (</td>\n",
       "      <td>-1</td>\n",
       "      <td>0</td>\n",
       "      <td>0</td>\n",
       "      <td>0</td>\n",
       "      <td>3444</td>\n",
       "      <td>36</td>\n",
       "      <td>37</td>\n",
       "      <td>1</td>\n",
       "    </tr>\n",
       "    <tr>\n",
       "      <th>...</th>\n",
       "      <td>...</td>\n",
       "      <td>...</td>\n",
       "      <td>...</td>\n",
       "      <td>...</td>\n",
       "      <td>...</td>\n",
       "      <td>...</td>\n",
       "      <td>...</td>\n",
       "      <td>...</td>\n",
       "      <td>...</td>\n",
       "      <td>...</td>\n",
       "      <td>...</td>\n",
       "      <td>...</td>\n",
       "    </tr>\n",
       "    <tr>\n",
       "      <th>226829</th>\n",
       "      <td>410047082888978432</td>\n",
       "      <td>1386597817</td>\n",
       "      <td>___lermaniac___</td>\n",
       "      <td>для одноклассник грех не рассмотрет мо дневник...</td>\n",
       "      <td>1</td>\n",
       "      <td>0</td>\n",
       "      <td>0</td>\n",
       "      <td>0</td>\n",
       "      <td>11984</td>\n",
       "      <td>537</td>\n",
       "      <td>422</td>\n",
       "      <td>6</td>\n",
       "    </tr>\n",
       "    <tr>\n",
       "      <th>226830</th>\n",
       "      <td>409425297759408128</td>\n",
       "      <td>1386449572</td>\n",
       "      <td>rinata_sha</td>\n",
       "      <td>ну кто лооох? - написа -был 15 минут назад ска...</td>\n",
       "      <td>1</td>\n",
       "      <td>0</td>\n",
       "      <td>0</td>\n",
       "      <td>0</td>\n",
       "      <td>2360</td>\n",
       "      <td>69</td>\n",
       "      <td>83</td>\n",
       "      <td>0</td>\n",
       "    </tr>\n",
       "    <tr>\n",
       "      <th>226831</th>\n",
       "      <td>415187764464742400</td>\n",
       "      <td>1387823451</td>\n",
       "      <td>IrinaSuslonova</td>\n",
       "      <td>так не хотел расставаться... но пришлось.. обс...</td>\n",
       "      <td>-1</td>\n",
       "      <td>0</td>\n",
       "      <td>0</td>\n",
       "      <td>0</td>\n",
       "      <td>416</td>\n",
       "      <td>25</td>\n",
       "      <td>12</td>\n",
       "      <td>0</td>\n",
       "    </tr>\n",
       "    <tr>\n",
       "      <th>226832</th>\n",
       "      <td>410780245068115969</td>\n",
       "      <td>1386772617</td>\n",
       "      <td>jullyrob</td>\n",
       "      <td>@MOPEKPEBETOK эт фотк ты тож просила, я помню!...</td>\n",
       "      <td>1</td>\n",
       "      <td>0</td>\n",
       "      <td>0</td>\n",
       "      <td>0</td>\n",
       "      <td>30616</td>\n",
       "      <td>145</td>\n",
       "      <td>115</td>\n",
       "      <td>3</td>\n",
       "    </tr>\n",
       "    <tr>\n",
       "      <th>226833</th>\n",
       "      <td>408925443870310401</td>\n",
       "      <td>1386330397</td>\n",
       "      <td>nastia_fap</td>\n",
       "      <td>кристин ест пюр с сосиск и прос что бы я сфотк...</td>\n",
       "      <td>1</td>\n",
       "      <td>0</td>\n",
       "      <td>0</td>\n",
       "      <td>0</td>\n",
       "      <td>2700</td>\n",
       "      <td>42</td>\n",
       "      <td>30</td>\n",
       "      <td>0</td>\n",
       "    </tr>\n",
       "  </tbody>\n",
       "</table>\n",
       "<p>226834 rows × 12 columns</p>\n",
       "</div>"
      ],
      "text/plain": [
       "                        0           1                2   ...   9    10  11\n",
       "0       413662489831018496  1387459797  rachel___rachel  ...  674  276  19\n",
       "1       410080544652005376  1386605795  Natali_Gortseva  ...   49   42   0\n",
       "2       410865067161571328  1386792840      lolotrololo  ...  378   94  29\n",
       "3       409088152503336961  1386369190    aliinamalinaa  ...  116   56   0\n",
       "4       424875442051776512  1390133173  KarinaBalashova  ...   36   37   1\n",
       "...                    ...         ...              ...  ...  ...  ...  ..\n",
       "226829  410047082888978432  1386597817  ___lermaniac___  ...  537  422   6\n",
       "226830  409425297759408128  1386449572       rinata_sha  ...   69   83   0\n",
       "226831  415187764464742400  1387823451   IrinaSuslonova  ...   25   12   0\n",
       "226832  410780245068115969  1386772617         jullyrob  ...  145  115   3\n",
       "226833  408925443870310401  1386330397       nastia_fap  ...   42   30   0\n",
       "\n",
       "[226834 rows x 12 columns]"
      ]
     },
     "execution_count": 310,
     "metadata": {
      "tags": []
     },
     "output_type": "execute_result"
    }
   ],
   "source": [
    "df"
   ]
  },
  {
   "cell_type": "code",
   "execution_count": null,
   "metadata": {
    "id": "vgQ6deFew0BP"
   },
   "outputs": [],
   "source": []
  }
 ],
 "metadata": {
  "colab": {
   "collapsed_sections": [],
   "name": "Наивный_Байес.ipynb",
   "provenance": [],
   "toc_visible": true
  },
  "kernelspec": {
   "display_name": "Python 3 (ipykernel)",
   "language": "python",
   "name": "python3"
  },
  "language_info": {
   "codemirror_mode": {
    "name": "ipython",
    "version": 3
   },
   "file_extension": ".py",
   "mimetype": "text/x-python",
   "name": "python",
   "nbconvert_exporter": "python",
   "pygments_lexer": "ipython3",
   "version": "3.9.16"
  }
 },
 "nbformat": 4,
 "nbformat_minor": 1
}
