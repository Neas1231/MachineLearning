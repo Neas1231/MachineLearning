{
 "cells": [
  {
   "cell_type": "code",
   "execution_count": 14,
   "id": "327681b9",
   "metadata": {},
   "outputs": [
    {
     "name": "stdout",
     "output_type": "stream",
     "text": [
      "8\n"
     ]
    },
    {
     "ename": "IndexError",
     "evalue": "list index out of range",
     "output_type": "error",
     "traceback": [
      "\u001b[1;31m---------------------------------------------------------------------------\u001b[0m",
      "\u001b[1;31mIndexError\u001b[0m                                Traceback (most recent call last)",
      "Cell \u001b[1;32mIn[14], line 60\u001b[0m\n\u001b[0;32m     57\u001b[0m \u001b[38;5;28;01mfor\u001b[39;00m i \u001b[38;5;129;01min\u001b[39;00m \u001b[38;5;28mrange\u001b[39m(\u001b[38;5;28mlen\u001b[39m(reduct)\u001b[38;5;241m-\u001b[39m\u001b[38;5;241m1\u001b[39m):\n\u001b[0;32m     58\u001b[0m     \u001b[38;5;28;01mfor\u001b[39;00m i_next \u001b[38;5;129;01min\u001b[39;00m \u001b[38;5;28mrange\u001b[39m(\u001b[38;5;241m1\u001b[39m,\u001b[38;5;28mlen\u001b[39m(reduct)):\n\u001b[1;32m---> 60\u001b[0m         new_num \u001b[38;5;241m=\u001b[39m reduct[i]\u001b[38;5;241m*\u001b[39m\u001b[43mreduct\u001b[49m\u001b[43m[\u001b[49m\u001b[43mi_next\u001b[49m\u001b[43m]\u001b[49m\n\u001b[0;32m     62\u001b[0m         \u001b[38;5;28;01mif\u001b[39;00m \u001b[38;5;28mlen\u001b[39m(\u001b[38;5;28mstr\u001b[39m(new_num)) \u001b[38;5;241m==\u001b[39m \u001b[38;5;241m1\u001b[39m:\n\u001b[0;32m     64\u001b[0m             new_mass\u001b[38;5;241m.\u001b[39mappend(new_num)\n",
      "\u001b[1;31mIndexError\u001b[0m: list index out of range"
     ]
    }
   ],
   "source": [
    "A = int(input())\n",
    "\n",
    "B = \"\"\n",
    "\n",
    "def is_prime(num):\n",
    "    div = 1\n",
    "    while num % div != 0:\n",
    "        div += 1\n",
    "    if div == num:\n",
    "        return True\n",
    "    else:\n",
    "        return False\n",
    "\n",
    "if is_prime(A): # Проверка на простые числа\n",
    "    print('лимитированная партия')\n",
    "else:\n",
    "    # Нахождение числа B\n",
    "    global nums\n",
    "    nums = []\n",
    "    def B_number(A): \n",
    "        div = 2\n",
    "        while A % div != 0:\n",
    "            div += 1\n",
    "        nums.append(div)\n",
    "        return A//div\n",
    "\n",
    "    for i in range(6):\n",
    "        if A != 1:\n",
    "            A = B_number(A)\n",
    "        else:\n",
    "            break\n",
    "    #---------------------------------------\n",
    "    # Проверяем существует ли А с однозначными числами\n",
    "    check = [len(str(i)) for i in nums]\n",
    "    if max(check) > 1:\n",
    "        print('лимитированная партия')\n",
    "    else:\n",
    "        # Находим числа которые можно сократить для нахождения минимального(reduct)\n",
    "        global reduct\n",
    "        reduct = []\n",
    "        def compare(num):\n",
    "            if num < 5 and num > 1:\n",
    "                reduct.append(num) # Нахождение\n",
    "            else:\n",
    "                return num # Фильтрация списка nums\n",
    "        nums = [i for i in map(compare,nums)]\n",
    "        # Нахождение чисел оставшихся после поиска сокращений\n",
    "        def is_dig(num):\n",
    "            return num.isdigit()\n",
    "        def find_numbers_list(arr):\n",
    "            arr = [str(i) for i in arr]\n",
    "            arr = [i for i in map(is_dig,arr)]\n",
    "            arr = [i for i, x in enumerate(arr) if x]\n",
    "            return arr\n",
    "        nums = [nums[i] for i in find_numbers_list(nums)]\n",
    "        new_mass = []\n",
    "        for i in range(len(reduct)-1):\n",
    "            for i_next in range(1,len(reduct)):\n",
    "        \n",
    "                new_num = reduct[i]*reduct[i_next]\n",
    "        \n",
    "                if len(str(new_num)) == 1:\n",
    "            \n",
    "                    new_mass.append(new_num)\n",
    "\n",
    "                    reduct.pop(i_next)\n",
    "                    reduct.pop(i)\n",
    "            break\n",
    "            \n",
    "        reduct.extend(new_mass)\n",
    "        reduct.extend(nums)\n",
    "        B = int(''.join([str(i) for i in reduct]))\n",
    "\n",
    "print(B)"
   ]
  },
  {
   "cell_type": "code",
   "execution_count": 256,
   "id": "3a7af3ae",
   "metadata": {},
   "outputs": [
    {
     "name": "stdout",
     "output_type": "stream",
     "text": [
      "11\n",
      "лимитированная партия\n"
     ]
    }
   ],
   "source": [
    "A = int(input())\n",
    "\n",
    "B = \"\"\n",
    "\n",
    "res = ''\n",
    "a = A\n",
    "for i in range(9, 2-1, -1):\n",
    "    while a % i == 0:\n",
    "        res += str(i)\n",
    "        a //= i\n",
    "B = 'лимитированная партия' if a != 1 else int(''.join(sorted(res))) if res else 1\n",
    "\n",
    "print(B)"
   ]
  },
  {
   "cell_type": "code",
   "execution_count": 211,
   "id": "4a3bbb1a",
   "metadata": {},
   "outputs": [
    {
     "name": "stdout",
     "output_type": "stream",
     "text": [
      "[2]\n",
      "[2, 2]\n",
      "[2, 2, 2]\n",
      "[2, 2, 2, 7]\n"
     ]
    }
   ],
   "source": [
    "global nums\n",
    "nums = []\n",
    "def B_number(A):\n",
    "    div = 2\n",
    "    while A % div != 0:\n",
    "        div += 1\n",
    "    nums.append(div)\n",
    "    print(nums)\n",
    "    return A//div\n",
    "A = 56\n",
    "for i in range(6):\n",
    "    if A != 1:\n",
    "        A = B_number(A)\n",
    "    else:\n",
    "        break\n",
    "        "
   ]
  },
  {
   "cell_type": "code",
   "execution_count": 212,
   "id": "3c734b44",
   "metadata": {},
   "outputs": [
    {
     "data": {
      "text/plain": [
       "1"
      ]
     },
     "execution_count": 212,
     "metadata": {},
     "output_type": "execute_result"
    }
   ],
   "source": [
    "A"
   ]
  },
  {
   "cell_type": "code",
   "execution_count": 213,
   "id": "cee863ce",
   "metadata": {},
   "outputs": [
    {
     "data": {
      "text/plain": [
       "1"
      ]
     },
     "execution_count": 213,
     "metadata": {},
     "output_type": "execute_result"
    }
   ],
   "source": [
    "check = [len(str(i)) for i in nums]\n",
    "max(check)"
   ]
  },
  {
   "cell_type": "code",
   "execution_count": 214,
   "id": "23a84e9f",
   "metadata": {},
   "outputs": [
    {
     "data": {
      "text/plain": [
       "[2, 2, 2, 7]"
      ]
     },
     "execution_count": 214,
     "metadata": {},
     "output_type": "execute_result"
    }
   ],
   "source": [
    "nums"
   ]
  },
  {
   "cell_type": "code",
   "execution_count": 215,
   "id": "e5de3214",
   "metadata": {},
   "outputs": [],
   "source": [
    "global reduct\n",
    "reduct = []\n",
    "def compare(num):\n",
    "    if num < 5:\n",
    "        reduct.append(num)\n",
    "    else:\n",
    "        return num"
   ]
  },
  {
   "cell_type": "code",
   "execution_count": 216,
   "id": "ac12b975",
   "metadata": {},
   "outputs": [
    {
     "data": {
      "text/plain": [
       "[None, None, None, 7]"
      ]
     },
     "execution_count": 216,
     "metadata": {},
     "output_type": "execute_result"
    }
   ],
   "source": [
    "nums = [i for i in map(compare,nums)]\n",
    "nums"
   ]
  },
  {
   "cell_type": "code",
   "execution_count": 217,
   "id": "fcc8e1db",
   "metadata": {},
   "outputs": [],
   "source": [
    "def is_dig(num):\n",
    "    return num.isdigit()\n",
    "def find_numbers_list(arr):\n",
    "    arr = [str(i) for i in arr]\n",
    "    arr = [i for i in map(is_dig,arr)]\n",
    "    arr = [i for i, x in enumerate(arr) if x]\n",
    "    return arr"
   ]
  },
  {
   "cell_type": "code",
   "execution_count": 218,
   "id": "2c8df452",
   "metadata": {},
   "outputs": [],
   "source": [
    "nums = [nums[i] for i in find_numbers_list(nums)]"
   ]
  },
  {
   "cell_type": "code",
   "execution_count": 219,
   "id": "332894d4",
   "metadata": {},
   "outputs": [
    {
     "data": {
      "text/plain": [
       "3"
      ]
     },
     "execution_count": 219,
     "metadata": {},
     "output_type": "execute_result"
    }
   ],
   "source": [
    "len(reduct)"
   ]
  },
  {
   "cell_type": "code",
   "execution_count": 220,
   "id": "f130ac52",
   "metadata": {},
   "outputs": [
    {
     "data": {
      "text/plain": [
       "[2, 2, 2]"
      ]
     },
     "execution_count": 220,
     "metadata": {},
     "output_type": "execute_result"
    }
   ],
   "source": [
    "reduct"
   ]
  },
  {
   "cell_type": "code",
   "execution_count": 221,
   "id": "4f7e3258",
   "metadata": {},
   "outputs": [],
   "source": [
    "new_mass = []\n",
    "for i in range(len(reduct)-1):\n",
    "    for i_next in range(1,len(reduct)):\n",
    "        \n",
    "        new_num = reduct[i]*reduct[i_next]\n",
    "        \n",
    "        if len(str(new_num)) == 1:\n",
    "            \n",
    "            new_mass.append(new_num)\n",
    "\n",
    "            reduct.pop(i_next)\n",
    "            reduct.pop(i)\n",
    "\n",
    "        break   "
   ]
  },
  {
   "cell_type": "code",
   "execution_count": 224,
   "id": "a208bcb5",
   "metadata": {},
   "outputs": [
    {
     "data": {
      "text/plain": [
       "[2, 4, 7]"
      ]
     },
     "execution_count": 224,
     "metadata": {},
     "output_type": "execute_result"
    }
   ],
   "source": [
    "reduct.extend(new_mass)\n",
    "reduct.extend(nums)\n",
    "reduct"
   ]
  },
  {
   "cell_type": "code",
   "execution_count": 225,
   "id": "81814377",
   "metadata": {},
   "outputs": [
    {
     "data": {
      "text/plain": [
       "'247'"
      ]
     },
     "execution_count": 225,
     "metadata": {},
     "output_type": "execute_result"
    }
   ],
   "source": [
    "''.join([str(i) for i in reduct])"
   ]
  },
  {
   "cell_type": "code",
   "execution_count": 247,
   "id": "9eade6f8",
   "metadata": {},
   "outputs": [
    {
     "name": "stdout",
     "output_type": "stream",
     "text": [
      "a = 19\n",
      "-1\n"
     ]
    }
   ],
   "source": [
    "res = ''\n",
    "a = int(input('a = '))\n",
    "for i in range(9, 2-1, -1):\n",
    "    while a % i == 0:\n",
    "        res += str(i)\n",
    "        a //= i\n",
    "print(-1 if a != 1 else int(''.join(sorted(res))) if res else 1)\n"
   ]
  },
  {
   "cell_type": "code",
   "execution_count": 18,
   "id": "ca402133",
   "metadata": {},
   "outputs": [
    {
     "name": "stdout",
     "output_type": "stream",
     "text": [
      "1\n",
      "2\n",
      "3\n",
      "4\n",
      "5\n",
      "6\n",
      "7\n",
      "8\n",
      "9\n",
      "25\n",
      "лимитированная партия\n",
      "\n"
     ]
    },
    {
     "ename": "IndexError",
     "evalue": "list index out of range",
     "output_type": "error",
     "traceback": [
      "\u001b[1;31m---------------------------------------------------------------------------\u001b[0m",
      "\u001b[1;31mIndexError\u001b[0m                                Traceback (most recent call last)",
      "Cell \u001b[1;32mIn[18], line 63\u001b[0m\n\u001b[0;32m     60\u001b[0m \u001b[38;5;28;01mfor\u001b[39;00m i \u001b[38;5;129;01min\u001b[39;00m \u001b[38;5;28mrange\u001b[39m(\u001b[38;5;28mlen\u001b[39m(reduct)\u001b[38;5;241m-\u001b[39m\u001b[38;5;241m1\u001b[39m):\n\u001b[0;32m     61\u001b[0m     \u001b[38;5;28;01mfor\u001b[39;00m i_next \u001b[38;5;129;01min\u001b[39;00m \u001b[38;5;28mrange\u001b[39m(\u001b[38;5;241m1\u001b[39m,\u001b[38;5;28mlen\u001b[39m(reduct)):\n\u001b[1;32m---> 63\u001b[0m         new_num \u001b[38;5;241m=\u001b[39m reduct[i]\u001b[38;5;241m*\u001b[39m\u001b[43mreduct\u001b[49m\u001b[43m[\u001b[49m\u001b[43mi_next\u001b[49m\u001b[43m]\u001b[49m\n\u001b[0;32m     65\u001b[0m         \u001b[38;5;28;01mif\u001b[39;00m \u001b[38;5;28mlen\u001b[39m(\u001b[38;5;28mstr\u001b[39m(new_num)) \u001b[38;5;241m==\u001b[39m \u001b[38;5;241m1\u001b[39m:\n\u001b[0;32m     67\u001b[0m             new_mass\u001b[38;5;241m.\u001b[39mappend(new_num)\n",
      "\u001b[1;31mIndexError\u001b[0m: list index out of range"
     ]
    }
   ],
   "source": [
    "#A = int(input())\n",
    "for A in range(1,1000):\n",
    "    B = \"\"\n",
    "    if len(str(A)) == 1:\n",
    "        print(A)\n",
    "    else:\n",
    "        def is_prime(num):\n",
    "            div = 1\n",
    "            while num % div != 0:\n",
    "                div += 1\n",
    "            if div == num:\n",
    "                return True\n",
    "            else:\n",
    "                return False\n",
    "\n",
    "        if is_prime(A): # Проверка на простые числа\n",
    "            print('лимитированная партия')\n",
    "        else:\n",
    "            # Нахождение числа B\n",
    "            global nums\n",
    "            nums = []\n",
    "            def B_number(A): \n",
    "                div = 2\n",
    "                while A % div != 0:\n",
    "                    div += 1\n",
    "                nums.append(div)\n",
    "                return A//div\n",
    "\n",
    "            for i in range(6):\n",
    "                if A != 1:\n",
    "                    A = B_number(A)\n",
    "                else:\n",
    "                    break\n",
    "            #---------------------------------------\n",
    "            # Проверяем существует ли А с однозначными числами\n",
    "            check = [len(str(i)) for i in nums]\n",
    "            if max(check) > 1:\n",
    "                print('лимитированная партия')\n",
    "            else:\n",
    "                # Находим числа которые можно сократить для нахождения минимального(reduct)\n",
    "                global reduct\n",
    "                reduct = []\n",
    "                def compare(num):\n",
    "                    if num < 5 and num > 1:\n",
    "                        reduct.append(num) # Нахождение\n",
    "                    else:\n",
    "                        return num # Фильтрация списка nums\n",
    "                nums = [i for i in map(compare,nums)]\n",
    "                # Нахождение чисел оставшихся после поиска сокращений\n",
    "                def is_dig(num):\n",
    "                    return num.isdigit()\n",
    "                def find_numbers_list(arr):\n",
    "                    arr = [str(i) for i in arr]\n",
    "                    arr = [i for i in map(is_dig,arr)]\n",
    "                    arr = [i for i, x in enumerate(arr) if x]\n",
    "                    return arr\n",
    "                nums = [nums[i] for i in find_numbers_list(nums)]\n",
    "                new_mass = []\n",
    "                for i in range(len(reduct)-1):\n",
    "                    for i_next in range(1,len(reduct)):\n",
    "\n",
    "                        new_num = reduct[i]*reduct[i_next]\n",
    "\n",
    "                        if len(str(new_num)) == 1:\n",
    "\n",
    "                            new_mass.append(new_num)\n",
    "\n",
    "                            reduct.pop(i_next)\n",
    "                            reduct.pop(i)\n",
    "                    break\n",
    "\n",
    "                reduct.extend(new_mass)\n",
    "                reduct.extend(nums)\n",
    "                B = int(''.join([str(i) for i in reduct]))\n",
    "\n",
    "        print(B)"
   ]
  },
  {
   "cell_type": "code",
   "execution_count": null,
   "id": "484b38f9",
   "metadata": {},
   "outputs": [],
   "source": []
  }
 ],
 "metadata": {
  "kernelspec": {
   "display_name": "Python 3 (ipykernel)",
   "language": "python",
   "name": "python3"
  },
  "language_info": {
   "codemirror_mode": {
    "name": "ipython",
    "version": 3
   },
   "file_extension": ".py",
   "mimetype": "text/x-python",
   "name": "python",
   "nbconvert_exporter": "python",
   "pygments_lexer": "ipython3",
   "version": "3.10.9"
  }
 },
 "nbformat": 4,
 "nbformat_minor": 5
}
