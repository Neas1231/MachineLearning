{
 "cells": [
  {
   "cell_type": "code",
   "execution_count": 12,
   "id": "e6c1ef96",
   "metadata": {},
   "outputs": [],
   "source": [
    "import joblib\n",
    "le = joblib.load(r'C:\\Users\\nicka\\label_encoder_city.joblib')"
   ]
  },
  {
   "cell_type": "code",
   "execution_count": 14,
   "id": "2e7216f0",
   "metadata": {},
   "outputs": [
    {
     "data": {
      "text/plain": [
       "array([47])"
      ]
     },
     "execution_count": 14,
     "metadata": {},
     "output_type": "execute_result"
    }
   ],
   "source": [
    "le.transform([\"www\"])"
   ]
  },
  {
   "cell_type": "code",
   "execution_count": 15,
   "id": "20e1c4b6",
   "metadata": {},
   "outputs": [
    {
     "data": {
      "text/plain": [
       "array(['aprelevka', 'balashikha', 'bronnicy', 'chekhov', 'dedovsk',\n",
       "       'dmitrov', 'dolgoprudny', 'domodedovo', 'dubna', 'dzerzhinsky',\n",
       "       'elektrostal', 'fryazino', 'istra', 'ivanteyevka', 'kashira',\n",
       "       'khimki', 'khotkovo', 'klin', 'kolomna', 'korolev', 'kotelniki',\n",
       "       'krasnogorsk', 'likino-dulyovo', 'lobnya', 'losino-petrovskiy',\n",
       "       'lytkarino', 'lyubertsy', 'mytishchi', 'naro-fominsk', 'noginsk',\n",
       "       'odintsovo', 'podolsk', 'pushkino', 'ramenskoye', 'reutov',\n",
       "       'roshal', 'ruza', 'sergiyev-posad', 'serpukhov', 'shchyolkovo',\n",
       "       'solnechnogorsk', 'staraya-kupavna', 'stupino', 'taldom',\n",
       "       'vidnoye', 'volokolamsk', 'voskresensk', 'www', 'yakhroma',\n",
       "       'yegoryevsk', 'zhukovsky', 'zvenigorod'], dtype=object)"
      ]
     },
     "execution_count": 15,
     "metadata": {},
     "output_type": "execute_result"
    }
   ],
   "source": [
    "le.classes_"
   ]
  },
  {
   "cell_type": "code",
   "execution_count": null,
   "id": "d0d28f3b",
   "metadata": {},
   "outputs": [],
   "source": []
  }
 ],
 "metadata": {
  "kernelspec": {
   "display_name": "Python 3 (ipykernel)",
   "language": "python",
   "name": "python3"
  },
  "language_info": {
   "codemirror_mode": {
    "name": "ipython",
    "version": 3
   },
   "file_extension": ".py",
   "mimetype": "text/x-python",
   "name": "python",
   "nbconvert_exporter": "python",
   "pygments_lexer": "ipython3",
   "version": "3.10.9"
  }
 },
 "nbformat": 4,
 "nbformat_minor": 5
}
