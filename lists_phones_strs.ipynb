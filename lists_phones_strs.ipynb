{
 "cells": [
  {
   "cell_type": "code",
   "execution_count": 3,
   "id": "9e7bf421",
   "metadata": {},
   "outputs": [
    {
     "name": "stdout",
     "output_type": "stream",
     "text": [
      "['2', 'dkfgk', 'be', 'asiris', 'be', '1', 'be', 'usisis', 'asiris', 'asiris', 54, 54, 32, '2', 54, '1', 'be', 'usisis', 54, 'be']\n",
      "254\n"
     ]
    }
   ],
   "source": [
    "import random\n",
    "\n",
    "template = [\"1\",\"2\",\"35\",1,32,54,777,\"dkfgk\",\"usisis\",\"asiris\",\"be\"]\n",
    "\n",
    "test = []\n",
    "\n",
    "summ = 0\n",
    "\n",
    "for _ in range(20):\n",
    "    test.append(random.choice(template))\n",
    "\n",
    "print(test)\n",
    "\n",
    "for elem in test:\n",
    "    if type(elem) == int:\n",
    "        summ+=int(elem)\n",
    "    elif elem.isdigit():\n",
    "        summ+=elem\n",
    "\n",
    "    \n"
   ]
  },
  {
   "cell_type": "code",
   "execution_count": 60,
   "id": "853d7015",
   "metadata": {},
   "outputs": [
    {
     "name": "stdout",
     "output_type": "stream",
     "text": [
      "['+6282369100', '84037121840', '83249394736', '+80492011230', '88969471209', '+8281993049', '71063412989', '76283099612', '74209230320', '82464404979']\n"
     ]
    }
   ],
   "source": [
    "template_start = ['8','+','7','+7','+8','']\n",
    "template = ['0',\"1\",\"2\",\"3\",\"4\",'6','7','8','9']\n",
    "\n",
    "\n",
    "phone = []\n",
    "\n",
    "\n",
    "for _ in range(10): # Сколько номеров\n",
    "    phone_num = random.choice(template_start)\n",
    "    for __ in range(10): # Длина номера\n",
    "        phone_num += random.choice(template)\n",
    "    phone.append(phone_num)\n",
    "print(phone)"
   ]
  },
  {
   "cell_type": "code",
   "execution_count": 59,
   "id": "cb69ec6a",
   "metadata": {},
   "outputs": [
    {
     "name": "stdout",
     "output_type": "stream",
     "text": [
      "Wall time: 0 ns\n"
     ]
    }
   ],
   "source": [
    "i = 0\n",
    "for phone_number in phone:\n",
    "    if len(phone_number) == 10:\n",
    "        phone[i] = '+7' + phone[i]\n",
    "\n",
    "    elif len(phone_number) == 11:\n",
    "        phone[i] = '+7' + phone[i][1:]\n",
    "\n",
    "    elif len(phone_number) == 12 and phone[i][:2] != '+7':\n",
    "        phone[i] = '+7' + phone[i][2:] # или phone[i] = phone[i].replace(\"+8\",\"+7\")\n",
    "\n",
    "        \n",
    "    i += 1\n",
    "%time"
   ]
  },
  {
   "cell_type": "code",
   "execution_count": 70,
   "id": "43dd106b",
   "metadata": {},
   "outputs": [],
   "source": [
    "phone = ['+79606317859',\"79606317859\",'9606317859','9804564040','7837837838']"
   ]
  },
  {
   "cell_type": "code",
   "execution_count": 72,
   "id": "fc61be9f",
   "metadata": {},
   "outputs": [
    {
     "name": "stdout",
     "output_type": "stream",
     "text": [
      "['7837837838', '9804564040', '9606317859']\n",
      "['+77837837838', '+79804564040', '+79606317859']\n"
     ]
    }
   ],
   "source": [
    "i = 0\n",
    "right_phone = []\n",
    "temp = []\n",
    "for phone_number in phone:\n",
    "    temp.append(phone[i][-10:])\n",
    "    i += 1\n",
    "\n",
    "temp = list(set(temp)) # Множества 0_0\n",
    "\n",
    "i = 0\n",
    "for phone_number in temp:\n",
    "    right_phone.append('+7' + temp[i])\n",
    "    i += 1\n"
   ]
  },
  {
   "cell_type": "code",
   "execution_count": 16,
   "id": "8055eaee",
   "metadata": {},
   "outputs": [
    {
     "data": {
      "text/plain": [
       "11"
      ]
     },
     "execution_count": 16,
     "metadata": {},
     "output_type": "execute_result"
    }
   ],
   "source": [
    "len(\"11111111111\")"
   ]
  },
  {
   "cell_type": "code",
   "execution_count": 69,
   "id": "094f6eaa",
   "metadata": {},
   "outputs": [
    {
     "data": {
      "text/plain": [
       "'1234567890'"
      ]
     },
     "execution_count": 69,
     "metadata": {},
     "output_type": "execute_result"
    }
   ],
   "source": [
    "\"1111234567890\"[-10:]"
   ]
  },
  {
   "cell_type": "code",
   "execution_count": null,
   "id": "b1037356",
   "metadata": {},
   "outputs": [],
   "source": []
  }
 ],
 "metadata": {
  "kernelspec": {
   "display_name": "Python 3 (ipykernel)",
   "language": "python",
   "name": "python3"
  },
  "language_info": {
   "codemirror_mode": {
    "name": "ipython",
    "version": 3
   },
   "file_extension": ".py",
   "mimetype": "text/x-python",
   "name": "python",
   "nbconvert_exporter": "python",
   "pygments_lexer": "ipython3",
   "version": "3.10.9"
  }
 },
 "nbformat": 4,
 "nbformat_minor": 5
}
