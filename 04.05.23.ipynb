{
 "cells": [
  {
   "cell_type": "code",
   "execution_count": 1,
   "id": "914a1636",
   "metadata": {},
   "outputs": [
    {
     "ename": "IntegrityError",
     "evalue": "UNIQUE constraint failed: film.id",
     "output_type": "error",
     "traceback": [
      "\u001b[1;31m---------------------------------------------------------------------------\u001b[0m",
      "\u001b[1;31mIntegrityError\u001b[0m                            Traceback (most recent call last)",
      "Cell \u001b[1;32mIn[1], line 22\u001b[0m\n\u001b[0;32m      5\u001b[0m cur\u001b[38;5;241m.\u001b[39mexecute(\u001b[38;5;124m'\u001b[39m\u001b[38;5;124mPRAGMA foreign_keys = 1\u001b[39m\u001b[38;5;124m'\u001b[39m)\n\u001b[0;32m      7\u001b[0m \u001b[38;5;66;03m# cur.execute(''' CREATE TABLE film (\u001b[39;00m\n\u001b[0;32m      8\u001b[0m \u001b[38;5;66;03m# id INTEGER PRIMARY KEY,\u001b[39;00m\n\u001b[0;32m      9\u001b[0m \u001b[38;5;66;03m# genre_id INTEGER NOT NULL,\u001b[39;00m\n\u001b[1;32m   (...)\u001b[0m\n\u001b[0;32m     19\u001b[0m \u001b[38;5;66;03m# )\u001b[39;00m\n\u001b[0;32m     20\u001b[0m \u001b[38;5;66;03m# ''')\u001b[39;00m\n\u001b[1;32m---> 22\u001b[0m \u001b[43mcur\u001b[49m\u001b[38;5;241;43m.\u001b[39;49m\u001b[43mexecute\u001b[49m\u001b[43m(\u001b[49m\u001b[38;5;124;43m'\u001b[39;49m\u001b[38;5;124;43mINSERT INTO film (id, name, age, genre_id) VALUES (1,\u001b[39;49m\u001b[38;5;124;43m\"\u001b[39;49m\u001b[38;5;124;43mЯрусский\u001b[39;49m\u001b[38;5;124;43m\"\u001b[39;49m\u001b[38;5;124;43m,2019,4)\u001b[39;49m\u001b[38;5;124;43m'\u001b[39;49m\u001b[43m)\u001b[49m\n",
      "\u001b[1;31mIntegrityError\u001b[0m: UNIQUE constraint failed: film.id"
     ]
    }
   ],
   "source": [
    "import sqlite3\n",
    "\n",
    "con = sqlite3.connect('movi.db')\n",
    "cur = con.cursor()\n",
    "cur.execute('PRAGMA foreign_keys = 1')\n",
    "\n",
    "# cur.execute(''' CREATE TABLE film (\n",
    "# id INTEGER PRIMARY KEY,\n",
    "# genre_id INTEGER NOT NULL,\n",
    "# name TEXT NOT NULL,\n",
    "# age INTEGET NOT NULL,\n",
    "# FOREIGN KEY (genre_id) REFERENCES genre (id)\n",
    "# )\n",
    "# ''')\n",
    "\n",
    "# cur.execute(''' CREATE TABLE genre (\n",
    "# id INTEGER PRIMARY KEY,\n",
    "# name TEXT NOT NULL\n",
    "# )\n",
    "# ''')\n",
    "\n",
    "cur.execute('INSERT INTO film ( name, age, genre_id) VALUES (\"Ярусский\",2019,4)')"
   ]
  },
  {
   "cell_type": "code",
   "execution_count": 11,
   "id": "8043ceb3",
   "metadata": {},
   "outputs": [
    {
     "data": {
      "text/plain": [
       "<sqlite3.Cursor at 0x1af8805b730>"
      ]
     },
     "execution_count": 11,
     "metadata": {},
     "output_type": "execute_result"
    }
   ],
   "source": [
    "cur.execute('INSERT INTO film(name, age, genre_id) VALUES (\"Крутой\", 2019,4)')"
   ]
  },
  {
   "cell_type": "code",
   "execution_count": 3,
   "id": "2c107704",
   "metadata": {},
   "outputs": [],
   "source": [
    "cur.close()\n",
    "con.close()"
   ]
  },
  {
   "cell_type": "code",
   "execution_count": null,
   "id": "7f8fe1f0",
   "metadata": {},
   "outputs": [],
   "source": []
  }
 ],
 "metadata": {
  "kernelspec": {
   "display_name": "Python 3 (ipykernel)",
   "language": "python",
   "name": "python3"
  },
  "language_info": {
   "codemirror_mode": {
    "name": "ipython",
    "version": 3
   },
   "file_extension": ".py",
   "mimetype": "text/x-python",
   "name": "python",
   "nbconvert_exporter": "python",
   "pygments_lexer": "ipython3",
   "version": "3.10.9"
  }
 },
 "nbformat": 4,
 "nbformat_minor": 5
}
