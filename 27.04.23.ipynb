{
 "cells": [
  {
   "cell_type": "code",
   "execution_count": 60,
   "id": "8f7147e2",
   "metadata": {},
   "outputs": [],
   "source": [
    "class LIFO():\n",
    "    def __init__(self, mass):\n",
    "        self.mass = mass\n",
    "    def set_lifo(self,app):\n",
    "        self.mass = [app] + self.mass\n",
    "        return self.mass\n",
    "    def info_lifo(self,cap):\n",
    "        if cap <= len(self.mass):\n",
    "            print(self.mass[:cap])\n",
    "        else:\n",
    "            print(self.mass)\n",
    "    def get_lifo(self,cap):\n",
    "        mass_capped = self.mass[:cap]\n",
    "        print(mass_capped)\n",
    "        self.mass = [i for i in self.mass if i not in mass_capped]\n",
    "        "
   ]
  },
  {
   "cell_type": "code",
   "execution_count": 61,
   "id": "93a068de",
   "metadata": {},
   "outputs": [],
   "source": [
    "x = LIFO([1,2,3,5])"
   ]
  },
  {
   "cell_type": "code",
   "execution_count": 62,
   "id": "696cd1a4",
   "metadata": {},
   "outputs": [
    {
     "data": {
      "text/plain": [
       "[1, 2, 3, 5]"
      ]
     },
     "execution_count": 62,
     "metadata": {},
     "output_type": "execute_result"
    }
   ],
   "source": [
    "x.mass"
   ]
  },
  {
   "cell_type": "code",
   "execution_count": 63,
   "id": "2960f3fd",
   "metadata": {},
   "outputs": [
    {
     "data": {
      "text/plain": [
       "['10 коробов', 1, 2, 3, 5]"
      ]
     },
     "execution_count": 63,
     "metadata": {},
     "output_type": "execute_result"
    }
   ],
   "source": [
    "x.set_lifo('10 коробов')"
   ]
  },
  {
   "cell_type": "code",
   "execution_count": 64,
   "id": "f4a34e73",
   "metadata": {},
   "outputs": [
    {
     "name": "stdout",
     "output_type": "stream",
     "text": [
      "['10 коробов', 1, 2]\n"
     ]
    }
   ],
   "source": [
    "x.info_lifo(3)"
   ]
  },
  {
   "cell_type": "code",
   "execution_count": 65,
   "id": "991e112c",
   "metadata": {},
   "outputs": [
    {
     "name": "stdout",
     "output_type": "stream",
     "text": [
      "['10 коробов', 1, 2]\n"
     ]
    }
   ],
   "source": [
    "x.get_lifo(3)"
   ]
  },
  {
   "cell_type": "code",
   "execution_count": 66,
   "id": "eae5fede",
   "metadata": {},
   "outputs": [
    {
     "data": {
      "text/plain": [
       "[3, 5]"
      ]
     },
     "execution_count": 66,
     "metadata": {},
     "output_type": "execute_result"
    }
   ],
   "source": [
    "x.mass"
   ]
  },
  {
   "cell_type": "code",
   "execution_count": null,
   "id": "42d190fe",
   "metadata": {},
   "outputs": [],
   "source": []
  }
 ],
 "metadata": {
  "kernelspec": {
   "display_name": "Python 3 (ipykernel)",
   "language": "python",
   "name": "python3"
  },
  "language_info": {
   "codemirror_mode": {
    "name": "ipython",
    "version": 3
   },
   "file_extension": ".py",
   "mimetype": "text/x-python",
   "name": "python",
   "nbconvert_exporter": "python",
   "pygments_lexer": "ipython3",
   "version": "3.10.9"
  }
 },
 "nbformat": 4,
 "nbformat_minor": 5
}
