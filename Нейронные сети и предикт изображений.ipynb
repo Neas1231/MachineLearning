{
 "cells": [
  {
   "cell_type": "code",
   "execution_count": 1,
   "metadata": {
    "colab": {
     "base_uri": "https://localhost:8080/"
    },
    "id": "s9yWJrdmHIC-",
    "outputId": "f45b05a2-c61c-4fc6-cf84-e7a142c05a6c"
   },
   "outputs": [
    {
     "name": "stdout",
     "output_type": "stream",
     "text": [
      "2.11.0\n"
     ]
    }
   ],
   "source": [
    "import matplotlib.pyplot as plt\n",
    "import numpy as np\n",
    "import pandas as pd\n",
    "import seaborn as sns\n",
    "\n",
    "import tensorflow as tf\n",
    "\n",
    "from tensorflow import keras\n",
    "from tensorflow.keras import layers\n",
    "from tensorflow.keras.layers.experimental import preprocessing\n",
    "\n",
    "print(tf.__version__)"
   ]
  },
  {
   "cell_type": "markdown",
   "metadata": {
    "id": "mDZl6g7iKnOQ"
   },
   "source": [
    "# Экономичность топлива\n",
    "\n",
    "[Источник данных](https://archive.ics.uci.edu/ml/datasets/auto+mpg)\n",
    "\n",
    "В этом ноутбуке используется классический Auto MPG Dataset и строится модель для прогнозирования экономичности топлива автомобилей конца 1970-х - начала 1980-х годов. Для этого мы предоставим модели описание многих автомобилей того времени. Это описание включает такие атрибуты, как: цилиндры, рабочий объем, мощность и вес."
   ]
  },
  {
   "cell_type": "markdown",
   "metadata": {
    "id": "cw_6fnr1LaZQ"
   },
   "source": [
    "## Подготовка данных"
   ]
  },
  {
   "cell_type": "markdown",
   "metadata": {
    "id": "VTZkBp8_LdbR"
   },
   "source": [
    "### Загрузка"
   ]
  },
  {
   "cell_type": "code",
   "execution_count": 2,
   "metadata": {
    "colab": {
     "base_uri": "https://localhost:8080/",
     "height": 206
    },
    "id": "ffUpjMG_K50o",
    "outputId": "300828ab-42f2-4960-c3f3-4a3fa83929e3"
   },
   "outputs": [
    {
     "data": {
      "text/html": [
       "<div>\n",
       "<style scoped>\n",
       "    .dataframe tbody tr th:only-of-type {\n",
       "        vertical-align: middle;\n",
       "    }\n",
       "\n",
       "    .dataframe tbody tr th {\n",
       "        vertical-align: top;\n",
       "    }\n",
       "\n",
       "    .dataframe thead th {\n",
       "        text-align: right;\n",
       "    }\n",
       "</style>\n",
       "<table border=\"1\" class=\"dataframe\">\n",
       "  <thead>\n",
       "    <tr style=\"text-align: right;\">\n",
       "      <th></th>\n",
       "      <th>MPG</th>\n",
       "      <th>Cylinders</th>\n",
       "      <th>Displacement</th>\n",
       "      <th>Horsepower</th>\n",
       "      <th>Weight</th>\n",
       "      <th>Acceleration</th>\n",
       "      <th>Model Year</th>\n",
       "      <th>Origin</th>\n",
       "    </tr>\n",
       "  </thead>\n",
       "  <tbody>\n",
       "    <tr>\n",
       "      <th>0</th>\n",
       "      <td>18.0</td>\n",
       "      <td>8</td>\n",
       "      <td>307.0</td>\n",
       "      <td>130.0</td>\n",
       "      <td>3504.0</td>\n",
       "      <td>12.0</td>\n",
       "      <td>70</td>\n",
       "      <td>1</td>\n",
       "    </tr>\n",
       "    <tr>\n",
       "      <th>1</th>\n",
       "      <td>15.0</td>\n",
       "      <td>8</td>\n",
       "      <td>350.0</td>\n",
       "      <td>165.0</td>\n",
       "      <td>3693.0</td>\n",
       "      <td>11.5</td>\n",
       "      <td>70</td>\n",
       "      <td>1</td>\n",
       "    </tr>\n",
       "    <tr>\n",
       "      <th>2</th>\n",
       "      <td>18.0</td>\n",
       "      <td>8</td>\n",
       "      <td>318.0</td>\n",
       "      <td>150.0</td>\n",
       "      <td>3436.0</td>\n",
       "      <td>11.0</td>\n",
       "      <td>70</td>\n",
       "      <td>1</td>\n",
       "    </tr>\n",
       "    <tr>\n",
       "      <th>3</th>\n",
       "      <td>16.0</td>\n",
       "      <td>8</td>\n",
       "      <td>304.0</td>\n",
       "      <td>150.0</td>\n",
       "      <td>3433.0</td>\n",
       "      <td>12.0</td>\n",
       "      <td>70</td>\n",
       "      <td>1</td>\n",
       "    </tr>\n",
       "    <tr>\n",
       "      <th>4</th>\n",
       "      <td>17.0</td>\n",
       "      <td>8</td>\n",
       "      <td>302.0</td>\n",
       "      <td>140.0</td>\n",
       "      <td>3449.0</td>\n",
       "      <td>10.5</td>\n",
       "      <td>70</td>\n",
       "      <td>1</td>\n",
       "    </tr>\n",
       "  </tbody>\n",
       "</table>\n",
       "</div>"
      ],
      "text/plain": [
       "    MPG  Cylinders  Displacement  ...  Acceleration  Model Year  Origin\n",
       "0  18.0          8         307.0  ...          12.0          70       1\n",
       "1  15.0          8         350.0  ...          11.5          70       1\n",
       "2  18.0          8         318.0  ...          11.0          70       1\n",
       "3  16.0          8         304.0  ...          12.0          70       1\n",
       "4  17.0          8         302.0  ...          10.5          70       1\n",
       "\n",
       "[5 rows x 8 columns]"
      ]
     },
     "execution_count": 2,
     "metadata": {
      "tags": []
     },
     "output_type": "execute_result"
    }
   ],
   "source": [
    "url = 'http://archive.ics.uci.edu/ml/machine-learning-databases/auto-mpg/auto-mpg.data'\n",
    "column_names = ['MPG', 'Cylinders', 'Displacement', 'Horsepower', 'Weight', 'Acceleration', 'Model Year', 'Origin']\n",
    "\n",
    "raw_dataset = pd.read_csv(url, names=column_names, na_values='?', comment='\\t', sep=' ', skipinitialspace=True)\n",
    "raw_dataset.head()"
   ]
  },
  {
   "cell_type": "code",
   "execution_count": 3,
   "metadata": {
    "colab": {
     "base_uri": "https://localhost:8080/",
     "height": 206
    },
    "id": "clbYO1tfLUDx",
    "outputId": "a4f9456e-a8c7-4acf-8355-9850b7a44632"
   },
   "outputs": [
    {
     "data": {
      "text/html": [
       "<div>\n",
       "<style scoped>\n",
       "    .dataframe tbody tr th:only-of-type {\n",
       "        vertical-align: middle;\n",
       "    }\n",
       "\n",
       "    .dataframe tbody tr th {\n",
       "        vertical-align: top;\n",
       "    }\n",
       "\n",
       "    .dataframe thead th {\n",
       "        text-align: right;\n",
       "    }\n",
       "</style>\n",
       "<table border=\"1\" class=\"dataframe\">\n",
       "  <thead>\n",
       "    <tr style=\"text-align: right;\">\n",
       "      <th></th>\n",
       "      <th>MPG</th>\n",
       "      <th>Cylinders</th>\n",
       "      <th>Displacement</th>\n",
       "      <th>Horsepower</th>\n",
       "      <th>Weight</th>\n",
       "      <th>Acceleration</th>\n",
       "      <th>Model Year</th>\n",
       "      <th>Origin</th>\n",
       "    </tr>\n",
       "  </thead>\n",
       "  <tbody>\n",
       "    <tr>\n",
       "      <th>393</th>\n",
       "      <td>27.0</td>\n",
       "      <td>4</td>\n",
       "      <td>140.0</td>\n",
       "      <td>86.0</td>\n",
       "      <td>2790.0</td>\n",
       "      <td>15.6</td>\n",
       "      <td>82</td>\n",
       "      <td>1</td>\n",
       "    </tr>\n",
       "    <tr>\n",
       "      <th>394</th>\n",
       "      <td>44.0</td>\n",
       "      <td>4</td>\n",
       "      <td>97.0</td>\n",
       "      <td>52.0</td>\n",
       "      <td>2130.0</td>\n",
       "      <td>24.6</td>\n",
       "      <td>82</td>\n",
       "      <td>2</td>\n",
       "    </tr>\n",
       "    <tr>\n",
       "      <th>395</th>\n",
       "      <td>32.0</td>\n",
       "      <td>4</td>\n",
       "      <td>135.0</td>\n",
       "      <td>84.0</td>\n",
       "      <td>2295.0</td>\n",
       "      <td>11.6</td>\n",
       "      <td>82</td>\n",
       "      <td>1</td>\n",
       "    </tr>\n",
       "    <tr>\n",
       "      <th>396</th>\n",
       "      <td>28.0</td>\n",
       "      <td>4</td>\n",
       "      <td>120.0</td>\n",
       "      <td>79.0</td>\n",
       "      <td>2625.0</td>\n",
       "      <td>18.6</td>\n",
       "      <td>82</td>\n",
       "      <td>1</td>\n",
       "    </tr>\n",
       "    <tr>\n",
       "      <th>397</th>\n",
       "      <td>31.0</td>\n",
       "      <td>4</td>\n",
       "      <td>119.0</td>\n",
       "      <td>82.0</td>\n",
       "      <td>2720.0</td>\n",
       "      <td>19.4</td>\n",
       "      <td>82</td>\n",
       "      <td>1</td>\n",
       "    </tr>\n",
       "  </tbody>\n",
       "</table>\n",
       "</div>"
      ],
      "text/plain": [
       "      MPG  Cylinders  Displacement  ...  Acceleration  Model Year  Origin\n",
       "393  27.0          4         140.0  ...          15.6          82       1\n",
       "394  44.0          4          97.0  ...          24.6          82       2\n",
       "395  32.0          4         135.0  ...          11.6          82       1\n",
       "396  28.0          4         120.0  ...          18.6          82       1\n",
       "397  31.0          4         119.0  ...          19.4          82       1\n",
       "\n",
       "[5 rows x 8 columns]"
      ]
     },
     "execution_count": 3,
     "metadata": {
      "tags": []
     },
     "output_type": "execute_result"
    }
   ],
   "source": [
    "dataset = raw_dataset.copy()\n",
    "dataset.tail()"
   ]
  },
  {
   "cell_type": "markdown",
   "metadata": {
    "id": "1Aci3qwoLgAF"
   },
   "source": [
    "### Очистка"
   ]
  },
  {
   "cell_type": "code",
   "execution_count": 4,
   "metadata": {
    "colab": {
     "base_uri": "https://localhost:8080/"
    },
    "id": "WzJTyEXYLYgG",
    "outputId": "7cac41a5-2930-41fa-8865-73c477197456"
   },
   "outputs": [
    {
     "name": "stdout",
     "output_type": "stream",
     "text": [
      "<class 'pandas.core.frame.DataFrame'>\n",
      "RangeIndex: 398 entries, 0 to 397\n",
      "Data columns (total 8 columns):\n",
      " #   Column        Non-Null Count  Dtype  \n",
      "---  ------        --------------  -----  \n",
      " 0   MPG           398 non-null    float64\n",
      " 1   Cylinders     398 non-null    int64  \n",
      " 2   Displacement  398 non-null    float64\n",
      " 3   Horsepower    392 non-null    float64\n",
      " 4   Weight        398 non-null    float64\n",
      " 5   Acceleration  398 non-null    float64\n",
      " 6   Model Year    398 non-null    int64  \n",
      " 7   Origin        398 non-null    int64  \n",
      "dtypes: float64(5), int64(3)\n",
      "memory usage: 25.0 KB\n"
     ]
    }
   ],
   "source": [
    "dataset.info()"
   ]
  },
  {
   "cell_type": "code",
   "execution_count": 5,
   "metadata": {
    "colab": {
     "base_uri": "https://localhost:8080/"
    },
    "id": "_k2saSx-LjUl",
    "outputId": "07a36535-ba17-41ed-9aba-39d6e2933c5b"
   },
   "outputs": [
    {
     "data": {
      "text/plain": [
       "MPG             0\n",
       "Cylinders       0\n",
       "Displacement    0\n",
       "Horsepower      6\n",
       "Weight          0\n",
       "Acceleration    0\n",
       "Model Year      0\n",
       "Origin          0\n",
       "dtype: int64"
      ]
     },
     "execution_count": 5,
     "metadata": {
      "tags": []
     },
     "output_type": "execute_result"
    }
   ],
   "source": [
    "dataset.isna().sum()"
   ]
  },
  {
   "cell_type": "code",
   "execution_count": 6,
   "metadata": {
    "id": "RbKXtJ2MLjed"
   },
   "outputs": [],
   "source": [
    "dataset = dataset.dropna()"
   ]
  },
  {
   "cell_type": "markdown",
   "metadata": {
    "id": "wJxxiv0CMQ4J"
   },
   "source": [
    "Исходя из описания колонки происхождения (origin) переведем числа в название страны и конвертируем в one-hot формат:"
   ]
  },
  {
   "cell_type": "code",
   "execution_count": null,
   "metadata": {
    "colab": {
     "base_uri": "https://localhost:8080/",
     "height": 202
    },
    "id": "MqlZQNkjMKfk",
    "outputId": "49ec4e67-1a44-4ae8-97db-a703e8514193"
   },
   "outputs": [
    {
     "data": {
      "text/html": [
       "<div>\n",
       "<style scoped>\n",
       "    .dataframe tbody tr th:only-of-type {\n",
       "        vertical-align: middle;\n",
       "    }\n",
       "\n",
       "    .dataframe tbody tr th {\n",
       "        vertical-align: top;\n",
       "    }\n",
       "\n",
       "    .dataframe thead th {\n",
       "        text-align: right;\n",
       "    }\n",
       "</style>\n",
       "<table border=\"1\" class=\"dataframe\">\n",
       "  <thead>\n",
       "    <tr style=\"text-align: right;\">\n",
       "      <th></th>\n",
       "      <th>MPG</th>\n",
       "      <th>Cylinders</th>\n",
       "      <th>Displacement</th>\n",
       "      <th>Horsepower</th>\n",
       "      <th>Weight</th>\n",
       "      <th>Acceleration</th>\n",
       "      <th>Model Year</th>\n",
       "      <th>Europe</th>\n",
       "      <th>Japan</th>\n",
       "      <th>USA</th>\n",
       "    </tr>\n",
       "  </thead>\n",
       "  <tbody>\n",
       "    <tr>\n",
       "      <th>393</th>\n",
       "      <td>27.0</td>\n",
       "      <td>4</td>\n",
       "      <td>140.0</td>\n",
       "      <td>86.0</td>\n",
       "      <td>2790.0</td>\n",
       "      <td>15.6</td>\n",
       "      <td>82</td>\n",
       "      <td>0</td>\n",
       "      <td>0</td>\n",
       "      <td>1</td>\n",
       "    </tr>\n",
       "    <tr>\n",
       "      <th>394</th>\n",
       "      <td>44.0</td>\n",
       "      <td>4</td>\n",
       "      <td>97.0</td>\n",
       "      <td>52.0</td>\n",
       "      <td>2130.0</td>\n",
       "      <td>24.6</td>\n",
       "      <td>82</td>\n",
       "      <td>1</td>\n",
       "      <td>0</td>\n",
       "      <td>0</td>\n",
       "    </tr>\n",
       "    <tr>\n",
       "      <th>395</th>\n",
       "      <td>32.0</td>\n",
       "      <td>4</td>\n",
       "      <td>135.0</td>\n",
       "      <td>84.0</td>\n",
       "      <td>2295.0</td>\n",
       "      <td>11.6</td>\n",
       "      <td>82</td>\n",
       "      <td>0</td>\n",
       "      <td>0</td>\n",
       "      <td>1</td>\n",
       "    </tr>\n",
       "    <tr>\n",
       "      <th>396</th>\n",
       "      <td>28.0</td>\n",
       "      <td>4</td>\n",
       "      <td>120.0</td>\n",
       "      <td>79.0</td>\n",
       "      <td>2625.0</td>\n",
       "      <td>18.6</td>\n",
       "      <td>82</td>\n",
       "      <td>0</td>\n",
       "      <td>0</td>\n",
       "      <td>1</td>\n",
       "    </tr>\n",
       "    <tr>\n",
       "      <th>397</th>\n",
       "      <td>31.0</td>\n",
       "      <td>4</td>\n",
       "      <td>119.0</td>\n",
       "      <td>82.0</td>\n",
       "      <td>2720.0</td>\n",
       "      <td>19.4</td>\n",
       "      <td>82</td>\n",
       "      <td>0</td>\n",
       "      <td>0</td>\n",
       "      <td>1</td>\n",
       "    </tr>\n",
       "  </tbody>\n",
       "</table>\n",
       "</div>"
      ],
      "text/plain": [
       "      MPG  Cylinders  Displacement  Horsepower  ...  Model Year  Europe  Japan  USA\n",
       "393  27.0          4         140.0        86.0  ...          82       0      0    1\n",
       "394  44.0          4          97.0        52.0  ...          82       1      0    0\n",
       "395  32.0          4         135.0        84.0  ...          82       0      0    1\n",
       "396  28.0          4         120.0        79.0  ...          82       0      0    1\n",
       "397  31.0          4         119.0        82.0  ...          82       0      0    1\n",
       "\n",
       "[5 rows x 10 columns]"
      ]
     },
     "execution_count": 10,
     "metadata": {
      "tags": []
     },
     "output_type": "execute_result"
    }
   ],
   "source": [
    "dataset['Origin'] = dataset['Origin'].map({1: 'USA', 2: 'Europe', 3: 'Japan'})\n",
    "dataset = pd.get_dummies(dataset, prefix='', prefix_sep='')\n",
    "dataset.tail()"
   ]
  },
  {
   "cell_type": "markdown",
   "metadata": {
    "id": "1fqc5mb6MlSA"
   },
   "source": [
    "### Подготовка обучающей и тестовой выборки"
   ]
  },
  {
   "cell_type": "code",
   "execution_count": 7,
   "metadata": {
    "id": "HaV_COKtMi-y"
   },
   "outputs": [],
   "source": [
    "train_dataset = dataset.sample(frac=0.8, random_state=0)\n",
    "test_dataset = dataset.drop(train_dataset.index)"
   ]
  },
  {
   "cell_type": "markdown",
   "metadata": {
    "id": "fjEw16ALMtzf"
   },
   "source": [
    "Взгляните на совместное распределение нескольких пар столбцов из обучающей выборки.\n",
    "\n",
    "Глядя на верхний ряд становится понятно, что эффективность топлива (MPG) является функцией всех других параметров. Глядя на другие строки становится понятно, что каждая из них является функцией друг друга."
   ]
  },
  {
   "cell_type": "code",
   "execution_count": 8,
   "metadata": {
    "colab": {
     "base_uri": "https://localhost:8080/",
     "height": 743
    },
    "id": "48esKJL9MrlJ",
    "outputId": "063c044f-96cb-487c-9f16-f8b7a98a41de"
   },
   "outputs": [
    {
     "data": {
      "text/plain": [
       "<seaborn.axisgrid.PairGrid at 0x7fc25d338cf8>"
      ]
     },
     "execution_count": 8,
     "metadata": {
      "tags": []
     },
     "output_type": "execute_result"
    },
    {
     "data": {
      "image/png": "[encoded data removed]",
      "text/plain": [
       "<Figure size 720x720 with 20 Axes>"
      ]
     },
     "metadata": {
      "needs_background": "light",
      "tags": []
     },
     "output_type": "display_data"
    }
   ],
   "source": [
    "sns.pairplot(train_dataset[['MPG', 'Cylinders', 'Displacement', 'Weight']], diag_kind='kde')"
   ]
  },
  {
   "cell_type": "markdown",
   "metadata": {
    "id": "FyZLkXoANDE2"
   },
   "source": [
    "Каждая функция охватывает очень разный диапазон:"
   ]
  },
  {
   "cell_type": "code",
   "execution_count": 9,
   "metadata": {
    "colab": {
     "base_uri": "https://localhost:8080/",
     "height": 300
    },
    "id": "_XfuhX4MM3CJ",
    "outputId": "1a415df3-b83f-4da6-8bcf-d175cd637937"
   },
   "outputs": [
    {
     "data": {
      "text/html": [
       "<div>\n",
       "<style scoped>\n",
       "    .dataframe tbody tr th:only-of-type {\n",
       "        vertical-align: middle;\n",
       "    }\n",
       "\n",
       "    .dataframe tbody tr th {\n",
       "        vertical-align: top;\n",
       "    }\n",
       "\n",
       "    .dataframe thead th {\n",
       "        text-align: right;\n",
       "    }\n",
       "</style>\n",
       "<table border=\"1\" class=\"dataframe\">\n",
       "  <thead>\n",
       "    <tr style=\"text-align: right;\">\n",
       "      <th></th>\n",
       "      <th>count</th>\n",
       "      <th>mean</th>\n",
       "      <th>std</th>\n",
       "      <th>min</th>\n",
       "      <th>25%</th>\n",
       "      <th>50%</th>\n",
       "      <th>75%</th>\n",
       "      <th>max</th>\n",
       "    </tr>\n",
       "  </thead>\n",
       "  <tbody>\n",
       "    <tr>\n",
       "      <th>MPG</th>\n",
       "      <td>314.0</td>\n",
       "      <td>23.310510</td>\n",
       "      <td>7.728652</td>\n",
       "      <td>10.0</td>\n",
       "      <td>17.00</td>\n",
       "      <td>22.0</td>\n",
       "      <td>28.95</td>\n",
       "      <td>46.6</td>\n",
       "    </tr>\n",
       "    <tr>\n",
       "      <th>Cylinders</th>\n",
       "      <td>314.0</td>\n",
       "      <td>5.477707</td>\n",
       "      <td>1.699788</td>\n",
       "      <td>3.0</td>\n",
       "      <td>4.00</td>\n",
       "      <td>4.0</td>\n",
       "      <td>8.00</td>\n",
       "      <td>8.0</td>\n",
       "    </tr>\n",
       "    <tr>\n",
       "      <th>Displacement</th>\n",
       "      <td>314.0</td>\n",
       "      <td>195.318471</td>\n",
       "      <td>104.331589</td>\n",
       "      <td>68.0</td>\n",
       "      <td>105.50</td>\n",
       "      <td>151.0</td>\n",
       "      <td>265.75</td>\n",
       "      <td>455.0</td>\n",
       "    </tr>\n",
       "    <tr>\n",
       "      <th>Horsepower</th>\n",
       "      <td>314.0</td>\n",
       "      <td>104.869427</td>\n",
       "      <td>38.096214</td>\n",
       "      <td>46.0</td>\n",
       "      <td>76.25</td>\n",
       "      <td>94.5</td>\n",
       "      <td>128.00</td>\n",
       "      <td>225.0</td>\n",
       "    </tr>\n",
       "    <tr>\n",
       "      <th>Weight</th>\n",
       "      <td>314.0</td>\n",
       "      <td>2990.251592</td>\n",
       "      <td>843.898596</td>\n",
       "      <td>1649.0</td>\n",
       "      <td>2256.50</td>\n",
       "      <td>2822.5</td>\n",
       "      <td>3608.00</td>\n",
       "      <td>5140.0</td>\n",
       "    </tr>\n",
       "    <tr>\n",
       "      <th>Acceleration</th>\n",
       "      <td>314.0</td>\n",
       "      <td>15.559236</td>\n",
       "      <td>2.789230</td>\n",
       "      <td>8.0</td>\n",
       "      <td>13.80</td>\n",
       "      <td>15.5</td>\n",
       "      <td>17.20</td>\n",
       "      <td>24.8</td>\n",
       "    </tr>\n",
       "    <tr>\n",
       "      <th>Model Year</th>\n",
       "      <td>314.0</td>\n",
       "      <td>75.898089</td>\n",
       "      <td>3.675642</td>\n",
       "      <td>70.0</td>\n",
       "      <td>73.00</td>\n",
       "      <td>76.0</td>\n",
       "      <td>79.00</td>\n",
       "      <td>82.0</td>\n",
       "    </tr>\n",
       "    <tr>\n",
       "      <th>Origin</th>\n",
       "      <td>314.0</td>\n",
       "      <td>1.573248</td>\n",
       "      <td>0.800988</td>\n",
       "      <td>1.0</td>\n",
       "      <td>1.00</td>\n",
       "      <td>1.0</td>\n",
       "      <td>2.00</td>\n",
       "      <td>3.0</td>\n",
       "    </tr>\n",
       "  </tbody>\n",
       "</table>\n",
       "</div>"
      ],
      "text/plain": [
       "              count         mean         std  ...     50%      75%     max\n",
       "MPG           314.0    23.310510    7.728652  ...    22.0    28.95    46.6\n",
       "Cylinders     314.0     5.477707    1.699788  ...     4.0     8.00     8.0\n",
       "Displacement  314.0   195.318471  104.331589  ...   151.0   265.75   455.0\n",
       "Horsepower    314.0   104.869427   38.096214  ...    94.5   128.00   225.0\n",
       "Weight        314.0  2990.251592  843.898596  ...  2822.5  3608.00  5140.0\n",
       "Acceleration  314.0    15.559236    2.789230  ...    15.5    17.20    24.8\n",
       "Model Year    314.0    75.898089    3.675642  ...    76.0    79.00    82.0\n",
       "Origin        314.0     1.573248    0.800988  ...     1.0     2.00     3.0\n",
       "\n",
       "[8 rows x 8 columns]"
      ]
     },
     "execution_count": 9,
     "metadata": {
      "tags": []
     },
     "output_type": "execute_result"
    }
   ],
   "source": [
    "train_dataset.describe().transpose()"
   ]
  },
  {
   "cell_type": "markdown",
   "metadata": {
    "id": "qI37LwiPNHF9"
   },
   "source": [
    "Выделим целевой признак и уберем его из данных:"
   ]
  },
  {
   "cell_type": "code",
   "execution_count": 10,
   "metadata": {
    "id": "ZU0rQzmJM_rP"
   },
   "outputs": [],
   "source": [
    "train_features = train_dataset.copy()\n",
    "test_features = test_dataset.copy()\n",
    "\n",
    "train_labels = train_features.pop('MPG')\n",
    "test_labels = test_features.pop('MPG')"
   ]
  },
  {
   "cell_type": "markdown",
   "metadata": {
    "id": "kMk0SX-dNOsp"
   },
   "source": [
    "### Нормализация"
   ]
  },
  {
   "cell_type": "markdown",
   "metadata": {
    "id": "ypxEAjzyNVqp"
   },
   "source": [
    "Одна из причин, по которой важно нормализовывать данные заключается в том, что характеристики умножаются на веса модели. Таким образом, масштаб выходных данных и масштаб градиентов зависит от масштаба входных данных.\n",
    "\n",
    "Хотя модель может сходиться без нормализации функций, нормализация делает обучение более стабильным."
   ]
  },
  {
   "cell_type": "markdown",
   "metadata": {
    "id": "CC3v5uKzNfBH"
   },
   "source": [
    "Слой preprocessing.Normalization - чистый и простой способ встроить эту предварительную обработку в вашу модель.\n",
    "\n",
    "Первым делом создадим слой:"
   ]
  },
  {
   "cell_type": "code",
   "execution_count": 11,
   "metadata": {
    "id": "OmYpY1A3NNIo"
   },
   "outputs": [],
   "source": [
    "normalizer = preprocessing.Normalization()"
   ]
  },
  {
   "cell_type": "markdown",
   "metadata": {
    "id": "pw9SPOz0NivJ"
   },
   "source": [
    "Затем адаптируем .adapt() его к данным:"
   ]
  },
  {
   "cell_type": "code",
   "execution_count": 12,
   "metadata": {
    "id": "JmzzC_tCNhNP"
   },
   "outputs": [],
   "source": [
    "normalizer.adapt(np.array(train_features))"
   ]
  },
  {
   "cell_type": "code",
   "execution_count": 13,
   "metadata": {
    "colab": {
     "base_uri": "https://localhost:8080/"
    },
    "id": "85_meklUNltO",
    "outputId": "172a3779-3575-4f3b-9667-9fd6bea4f5a0"
   },
   "outputs": [
    {
     "data": {
      "text/plain": [
       "array([5.4777069e+00, 1.9531847e+02, 1.0486943e+02, 2.9902517e+03,\n",
       "       1.5559236e+01, 7.5898087e+01, 1.5732484e+00], dtype=float32)"
      ]
     },
     "execution_count": 13,
     "metadata": {
      "tags": []
     },
     "output_type": "execute_result"
    }
   ],
   "source": [
    "normalizer.mean.numpy()"
   ]
  },
  {
   "cell_type": "markdown",
   "metadata": {
    "id": "z7w0FlZuNqmX"
   },
   "source": [
    "Когда слой вызывается, он возвращает входные данные, при этом каждая функция нормализуется независимо:"
   ]
  },
  {
   "cell_type": "code",
   "execution_count": 14,
   "metadata": {
    "colab": {
     "base_uri": "https://localhost:8080/"
    },
    "id": "jJTJCLyeNm-e",
    "outputId": "fb27c8e7-773d-4449-e4aa-97bf82b6725e"
   },
   "outputs": [
    {
     "name": "stdout",
     "output_type": "stream",
     "text": [
      "First example: [[   4.    90.    75.  2125.    14.5   74.     1. ]]\n",
      "\n",
      "Normalized: [[-0.87 -1.01 -0.79 -1.03 -0.38 -0.52 -0.72]]\n"
     ]
    }
   ],
   "source": [
    "first = np.array(train_features[:1])\n",
    "\n",
    "with np.printoptions(precision=2, suppress=True):\n",
    "    print('First example:', first)\n",
    "    print()\n",
    "    print('Normalized:', normalizer(first).numpy())"
   ]
  },
  {
   "cell_type": "markdown",
   "metadata": {
    "id": "lZnprRSRNxSs"
   },
   "source": [
    "## Линейная регрессия [1 предикат]"
   ]
  },
  {
   "cell_type": "markdown",
   "metadata": {
    "id": "luR9d9gxN5bV"
   },
   "source": [
    "Начнем с линейной регрессии с одной переменной, чтобы спрогнозировать MPG из Horsepower .\n",
    "\n",
    "Обучение модели с tf.keras обычно начинается с определения архитектуры модели. В этом случае используйте модель keras.Sequential . Эта модель представляет собой последовательность шагов обработки. В этом случае есть два шага:\n",
    "\n",
    "* Нормализовать входную horsepower .\n",
    "* Примените линейное преобразование ($y = mx+b$), чтобы получить 1 результат с использованием layers.Dense .\n",
    "Количество входов может быть установлено аргументом input_shape или автоматически при первом запуске модели.\n",
    "\n",
    "Сначала создайте слой Normalization лошадиных сил:"
   ]
  },
  {
   "cell_type": "code",
   "execution_count": 15,
   "metadata": {
    "id": "n4VEyureNuvN"
   },
   "outputs": [],
   "source": [
    "horsepower = np.array(train_features['Horsepower'])\n",
    "\n",
    "horsepower_normalizer = preprocessing.Normalization(input_shape=[1,])\n",
    "horsepower_normalizer.adapt(horsepower)"
   ]
  },
  {
   "cell_type": "markdown",
   "metadata": {
    "id": "sMhY31rWOL-K"
   },
   "source": [
    "Строим последовательную модель:"
   ]
  },
  {
   "cell_type": "code",
   "execution_count": 16,
   "metadata": {
    "colab": {
     "base_uri": "https://localhost:8080/"
    },
    "id": "Me7TpXIoOIZ2",
    "outputId": "2b999bec-41d7-4464-a93c-c16595894ccc"
   },
   "outputs": [
    {
     "name": "stdout",
     "output_type": "stream",
     "text": [
      "Model: \"sequential\"\n",
      "_________________________________________________________________\n",
      "Layer (type)                 Output Shape              Param #   \n",
      "=================================================================\n",
      "normalization_1 (Normalizati (None, 1)                 3         \n",
      "_________________________________________________________________\n",
      "dense (Dense)                (None, 1)                 2         \n",
      "=================================================================\n",
      "Total params: 5\n",
      "Trainable params: 2\n",
      "Non-trainable params: 3\n",
      "_________________________________________________________________\n"
     ]
    }
   ],
   "source": [
    "horsepower_model = tf.keras.Sequential([\n",
    "    horsepower_normalizer,\n",
    "    layers.Dense(units=1)\n",
    "])\n",
    "\n",
    "horsepower_model.summary() # сводка по модели - каждый слой и его кол-во праметров"
   ]
  },
  {
   "cell_type": "markdown",
   "metadata": {
    "id": "CnH0F1xMOc3a"
   },
   "source": [
    "Эта модель будет прогнозировать MPG от Horsepower.\n",
    "\n",
    "Запустим неподготовленную модель на первых 10 значениях мощности. Результат не будет хорошим, но можно видеть, что он имеет ожидаемую форму (10,1):"
   ]
  },
  {
   "cell_type": "code",
   "execution_count": 17,
   "metadata": {
    "colab": {
     "base_uri": "https://localhost:8080/"
    },
    "id": "UwSL91ZAOOtk",
    "outputId": "da3ab51e-ef6a-45e9-da7e-baf2ebbcbd9a"
   },
   "outputs": [
    {
     "data": {
      "text/plain": [
       "array([[-1.240345  ],\n",
       "       [-0.70051265],\n",
       "       [ 2.289328  ],\n",
       "       [-1.7386516 ],\n",
       "       [-1.5725495 ],\n",
       "       [-0.61746144],\n",
       "       [-1.8632284 ],\n",
       "       [-1.5725495 ],\n",
       "       [-0.40983367],\n",
       "       [-0.70051265]], dtype=float32)"
      ]
     },
     "execution_count": 17,
     "metadata": {
      "tags": []
     },
     "output_type": "execute_result"
    }
   ],
   "source": [
    "horsepower_model.predict(horsepower[:10])"
   ]
  },
  {
   "cell_type": "markdown",
   "metadata": {
    "id": "_h39ey2JOmKe"
   },
   "source": [
    "После построения модели настройте процедуру обучения с помощью Model.compile() . Наиболее важные аргументы для компиляции - это loss и optimizer поскольку они определяют, что будет оптимизировано ( mean_absolute_error ) и как (с помощью optimizers.Adam )."
   ]
  },
  {
   "cell_type": "code",
   "execution_count": 18,
   "metadata": {
    "id": "cA1UiUFEOjyj"
   },
   "outputs": [],
   "source": [
    "horsepower_model.compile(\n",
    "    optimizer=tf.optimizers.Adam(learning_rate=0.1),\n",
    "    loss='mean_absolute_error')"
   ]
  },
  {
   "cell_type": "markdown",
   "metadata": {
    "id": "8Ioy5vtPOs52"
   },
   "source": [
    "После настройки обучения используйте Model.fit() для выполнения обучения:"
   ]
  },
  {
   "cell_type": "code",
   "execution_count": 19,
   "metadata": {
    "colab": {
     "base_uri": "https://localhost:8080/"
    },
    "id": "g3HWbLjoOq3K",
    "outputId": "f57c1cd1-35d8-471f-a330-fc1bee82c5f0"
   },
   "outputs": [
    {
     "name": "stdout",
     "output_type": "stream",
     "text": [
      "CPU times: user 6.69 s, sys: 369 ms, total: 7.06 s\n",
      "Wall time: 6.5 s\n"
     ]
    }
   ],
   "source": [
    "%%time\n",
    "history = horsepower_model.fit(\n",
    "    train_features['Horsepower'], train_labels,\n",
    "    epochs=100,\n",
    "    # не отображаем ход обучения\n",
    "    verbose=0,\n",
    "    # Валидационная выборка - 20%\n",
    "    validation_split = 0.2)"
   ]
  },
  {
   "cell_type": "markdown",
   "metadata": {
    "id": "b18ah1seO8Dc"
   },
   "source": [
    "Визуализируем прогресс обучения модели, используя статистику, хранящуюся в объекте history:"
   ]
  },
  {
   "cell_type": "code",
   "execution_count": 20,
   "metadata": {
    "colab": {
     "base_uri": "https://localhost:8080/",
     "height": 206
    },
    "id": "1oq5jwJLOuIa",
    "outputId": "6fb429d4-0dec-4edc-f6d1-327c9f6c67ee"
   },
   "outputs": [
    {
     "data": {
      "text/html": [
       "<div>\n",
       "<style scoped>\n",
       "    .dataframe tbody tr th:only-of-type {\n",
       "        vertical-align: middle;\n",
       "    }\n",
       "\n",
       "    .dataframe tbody tr th {\n",
       "        vertical-align: top;\n",
       "    }\n",
       "\n",
       "    .dataframe thead th {\n",
       "        text-align: right;\n",
       "    }\n",
       "</style>\n",
       "<table border=\"1\" class=\"dataframe\">\n",
       "  <thead>\n",
       "    <tr style=\"text-align: right;\">\n",
       "      <th></th>\n",
       "      <th>loss</th>\n",
       "      <th>val_loss</th>\n",
       "      <th>epoch</th>\n",
       "    </tr>\n",
       "  </thead>\n",
       "  <tbody>\n",
       "    <tr>\n",
       "      <th>95</th>\n",
       "      <td>3.803142</td>\n",
       "      <td>4.176042</td>\n",
       "      <td>95</td>\n",
       "    </tr>\n",
       "    <tr>\n",
       "      <th>96</th>\n",
       "      <td>3.803760</td>\n",
       "      <td>4.182850</td>\n",
       "      <td>96</td>\n",
       "    </tr>\n",
       "    <tr>\n",
       "      <th>97</th>\n",
       "      <td>3.804418</td>\n",
       "      <td>4.189486</td>\n",
       "      <td>97</td>\n",
       "    </tr>\n",
       "    <tr>\n",
       "      <th>98</th>\n",
       "      <td>3.802113</td>\n",
       "      <td>4.194804</td>\n",
       "      <td>98</td>\n",
       "    </tr>\n",
       "    <tr>\n",
       "      <th>99</th>\n",
       "      <td>3.803419</td>\n",
       "      <td>4.214349</td>\n",
       "      <td>99</td>\n",
       "    </tr>\n",
       "  </tbody>\n",
       "</table>\n",
       "</div>"
      ],
      "text/plain": [
       "        loss  val_loss  epoch\n",
       "95  3.803142  4.176042     95\n",
       "96  3.803760  4.182850     96\n",
       "97  3.804418  4.189486     97\n",
       "98  3.802113  4.194804     98\n",
       "99  3.803419  4.214349     99"
      ]
     },
     "execution_count": 20,
     "metadata": {
      "tags": []
     },
     "output_type": "execute_result"
    }
   ],
   "source": [
    "hist = pd.DataFrame(history.history)\n",
    "hist['epoch'] = history.epoch\n",
    "hist.tail()"
   ]
  },
  {
   "cell_type": "code",
   "execution_count": 21,
   "metadata": {
    "colab": {
     "base_uri": "https://localhost:8080/",
     "height": 283
    },
    "id": "3YanjleXO_gJ",
    "outputId": "5062f211-1c5e-4a4f-cccc-4927d435e3fd"
   },
   "outputs": [
    {
     "data": {
      "image/png": "[encoded data removed]",
      "text/plain": [
       "<Figure size 432x288 with 1 Axes>"
      ]
     },
     "metadata": {
      "needs_background": "light",
      "tags": []
     },
     "output_type": "display_data"
    }
   ],
   "source": [
    "def plot_loss(history):\n",
    "    plt.plot(history.history['loss'], label='loss')\n",
    "    plt.plot(history.history['val_loss'], label='val_loss')\n",
    "    plt.ylim([0, 10])\n",
    "    plt.xlabel('Эпоха')\n",
    "    plt.ylabel('Ошибка [MPG]')\n",
    "    plt.legend()\n",
    "    plt.grid(True)\n",
    "\n",
    "plot_loss(history)    "
   ]
  },
  {
   "cell_type": "markdown",
   "metadata": {
    "id": "bPpFXcxpPPLu"
   },
   "source": [
    "Смотрим на результаты на тестовом наборе:"
   ]
  },
  {
   "cell_type": "code",
   "execution_count": 22,
   "metadata": {
    "id": "WnlJRuxBPCSR"
   },
   "outputs": [],
   "source": [
    "test_results = {}\n",
    "\n",
    "test_results['horsepower_model'] = horsepower_model.evaluate(\n",
    "    test_features['Horsepower'],\n",
    "    test_labels,\n",
    "    verbose=0)"
   ]
  },
  {
   "cell_type": "code",
   "execution_count": 23,
   "metadata": {
    "colab": {
     "base_uri": "https://localhost:8080/"
    },
    "id": "6u9MZ0Mi2laH",
    "outputId": "a2a40db6-33e3-4710-90cc-fc8e83a6c3d4"
   },
   "outputs": [
    {
     "data": {
      "text/plain": [
       "{'horsepower_model': 3.651719331741333}"
      ]
     },
     "execution_count": 23,
     "metadata": {
      "tags": []
     },
     "output_type": "execute_result"
    }
   ],
   "source": [
    "test_results"
   ]
  },
  {
   "cell_type": "markdown",
   "metadata": {
    "id": "hLR81ZH3PVvB"
   },
   "source": [
    "Так как это регрессия с одной переменной, легко рассматривать прогнозы модели как функцию входных данных:"
   ]
  },
  {
   "cell_type": "code",
   "execution_count": 24,
   "metadata": {
    "id": "7mNLiWYaPUag"
   },
   "outputs": [],
   "source": [
    "x = tf.linspace(0.0, 250, 251)\n",
    "y = horsepower_model.predict(x)"
   ]
  },
  {
   "cell_type": "code",
   "execution_count": 25,
   "metadata": {
    "colab": {
     "base_uri": "https://localhost:8080/",
     "height": 279
    },
    "id": "RtGM08ucPXcg",
    "outputId": "c1bde3d1-ed7e-4e4e-c8dd-55c858870dc1"
   },
   "outputs": [
    {
     "data": {
      "image/png": "[encoded data removed]",
      "text/plain": [
       "<Figure size 432x288 with 1 Axes>"
      ]
     },
     "metadata": {
      "needs_background": "light",
      "tags": []
     },
     "output_type": "display_data"
    }
   ],
   "source": [
    "def plot_horsepower(x, y):\n",
    "    plt.scatter(train_features['Horsepower'], train_labels, label='Данные')\n",
    "    plt.plot(x, y, color='k', label='Предсказания')\n",
    "    plt.xlabel('Лошадиные силы')\n",
    "    plt.ylabel('Эффективность топлива')\n",
    "    plt.legend()\n",
    "\n",
    "plot_horsepower(x,y)"
   ]
  },
  {
   "cell_type": "code",
   "execution_count": 26,
   "metadata": {
    "colab": {
     "base_uri": "https://localhost:8080/",
     "height": 423
    },
    "id": "0VgQ0H2iXAeR",
    "outputId": "6e91033a-e898-449d-9383-fa9414da47ce"
   },
   "outputs": [
    {
     "data": {
      "text/html": [
       "<div>\n",
       "<style scoped>\n",
       "    .dataframe tbody tr th:only-of-type {\n",
       "        vertical-align: middle;\n",
       "    }\n",
       "\n",
       "    .dataframe tbody tr th {\n",
       "        vertical-align: top;\n",
       "    }\n",
       "\n",
       "    .dataframe thead th {\n",
       "        text-align: right;\n",
       "    }\n",
       "</style>\n",
       "<table border=\"1\" class=\"dataframe\">\n",
       "  <thead>\n",
       "    <tr style=\"text-align: right;\">\n",
       "      <th></th>\n",
       "      <th>Cylinders</th>\n",
       "      <th>Displacement</th>\n",
       "      <th>Horsepower</th>\n",
       "      <th>Weight</th>\n",
       "      <th>Acceleration</th>\n",
       "      <th>Model Year</th>\n",
       "      <th>Origin</th>\n",
       "    </tr>\n",
       "  </thead>\n",
       "  <tbody>\n",
       "    <tr>\n",
       "      <th>9</th>\n",
       "      <td>8</td>\n",
       "      <td>390.0</td>\n",
       "      <td>190.0</td>\n",
       "      <td>3850.0</td>\n",
       "      <td>8.5</td>\n",
       "      <td>70</td>\n",
       "      <td>1</td>\n",
       "    </tr>\n",
       "    <tr>\n",
       "      <th>25</th>\n",
       "      <td>8</td>\n",
       "      <td>360.0</td>\n",
       "      <td>215.0</td>\n",
       "      <td>4615.0</td>\n",
       "      <td>14.0</td>\n",
       "      <td>70</td>\n",
       "      <td>1</td>\n",
       "    </tr>\n",
       "    <tr>\n",
       "      <th>28</th>\n",
       "      <td>8</td>\n",
       "      <td>304.0</td>\n",
       "      <td>193.0</td>\n",
       "      <td>4732.0</td>\n",
       "      <td>18.5</td>\n",
       "      <td>70</td>\n",
       "      <td>1</td>\n",
       "    </tr>\n",
       "    <tr>\n",
       "      <th>31</th>\n",
       "      <td>4</td>\n",
       "      <td>113.0</td>\n",
       "      <td>95.0</td>\n",
       "      <td>2228.0</td>\n",
       "      <td>14.0</td>\n",
       "      <td>71</td>\n",
       "      <td>3</td>\n",
       "    </tr>\n",
       "    <tr>\n",
       "      <th>33</th>\n",
       "      <td>6</td>\n",
       "      <td>232.0</td>\n",
       "      <td>100.0</td>\n",
       "      <td>2634.0</td>\n",
       "      <td>13.0</td>\n",
       "      <td>71</td>\n",
       "      <td>1</td>\n",
       "    </tr>\n",
       "    <tr>\n",
       "      <th>...</th>\n",
       "      <td>...</td>\n",
       "      <td>...</td>\n",
       "      <td>...</td>\n",
       "      <td>...</td>\n",
       "      <td>...</td>\n",
       "      <td>...</td>\n",
       "      <td>...</td>\n",
       "    </tr>\n",
       "    <tr>\n",
       "      <th>369</th>\n",
       "      <td>4</td>\n",
       "      <td>112.0</td>\n",
       "      <td>88.0</td>\n",
       "      <td>2395.0</td>\n",
       "      <td>18.0</td>\n",
       "      <td>82</td>\n",
       "      <td>1</td>\n",
       "    </tr>\n",
       "    <tr>\n",
       "      <th>375</th>\n",
       "      <td>4</td>\n",
       "      <td>105.0</td>\n",
       "      <td>74.0</td>\n",
       "      <td>1980.0</td>\n",
       "      <td>15.3</td>\n",
       "      <td>82</td>\n",
       "      <td>2</td>\n",
       "    </tr>\n",
       "    <tr>\n",
       "      <th>382</th>\n",
       "      <td>4</td>\n",
       "      <td>108.0</td>\n",
       "      <td>70.0</td>\n",
       "      <td>2245.0</td>\n",
       "      <td>16.9</td>\n",
       "      <td>82</td>\n",
       "      <td>3</td>\n",
       "    </tr>\n",
       "    <tr>\n",
       "      <th>384</th>\n",
       "      <td>4</td>\n",
       "      <td>91.0</td>\n",
       "      <td>67.0</td>\n",
       "      <td>1965.0</td>\n",
       "      <td>15.7</td>\n",
       "      <td>82</td>\n",
       "      <td>3</td>\n",
       "    </tr>\n",
       "    <tr>\n",
       "      <th>396</th>\n",
       "      <td>4</td>\n",
       "      <td>120.0</td>\n",
       "      <td>79.0</td>\n",
       "      <td>2625.0</td>\n",
       "      <td>18.6</td>\n",
       "      <td>82</td>\n",
       "      <td>1</td>\n",
       "    </tr>\n",
       "  </tbody>\n",
       "</table>\n",
       "<p>78 rows × 7 columns</p>\n",
       "</div>"
      ],
      "text/plain": [
       "     Cylinders  Displacement  Horsepower  ...  Acceleration  Model Year  Origin\n",
       "9            8         390.0       190.0  ...           8.5          70       1\n",
       "25           8         360.0       215.0  ...          14.0          70       1\n",
       "28           8         304.0       193.0  ...          18.5          70       1\n",
       "31           4         113.0        95.0  ...          14.0          71       3\n",
       "33           6         232.0       100.0  ...          13.0          71       1\n",
       "..         ...           ...         ...  ...           ...         ...     ...\n",
       "369          4         112.0        88.0  ...          18.0          82       1\n",
       "375          4         105.0        74.0  ...          15.3          82       2\n",
       "382          4         108.0        70.0  ...          16.9          82       3\n",
       "384          4          91.0        67.0  ...          15.7          82       3\n",
       "396          4         120.0        79.0  ...          18.6          82       1\n",
       "\n",
       "[78 rows x 7 columns]"
      ]
     },
     "execution_count": 26,
     "metadata": {
      "tags": []
     },
     "output_type": "execute_result"
    }
   ],
   "source": [
    "test_features"
   ]
  },
  {
   "cell_type": "code",
   "execution_count": 30,
   "metadata": {
    "colab": {
     "base_uri": "https://localhost:8080/"
    },
    "id": "mudcJHC5Q7Vi",
    "outputId": "bf7cdea3-7341-43ee-a88c-0a4acdd44d45"
   },
   "outputs": [
    {
     "name": "stdout",
     "output_type": "stream",
     "text": [
      "(78,)\n",
      "(78,)\n"
     ]
    },
    {
     "data": {
      "text/plain": [
       "0.6679418757328923"
      ]
     },
     "execution_count": 30,
     "metadata": {
      "tags": []
     },
     "output_type": "execute_result"
    }
   ],
   "source": [
    "from sklearn.metrics import r2_score\n",
    "\n",
    "preds = horsepower_model.predict(test_features['Horsepower']).flatten()\n",
    "print(preds.shape)\n",
    "\n",
    "print(test_labels.shape)\n",
    "\n",
    "real = test_labels.values\n",
    "\n",
    "r2_score(real, preds)"
   ]
  },
  {
   "cell_type": "markdown",
   "metadata": {
    "id": "9MQeYabXP97O"
   },
   "source": [
    "## Линейная регрессия [все предикаты]"
   ]
  },
  {
   "cell_type": "markdown",
   "metadata": {
    "id": "bJgqXgCUQD7Z"
   },
   "source": [
    "Вы можете использовать почти идентичную настройку, чтобы делать прогнозы на основе нескольких входных данных. Эта модель по-прежнему делает то же самое $y = mx +b$, за исключением того, что $m$ - это матрица, а $b$ - вектор."
   ]
  },
  {
   "cell_type": "markdown",
   "metadata": {
    "id": "h0NeNPbMQQ-L"
   },
   "source": [
    "На этот раз используем слой Normalization который был адаптирован для всего набора данных."
   ]
  },
  {
   "cell_type": "code",
   "execution_count": 31,
   "metadata": {
    "id": "Y_yFoqrEPaGQ"
   },
   "outputs": [],
   "source": [
    "linear_model = tf.keras.Sequential([\n",
    "    normalizer,\n",
    "    layers.Dense(units=1)\n",
    "])"
   ]
  },
  {
   "cell_type": "markdown",
   "metadata": {
    "id": "1How7JaxQUk3"
   },
   "source": [
    "Когда вы вызываете эту модель для пакета входных данных, она выдает units=1 выходных данных для каждого примера."
   ]
  },
  {
   "cell_type": "code",
   "execution_count": 32,
   "metadata": {
    "colab": {
     "base_uri": "https://localhost:8080/"
    },
    "id": "Bml-HSTCQTZ2",
    "outputId": "193713d7-8a3d-44f3-e430-733d12c86d6c"
   },
   "outputs": [
    {
     "data": {
      "text/plain": [
       "array([[-0.95853686],\n",
       "       [-1.4994028 ],\n",
       "       [ 0.8806313 ],\n",
       "       [-1.6201367 ],\n",
       "       [ 0.20422208],\n",
       "       [-0.46411446],\n",
       "       [ 0.23424053],\n",
       "       [-0.92164147],\n",
       "       [-0.16306761],\n",
       "       [ 0.7973094 ]], dtype=float32)"
      ]
     },
     "execution_count": 32,
     "metadata": {
      "tags": []
     },
     "output_type": "execute_result"
    }
   ],
   "source": [
    "linear_model.predict(train_features[:10])"
   ]
  },
  {
   "cell_type": "markdown",
   "metadata": {
    "id": "jJURuNedQavV"
   },
   "source": [
    "При вызове модели будут построены весовые матрицы. Теперь вы можете видеть, что kernel ($m$ в $y=mx+b$) имеет форму (9,1) ."
   ]
  },
  {
   "cell_type": "code",
   "execution_count": 33,
   "metadata": {
    "colab": {
     "base_uri": "https://localhost:8080/"
    },
    "id": "5fTc7YgiQXrt",
    "outputId": "2688ba72-1cff-4f51-f1c4-a0261e09f32d"
   },
   "outputs": [
    {
     "data": {
      "text/plain": [
       "<tf.Variable 'dense_1/kernel:0' shape=(7, 1) dtype=float32, numpy=\n",
       "array([[ 0.7102118 ],\n",
       "       [ 0.26371926],\n",
       "       [ 0.10783815],\n",
       "       [-0.32464057],\n",
       "       [ 0.00668281],\n",
       "       [-0.305525  ],\n",
       "       [ 0.6663801 ]], dtype=float32)>"
      ]
     },
     "execution_count": 33,
     "metadata": {
      "tags": []
     },
     "output_type": "execute_result"
    }
   ],
   "source": [
    "linear_model.layers[1].kernel"
   ]
  },
  {
   "cell_type": "markdown",
   "metadata": {
    "id": "eu8V1-IeQiVD"
   },
   "source": [
    "Используйте те же вызовы compile и fit что и для модели horsepower с одним входом:"
   ]
  },
  {
   "cell_type": "code",
   "execution_count": 35,
   "metadata": {
    "id": "LepHSxHXQgOk"
   },
   "outputs": [],
   "source": [
    "linear_model.compile(\n",
    "    optimizer=tf.optimizers.Adam(learning_rate=0.1),\n",
    "    loss='mean_absolute_error')"
   ]
  },
  {
   "cell_type": "code",
   "execution_count": 36,
   "metadata": {
    "colab": {
     "base_uri": "https://localhost:8080/"
    },
    "id": "M4ix7jjtQk3c",
    "outputId": "581cafe3-1268-4008-d681-1ca9e15d617e"
   },
   "outputs": [
    {
     "name": "stdout",
     "output_type": "stream",
     "text": [
      "CPU times: user 6.84 s, sys: 302 ms, total: 7.14 s\n",
      "Wall time: 6.35 s\n"
     ]
    }
   ],
   "source": [
    "%%time\n",
    "history = linear_model.fit(\n",
    "    train_features, train_labels, \n",
    "    epochs=100,\n",
    "    # не отображаем процесс обучения\n",
    "    verbose=0,\n",
    "    # валидация по 20%\n",
    "    validation_split = 0.2)"
   ]
  },
  {
   "cell_type": "markdown",
   "metadata": {
    "id": "U35VKAEUQru7"
   },
   "source": [
    "Использование всех входных данных позволяет получить гораздо меньшую ошибку обучения и проверки, чем модель horsepower :"
   ]
  },
  {
   "cell_type": "code",
   "execution_count": 37,
   "metadata": {
    "colab": {
     "base_uri": "https://localhost:8080/",
     "height": 283
    },
    "id": "qTptel07QqfE",
    "outputId": "e1f8dcfc-5bc3-4106-bd25-9d71a433dd98"
   },
   "outputs": [
    {
     "data": {
      "image/png": "[encoded data removed]",
      "text/plain": [
       "<Figure size 432x288 with 1 Axes>"
      ]
     },
     "metadata": {
      "needs_background": "light",
      "tags": []
     },
     "output_type": "display_data"
    }
   ],
   "source": [
    "plot_loss(history)"
   ]
  },
  {
   "cell_type": "markdown",
   "metadata": {
    "id": "MniLT_uXQvHB"
   },
   "source": [
    "Смотрим на результаты на тестовом наборе:"
   ]
  },
  {
   "cell_type": "code",
   "execution_count": 38,
   "metadata": {
    "id": "_gk3-jNeQtfU"
   },
   "outputs": [],
   "source": [
    "test_results['linear_model'] = linear_model.evaluate(\n",
    "    test_features, test_labels, verbose=0)"
   ]
  },
  {
   "cell_type": "code",
   "execution_count": 39,
   "metadata": {
    "colab": {
     "base_uri": "https://localhost:8080/"
    },
    "id": "UYrlHtXFQx9D",
    "outputId": "a5a3381e-c7c3-462a-de0a-4d2c2a404a6a"
   },
   "outputs": [
    {
     "data": {
      "text/plain": [
       "{'horsepower_model': 3.651719331741333, 'linear_model': 2.493820905685425}"
      ]
     },
     "execution_count": 39,
     "metadata": {
      "tags": []
     },
     "output_type": "execute_result"
    }
   ],
   "source": [
    "test_results"
   ]
  },
  {
   "cell_type": "code",
   "execution_count": 40,
   "metadata": {
    "colab": {
     "base_uri": "https://localhost:8080/"
    },
    "id": "3j3scOCPWaC4",
    "outputId": "ca038ca4-91e9-4ad0-808a-e74b344b6d97"
   },
   "outputs": [
    {
     "name": "stdout",
     "output_type": "stream",
     "text": [
      "(78,)\n",
      "(78,)\n"
     ]
    },
    {
     "data": {
      "text/plain": [
       "0.8097411234100289"
      ]
     },
     "execution_count": 40,
     "metadata": {
      "tags": []
     },
     "output_type": "execute_result"
    }
   ],
   "source": [
    "preds = linear_model.predict(test_features).flatten()\n",
    "print(preds.shape)\n",
    "\n",
    "print(test_labels.shape)\n",
    "\n",
    "r2_score(real, preds)"
   ]
  },
  {
   "cell_type": "markdown",
   "metadata": {
    "id": "UZRUqo-FXRTV"
   },
   "source": [
    "## Регрессия DNN\n",
    "\n",
    "В предыдущем разделе реализованы линейные модели для одного и нескольких входов.\n",
    "\n",
    "В этом разделе реализуются модели DNN с одним и несколькими входами. Код в основном тот же, за исключением того, что модель расширена за счет включения некоторых «скрытых» нелинейных слоев. Название «скрытый» здесь просто означает «не подключен напрямую к входам или выходам».\n",
    "\n",
    "Эти модели будут содержать на несколько слоев больше, чем линейная модель:\n",
    "\n",
    "* Слой нормализации.\n",
    "* Два скрытых, нелинейных, Dense слоя, использующих нелинейность relu .\n",
    "* Линейный одинарный выходной слой.\n",
    "\n",
    "Оба будут использовать одну и ту же процедуру обучения, поэтому метод compile включен в функцию build_and_compile_model ниже."
   ]
  },
  {
   "cell_type": "code",
   "execution_count": 41,
   "metadata": {
    "id": "pPp_zexnWgMx"
   },
   "outputs": [],
   "source": [
    "def build_and_compile_model(norm):\n",
    "    model = keras.Sequential([\n",
    "        norm,\n",
    "        layers.Dense(64, activation='relu'),\n",
    "        layers.Dense(64, activation='relu'),\n",
    "        layers.Dense(1)\n",
    "    ])\n",
    "\n",
    "    model.compile(loss='mean_absolute_error',\n",
    "                    optimizer=tf.keras.optimizers.Adam(0.001))\n",
    "    return model"
   ]
  },
  {
   "cell_type": "markdown",
   "metadata": {
    "id": "UsKnEbYIXmo3"
   },
   "source": [
    "### Одна переменная"
   ]
  },
  {
   "cell_type": "markdown",
   "metadata": {
    "id": "vKED55hIXp-w"
   },
   "source": [
    "Начнем с модели DNN для одного входа: «Лошадиная сила»."
   ]
  },
  {
   "cell_type": "code",
   "execution_count": 53,
   "metadata": {
    "id": "mtJah05iXkx1"
   },
   "outputs": [],
   "source": [
    "dnn_horsepower_model = build_and_compile_model(horsepower_normalizer)"
   ]
  },
  {
   "cell_type": "markdown",
   "metadata": {
    "id": "CNXQlLT6Xspt"
   },
   "source": [
    "Эта модель имеет намного больше обучаемых параметров, чем линейные модели."
   ]
  },
  {
   "cell_type": "code",
   "execution_count": 54,
   "metadata": {
    "colab": {
     "base_uri": "https://localhost:8080/"
    },
    "id": "jkfPhrt2XrX6",
    "outputId": "c11d0f0f-b78b-4db8-8657-8098c5cc247f"
   },
   "outputs": [
    {
     "name": "stdout",
     "output_type": "stream",
     "text": [
      "Model: \"sequential_3\"\n",
      "_________________________________________________________________\n",
      "Layer (type)                 Output Shape              Param #   \n",
      "=================================================================\n",
      "normalization_1 (Normalizati (None, 1)                 3         \n",
      "_________________________________________________________________\n",
      "dense_5 (Dense)              (None, 64)                128       \n",
      "_________________________________________________________________\n",
      "dense_6 (Dense)              (None, 64)                4160      \n",
      "_________________________________________________________________\n",
      "dense_7 (Dense)              (None, 1)                 65        \n",
      "=================================================================\n",
      "Total params: 4,356\n",
      "Trainable params: 4,353\n",
      "Non-trainable params: 3\n",
      "_________________________________________________________________\n"
     ]
    }
   ],
   "source": [
    "dnn_horsepower_model.summary()"
   ]
  },
  {
   "cell_type": "markdown",
   "metadata": {
    "id": "7msSsB2aXwbR"
   },
   "source": [
    "Обучим модель:"
   ]
  },
  {
   "cell_type": "code",
   "execution_count": 55,
   "metadata": {
    "colab": {
     "base_uri": "https://localhost:8080/"
    },
    "id": "PYrpWVqTXuFq",
    "outputId": "077bed6e-7276-415f-f1b0-7c8c6705bf46"
   },
   "outputs": [
    {
     "name": "stdout",
     "output_type": "stream",
     "text": [
      "CPU times: user 14.5 s, sys: 617 ms, total: 15.1 s\n",
      "Wall time: 13.5 s\n"
     ]
    }
   ],
   "source": [
    "%%time\n",
    "history = dnn_horsepower_model.fit(\n",
    "    train_features['Horsepower'], train_labels,\n",
    "    validation_split=0.2,\n",
    "    verbose=0, epochs=200)"
   ]
  },
  {
   "cell_type": "markdown",
   "metadata": {
    "id": "-Q33YklGX1__"
   },
   "source": [
    "Модель справляется лучше простой линейной:"
   ]
  },
  {
   "cell_type": "code",
   "execution_count": 56,
   "metadata": {
    "colab": {
     "base_uri": "https://localhost:8080/",
     "height": 283
    },
    "id": "oFUcplUEXyki",
    "outputId": "0a64ac79-bbaa-4601-ecbf-ad664b4737ea"
   },
   "outputs": [
    {
     "data": {
      "image/png": "[encoded data removed]",
      "text/plain": [
       "<Figure size 432x288 with 1 Axes>"
      ]
     },
     "metadata": {
      "needs_background": "light",
      "tags": []
     },
     "output_type": "display_data"
    }
   ],
   "source": [
    "plot_loss(history)"
   ]
  },
  {
   "cell_type": "markdown",
   "metadata": {
    "id": "H0NPNOpPX89y"
   },
   "source": [
    "Если вы построите прогноз как функцию Horsepower , вы увидите, как эта модель использует преимущества нелинейности, обеспечиваемой скрытыми слоями:"
   ]
  },
  {
   "cell_type": "code",
   "execution_count": 57,
   "metadata": {
    "id": "QtV9s4PmX1hi"
   },
   "outputs": [],
   "source": [
    "x = tf.linspace(0.0, 250, 251)\n",
    "y = dnn_horsepower_model.predict(x)"
   ]
  },
  {
   "cell_type": "code",
   "execution_count": 58,
   "metadata": {
    "colab": {
     "base_uri": "https://localhost:8080/",
     "height": 279
    },
    "id": "-7UnGyz9X-Iq",
    "outputId": "260cd102-645b-4f3d-c1ef-19e1804d6756"
   },
   "outputs": [
    {
     "data": {
      "image/png": "[encoded data removed]",
      "text/plain": [
       "<Figure size 432x288 with 1 Axes>"
      ]
     },
     "metadata": {
      "needs_background": "light",
      "tags": []
     },
     "output_type": "display_data"
    }
   ],
   "source": [
    "plot_horsepower(x, y)"
   ]
  },
  {
   "cell_type": "markdown",
   "metadata": {
    "id": "-CiKAjVBYA8D"
   },
   "source": [
    "Посмотрим на результаты на тестовой выборке:"
   ]
  },
  {
   "cell_type": "code",
   "execution_count": 59,
   "metadata": {
    "id": "lNrqwEZwX--C"
   },
   "outputs": [],
   "source": [
    "test_results['dnn_horsepower_model'] = dnn_horsepower_model.evaluate(\n",
    "    test_features['Horsepower'], test_labels,\n",
    "    verbose=0)"
   ]
  },
  {
   "cell_type": "code",
   "execution_count": 60,
   "metadata": {
    "colab": {
     "base_uri": "https://localhost:8080/"
    },
    "id": "G9flzMOJYLJo",
    "outputId": "2dd37bc4-434d-4a05-d4c0-4f09de8998a7"
   },
   "outputs": [
    {
     "data": {
      "text/plain": [
       "{'dnn_horsepower_model': 2.8102636337280273,\n",
       " 'horsepower_model': 3.651719331741333,\n",
       " 'linear_model': 2.493820905685425}"
      ]
     },
     "execution_count": 60,
     "metadata": {
      "tags": []
     },
     "output_type": "execute_result"
    }
   ],
   "source": [
    "test_results"
   ]
  },
  {
   "cell_type": "code",
   "execution_count": 61,
   "metadata": {
    "colab": {
     "base_uri": "https://localhost:8080/"
    },
    "id": "_RPN_e99YMJo",
    "outputId": "5c5797be-0b60-4a6d-9330-70f6dead29e4"
   },
   "outputs": [
    {
     "name": "stdout",
     "output_type": "stream",
     "text": [
      "(78,)\n",
      "(78,)\n"
     ]
    },
    {
     "data": {
      "text/plain": [
       "0.8091671810838075"
      ]
     },
     "execution_count": 61,
     "metadata": {
      "tags": []
     },
     "output_type": "execute_result"
    }
   ],
   "source": [
    "preds = dnn_horsepower_model.predict(test_features['Horsepower']).flatten()\n",
    "print(preds.shape)\n",
    "\n",
    "print(test_labels.shape)\n",
    "\n",
    "r2_score(real, preds)"
   ]
  },
  {
   "cell_type": "markdown",
   "metadata": {
    "id": "ef7ZZOKBYZRx"
   },
   "source": [
    "### Все данные"
   ]
  },
  {
   "cell_type": "markdown",
   "metadata": {
    "id": "ebSJKM-5YefY"
   },
   "source": [
    "Если вы повторите этот процесс, используя все входные данные, это немного повысит производительность набора данных проверки."
   ]
  },
  {
   "cell_type": "code",
   "execution_count": 65,
   "metadata": {
    "colab": {
     "base_uri": "https://localhost:8080/"
    },
    "id": "ZXMWPMZoYUTp",
    "outputId": "1c3d07d5-77bb-4e24-9256-4327e1f1fcc5"
   },
   "outputs": [
    {
     "name": "stdout",
     "output_type": "stream",
     "text": [
      "Model: \"sequential_5\"\n",
      "_________________________________________________________________\n",
      "Layer (type)                 Output Shape              Param #   \n",
      "=================================================================\n",
      "normalization (Normalization (None, 7)                 15        \n",
      "_________________________________________________________________\n",
      "dense_11 (Dense)             (None, 64)                512       \n",
      "_________________________________________________________________\n",
      "dense_12 (Dense)             (None, 64)                4160      \n",
      "_________________________________________________________________\n",
      "dense_13 (Dense)             (None, 1)                 65        \n",
      "=================================================================\n",
      "Total params: 4,752\n",
      "Trainable params: 4,737\n",
      "Non-trainable params: 15\n",
      "_________________________________________________________________\n"
     ]
    }
   ],
   "source": [
    "dnn_model = build_and_compile_model(normalizer)\n",
    "dnn_model.summary()"
   ]
  },
  {
   "cell_type": "code",
   "execution_count": 66,
   "metadata": {
    "colab": {
     "base_uri": "https://localhost:8080/"
    },
    "id": "fJIbA4E8Yggg",
    "outputId": "ae4d83b4-62df-41c1-f5fe-424f6c6acc3f"
   },
   "outputs": [
    {
     "name": "stdout",
     "output_type": "stream",
     "text": [
      "CPU times: user 18.8 s, sys: 759 ms, total: 19.6 s\n",
      "Wall time: 17.5 s\n"
     ]
    }
   ],
   "source": [
    "%%time\n",
    "history = dnn_model.fit(\n",
    "    train_features, train_labels,\n",
    "    validation_split=0.2,\n",
    "    verbose=0, epochs=250)"
   ]
  },
  {
   "cell_type": "code",
   "execution_count": 67,
   "metadata": {
    "colab": {
     "base_uri": "https://localhost:8080/",
     "height": 283
    },
    "id": "-QIdZrYzYlWw",
    "outputId": "6ce37b50-7603-4266-ead7-2c9c02352ba7"
   },
   "outputs": [
    {
     "data": {
      "image/png": "[encoded data removed]",
      "text/plain": [
       "<Figure size 432x288 with 1 Axes>"
      ]
     },
     "metadata": {
      "needs_background": "light",
      "tags": []
     },
     "output_type": "display_data"
    }
   ],
   "source": [
    "plot_loss(history)"
   ]
  },
  {
   "cell_type": "code",
   "execution_count": 68,
   "metadata": {
    "id": "64ut1xP6YmpA"
   },
   "outputs": [],
   "source": [
    "test_results['dnn_model'] = dnn_model.evaluate(test_features, test_labels, verbose=0)"
   ]
  },
  {
   "cell_type": "code",
   "execution_count": 69,
   "metadata": {
    "colab": {
     "base_uri": "https://localhost:8080/"
    },
    "id": "m3yHvR7sYoNA",
    "outputId": "09252aa2-ab5f-4415-dd4a-36f8dab73e29"
   },
   "outputs": [
    {
     "data": {
      "text/plain": [
       "{'dnn_horsepower_model': 2.8102636337280273,\n",
       " 'dnn_model': 1.8650665283203125,\n",
       " 'horsepower_model': 3.651719331741333,\n",
       " 'linear_model': 2.493820905685425}"
      ]
     },
     "execution_count": 69,
     "metadata": {
      "tags": []
     },
     "output_type": "execute_result"
    }
   ],
   "source": [
    "test_results"
   ]
  },
  {
   "cell_type": "code",
   "execution_count": 70,
   "metadata": {
    "colab": {
     "base_uri": "https://localhost:8080/"
    },
    "id": "5ak03CuvYpUv",
    "outputId": "66a243ba-ea79-4eb1-efdd-4759eb3908ba"
   },
   "outputs": [
    {
     "name": "stdout",
     "output_type": "stream",
     "text": [
      "(78,)\n",
      "(78,)\n"
     ]
    },
    {
     "data": {
      "text/plain": [
       "0.8994211773444549"
      ]
     },
     "execution_count": 70,
     "metadata": {
      "tags": []
     },
     "output_type": "execute_result"
    }
   ],
   "source": [
    "preds = dnn_model.predict(test_features).flatten()\n",
    "print(preds.shape)\n",
    "\n",
    "print(test_labels.shape)\n",
    "\n",
    "r2_score(real, preds)"
   ]
  },
  {
   "cell_type": "code",
   "execution_count": 71,
   "metadata": {
    "colab": {
     "base_uri": "https://localhost:8080/",
     "height": 174
    },
    "id": "7nL-WRIRYtM3",
    "outputId": "8f1dcc91-80ec-4066-c782-4214826e8a42"
   },
   "outputs": [
    {
     "data": {
      "text/html": [
       "<div>\n",
       "<style scoped>\n",
       "    .dataframe tbody tr th:only-of-type {\n",
       "        vertical-align: middle;\n",
       "    }\n",
       "\n",
       "    .dataframe tbody tr th {\n",
       "        vertical-align: top;\n",
       "    }\n",
       "\n",
       "    .dataframe thead th {\n",
       "        text-align: right;\n",
       "    }\n",
       "</style>\n",
       "<table border=\"1\" class=\"dataframe\">\n",
       "  <thead>\n",
       "    <tr style=\"text-align: right;\">\n",
       "      <th></th>\n",
       "      <th>Mean absolute error [MPG]</th>\n",
       "    </tr>\n",
       "  </thead>\n",
       "  <tbody>\n",
       "    <tr>\n",
       "      <th>horsepower_model</th>\n",
       "      <td>3.651719</td>\n",
       "    </tr>\n",
       "    <tr>\n",
       "      <th>linear_model</th>\n",
       "      <td>2.493821</td>\n",
       "    </tr>\n",
       "    <tr>\n",
       "      <th>dnn_horsepower_model</th>\n",
       "      <td>2.810264</td>\n",
       "    </tr>\n",
       "    <tr>\n",
       "      <th>dnn_model</th>\n",
       "      <td>1.865067</td>\n",
       "    </tr>\n",
       "  </tbody>\n",
       "</table>\n",
       "</div>"
      ],
      "text/plain": [
       "                      Mean absolute error [MPG]\n",
       "horsepower_model                       3.651719\n",
       "linear_model                           2.493821\n",
       "dnn_horsepower_model                   2.810264\n",
       "dnn_model                              1.865067"
      ]
     },
     "execution_count": 71,
     "metadata": {
      "tags": []
     },
     "output_type": "execute_result"
    }
   ],
   "source": [
    "pd.DataFrame(test_results, index=['Mean absolute error [MPG]']).T"
   ]
  },
  {
   "cell_type": "markdown",
   "metadata": {
    "id": "rYreHeywZPm6"
   },
   "source": [
    "## Предсказания"
   ]
  },
  {
   "cell_type": "markdown",
   "metadata": {
    "id": "_ldE1fryZXgC"
   },
   "source": [
    "Посмотрим визуально на ошибки, сделанные моделью при прогнозировании на тестовом наборе:"
   ]
  },
  {
   "cell_type": "code",
   "execution_count": 72,
   "metadata": {
    "colab": {
     "base_uri": "https://localhost:8080/",
     "height": 283
    },
    "id": "zS1hnEkWZNrm",
    "outputId": "19bd7fcd-ccde-48e0-ce4c-64dc69cd709d"
   },
   "outputs": [
    {
     "data": {
      "image/png": "[encoded data removed]",
      "text/plain": [
       "<Figure size 432x288 with 1 Axes>"
      ]
     },
     "metadata": {
      "needs_background": "light",
      "tags": []
     },
     "output_type": "display_data"
    }
   ],
   "source": [
    "test_predictions = dnn_model.predict(test_features).flatten()\n",
    "\n",
    "a = plt.axes(aspect='equal')\n",
    "plt.scatter(test_labels, test_predictions)\n",
    "plt.xlabel('True Values [MPG]')\n",
    "plt.ylabel('Predictions [MPG]')\n",
    "lims = [0, 50]\n",
    "plt.xlim(lims)\n",
    "plt.ylim(lims)\n",
    "_ = plt.plot(lims, lims)"
   ]
  },
  {
   "cell_type": "markdown",
   "metadata": {
    "id": "0dyGb2KOZcbW"
   },
   "source": [
    "Похоже, модель достаточно хорошо предсказывает.\n",
    "\n",
    "Теперь посмотрим на распределение ошибок:"
   ]
  },
  {
   "cell_type": "code",
   "execution_count": 73,
   "metadata": {
    "colab": {
     "base_uri": "https://localhost:8080/",
     "height": 279
    },
    "id": "tzzeCul6ZVFU",
    "outputId": "102288f9-5f16-438f-c550-c092cba1c666"
   },
   "outputs": [
    {
     "data": {
      "image/png": "[encoded data removed]",
      "text/plain": [
       "<Figure size 432x288 with 1 Axes>"
      ]
     },
     "metadata": {
      "needs_background": "light",
      "tags": []
     },
     "output_type": "display_data"
    }
   ],
   "source": [
    "error = test_predictions - test_labels\n",
    "plt.hist(error, bins=25)\n",
    "plt.xlabel('Предсказанная ошибка [MPG]')\n",
    "_ = plt.ylabel('Количество')"
   ]
  },
  {
   "cell_type": "markdown",
   "metadata": {
    "id": "QepVPSmsZknb"
   },
   "source": [
    "Если модель вас устраивает, сохраните ее для дальнейшего использования:"
   ]
  },
  {
   "cell_type": "code",
   "execution_count": 74,
   "metadata": {
    "colab": {
     "base_uri": "https://localhost:8080/"
    },
    "id": "kZAopkmiZeJN",
    "outputId": "28258c2e-8d50-4875-d62f-6b36dfa8763b"
   },
   "outputs": [
    {
     "name": "stdout",
     "output_type": "stream",
     "text": [
      "INFO:tensorflow:Assets written to: dnn_model/assets\n"
     ]
    }
   ],
   "source": [
    "dnn_model.save('dnn_model')"
   ]
  },
  {
   "cell_type": "markdown",
   "metadata": {
    "id": "aYh_6zcfZqMu"
   },
   "source": [
    "Если вы перезагрузите модель, она выдаст идентичный результат:"
   ]
  },
  {
   "cell_type": "code",
   "execution_count": 75,
   "metadata": {
    "id": "zYMyuNz0ZmSc"
   },
   "outputs": [],
   "source": [
    "reloaded = tf.keras.models.load_model('dnn_model')\n",
    "\n",
    "test_results['reloaded'] = reloaded.evaluate(\n",
    "    test_features, test_labels, verbose=0)"
   ]
  },
  {
   "cell_type": "code",
   "execution_count": 76,
   "metadata": {
    "colab": {
     "base_uri": "https://localhost:8080/",
     "height": 206
    },
    "id": "QrCq-xNgZr3L",
    "outputId": "22c9dd35-b57c-4719-e3c9-b453076fb725"
   },
   "outputs": [
    {
     "data": {
      "text/html": [
       "<div>\n",
       "<style scoped>\n",
       "    .dataframe tbody tr th:only-of-type {\n",
       "        vertical-align: middle;\n",
       "    }\n",
       "\n",
       "    .dataframe tbody tr th {\n",
       "        vertical-align: top;\n",
       "    }\n",
       "\n",
       "    .dataframe thead th {\n",
       "        text-align: right;\n",
       "    }\n",
       "</style>\n",
       "<table border=\"1\" class=\"dataframe\">\n",
       "  <thead>\n",
       "    <tr style=\"text-align: right;\">\n",
       "      <th></th>\n",
       "      <th>Mean absolute error [MPG]</th>\n",
       "    </tr>\n",
       "  </thead>\n",
       "  <tbody>\n",
       "    <tr>\n",
       "      <th>horsepower_model</th>\n",
       "      <td>3.651719</td>\n",
       "    </tr>\n",
       "    <tr>\n",
       "      <th>linear_model</th>\n",
       "      <td>2.493821</td>\n",
       "    </tr>\n",
       "    <tr>\n",
       "      <th>dnn_horsepower_model</th>\n",
       "      <td>2.810264</td>\n",
       "    </tr>\n",
       "    <tr>\n",
       "      <th>dnn_model</th>\n",
       "      <td>1.865067</td>\n",
       "    </tr>\n",
       "    <tr>\n",
       "      <th>reloaded</th>\n",
       "      <td>1.865067</td>\n",
       "    </tr>\n",
       "  </tbody>\n",
       "</table>\n",
       "</div>"
      ],
      "text/plain": [
       "                      Mean absolute error [MPG]\n",
       "horsepower_model                       3.651719\n",
       "linear_model                           2.493821\n",
       "dnn_horsepower_model                   2.810264\n",
       "dnn_model                              1.865067\n",
       "reloaded                               1.865067"
      ]
     },
     "execution_count": 76,
     "metadata": {
      "tags": []
     },
     "output_type": "execute_result"
    }
   ],
   "source": [
    "pd.DataFrame(test_results, index=['Mean absolute error [MPG]']).T"
   ]
  },
  {
   "cell_type": "markdown",
   "metadata": {
    "id": "IWmGlptEakPf"
   },
   "source": [
    "# Fashion MNIST - тюнинг параметров"
   ]
  },
  {
   "cell_type": "markdown",
   "metadata": {
    "id": "td0h4e06aqFB"
   },
   "source": [
    "Keras Tuner - это библиотека, которая помогает вам выбрать оптимальный набор гиперпараметров для вашей модели. Процесс выбора правильного набора гиперпараметров для вашего приложения машинного обучения (ML) называется настройкой гиперпараметров или файн-тюнинг.\n",
    "\n",
    "Гиперпараметры - это переменные, которые управляют процессом обучения и топологией модели машинного обучения. Эти переменные остаются постоянными в процессе обучения и напрямую влияют на производительность вашей программы машинного обучения. Гиперпараметры бывают двух типов:\n",
    "\n",
    "Гиперпараметры модели, влияющие на выбор модели, такие как количество и ширина скрытых слоев.\n",
    "\n",
    "Гиперпараметры алгоритма, которые влияют на скорость и качество алгоритма обучения, такие как скорость обучения для стохастического градиентного спуска (SGD) и количество ближайших соседей для классификатора k ближайших соседей (KNN)\n",
    "\n",
    "В этом руководстве вы будете использовать Keras Tuner для выполнения гипертонастройки для приложения классификации изображений."
   ]
  },
  {
   "cell_type": "code",
   "execution_count": 77,
   "metadata": {
    "id": "4o-ZJtZjZs3M"
   },
   "outputs": [],
   "source": [
    "import tensorflow as tf\n",
    "from tensorflow import keras\n",
    "\n",
    "import IPython"
   ]
  },
  {
   "cell_type": "code",
   "execution_count": 78,
   "metadata": {
    "colab": {
     "base_uri": "https://localhost:8080/"
    },
    "id": "m-b10uQIa4Nx",
    "outputId": "77c2898f-72fc-449e-86ba-d2219390bd59"
   },
   "outputs": [
    {
     "name": "stdout",
     "output_type": "stream",
     "text": [
      "\u001b[?25l\r",
      "\u001b[K     |█████▏                          | 10kB 26.3MB/s eta 0:00:01\r",
      "\u001b[K     |██████████▍                     | 20kB 32.3MB/s eta 0:00:01\r",
      "\u001b[K     |███████████████▋                | 30kB 22.9MB/s eta 0:00:01\r",
      "\u001b[K     |████████████████████▉           | 40kB 20.8MB/s eta 0:00:01\r",
      "\u001b[K     |██████████████████████████      | 51kB 21.6MB/s eta 0:00:01\r",
      "\u001b[K     |███████████████████████████████▎| 61kB 16.0MB/s eta 0:00:01\r",
      "\u001b[K     |████████████████████████████████| 71kB 7.3MB/s \n",
      "\u001b[?25h  Building wheel for keras-tuner (setup.py) ... \u001b[?25l\u001b[?25hdone\n",
      "  Building wheel for terminaltables (setup.py) ... \u001b[?25l\u001b[?25hdone\n"
     ]
    }
   ],
   "source": [
    "!pip install -q -U keras-tuner\n",
    "import kerastuner as kt"
   ]
  },
  {
   "cell_type": "markdown",
   "metadata": {
    "id": "zL42f4dva6_y"
   },
   "source": [
    "## Подготовка данных"
   ]
  },
  {
   "cell_type": "markdown",
   "metadata": {
    "id": "F1y28LXbbGnO"
   },
   "source": [
    "[Источник данных](https://github.com/zalandoresearch/fashion-mnist)\n",
    "\n",
    "Представляет из себя набор данных об одежде с метками"
   ]
  },
  {
   "cell_type": "markdown",
   "metadata": {
    "id": "BJ3gDp58c4XO"
   },
   "source": [
    "Label\t| Description\n",
    "-|-\n",
    " 0\t| T-shirt/top\n",
    "1\t| Trouser\n",
    "2\t| Pullover\n",
    "3\t|Dress\n",
    "4\t| Coat\n",
    "5\t|Sandal\n",
    "6\t|Shirt\n",
    "7\t|Sneaker\n",
    "8\t|Bag\n",
    "9\t|Ankle boot"
   ]
  },
  {
   "cell_type": "code",
   "execution_count": 79,
   "metadata": {
    "id": "DGVOON3wdEZp"
   },
   "outputs": [],
   "source": [
    "fash_labels = {\n",
    "    0: 'T-shirt/top',\n",
    "    1: 'Trouser',\n",
    "    2: 'Pullover',\n",
    "    3: 'Dress',\n",
    "    4: 'Coat',\n",
    "    5: 'Sandal',\n",
    "    6: 'Shirt',\n",
    "    7: 'Sneaker',\n",
    "    8: 'Bag',\n",
    "    9: 'Ankle boot'\n",
    "}"
   ]
  },
  {
   "cell_type": "code",
   "execution_count": 80,
   "metadata": {
    "colab": {
     "base_uri": "https://localhost:8080/"
    },
    "id": "Rem24ZnFa5do",
    "outputId": "7a462f13-c5e4-4d29-aee2-5cd370bbc671"
   },
   "outputs": [
    {
     "name": "stdout",
     "output_type": "stream",
     "text": [
      "Downloading data from https://storage.googleapis.com/tensorflow/tf-keras-datasets/train-labels-idx1-ubyte.gz\n",
      "32768/29515 [=================================] - 0s 0us/step\n",
      "Downloading data from https://storage.googleapis.com/tensorflow/tf-keras-datasets/train-images-idx3-ubyte.gz\n",
      "26427392/26421880 [==============================] - 0s 0us/step\n",
      "Downloading data from https://storage.googleapis.com/tensorflow/tf-keras-datasets/t10k-labels-idx1-ubyte.gz\n",
      "8192/5148 [===============================================] - 0s 0us/step\n",
      "Downloading data from https://storage.googleapis.com/tensorflow/tf-keras-datasets/t10k-images-idx3-ubyte.gz\n",
      "4423680/4422102 [==============================] - 0s 0us/step\n"
     ]
    }
   ],
   "source": [
    "(img_train, label_train), (img_test, label_test) = keras.datasets.fashion_mnist.load_data()"
   ]
  },
  {
   "cell_type": "markdown",
   "metadata": {
    "id": "tMOP8QEGbwDE"
   },
   "source": [
    "Нормализуем данные. Поскольку все данные находятся в диапазоне от 0 до 255 (яркости пикселей) - просто разделим их на 255"
   ]
  },
  {
   "cell_type": "code",
   "execution_count": 81,
   "metadata": {
    "id": "Y1b1SO-6bQoX"
   },
   "outputs": [],
   "source": [
    "img_train = img_train.astype('float32') / 255.0\n",
    "img_test = img_test.astype('float32') / 255.0"
   ]
  },
  {
   "cell_type": "code",
   "execution_count": 82,
   "metadata": {
    "colab": {
     "base_uri": "https://localhost:8080/",
     "height": 193
    },
    "id": "i5TmthurbUZW",
    "outputId": "6f216214-763b-49f9-fa43-4d85e5e34169"
   },
   "outputs": [
    {
     "data": {
      "image/png": "[encoded data removed]",
      "text/plain": [
       "<Figure size 5760x2880 with 5 Axes>"
      ]
     },
     "metadata": {
      "needs_background": "light",
      "tags": []
     },
     "output_type": "display_data"
    }
   ],
   "source": [
    "from PIL import Image \n",
    "f, ax = plt.subplots(1,5)\n",
    "f.set_size_inches(80, 40)\n",
    "for i in range(5):\n",
    "    ax[i].imshow(img_train[i].reshape(28, 28))\n",
    "    ax[i].set_title(fash_labels[label_train[i]], fontdict = {'fontsize':48})\n",
    "plt.show()"
   ]
  },
  {
   "cell_type": "markdown",
   "metadata": {
    "id": "cb-4uwJCdidn"
   },
   "source": [
    "### Модель"
   ]
  },
  {
   "cell_type": "markdown",
   "metadata": {
    "id": "qq7Gm2p7dlMc"
   },
   "source": [
    "Когда вы строите модель для гипертонастройки, вы также определяете пространство поиска гиперпараметров в дополнение к архитектуре модели. Модель, которую вы настроили для гипертюнинга, называется гипермоделью .\n",
    "\n",
    "Вы можете определить гипермодель двумя способами:\n",
    "\n",
    "* Используя функцию построителя модели\n",
    "* HyperModel подкласс класса HyperModel API Keras Tuner\n",
    "\n",
    "Вы также можете использовать два предопределенных класса HyperModel - HyperXception и HyperResNet для приложений компьютерного зрения.\n",
    "\n",
    "В этом руководстве вы используете функцию построителя моделей для определения модели классификации изображений. Функция построителя моделей возвращает скомпилированную модель и использует гиперпараметры, которые вы определяете встроенными, для гипертонастройки модели."
   ]
  },
  {
   "cell_type": "code",
   "execution_count": 86,
   "metadata": {
    "id": "FncAUm4PcOd7"
   },
   "outputs": [],
   "source": [
    "def model_builder(hp):\n",
    "    model = keras.Sequential()\n",
    "    model.add(keras.layers.Flatten(input_shape=(28, 28)))\n",
    "\n",
    "    # Настраиваем кол-во нейронов в первом слое полносвязной сети в диапазоне 32-512\n",
    "    hp_units = hp.Int('units', min_value = 32, max_value = 512, step = 32)\n",
    "    model.add(keras.layers.Dense(units = hp_units, activation = 'relu'))\n",
    "    model.add(keras.layers.Dense(10))\n",
    "\n",
    "    # Настраиваем оптимальную скорость обучения, скорости 0.01, 0.001, or 0.0001\n",
    "    hp_learning_rate = hp.Choice('learning_rate', values = [1e-2, 1e-3, 1e-4]) \n",
    "\n",
    "    model.compile(optimizer = keras.optimizers.Adam(learning_rate = hp_learning_rate),\n",
    "                    loss = keras.losses.SparseCategoricalCrossentropy(from_logits = True), \n",
    "                    metrics = ['accuracy'])\n",
    "\n",
    "    return model"
   ]
  },
  {
   "cell_type": "markdown",
   "metadata": {
    "id": "XvvUCNW9d-Ka"
   },
   "source": [
    "Создадим экземпляр тюнера и выполним файн-тюнинг"
   ]
  },
  {
   "cell_type": "markdown",
   "metadata": {
    "id": "jCBdIhJeeDj1"
   },
   "source": [
    "Создайте экземпляр тюнера для выполнения файнтюнинга. У Keras Tuner есть четыре доступных тюнера - RandomSearch , Hyperband , BayesianOptimization и Sklearn . В этом руководстве вы используете тюнер Hyperband .\n",
    "\n",
    "Чтобы создать экземпляр тюнера Hyperband, вы должны указать гипермодель, objective для оптимизации и максимальное количество эпох для обучения ( max_epochs )."
   ]
  },
  {
   "cell_type": "code",
   "execution_count": 87,
   "metadata": {
    "id": "LDOhGWm8eCT_"
   },
   "outputs": [],
   "source": [
    "tuner = kt.Hyperband(model_builder,\n",
    "                     objective = 'val_accuracy', \n",
    "                     max_epochs = 10,\n",
    "                     factor = 3,\n",
    "                     directory = 'my_dir',\n",
    "                     project_name = 'intro_to_kt')"
   ]
  },
  {
   "cell_type": "markdown",
   "metadata": {
    "id": "Zhbgnc7FeNrP"
   },
   "source": [
    "Алгоритм настройки Hyperband использует адаптивное распределение ресурсов и раннюю остановку, чтобы быстро перейти к высокопроизводительной модели. Алгоритм обучает большое количество моделей в течение нескольких эпох и переносит на следующий этап только половину наиболее эффективных моделей. Hyperband определяет количество моделей для обучения в группе, вычисляя factor логарифма 1 + ( max_epochs ) и округляя его до ближайшего целого числа.\n",
    "\n",
    "Перед запуском поиска по гиперпараметрам определите обратный вызов для очистки результатов обучения в конце каждого шага обучения."
   ]
  },
  {
   "cell_type": "code",
   "execution_count": 88,
   "metadata": {
    "id": "B2EFO6WQeKs_"
   },
   "outputs": [],
   "source": [
    "class ClearTrainingOutput(tf.keras.callbacks.Callback):\n",
    "    def on_train_end(*args, **kwargs):\n",
    "        IPython.display.clear_output(wait = True)"
   ]
  },
  {
   "cell_type": "markdown",
   "metadata": {
    "id": "JlMFYJYjeZ58"
   },
   "source": [
    "Запустите поиск гиперпараметров. Аргументы для метода поиска те же, что и для tf.keras.model.fit в дополнение к tf.keras.model.fit вызову выше."
   ]
  },
  {
   "cell_type": "code",
   "execution_count": 89,
   "metadata": {
    "colab": {
     "base_uri": "https://localhost:8080/"
    },
    "id": "u3zDjpIgeYtb",
    "outputId": "c3c9dd52-ec80-4a22-a6ed-833c12e3d4e7"
   },
   "outputs": [
    {
     "name": "stdout",
     "output_type": "stream",
     "text": [
      "Trial 30 Complete [00h 00m 37s]\n",
      "val_accuracy: 0.871399998664856\n",
      "\n",
      "Best val_accuracy So Far: 0.8888000249862671\n",
      "Total elapsed time: 00h 07m 50s\n",
      "INFO:tensorflow:Oracle triggered exit\n"
     ]
    }
   ],
   "source": [
    "with tf.device('/gpu:0'):\n",
    "    tuner.search(img_train,\n",
    "                label_train,\n",
    "                epochs = 10,\n",
    "                validation_data = (img_test, label_test),\n",
    "                callbacks = [ClearTrainingOutput()])\n",
    "\n",
    "best_hps = tuner.get_best_hyperparameters(num_trials = 1)[0]"
   ]
  },
  {
   "cell_type": "markdown",
   "metadata": {
    "id": "UED8cIuDej8_"
   },
   "source": [
    "Переобучим модель с оптимальными гиперпараметрами из поиска:"
   ]
  },
  {
   "cell_type": "code",
   "execution_count": 90,
   "metadata": {
    "colab": {
     "base_uri": "https://localhost:8080/"
    },
    "id": "4xbtM4XOeg6T",
    "outputId": "46f61b51-1dfe-4a0a-8df3-378c4a32bbe0"
   },
   "outputs": [
    {
     "name": "stdout",
     "output_type": "stream",
     "text": [
      "Epoch 1/10\n",
      "1875/1875 [==============================] - 4s 2ms/step - loss: 0.6128 - accuracy: 0.7882 - val_loss: 0.4315 - val_accuracy: 0.8456\n",
      "Epoch 2/10\n",
      "1875/1875 [==============================] - 4s 2ms/step - loss: 0.3700 - accuracy: 0.8664 - val_loss: 0.3900 - val_accuracy: 0.8592\n",
      "Epoch 3/10\n",
      "1875/1875 [==============================] - 4s 2ms/step - loss: 0.3319 - accuracy: 0.8789 - val_loss: 0.3707 - val_accuracy: 0.8671\n",
      "Epoch 4/10\n",
      "1875/1875 [==============================] - 4s 2ms/step - loss: 0.3041 - accuracy: 0.8864 - val_loss: 0.3566 - val_accuracy: 0.8748\n",
      "Epoch 5/10\n",
      "1875/1875 [==============================] - 4s 2ms/step - loss: 0.2897 - accuracy: 0.8936 - val_loss: 0.3719 - val_accuracy: 0.8669\n",
      "Epoch 6/10\n",
      "1875/1875 [==============================] - 4s 2ms/step - loss: 0.2750 - accuracy: 0.8971 - val_loss: 0.3915 - val_accuracy: 0.8641\n",
      "Epoch 7/10\n",
      "1875/1875 [==============================] - 4s 2ms/step - loss: 0.2606 - accuracy: 0.9020 - val_loss: 0.3350 - val_accuracy: 0.8732\n",
      "Epoch 8/10\n",
      "1875/1875 [==============================] - 4s 2ms/step - loss: 0.2480 - accuracy: 0.9073 - val_loss: 0.3280 - val_accuracy: 0.8868\n",
      "Epoch 9/10\n",
      "1875/1875 [==============================] - 4s 2ms/step - loss: 0.2394 - accuracy: 0.9090 - val_loss: 0.3432 - val_accuracy: 0.8800\n",
      "Epoch 10/10\n",
      "1875/1875 [==============================] - 4s 2ms/step - loss: 0.2303 - accuracy: 0.9127 - val_loss: 0.3422 - val_accuracy: 0.8846\n"
     ]
    }
   ],
   "source": [
    "with tf.device('/gpu:0'):\n",
    "    model = tuner.hypermodel.build(best_hps)\n",
    "    model.fit(img_train,\n",
    "            label_train,\n",
    "            epochs = 10,\n",
    "            validation_data = (img_test, label_test))"
   ]
  },
  {
   "cell_type": "markdown",
   "metadata": {
    "id": "fhBFX8R0esqj"
   },
   "source": [
    "my_dir/intro_to_kt содержит подробные журналы и контрольные точки для каждого испытания (конфигурации модели), запущенного во время поиска гиперпараметров. Если вы повторно запустите поиск гиперпараметров, Keras Tuner использует существующее состояние из этих журналов для возобновления поиска. Чтобы отключить это поведение, передайте дополнительный аргумент overwrite = True при создании экземпляра тюнера."
   ]
  },
  {
   "cell_type": "code",
   "execution_count": 91,
   "metadata": {
    "id": "kVz7MeXke0pX"
   },
   "outputs": [],
   "source": [
    "preds = model.predict(img_test)"
   ]
  },
  {
   "cell_type": "code",
   "execution_count": 92,
   "metadata": {
    "colab": {
     "base_uri": "https://localhost:8080/"
    },
    "id": "ThE4jAHThSlk",
    "outputId": "6703568d-5609-4bf2-d61f-4c7ecbfc856b"
   },
   "outputs": [
    {
     "data": {
      "text/plain": [
       "(10000, 10)"
      ]
     },
     "execution_count": 92,
     "metadata": {
      "tags": []
     },
     "output_type": "execute_result"
    }
   ],
   "source": [
    "preds.shape"
   ]
  },
  {
   "cell_type": "code",
   "execution_count": 93,
   "metadata": {
    "colab": {
     "base_uri": "https://localhost:8080/"
    },
    "id": "kIsyABszhbun",
    "outputId": "ca8b1b5d-432c-4b2e-8bcc-04bd6b341e70"
   },
   "outputs": [
    {
     "data": {
      "text/plain": [
       "array([[-1.11039000e+01, -1.72830334e+01, -1.39126444e+01, ...,\n",
       "         1.00939023e+00, -1.15793152e+01,  6.36905718e+00],\n",
       "       [-1.46989562e-02, -2.08406601e+01,  9.34345150e+00, ...,\n",
       "        -1.45314245e+01, -7.98101568e+00, -2.34065552e+01],\n",
       "       [-4.55226517e+00,  1.56036339e+01, -1.46762705e+01, ...,\n",
       "        -5.09171562e+01, -1.65151711e+01, -3.77180786e+01],\n",
       "       ...,\n",
       "       [-4.24315548e+00, -1.73098125e+01, -6.56218767e+00, ...,\n",
       "        -1.07644768e+01,  5.40962887e+00, -2.24602375e+01],\n",
       "       [-8.81434631e+00,  1.23252144e+01, -1.18557863e+01, ...,\n",
       "        -3.55060577e+01, -1.06769104e+01, -2.68231907e+01],\n",
       "       [-6.76780701e+00, -1.51413603e+01, -9.26979256e+00, ...,\n",
       "        -1.52063179e+00, -4.15773439e+00, -6.56853628e+00]], dtype=float32)"
      ]
     },
     "execution_count": 93,
     "metadata": {
      "tags": []
     },
     "output_type": "execute_result"
    }
   ],
   "source": [
    "preds"
   ]
  },
  {
   "cell_type": "code",
   "execution_count": 94,
   "metadata": {
    "colab": {
     "base_uri": "https://localhost:8080/"
    },
    "id": "gC9cDzY7hhSV",
    "outputId": "0f6e1773-4630-4a52-e8a7-ea8b5fdea5cb"
   },
   "outputs": [
    {
     "data": {
      "text/plain": [
       "array([9, 2, 1, 1, 6])"
      ]
     },
     "execution_count": 94,
     "metadata": {
      "tags": []
     },
     "output_type": "execute_result"
    }
   ],
   "source": [
    "y_classes = preds.argmax(axis=-1)\n",
    "y_classes[:5]"
   ]
  },
  {
   "cell_type": "code",
   "execution_count": 95,
   "metadata": {
    "colab": {
     "base_uri": "https://localhost:8080/"
    },
    "id": "tr_4qOlehlhs",
    "outputId": "df883368-28b7-4467-eaa1-29bd4a52d130"
   },
   "outputs": [
    {
     "data": {
      "text/plain": [
       "array([9, 2, 1, ..., 8, 1, 5], dtype=uint8)"
      ]
     },
     "execution_count": 95,
     "metadata": {
      "tags": []
     },
     "output_type": "execute_result"
    }
   ],
   "source": [
    "label_test"
   ]
  },
  {
   "cell_type": "code",
   "execution_count": 96,
   "metadata": {
    "colab": {
     "base_uri": "https://localhost:8080/"
    },
    "id": "3tsztpHUhTdB",
    "outputId": "f1d5a6bb-49a3-4707-9310-78ab59ce3aad"
   },
   "outputs": [
    {
     "name": "stdout",
     "output_type": "stream",
     "text": [
      "              precision    recall  f1-score   support\n",
      "\n",
      " T-shirt/top       0.84      0.84      0.84      1000\n",
      "     Trouser       0.99      0.98      0.98      1000\n",
      "    Pullover       0.84      0.75      0.79      1000\n",
      "       Dress       0.85      0.93      0.89      1000\n",
      "        Coat       0.80      0.78      0.79      1000\n",
      "      Sandal       0.98      0.95      0.97      1000\n",
      "       Shirt       0.69      0.73      0.71      1000\n",
      "     Sneaker       0.92      0.98      0.95      1000\n",
      "         Bag       0.99      0.97      0.98      1000\n",
      "  Ankle boot       0.97      0.94      0.95      1000\n",
      "\n",
      "    accuracy                           0.88     10000\n",
      "   macro avg       0.89      0.88      0.88     10000\n",
      "weighted avg       0.89      0.88      0.88     10000\n",
      "\n"
     ]
    }
   ],
   "source": [
    "from sklearn.metrics import classification_report\n",
    "\n",
    "print(classification_report(label_test, y_classes, target_names = list(fash_labels.values())))"
   ]
  },
  {
   "cell_type": "code",
   "execution_count": null,
   "metadata": {
    "id": "206Opni8h8s-"
   },
   "outputs": [],
   "source": []
  }
 ],
 "metadata": {
  "accelerator": "GPU",
  "colab": {
   "collapsed_sections": [],
   "name": "DL tf regression.ipynb",
   "provenance": [],
   "toc_visible": true
  },
  "kernelspec": {
   "display_name": "Python 3 (ipykernel)",
   "language": "python",
   "name": "python3"
  },
  "language_info": {
   "codemirror_mode": {
    "name": "ipython",
    "version": 3
   },
   "file_extension": ".py",
   "mimetype": "text/x-python",
   "name": "python",
   "nbconvert_exporter": "python",
   "pygments_lexer": "ipython3",
   "version": "3.9.16"
  }
 },
 "nbformat": 4,
 "nbformat_minor": 1
}
