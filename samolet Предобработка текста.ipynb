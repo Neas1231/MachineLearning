{
 "cells": [
  {
   "cell_type": "code",
   "execution_count": null,
   "id": "118d89b9",
   "metadata": {},
   "outputs": [],
   "source": [
    "patterns = \"[0-9!#$%&'()*+,./:;<=>?@[\\]^_`{|}~—\\\"\\-]+\"\n",
    "stopwords_ru = stopwords.words(\"russian\")\n",
    "morph = MorphAnalyzer()\n",
    "def lemmatize(doc):\n",
    "    doc = re.sub(patterns, ' ', doc)\n",
    "    tokens = []\n",
    "    for token in doc.split():\n",
    "        if token and token not in stopwords_ru:\n",
    "            token = token.strip()\n",
    "            token = morph.normal_forms(token)[0]\n",
    "            \n",
    "            tokens.append(token)\n",
    "    #if len(tokens) > 2:\n",
    "    return tokens\n",
    "    #return None\n",
    "    \n",
    "df_cop['address'] = df_cop['address'].apply(lemmatize)\n",
    "\n",
    "def concat(text):\n",
    "    text= ' '.join(text)\n",
    "    return text\n",
    "\n",
    "df_cop['address'] = df_cop['address'].apply(concat)\n",
    "\n",
    "from sklearn.feature_extraction.text import CountVectorizer\n",
    "from nltk.corpus import stopwords\n",
    "count_vect = CountVectorizer()\n",
    "X_counts = count_vect.fit_transform(df_cop['address'])\n",
    "X_counts.shape\n",
    "\n",
    "from sklearn.feature_extraction.text import TfidfTransformer\n",
    "tf_transformer = TfidfTransformer().fit(X_counts)\n",
    "X_tfidf = tf_transformer.transform(X_counts)\n",
    "X_tfidf.shape\n",
    "\n",
    "from sklearn.decomposition import TruncatedSVD\n",
    "clf = TruncatedSVD(5)\n",
    "Xpca = clf.fit_transform(X_tfidf)\n",
    "Xpca"
   ]
  }
 ],
 "metadata": {
  "kernelspec": {
   "display_name": "Python 3 (ipykernel)",
   "language": "python",
   "name": "python3"
  },
  "language_info": {
   "codemirror_mode": {
    "name": "ipython",
    "version": 3
   },
   "file_extension": ".py",
   "mimetype": "text/x-python",
   "name": "python",
   "nbconvert_exporter": "python",
   "pygments_lexer": "ipython3",
   "version": "3.10.9"
  }
 },
 "nbformat": 4,
 "nbformat_minor": 5
}
