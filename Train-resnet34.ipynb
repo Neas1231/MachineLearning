{
 "cells": [
  {
   "cell_type": "code",
   "execution_count": 7,
   "id": "4c6afa46",
   "metadata": {},
   "outputs": [
    {
     "data": {
      "text/plain": [
       "'NVIDIA GeForce GTX 1650'"
      ]
     },
     "execution_count": 7,
     "metadata": {},
     "output_type": "execute_result"
    }
   ],
   "source": [
    "import torch\n",
    "import os\n",
    "from torchvision import datasets, models, transforms\n",
    "from __future__ import print_function, division\n",
    "import torch\n",
    "import torch.nn as nn\n",
    "import torch.optim as optim\n",
    "from torch.optim import lr_scheduler\n",
    "import torch.backends.cudnn as cudnn\n",
    "import numpy as np\n",
    "import torchvision\n",
    "from torchvision import datasets, models, transforms\n",
    "import matplotlib.pyplot as plt\n",
    "import time\n",
    "import os\n",
    "import glob\n",
    "import copy\n",
    "import neptune\n",
    "#import splitfolders # Библиотека для разделения файлов картинок на train test\n",
    "import matplotlib.gridspec as gridspec\n",
    "cudnn.benchmark = True\n",
    "torch.cuda.get_device_name(0)"
   ]
  },
  {
   "cell_type": "code",
   "execution_count": 8,
   "id": "86c74f79",
   "metadata": {},
   "outputs": [
    {
     "name": "stdout",
     "output_type": "stream",
     "text": [
      "https://app.neptune.ai/neas1231/Neas1231/e/NEAS-80\n"
     ]
    }
   ],
   "source": [
    "run = neptune.init_run(\n",
    "    project=\"neas1231/Neas1231\",\n",
    "    api_token=\"eyJhcGlfYWRkcmVzcyI6Imh0dHBzOi8vYXBwLm5lcHR1bmUuYWkiLCJhcGlfdXJsIjoiaHR0cHM6Ly9hcHAubmVwdHVuZS5haSIsImFwaV9rZXkiOiJmY2VjMGIzOS01ZjI1LTQ1MTItODQxYi0zMjIyOWIwYWI0MzIifQ==\",\n",
    ")\n",
    "\n",
    "data_transforms = {\n",
    "    'train': transforms.Compose([\n",
    "        transforms.Resize((256 , 256)),   \n",
    "        transforms.RandomRotation(10),\n",
    "        transforms.RandomHorizontalFlip(),\n",
    "        transforms.ToTensor(),\n",
    "        transforms.Normalize([0.485, 0.456, 0.406], [0.229, 0.224, 0.225])\n",
    "    ]),\n",
    "    'val': transforms.Compose([\n",
    "        transforms.Resize((256 , 256)),\n",
    "        transforms.ToTensor(),\n",
    "        transforms.Normalize([0.485, 0.456, 0.406], [0.229, 0.224, 0.225])\n",
    "    ]),\n",
    "}\n",
    "\n",
    "data_dir = 'E:\\datasets\\dataset'\n",
    "run[\"config/data_dir\"] = data_dir\n",
    "\n",
    "image_datasets = {x: datasets.ImageFolder(os.path.join(data_dir, x),\n",
    "                                          data_transforms[x])\n",
    "              for x in ['train', 'val']}\n",
    "dataloaders = {x: torch.utils.data.DataLoader(image_datasets[x], batch_size=32,\n",
    "                                             shuffle=True, num_workers=8)\n",
    "              for x in ['train', 'val']}\n",
    "\n",
    "dataset_sizes = {x: len(image_datasets[x]) \n",
    "              for x in ['train', 'val']}\n",
    "\n",
    "class_names = image_datasets['train'].classes\n",
    "\n",
    "device = torch.device(\"cuda:0\" if torch.cuda.is_available() else \"cpu\")"
   ]
  },
  {
   "cell_type": "code",
   "execution_count": 9,
   "id": "92816e04",
   "metadata": {},
   "outputs": [],
   "source": [
    "def train_model(model, criterion, optimizer, scheduler, num_epochs=14):\n",
    "    since = time.time()\n",
    "    #Сохраняем  лучшие веса \n",
    "    best_model_wts = copy.deepcopy(model.state_dict())\n",
    "    best_acc = 0.0\n",
    "    best_loss = 99\n",
    "    for epoch in range(num_epochs):\n",
    "        print(f'Epoch {epoch}/{num_epochs - 1}')\n",
    "        print('-' * 10)\n",
    "\n",
    "\n",
    "        for phase in ['train', 'val']:\n",
    "            if phase == 'train':\n",
    "                model.train()  \n",
    "            else:\n",
    "                model.eval()   \n",
    "\n",
    "            running_loss = 0.0\n",
    "            running_corrects = 0\n",
    "\n",
    "            # перенос  вычислений на куду \n",
    "            for inputs, labels in dataloaders[phase]:\n",
    "                inputs = inputs.to(device)\n",
    "                labels = labels.to(device)\n",
    "\n",
    "                \n",
    "                optimizer.zero_grad()\n",
    "\n",
    "                #\n",
    "                \n",
    "                with torch.set_grad_enabled(phase == 'train'):\n",
    "                    outputs = model(inputs)\n",
    "                    _, preds = torch.max(outputs, 1)\n",
    "                    loss = criterion(outputs, labels)\n",
    "                    acc = (torch.sum(preds == labels.data)) / len(inputs)\n",
    "                    run[\"logs/training/batch/loss\"].append(loss)\n",
    "                    run[\"logs/training/batch/acc\"].append(acc)\n",
    "\n",
    "                    # считаем градиенты тольок если трейн данные \n",
    "                    if phase == 'train':\n",
    "                        loss.backward()\n",
    "                        optimizer.step()\n",
    "\n",
    "                # стасистика  \n",
    "                running_loss += loss.item() * inputs.size(0)\n",
    "                running_corrects += torch.sum(preds == labels.data)\n",
    "            if phase == 'train':\n",
    "                scheduler.step()\n",
    "\n",
    "            epoch_loss = running_loss / dataset_sizes[phase]\n",
    "            epoch_acc = running_corrects.double() / dataset_sizes[phase]\n",
    "\n",
    "            print(f'{phase} Loss: {epoch_loss:.4f} Acc: {epoch_acc:.4f}')\n",
    "\n",
    "            # сохраняем не только лучшие веса , но и акураси \n",
    "            if phase == 'val' and epoch_loss < best_loss:\n",
    "                best_loss = epoch_loss\n",
    "                best_model_wts = copy.deepcopy(model.state_dict())\n",
    "#             if phase == 'val' and epoch_acc > best_acc:\n",
    "#                 best_acc = epoch_acc\n",
    "\n",
    "        print()\n",
    "\n",
    "    time_elapsed = time.time() - since\n",
    "    print(f'Training complete in {time_elapsed // 60:.0f}m {time_elapsed % 60:.0f}s')\n",
    "    print(f'Best val Loss: {best_loss:4f}')\n",
    "    \n",
    "\n",
    "    model.load_state_dict(best_model_wts)\n",
    "    return model"
   ]
  },
  {
   "cell_type": "code",
   "execution_count": 10,
   "id": "f81540a9",
   "metadata": {},
   "outputs": [
    {
     "name": "stderr",
     "output_type": "stream",
     "text": [
      "D:\\hroneniyas\\anacondas\\envs\\gputorch\\lib\\site-packages\\torchvision\\models\\_utils.py:223: UserWarning: Arguments other than a weight enum or `None` for 'weights' are deprecated since 0.13 and may be removed in the future. The current behavior is equivalent to passing `weights=ResNet34_Weights.IMAGENET1K_V1`. You can also use `weights=ResNet34_Weights.DEFAULT` to get the most up-to-date weights.\n",
      "  warnings.warn(msg)\n"
     ]
    }
   ],
   "source": [
    "model_ft = models.resnet34(pretrained=True) \n",
    "num_ftrs = model_ft.fc.in_features\n",
    "# num_ftrs = model_ft.fc.in_features Для рес нета , но у эфинета другая архитектура \n",
    "\n",
    "model_ft.fc = nn.Linear(num_ftrs, len(class_names))\n",
    "# cuda\n",
    "model_ft = model_ft.to(device)\n",
    "run[\"config/model\"] = model_ft\n",
    "\n",
    "criterion = nn.CrossEntropyLoss()\n",
    "run[\"config/criterion\"] = criterion\n",
    "\n",
    "# оптимайзер  с лернинг рейт \n",
    "optimizer_ft = optim.Adam(model_ft.parameters(), lr=0.001)\n",
    "run[\"config/optimizer\"] = optimizer_ft\n",
    "run[\"parameters\"] = model_ft.parameters()\n",
    "\n",
    "# редактируем лернинг рейт каждые 7 шагов \n",
    "exp_lr_scheduler = lr_scheduler.StepLR(optimizer_ft, step_size=7, gamma=0.1)\n"
   ]
  },
  {
   "cell_type": "code",
   "execution_count": 11,
   "id": "ed13fc8b",
   "metadata": {
    "scrolled": true
   },
   "outputs": [
    {
     "name": "stdout",
     "output_type": "stream",
     "text": [
      "Epoch 0/19\n",
      "----------\n",
      "train Loss: 0.9905 Acc: 0.6662\n",
      "val Loss: 0.8917 Acc: 0.7091\n",
      "\n",
      "Epoch 1/19\n",
      "----------\n",
      "train Loss: 0.6597 Acc: 0.7725\n",
      "val Loss: 0.7800 Acc: 0.7396\n",
      "\n",
      "Epoch 2/19\n",
      "----------\n",
      "train Loss: 0.5568 Acc: 0.8121\n",
      "val Loss: 0.5641 Acc: 0.8163\n",
      "\n",
      "Epoch 3/19\n",
      "----------\n",
      "train Loss: 0.5034 Acc: 0.8275\n",
      "val Loss: 0.4990 Acc: 0.8329\n",
      "\n",
      "Epoch 4/19\n",
      "----------\n",
      "train Loss: 0.4337 Acc: 0.8488\n",
      "val Loss: 0.4674 Acc: 0.8430\n",
      "\n",
      "Epoch 5/19\n",
      "----------\n",
      "train Loss: 0.4220 Acc: 0.8528\n",
      "val Loss: 0.6745 Acc: 0.7895\n",
      "\n",
      "Epoch 6/19\n",
      "----------\n",
      "train Loss: 0.3891 Acc: 0.8679\n",
      "val Loss: 0.5165 Acc: 0.8255\n",
      "\n",
      "Epoch 7/19\n",
      "----------\n",
      "train Loss: 0.2680 Acc: 0.9069\n",
      "val Loss: 0.2988 Acc: 0.9049\n",
      "\n",
      "Epoch 8/19\n",
      "----------\n",
      "train Loss: 0.2014 Acc: 0.9304\n",
      "val Loss: 0.2962 Acc: 0.8947\n",
      "\n",
      "Epoch 9/19\n",
      "----------\n",
      "train Loss: 0.1903 Acc: 0.9320\n",
      "val Loss: 0.2948 Acc: 0.9030\n",
      "\n",
      "Epoch 10/19\n",
      "----------\n",
      "train Loss: 0.1753 Acc: 0.9403\n",
      "val Loss: 0.2999 Acc: 0.8957\n",
      "\n",
      "Epoch 11/19\n",
      "----------\n",
      "train Loss: 0.1633 Acc: 0.9402\n",
      "val Loss: 0.3044 Acc: 0.9030\n",
      "\n",
      "Epoch 12/19\n",
      "----------\n",
      "train Loss: 0.1519 Acc: 0.9474\n",
      "val Loss: 0.2928 Acc: 0.9030\n",
      "\n",
      "Epoch 13/19\n",
      "----------\n",
      "train Loss: 0.1381 Acc: 0.9511\n",
      "val Loss: 0.3231 Acc: 0.9012\n",
      "\n",
      "Epoch 14/19\n",
      "----------\n",
      "train Loss: 0.1103 Acc: 0.9614\n",
      "val Loss: 0.3129 Acc: 0.9040\n",
      "\n",
      "Epoch 15/19\n",
      "----------\n",
      "train Loss: 0.0979 Acc: 0.9659\n",
      "val Loss: 0.3415 Acc: 0.9049\n",
      "\n",
      "Epoch 16/19\n",
      "----------\n",
      "train Loss: 0.0908 Acc: 0.9701\n",
      "val Loss: 0.3185 Acc: 0.9049\n",
      "\n",
      "Epoch 17/19\n",
      "----------\n",
      "train Loss: 0.0878 Acc: 0.9704\n",
      "val Loss: 0.3372 Acc: 0.9049\n",
      "\n",
      "Epoch 18/19\n",
      "----------\n",
      "train Loss: 0.0854 Acc: 0.9708\n",
      "val Loss: 0.3459 Acc: 0.8966\n",
      "\n",
      "Epoch 19/19\n",
      "----------\n",
      "train Loss: 0.0808 Acc: 0.9726\n",
      "val Loss: 0.3399 Acc: 0.9030\n",
      "\n",
      "Training complete in 44m 34s\n",
      "Best val Loss: 0.292831\n",
      "Shutting down background jobs, please wait a moment...\n",
      "Done!\n",
      "Waiting for the remaining 30 operations to synchronize with Neptune. Do not kill this process.\n",
      "All 30 operations synced, thanks for waiting!\n",
      "Explore the metadata in the Neptune app:\n",
      "https://app.neptune.ai/neas1231/Neas1231/e/NEAS-80/metadata\n"
     ]
    }
   ],
   "source": [
    "model_ft = train_model(model_ft, criterion, optimizer_ft, exp_lr_scheduler,\n",
    "                       num_epochs=20)\n",
    "torch.save(model_ft,'resnet34-bestloss.pth')\n",
    "torch.save(model_ft.state_dict(), \"weights-resnet34-bestloss.pth\")\n",
    "run.stop()"
   ]
  },
  {
   "cell_type": "code",
   "execution_count": 15,
   "id": "6c4a5381",
   "metadata": {},
   "outputs": [
    {
     "data": {
      "text/plain": [
       "10189"
      ]
     },
     "execution_count": 15,
     "metadata": {},
     "output_type": "execute_result"
    }
   ],
   "source": [
    "import gc\n",
    "torch.cuda.empty_cache()\n",
    "torch.cuda.memory_summary(device=None, abbreviated=False)\n",
    "gc.collect()"
   ]
  },
  {
   "cell_type": "code",
   "execution_count": 10,
   "id": "8bc591d8",
   "metadata": {},
   "outputs": [],
   "source": [
    "import os\n",
    "os.environ[\"PYTORCH_CUDA_ALLOC_CONF\"] = \"max_split_size_mb:8192\""
   ]
  },
  {
   "cell_type": "code",
   "execution_count": 7,
   "id": "834478ae",
   "metadata": {},
   "outputs": [
    {
     "name": "stdout",
     "output_type": "stream",
     "text": [
      "https://app.neptune.ai/neas1231/Neas1231/e/NEAS-69\n"
     ]
    }
   ],
   "source": [
    "run = neptune.init_run(\n",
    "    project=\"neas1231/Neas1231\",\n",
    "    api_token=\"eyJhcGlfYWRkcmVzcyI6Imh0dHBzOi8vYXBwLm5lcHR1bmUuYWkiLCJhcGlfdXJsIjoiaHR0cHM6Ly9hcHAubmVwdHVuZS5haSIsImFwaV9rZXkiOiJmY2VjMGIzOS01ZjI1LTQ1MTItODQxYi0zMjIyOWIwYWI0MzIifQ==\",\n",
    ")\n",
    "run[\"config/data_dir\"] = data_dir\n",
    "model_conv = torchvision.models.resnet18(pretrained=True)\n",
    "for param in model_conv.parameters():\n",
    "    param.requires_grad = False\n",
    "\n",
    "# Parameters of newly constructed modules have requires_grad=True by default\n",
    "num_ftrs = model_conv.fc.in_features\n",
    "\n",
    "model_conv = model_conv.to(device)\n",
    "\n",
    "criterion = nn.CrossEntropyLoss()\n",
    "\n",
    "# Observe that only parameters of final layer are being optimized as\n",
    "# opposed to before.\n",
    "optimizer_conv = optim.Adam(model_conv.fc.parameters(), lr=0.001)\n",
    "\n",
    "# Decay LR by a factor of 0.1 every 7 epochs\n",
    "exp_lr_scheduler = lr_scheduler.StepLR(optimizer_conv, step_size=7, gamma=0.1)"
   ]
  },
  {
   "cell_type": "code",
   "execution_count": null,
   "id": "0a42bfa0",
   "metadata": {},
   "outputs": [],
   "source": []
  }
 ],
 "metadata": {
  "kernelspec": {
   "display_name": "Python 3 (ipykernel)",
   "language": "python",
   "name": "python3"
  },
  "language_info": {
   "codemirror_mode": {
    "name": "ipython",
    "version": 3
   },
   "file_extension": ".py",
   "mimetype": "text/x-python",
   "name": "python",
   "nbconvert_exporter": "python",
   "pygments_lexer": "ipython3",
   "version": "3.9.16"
  }
 },
 "nbformat": 4,
 "nbformat_minor": 5
}
